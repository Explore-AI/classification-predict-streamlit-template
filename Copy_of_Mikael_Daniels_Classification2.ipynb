{
  "nbformat": 4,
  "nbformat_minor": 0,
  "metadata": {
    "colab": {
      "name": "Copy of Mikael_Daniels_Classification2.ipynb",
      "provenance": [],
      "collapsed_sections": [],
      "toc_visible": true,
      "include_colab_link": true
    },
    "kernelspec": {
      "name": "python3",
      "display_name": "Python 3"
    }
  },
  "cells": [
    {
      "cell_type": "markdown",
      "metadata": {
        "id": "view-in-github",
        "colab_type": "text"
      },
      "source": [
        "<a href=\"https://colab.research.google.com/github/Stephane-Masamba/Team_4_CPT_ML-Classification/blob/Mikael/Copy_of_Mikael_Daniels_Classification2.ipynb\" target=\"_parent\"><img src=\"https://colab.research.google.com/assets/colab-badge.svg\" alt=\"Open In Colab\"/></a>"
      ]
    },
    {
      "cell_type": "markdown",
      "metadata": {
        "id": "zeuHJ4dUysfz",
        "colab_type": "text"
      },
      "source": [
        "#                                       *Climate* *Change* *Belief* *Analysis*\n",
        "\n",
        "\n",
        "\n",
        "---\n",
        "\n",
        "\n",
        "\n",
        "\n",
        "\n",
        "\n",
        "\n",
        "\n",
        "\n"
      ]
    },
    {
      "cell_type": "markdown",
      "metadata": {
        "id": "l6oFAvBV8aRG",
        "colab_type": "text"
      },
      "source": [
        "#Introduction"
      ]
    },
    {
      "cell_type": "markdown",
      "metadata": {
        "id": "5zVp58ofzaYy",
        "colab_type": "text"
      },
      "source": [
        "Many companies are built around lessening their environmental impact and thus they offer products that are environmentally friendly and sustainable. With that, they would like to determine how people perceive climate change.\n",
        "\n",
        "\n",
        "\n",
        "\n"
      ]
    },
    {
      "cell_type": "markdown",
      "metadata": {
        "id": "EQID250M2YMt",
        "colab_type": "text"
      },
      "source": [
        "This notebook aims to build Machine Learning Classification model(s) that is able to classify accurately whether or not a person believes in climate change based on their novel tweet.\n",
        "\n",
        "This will be done by importing necesarry libraries as well as the training and test datasets. Data cleaning follows together with exploratory data analysis.We then wrap up the notebook by diving into different classification techniques under the Modelling section which will be followed by insights and a conclusion."
      ]
    },
    {
      "cell_type": "markdown",
      "metadata": {
        "id": "UATtp5dj6B-k",
        "colab_type": "text"
      },
      "source": [
        "The following are some of the few Classification techniques explored in this notebook:\n",
        "\n",
        "1.Support Vector Machines\n",
        "\n",
        "2.Bernoulli\n",
        "\n",
        "3.Multinomial\n",
        "\n",
        "4.Random Forest\n",
        "\n",
        "5.\n"
      ]
    },
    {
      "cell_type": "markdown",
      "metadata": {
        "id": "agQ7LkTh0Z2q",
        "colab_type": "text"
      },
      "source": [
        "#Imports"
      ]
    },
    {
      "cell_type": "markdown",
      "metadata": {
        "id": "752ir0eG1BUd",
        "colab_type": "text"
      },
      "source": [
        "###Import Libraries"
      ]
    },
    {
      "cell_type": "code",
      "metadata": {
        "id": "Nx6wBtTChk5U",
        "colab_type": "code",
        "colab": {
          "base_uri": "https://localhost:8080/",
          "height": 398
        },
        "outputId": "655d93b1-d89d-4ca6-a41b-33d052fde7ab"
      },
      "source": [
        "!pip install spacy\n",
        "!pip install NLTK"
      ],
      "execution_count": 3,
      "outputs": [
        {
          "output_type": "stream",
          "text": [
            "Requirement already satisfied: spacy in /usr/local/lib/python3.6/dist-packages (2.2.4)\n",
            "Requirement already satisfied: murmurhash<1.1.0,>=0.28.0 in /usr/local/lib/python3.6/dist-packages (from spacy) (1.0.2)\n",
            "Requirement already satisfied: cymem<2.1.0,>=2.0.2 in /usr/local/lib/python3.6/dist-packages (from spacy) (2.0.3)\n",
            "Requirement already satisfied: preshed<3.1.0,>=3.0.2 in /usr/local/lib/python3.6/dist-packages (from spacy) (3.0.2)\n",
            "Requirement already satisfied: numpy>=1.15.0 in /usr/local/lib/python3.6/dist-packages (from spacy) (1.18.5)\n",
            "Requirement already satisfied: thinc==7.4.0 in /usr/local/lib/python3.6/dist-packages (from spacy) (7.4.0)\n",
            "Requirement already satisfied: requests<3.0.0,>=2.13.0 in /usr/local/lib/python3.6/dist-packages (from spacy) (2.23.0)\n",
            "Requirement already satisfied: wasabi<1.1.0,>=0.4.0 in /usr/local/lib/python3.6/dist-packages (from spacy) (0.7.0)\n",
            "Requirement already satisfied: catalogue<1.1.0,>=0.0.7 in /usr/local/lib/python3.6/dist-packages (from spacy) (1.0.0)\n",
            "Requirement already satisfied: plac<1.2.0,>=0.9.6 in /usr/local/lib/python3.6/dist-packages (from spacy) (1.1.3)\n",
            "Requirement already satisfied: srsly<1.1.0,>=1.0.2 in /usr/local/lib/python3.6/dist-packages (from spacy) (1.0.2)\n",
            "Requirement already satisfied: tqdm<5.0.0,>=4.38.0 in /usr/local/lib/python3.6/dist-packages (from spacy) (4.41.1)\n",
            "Requirement already satisfied: setuptools in /usr/local/lib/python3.6/dist-packages (from spacy) (47.3.1)\n",
            "Requirement already satisfied: blis<0.5.0,>=0.4.0 in /usr/local/lib/python3.6/dist-packages (from spacy) (0.4.1)\n",
            "Requirement already satisfied: idna<3,>=2.5 in /usr/local/lib/python3.6/dist-packages (from requests<3.0.0,>=2.13.0->spacy) (2.9)\n",
            "Requirement already satisfied: certifi>=2017.4.17 in /usr/local/lib/python3.6/dist-packages (from requests<3.0.0,>=2.13.0->spacy) (2020.6.20)\n",
            "Requirement already satisfied: chardet<4,>=3.0.2 in /usr/local/lib/python3.6/dist-packages (from requests<3.0.0,>=2.13.0->spacy) (3.0.4)\n",
            "Requirement already satisfied: urllib3!=1.25.0,!=1.25.1,<1.26,>=1.21.1 in /usr/local/lib/python3.6/dist-packages (from requests<3.0.0,>=2.13.0->spacy) (1.24.3)\n",
            "Requirement already satisfied: importlib-metadata>=0.20; python_version < \"3.8\" in /usr/local/lib/python3.6/dist-packages (from catalogue<1.1.0,>=0.0.7->spacy) (1.6.1)\n",
            "Requirement already satisfied: zipp>=0.5 in /usr/local/lib/python3.6/dist-packages (from importlib-metadata>=0.20; python_version < \"3.8\"->catalogue<1.1.0,>=0.0.7->spacy) (3.1.0)\n",
            "Requirement already satisfied: NLTK in /usr/local/lib/python3.6/dist-packages (3.2.5)\n",
            "Requirement already satisfied: six in /usr/local/lib/python3.6/dist-packages (from NLTK) (1.12.0)\n"
          ],
          "name": "stdout"
        }
      ]
    },
    {
      "cell_type": "code",
      "metadata": {
        "id": "_vG_T9DtyqJe",
        "colab_type": "code",
        "colab": {}
      },
      "source": [
        "import numpy as np\n",
        "import pandas as pd\n",
        "import sklearn\n",
        "import matplotlib.pyplot as plt\n",
        "from numpy import arange\n",
        "\n",
        "import re\n",
        "import spacy.cli\n",
        "import nltk\n",
        "from nltk.corpus import stopwords\n",
        "from nltk.tokenize import word_tokenize\n",
        "\n",
        "from sklearn.model_selection import train_test_split\n",
        "from sklearn.model_selection import cross_val_score\n",
        "from sklearn.model_selection import GridSearchCV\n",
        "from sklearn.model_selection import  KFold\n",
        "\n",
        "from sklearn.metrics import accuracy_score, f1_score\n",
        "from sklearn.metrics import classification_report\n",
        "from sklearn.metrics import confusion_matrix\n",
        "\n",
        "from sklearn.feature_extraction.text import TfidfVectorizer\n",
        "\n",
        "from sklearn.utils import resample\n",
        "\n",
        "#Machine Learning Models\n",
        "from sklearn.naive_bayes import MultinomialNB, BernoulliNB\n",
        "from sklearn.svm import LinearSVC, SVC\n",
        "from sklearn.linear_model import SGDClassifier, LinearRegression\n",
        "from sklearn.ensemble import RandomForestClassifier, GradientBoostingClassifier, ExtraTreesClassifier, BaggingClassifier\n",
        "from sklearn.tree import DecisionTreeClassifier\n",
        "from sklearn.neighbors import KNeighborsClassifier\n",
        "from sklearn.gaussian_process import GaussianProcessClassifier\n",
        "\n",
        "from google.colab import drive"
      ],
      "execution_count": 4,
      "outputs": []
    },
    {
      "cell_type": "code",
      "metadata": {
        "id": "m3Qrj4YjijW6",
        "colab_type": "code",
        "colab": {
          "base_uri": "https://localhost:8080/",
          "height": 173
        },
        "outputId": "6a8b6049-c489-4f3f-c522-804ff8ddddd7"
      },
      "source": [
        "spacy.cli.download('en_core_web_sm')\n",
        "nltk.download('punkt')\n",
        "nltk.download('wordnet')\n",
        "nltk.download('stopwords')"
      ],
      "execution_count": 5,
      "outputs": [
        {
          "output_type": "stream",
          "text": [
            "\u001b[38;5;2m✔ Download and installation successful\u001b[0m\n",
            "You can now load the model via spacy.load('en_core_web_sm')\n",
            "[nltk_data] Downloading package punkt to /root/nltk_data...\n",
            "[nltk_data]   Package punkt is already up-to-date!\n",
            "[nltk_data] Downloading package wordnet to /root/nltk_data...\n",
            "[nltk_data]   Package wordnet is already up-to-date!\n",
            "[nltk_data] Downloading package stopwords to /root/nltk_data...\n",
            "[nltk_data]   Package stopwords is already up-to-date!\n"
          ],
          "name": "stdout"
        },
        {
          "output_type": "execute_result",
          "data": {
            "text/plain": [
              "True"
            ]
          },
          "metadata": {
            "tags": []
          },
          "execution_count": 5
        }
      ]
    },
    {
      "cell_type": "code",
      "metadata": {
        "id": "9wVx40yIkNQF",
        "colab_type": "code",
        "colab": {}
      },
      "source": [
        "nlp = spacy.load('en_core_web_sm')"
      ],
      "execution_count": 6,
      "outputs": []
    },
    {
      "cell_type": "markdown",
      "metadata": {
        "colab_type": "text",
        "id": "BJlh_PGlCMbF"
      },
      "source": [
        "#Read in the datasets"
      ]
    },
    {
      "cell_type": "code",
      "metadata": {
        "id": "X2ZRcRRWjCn9",
        "colab_type": "code",
        "colab": {
          "base_uri": "https://localhost:8080/",
          "height": 121
        },
        "outputId": "f89baf4e-0ac3-46ef-c219-acfce1a02bae"
      },
      "source": [
        "train = pd.read_csv('https://raw.githubusercontent.com/Stephane-Masamba/Team_4_CPT_ML-Classification/Mikael/train%20(1).csv')\n",
        "print(train.head())"
      ],
      "execution_count": 7,
      "outputs": [
        {
          "output_type": "stream",
          "text": [
            "   sentiment                                            message  tweetid\n",
            "0          1  PolySciMajor EPA chief doesn't think carbon di...   625221\n",
            "1          1  It's not like we lack evidence of anthropogeni...   126103\n",
            "2          2  RT @RawStory: Researchers say we have three ye...   698562\n",
            "3          1  #TodayinMaker# WIRED : 2016 was a pivotal year...   573736\n",
            "4          1  RT @SoyNovioDeTodas: It's 2016, and a racist, ...   466954\n"
          ],
          "name": "stdout"
        }
      ]
    },
    {
      "cell_type": "code",
      "metadata": {
        "id": "Hx6btvpljPtK",
        "colab_type": "code",
        "colab": {
          "base_uri": "https://localhost:8080/",
          "height": 121
        },
        "outputId": "47f30976-cbc7-48e8-bb3a-1f450024f6bb"
      },
      "source": [
        "test = pd.read_csv('https://raw.githubusercontent.com/Stephane-Masamba/Team_4_CPT_ML-Classification/Mikael/test%20(1).csv')\n",
        "print(test.head())"
      ],
      "execution_count": 8,
      "outputs": [
        {
          "output_type": "stream",
          "text": [
            "                                             message  tweetid\n",
            "0  Europe will now be looking to China to make su...   169760\n",
            "1  Combine this with the polling of staffers re c...    35326\n",
            "2  The scary, unimpeachable evidence that climate...   224985\n",
            "3  @Karoli @morgfair @OsborneInk @dailykos \\nPuti...   476263\n",
            "4  RT @FakeWillMoore: 'Female orgasms cause globa...   872928\n"
          ],
          "name": "stdout"
        }
      ]
    },
    {
      "cell_type": "markdown",
      "metadata": {
        "id": "nEX1mlx8sTik",
        "colab_type": "text"
      },
      "source": [
        "#Data description"
      ]
    },
    {
      "cell_type": "markdown",
      "metadata": {
        "id": "L45f3HkDsfRz",
        "colab_type": "text"
      },
      "source": [
        "The data available aggregates tweets pertaining to climate change collected between Apr 27, 2015 and Feb 21, 2018. In total, 43943 tweets were collected. Each tweet is labelled as one of four classes.\n",
        "\n"
      ]
    },
    {
      "cell_type": "markdown",
      "metadata": {
        "id": "C1_Fc6KOtr1p",
        "colab_type": "text"
      },
      "source": [
        "###Classes and description\n",
        "\n",
        "Class 2 : News-the tweet links to factual news about climate change\n",
        "\n",
        "Class 1 : Pro-the tweet supports the belief of man-made climate change\n",
        "\n",
        "Class 0 : Neutral-the tweet neither supports nor refutes the belief of man-made climate change\n",
        "\n",
        "Class -1 : Anti-the tweet does not believe in man-made climate change"
      ]
    },
    {
      "cell_type": "markdown",
      "metadata": {
        "id": "2oxDAZRmsadV",
        "colab_type": "text"
      },
      "source": [
        "###Variables definitions\n",
        "\n",
        "sentiment: Sentiment of tweet\n",
        "\n",
        "message: Tweet body\n",
        "\n",
        "tweetid: Twitter unique id"
      ]
    },
    {
      "cell_type": "markdown",
      "metadata": {
        "id": "GjJmKNotNBmv",
        "colab_type": "text"
      },
      "source": [
        "#Data Cleaning"
      ]
    },
    {
      "cell_type": "markdown",
      "metadata": {
        "id": "zwefjbFg2T1L",
        "colab_type": "text"
      },
      "source": [
        "Knowing that we are dealing with text data, we decided to first clean the data by making all tweets lower-case, removing punctuation marks and removing white spaces before doing anything else. Also, replacing all links with the word 'LINK' and all user handles with 'USER_REF'"
      ]
    },
    {
      "cell_type": "code",
      "metadata": {
        "id": "-FT0mtEVjZv2",
        "colab_type": "code",
        "colab": {}
      },
      "source": [
        "def clean_text(df):\n",
        "    i = 0\n",
        "    for tweet in df['message']:\n",
        "      tweet = tweet.lower()\n",
        "      tweet = re.sub(r'http\\S+', 'LINK', tweet)\n",
        "      tweet = re.sub(r'@\\S+', 'USER_REF', tweet)\n",
        "      tweet = re.sub(r'[^\\w\\s]', '', tweet)\n",
        "      tweet = tweet.lstrip()\n",
        "      tweet = tweet.rstrip()\n",
        "      tweet = tweet.replace('  ', ' ')\n",
        "      df.loc[i, 'message'] = tweet\n",
        "      i += 1\n",
        "\n",
        "      return df"
      ],
      "execution_count": 103,
      "outputs": []
    },
    {
      "cell_type": "code",
      "metadata": {
        "id": "imNo7YM9PDvu",
        "colab_type": "code",
        "colab": {
          "base_uri": "https://localhost:8080/",
          "height": 416
        },
        "outputId": "16274b7a-7ec8-4727-c734-ded8cac328fe"
      },
      "source": [
        "clean_text(train)\n",
        "train"
      ],
      "execution_count": 10,
      "outputs": [
        {
          "output_type": "execute_result",
          "data": {
            "text/html": [
              "<div>\n",
              "<style scoped>\n",
              "    .dataframe tbody tr th:only-of-type {\n",
              "        vertical-align: middle;\n",
              "    }\n",
              "\n",
              "    .dataframe tbody tr th {\n",
              "        vertical-align: top;\n",
              "    }\n",
              "\n",
              "    .dataframe thead th {\n",
              "        text-align: right;\n",
              "    }\n",
              "</style>\n",
              "<table border=\"1\" class=\"dataframe\">\n",
              "  <thead>\n",
              "    <tr style=\"text-align: right;\">\n",
              "      <th></th>\n",
              "      <th>sentiment</th>\n",
              "      <th>message</th>\n",
              "      <th>tweetid</th>\n",
              "    </tr>\n",
              "  </thead>\n",
              "  <tbody>\n",
              "    <tr>\n",
              "      <th>0</th>\n",
              "      <td>1</td>\n",
              "      <td>polyscimajor epa chief doesnt think carbon dio...</td>\n",
              "      <td>625221</td>\n",
              "    </tr>\n",
              "    <tr>\n",
              "      <th>1</th>\n",
              "      <td>1</td>\n",
              "      <td>its not like we lack evidence of anthropogenic...</td>\n",
              "      <td>126103</td>\n",
              "    </tr>\n",
              "    <tr>\n",
              "      <th>2</th>\n",
              "      <td>2</td>\n",
              "      <td>rt USER_REF researchers say we have three year...</td>\n",
              "      <td>698562</td>\n",
              "    </tr>\n",
              "    <tr>\n",
              "      <th>3</th>\n",
              "      <td>1</td>\n",
              "      <td>todayinmaker wired 2016 was a pivotal year in ...</td>\n",
              "      <td>573736</td>\n",
              "    </tr>\n",
              "    <tr>\n",
              "      <th>4</th>\n",
              "      <td>1</td>\n",
              "      <td>rt USER_REF its 2016 and a racist sexist clima...</td>\n",
              "      <td>466954</td>\n",
              "    </tr>\n",
              "    <tr>\n",
              "      <th>...</th>\n",
              "      <td>...</td>\n",
              "      <td>...</td>\n",
              "      <td>...</td>\n",
              "    </tr>\n",
              "    <tr>\n",
              "      <th>15814</th>\n",
              "      <td>1</td>\n",
              "      <td>rt USER_REF they took down the material on glo...</td>\n",
              "      <td>22001</td>\n",
              "    </tr>\n",
              "    <tr>\n",
              "      <th>15815</th>\n",
              "      <td>2</td>\n",
              "      <td>rt USER_REF how climate change could be breaki...</td>\n",
              "      <td>17856</td>\n",
              "    </tr>\n",
              "    <tr>\n",
              "      <th>15816</th>\n",
              "      <td>0</td>\n",
              "      <td>notiven rt nytimesworld what does trump actual...</td>\n",
              "      <td>384248</td>\n",
              "    </tr>\n",
              "    <tr>\n",
              "      <th>15817</th>\n",
              "      <td>-1</td>\n",
              "      <td>rt USER_REF hey liberals the climate change cr...</td>\n",
              "      <td>819732</td>\n",
              "    </tr>\n",
              "    <tr>\n",
              "      <th>15818</th>\n",
              "      <td>0</td>\n",
              "      <td>rt USER_REF USER_REF climate change equation i...</td>\n",
              "      <td>806319</td>\n",
              "    </tr>\n",
              "  </tbody>\n",
              "</table>\n",
              "<p>15819 rows × 3 columns</p>\n",
              "</div>"
            ],
            "text/plain": [
              "       sentiment                                            message  tweetid\n",
              "0              1  polyscimajor epa chief doesnt think carbon dio...   625221\n",
              "1              1  its not like we lack evidence of anthropogenic...   126103\n",
              "2              2  rt USER_REF researchers say we have three year...   698562\n",
              "3              1  todayinmaker wired 2016 was a pivotal year in ...   573736\n",
              "4              1  rt USER_REF its 2016 and a racist sexist clima...   466954\n",
              "...          ...                                                ...      ...\n",
              "15814          1  rt USER_REF they took down the material on glo...    22001\n",
              "15815          2  rt USER_REF how climate change could be breaki...    17856\n",
              "15816          0  notiven rt nytimesworld what does trump actual...   384248\n",
              "15817         -1  rt USER_REF hey liberals the climate change cr...   819732\n",
              "15818          0  rt USER_REF USER_REF climate change equation i...   806319\n",
              "\n",
              "[15819 rows x 3 columns]"
            ]
          },
          "metadata": {
            "tags": []
          },
          "execution_count": 10
        }
      ]
    },
    {
      "cell_type": "code",
      "metadata": {
        "id": "XZGhAPi_TIl6",
        "colab_type": "code",
        "colab": {}
      },
      "source": [
        "clean_text(test)"
      ],
      "execution_count": 11,
      "outputs": []
    },
    {
      "cell_type": "markdown",
      "metadata": {
        "id": "IGiWpv04215t",
        "colab_type": "text"
      },
      "source": [
        "Here we add 'LINK' and 'USER_REF' to our list of stop words and remove all stop words from each tweet"
      ]
    },
    {
      "cell_type": "code",
      "metadata": {
        "id": "bRaM34T3jkNJ",
        "colab_type": "code",
        "colab": {}
      },
      "source": [
        "def remove_stopwords(df):\n",
        "    my_stop_words = stopwords.words('english')\n",
        "    my_stop_words.append('LINK')\n",
        "    my_stop_words.append('USER_REF')\n",
        "\n",
        "    df_index = 0\n",
        "\n",
        "    for tweet in df['message']:\n",
        "      tweet = word_tokenize(tweet)\n",
        "      tweet = [word for word in tweet if not word in my_stop_words]\n",
        "      tweet = ' '.join(tweet)\n",
        "\n",
        "      df.loc[df_index, 'message'] = tweet\n",
        "      df_index += 1\n",
        "\n",
        "    return df"
      ],
      "execution_count": 12,
      "outputs": []
    },
    {
      "cell_type": "code",
      "metadata": {
        "id": "-k21QOvEBoUi",
        "colab_type": "code",
        "colab": {
          "base_uri": "https://localhost:8080/",
          "height": 416
        },
        "outputId": "6d5e3464-b737-4152-f553-fbf4fa0295ed"
      },
      "source": [
        "remove_stopwords(train)"
      ],
      "execution_count": 13,
      "outputs": [
        {
          "output_type": "execute_result",
          "data": {
            "text/html": [
              "<div>\n",
              "<style scoped>\n",
              "    .dataframe tbody tr th:only-of-type {\n",
              "        vertical-align: middle;\n",
              "    }\n",
              "\n",
              "    .dataframe tbody tr th {\n",
              "        vertical-align: top;\n",
              "    }\n",
              "\n",
              "    .dataframe thead th {\n",
              "        text-align: right;\n",
              "    }\n",
              "</style>\n",
              "<table border=\"1\" class=\"dataframe\">\n",
              "  <thead>\n",
              "    <tr style=\"text-align: right;\">\n",
              "      <th></th>\n",
              "      <th>sentiment</th>\n",
              "      <th>message</th>\n",
              "      <th>tweetid</th>\n",
              "    </tr>\n",
              "  </thead>\n",
              "  <tbody>\n",
              "    <tr>\n",
              "      <th>0</th>\n",
              "      <td>1</td>\n",
              "      <td>polyscimajor epa chief doesnt think carbon dio...</td>\n",
              "      <td>625221</td>\n",
              "    </tr>\n",
              "    <tr>\n",
              "      <th>1</th>\n",
              "      <td>1</td>\n",
              "      <td>like lack evidence anthropogenic global warming</td>\n",
              "      <td>126103</td>\n",
              "    </tr>\n",
              "    <tr>\n",
              "      <th>2</th>\n",
              "      <td>2</td>\n",
              "      <td>rt researchers say three years act climate cha...</td>\n",
              "      <td>698562</td>\n",
              "    </tr>\n",
              "    <tr>\n",
              "      <th>3</th>\n",
              "      <td>1</td>\n",
              "      <td>todayinmaker wired 2016 pivotal year war clima...</td>\n",
              "      <td>573736</td>\n",
              "    </tr>\n",
              "    <tr>\n",
              "      <th>4</th>\n",
              "      <td>1</td>\n",
              "      <td>rt 2016 racist sexist climate change denying b...</td>\n",
              "      <td>466954</td>\n",
              "    </tr>\n",
              "    <tr>\n",
              "      <th>...</th>\n",
              "      <td>...</td>\n",
              "      <td>...</td>\n",
              "      <td>...</td>\n",
              "    </tr>\n",
              "    <tr>\n",
              "      <th>15814</th>\n",
              "      <td>1</td>\n",
              "      <td>rt took material global warming lgbt rights he...</td>\n",
              "      <td>22001</td>\n",
              "    </tr>\n",
              "    <tr>\n",
              "      <th>15815</th>\n",
              "      <td>2</td>\n",
              "      <td>rt climate change could breaking 200millionyea...</td>\n",
              "      <td>17856</td>\n",
              "    </tr>\n",
              "    <tr>\n",
              "      <th>15816</th>\n",
              "      <td>0</td>\n",
              "      <td>notiven rt nytimesworld trump actually believe...</td>\n",
              "      <td>384248</td>\n",
              "    </tr>\n",
              "    <tr>\n",
              "      <th>15817</th>\n",
              "      <td>-1</td>\n",
              "      <td>rt hey liberals climate change crap hoax ties ...</td>\n",
              "      <td>819732</td>\n",
              "    </tr>\n",
              "    <tr>\n",
              "      <th>15818</th>\n",
              "      <td>0</td>\n",
              "      <td>rt climate change equation 4 screenshots</td>\n",
              "      <td>806319</td>\n",
              "    </tr>\n",
              "  </tbody>\n",
              "</table>\n",
              "<p>15819 rows × 3 columns</p>\n",
              "</div>"
            ],
            "text/plain": [
              "       sentiment                                            message  tweetid\n",
              "0              1  polyscimajor epa chief doesnt think carbon dio...   625221\n",
              "1              1    like lack evidence anthropogenic global warming   126103\n",
              "2              2  rt researchers say three years act climate cha...   698562\n",
              "3              1  todayinmaker wired 2016 pivotal year war clima...   573736\n",
              "4              1  rt 2016 racist sexist climate change denying b...   466954\n",
              "...          ...                                                ...      ...\n",
              "15814          1  rt took material global warming lgbt rights he...    22001\n",
              "15815          2  rt climate change could breaking 200millionyea...    17856\n",
              "15816          0  notiven rt nytimesworld trump actually believe...   384248\n",
              "15817         -1  rt hey liberals climate change crap hoax ties ...   819732\n",
              "15818          0           rt climate change equation 4 screenshots   806319\n",
              "\n",
              "[15819 rows x 3 columns]"
            ]
          },
          "metadata": {
            "tags": []
          },
          "execution_count": 13
        }
      ]
    },
    {
      "cell_type": "code",
      "metadata": {
        "id": "E2Szdx35TM4F",
        "colab_type": "code",
        "colab": {
          "base_uri": "https://localhost:8080/",
          "height": 416
        },
        "outputId": "5f561bf6-c797-4f28-b9a6-ef6c71f575de"
      },
      "source": [
        "remove_stopwords(test)"
      ],
      "execution_count": 15,
      "outputs": [
        {
          "output_type": "execute_result",
          "data": {
            "text/html": [
              "<div>\n",
              "<style scoped>\n",
              "    .dataframe tbody tr th:only-of-type {\n",
              "        vertical-align: middle;\n",
              "    }\n",
              "\n",
              "    .dataframe tbody tr th {\n",
              "        vertical-align: top;\n",
              "    }\n",
              "\n",
              "    .dataframe thead th {\n",
              "        text-align: right;\n",
              "    }\n",
              "</style>\n",
              "<table border=\"1\" class=\"dataframe\">\n",
              "  <thead>\n",
              "    <tr style=\"text-align: right;\">\n",
              "      <th></th>\n",
              "      <th>message</th>\n",
              "      <th>tweetid</th>\n",
              "    </tr>\n",
              "  </thead>\n",
              "  <tbody>\n",
              "    <tr>\n",
              "      <th>0</th>\n",
              "      <td>europe looking china make sure alone fighting ...</td>\n",
              "      <td>169760</td>\n",
              "    </tr>\n",
              "    <tr>\n",
              "      <th>1</th>\n",
              "      <td>combine polling staffers climate change womens...</td>\n",
              "      <td>35326</td>\n",
              "    </tr>\n",
              "    <tr>\n",
              "      <th>2</th>\n",
              "      <td>scary unimpeachable evidence climate change al...</td>\n",
              "      <td>224985</td>\n",
              "    </tr>\n",
              "    <tr>\n",
              "      <th>3</th>\n",
              "      <td>putin got jill trump doesnt believe climate ch...</td>\n",
              "      <td>476263</td>\n",
              "    </tr>\n",
              "    <tr>\n",
              "      <th>4</th>\n",
              "      <td>rt female orgasms cause global warming sarcast...</td>\n",
              "      <td>872928</td>\n",
              "    </tr>\n",
              "    <tr>\n",
              "      <th>...</th>\n",
              "      <td>...</td>\n",
              "      <td>...</td>\n",
              "    </tr>\n",
              "    <tr>\n",
              "      <th>10541</th>\n",
              "      <td>rt brb writing poem climate change climatechan...</td>\n",
              "      <td>895714</td>\n",
              "    </tr>\n",
              "    <tr>\n",
              "      <th>10542</th>\n",
              "      <td>2016 year climate change came home hottest yea...</td>\n",
              "      <td>875167</td>\n",
              "    </tr>\n",
              "    <tr>\n",
              "      <th>10543</th>\n",
              "      <td>rt pacific countries positive fiji leading glo...</td>\n",
              "      <td>78329</td>\n",
              "    </tr>\n",
              "    <tr>\n",
              "      <th>10544</th>\n",
              "      <td>rt youre hot must cause global warming aldubla...</td>\n",
              "      <td>867455</td>\n",
              "    </tr>\n",
              "    <tr>\n",
              "      <th>10545</th>\n",
              "      <td>rt climate change global issue thats getting w...</td>\n",
              "      <td>470892</td>\n",
              "    </tr>\n",
              "  </tbody>\n",
              "</table>\n",
              "<p>10546 rows × 2 columns</p>\n",
              "</div>"
            ],
            "text/plain": [
              "                                                 message  tweetid\n",
              "0      europe looking china make sure alone fighting ...   169760\n",
              "1      combine polling staffers climate change womens...    35326\n",
              "2      scary unimpeachable evidence climate change al...   224985\n",
              "3      putin got jill trump doesnt believe climate ch...   476263\n",
              "4      rt female orgasms cause global warming sarcast...   872928\n",
              "...                                                  ...      ...\n",
              "10541  rt brb writing poem climate change climatechan...   895714\n",
              "10542  2016 year climate change came home hottest yea...   875167\n",
              "10543  rt pacific countries positive fiji leading glo...    78329\n",
              "10544  rt youre hot must cause global warming aldubla...   867455\n",
              "10545  rt climate change global issue thats getting w...   470892\n",
              "\n",
              "[10546 rows x 2 columns]"
            ]
          },
          "metadata": {
            "tags": []
          },
          "execution_count": 15
        }
      ]
    },
    {
      "cell_type": "markdown",
      "metadata": {
        "id": "jsRm6MAD3Gqb",
        "colab_type": "text"
      },
      "source": [
        "###Find all named entities for each tweet"
      ]
    },
    {
      "cell_type": "code",
      "metadata": {
        "id": "4HISNTJcj9tI",
        "colab_type": "code",
        "colab": {}
      },
      "source": [
        "def entities(df):\n",
        "    df_index = 0\n",
        "\n",
        "    for tweet in df['message']:\n",
        "      tweet = nlp(tweet)\n",
        "\n",
        "      for entity in tweet.ents:\n",
        "        df.loc[df_index, 'message'] = df.loc[df_index, 'message'].replace(str(entity.text), str(entity.label_))\n",
        "\n",
        "      df_index += 1\n",
        "\n",
        "      return df"
      ],
      "execution_count": 17,
      "outputs": []
    },
    {
      "cell_type": "code",
      "metadata": {
        "id": "ohas__j-QFGV",
        "colab_type": "code",
        "colab": {
          "base_uri": "https://localhost:8080/",
          "height": 416
        },
        "outputId": "27b65f5a-514c-4834-ae24-f5427cc8c6da"
      },
      "source": [
        "entities(train)"
      ],
      "execution_count": 18,
      "outputs": [
        {
          "output_type": "execute_result",
          "data": {
            "text/html": [
              "<div>\n",
              "<style scoped>\n",
              "    .dataframe tbody tr th:only-of-type {\n",
              "        vertical-align: middle;\n",
              "    }\n",
              "\n",
              "    .dataframe tbody tr th {\n",
              "        vertical-align: top;\n",
              "    }\n",
              "\n",
              "    .dataframe thead th {\n",
              "        text-align: right;\n",
              "    }\n",
              "</style>\n",
              "<table border=\"1\" class=\"dataframe\">\n",
              "  <thead>\n",
              "    <tr style=\"text-align: right;\">\n",
              "      <th></th>\n",
              "      <th>sentiment</th>\n",
              "      <th>message</th>\n",
              "      <th>tweetid</th>\n",
              "    </tr>\n",
              "  </thead>\n",
              "  <tbody>\n",
              "    <tr>\n",
              "      <th>0</th>\n",
              "      <td>1</td>\n",
              "      <td>ORG chief doesnt think carbon dioxide main cau...</td>\n",
              "      <td>625221</td>\n",
              "    </tr>\n",
              "    <tr>\n",
              "      <th>1</th>\n",
              "      <td>1</td>\n",
              "      <td>like lack evidence anthropogenic global warming</td>\n",
              "      <td>126103</td>\n",
              "    </tr>\n",
              "    <tr>\n",
              "      <th>2</th>\n",
              "      <td>2</td>\n",
              "      <td>rt researchers say three years act climate cha...</td>\n",
              "      <td>698562</td>\n",
              "    </tr>\n",
              "    <tr>\n",
              "      <th>3</th>\n",
              "      <td>1</td>\n",
              "      <td>todayinmaker wired 2016 pivotal year war clima...</td>\n",
              "      <td>573736</td>\n",
              "    </tr>\n",
              "    <tr>\n",
              "      <th>4</th>\n",
              "      <td>1</td>\n",
              "      <td>rt 2016 racist sexist climate change denying b...</td>\n",
              "      <td>466954</td>\n",
              "    </tr>\n",
              "    <tr>\n",
              "      <th>...</th>\n",
              "      <td>...</td>\n",
              "      <td>...</td>\n",
              "      <td>...</td>\n",
              "    </tr>\n",
              "    <tr>\n",
              "      <th>15814</th>\n",
              "      <td>1</td>\n",
              "      <td>rt took material global warming lgbt rights he...</td>\n",
              "      <td>22001</td>\n",
              "    </tr>\n",
              "    <tr>\n",
              "      <th>15815</th>\n",
              "      <td>2</td>\n",
              "      <td>rt climate change could breaking 200millionyea...</td>\n",
              "      <td>17856</td>\n",
              "    </tr>\n",
              "    <tr>\n",
              "      <th>15816</th>\n",
              "      <td>0</td>\n",
              "      <td>notiven rt nytimesworld trump actually believe...</td>\n",
              "      <td>384248</td>\n",
              "    </tr>\n",
              "    <tr>\n",
              "      <th>15817</th>\n",
              "      <td>-1</td>\n",
              "      <td>rt hey liberals climate change crap hoax ties ...</td>\n",
              "      <td>819732</td>\n",
              "    </tr>\n",
              "    <tr>\n",
              "      <th>15818</th>\n",
              "      <td>0</td>\n",
              "      <td>rt climate change equation 4 screenshots</td>\n",
              "      <td>806319</td>\n",
              "    </tr>\n",
              "  </tbody>\n",
              "</table>\n",
              "<p>15819 rows × 3 columns</p>\n",
              "</div>"
            ],
            "text/plain": [
              "       sentiment                                            message  tweetid\n",
              "0              1  ORG chief doesnt think carbon dioxide main cau...   625221\n",
              "1              1    like lack evidence anthropogenic global warming   126103\n",
              "2              2  rt researchers say three years act climate cha...   698562\n",
              "3              1  todayinmaker wired 2016 pivotal year war clima...   573736\n",
              "4              1  rt 2016 racist sexist climate change denying b...   466954\n",
              "...          ...                                                ...      ...\n",
              "15814          1  rt took material global warming lgbt rights he...    22001\n",
              "15815          2  rt climate change could breaking 200millionyea...    17856\n",
              "15816          0  notiven rt nytimesworld trump actually believe...   384248\n",
              "15817         -1  rt hey liberals climate change crap hoax ties ...   819732\n",
              "15818          0           rt climate change equation 4 screenshots   806319\n",
              "\n",
              "[15819 rows x 3 columns]"
            ]
          },
          "metadata": {
            "tags": []
          },
          "execution_count": 18
        }
      ]
    },
    {
      "cell_type": "code",
      "metadata": {
        "id": "lmL3Ad3rTZHC",
        "colab_type": "code",
        "colab": {
          "base_uri": "https://localhost:8080/",
          "height": 416
        },
        "outputId": "65359711-1144-4f9b-dcbf-9c9dffbcc183"
      },
      "source": [
        "entities(test)"
      ],
      "execution_count": 19,
      "outputs": [
        {
          "output_type": "execute_result",
          "data": {
            "text/html": [
              "<div>\n",
              "<style scoped>\n",
              "    .dataframe tbody tr th:only-of-type {\n",
              "        vertical-align: middle;\n",
              "    }\n",
              "\n",
              "    .dataframe tbody tr th {\n",
              "        vertical-align: top;\n",
              "    }\n",
              "\n",
              "    .dataframe thead th {\n",
              "        text-align: right;\n",
              "    }\n",
              "</style>\n",
              "<table border=\"1\" class=\"dataframe\">\n",
              "  <thead>\n",
              "    <tr style=\"text-align: right;\">\n",
              "      <th></th>\n",
              "      <th>message</th>\n",
              "      <th>tweetid</th>\n",
              "    </tr>\n",
              "  </thead>\n",
              "  <tbody>\n",
              "    <tr>\n",
              "      <th>0</th>\n",
              "      <td>LOC looking GPE make sure alone fighting clima...</td>\n",
              "      <td>169760</td>\n",
              "    </tr>\n",
              "    <tr>\n",
              "      <th>1</th>\n",
              "      <td>combine polling staffers climate change womens...</td>\n",
              "      <td>35326</td>\n",
              "    </tr>\n",
              "    <tr>\n",
              "      <th>2</th>\n",
              "      <td>scary unimpeachable evidence climate change al...</td>\n",
              "      <td>224985</td>\n",
              "    </tr>\n",
              "    <tr>\n",
              "      <th>3</th>\n",
              "      <td>putin got jill trump doesnt believe climate ch...</td>\n",
              "      <td>476263</td>\n",
              "    </tr>\n",
              "    <tr>\n",
              "      <th>4</th>\n",
              "      <td>rt female orgasms cause global warming sarcast...</td>\n",
              "      <td>872928</td>\n",
              "    </tr>\n",
              "    <tr>\n",
              "      <th>...</th>\n",
              "      <td>...</td>\n",
              "      <td>...</td>\n",
              "    </tr>\n",
              "    <tr>\n",
              "      <th>10541</th>\n",
              "      <td>rt brb writing poem climate change climatechan...</td>\n",
              "      <td>895714</td>\n",
              "    </tr>\n",
              "    <tr>\n",
              "      <th>10542</th>\n",
              "      <td>2016 year climate change came home hottest yea...</td>\n",
              "      <td>875167</td>\n",
              "    </tr>\n",
              "    <tr>\n",
              "      <th>10543</th>\n",
              "      <td>rt pacific countries positive fiji leading glo...</td>\n",
              "      <td>78329</td>\n",
              "    </tr>\n",
              "    <tr>\n",
              "      <th>10544</th>\n",
              "      <td>rt youre hot must cause global warming aldubla...</td>\n",
              "      <td>867455</td>\n",
              "    </tr>\n",
              "    <tr>\n",
              "      <th>10545</th>\n",
              "      <td>rt climate change global issue thats getting w...</td>\n",
              "      <td>470892</td>\n",
              "    </tr>\n",
              "  </tbody>\n",
              "</table>\n",
              "<p>10546 rows × 2 columns</p>\n",
              "</div>"
            ],
            "text/plain": [
              "                                                 message  tweetid\n",
              "0      LOC looking GPE make sure alone fighting clima...   169760\n",
              "1      combine polling staffers climate change womens...    35326\n",
              "2      scary unimpeachable evidence climate change al...   224985\n",
              "3      putin got jill trump doesnt believe climate ch...   476263\n",
              "4      rt female orgasms cause global warming sarcast...   872928\n",
              "...                                                  ...      ...\n",
              "10541  rt brb writing poem climate change climatechan...   895714\n",
              "10542  2016 year climate change came home hottest yea...   875167\n",
              "10543  rt pacific countries positive fiji leading glo...    78329\n",
              "10544  rt youre hot must cause global warming aldubla...   867455\n",
              "10545  rt climate change global issue thats getting w...   470892\n",
              "\n",
              "[10546 rows x 2 columns]"
            ]
          },
          "metadata": {
            "tags": []
          },
          "execution_count": 19
        }
      ]
    },
    {
      "cell_type": "markdown",
      "metadata": {
        "id": "tCbgGYy83POz",
        "colab_type": "text"
      },
      "source": [
        "###Lemmatize every word in each tweet"
      ]
    },
    {
      "cell_type": "code",
      "metadata": {
        "id": "A490Wi48k_gs",
        "colab_type": "code",
        "colab": {}
      },
      "source": [
        "def lem_text(df):\n",
        "    df_index = 0\n",
        "\n",
        "    for tweet in df['message']:\n",
        "      tweet = nlp(tweet)\n",
        "      \n",
        "      for token in tweet:\n",
        "        df.loc[df_index, 'message'] = df.loc[df_index, 'message'].replace(str(token.text), str(token.lemma_))\n",
        "\n",
        "      df_index += 1\n",
        "\n",
        "      return df"
      ],
      "execution_count": 20,
      "outputs": []
    },
    {
      "cell_type": "code",
      "metadata": {
        "id": "LNMW3AsWRVAA",
        "colab_type": "code",
        "colab": {
          "base_uri": "https://localhost:8080/",
          "height": 416
        },
        "outputId": "cbef34ad-3957-459a-b4dd-dbc5cc405ff7"
      },
      "source": [
        "lem_text(train)"
      ],
      "execution_count": 21,
      "outputs": [
        {
          "output_type": "execute_result",
          "data": {
            "text/html": [
              "<div>\n",
              "<style scoped>\n",
              "    .dataframe tbody tr th:only-of-type {\n",
              "        vertical-align: middle;\n",
              "    }\n",
              "\n",
              "    .dataframe tbody tr th {\n",
              "        vertical-align: top;\n",
              "    }\n",
              "\n",
              "    .dataframe thead th {\n",
              "        text-align: right;\n",
              "    }\n",
              "</style>\n",
              "<table border=\"1\" class=\"dataframe\">\n",
              "  <thead>\n",
              "    <tr style=\"text-align: right;\">\n",
              "      <th></th>\n",
              "      <th>sentiment</th>\n",
              "      <th>message</th>\n",
              "      <th>tweetid</th>\n",
              "    </tr>\n",
              "  </thead>\n",
              "  <tbody>\n",
              "    <tr>\n",
              "      <th>0</th>\n",
              "      <td>1</td>\n",
              "      <td>ORG chief donot think carbon dioxide main caus...</td>\n",
              "      <td>625221</td>\n",
              "    </tr>\n",
              "    <tr>\n",
              "      <th>1</th>\n",
              "      <td>1</td>\n",
              "      <td>like lack evidence anthropogenic global warming</td>\n",
              "      <td>126103</td>\n",
              "    </tr>\n",
              "    <tr>\n",
              "      <th>2</th>\n",
              "      <td>2</td>\n",
              "      <td>rt researchers say three years act climate cha...</td>\n",
              "      <td>698562</td>\n",
              "    </tr>\n",
              "    <tr>\n",
              "      <th>3</th>\n",
              "      <td>1</td>\n",
              "      <td>todayinmaker wired 2016 pivotal year war clima...</td>\n",
              "      <td>573736</td>\n",
              "    </tr>\n",
              "    <tr>\n",
              "      <th>4</th>\n",
              "      <td>1</td>\n",
              "      <td>rt 2016 racist sexist climate change denying b...</td>\n",
              "      <td>466954</td>\n",
              "    </tr>\n",
              "    <tr>\n",
              "      <th>...</th>\n",
              "      <td>...</td>\n",
              "      <td>...</td>\n",
              "      <td>...</td>\n",
              "    </tr>\n",
              "    <tr>\n",
              "      <th>15814</th>\n",
              "      <td>1</td>\n",
              "      <td>rt took material global warming lgbt rights he...</td>\n",
              "      <td>22001</td>\n",
              "    </tr>\n",
              "    <tr>\n",
              "      <th>15815</th>\n",
              "      <td>2</td>\n",
              "      <td>rt climate change could breaking 200millionyea...</td>\n",
              "      <td>17856</td>\n",
              "    </tr>\n",
              "    <tr>\n",
              "      <th>15816</th>\n",
              "      <td>0</td>\n",
              "      <td>notiven rt nytimesworld trump actually believe...</td>\n",
              "      <td>384248</td>\n",
              "    </tr>\n",
              "    <tr>\n",
              "      <th>15817</th>\n",
              "      <td>-1</td>\n",
              "      <td>rt hey liberals climate change crap hoax ties ...</td>\n",
              "      <td>819732</td>\n",
              "    </tr>\n",
              "    <tr>\n",
              "      <th>15818</th>\n",
              "      <td>0</td>\n",
              "      <td>rt climate change equation 4 screenshots</td>\n",
              "      <td>806319</td>\n",
              "    </tr>\n",
              "  </tbody>\n",
              "</table>\n",
              "<p>15819 rows × 3 columns</p>\n",
              "</div>"
            ],
            "text/plain": [
              "       sentiment                                            message  tweetid\n",
              "0              1  ORG chief donot think carbon dioxide main caus...   625221\n",
              "1              1    like lack evidence anthropogenic global warming   126103\n",
              "2              2  rt researchers say three years act climate cha...   698562\n",
              "3              1  todayinmaker wired 2016 pivotal year war clima...   573736\n",
              "4              1  rt 2016 racist sexist climate change denying b...   466954\n",
              "...          ...                                                ...      ...\n",
              "15814          1  rt took material global warming lgbt rights he...    22001\n",
              "15815          2  rt climate change could breaking 200millionyea...    17856\n",
              "15816          0  notiven rt nytimesworld trump actually believe...   384248\n",
              "15817         -1  rt hey liberals climate change crap hoax ties ...   819732\n",
              "15818          0           rt climate change equation 4 screenshots   806319\n",
              "\n",
              "[15819 rows x 3 columns]"
            ]
          },
          "metadata": {
            "tags": []
          },
          "execution_count": 21
        }
      ]
    },
    {
      "cell_type": "code",
      "metadata": {
        "id": "7cj6gDObTccc",
        "colab_type": "code",
        "colab": {
          "base_uri": "https://localhost:8080/",
          "height": 416
        },
        "outputId": "2e1d12c4-3d1b-4c49-c0c9-2e7e27a7be97"
      },
      "source": [
        "lem_text(test)"
      ],
      "execution_count": 23,
      "outputs": [
        {
          "output_type": "execute_result",
          "data": {
            "text/html": [
              "<div>\n",
              "<style scoped>\n",
              "    .dataframe tbody tr th:only-of-type {\n",
              "        vertical-align: middle;\n",
              "    }\n",
              "\n",
              "    .dataframe tbody tr th {\n",
              "        vertical-align: top;\n",
              "    }\n",
              "\n",
              "    .dataframe thead th {\n",
              "        text-align: right;\n",
              "    }\n",
              "</style>\n",
              "<table border=\"1\" class=\"dataframe\">\n",
              "  <thead>\n",
              "    <tr style=\"text-align: right;\">\n",
              "      <th></th>\n",
              "      <th>message</th>\n",
              "      <th>tweetid</th>\n",
              "    </tr>\n",
              "  </thead>\n",
              "  <tbody>\n",
              "    <tr>\n",
              "      <th>0</th>\n",
              "      <td>LOC look gpe make sure alone fight climate change</td>\n",
              "      <td>169760</td>\n",
              "    </tr>\n",
              "    <tr>\n",
              "      <th>1</th>\n",
              "      <td>combine polling staffers climate change womens...</td>\n",
              "      <td>35326</td>\n",
              "    </tr>\n",
              "    <tr>\n",
              "      <th>2</th>\n",
              "      <td>scary unimpeachable evidence climate change al...</td>\n",
              "      <td>224985</td>\n",
              "    </tr>\n",
              "    <tr>\n",
              "      <th>3</th>\n",
              "      <td>putin got jill trump doesnt believe climate ch...</td>\n",
              "      <td>476263</td>\n",
              "    </tr>\n",
              "    <tr>\n",
              "      <th>4</th>\n",
              "      <td>rt female orgasms cause global warming sarcast...</td>\n",
              "      <td>872928</td>\n",
              "    </tr>\n",
              "    <tr>\n",
              "      <th>...</th>\n",
              "      <td>...</td>\n",
              "      <td>...</td>\n",
              "    </tr>\n",
              "    <tr>\n",
              "      <th>10541</th>\n",
              "      <td>rt brb writing poem climate change climatechan...</td>\n",
              "      <td>895714</td>\n",
              "    </tr>\n",
              "    <tr>\n",
              "      <th>10542</th>\n",
              "      <td>2016 year climate change came home hottest yea...</td>\n",
              "      <td>875167</td>\n",
              "    </tr>\n",
              "    <tr>\n",
              "      <th>10543</th>\n",
              "      <td>rt pacific countries positive fiji leading glo...</td>\n",
              "      <td>78329</td>\n",
              "    </tr>\n",
              "    <tr>\n",
              "      <th>10544</th>\n",
              "      <td>rt youre hot must cause global warming aldubla...</td>\n",
              "      <td>867455</td>\n",
              "    </tr>\n",
              "    <tr>\n",
              "      <th>10545</th>\n",
              "      <td>rt climate change global issue thats getting w...</td>\n",
              "      <td>470892</td>\n",
              "    </tr>\n",
              "  </tbody>\n",
              "</table>\n",
              "<p>10546 rows × 2 columns</p>\n",
              "</div>"
            ],
            "text/plain": [
              "                                                 message  tweetid\n",
              "0      LOC look gpe make sure alone fight climate change   169760\n",
              "1      combine polling staffers climate change womens...    35326\n",
              "2      scary unimpeachable evidence climate change al...   224985\n",
              "3      putin got jill trump doesnt believe climate ch...   476263\n",
              "4      rt female orgasms cause global warming sarcast...   872928\n",
              "...                                                  ...      ...\n",
              "10541  rt brb writing poem climate change climatechan...   895714\n",
              "10542  2016 year climate change came home hottest yea...   875167\n",
              "10543  rt pacific countries positive fiji leading glo...    78329\n",
              "10544  rt youre hot must cause global warming aldubla...   867455\n",
              "10545  rt climate change global issue thats getting w...   470892\n",
              "\n",
              "[10546 rows x 2 columns]"
            ]
          },
          "metadata": {
            "tags": []
          },
          "execution_count": 23
        }
      ]
    },
    {
      "cell_type": "markdown",
      "metadata": {
        "id": "VjfJWKpqUDbH",
        "colab_type": "text"
      },
      "source": [
        "#Exploratory Data Analysis"
      ]
    },
    {
      "cell_type": "markdown",
      "metadata": {
        "id": "ntJYpsbHViGN",
        "colab_type": "text"
      },
      "source": [
        "Now it is time to analyse the data and how it is structured."
      ]
    },
    {
      "cell_type": "markdown",
      "metadata": {
        "id": "qjV-NA1yXgo8",
        "colab_type": "text"
      },
      "source": [
        "###Missing values"
      ]
    },
    {
      "cell_type": "code",
      "metadata": {
        "id": "TdgDkv4rWWtF",
        "colab_type": "code",
        "colab": {
          "base_uri": "https://localhost:8080/",
          "height": 86
        },
        "outputId": "09d25157-1212-4bb3-d86e-f31ec65a5646"
      },
      "source": [
        "train.isnull().sum()\n"
      ],
      "execution_count": 24,
      "outputs": [
        {
          "output_type": "execute_result",
          "data": {
            "text/plain": [
              "sentiment    0\n",
              "message      0\n",
              "tweetid      0\n",
              "dtype: int64"
            ]
          },
          "metadata": {
            "tags": []
          },
          "execution_count": 24
        }
      ]
    },
    {
      "cell_type": "code",
      "metadata": {
        "id": "qn7bl0_jWJMk",
        "colab_type": "code",
        "colab": {
          "base_uri": "https://localhost:8080/",
          "height": 69
        },
        "outputId": "8507544d-c5c9-41de-e87a-59309c0ec3d5"
      },
      "source": [
        "test.isnull().sum()"
      ],
      "execution_count": 25,
      "outputs": [
        {
          "output_type": "execute_result",
          "data": {
            "text/plain": [
              "message    0\n",
              "tweetid    0\n",
              "dtype: int64"
            ]
          },
          "metadata": {
            "tags": []
          },
          "execution_count": 25
        }
      ]
    },
    {
      "cell_type": "markdown",
      "metadata": {
        "id": "3-2YhdWmWu_h",
        "colab_type": "text"
      },
      "source": [
        "There are no missing values in both the train and test datasets"
      ]
    },
    {
      "cell_type": "markdown",
      "metadata": {
        "id": "8EzkGsU9XoOu",
        "colab_type": "text"
      },
      "source": [
        "###Sentiment Classes"
      ]
    },
    {
      "cell_type": "code",
      "metadata": {
        "id": "dDrbGvPtW2sz",
        "colab_type": "code",
        "colab": {
          "base_uri": "https://localhost:8080/",
          "height": 104
        },
        "outputId": "79111764-e00a-430a-ccb7-aa44dc64a275"
      },
      "source": [
        "train.sentiment.value_counts()"
      ],
      "execution_count": 26,
      "outputs": [
        {
          "output_type": "execute_result",
          "data": {
            "text/plain": [
              " 1    8530\n",
              " 2    3640\n",
              " 0    2353\n",
              "-1    1296\n",
              "Name: sentiment, dtype: int64"
            ]
          },
          "metadata": {
            "tags": []
          },
          "execution_count": 26
        }
      ]
    },
    {
      "cell_type": "code",
      "metadata": {
        "id": "CrTxP63uXCAW",
        "colab_type": "code",
        "colab": {
          "base_uri": "https://localhost:8080/",
          "height": 278
        },
        "outputId": "02c0d98d-f5fd-42ed-b639-a38eb88b6bc0"
      },
      "source": [
        "counts = train[\"sentiment\"].value_counts()\n",
        "plt.bar(range(len(counts)), counts)\n",
        "plt.xticks([0, 1, 2, 3], ['Pro', 'News', 'Neutral', 'Anti'])\n",
        "\n",
        "plt.ylabel(\"Total per class\")\n",
        "plt.xlabel(\"Sentiment Classes\")\n",
        "plt.show()"
      ],
      "execution_count": 27,
      "outputs": [
        {
          "output_type": "display_data",
          "data": {
            "image/png": "[encoded data removed]",
            "text/plain": [
              "<Figure size 432x288 with 1 Axes>"
            ]
          },
          "metadata": {
            "tags": [],
            "needs_background": "light"
          }
        }
      ]
    },
    {
      "cell_type": "code",
      "metadata": {
        "id": "gPMW7s8enuWc",
        "colab_type": "code",
        "colab": {
          "base_uri": "https://localhost:8080/",
          "height": 34
        },
        "outputId": "691b95ec-d42d-4f18-83ff-bebea2aaca52"
      },
      "source": [
        "#Percentage of the major class\n",
        "len(train[train.sentiment==1])/len(train.sentiment)"
      ],
      "execution_count": 29,
      "outputs": [
        {
          "output_type": "execute_result",
          "data": {
            "text/plain": [
              "0.5392249826158417"
            ]
          },
          "metadata": {
            "tags": []
          },
          "execution_count": 29
        }
      ]
    },
    {
      "cell_type": "markdown",
      "metadata": {
        "id": "e8IBeBUJXvo4",
        "colab_type": "text"
      },
      "source": [
        "The 'Pro' climate change class accounts for 54% of the data set and the remaining 46% is shared amongst the three other classes. This imbalance indicates how biased our model might me thus exploring resampling techniques might be required in order to improve the model accuracy."
      ]
    },
    {
      "cell_type": "markdown",
      "metadata": {
        "id": "5ze1AO_BYggd",
        "colab_type": "text"
      },
      "source": [
        "###Any other data analysis/visual please"
      ]
    },
    {
      "cell_type": "code",
      "metadata": {
        "id": "mUjTqUPtYlXF",
        "colab_type": "code",
        "colab": {
          "base_uri": "https://localhost:8080/",
          "height": 366
        },
        "outputId": "51872772-df6d-4e54-a44a-b2befd7a4710"
      },
      "source": [
        "#Replace this code with one that gives words in tweets\n",
        "\n",
        "neg_tweets = train[train.sentiment == -1]\n",
        "neg_string = []\n",
        "for t in neg_tweets:\n",
        "    neg_string.append(t)\n",
        "neg_string = pd.Series(neg_string).str.cat(sep=' ')\n",
        "\n",
        "from wordcloud import WordCloud\n",
        "\n",
        "wordcloud = WordCloud(width=1600, height=800,max_font_size=200).generate(neg_string)\n",
        "plt.figure(figsize=(12,10))\n",
        "plt.imshow(wordcloud, interpolation=\"bilinear\")\n",
        "plt.axis(\"off\")\n",
        "plt.show()"
      ],
      "execution_count": 30,
      "outputs": [
        {
          "output_type": "display_data",
          "data": {
            "image/png": "[encoded data removed]",
            "text/plain": [
              "<Figure size 864x720 with 1 Axes>"
            ]
          },
          "metadata": {
            "tags": [],
            "needs_background": "light"
          }
        }
      ]
    },
    {
      "cell_type": "markdown",
      "metadata": {
        "id": "OdmIKBZQ3lnv",
        "colab_type": "text"
      },
      "source": [
        "#Define our feature and target variable to use when modelling"
      ]
    },
    {
      "cell_type": "code",
      "metadata": {
        "id": "STTboX79ozzr",
        "colab_type": "code",
        "colab": {
          "base_uri": "https://localhost:8080/",
          "height": 225
        },
        "outputId": "fd74b265-f016-473c-bb88-895ddbec678f"
      },
      "source": [
        "X = train['message']\n",
        "X"
      ],
      "execution_count": 38,
      "outputs": [
        {
          "output_type": "execute_result",
          "data": {
            "text/plain": [
              "0        ORG chief donot think carbon dioxide main caus...\n",
              "1          like lack evidence anthropogenic global warming\n",
              "2        rt researchers say three years act climate cha...\n",
              "3        todayinmaker wired 2016 pivotal year war clima...\n",
              "4        rt 2016 racist sexist climate change denying b...\n",
              "                               ...                        \n",
              "15814    rt took material global warming lgbt rights he...\n",
              "15815    rt climate change could breaking 200millionyea...\n",
              "15816    notiven rt nytimesworld trump actually believe...\n",
              "15817    rt hey liberals climate change crap hoax ties ...\n",
              "15818             rt climate change equation 4 screenshots\n",
              "Name: message, Length: 15819, dtype: object"
            ]
          },
          "metadata": {
            "tags": []
          },
          "execution_count": 38
        }
      ]
    },
    {
      "cell_type": "code",
      "metadata": {
        "id": "S9v3Daf7o5VN",
        "colab_type": "code",
        "colab": {
          "base_uri": "https://localhost:8080/",
          "height": 225
        },
        "outputId": "35926cb4-e3d3-44d5-f501-084fbf76df23"
      },
      "source": [
        "y = train['sentiment']\n",
        "y"
      ],
      "execution_count": 32,
      "outputs": [
        {
          "output_type": "execute_result",
          "data": {
            "text/plain": [
              "0        1\n",
              "1        1\n",
              "2        2\n",
              "3        1\n",
              "4        1\n",
              "        ..\n",
              "15814    1\n",
              "15815    2\n",
              "15816    0\n",
              "15817   -1\n",
              "15818    0\n",
              "Name: sentiment, Length: 15819, dtype: int64"
            ]
          },
          "metadata": {
            "tags": []
          },
          "execution_count": 32
        }
      ]
    },
    {
      "cell_type": "markdown",
      "metadata": {
        "id": "z48y9g7HaDH_",
        "colab_type": "text"
      },
      "source": [
        "###Convert features to machine language"
      ]
    },
    {
      "cell_type": "code",
      "metadata": {
        "id": "HZhomJa3aKYd",
        "colab_type": "code",
        "colab": {}
      },
      "source": [
        "#tf_vect = TfidfVectorizer(ngram_range=(1, 2))\n",
        "#X = tf_vect.fit_transform(X)"
      ],
      "execution_count": 130,
      "outputs": []
    },
    {
      "cell_type": "code",
      "metadata": {
        "id": "o5WwBNVW2bbw",
        "colab_type": "code",
        "colab": {
          "base_uri": "https://localhost:8080/",
          "height": 34
        },
        "outputId": "67a06a38-2c8e-406d-e07a-01cf7d1f2df2"
      },
      "source": [
        "#X.shape"
      ],
      "execution_count": 131,
      "outputs": [
        {
          "output_type": "execute_result",
          "data": {
            "text/plain": [
              "(15819, 93956)"
            ]
          },
          "metadata": {
            "tags": []
          },
          "execution_count": 131
        }
      ]
    },
    {
      "cell_type": "code",
      "metadata": {
        "id": "EdJlKYIm3ELO",
        "colab_type": "code",
        "colab": {}
      },
      "source": [
        "tf_vecto = TfidfVectorizer(lowercase = True,stop_words = 'english',ngram_range=(1, 2))\n",
        "X = tf_vecto.fit_transform(X)"
      ],
      "execution_count": 39,
      "outputs": []
    },
    {
      "cell_type": "code",
      "metadata": {
        "id": "JrMqw-ok3E45",
        "colab_type": "code",
        "colab": {
          "base_uri": "https://localhost:8080/",
          "height": 34
        },
        "outputId": "b0937c59-b046-4f5c-dc98-41387ff1379f"
      },
      "source": [
        "X.shape"
      ],
      "execution_count": 40,
      "outputs": [
        {
          "output_type": "execute_result",
          "data": {
            "text/plain": [
              "(15819, 88009)"
            ]
          },
          "metadata": {
            "tags": []
          },
          "execution_count": 40
        }
      ]
    },
    {
      "cell_type": "markdown",
      "metadata": {
        "id": "u-LT4oVwZubv",
        "colab_type": "text"
      },
      "source": [
        "###Splitting the data"
      ]
    },
    {
      "cell_type": "code",
      "metadata": {
        "id": "vm_kO-V5Z0n2",
        "colab_type": "code",
        "colab": {}
      },
      "source": [
        "X_train, X_test, y_train, y_test = train_test_split(X, y, test_size = 0.2, random_state = 42)"
      ],
      "execution_count": 41,
      "outputs": []
    },
    {
      "cell_type": "code",
      "metadata": {
        "id": "3EcLpNelpOj-",
        "colab_type": "code",
        "colab": {}
      },
      "source": [
        "#X_test = test['message']"
      ],
      "execution_count": 34,
      "outputs": []
    },
    {
      "cell_type": "code",
      "metadata": {
        "id": "13mORVJNpRZ0",
        "colab_type": "code",
        "colab": {}
      },
      "source": [
        "#X_test = tf_vect.transform(X_test)"
      ],
      "execution_count": 35,
      "outputs": []
    },
    {
      "cell_type": "markdown",
      "metadata": {
        "id": "vyhuwyLh3oMX",
        "colab_type": "text"
      },
      "source": [
        "#Modelling"
      ]
    },
    {
      "cell_type": "markdown",
      "metadata": {
        "id": "ck4qTN4AkIee",
        "colab_type": "text"
      },
      "source": [
        "##Modelling with maximum data cleaning"
      ]
    },
    {
      "cell_type": "markdown",
      "metadata": {
        "id": "is1L3SPwa1x-",
        "colab_type": "text"
      },
      "source": [
        "The function below takes in a model and returns the average accuracy score"
      ]
    },
    {
      "cell_type": "code",
      "metadata": {
        "id": "0slY90EHJ3y5",
        "colab_type": "code",
        "colab": {}
      },
      "source": [
        "def accuracy(model):\n",
        "    features = train['message']\n",
        "    target = train['sentiment']\n",
        "\n",
        "    train_scores = []\n",
        "    test_scores = []\n",
        "\n",
        "    #tf_vect = TfidfVectorizer(ngram_range=(1, 2))\n",
        "    tf_vecto = TfidfVectorizer(lowercase = True,stop_words = 'english',ngram_range=(1, 2))\n",
        "\n",
        "\n",
        "    folds = KFold(n_splits=5, shuffle=True)\n",
        "\n",
        "    for train_index, test_index in folds.split(features):\n",
        "        x_train, x_test = features.iloc[train_index], features.iloc[test_index]    \n",
        "        y_train, y_test = target.iloc[train_index], target.iloc[test_index]\n",
        "\n",
        "        x_train = tf_vecto.fit_transform(x_train)\n",
        "        x_test = tf_vecto.transform(x_test)\n",
        "     \n",
        "        model.fit(x_train, y_train)\n",
        "        train_predictions = model.predict(x_train)\n",
        "        test_predictions = model.predict(x_test)\n",
        "\n",
        "        train_score = accuracy_score(y_train, train_predictions)\n",
        "        train_scores.append(train_score)\n",
        "\n",
        "        test_score = accuracy_score(y_test, test_predictions)\n",
        "        test_scores.append(test_score)\n",
        "\n",
        "    avg_train_accuracy = np.mean(train_scores)\n",
        "    avg_test_accuracy = np.mean(test_scores)\n",
        "\n",
        "    return [avg_train_accuracy, avg_test_accuracy]\n"
      ],
      "execution_count": 42,
      "outputs": []
    },
    {
      "cell_type": "markdown",
      "metadata": {
        "id": "LMRZCX07bRVv",
        "colab_type": "text"
      },
      "source": [
        "###Support Vector Machines(SVM)"
      ]
    },
    {
      "cell_type": "markdown",
      "metadata": {
        "id": "r_X5tg35bX9Z",
        "colab_type": "text"
      },
      "source": [
        "Support-Vector Machines algorithm goes like blah blah blah blah"
      ]
    },
    {
      "cell_type": "code",
      "metadata": {
        "id": "D4wFMtmIpU5R",
        "colab_type": "code",
        "colab": {
          "base_uri": "https://localhost:8080/",
          "height": 34
        },
        "outputId": "2d85967c-c2c0-4d43-a369-d207675c9e12"
      },
      "source": [
        "sv = SVC()\n",
        "\n",
        "sv_accuracy = accuracy(sv)\n",
        "sv_accuracy"
      ],
      "execution_count": 43,
      "outputs": [
        {
          "output_type": "execute_result",
          "data": {
            "text/plain": [
              "[0.9736867245648273, 0.7050377248311606]"
            ]
          },
          "metadata": {
            "tags": []
          },
          "execution_count": 43
        }
      ]
    },
    {
      "cell_type": "markdown",
      "metadata": {
        "id": "2ZjxnRYBfHQE",
        "colab_type": "text"
      },
      "source": [
        "###Bernoulli"
      ]
    },
    {
      "cell_type": "code",
      "metadata": {
        "id": "Wf9-alNPprIm",
        "colab_type": "code",
        "colab": {
          "base_uri": "https://localhost:8080/",
          "height": 34
        },
        "outputId": "91aa424e-cbd1-40cf-8a80-8d4eb753b757"
      },
      "source": [
        "bernoulli = BernoulliNB()\n",
        "\n",
        "bernoulli_accuracy = accuracy(bernoulli)\n",
        "bernoulli_accuracy"
      ],
      "execution_count": 44,
      "outputs": [
        {
          "output_type": "execute_result",
          "data": {
            "text/plain": [
              "[0.7299608433178274, 0.6202040182530867]"
            ]
          },
          "metadata": {
            "tags": []
          },
          "execution_count": 44
        }
      ]
    },
    {
      "cell_type": "markdown",
      "metadata": {
        "id": "n_OAlcHYtBB-",
        "colab_type": "text"
      },
      "source": [
        "###Multi Nomial"
      ]
    },
    {
      "cell_type": "code",
      "metadata": {
        "id": "3esjXnzMpyTZ",
        "colab_type": "code",
        "colab": {
          "base_uri": "https://localhost:8080/",
          "height": 34
        },
        "outputId": "47141bd0-dbdb-4d42-cbc0-c801ec75d8af"
      },
      "source": [
        "mnb = MultinomialNB()\n",
        "\n",
        "mnb_accuracy = accuracy(mnb)\n",
        "mnb_accuracy"
      ],
      "execution_count": 45,
      "outputs": [
        {
          "output_type": "execute_result",
          "data": {
            "text/plain": [
              "[0.723939524110886, 0.6389151907744932]"
            ]
          },
          "metadata": {
            "tags": []
          },
          "execution_count": 45
        }
      ]
    },
    {
      "cell_type": "markdown",
      "metadata": {
        "id": "jwsTSgGZtHAQ",
        "colab_type": "text"
      },
      "source": [
        "###SGD"
      ]
    },
    {
      "cell_type": "code",
      "metadata": {
        "id": "lh0reHXQp5sK",
        "colab_type": "code",
        "colab": {
          "base_uri": "https://localhost:8080/",
          "height": 34
        },
        "outputId": "6303ebbc-f323-4b96-d85e-7bd45a221ccf"
      },
      "source": [
        "sgd = SGDClassifier()\n",
        "\n",
        "sgd_accuracy = accuracy(sgd)\n",
        "sgd_accuracy"
      ],
      "execution_count": 46,
      "outputs": [
        {
          "output_type": "execute_result",
          "data": {
            "text/plain": [
              "[0.9516878519256291, 0.7271641366895116]"
            ]
          },
          "metadata": {
            "tags": []
          },
          "execution_count": 46
        }
      ]
    },
    {
      "cell_type": "markdown",
      "metadata": {
        "id": "JH-K4IHUcAGT",
        "colab_type": "text"
      },
      "source": [
        "###Random Forest"
      ]
    },
    {
      "cell_type": "code",
      "metadata": {
        "id": "kmzq-NeJqA4V",
        "colab_type": "code",
        "colab": {
          "base_uri": "https://localhost:8080/",
          "height": 34
        },
        "outputId": "6afe77d8-f5ab-42fb-b172-9395074912ba"
      },
      "source": [
        "rand_forest = RandomForestClassifier()\n",
        "\n",
        "rand_forest_accuracy = accuracy(rand_forest)\n",
        "rand_forest_accuracy"
      ],
      "execution_count": 47,
      "outputs": [
        {
          "output_type": "execute_result",
          "data": {
            "text/plain": [
              "[0.9972343384509953, 0.6774762753439042]"
            ]
          },
          "metadata": {
            "tags": []
          },
          "execution_count": 47
        }
      ]
    },
    {
      "cell_type": "markdown",
      "metadata": {
        "id": "UjFVP6SycIY3",
        "colab_type": "text"
      },
      "source": [
        "###K-Nearest Neighbors (KNN)"
      ]
    },
    {
      "cell_type": "code",
      "metadata": {
        "id": "n0otZVnWqILq",
        "colab_type": "code",
        "colab": {
          "base_uri": "https://localhost:8080/",
          "height": 34
        },
        "outputId": "d260a80a-e70d-48d9-b5f4-ae6d40793e60"
      },
      "source": [
        "knn = KNeighborsClassifier()\n",
        "\n",
        "knn_accuracy = accuracy(knn)\n",
        "knn_accuracy"
      ],
      "execution_count": 48,
      "outputs": [
        {
          "output_type": "execute_result",
          "data": {
            "text/plain": [
              "[0.7353498789473237, 0.6263984687039981]"
            ]
          },
          "metadata": {
            "tags": []
          },
          "execution_count": 48
        }
      ]
    },
    {
      "cell_type": "markdown",
      "metadata": {
        "id": "8e5t7CvUtL9r",
        "colab_type": "text"
      },
      "source": [
        "###GradientBoostingClassifier"
      ]
    },
    {
      "cell_type": "code",
      "metadata": {
        "id": "k0sylfPpqO_t",
        "colab_type": "code",
        "colab": {
          "base_uri": "https://localhost:8080/",
          "height": 34
        },
        "outputId": "ebfba26a-2c72-4f6d-9aaa-a5c69e35e7d8"
      },
      "source": [
        "grad_booster = GradientBoostingClassifier()\n",
        "\n",
        "grad_booster_accuracy = accuracy(grad_booster)\n",
        "grad_booster_accuracy"
      ],
      "execution_count": 49,
      "outputs": [
        {
          "output_type": "execute_result",
          "data": {
            "text/plain": [
              "[0.6824546645614606, 0.6409382665323171]"
            ]
          },
          "metadata": {
            "tags": []
          },
          "execution_count": 49
        }
      ]
    },
    {
      "cell_type": "markdown",
      "metadata": {
        "id": "TiY-u-86tSJ9",
        "colab_type": "text"
      },
      "source": [
        "###Extra Trees Classifier"
      ]
    },
    {
      "cell_type": "code",
      "metadata": {
        "id": "KZclsZ0sqYtk",
        "colab_type": "code",
        "colab": {
          "base_uri": "https://localhost:8080/",
          "height": 34
        },
        "outputId": "9fbc969d-fc17-4702-86cd-8081447a0452"
      },
      "source": [
        "extra_trees = ExtraTreesClassifier()\n",
        "\n",
        "extra_trees_accuracy = accuracy(extra_trees)\n",
        "extra_trees_accuracy"
      ],
      "execution_count": 50,
      "outputs": [
        {
          "output_type": "execute_result",
          "data": {
            "text/plain": [
              "[0.9972343421972096, 0.7024461086687773]"
            ]
          },
          "metadata": {
            "tags": []
          },
          "execution_count": 50
        }
      ]
    },
    {
      "cell_type": "markdown",
      "metadata": {
        "id": "xgGyoTzntZJR",
        "colab_type": "text"
      },
      "source": [
        "###Bagging"
      ]
    },
    {
      "cell_type": "code",
      "metadata": {
        "id": "1tS8Jwndqhql",
        "colab_type": "code",
        "colab": {
          "base_uri": "https://localhost:8080/",
          "height": 34
        },
        "outputId": "1b9c4666-6f88-4d34-91ca-acf9430e3cdd"
      },
      "source": [
        "bagging = BaggingClassifier()\n",
        "\n",
        "bagging_accuracy = accuracy(bagging)\n",
        "bagging_accuracy"
      ],
      "execution_count": 51,
      "outputs": [
        {
          "output_type": "execute_result",
          "data": {
            "text/plain": [
              "[0.9688191270221441, 0.6149570552049155]"
            ]
          },
          "metadata": {
            "tags": []
          },
          "execution_count": 51
        }
      ]
    },
    {
      "cell_type": "markdown",
      "metadata": {
        "id": "hjgZrHEbtcD0",
        "colab_type": "text"
      },
      "source": [
        "###Decision Tree Classifier"
      ]
    },
    {
      "cell_type": "code",
      "metadata": {
        "id": "QfGgsZOCqmaR",
        "colab_type": "code",
        "colab": {
          "base_uri": "https://localhost:8080/",
          "height": 34
        },
        "outputId": "ddde1dce-937f-490a-aeae-785d177e4f1e"
      },
      "source": [
        "dec_tree = DecisionTreeClassifier()\n",
        "\n",
        "dec_tree_accuracy = accuracy(dec_tree)\n",
        "dec_tree_accuracy"
      ],
      "execution_count": 52,
      "outputs": [
        {
          "output_type": "execute_result",
          "data": {
            "text/plain": [
              "[0.9972501437297611, 0.5873949861966727]"
            ]
          },
          "metadata": {
            "tags": []
          },
          "execution_count": 52
        }
      ]
    },
    {
      "cell_type": "markdown",
      "metadata": {
        "id": "NJpd7SKCtjTE",
        "colab_type": "text"
      },
      "source": [
        "###Linear SVC"
      ]
    },
    {
      "cell_type": "code",
      "metadata": {
        "id": "kOQ0SQvmqtRU",
        "colab_type": "code",
        "colab": {
          "base_uri": "https://localhost:8080/",
          "height": 34
        },
        "outputId": "c991dea2-e545-42b1-e567-c7646a2b59e2"
      },
      "source": [
        "linear_sv = LinearSVC()\n",
        "\n",
        "linear_sv_accuracy = accuracy(linear_sv)\n",
        "linear_sv_accuracy"
      ],
      "execution_count": 53,
      "outputs": [
        {
          "output_type": "execute_result",
          "data": {
            "text/plain": [
              "[0.9940103587824503, 0.7296918422675589]"
            ]
          },
          "metadata": {
            "tags": []
          },
          "execution_count": 53
        }
      ]
    },
    {
      "cell_type": "markdown",
      "metadata": {
        "id": "Y7GmjutXf0De",
        "colab_type": "text"
      },
      "source": [
        "##Plot all models and respective accuracy scores"
      ]
    },
    {
      "cell_type": "markdown",
      "metadata": {
        "id": "Mul75ld8gFBy",
        "colab_type": "text"
      },
      "source": [
        "Below is a graph of all models which allows for simplified comparison\n"
      ]
    },
    {
      "cell_type": "code",
      "metadata": {
        "id": "7g0ATkIhq1-I",
        "colab_type": "code",
        "colab": {
          "base_uri": "https://localhost:8080/",
          "height": 294
        },
        "outputId": "14f91cf1-56e0-43fe-910f-2e1de82cb3be"
      },
      "source": [
        "models = ['SVC', 'Bernoulli', 'Multinomial Naive Bayes', 'SGDClassifier', 'Random Forest', 'KNearestNeighbours', 'Gradient Booster', 'Extra Trees', 'Bagging', 'Decision Tree', 'Linear SV']\n",
        "bar_widths = [sv_accuracy[1], bernoulli_accuracy[1], mnb_accuracy[1], sgd_accuracy[1], rand_forest_accuracy[1], knn_accuracy[1], grad_booster_accuracy[1], extra_trees_accuracy[1], bagging_accuracy[1], dec_tree_accuracy[1], linear_sv_accuracy[1]]\n",
        "bar_positions = arange(11) + 0.75\n",
        "tick_positions = range(1,12)\n",
        "\n",
        "fig, ax = plt.subplots()\n",
        "ax.barh(bar_positions, bar_widths, 0.5)\n",
        "ax.set_yticks(tick_positions)\n",
        "ax.set_yticklabels(models)\n",
        "\n",
        "ax.set_ylabel('Model')\n",
        "ax.set_xlabel('Accuracy')\n",
        "ax.set_title('Accuracy For Each Model Trained')\n",
        "\n",
        "plt.show()"
      ],
      "execution_count": 54,
      "outputs": [
        {
          "output_type": "display_data",
          "data": {
            "image/png": "[encoded data removed]",
            "text/plain": [
              "<Figure size 432x288 with 1 Axes>"
            ]
          },
          "metadata": {
            "tags": [],
            "needs_background": "light"
          }
        }
      ]
    },
    {
      "cell_type": "markdown",
      "metadata": {
        "id": "z9AGIAIFl7o4",
        "colab_type": "text"
      },
      "source": [
        "###Fit best models and use the metrics module"
      ]
    },
    {
      "cell_type": "code",
      "metadata": {
        "id": "Eco_i27gmE25",
        "colab_type": "code",
        "colab": {
          "base_uri": "https://localhost:8080/",
          "height": 86
        },
        "outputId": "5953a4ec-1f68-46b8-cd6f-a7e671ba1d93"
      },
      "source": [
        "linear_sv.fit(X_train, y_train)"
      ],
      "execution_count": 55,
      "outputs": [
        {
          "output_type": "execute_result",
          "data": {
            "text/plain": [
              "LinearSVC(C=1.0, class_weight=None, dual=True, fit_intercept=True,\n",
              "          intercept_scaling=1, loss='squared_hinge', max_iter=1000,\n",
              "          multi_class='ovr', penalty='l2', random_state=None, tol=0.0001,\n",
              "          verbose=0)"
            ]
          },
          "metadata": {
            "tags": []
          },
          "execution_count": 55
        }
      ]
    },
    {
      "cell_type": "code",
      "metadata": {
        "id": "V_qeRzDdmaIM",
        "colab_type": "code",
        "colab": {
          "base_uri": "https://localhost:8080/",
          "height": 398
        },
        "outputId": "1d6d2e15-6d5f-4251-ff6b-d0ea04aea1a8"
      },
      "source": [
        "#confusion matrix and classification_report\n",
        "y_pred = linear_sv.predict(X_test)\n",
        "\n",
        "from sklearn.metrics import classification_report\n",
        "from sklearn.metrics import confusion_matrix\n",
        "\n",
        "print(confusion_matrix(y_test,y_pred))\n",
        "\n",
        "print('\\n\\nAccuracy score: ' + str(accuracy_score(y_test, y_pred)))\n",
        "print(\"\\n\\nClassification Report:\\n\\n\", classification_report(y_test,y_pred,target_names=['Anti', 'Neutral','Pro','News']))"
      ],
      "execution_count": 56,
      "outputs": [
        {
          "output_type": "stream",
          "text": [
            "[[  99   30  142    7]\n",
            " [  10  147  250   18]\n",
            " [   9   46 1585  115]\n",
            " [   3   10  199  494]]\n",
            "\n",
            "\n",
            "Accuracy score: 0.7348293299620733\n",
            "\n",
            "\n",
            "Classification Report:\n",
            "\n",
            "               precision    recall  f1-score   support\n",
            "\n",
            "        Anti       0.82      0.36      0.50       278\n",
            "     Neutral       0.63      0.35      0.45       425\n",
            "         Pro       0.73      0.90      0.81      1755\n",
            "        News       0.78      0.70      0.74       706\n",
            "\n",
            "    accuracy                           0.73      3164\n",
            "   macro avg       0.74      0.58      0.62      3164\n",
            "weighted avg       0.73      0.73      0.72      3164\n",
            "\n"
          ],
          "name": "stdout"
        }
      ]
    },
    {
      "cell_type": "code",
      "metadata": {
        "id": "rNoRppsOm-Tl",
        "colab_type": "code",
        "colab": {
          "base_uri": "https://localhost:8080/",
          "height": 121
        },
        "outputId": "1481604e-d9d1-4cd4-a67e-3a803d855e38"
      },
      "source": [
        "sgd.fit(X_train,y_train)"
      ],
      "execution_count": 57,
      "outputs": [
        {
          "output_type": "execute_result",
          "data": {
            "text/plain": [
              "SGDClassifier(alpha=0.0001, average=False, class_weight=None,\n",
              "              early_stopping=False, epsilon=0.1, eta0=0.0, fit_intercept=True,\n",
              "              l1_ratio=0.15, learning_rate='optimal', loss='hinge',\n",
              "              max_iter=1000, n_iter_no_change=5, n_jobs=None, penalty='l2',\n",
              "              power_t=0.5, random_state=None, shuffle=True, tol=0.001,\n",
              "              validation_fraction=0.1, verbose=0, warm_start=False)"
            ]
          },
          "metadata": {
            "tags": []
          },
          "execution_count": 57
        }
      ]
    },
    {
      "cell_type": "code",
      "metadata": {
        "id": "x0g3bcu3nFNB",
        "colab_type": "code",
        "colab": {
          "base_uri": "https://localhost:8080/",
          "height": 398
        },
        "outputId": "6735bb55-a336-4e6a-c89a-a66237aaa70b"
      },
      "source": [
        "y_predict = sgd.predict(X_test)\n",
        "\n",
        "from sklearn.metrics import classification_report\n",
        "from sklearn.metrics import confusion_matrix\n",
        "\n",
        "print(confusion_matrix(y_test,y_predict))\n",
        "\n",
        "print('\\n\\nAccuracy score: ' + str(accuracy_score(y_test, y_pred)))\n",
        "print(\"\\n\\nClassification Report:\\n\\n\", classification_report(y_test,y_predict,target_names=['Anti', 'Neutral','Pro','News']))\n",
        "\n"
      ],
      "execution_count": 58,
      "outputs": [
        {
          "output_type": "stream",
          "text": [
            "[[  90   25  154    9]\n",
            " [   6  124  278   17]\n",
            " [   3   33 1606  113]\n",
            " [   4    6  218  478]]\n",
            "\n",
            "\n",
            "Accuracy score: 0.7348293299620733\n",
            "\n",
            "\n",
            "Classification Report:\n",
            "\n",
            "               precision    recall  f1-score   support\n",
            "\n",
            "        Anti       0.87      0.32      0.47       278\n",
            "     Neutral       0.66      0.29      0.40       425\n",
            "         Pro       0.71      0.92      0.80      1755\n",
            "        News       0.77      0.68      0.72       706\n",
            "\n",
            "    accuracy                           0.73      3164\n",
            "   macro avg       0.75      0.55      0.60      3164\n",
            "weighted avg       0.73      0.73      0.70      3164\n",
            "\n"
          ],
          "name": "stdout"
        }
      ]
    },
    {
      "cell_type": "markdown",
      "metadata": {
        "id": "jjYtUYskQIuf",
        "colab_type": "text"
      },
      "source": [
        "##Modelling with resampled data\n"
      ]
    },
    {
      "cell_type": "markdown",
      "metadata": {
        "id": "u9fh-JG1cmdE",
        "colab_type": "text"
      },
      "source": [
        "Since there has already been an observation that the data is imbalanced, one must attempt improving the accuracy of the above modelling. \n",
        "\n",
        "\n",
        "This will be done by introducing resampling techniques, Downsampling and SMOTE."
      ]
    },
    {
      "cell_type": "markdown",
      "metadata": {
        "id": "uO9pmo3oqsA7",
        "colab_type": "text"
      },
      "source": [
        "###Downsampling"
      ]
    },
    {
      "cell_type": "code",
      "metadata": {
        "id": "i0kYHEYAeAk7",
        "colab_type": "code",
        "colab": {
          "base_uri": "https://localhost:8080/",
          "height": 121
        },
        "outputId": "42ba86d4-9a50-4256-f00c-791830ff9b59"
      },
      "source": [
        "train = pd.read_csv('https://raw.githubusercontent.com/Stephane-Masamba/Team_4_CPT_ML-Classification/Mikael/train%20(1).csv')\n",
        "print(train.head())"
      ],
      "execution_count": 59,
      "outputs": [
        {
          "output_type": "stream",
          "text": [
            "   sentiment                                            message  tweetid\n",
            "0          1  PolySciMajor EPA chief doesn't think carbon di...   625221\n",
            "1          1  It's not like we lack evidence of anthropogeni...   126103\n",
            "2          2  RT @RawStory: Researchers say we have three ye...   698562\n",
            "3          1  #TodayinMaker# WIRED : 2016 was a pivotal year...   573736\n",
            "4          1  RT @SoyNovioDeTodas: It's 2016, and a racist, ...   466954\n"
          ],
          "name": "stdout"
        }
      ]
    },
    {
      "cell_type": "code",
      "metadata": {
        "id": "QSCGpar4esjq",
        "colab_type": "code",
        "colab": {
          "base_uri": "https://localhost:8080/",
          "height": 121
        },
        "outputId": "368a7293-d269-42ef-c7b8-5137438d8114"
      },
      "source": [
        "test = pd.read_csv('https://raw.githubusercontent.com/Stephane-Masamba/Team_4_CPT_ML-Classification/Mikael/test%20(1).csv')\n",
        "print(test.head())"
      ],
      "execution_count": 60,
      "outputs": [
        {
          "output_type": "stream",
          "text": [
            "                                             message  tweetid\n",
            "0  Europe will now be looking to China to make su...   169760\n",
            "1  Combine this with the polling of staffers re c...    35326\n",
            "2  The scary, unimpeachable evidence that climate...   224985\n",
            "3  @Karoli @morgfair @OsborneInk @dailykos \\nPuti...   476263\n",
            "4  RT @FakeWillMoore: 'Female orgasms cause globa...   872928\n"
          ],
          "name": "stdout"
        }
      ]
    },
    {
      "cell_type": "markdown",
      "metadata": {
        "id": "_IsTEaNLG0zr",
        "colab_type": "text"
      },
      "source": [
        "Clean the data by calling the cleaning functions"
      ]
    },
    {
      "cell_type": "code",
      "metadata": {
        "id": "_IZ_5Gv-G-VW",
        "colab_type": "code",
        "colab": {
          "base_uri": "https://localhost:8080/",
          "height": 416
        },
        "outputId": "4455c4c5-c1dc-4bcd-cdad-438ac9fb83be"
      },
      "source": [
        "clean_text(train)\n",
        "remove_stopwords(train)\n",
        "entities(train)\n",
        "lem_text(train)"
      ],
      "execution_count": 61,
      "outputs": [
        {
          "output_type": "execute_result",
          "data": {
            "text/html": [
              "<div>\n",
              "<style scoped>\n",
              "    .dataframe tbody tr th:only-of-type {\n",
              "        vertical-align: middle;\n",
              "    }\n",
              "\n",
              "    .dataframe tbody tr th {\n",
              "        vertical-align: top;\n",
              "    }\n",
              "\n",
              "    .dataframe thead th {\n",
              "        text-align: right;\n",
              "    }\n",
              "</style>\n",
              "<table border=\"1\" class=\"dataframe\">\n",
              "  <thead>\n",
              "    <tr style=\"text-align: right;\">\n",
              "      <th></th>\n",
              "      <th>sentiment</th>\n",
              "      <th>message</th>\n",
              "      <th>tweetid</th>\n",
              "    </tr>\n",
              "  </thead>\n",
              "  <tbody>\n",
              "    <tr>\n",
              "      <th>0</th>\n",
              "      <td>1</td>\n",
              "      <td>ORG chief donot think carbon dioxide main caus...</td>\n",
              "      <td>625221</td>\n",
              "    </tr>\n",
              "    <tr>\n",
              "      <th>1</th>\n",
              "      <td>1</td>\n",
              "      <td>like lack evidence anthropogenic global warming</td>\n",
              "      <td>126103</td>\n",
              "    </tr>\n",
              "    <tr>\n",
              "      <th>2</th>\n",
              "      <td>2</td>\n",
              "      <td>rt researchers say three years act climate cha...</td>\n",
              "      <td>698562</td>\n",
              "    </tr>\n",
              "    <tr>\n",
              "      <th>3</th>\n",
              "      <td>1</td>\n",
              "      <td>todayinmaker wired 2016 pivotal year war clima...</td>\n",
              "      <td>573736</td>\n",
              "    </tr>\n",
              "    <tr>\n",
              "      <th>4</th>\n",
              "      <td>1</td>\n",
              "      <td>rt 2016 racist sexist climate change denying b...</td>\n",
              "      <td>466954</td>\n",
              "    </tr>\n",
              "    <tr>\n",
              "      <th>...</th>\n",
              "      <td>...</td>\n",
              "      <td>...</td>\n",
              "      <td>...</td>\n",
              "    </tr>\n",
              "    <tr>\n",
              "      <th>15814</th>\n",
              "      <td>1</td>\n",
              "      <td>rt took material global warming lgbt rights he...</td>\n",
              "      <td>22001</td>\n",
              "    </tr>\n",
              "    <tr>\n",
              "      <th>15815</th>\n",
              "      <td>2</td>\n",
              "      <td>rt climate change could breaking 200millionyea...</td>\n",
              "      <td>17856</td>\n",
              "    </tr>\n",
              "    <tr>\n",
              "      <th>15816</th>\n",
              "      <td>0</td>\n",
              "      <td>notiven rt nytimesworld trump actually believe...</td>\n",
              "      <td>384248</td>\n",
              "    </tr>\n",
              "    <tr>\n",
              "      <th>15817</th>\n",
              "      <td>-1</td>\n",
              "      <td>rt hey liberals climate change crap hoax ties ...</td>\n",
              "      <td>819732</td>\n",
              "    </tr>\n",
              "    <tr>\n",
              "      <th>15818</th>\n",
              "      <td>0</td>\n",
              "      <td>rt climate change equation 4 screenshots</td>\n",
              "      <td>806319</td>\n",
              "    </tr>\n",
              "  </tbody>\n",
              "</table>\n",
              "<p>15819 rows × 3 columns</p>\n",
              "</div>"
            ],
            "text/plain": [
              "       sentiment                                            message  tweetid\n",
              "0              1  ORG chief donot think carbon dioxide main caus...   625221\n",
              "1              1    like lack evidence anthropogenic global warming   126103\n",
              "2              2  rt researchers say three years act climate cha...   698562\n",
              "3              1  todayinmaker wired 2016 pivotal year war clima...   573736\n",
              "4              1  rt 2016 racist sexist climate change denying b...   466954\n",
              "...          ...                                                ...      ...\n",
              "15814          1  rt took material global warming lgbt rights he...    22001\n",
              "15815          2  rt climate change could breaking 200millionyea...    17856\n",
              "15816          0  notiven rt nytimesworld trump actually believe...   384248\n",
              "15817         -1  rt hey liberals climate change crap hoax ties ...   819732\n",
              "15818          0           rt climate change equation 4 screenshots   806319\n",
              "\n",
              "[15819 rows x 3 columns]"
            ]
          },
          "metadata": {
            "tags": []
          },
          "execution_count": 61
        }
      ]
    },
    {
      "cell_type": "code",
      "metadata": {
        "id": "8WkFVIIEOVJj",
        "colab_type": "code",
        "colab": {}
      },
      "source": [
        "train_majority = train[train.sentiment== 1]\n",
        "train_0 = train[train.sentiment== 0]\n",
        "train_2 = train[train.sentiment== 2]\n",
        "\n",
        "train_minority = train[train.sentiment==-1]\n",
        "\n"
      ],
      "execution_count": 75,
      "outputs": []
    },
    {
      "cell_type": "code",
      "metadata": {
        "id": "LtbPdohfRSh1",
        "colab_type": "code",
        "colab": {}
      },
      "source": [
        "# Downsample majority classes\n",
        "train_majority_downsampled = resample(train_majority, \n",
        "                                 replace=False,    # sample without replacement\n",
        "                                 n_samples=1296,     # to match minority class\n",
        "                                 random_state=123) # reproducible results\n",
        "\n",
        "\n",
        "train_0_downsampled = resample(train_0, \n",
        "                                 replace=False,    \n",
        "                                 n_samples=1296,     \n",
        "                                 random_state=123) \n",
        "\n",
        "train_2_downsampled = resample(train_2, \n",
        "                                 replace=False,    \n",
        "                                 n_samples=1296,     \n",
        "                                 random_state=123) \n",
        "\n",
        "                      \n",
        "\n",
        "\n",
        "\n",
        "# Combine minority class with downsampled majority class\n",
        "train_downsampled1 = pd.concat([train_0_downsampled,train_2_downsampled])\n",
        "\n",
        "train_downsampled2 = pd.concat([train_majority_downsampled, train_minority])\n",
        "\n",
        "train_downsampled =  pd.concat([train_downsampled1, train_downsampled2])"
      ],
      "execution_count": 76,
      "outputs": []
    },
    {
      "cell_type": "code",
      "metadata": {
        "id": "Mj9doThtRnqb",
        "colab_type": "code",
        "colab": {
          "base_uri": "https://localhost:8080/",
          "height": 416
        },
        "outputId": "f24094c0-14ac-406a-e1c2-3efeae41286a"
      },
      "source": [
        "train_downsampled"
      ],
      "execution_count": 77,
      "outputs": [
        {
          "output_type": "execute_result",
          "data": {
            "text/html": [
              "<div>\n",
              "<style scoped>\n",
              "    .dataframe tbody tr th:only-of-type {\n",
              "        vertical-align: middle;\n",
              "    }\n",
              "\n",
              "    .dataframe tbody tr th {\n",
              "        vertical-align: top;\n",
              "    }\n",
              "\n",
              "    .dataframe thead th {\n",
              "        text-align: right;\n",
              "    }\n",
              "</style>\n",
              "<table border=\"1\" class=\"dataframe\">\n",
              "  <thead>\n",
              "    <tr style=\"text-align: right;\">\n",
              "      <th></th>\n",
              "      <th>sentiment</th>\n",
              "      <th>message</th>\n",
              "      <th>tweetid</th>\n",
              "    </tr>\n",
              "  </thead>\n",
              "  <tbody>\n",
              "    <tr>\n",
              "      <th>13470</th>\n",
              "      <td>0</td>\n",
              "      <td>rt really god global warming exist movie pulp ...</td>\n",
              "      <td>574574</td>\n",
              "    </tr>\n",
              "    <tr>\n",
              "      <th>8148</th>\n",
              "      <td>0</td>\n",
              "      <td>also storm global warming maybe probably</td>\n",
              "      <td>761606</td>\n",
              "    </tr>\n",
              "    <tr>\n",
              "      <th>11544</th>\n",
              "      <td>0</td>\n",
              "      <td>rt savor ur cold ones u climate change gon na ...</td>\n",
              "      <td>639609</td>\n",
              "    </tr>\n",
              "    <tr>\n",
              "      <th>7282</th>\n",
              "      <td>0</td>\n",
              "      <td>rt ive begun miss days endless papers global w...</td>\n",
              "      <td>121132</td>\n",
              "    </tr>\n",
              "    <tr>\n",
              "      <th>12634</th>\n",
              "      <td>0</td>\n",
              "      <td>omg celebrities moral actions climate change s...</td>\n",
              "      <td>744560</td>\n",
              "    </tr>\n",
              "    <tr>\n",
              "      <th>...</th>\n",
              "      <td>...</td>\n",
              "      <td>...</td>\n",
              "      <td>...</td>\n",
              "    </tr>\n",
              "    <tr>\n",
              "      <th>15704</th>\n",
              "      <td>-1</td>\n",
              "      <td>rt point wthe delusional left literally every ...</td>\n",
              "      <td>890582</td>\n",
              "    </tr>\n",
              "    <tr>\n",
              "      <th>15705</th>\n",
              "      <td>-1</td>\n",
              "      <td>rt al gore admits paris accord wont solve issu...</td>\n",
              "      <td>380307</td>\n",
              "    </tr>\n",
              "    <tr>\n",
              "      <th>15711</th>\n",
              "      <td>-1</td>\n",
              "      <td>rt funny people believe climate change bc scie...</td>\n",
              "      <td>390339</td>\n",
              "    </tr>\n",
              "    <tr>\n",
              "      <th>15806</th>\n",
              "      <td>-1</td>\n",
              "      <td>rt al gore idiot thinks climate change cause p...</td>\n",
              "      <td>213863</td>\n",
              "    </tr>\n",
              "    <tr>\n",
              "      <th>15817</th>\n",
              "      <td>-1</td>\n",
              "      <td>rt hey liberals climate change crap hoax ties ...</td>\n",
              "      <td>819732</td>\n",
              "    </tr>\n",
              "  </tbody>\n",
              "</table>\n",
              "<p>5184 rows × 3 columns</p>\n",
              "</div>"
            ],
            "text/plain": [
              "       sentiment                                            message  tweetid\n",
              "13470          0  rt really god global warming exist movie pulp ...   574574\n",
              "8148           0           also storm global warming maybe probably   761606\n",
              "11544          0  rt savor ur cold ones u climate change gon na ...   639609\n",
              "7282           0  rt ive begun miss days endless papers global w...   121132\n",
              "12634          0  omg celebrities moral actions climate change s...   744560\n",
              "...          ...                                                ...      ...\n",
              "15704         -1  rt point wthe delusional left literally every ...   890582\n",
              "15705         -1  rt al gore admits paris accord wont solve issu...   380307\n",
              "15711         -1  rt funny people believe climate change bc scie...   390339\n",
              "15806         -1  rt al gore idiot thinks climate change cause p...   213863\n",
              "15817         -1  rt hey liberals climate change crap hoax ties ...   819732\n",
              "\n",
              "[5184 rows x 3 columns]"
            ]
          },
          "metadata": {
            "tags": []
          },
          "execution_count": 77
        }
      ]
    },
    {
      "cell_type": "code",
      "metadata": {
        "id": "JOZcGngcRrgF",
        "colab_type": "code",
        "colab": {
          "base_uri": "https://localhost:8080/",
          "height": 104
        },
        "outputId": "d49e3d96-0889-4231-cfec-df8171c5d326"
      },
      "source": [
        "train_downsampled['sentiment'].value_counts()"
      ],
      "execution_count": 78,
      "outputs": [
        {
          "output_type": "execute_result",
          "data": {
            "text/plain": [
              "-1    1296\n",
              " 2    1296\n",
              " 1    1296\n",
              " 0    1296\n",
              "Name: sentiment, dtype: int64"
            ]
          },
          "metadata": {
            "tags": []
          },
          "execution_count": 78
        }
      ]
    },
    {
      "cell_type": "markdown",
      "metadata": {
        "id": "sP8F20Iyj23V",
        "colab_type": "text"
      },
      "source": [
        "Now that the data is balanced, we go ahead and build a model. This time we check the performance with onlyy the two best performing models as per the above graph."
      ]
    },
    {
      "cell_type": "code",
      "metadata": {
        "id": "MJFyB85JgBHH",
        "colab_type": "code",
        "colab": {
          "base_uri": "https://localhost:8080/",
          "height": 225
        },
        "outputId": "7ea2aca5-7e56-4188-bd4a-9d34d884a7f8"
      },
      "source": [
        "X_down = train['message']\n",
        "X_down"
      ],
      "execution_count": 79,
      "outputs": [
        {
          "output_type": "execute_result",
          "data": {
            "text/plain": [
              "0        ORG chief donot think carbon dioxide main caus...\n",
              "1          like lack evidence anthropogenic global warming\n",
              "2        rt researchers say three years act climate cha...\n",
              "3        todayinmaker wired 2016 pivotal year war clima...\n",
              "4        rt 2016 racist sexist climate change denying b...\n",
              "                               ...                        \n",
              "15814    rt took material global warming lgbt rights he...\n",
              "15815    rt climate change could breaking 200millionyea...\n",
              "15816    notiven rt nytimesworld trump actually believe...\n",
              "15817    rt hey liberals climate change crap hoax ties ...\n",
              "15818             rt climate change equation 4 screenshots\n",
              "Name: message, Length: 15819, dtype: object"
            ]
          },
          "metadata": {
            "tags": []
          },
          "execution_count": 79
        }
      ]
    },
    {
      "cell_type": "code",
      "metadata": {
        "id": "P2wsrp-YgQip",
        "colab_type": "code",
        "colab": {
          "base_uri": "https://localhost:8080/",
          "height": 225
        },
        "outputId": "13d1cc4f-bede-454e-e056-a13e170ca054"
      },
      "source": [
        "y_down = train['sentiment']\n",
        "y_down"
      ],
      "execution_count": 80,
      "outputs": [
        {
          "output_type": "execute_result",
          "data": {
            "text/plain": [
              "0        1\n",
              "1        1\n",
              "2        2\n",
              "3        1\n",
              "4        1\n",
              "        ..\n",
              "15814    1\n",
              "15815    2\n",
              "15816    0\n",
              "15817   -1\n",
              "15818    0\n",
              "Name: sentiment, Length: 15819, dtype: int64"
            ]
          },
          "metadata": {
            "tags": []
          },
          "execution_count": 80
        }
      ]
    },
    {
      "cell_type": "code",
      "metadata": {
        "id": "TRLvUU0qu5Hb",
        "colab_type": "code",
        "colab": {
          "base_uri": "https://localhost:8080/",
          "height": 52
        },
        "outputId": "b19b9850-84dd-42c4-9abd-87b65238c6f4"
      },
      "source": [
        "X_down = tf_vecto.fit_transform(X_down)\n",
        "X_down"
      ],
      "execution_count": 81,
      "outputs": [
        {
          "output_type": "execute_result",
          "data": {
            "text/plain": [
              "<15819x88009 sparse matrix of type '<class 'numpy.float64'>'\n",
              "\twith 300338 stored elements in Compressed Sparse Row format>"
            ]
          },
          "metadata": {
            "tags": []
          },
          "execution_count": 81
        }
      ]
    },
    {
      "cell_type": "code",
      "metadata": {
        "id": "dn-C8qT9hA6n",
        "colab_type": "code",
        "colab": {}
      },
      "source": [
        "#train_test_split\n",
        "X_train1,X_test1,y_train1,y_test1 = train_test_split(X_down,y_down,test_size=0.2,random_state=0)"
      ],
      "execution_count": 82,
      "outputs": []
    },
    {
      "cell_type": "code",
      "metadata": {
        "id": "yMS2y9rGulE5",
        "colab_type": "code",
        "colab": {
          "base_uri": "https://localhost:8080/",
          "height": 86
        },
        "outputId": "be3423e9-34bb-44a8-e198-4cc33d20ba14"
      },
      "source": [
        "from sklearn.svm import LinearSVC\n",
        "lsvm = LinearSVC()\n",
        "lsvm.fit(X_train1, y_train1)"
      ],
      "execution_count": 83,
      "outputs": [
        {
          "output_type": "execute_result",
          "data": {
            "text/plain": [
              "LinearSVC(C=1.0, class_weight=None, dual=True, fit_intercept=True,\n",
              "          intercept_scaling=1, loss='squared_hinge', max_iter=1000,\n",
              "          multi_class='ovr', penalty='l2', random_state=None, tol=0.0001,\n",
              "          verbose=0)"
            ]
          },
          "metadata": {
            "tags": []
          },
          "execution_count": 83
        }
      ]
    },
    {
      "cell_type": "code",
      "metadata": {
        "id": "TXYesYXKvMM2",
        "colab_type": "code",
        "colab": {
          "base_uri": "https://localhost:8080/",
          "height": 398
        },
        "outputId": "759fb4c3-df47-418a-be46-0e6baa00e8a6"
      },
      "source": [
        "#confusion matrix and classification_report\n",
        "y_pred1 = lsvm.predict(X_test1)\n",
        "\n",
        "from sklearn.metrics import classification_report\n",
        "from sklearn.metrics import confusion_matrix\n",
        "\n",
        "\n",
        "print(confusion_matrix(y_test1,y_pred1))\n",
        "\n",
        "print('\\n\\nAccuracy score: ' + str(accuracy_score(y_test1, y_pred1)))\n",
        "print(\"\\n\\nClassification Report:\\n\\n\",classification_report(y_test1,y_pred1,target_names=['Anti', 'Neutral','Pro','News']))"
      ],
      "execution_count": 87,
      "outputs": [
        {
          "output_type": "stream",
          "text": [
            "[[  77   23  129   20]\n",
            " [  12  149  278   34]\n",
            " [  12   50 1530  109]\n",
            " [   4    8  199  530]]\n",
            "\n",
            "\n",
            "Accuracy score: 0.7225031605562579\n",
            "\n",
            "\n",
            "Classification Report:\n",
            "\n",
            "               precision    recall  f1-score   support\n",
            "\n",
            "        Anti       0.73      0.31      0.44       249\n",
            "     Neutral       0.65      0.32      0.42       473\n",
            "         Pro       0.72      0.90      0.80      1701\n",
            "        News       0.76      0.72      0.74       741\n",
            "\n",
            "    accuracy                           0.72      3164\n",
            "   macro avg       0.72      0.56      0.60      3164\n",
            "weighted avg       0.72      0.72      0.70      3164\n",
            "\n"
          ],
          "name": "stdout"
        }
      ]
    },
    {
      "cell_type": "markdown",
      "metadata": {
        "id": "1PXmOs5S5Ycq",
        "colab_type": "text"
      },
      "source": [
        "###SMOTE "
      ]
    },
    {
      "cell_type": "code",
      "metadata": {
        "id": "fzLeWqJd5mii",
        "colab_type": "code",
        "colab": {
          "base_uri": "https://localhost:8080/",
          "height": 106
        },
        "outputId": "f2bcb637-97ba-48f3-8b70-f30fe9423336"
      },
      "source": [
        "from imblearn.over_sampling import SMOTE"
      ],
      "execution_count": 88,
      "outputs": [
        {
          "output_type": "stream",
          "text": [
            "/usr/local/lib/python3.6/dist-packages/sklearn/externals/six.py:31: FutureWarning: The module is deprecated in version 0.21 and will be removed in version 0.23 since we've dropped support for Python 2.7. Please rely on the official version of six (https://pypi.org/project/six/).\n",
            "  \"(https://pypi.org/project/six/).\", FutureWarning)\n",
            "/usr/local/lib/python3.6/dist-packages/sklearn/utils/deprecation.py:144: FutureWarning: The sklearn.neighbors.base module is  deprecated in version 0.22 and will be removed in version 0.24. The corresponding classes / functions should instead be imported from sklearn.neighbors. Anything that cannot be imported from sklearn.neighbors is now part of the private API.\n",
            "  warnings.warn(message, FutureWarning)\n"
          ],
          "name": "stderr"
        }
      ]
    },
    {
      "cell_type": "markdown",
      "metadata": {
        "id": "380q1LzJh0Oc",
        "colab_type": "text"
      },
      "source": [
        "Using data from the first data split"
      ]
    },
    {
      "cell_type": "code",
      "metadata": {
        "id": "tvBjg1eUYe5T",
        "colab_type": "code",
        "colab": {
          "base_uri": "https://localhost:8080/",
          "height": 34
        },
        "outputId": "73c6b8d8-8629-45ae-c4d2-05ed6f1d5dd0"
      },
      "source": [
        "print(X_train.shape,y_train.shape)"
      ],
      "execution_count": 89,
      "outputs": [
        {
          "output_type": "stream",
          "text": [
            "(12655, 88009) (12655,)\n"
          ],
          "name": "stdout"
        }
      ]
    },
    {
      "cell_type": "code",
      "metadata": {
        "id": "D_431FaxZikW",
        "colab_type": "code",
        "colab": {
          "base_uri": "https://localhost:8080/",
          "height": 72
        },
        "outputId": "5a22a195-f53f-452d-d764-5455057db982"
      },
      "source": [
        "smote = SMOTE(\"minority\")\n",
        "X_sm , y_sm = smote.fit_resample(X_train,y_train)"
      ],
      "execution_count": 97,
      "outputs": [
        {
          "output_type": "stream",
          "text": [
            "/usr/local/lib/python3.6/dist-packages/sklearn/utils/deprecation.py:87: FutureWarning: Function safe_indexing is deprecated; safe_indexing is deprecated in version 0.22 and will be removed in version 0.24.\n",
            "  warnings.warn(msg, category=FutureWarning)\n"
          ],
          "name": "stderr"
        }
      ]
    },
    {
      "cell_type": "code",
      "metadata": {
        "id": "G7B3DarxZoG1",
        "colab_type": "code",
        "colab": {
          "base_uri": "https://localhost:8080/",
          "height": 34
        },
        "outputId": "a48e71cc-cf39-4481-f2a7-b5c338a5eb1f"
      },
      "source": [
        "print(X_sm.shape,y_sm.shape)"
      ],
      "execution_count": 98,
      "outputs": [
        {
          "output_type": "stream",
          "text": [
            "(18412, 88009) (18412,)\n"
          ],
          "name": "stdout"
        }
      ]
    },
    {
      "cell_type": "code",
      "metadata": {
        "id": "LKKuNpMzZyBW",
        "colab_type": "code",
        "colab": {
          "base_uri": "https://localhost:8080/",
          "height": 398
        },
        "outputId": "96e57b55-ebf9-4106-a412-4e3fcaae7ec0"
      },
      "source": [
        "ls= LinearSVC()\n",
        "ls.fit(X_sm, y_sm)\n",
        "\n",
        "\n",
        "#confusion matrix and classification_report\n",
        "y_predsm = ls.predict(X_test)\n",
        "\n",
        "print(confusion_matrix(y_test,y_predsm))\n",
        "\n",
        "print('\\n\\nAccuracy score: ' + str(accuracy_score(y_test, y_predsm)))\n",
        "print(\"\\n\\nClassification Report:\\n\\n\",classification_report(y_test,y_predsm,target_names=['Anti', 'Neutral','Pro','News']))"
      ],
      "execution_count": 112,
      "outputs": [
        {
          "output_type": "stream",
          "text": [
            "[[ 133   19  119    7]\n",
            " [  38  120  250   17]\n",
            " [  34   46 1562  113]\n",
            " [   8   12  196  490]]\n",
            "\n",
            "\n",
            "Accuracy score: 0.7285082174462706\n",
            "\n",
            "\n",
            "Classification Report:\n",
            "\n",
            "               precision    recall  f1-score   support\n",
            "\n",
            "        Anti       0.62      0.48      0.54       278\n",
            "     Neutral       0.61      0.28      0.39       425\n",
            "         Pro       0.73      0.89      0.80      1755\n",
            "        News       0.78      0.69      0.74       706\n",
            "\n",
            "    accuracy                           0.73      3164\n",
            "   macro avg       0.69      0.59      0.62      3164\n",
            "weighted avg       0.72      0.73      0.71      3164\n",
            "\n"
          ],
          "name": "stdout"
        }
      ]
    },
    {
      "cell_type": "markdown",
      "metadata": {
        "id": "IM-yC7gnkay5",
        "colab_type": "text"
      },
      "source": [
        "##Modelling with minimal data cleaning"
      ]
    },
    {
      "cell_type": "markdown",
      "metadata": {
        "id": "rcAxGtQ9iSId",
        "colab_type": "text"
      },
      "source": [
        "To conclude the modelling section, we will explore what one could have done by intuition. This is just to check how accurate our model would be if we did not introduce the 'fancy' cleaning functions."
      ]
    },
    {
      "cell_type": "code",
      "metadata": {
        "id": "Brtlh1UttRzv",
        "colab_type": "code",
        "colab": {
          "base_uri": "https://localhost:8080/"
        },
        "outputId": "ed9f0ecd-91d1-49c9-f374-27ea54d1ab1e"
      },
      "source": [
        "train = pd.read_csv('https://raw.githubusercontent.com/Stephane-Masamba/Team_4_CPT_ML-Classification/Mikael/train%20(1).csv')\n",
        "print(train.head())"
      ],
      "execution_count": 77,
      "outputs": [
        {
          "output_type": "stream",
          "text": [
            "   sentiment                                            message  tweetid\n",
            "0          1  PolySciMajor EPA chief doesn't think carbon di...   625221\n",
            "1          1  It's not like we lack evidence of anthropogeni...   126103\n",
            "2          2  RT @RawStory: Researchers say we have three ye...   698562\n",
            "3          1  #TodayinMaker# WIRED : 2016 was a pivotal year...   573736\n",
            "4          1  RT @SoyNovioDeTodas: It's 2016, and a racist, ...   466954\n"
          ],
          "name": "stdout"
        }
      ]
    },
    {
      "cell_type": "code",
      "metadata": {
        "id": "vl3SL2fotbpK",
        "colab_type": "code",
        "colab": {
          "base_uri": "https://localhost:8080/",
          "height": 121
        },
        "outputId": "554a0563-2648-481e-de2c-7b0b2421929f"
      },
      "source": [
        "test = pd.read_csv('https://raw.githubusercontent.com/Stephane-Masamba/Team_4_CPT_ML-Classification/Mikael/test%20(1).csv')\n",
        "print(test.head())\n"
      ],
      "execution_count": 100,
      "outputs": [
        {
          "output_type": "stream",
          "text": [
            "                                             message  tweetid\n",
            "0  Europe will now be looking to China to make su...   169760\n",
            "1  Combine this with the polling of staffers re c...    35326\n",
            "2  The scary, unimpeachable evidence that climate...   224985\n",
            "3  @Karoli @morgfair @OsborneInk @dailykos \\nPuti...   476263\n",
            "4  RT @FakeWillMoore: 'Female orgasms cause globa...   872928\n"
          ],
          "name": "stdout"
        }
      ]
    },
    {
      "cell_type": "code",
      "metadata": {
        "id": "kHFkpesDthSE",
        "colab_type": "code",
        "colab": {
          "base_uri": "https://localhost:8080/",
          "height": 121
        },
        "outputId": "c39df1c7-0aac-4cd4-d0e1-5ad86f1369e0"
      },
      "source": [
        "sample = pd.read_csv('https://raw.githubusercontent.com/Stephane-Masamba/Team_4_CPT_ML-Classification/Mikael/sample_submission.csv')\n",
        "print(sample.head())\n"
      ],
      "execution_count": 101,
      "outputs": [
        {
          "output_type": "stream",
          "text": [
            "   tweetid  sentiment\n",
            "0   169760          1\n",
            "1    35326          1\n",
            "2   224985          1\n",
            "3   476263          1\n",
            "4   872928          1\n"
          ],
          "name": "stdout"
        }
      ]
    },
    {
      "cell_type": "markdown",
      "metadata": {
        "id": "95gOu5vo2VVV",
        "colab_type": "text"
      },
      "source": [
        "This time we only call one cleaning function which is the clean_text() function. This does not include tokenization as well as lemmatization"
      ]
    },
    {
      "cell_type": "code",
      "metadata": {
        "id": "Mqw1jzqUDL3p",
        "colab_type": "code",
        "colab": {
          "base_uri": "https://localhost:8080/",
          "height": 416
        },
        "outputId": "d6fde656-ad49-49c8-a135-3eab2ff1a043"
      },
      "source": [
        "clean_text(train)\n",
        "remove_stopwords(train)"
      ],
      "execution_count": 106,
      "outputs": [
        {
          "output_type": "execute_result",
          "data": {
            "text/html": [
              "<div>\n",
              "<style scoped>\n",
              "    .dataframe tbody tr th:only-of-type {\n",
              "        vertical-align: middle;\n",
              "    }\n",
              "\n",
              "    .dataframe tbody tr th {\n",
              "        vertical-align: top;\n",
              "    }\n",
              "\n",
              "    .dataframe thead th {\n",
              "        text-align: right;\n",
              "    }\n",
              "</style>\n",
              "<table border=\"1\" class=\"dataframe\">\n",
              "  <thead>\n",
              "    <tr style=\"text-align: right;\">\n",
              "      <th></th>\n",
              "      <th>sentiment</th>\n",
              "      <th>message</th>\n",
              "      <th>tweetid</th>\n",
              "    </tr>\n",
              "  </thead>\n",
              "  <tbody>\n",
              "    <tr>\n",
              "      <th>0</th>\n",
              "      <td>1</td>\n",
              "      <td>polyscimajor epa chief doesnt think carbon dio...</td>\n",
              "      <td>625221</td>\n",
              "    </tr>\n",
              "    <tr>\n",
              "      <th>1</th>\n",
              "      <td>1</td>\n",
              "      <td>like lack evidence anthropogenic global warming</td>\n",
              "      <td>126103</td>\n",
              "    </tr>\n",
              "    <tr>\n",
              "      <th>2</th>\n",
              "      <td>2</td>\n",
              "      <td>rt researchers say three years act climate cha...</td>\n",
              "      <td>698562</td>\n",
              "    </tr>\n",
              "    <tr>\n",
              "      <th>3</th>\n",
              "      <td>1</td>\n",
              "      <td>todayinmaker wired 2016 pivotal year war clima...</td>\n",
              "      <td>573736</td>\n",
              "    </tr>\n",
              "    <tr>\n",
              "      <th>4</th>\n",
              "      <td>1</td>\n",
              "      <td>rt 2016 racist sexist climate change denying b...</td>\n",
              "      <td>466954</td>\n",
              "    </tr>\n",
              "    <tr>\n",
              "      <th>...</th>\n",
              "      <td>...</td>\n",
              "      <td>...</td>\n",
              "      <td>...</td>\n",
              "    </tr>\n",
              "    <tr>\n",
              "      <th>15814</th>\n",
              "      <td>1</td>\n",
              "      <td>rt took material global warming lgbt rights he...</td>\n",
              "      <td>22001</td>\n",
              "    </tr>\n",
              "    <tr>\n",
              "      <th>15815</th>\n",
              "      <td>2</td>\n",
              "      <td>rt climate change could breaking 200millionyea...</td>\n",
              "      <td>17856</td>\n",
              "    </tr>\n",
              "    <tr>\n",
              "      <th>15816</th>\n",
              "      <td>0</td>\n",
              "      <td>notiven rt nytimesworld trump actually believe...</td>\n",
              "      <td>384248</td>\n",
              "    </tr>\n",
              "    <tr>\n",
              "      <th>15817</th>\n",
              "      <td>-1</td>\n",
              "      <td>rt hey liberals climate change crap hoax ties ...</td>\n",
              "      <td>819732</td>\n",
              "    </tr>\n",
              "    <tr>\n",
              "      <th>15818</th>\n",
              "      <td>0</td>\n",
              "      <td>rt climate change equation 4 screenshots</td>\n",
              "      <td>806319</td>\n",
              "    </tr>\n",
              "  </tbody>\n",
              "</table>\n",
              "<p>15819 rows × 3 columns</p>\n",
              "</div>"
            ],
            "text/plain": [
              "       sentiment                                            message  tweetid\n",
              "0              1  polyscimajor epa chief doesnt think carbon dio...   625221\n",
              "1              1    like lack evidence anthropogenic global warming   126103\n",
              "2              2  rt researchers say three years act climate cha...   698562\n",
              "3              1  todayinmaker wired 2016 pivotal year war clima...   573736\n",
              "4              1  rt 2016 racist sexist climate change denying b...   466954\n",
              "...          ...                                                ...      ...\n",
              "15814          1  rt took material global warming lgbt rights he...    22001\n",
              "15815          2  rt climate change could breaking 200millionyea...    17856\n",
              "15816          0  notiven rt nytimesworld trump actually believe...   384248\n",
              "15817         -1  rt hey liberals climate change crap hoax ties ...   819732\n",
              "15818          0           rt climate change equation 4 screenshots   806319\n",
              "\n",
              "[15819 rows x 3 columns]"
            ]
          },
          "metadata": {
            "tags": []
          },
          "execution_count": 106
        }
      ]
    },
    {
      "cell_type": "code",
      "metadata": {
        "id": "IoOaL19lEO4C",
        "colab_type": "code",
        "colab": {
          "base_uri": "https://localhost:8080/",
          "height": 416
        },
        "outputId": "d181b63d-56fc-4dcb-fa49-a4792c4ac95e"
      },
      "source": [
        "clean_text(test)\n",
        "remove_stopwords(test)"
      ],
      "execution_count": 107,
      "outputs": [
        {
          "output_type": "execute_result",
          "data": {
            "text/html": [
              "<div>\n",
              "<style scoped>\n",
              "    .dataframe tbody tr th:only-of-type {\n",
              "        vertical-align: middle;\n",
              "    }\n",
              "\n",
              "    .dataframe tbody tr th {\n",
              "        vertical-align: top;\n",
              "    }\n",
              "\n",
              "    .dataframe thead th {\n",
              "        text-align: right;\n",
              "    }\n",
              "</style>\n",
              "<table border=\"1\" class=\"dataframe\">\n",
              "  <thead>\n",
              "    <tr style=\"text-align: right;\">\n",
              "      <th></th>\n",
              "      <th>message</th>\n",
              "      <th>tweetid</th>\n",
              "    </tr>\n",
              "  </thead>\n",
              "  <tbody>\n",
              "    <tr>\n",
              "      <th>0</th>\n",
              "      <td>europe looking china make sure alone fighting ...</td>\n",
              "      <td>169760</td>\n",
              "    </tr>\n",
              "    <tr>\n",
              "      <th>1</th>\n",
              "      <td>Combine polling staffers climate change womens...</td>\n",
              "      <td>35326</td>\n",
              "    </tr>\n",
              "    <tr>\n",
              "      <th>2</th>\n",
              "      <td>The scary , unimpeachable evidence climate cha...</td>\n",
              "      <td>224985</td>\n",
              "    </tr>\n",
              "    <tr>\n",
              "      <th>3</th>\n",
              "      <td>@ Karoli @ morgfair @ OsborneInk @ dailykos Pu...</td>\n",
              "      <td>476263</td>\n",
              "    </tr>\n",
              "    <tr>\n",
              "      <th>4</th>\n",
              "      <td>RT @ FakeWillMoore : 'Female orgasms cause glo...</td>\n",
              "      <td>872928</td>\n",
              "    </tr>\n",
              "    <tr>\n",
              "      <th>...</th>\n",
              "      <td>...</td>\n",
              "      <td>...</td>\n",
              "    </tr>\n",
              "    <tr>\n",
              "      <th>10541</th>\n",
              "      <td>RT @ BrittanyBohrer : Brb , writing poem clima...</td>\n",
              "      <td>895714</td>\n",
              "    </tr>\n",
              "    <tr>\n",
              "      <th>10542</th>\n",
              "      <td>2016 : year climate change came home : During ...</td>\n",
              "      <td>875167</td>\n",
              "    </tr>\n",
              "    <tr>\n",
              "      <th>10543</th>\n",
              "      <td>RT @ loop_vanuatu : Pacific countries positive...</td>\n",
              "      <td>78329</td>\n",
              "    </tr>\n",
              "    <tr>\n",
              "      <th>10544</th>\n",
              "      <td>RT @ xanria_00018 : You ’ hot , must cause glo...</td>\n",
              "      <td>867455</td>\n",
              "    </tr>\n",
              "    <tr>\n",
              "      <th>10545</th>\n",
              "      <td>RT @ chloebalaoing : climate change global iss...</td>\n",
              "      <td>470892</td>\n",
              "    </tr>\n",
              "  </tbody>\n",
              "</table>\n",
              "<p>10546 rows × 2 columns</p>\n",
              "</div>"
            ],
            "text/plain": [
              "                                                 message  tweetid\n",
              "0      europe looking china make sure alone fighting ...   169760\n",
              "1      Combine polling staffers climate change womens...    35326\n",
              "2      The scary , unimpeachable evidence climate cha...   224985\n",
              "3      @ Karoli @ morgfair @ OsborneInk @ dailykos Pu...   476263\n",
              "4      RT @ FakeWillMoore : 'Female orgasms cause glo...   872928\n",
              "...                                                  ...      ...\n",
              "10541  RT @ BrittanyBohrer : Brb , writing poem clima...   895714\n",
              "10542  2016 : year climate change came home : During ...   875167\n",
              "10543  RT @ loop_vanuatu : Pacific countries positive...    78329\n",
              "10544  RT @ xanria_00018 : You ’ hot , must cause glo...   867455\n",
              "10545  RT @ chloebalaoing : climate change global iss...   470892\n",
              "\n",
              "[10546 rows x 2 columns]"
            ]
          },
          "metadata": {
            "tags": []
          },
          "execution_count": 107
        }
      ]
    },
    {
      "cell_type": "markdown",
      "metadata": {
        "id": "PW0Aqhr2kdeF",
        "colab_type": "text"
      },
      "source": [
        "###Features and Modelling"
      ]
    },
    {
      "cell_type": "code",
      "metadata": {
        "id": "f19MFMIY3KLi",
        "colab_type": "code",
        "colab": {
          "base_uri": "https://localhost:8080/",
          "height": 225
        },
        "outputId": "d24e3e2e-f2ad-436e-f725-5ef382ee77d3"
      },
      "source": [
        "X_min = train['message']\n",
        "X_min\n"
      ],
      "execution_count": 108,
      "outputs": [
        {
          "output_type": "execute_result",
          "data": {
            "text/plain": [
              "0        polyscimajor epa chief doesnt think carbon dio...\n",
              "1          like lack evidence anthropogenic global warming\n",
              "2        rt researchers say three years act climate cha...\n",
              "3        todayinmaker wired 2016 pivotal year war clima...\n",
              "4        rt 2016 racist sexist climate change denying b...\n",
              "                               ...                        \n",
              "15814    rt took material global warming lgbt rights he...\n",
              "15815    rt climate change could breaking 200millionyea...\n",
              "15816    notiven rt nytimesworld trump actually believe...\n",
              "15817    rt hey liberals climate change crap hoax ties ...\n",
              "15818             rt climate change equation 4 screenshots\n",
              "Name: message, Length: 15819, dtype: object"
            ]
          },
          "metadata": {
            "tags": []
          },
          "execution_count": 108
        }
      ]
    },
    {
      "cell_type": "code",
      "metadata": {
        "id": "K_6P14uc3W0H",
        "colab_type": "code",
        "colab": {
          "base_uri": "https://localhost:8080/",
          "height": 225
        },
        "outputId": "3768f0be-baa2-4003-a3e3-30e5a6dc4ff3"
      },
      "source": [
        "y_min = train['sentiment']\n",
        "y_min\n"
      ],
      "execution_count": 109,
      "outputs": [
        {
          "output_type": "execute_result",
          "data": {
            "text/plain": [
              "0        1\n",
              "1        1\n",
              "2        2\n",
              "3        1\n",
              "4        1\n",
              "        ..\n",
              "15814    1\n",
              "15815    2\n",
              "15816    0\n",
              "15817   -1\n",
              "15818    0\n",
              "Name: sentiment, Length: 15819, dtype: int64"
            ]
          },
          "metadata": {
            "tags": []
          },
          "execution_count": 109
        }
      ]
    },
    {
      "cell_type": "markdown",
      "metadata": {
        "id": "ZpHXHlui3Zws",
        "colab_type": "text"
      },
      "source": [
        "###Convert to machine language"
      ]
    },
    {
      "cell_type": "code",
      "metadata": {
        "id": "lD2xQ8Fb5sVw",
        "colab_type": "code",
        "colab": {}
      },
      "source": [
        "X_min = tf_vecto.fit_transform(X_min)\n"
      ],
      "execution_count": 110,
      "outputs": []
    },
    {
      "cell_type": "code",
      "metadata": {
        "id": "xkBBEQStmu3i",
        "colab_type": "code",
        "colab": {}
      },
      "source": [
        "#train_test_split\n",
        "X_train2,X_test2,y_train2,y_test2 = train_test_split(X_min,y_min,test_size=0.2,random_state=0)"
      ],
      "execution_count": 111,
      "outputs": []
    },
    {
      "cell_type": "markdown",
      "metadata": {
        "id": "s8DgqL504f16",
        "colab_type": "text"
      },
      "source": [
        "###Stochastic Gradient Descent"
      ]
    },
    {
      "cell_type": "code",
      "metadata": {
        "id": "3NzmKTgzIxgh",
        "colab_type": "code",
        "colab": {
          "base_uri": "https://localhost:8080/",
          "height": 34
        },
        "outputId": "aa5c4432-ae96-40a5-a818-4a5a6314612f"
      },
      "source": [
        "sgd = SGDClassifier()\n",
        "\n",
        "sgd_accuracy = accuracy(sgd)\n",
        "sgd_accuracy\n",
        "\n"
      ],
      "execution_count": 116,
      "outputs": [
        {
          "output_type": "execute_result",
          "data": {
            "text/plain": [
              "[0.9516088267805383, 0.726783890695714]"
            ]
          },
          "metadata": {
            "tags": []
          },
          "execution_count": 116
        }
      ]
    },
    {
      "cell_type": "markdown",
      "metadata": {
        "id": "ONjiNYLnmbq7",
        "colab_type": "text"
      },
      "source": [
        "###Linear SVC"
      ]
    },
    {
      "cell_type": "code",
      "metadata": {
        "id": "OqtzXN2aws54",
        "colab_type": "code",
        "colab": {
          "base_uri": "https://localhost:8080/",
          "height": 34
        },
        "outputId": "e8f137c7-8b49-45e8-86f3-5f251af7c1e4"
      },
      "source": [
        "linear_sv = LinearSVC()\n",
        "\n",
        "linear_sv_accuracy = accuracy(linear_sv)\n",
        "linear_sv_accuracy\n"
      ],
      "execution_count": 117,
      "outputs": [
        {
          "output_type": "execute_result",
          "data": {
            "text/plain": [
              "[0.9941209807489532, 0.7269101930387424]"
            ]
          },
          "metadata": {
            "tags": []
          },
          "execution_count": 117
        }
      ]
    },
    {
      "cell_type": "code",
      "metadata": {
        "id": "EktlZbOIzGsc",
        "colab_type": "code",
        "colab": {
          "base_uri": "https://localhost:8080/",
          "height": 86
        },
        "outputId": "baed5f48-fb93-4965-eb7d-4609fff55e5e"
      },
      "source": [
        "linear_sv.fit(X_train2, y_train2)\n"
      ],
      "execution_count": 114,
      "outputs": [
        {
          "output_type": "execute_result",
          "data": {
            "text/plain": [
              "LinearSVC(C=1.0, class_weight=None, dual=True, fit_intercept=True,\n",
              "          intercept_scaling=1, loss='squared_hinge', max_iter=1000,\n",
              "          multi_class='ovr', penalty='l2', random_state=None, tol=0.0001,\n",
              "          verbose=0)"
            ]
          },
          "metadata": {
            "tags": []
          },
          "execution_count": 114
        }
      ]
    },
    {
      "cell_type": "code",
      "metadata": {
        "id": "dt1k_nN3oFfU",
        "colab_type": "code",
        "colab": {
          "base_uri": "https://localhost:8080/",
          "height": 398
        },
        "outputId": "8c0a546e-6f72-46c3-ef96-67ed12ce5b72"
      },
      "source": [
        "#confusion matrix and classification_report\n",
        "y_pred2 = linear_sv.predict(X_test2)\n",
        "\n",
        "\n",
        "print(confusion_matrix(y_test1,y_pred1))\n",
        "\n",
        "print('\\n\\nAccuracy score: ' + str(accuracy_score(y_test2, y_pred1)))\n",
        "print(\"\\n\\nClassification Report:\\n\\n\",classification_report(y_test2,y_pred2,target_names=['Anti', 'Neutral','Pro','News']))"
      ],
      "execution_count": 115,
      "outputs": [
        {
          "output_type": "stream",
          "text": [
            "[[  77   23  129   20]\n",
            " [  12  149  278   34]\n",
            " [  12   50 1530  109]\n",
            " [   4    8  199  530]]\n",
            "\n",
            "\n",
            "Accuracy score: 0.7225031605562579\n",
            "\n",
            "\n",
            "Classification Report:\n",
            "\n",
            "               precision    recall  f1-score   support\n",
            "\n",
            "        Anti       0.73      0.31      0.44       249\n",
            "     Neutral       0.65      0.32      0.42       473\n",
            "         Pro       0.72      0.90      0.80      1701\n",
            "        News       0.76      0.72      0.74       741\n",
            "\n",
            "    accuracy                           0.72      3164\n",
            "   macro avg       0.72      0.56      0.60      3164\n",
            "weighted avg       0.72      0.72      0.70      3164\n",
            "\n"
          ],
          "name": "stdout"
        }
      ]
    },
    {
      "cell_type": "markdown",
      "metadata": {
        "id": "DQIx8LdJ5XkN",
        "colab_type": "text"
      },
      "source": [
        "#Model Analysis and Insights"
      ]
    },
    {
      "cell_type": "markdown",
      "metadata": {
        "id": "yBIirzqoqHg1",
        "colab_type": "text"
      },
      "source": [
        ""
      ]
    },
    {
      "cell_type": "markdown",
      "metadata": {
        "id": "AAuPQ7QL562Y",
        "colab_type": "text"
      },
      "source": [
        "#Conclusion"
      ]
    },
    {
      "cell_type": "markdown",
      "metadata": {
        "id": "07ia2EcNx7bE",
        "colab_type": "text"
      },
      "source": [
        "Through the classification techniques,companies will be able to  access a broad base of consumer sentiments, spanning multiple demographic and geographic categories and this will increasing their insights and inform  strategies.\n",
        "\n",
        "This include adding to their market research efforts in gauging how their product or service may be received.\n"
      ]
    }
  ]
}