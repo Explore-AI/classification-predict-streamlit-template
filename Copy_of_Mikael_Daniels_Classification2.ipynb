{
  "nbformat": 4,
  "nbformat_minor": 0,
  "metadata": {
    "colab": {
      "name": "Copy of Mikael_Daniels_Classification2.ipynb",
      "provenance": [],
      "collapsed_sections": [],
      "toc_visible": true,
      "include_colab_link": true
    },
    "kernelspec": {
      "name": "python3",
      "display_name": "Python 3"
    }
  },
  "cells": [
    {
      "cell_type": "markdown",
      "metadata": {
        "id": "view-in-github",
        "colab_type": "text"
      },
      "source": [
        "<a href=\"https://colab.research.google.com/github/Stephane-Masamba/Team_4_CPT_ML-Classification/blob/Mikael/Copy_of_Mikael_Daniels_Classification2.ipynb\" target=\"_parent\"><img src=\"https://colab.research.google.com/assets/colab-badge.svg\" alt=\"Open In Colab\"/></a>"
      ]
    },
    {
      "cell_type": "markdown",
      "metadata": {
        "id": "zeuHJ4dUysfz",
        "colab_type": "text"
      },
      "source": [
        "#Introduction"
      ]
    },
    {
      "cell_type": "markdown",
      "metadata": {
        "id": "5zVp58ofzaYy",
        "colab_type": "text"
      },
      "source": [
        "Many companies are built around lessening their environmental impact and thus they offer products that are environmentally friendly and sustainable. With that, they would like to determine how people perceive climate change.\n",
        "\n",
        "\n",
        "\n",
        "\n",
        "This notebook aims to create a Machine Learning model that is able to classify whether or not a person believes in climate change based on their novel tweet.\n"
      ]
    },
    {
      "cell_type": "markdown",
      "metadata": {
        "id": "agQ7LkTh0Z2q",
        "colab_type": "text"
      },
      "source": [
        "#Imports"
      ]
    },
    {
      "cell_type": "markdown",
      "metadata": {
        "id": "752ir0eG1BUd",
        "colab_type": "text"
      },
      "source": [
        "###Import Libraries"
      ]
    },
    {
      "cell_type": "code",
      "metadata": {
        "id": "Nx6wBtTChk5U",
        "colab_type": "code",
        "colab": {
          "base_uri": "https://localhost:8080/",
          "height": 398
        },
        "outputId": "a4648ec9-82bc-4ba1-8673-65783fd0b950"
      },
      "source": [
        "!pip install spacy\n",
        "!pip install NLTK"
      ],
      "execution_count": 4,
      "outputs": [
        {
          "output_type": "stream",
          "text": [
            "Requirement already satisfied: spacy in /usr/local/lib/python3.6/dist-packages (2.2.4)\n",
            "Requirement already satisfied: blis<0.5.0,>=0.4.0 in /usr/local/lib/python3.6/dist-packages (from spacy) (0.4.1)\n",
            "Requirement already satisfied: plac<1.2.0,>=0.9.6 in /usr/local/lib/python3.6/dist-packages (from spacy) (1.1.3)\n",
            "Requirement already satisfied: tqdm<5.0.0,>=4.38.0 in /usr/local/lib/python3.6/dist-packages (from spacy) (4.41.1)\n",
            "Requirement already satisfied: thinc==7.4.0 in /usr/local/lib/python3.6/dist-packages (from spacy) (7.4.0)\n",
            "Requirement already satisfied: murmurhash<1.1.0,>=0.28.0 in /usr/local/lib/python3.6/dist-packages (from spacy) (1.0.2)\n",
            "Requirement already satisfied: setuptools in /usr/local/lib/python3.6/dist-packages (from spacy) (47.3.1)\n",
            "Requirement already satisfied: numpy>=1.15.0 in /usr/local/lib/python3.6/dist-packages (from spacy) (1.18.5)\n",
            "Requirement already satisfied: requests<3.0.0,>=2.13.0 in /usr/local/lib/python3.6/dist-packages (from spacy) (2.23.0)\n",
            "Requirement already satisfied: cymem<2.1.0,>=2.0.2 in /usr/local/lib/python3.6/dist-packages (from spacy) (2.0.3)\n",
            "Requirement already satisfied: preshed<3.1.0,>=3.0.2 in /usr/local/lib/python3.6/dist-packages (from spacy) (3.0.2)\n",
            "Requirement already satisfied: wasabi<1.1.0,>=0.4.0 in /usr/local/lib/python3.6/dist-packages (from spacy) (0.6.0)\n",
            "Requirement already satisfied: srsly<1.1.0,>=1.0.2 in /usr/local/lib/python3.6/dist-packages (from spacy) (1.0.2)\n",
            "Requirement already satisfied: catalogue<1.1.0,>=0.0.7 in /usr/local/lib/python3.6/dist-packages (from spacy) (1.0.0)\n",
            "Requirement already satisfied: urllib3!=1.25.0,!=1.25.1,<1.26,>=1.21.1 in /usr/local/lib/python3.6/dist-packages (from requests<3.0.0,>=2.13.0->spacy) (1.24.3)\n",
            "Requirement already satisfied: certifi>=2017.4.17 in /usr/local/lib/python3.6/dist-packages (from requests<3.0.0,>=2.13.0->spacy) (2020.4.5.2)\n",
            "Requirement already satisfied: idna<3,>=2.5 in /usr/local/lib/python3.6/dist-packages (from requests<3.0.0,>=2.13.0->spacy) (2.9)\n",
            "Requirement already satisfied: chardet<4,>=3.0.2 in /usr/local/lib/python3.6/dist-packages (from requests<3.0.0,>=2.13.0->spacy) (3.0.4)\n",
            "Requirement already satisfied: importlib-metadata>=0.20; python_version < \"3.8\" in /usr/local/lib/python3.6/dist-packages (from catalogue<1.1.0,>=0.0.7->spacy) (1.6.1)\n",
            "Requirement already satisfied: zipp>=0.5 in /usr/local/lib/python3.6/dist-packages (from importlib-metadata>=0.20; python_version < \"3.8\"->catalogue<1.1.0,>=0.0.7->spacy) (3.1.0)\n",
            "Requirement already satisfied: NLTK in /usr/local/lib/python3.6/dist-packages (3.2.5)\n",
            "Requirement already satisfied: six in /usr/local/lib/python3.6/dist-packages (from NLTK) (1.12.0)\n"
          ],
          "name": "stdout"
        }
      ]
    },
    {
      "cell_type": "code",
      "metadata": {
        "id": "_vG_T9DtyqJe",
        "colab_type": "code",
        "colab": {}
      },
      "source": [
        "import numpy as np\n",
        "import pandas as pd\n",
        "import sklearn\n",
        "import matplotlib.pyplot as plt\n",
        "from numpy import arange\n",
        "\n",
        "import re\n",
        "import spacy.cli\n",
        "import nltk\n",
        "from nltk.corpus import stopwords\n",
        "from nltk.tokenize import word_tokenize\n",
        "\n",
        "from sklearn.model_selection import train_test_split\n",
        "from sklearn.model_selection import cross_val_score\n",
        "from sklearn.model_selection import GridSearchCV\n",
        "from sklearn.model_selection import  KFold\n",
        "\n",
        "from sklearn.metrics import accuracy_score, f1_score\n",
        "from sklearn.metrics import classification_report\n",
        "from sklearn.metrics import confusion_matrix\n",
        "\n",
        "from sklearn.feature_extraction.text import TfidfVectorizer\n",
        "\n",
        "from sklearn.utils import resample\n",
        "\n",
        "#Machine Learning Models\n",
        "from sklearn.naive_bayes import MultinomialNB, BernoulliNB\n",
        "from sklearn.svm import LinearSVC, SVC\n",
        "from sklearn.linear_model import SGDClassifier, LinearRegression\n",
        "from sklearn.ensemble import RandomForestClassifier, GradientBoostingClassifier, ExtraTreesClassifier, BaggingClassifier\n",
        "from sklearn.tree import DecisionTreeClassifier\n",
        "from sklearn.neighbors import KNeighborsClassifier\n",
        "from sklearn.gaussian_process import GaussianProcessClassifier\n",
        "\n",
        "from google.colab import drive"
      ],
      "execution_count": 5,
      "outputs": []
    },
    {
      "cell_type": "code",
      "metadata": {
        "id": "m3Qrj4YjijW6",
        "colab_type": "code",
        "colab": {
          "base_uri": "https://localhost:8080/",
          "height": 173
        },
        "outputId": "0d95f5e0-ce79-4351-a219-c3d9ecaee4e0"
      },
      "source": [
        "spacy.cli.download('en_core_web_sm')\n",
        "nltk.download('punkt')\n",
        "nltk.download('wordnet')\n",
        "nltk.download('stopwords')"
      ],
      "execution_count": 6,
      "outputs": [
        {
          "output_type": "stream",
          "text": [
            "\u001b[38;5;2m✔ Download and installation successful\u001b[0m\n",
            "You can now load the model via spacy.load('en_core_web_sm')\n",
            "[nltk_data] Downloading package punkt to /root/nltk_data...\n",
            "[nltk_data]   Unzipping tokenizers/punkt.zip.\n",
            "[nltk_data] Downloading package wordnet to /root/nltk_data...\n",
            "[nltk_data]   Unzipping corpora/wordnet.zip.\n",
            "[nltk_data] Downloading package stopwords to /root/nltk_data...\n",
            "[nltk_data]   Unzipping corpora/stopwords.zip.\n"
          ],
          "name": "stdout"
        },
        {
          "output_type": "execute_result",
          "data": {
            "text/plain": [
              "True"
            ]
          },
          "metadata": {
            "tags": []
          },
          "execution_count": 6
        }
      ]
    },
    {
      "cell_type": "code",
      "metadata": {
        "id": "9wVx40yIkNQF",
        "colab_type": "code",
        "colab": {}
      },
      "source": [
        "nlp = spacy.load('en_core_web_sm')"
      ],
      "execution_count": 7,
      "outputs": []
    },
    {
      "cell_type": "markdown",
      "metadata": {
        "colab_type": "text",
        "id": "BJlh_PGlCMbF"
      },
      "source": [
        "#Read in the datasets"
      ]
    },
    {
      "cell_type": "code",
      "metadata": {
        "id": "X2ZRcRRWjCn9",
        "colab_type": "code",
        "colab": {
          "base_uri": "https://localhost:8080/",
          "height": 121
        },
        "outputId": "b3f54c8f-9850-41ac-aeaa-de72865c1dd7"
      },
      "source": [
        "train = pd.read_csv('https://raw.githubusercontent.com/Stephane-Masamba/Team_4_CPT_ML-Classification/Mikael/train%20(1).csv')\n",
        "print(train.head())"
      ],
      "execution_count": 8,
      "outputs": [
        {
          "output_type": "stream",
          "text": [
            "   sentiment                                            message  tweetid\n",
            "0          1  PolySciMajor EPA chief doesn't think carbon di...   625221\n",
            "1          1  It's not like we lack evidence of anthropogeni...   126103\n",
            "2          2  RT @RawStory: Researchers say we have three ye...   698562\n",
            "3          1  #TodayinMaker# WIRED : 2016 was a pivotal year...   573736\n",
            "4          1  RT @SoyNovioDeTodas: It's 2016, and a racist, ...   466954\n"
          ],
          "name": "stdout"
        }
      ]
    },
    {
      "cell_type": "code",
      "metadata": {
        "id": "Hx6btvpljPtK",
        "colab_type": "code",
        "colab": {
          "base_uri": "https://localhost:8080/",
          "height": 121
        },
        "outputId": "72c79d65-f99d-46a5-ee28-d461913606f6"
      },
      "source": [
        "test = pd.read_csv('https://raw.githubusercontent.com/Stephane-Masamba/Team_4_CPT_ML-Classification/Mikael/test%20(1).csv')\n",
        "print(test.head())"
      ],
      "execution_count": 9,
      "outputs": [
        {
          "output_type": "stream",
          "text": [
            "                                             message  tweetid\n",
            "0  Europe will now be looking to China to make su...   169760\n",
            "1  Combine this with the polling of staffers re c...    35326\n",
            "2  The scary, unimpeachable evidence that climate...   224985\n",
            "3  @Karoli @morgfair @OsborneInk @dailykos \\nPuti...   476263\n",
            "4  RT @FakeWillMoore: 'Female orgasms cause globa...   872928\n"
          ],
          "name": "stdout"
        }
      ]
    },
    {
      "cell_type": "markdown",
      "metadata": {
        "id": "GjJmKNotNBmv",
        "colab_type": "text"
      },
      "source": [
        "#Data Cleaning"
      ]
    },
    {
      "cell_type": "markdown",
      "metadata": {
        "id": "zwefjbFg2T1L",
        "colab_type": "text"
      },
      "source": [
        "Knowing that we are dealing with text data, we decided to first clean the data by making all tweets lower-case, removing punctuation marks and removing white spaces before doing anything else. Also, replacing all links with the word 'LINK' and all user handles with 'USER_REF'"
      ]
    },
    {
      "cell_type": "code",
      "metadata": {
        "id": "-FT0mtEVjZv2",
        "colab_type": "code",
        "colab": {}
      },
      "source": [
        "def clean_text(df):\n",
        "    i = 0\n",
        "    for tweet in df['message']:\n",
        "      tweet = tweet.lower()\n",
        "      tweet = re.sub(r'http\\S+', 'LINK', tweet)\n",
        "      tweet = re.sub(r'@\\S+', 'USER_REF', tweet)\n",
        "      tweet = re.sub(r'[^\\w\\s]', '', tweet)\n",
        "      tweet = tweet.lstrip()\n",
        "      tweet = tweet.rstrip()\n",
        "      tweet = tweet.replace('  ', ' ')\n",
        "      df.loc[i, 'message'] = tweet\n",
        "      i += 1"
      ],
      "execution_count": 11,
      "outputs": []
    },
    {
      "cell_type": "code",
      "metadata": {
        "id": "imNo7YM9PDvu",
        "colab_type": "code",
        "colab": {
          "base_uri": "https://localhost:8080/",
          "height": 416
        },
        "outputId": "dda1d460-e94f-4914-c0b9-ac323b97dcc7"
      },
      "source": [
        "clean_text(train)\n",
        "train"
      ],
      "execution_count": 13,
      "outputs": [
        {
          "output_type": "execute_result",
          "data": {
            "text/html": [
              "<div>\n",
              "<style scoped>\n",
              "    .dataframe tbody tr th:only-of-type {\n",
              "        vertical-align: middle;\n",
              "    }\n",
              "\n",
              "    .dataframe tbody tr th {\n",
              "        vertical-align: top;\n",
              "    }\n",
              "\n",
              "    .dataframe thead th {\n",
              "        text-align: right;\n",
              "    }\n",
              "</style>\n",
              "<table border=\"1\" class=\"dataframe\">\n",
              "  <thead>\n",
              "    <tr style=\"text-align: right;\">\n",
              "      <th></th>\n",
              "      <th>sentiment</th>\n",
              "      <th>message</th>\n",
              "      <th>tweetid</th>\n",
              "    </tr>\n",
              "  </thead>\n",
              "  <tbody>\n",
              "    <tr>\n",
              "      <th>0</th>\n",
              "      <td>1</td>\n",
              "      <td>polyscimajor epa chief doesnt think carbon dio...</td>\n",
              "      <td>625221</td>\n",
              "    </tr>\n",
              "    <tr>\n",
              "      <th>1</th>\n",
              "      <td>1</td>\n",
              "      <td>its not like we lack evidence of anthropogenic...</td>\n",
              "      <td>126103</td>\n",
              "    </tr>\n",
              "    <tr>\n",
              "      <th>2</th>\n",
              "      <td>2</td>\n",
              "      <td>rt user_ref researchers say we have three year...</td>\n",
              "      <td>698562</td>\n",
              "    </tr>\n",
              "    <tr>\n",
              "      <th>3</th>\n",
              "      <td>1</td>\n",
              "      <td>todayinmaker wired 2016 was a pivotal year in ...</td>\n",
              "      <td>573736</td>\n",
              "    </tr>\n",
              "    <tr>\n",
              "      <th>4</th>\n",
              "      <td>1</td>\n",
              "      <td>rt user_ref its 2016 and a racist sexist clima...</td>\n",
              "      <td>466954</td>\n",
              "    </tr>\n",
              "    <tr>\n",
              "      <th>...</th>\n",
              "      <td>...</td>\n",
              "      <td>...</td>\n",
              "      <td>...</td>\n",
              "    </tr>\n",
              "    <tr>\n",
              "      <th>15814</th>\n",
              "      <td>1</td>\n",
              "      <td>rt user_ref they took down the material on glo...</td>\n",
              "      <td>22001</td>\n",
              "    </tr>\n",
              "    <tr>\n",
              "      <th>15815</th>\n",
              "      <td>2</td>\n",
              "      <td>rt user_ref how climate change could be breaki...</td>\n",
              "      <td>17856</td>\n",
              "    </tr>\n",
              "    <tr>\n",
              "      <th>15816</th>\n",
              "      <td>0</td>\n",
              "      <td>notiven rt nytimesworld what does trump actual...</td>\n",
              "      <td>384248</td>\n",
              "    </tr>\n",
              "    <tr>\n",
              "      <th>15817</th>\n",
              "      <td>-1</td>\n",
              "      <td>rt user_ref hey liberals the climate change cr...</td>\n",
              "      <td>819732</td>\n",
              "    </tr>\n",
              "    <tr>\n",
              "      <th>15818</th>\n",
              "      <td>0</td>\n",
              "      <td>rt user_ref user_ref climate change equation i...</td>\n",
              "      <td>806319</td>\n",
              "    </tr>\n",
              "  </tbody>\n",
              "</table>\n",
              "<p>15819 rows × 3 columns</p>\n",
              "</div>"
            ],
            "text/plain": [
              "       sentiment                                            message  tweetid\n",
              "0              1  polyscimajor epa chief doesnt think carbon dio...   625221\n",
              "1              1  its not like we lack evidence of anthropogenic...   126103\n",
              "2              2  rt user_ref researchers say we have three year...   698562\n",
              "3              1  todayinmaker wired 2016 was a pivotal year in ...   573736\n",
              "4              1  rt user_ref its 2016 and a racist sexist clima...   466954\n",
              "...          ...                                                ...      ...\n",
              "15814          1  rt user_ref they took down the material on glo...    22001\n",
              "15815          2  rt user_ref how climate change could be breaki...    17856\n",
              "15816          0  notiven rt nytimesworld what does trump actual...   384248\n",
              "15817         -1  rt user_ref hey liberals the climate change cr...   819732\n",
              "15818          0  rt user_ref user_ref climate change equation i...   806319\n",
              "\n",
              "[15819 rows x 3 columns]"
            ]
          },
          "metadata": {
            "tags": []
          },
          "execution_count": 13
        }
      ]
    },
    {
      "cell_type": "code",
      "metadata": {
        "id": "XZGhAPi_TIl6",
        "colab_type": "code",
        "colab": {}
      },
      "source": [
        "clean_text(test)"
      ],
      "execution_count": 26,
      "outputs": []
    },
    {
      "cell_type": "markdown",
      "metadata": {
        "id": "IGiWpv04215t",
        "colab_type": "text"
      },
      "source": [
        "Here we add 'LINK' and 'USER_REF' to our list of stop words and remove all stop words from each tweet"
      ]
    },
    {
      "cell_type": "code",
      "metadata": {
        "id": "bRaM34T3jkNJ",
        "colab_type": "code",
        "colab": {}
      },
      "source": [
        "def remove_stopwords(df):\n",
        "    my_stop_words = stopwords.words('english')\n",
        "    my_stop_words.append('LINK')\n",
        "    my_stop_words.append('USER_REF')\n",
        "\n",
        "    df_index = 0\n",
        "\n",
        "    for tweet in df['message']:\n",
        "      tweet = word_tokenize(tweet)\n",
        "      tweet = [word for word in tweet if not word in my_stop_words]\n",
        "      tweet = ' '.join(tweet)\n",
        "\n",
        "      df.loc[df_index, 'message'] = tweet\n",
        "      df_index += 1\n",
        "\n",
        "    return df_index"
      ],
      "execution_count": 135,
      "outputs": []
    },
    {
      "cell_type": "code",
      "metadata": {
        "id": "-k21QOvEBoUi",
        "colab_type": "code",
        "colab": {
          "base_uri": "https://localhost:8080/",
          "height": 34
        },
        "outputId": "434d3eef-5ac4-4ba5-ef7d-fe6302597480"
      },
      "source": [
        "remove_stopwords(train)"
      ],
      "execution_count": 136,
      "outputs": [
        {
          "output_type": "execute_result",
          "data": {
            "text/plain": [
              "15819"
            ]
          },
          "metadata": {
            "tags": []
          },
          "execution_count": 136
        }
      ]
    },
    {
      "cell_type": "code",
      "metadata": {
        "id": "aMDYsHTzBsci",
        "colab_type": "code",
        "colab": {
          "base_uri": "https://localhost:8080/",
          "height": 416
        },
        "outputId": "c8116877-45a6-4f64-ef6b-4c2a55899686"
      },
      "source": [
        "train"
      ],
      "execution_count": 137,
      "outputs": [
        {
          "output_type": "execute_result",
          "data": {
            "text/html": [
              "<div>\n",
              "<style scoped>\n",
              "    .dataframe tbody tr th:only-of-type {\n",
              "        vertical-align: middle;\n",
              "    }\n",
              "\n",
              "    .dataframe tbody tr th {\n",
              "        vertical-align: top;\n",
              "    }\n",
              "\n",
              "    .dataframe thead th {\n",
              "        text-align: right;\n",
              "    }\n",
              "</style>\n",
              "<table border=\"1\" class=\"dataframe\">\n",
              "  <thead>\n",
              "    <tr style=\"text-align: right;\">\n",
              "      <th></th>\n",
              "      <th>sentiment</th>\n",
              "      <th>message</th>\n",
              "      <th>tweetid</th>\n",
              "    </tr>\n",
              "  </thead>\n",
              "  <tbody>\n",
              "    <tr>\n",
              "      <th>0</th>\n",
              "      <td>1</td>\n",
              "      <td>polyscimajor epa chief doesnt think carbon dio...</td>\n",
              "      <td>625221</td>\n",
              "    </tr>\n",
              "    <tr>\n",
              "      <th>1</th>\n",
              "      <td>1</td>\n",
              "      <td>like lack evidence anthropogenic global warming</td>\n",
              "      <td>126103</td>\n",
              "    </tr>\n",
              "    <tr>\n",
              "      <th>2</th>\n",
              "      <td>2</td>\n",
              "      <td>rt researchers say three years act climate cha...</td>\n",
              "      <td>698562</td>\n",
              "    </tr>\n",
              "    <tr>\n",
              "      <th>3</th>\n",
              "      <td>1</td>\n",
              "      <td>todayinmaker wired 2016 pivotal year war clima...</td>\n",
              "      <td>573736</td>\n",
              "    </tr>\n",
              "    <tr>\n",
              "      <th>4</th>\n",
              "      <td>1</td>\n",
              "      <td>rt 2016 racist sexist climate change denying b...</td>\n",
              "      <td>466954</td>\n",
              "    </tr>\n",
              "    <tr>\n",
              "      <th>...</th>\n",
              "      <td>...</td>\n",
              "      <td>...</td>\n",
              "      <td>...</td>\n",
              "    </tr>\n",
              "    <tr>\n",
              "      <th>15814</th>\n",
              "      <td>1</td>\n",
              "      <td>rt took material global warming lgbt rights he...</td>\n",
              "      <td>22001</td>\n",
              "    </tr>\n",
              "    <tr>\n",
              "      <th>15815</th>\n",
              "      <td>2</td>\n",
              "      <td>rt climate change could breaking 200millionyea...</td>\n",
              "      <td>17856</td>\n",
              "    </tr>\n",
              "    <tr>\n",
              "      <th>15816</th>\n",
              "      <td>0</td>\n",
              "      <td>notiven rt nytimesworld trump actually believe...</td>\n",
              "      <td>384248</td>\n",
              "    </tr>\n",
              "    <tr>\n",
              "      <th>15817</th>\n",
              "      <td>-1</td>\n",
              "      <td>rt hey liberals climate change crap hoax ties ...</td>\n",
              "      <td>819732</td>\n",
              "    </tr>\n",
              "    <tr>\n",
              "      <th>15818</th>\n",
              "      <td>0</td>\n",
              "      <td>rt climate change equation 4 screenshots</td>\n",
              "      <td>806319</td>\n",
              "    </tr>\n",
              "  </tbody>\n",
              "</table>\n",
              "<p>15819 rows × 3 columns</p>\n",
              "</div>"
            ],
            "text/plain": [
              "       sentiment                                            message  tweetid\n",
              "0              1  polyscimajor epa chief doesnt think carbon dio...   625221\n",
              "1              1    like lack evidence anthropogenic global warming   126103\n",
              "2              2  rt researchers say three years act climate cha...   698562\n",
              "3              1  todayinmaker wired 2016 pivotal year war clima...   573736\n",
              "4              1  rt 2016 racist sexist climate change denying b...   466954\n",
              "...          ...                                                ...      ...\n",
              "15814          1  rt took material global warming lgbt rights he...    22001\n",
              "15815          2  rt climate change could breaking 200millionyea...    17856\n",
              "15816          0  notiven rt nytimesworld trump actually believe...   384248\n",
              "15817         -1  rt hey liberals climate change crap hoax ties ...   819732\n",
              "15818          0           rt climate change equation 4 screenshots   806319\n",
              "\n",
              "[15819 rows x 3 columns]"
            ]
          },
          "metadata": {
            "tags": []
          },
          "execution_count": 137
        }
      ]
    },
    {
      "cell_type": "code",
      "metadata": {
        "id": "BaXQJ-lFOQG-",
        "colab_type": "code",
        "colab": {
          "base_uri": "https://localhost:8080/",
          "height": 416
        },
        "outputId": "3b67d76d-0ef8-4b00-ce8a-77fe4ffd133b"
      },
      "source": [
        "remove_stopwords(train)\n",
        "train"
      ],
      "execution_count": 16,
      "outputs": [
        {
          "output_type": "execute_result",
          "data": {
            "text/html": [
              "<div>\n",
              "<style scoped>\n",
              "    .dataframe tbody tr th:only-of-type {\n",
              "        vertical-align: middle;\n",
              "    }\n",
              "\n",
              "    .dataframe tbody tr th {\n",
              "        vertical-align: top;\n",
              "    }\n",
              "\n",
              "    .dataframe thead th {\n",
              "        text-align: right;\n",
              "    }\n",
              "</style>\n",
              "<table border=\"1\" class=\"dataframe\">\n",
              "  <thead>\n",
              "    <tr style=\"text-align: right;\">\n",
              "      <th></th>\n",
              "      <th>sentiment</th>\n",
              "      <th>message</th>\n",
              "      <th>tweetid</th>\n",
              "    </tr>\n",
              "  </thead>\n",
              "  <tbody>\n",
              "    <tr>\n",
              "      <th>0</th>\n",
              "      <td>1</td>\n",
              "      <td>polyscimajor epa chief doesnt think carbon dio...</td>\n",
              "      <td>625221</td>\n",
              "    </tr>\n",
              "    <tr>\n",
              "      <th>1</th>\n",
              "      <td>1</td>\n",
              "      <td>like lack evidence anthropogenic global warming</td>\n",
              "      <td>126103</td>\n",
              "    </tr>\n",
              "    <tr>\n",
              "      <th>2</th>\n",
              "      <td>2</td>\n",
              "      <td>rt user_ref researchers say three years act cl...</td>\n",
              "      <td>698562</td>\n",
              "    </tr>\n",
              "    <tr>\n",
              "      <th>3</th>\n",
              "      <td>1</td>\n",
              "      <td>todayinmaker wired 2016 pivotal year war clima...</td>\n",
              "      <td>573736</td>\n",
              "    </tr>\n",
              "    <tr>\n",
              "      <th>4</th>\n",
              "      <td>1</td>\n",
              "      <td>rt user_ref 2016 racist sexist climate change ...</td>\n",
              "      <td>466954</td>\n",
              "    </tr>\n",
              "    <tr>\n",
              "      <th>...</th>\n",
              "      <td>...</td>\n",
              "      <td>...</td>\n",
              "      <td>...</td>\n",
              "    </tr>\n",
              "    <tr>\n",
              "      <th>15814</th>\n",
              "      <td>1</td>\n",
              "      <td>rt user_ref took material global warming lgbt ...</td>\n",
              "      <td>22001</td>\n",
              "    </tr>\n",
              "    <tr>\n",
              "      <th>15815</th>\n",
              "      <td>2</td>\n",
              "      <td>rt user_ref climate change could breaking 200m...</td>\n",
              "      <td>17856</td>\n",
              "    </tr>\n",
              "    <tr>\n",
              "      <th>15816</th>\n",
              "      <td>0</td>\n",
              "      <td>notiven rt nytimesworld trump actually believe...</td>\n",
              "      <td>384248</td>\n",
              "    </tr>\n",
              "    <tr>\n",
              "      <th>15817</th>\n",
              "      <td>-1</td>\n",
              "      <td>rt user_ref hey liberals climate change crap h...</td>\n",
              "      <td>819732</td>\n",
              "    </tr>\n",
              "    <tr>\n",
              "      <th>15818</th>\n",
              "      <td>0</td>\n",
              "      <td>rt user_ref user_ref climate change equation 4...</td>\n",
              "      <td>806319</td>\n",
              "    </tr>\n",
              "  </tbody>\n",
              "</table>\n",
              "<p>15819 rows × 3 columns</p>\n",
              "</div>"
            ],
            "text/plain": [
              "       sentiment                                            message  tweetid\n",
              "0              1  polyscimajor epa chief doesnt think carbon dio...   625221\n",
              "1              1    like lack evidence anthropogenic global warming   126103\n",
              "2              2  rt user_ref researchers say three years act cl...   698562\n",
              "3              1  todayinmaker wired 2016 pivotal year war clima...   573736\n",
              "4              1  rt user_ref 2016 racist sexist climate change ...   466954\n",
              "...          ...                                                ...      ...\n",
              "15814          1  rt user_ref took material global warming lgbt ...    22001\n",
              "15815          2  rt user_ref climate change could breaking 200m...    17856\n",
              "15816          0  notiven rt nytimesworld trump actually believe...   384248\n",
              "15817         -1  rt user_ref hey liberals climate change crap h...   819732\n",
              "15818          0  rt user_ref user_ref climate change equation 4...   806319\n",
              "\n",
              "[15819 rows x 3 columns]"
            ]
          },
          "metadata": {
            "tags": []
          },
          "execution_count": 16
        }
      ]
    },
    {
      "cell_type": "code",
      "metadata": {
        "id": "E2Szdx35TM4F",
        "colab_type": "code",
        "colab": {
          "base_uri": "https://localhost:8080/",
          "height": 416
        },
        "outputId": "8f5703c9-2a43-4a6e-a5a3-955bafda593f"
      },
      "source": [
        "remove_stopwords(test)\n",
        "test"
      ],
      "execution_count": 138,
      "outputs": [
        {
          "output_type": "execute_result",
          "data": {
            "text/html": [
              "<div>\n",
              "<style scoped>\n",
              "    .dataframe tbody tr th:only-of-type {\n",
              "        vertical-align: middle;\n",
              "    }\n",
              "\n",
              "    .dataframe tbody tr th {\n",
              "        vertical-align: top;\n",
              "    }\n",
              "\n",
              "    .dataframe thead th {\n",
              "        text-align: right;\n",
              "    }\n",
              "</style>\n",
              "<table border=\"1\" class=\"dataframe\">\n",
              "  <thead>\n",
              "    <tr style=\"text-align: right;\">\n",
              "      <th></th>\n",
              "      <th>message</th>\n",
              "      <th>tweetid</th>\n",
              "      <th>sentiment</th>\n",
              "    </tr>\n",
              "  </thead>\n",
              "  <tbody>\n",
              "    <tr>\n",
              "      <th>0</th>\n",
              "      <td>europe looking china make sure alone fighting ...</td>\n",
              "      <td>169760</td>\n",
              "      <td>1</td>\n",
              "    </tr>\n",
              "    <tr>\n",
              "      <th>1</th>\n",
              "      <td>combine polling staffers climate change womens...</td>\n",
              "      <td>35326</td>\n",
              "      <td>1</td>\n",
              "    </tr>\n",
              "    <tr>\n",
              "      <th>2</th>\n",
              "      <td>scary unimpeachable evidence climate change al...</td>\n",
              "      <td>224985</td>\n",
              "      <td>1</td>\n",
              "    </tr>\n",
              "    <tr>\n",
              "      <th>3</th>\n",
              "      <td>putin got jill trump doesnt believe climate ch...</td>\n",
              "      <td>476263</td>\n",
              "      <td>1</td>\n",
              "    </tr>\n",
              "    <tr>\n",
              "      <th>4</th>\n",
              "      <td>rt female orgasms cause global warming sarcast...</td>\n",
              "      <td>872928</td>\n",
              "      <td>0</td>\n",
              "    </tr>\n",
              "    <tr>\n",
              "      <th>...</th>\n",
              "      <td>...</td>\n",
              "      <td>...</td>\n",
              "      <td>...</td>\n",
              "    </tr>\n",
              "    <tr>\n",
              "      <th>10541</th>\n",
              "      <td>rt brb writing poem climate change climatechan...</td>\n",
              "      <td>895714</td>\n",
              "      <td>1</td>\n",
              "    </tr>\n",
              "    <tr>\n",
              "      <th>10542</th>\n",
              "      <td>2016 year climate change came home hottest yea...</td>\n",
              "      <td>875167</td>\n",
              "      <td>1</td>\n",
              "    </tr>\n",
              "    <tr>\n",
              "      <th>10543</th>\n",
              "      <td>rt pacific countries positive fiji leading glo...</td>\n",
              "      <td>78329</td>\n",
              "      <td>2</td>\n",
              "    </tr>\n",
              "    <tr>\n",
              "      <th>10544</th>\n",
              "      <td>rt youre hot must cause global warming aldubla...</td>\n",
              "      <td>867455</td>\n",
              "      <td>0</td>\n",
              "    </tr>\n",
              "    <tr>\n",
              "      <th>10545</th>\n",
              "      <td>rt climate change global issue thats getting w...</td>\n",
              "      <td>470892</td>\n",
              "      <td>1</td>\n",
              "    </tr>\n",
              "  </tbody>\n",
              "</table>\n",
              "<p>10546 rows × 3 columns</p>\n",
              "</div>"
            ],
            "text/plain": [
              "                                                 message  tweetid  sentiment\n",
              "0      europe looking china make sure alone fighting ...   169760          1\n",
              "1      combine polling staffers climate change womens...    35326          1\n",
              "2      scary unimpeachable evidence climate change al...   224985          1\n",
              "3      putin got jill trump doesnt believe climate ch...   476263          1\n",
              "4      rt female orgasms cause global warming sarcast...   872928          0\n",
              "...                                                  ...      ...        ...\n",
              "10541  rt brb writing poem climate change climatechan...   895714          1\n",
              "10542  2016 year climate change came home hottest yea...   875167          1\n",
              "10543  rt pacific countries positive fiji leading glo...    78329          2\n",
              "10544  rt youre hot must cause global warming aldubla...   867455          0\n",
              "10545  rt climate change global issue thats getting w...   470892          1\n",
              "\n",
              "[10546 rows x 3 columns]"
            ]
          },
          "metadata": {
            "tags": []
          },
          "execution_count": 138
        }
      ]
    },
    {
      "cell_type": "markdown",
      "metadata": {
        "id": "jsRm6MAD3Gqb",
        "colab_type": "text"
      },
      "source": [
        "###Find all named entities for each tweet"
      ]
    },
    {
      "cell_type": "code",
      "metadata": {
        "id": "4HISNTJcj9tI",
        "colab_type": "code",
        "colab": {}
      },
      "source": [
        "def entities(df):\n",
        "    df_index = 0\n",
        "\n",
        "    for tweet in df['message']:\n",
        "      tweet = nlp(tweet)\n",
        "\n",
        "      for entity in tweet.ents:\n",
        "        df.loc[df_index, 'message'] = df.loc[df_index, 'message'].replace(str(entity.text), str(entity.label_))\n",
        "\n",
        "      df_index += 1"
      ],
      "execution_count": 139,
      "outputs": []
    },
    {
      "cell_type": "code",
      "metadata": {
        "id": "ohas__j-QFGV",
        "colab_type": "code",
        "colab": {}
      },
      "source": [
        "entities(train)"
      ],
      "execution_count": 140,
      "outputs": []
    },
    {
      "cell_type": "code",
      "metadata": {
        "id": "-pjUmgElQ04h",
        "colab_type": "code",
        "colab": {
          "base_uri": "https://localhost:8080/",
          "height": 416
        },
        "outputId": "65b781c0-b5a0-45c3-c07e-4e2b2f7471c8"
      },
      "source": [
        "train"
      ],
      "execution_count": 141,
      "outputs": [
        {
          "output_type": "execute_result",
          "data": {
            "text/html": [
              "<div>\n",
              "<style scoped>\n",
              "    .dataframe tbody tr th:only-of-type {\n",
              "        vertical-align: middle;\n",
              "    }\n",
              "\n",
              "    .dataframe tbody tr th {\n",
              "        vertical-align: top;\n",
              "    }\n",
              "\n",
              "    .dataframe thead th {\n",
              "        text-align: right;\n",
              "    }\n",
              "</style>\n",
              "<table border=\"1\" class=\"dataframe\">\n",
              "  <thead>\n",
              "    <tr style=\"text-align: right;\">\n",
              "      <th></th>\n",
              "      <th>sentiment</th>\n",
              "      <th>message</th>\n",
              "      <th>tweetid</th>\n",
              "    </tr>\n",
              "  </thead>\n",
              "  <tbody>\n",
              "    <tr>\n",
              "      <th>0</th>\n",
              "      <td>1</td>\n",
              "      <td>ORG chief doesnt think carbon dioxide main cau...</td>\n",
              "      <td>625221</td>\n",
              "    </tr>\n",
              "    <tr>\n",
              "      <th>1</th>\n",
              "      <td>1</td>\n",
              "      <td>like lack evidence anthropogenic global warming</td>\n",
              "      <td>126103</td>\n",
              "    </tr>\n",
              "    <tr>\n",
              "      <th>2</th>\n",
              "      <td>2</td>\n",
              "      <td>rt researchers say DATE act climate change late</td>\n",
              "      <td>698562</td>\n",
              "    </tr>\n",
              "    <tr>\n",
              "      <th>3</th>\n",
              "      <td>1</td>\n",
              "      <td>todayinmaker wired DATE pivotal year war clima...</td>\n",
              "      <td>573736</td>\n",
              "    </tr>\n",
              "    <tr>\n",
              "      <th>4</th>\n",
              "      <td>1</td>\n",
              "      <td>rt DATE racist sexist climate change denying b...</td>\n",
              "      <td>466954</td>\n",
              "    </tr>\n",
              "    <tr>\n",
              "      <th>...</th>\n",
              "      <td>...</td>\n",
              "      <td>...</td>\n",
              "      <td>...</td>\n",
              "    </tr>\n",
              "    <tr>\n",
              "      <th>15814</th>\n",
              "      <td>1</td>\n",
              "      <td>rt took material global warming lgbt rights he...</td>\n",
              "      <td>22001</td>\n",
              "    </tr>\n",
              "    <tr>\n",
              "      <th>15815</th>\n",
              "      <td>2</td>\n",
              "      <td>rt climate change could breaking CARDINAL rela...</td>\n",
              "      <td>17856</td>\n",
              "    </tr>\n",
              "    <tr>\n",
              "      <th>15816</th>\n",
              "      <td>0</td>\n",
              "      <td>PERSON rt nytimesworld trump actually believe ...</td>\n",
              "      <td>384248</td>\n",
              "    </tr>\n",
              "    <tr>\n",
              "      <th>15817</th>\n",
              "      <td>-1</td>\n",
              "      <td>rt hey liberals climate change crap hoax ties ...</td>\n",
              "      <td>819732</td>\n",
              "    </tr>\n",
              "    <tr>\n",
              "      <th>15818</th>\n",
              "      <td>0</td>\n",
              "      <td>rt climate change equation CARDINAL screenshots</td>\n",
              "      <td>806319</td>\n",
              "    </tr>\n",
              "  </tbody>\n",
              "</table>\n",
              "<p>15819 rows × 3 columns</p>\n",
              "</div>"
            ],
            "text/plain": [
              "       sentiment                                            message  tweetid\n",
              "0              1  ORG chief doesnt think carbon dioxide main cau...   625221\n",
              "1              1    like lack evidence anthropogenic global warming   126103\n",
              "2              2    rt researchers say DATE act climate change late   698562\n",
              "3              1  todayinmaker wired DATE pivotal year war clima...   573736\n",
              "4              1  rt DATE racist sexist climate change denying b...   466954\n",
              "...          ...                                                ...      ...\n",
              "15814          1  rt took material global warming lgbt rights he...    22001\n",
              "15815          2  rt climate change could breaking CARDINAL rela...    17856\n",
              "15816          0  PERSON rt nytimesworld trump actually believe ...   384248\n",
              "15817         -1  rt hey liberals climate change crap hoax ties ...   819732\n",
              "15818          0    rt climate change equation CARDINAL screenshots   806319\n",
              "\n",
              "[15819 rows x 3 columns]"
            ]
          },
          "metadata": {
            "tags": []
          },
          "execution_count": 141
        }
      ]
    },
    {
      "cell_type": "code",
      "metadata": {
        "id": "lmL3Ad3rTZHC",
        "colab_type": "code",
        "colab": {}
      },
      "source": [
        "entities(test)"
      ],
      "execution_count": 28,
      "outputs": []
    },
    {
      "cell_type": "markdown",
      "metadata": {
        "id": "tCbgGYy83POz",
        "colab_type": "text"
      },
      "source": [
        "###Lemmatize every word in each tweet"
      ]
    },
    {
      "cell_type": "code",
      "metadata": {
        "id": "A490Wi48k_gs",
        "colab_type": "code",
        "colab": {}
      },
      "source": [
        "def lem_text(df):\n",
        "    df_index = 0\n",
        "\n",
        "    for tweet in df['message']:\n",
        "      tweet = nlp(tweet)\n",
        "      \n",
        "      for token in tweet:\n",
        "        df.loc[df_index, 'message'] = df.loc[df_index, 'message'].replace(str(token.text), str(token.lemma_))\n",
        "\n",
        "      df_index += 1"
      ],
      "execution_count": 142,
      "outputs": []
    },
    {
      "cell_type": "code",
      "metadata": {
        "id": "LNMW3AsWRVAA",
        "colab_type": "code",
        "colab": {}
      },
      "source": [
        "lem_text(train)"
      ],
      "execution_count": 143,
      "outputs": []
    },
    {
      "cell_type": "code",
      "metadata": {
        "id": "10JFo4nZRYJD",
        "colab_type": "code",
        "colab": {
          "base_uri": "https://localhost:8080/",
          "height": 416
        },
        "outputId": "eb12f8c8-5d0f-4867-b150-998b3305b1de"
      },
      "source": [
        "train"
      ],
      "execution_count": 144,
      "outputs": [
        {
          "output_type": "execute_result",
          "data": {
            "text/html": [
              "<div>\n",
              "<style scoped>\n",
              "    .dataframe tbody tr th:only-of-type {\n",
              "        vertical-align: middle;\n",
              "    }\n",
              "\n",
              "    .dataframe tbody tr th {\n",
              "        vertical-align: top;\n",
              "    }\n",
              "\n",
              "    .dataframe thead th {\n",
              "        text-align: right;\n",
              "    }\n",
              "</style>\n",
              "<table border=\"1\" class=\"dataframe\">\n",
              "  <thead>\n",
              "    <tr style=\"text-align: right;\">\n",
              "      <th></th>\n",
              "      <th>sentiment</th>\n",
              "      <th>message</th>\n",
              "      <th>tweetid</th>\n",
              "    </tr>\n",
              "  </thead>\n",
              "  <tbody>\n",
              "    <tr>\n",
              "      <th>0</th>\n",
              "      <td>1</td>\n",
              "      <td>ORG chief donot think carbon dioxide main caus...</td>\n",
              "      <td>625221</td>\n",
              "    </tr>\n",
              "    <tr>\n",
              "      <th>1</th>\n",
              "      <td>1</td>\n",
              "      <td>like lack evidence anthropogenic global warming</td>\n",
              "      <td>126103</td>\n",
              "    </tr>\n",
              "    <tr>\n",
              "      <th>2</th>\n",
              "      <td>2</td>\n",
              "      <td>rt researcher say DATE act climate change late</td>\n",
              "      <td>698562</td>\n",
              "    </tr>\n",
              "    <tr>\n",
              "      <th>3</th>\n",
              "      <td>1</td>\n",
              "      <td>todayinmaker wire DATE pivotal year war climat...</td>\n",
              "      <td>573736</td>\n",
              "    </tr>\n",
              "    <tr>\n",
              "      <th>4</th>\n",
              "      <td>1</td>\n",
              "      <td>rt DATE racist sexist climate change deny bigo...</td>\n",
              "      <td>466954</td>\n",
              "    </tr>\n",
              "    <tr>\n",
              "      <th>...</th>\n",
              "      <td>...</td>\n",
              "      <td>...</td>\n",
              "      <td>...</td>\n",
              "    </tr>\n",
              "    <tr>\n",
              "      <th>15814</th>\n",
              "      <td>1</td>\n",
              "      <td>rt take material global warming lgbt right hea...</td>\n",
              "      <td>22001</td>\n",
              "    </tr>\n",
              "    <tr>\n",
              "      <th>15815</th>\n",
              "      <td>2</td>\n",
              "      <td>rt climate change could break CARDINAL relatio...</td>\n",
              "      <td>17856</td>\n",
              "    </tr>\n",
              "    <tr>\n",
              "      <th>15816</th>\n",
              "      <td>0</td>\n",
              "      <td>person rt nytimesworld trump actually believe ...</td>\n",
              "      <td>384248</td>\n",
              "    </tr>\n",
              "    <tr>\n",
              "      <th>15817</th>\n",
              "      <td>-1</td>\n",
              "      <td>rt hey liberal climate change crap hoax ties a...</td>\n",
              "      <td>819732</td>\n",
              "    </tr>\n",
              "    <tr>\n",
              "      <th>15818</th>\n",
              "      <td>0</td>\n",
              "      <td>rt climate change equation CARDINAL screenshot</td>\n",
              "      <td>806319</td>\n",
              "    </tr>\n",
              "  </tbody>\n",
              "</table>\n",
              "<p>15819 rows × 3 columns</p>\n",
              "</div>"
            ],
            "text/plain": [
              "       sentiment                                            message  tweetid\n",
              "0              1  ORG chief donot think carbon dioxide main caus...   625221\n",
              "1              1    like lack evidence anthropogenic global warming   126103\n",
              "2              2     rt researcher say DATE act climate change late   698562\n",
              "3              1  todayinmaker wire DATE pivotal year war climat...   573736\n",
              "4              1  rt DATE racist sexist climate change deny bigo...   466954\n",
              "...          ...                                                ...      ...\n",
              "15814          1  rt take material global warming lgbt right hea...    22001\n",
              "15815          2  rt climate change could break CARDINAL relatio...    17856\n",
              "15816          0  person rt nytimesworld trump actually believe ...   384248\n",
              "15817         -1  rt hey liberal climate change crap hoax ties a...   819732\n",
              "15818          0     rt climate change equation CARDINAL screenshot   806319\n",
              "\n",
              "[15819 rows x 3 columns]"
            ]
          },
          "metadata": {
            "tags": []
          },
          "execution_count": 144
        }
      ]
    },
    {
      "cell_type": "code",
      "metadata": {
        "id": "7cj6gDObTccc",
        "colab_type": "code",
        "colab": {}
      },
      "source": [
        "lem_text(test)"
      ],
      "execution_count": 145,
      "outputs": []
    },
    {
      "cell_type": "code",
      "metadata": {
        "id": "D9bhOeA1ZdCn",
        "colab_type": "code",
        "colab": {
          "base_uri": "https://localhost:8080/",
          "height": 416
        },
        "outputId": "9771a5d6-d465-4015-b8ea-913db776eeaf"
      },
      "source": [
        "test"
      ],
      "execution_count": 146,
      "outputs": [
        {
          "output_type": "execute_result",
          "data": {
            "text/html": [
              "<div>\n",
              "<style scoped>\n",
              "    .dataframe tbody tr th:only-of-type {\n",
              "        vertical-align: middle;\n",
              "    }\n",
              "\n",
              "    .dataframe tbody tr th {\n",
              "        vertical-align: top;\n",
              "    }\n",
              "\n",
              "    .dataframe thead th {\n",
              "        text-align: right;\n",
              "    }\n",
              "</style>\n",
              "<table border=\"1\" class=\"dataframe\">\n",
              "  <thead>\n",
              "    <tr style=\"text-align: right;\">\n",
              "      <th></th>\n",
              "      <th>message</th>\n",
              "      <th>tweetid</th>\n",
              "      <th>sentiment</th>\n",
              "    </tr>\n",
              "  </thead>\n",
              "  <tbody>\n",
              "    <tr>\n",
              "      <th>0</th>\n",
              "      <td>europe look china make sure alone fight climat...</td>\n",
              "      <td>169760</td>\n",
              "      <td>1</td>\n",
              "    </tr>\n",
              "    <tr>\n",
              "      <th>1</th>\n",
              "      <td>combine polling staffer climate change women r...</td>\n",
              "      <td>35326</td>\n",
              "      <td>1</td>\n",
              "    </tr>\n",
              "    <tr>\n",
              "      <th>2</th>\n",
              "      <td>scary unimpeachable evidence climate change al...</td>\n",
              "      <td>224985</td>\n",
              "      <td>1</td>\n",
              "    </tr>\n",
              "    <tr>\n",
              "      <th>3</th>\n",
              "      <td>putin get jill trump donot believe climate cha...</td>\n",
              "      <td>476263</td>\n",
              "      <td>1</td>\n",
              "    </tr>\n",
              "    <tr>\n",
              "      <th>4</th>\n",
              "      <td>rt female orgasm cause global warm sarcastic r...</td>\n",
              "      <td>872928</td>\n",
              "      <td>0</td>\n",
              "    </tr>\n",
              "    <tr>\n",
              "      <th>...</th>\n",
              "      <td>...</td>\n",
              "      <td>...</td>\n",
              "      <td>...</td>\n",
              "    </tr>\n",
              "    <tr>\n",
              "      <th>10541</th>\n",
              "      <td>rt brb write poem climate change climatechange...</td>\n",
              "      <td>895714</td>\n",
              "      <td>1</td>\n",
              "    </tr>\n",
              "    <tr>\n",
              "      <th>10542</th>\n",
              "      <td>2016 year climate change come home hot year re...</td>\n",
              "      <td>875167</td>\n",
              "      <td>1</td>\n",
              "    </tr>\n",
              "    <tr>\n",
              "      <th>10543</th>\n",
              "      <td>rt pacific country positive fiji lead global c...</td>\n",
              "      <td>78329</td>\n",
              "      <td>2</td>\n",
              "    </tr>\n",
              "    <tr>\n",
              "      <th>10544</th>\n",
              "      <td>rt -PRON-be hot must cause global warming aldu...</td>\n",
              "      <td>867455</td>\n",
              "      <td>0</td>\n",
              "    </tr>\n",
              "    <tr>\n",
              "      <th>10545</th>\n",
              "      <td>rt climate change global issue thats get bad e...</td>\n",
              "      <td>470892</td>\n",
              "      <td>1</td>\n",
              "    </tr>\n",
              "  </tbody>\n",
              "</table>\n",
              "<p>10546 rows × 3 columns</p>\n",
              "</div>"
            ],
            "text/plain": [
              "                                                 message  tweetid  sentiment\n",
              "0      europe look china make sure alone fight climat...   169760          1\n",
              "1      combine polling staffer climate change women r...    35326          1\n",
              "2      scary unimpeachable evidence climate change al...   224985          1\n",
              "3      putin get jill trump donot believe climate cha...   476263          1\n",
              "4      rt female orgasm cause global warm sarcastic r...   872928          0\n",
              "...                                                  ...      ...        ...\n",
              "10541  rt brb write poem climate change climatechange...   895714          1\n",
              "10542  2016 year climate change come home hot year re...   875167          1\n",
              "10543  rt pacific country positive fiji lead global c...    78329          2\n",
              "10544  rt -PRON-be hot must cause global warming aldu...   867455          0\n",
              "10545  rt climate change global issue thats get bad e...   470892          1\n",
              "\n",
              "[10546 rows x 3 columns]"
            ]
          },
          "metadata": {
            "tags": []
          },
          "execution_count": 146
        }
      ]
    },
    {
      "cell_type": "markdown",
      "metadata": {
        "id": "VjfJWKpqUDbH",
        "colab_type": "text"
      },
      "source": [
        "#Exploratory Data Analysis"
      ]
    },
    {
      "cell_type": "markdown",
      "metadata": {
        "id": "ntJYpsbHViGN",
        "colab_type": "text"
      },
      "source": [
        "Now it is time to analyse the data and how it is structured."
      ]
    },
    {
      "cell_type": "markdown",
      "metadata": {
        "id": "qjV-NA1yXgo8",
        "colab_type": "text"
      },
      "source": [
        "###Missing values"
      ]
    },
    {
      "cell_type": "code",
      "metadata": {
        "id": "TdgDkv4rWWtF",
        "colab_type": "code",
        "colab": {
          "base_uri": "https://localhost:8080/",
          "height": 86
        },
        "outputId": "5aa8eae0-8af5-4ca0-b672-e288ac4205cf"
      },
      "source": [
        "train.isnull().sum()\n"
      ],
      "execution_count": 35,
      "outputs": [
        {
          "output_type": "execute_result",
          "data": {
            "text/plain": [
              "sentiment    0\n",
              "message      0\n",
              "tweetid      0\n",
              "dtype: int64"
            ]
          },
          "metadata": {
            "tags": []
          },
          "execution_count": 35
        }
      ]
    },
    {
      "cell_type": "code",
      "metadata": {
        "id": "qn7bl0_jWJMk",
        "colab_type": "code",
        "colab": {
          "base_uri": "https://localhost:8080/",
          "height": 69
        },
        "outputId": "8907070b-9e2b-4a7e-ec50-399e7162f031"
      },
      "source": [
        "test.isnull().sum()"
      ],
      "execution_count": 36,
      "outputs": [
        {
          "output_type": "execute_result",
          "data": {
            "text/plain": [
              "message    0\n",
              "tweetid    0\n",
              "dtype: int64"
            ]
          },
          "metadata": {
            "tags": []
          },
          "execution_count": 36
        }
      ]
    },
    {
      "cell_type": "markdown",
      "metadata": {
        "id": "3-2YhdWmWu_h",
        "colab_type": "text"
      },
      "source": [
        "There are no missing values in both the train and test datasets"
      ]
    },
    {
      "cell_type": "markdown",
      "metadata": {
        "id": "8EzkGsU9XoOu",
        "colab_type": "text"
      },
      "source": [
        "###Sentiment Classes"
      ]
    },
    {
      "cell_type": "code",
      "metadata": {
        "id": "dDrbGvPtW2sz",
        "colab_type": "code",
        "colab": {
          "base_uri": "https://localhost:8080/",
          "height": 104
        },
        "outputId": "74cfd7b9-70fa-41bc-895b-3e220b102611"
      },
      "source": [
        "train.sentiment.value_counts()"
      ],
      "execution_count": 37,
      "outputs": [
        {
          "output_type": "execute_result",
          "data": {
            "text/plain": [
              " 1    8530\n",
              " 2    3640\n",
              " 0    2353\n",
              "-1    1296\n",
              "Name: sentiment, dtype: int64"
            ]
          },
          "metadata": {
            "tags": []
          },
          "execution_count": 37
        }
      ]
    },
    {
      "cell_type": "code",
      "metadata": {
        "id": "CrTxP63uXCAW",
        "colab_type": "code",
        "colab": {
          "base_uri": "https://localhost:8080/",
          "height": 278
        },
        "outputId": "bd9e0dad-4d19-4e09-df9f-134277190c49"
      },
      "source": [
        "counts = train[\"sentiment\"].value_counts()\n",
        "plt.bar(range(len(counts)), counts)\n",
        "\n",
        "plt.ylabel(\"Total per class\")\n",
        "plt.xlabel(\"Sentiment Classes\")\n",
        "plt.show()"
      ],
      "execution_count": 38,
      "outputs": [
        {
          "output_type": "display_data",
          "data": {
            "image/png": "[encoded data removed]",
            "text/plain": [
              "<Figure size 432x288 with 1 Axes>"
            ]
          },
          "metadata": {
            "tags": [],
            "needs_background": "light"
          }
        }
      ]
    },
    {
      "cell_type": "markdown",
      "metadata": {
        "id": "e8IBeBUJXvo4",
        "colab_type": "text"
      },
      "source": [
        "There classes are imbalanced and this might require some resampling techniques in order to improve the accuracyy of our model"
      ]
    },
    {
      "cell_type": "markdown",
      "metadata": {
        "id": "5ze1AO_BYggd",
        "colab_type": "text"
      },
      "source": [
        "###Any other data analysis/visual please"
      ]
    },
    {
      "cell_type": "code",
      "metadata": {
        "id": "mUjTqUPtYlXF",
        "colab_type": "code",
        "colab": {}
      },
      "source": [
        ""
      ],
      "execution_count": null,
      "outputs": []
    },
    {
      "cell_type": "markdown",
      "metadata": {
        "id": "OdmIKBZQ3lnv",
        "colab_type": "text"
      },
      "source": [
        "#Define our feature and target variable to use when modelling"
      ]
    },
    {
      "cell_type": "code",
      "metadata": {
        "id": "STTboX79ozzr",
        "colab_type": "code",
        "colab": {
          "base_uri": "https://localhost:8080/",
          "height": 225
        },
        "outputId": "651de305-2ddb-4cc2-b8c8-8c0f65446058"
      },
      "source": [
        "X = train['message']\n",
        "X"
      ],
      "execution_count": 147,
      "outputs": [
        {
          "output_type": "execute_result",
          "data": {
            "text/plain": [
              "0        ORG chief donot think carbon dioxide main caus...\n",
              "1          like lack evidence anthropogenic global warming\n",
              "2           rt researcher say DATE act climate change late\n",
              "3        todayinmaker wire DATE pivotal year war climat...\n",
              "4        rt DATE racist sexist climate change deny bigo...\n",
              "                               ...                        \n",
              "15814    rt take material global warming lgbt right hea...\n",
              "15815    rt climate change could break CARDINAL relatio...\n",
              "15816    person rt nytimesworld trump actually believe ...\n",
              "15817    rt hey liberal climate change crap hoax ties a...\n",
              "15818       rt climate change equation CARDINAL screenshot\n",
              "Name: message, Length: 15819, dtype: object"
            ]
          },
          "metadata": {
            "tags": []
          },
          "execution_count": 147
        }
      ]
    },
    {
      "cell_type": "code",
      "metadata": {
        "id": "S9v3Daf7o5VN",
        "colab_type": "code",
        "colab": {
          "base_uri": "https://localhost:8080/",
          "height": 225
        },
        "outputId": "533cef2f-763a-4784-9e15-4116f54ac99d"
      },
      "source": [
        "y = train['sentiment']\n",
        "y"
      ],
      "execution_count": 148,
      "outputs": [
        {
          "output_type": "execute_result",
          "data": {
            "text/plain": [
              "0        1\n",
              "1        1\n",
              "2        2\n",
              "3        1\n",
              "4        1\n",
              "        ..\n",
              "15814    1\n",
              "15815    2\n",
              "15816    0\n",
              "15817   -1\n",
              "15818    0\n",
              "Name: sentiment, Length: 15819, dtype: int64"
            ]
          },
          "metadata": {
            "tags": []
          },
          "execution_count": 148
        }
      ]
    },
    {
      "cell_type": "markdown",
      "metadata": {
        "id": "z48y9g7HaDH_",
        "colab_type": "text"
      },
      "source": [
        "###Convert features to machine language"
      ]
    },
    {
      "cell_type": "code",
      "metadata": {
        "id": "HZhomJa3aKYd",
        "colab_type": "code",
        "colab": {}
      },
      "source": [
        "tf_vect = TfidfVectorizer(ngram_range=(1, 2))\n",
        "X = tf_vect.fit_transform(X)"
      ],
      "execution_count": 149,
      "outputs": []
    },
    {
      "cell_type": "markdown",
      "metadata": {
        "id": "u-LT4oVwZubv",
        "colab_type": "text"
      },
      "source": [
        "###Splitting the data"
      ]
    },
    {
      "cell_type": "code",
      "metadata": {
        "id": "vm_kO-V5Z0n2",
        "colab_type": "code",
        "colab": {}
      },
      "source": [
        "X_train, X_test, y_train, y_test = train_test_split(X, y, test_size = 0.2, random_state = 42)"
      ],
      "execution_count": 150,
      "outputs": []
    },
    {
      "cell_type": "code",
      "metadata": {
        "id": "3EcLpNelpOj-",
        "colab_type": "code",
        "colab": {}
      },
      "source": [
        "#X_test = test['message']"
      ],
      "execution_count": null,
      "outputs": []
    },
    {
      "cell_type": "code",
      "metadata": {
        "id": "13mORVJNpRZ0",
        "colab_type": "code",
        "colab": {}
      },
      "source": [
        "#X_test = tf_vect.transform(X_test)"
      ],
      "execution_count": null,
      "outputs": []
    },
    {
      "cell_type": "markdown",
      "metadata": {
        "id": "vyhuwyLh3oMX",
        "colab_type": "text"
      },
      "source": [
        "#Modelling"
      ]
    },
    {
      "cell_type": "markdown",
      "metadata": {
        "id": "ck4qTN4AkIee",
        "colab_type": "text"
      },
      "source": [
        "##Modelling with maximum data cleaning"
      ]
    },
    {
      "cell_type": "markdown",
      "metadata": {
        "id": "is1L3SPwa1x-",
        "colab_type": "text"
      },
      "source": [
        "The function below takes in a model and returns the average accuracy score"
      ]
    },
    {
      "cell_type": "code",
      "metadata": {
        "id": "0slY90EHJ3y5",
        "colab_type": "code",
        "colab": {}
      },
      "source": [
        "def accuracy(model):\n",
        "    features = train['message']\n",
        "    target = train['sentiment']\n",
        "\n",
        "    train_scores = []\n",
        "    test_scores = []\n",
        "\n",
        "    tf_vect = TfidfVectorizer(ngram_range=(1, 2))\n",
        "\n",
        "    folds = KFold(n_splits=5, shuffle=True)\n",
        "\n",
        "    for train_index, test_index in folds.split(features):\n",
        "        x_train, x_test = features.iloc[train_index], features.iloc[test_index]    \n",
        "        y_train, y_test = target.iloc[train_index], target.iloc[test_index]\n",
        "\n",
        "        x_train = tf_vect.fit_transform(x_train)\n",
        "        x_test = tf_vect.transform(x_test)\n",
        "     \n",
        "        model.fit(x_train, y_train)\n",
        "        train_predictions = model.predict(x_train)\n",
        "        test_predictions = model.predict(x_test)\n",
        "\n",
        "        train_score = accuracy_score(y_train, train_predictions)\n",
        "        train_scores.append(train_score)\n",
        "\n",
        "        test_score = accuracy_score(y_test, test_predictions)\n",
        "        test_scores.append(test_score)\n",
        "\n",
        "    avg_train_accuracy = np.mean(train_scores)\n",
        "    avg_test_accuracy = np.mean(test_scores)\n",
        "\n",
        "    return [avg_train_accuracy, avg_test_accuracy]\n"
      ],
      "execution_count": 45,
      "outputs": []
    },
    {
      "cell_type": "markdown",
      "metadata": {
        "id": "LMRZCX07bRVv",
        "colab_type": "text"
      },
      "source": [
        "###Support Vector Machines(SVM)"
      ]
    },
    {
      "cell_type": "markdown",
      "metadata": {
        "id": "r_X5tg35bX9Z",
        "colab_type": "text"
      },
      "source": [
        "Support-Vector Machines algorithm goes like blah blah blah blah"
      ]
    },
    {
      "cell_type": "code",
      "metadata": {
        "id": "D4wFMtmIpU5R",
        "colab_type": "code",
        "colab": {
          "base_uri": "https://localhost:8080/",
          "height": 34
        },
        "outputId": "c1ce5dca-78f3-45f3-8e9f-3f864e12e5a8"
      },
      "source": [
        "sv = SVC()\n",
        "\n",
        "sv_accuracy = accuracy(sv)\n",
        "sv_accuracy"
      ],
      "execution_count": 47,
      "outputs": [
        {
          "output_type": "execute_result",
          "data": {
            "text/plain": [
              "[0.9659428410091604, 0.7152161148999594]"
            ]
          },
          "metadata": {
            "tags": []
          },
          "execution_count": 47
        }
      ]
    },
    {
      "cell_type": "markdown",
      "metadata": {
        "id": "2ZjxnRYBfHQE",
        "colab_type": "text"
      },
      "source": [
        "###Bernoulli"
      ]
    },
    {
      "cell_type": "code",
      "metadata": {
        "id": "Wf9-alNPprIm",
        "colab_type": "code",
        "colab": {
          "base_uri": "https://localhost:8080/",
          "height": 34
        },
        "outputId": "3616ba83-3e66-4273-b929-7cdea66f3ef9"
      },
      "source": [
        "bernoulli = BernoulliNB()\n",
        "\n",
        "bernoulli_accuracy = accuracy(bernoulli)\n",
        "bernoulli_accuracy"
      ],
      "execution_count": 48,
      "outputs": [
        {
          "output_type": "execute_result",
          "data": {
            "text/plain": [
              "[0.7412604513139472, 0.629433502016241]"
            ]
          },
          "metadata": {
            "tags": []
          },
          "execution_count": 48
        }
      ]
    },
    {
      "cell_type": "code",
      "metadata": {
        "id": "3esjXnzMpyTZ",
        "colab_type": "code",
        "colab": {
          "base_uri": "https://localhost:8080/",
          "height": 34
        },
        "outputId": "bb75b83f-53ab-48fc-d72b-edcc7a286235"
      },
      "source": [
        "mnb = MultinomialNB()\n",
        "\n",
        "mnb_accuracy = accuracy(mnb)\n",
        "mnb_accuracy"
      ],
      "execution_count": 49,
      "outputs": [
        {
          "output_type": "execute_result",
          "data": {
            "text/plain": [
              "[0.6930431811154828, 0.6234274059297351]"
            ]
          },
          "metadata": {
            "tags": []
          },
          "execution_count": 49
        }
      ]
    },
    {
      "cell_type": "code",
      "metadata": {
        "id": "lh0reHXQp5sK",
        "colab_type": "code",
        "colab": {
          "base_uri": "https://localhost:8080/",
          "height": 34
        },
        "outputId": "9699a3ca-32cd-40a9-9985-7fbd18af2b5a"
      },
      "source": [
        "sgd = SGDClassifier()\n",
        "\n",
        "sgd_accuracy = accuracy(sgd)\n",
        "sgd_accuracy"
      ],
      "execution_count": 50,
      "outputs": [
        {
          "output_type": "execute_result",
          "data": {
            "text/plain": [
              "[0.9368638940350775, 0.721790571530093]"
            ]
          },
          "metadata": {
            "tags": []
          },
          "execution_count": 50
        }
      ]
    },
    {
      "cell_type": "markdown",
      "metadata": {
        "id": "JH-K4IHUcAGT",
        "colab_type": "text"
      },
      "source": [
        "###Random Forest"
      ]
    },
    {
      "cell_type": "code",
      "metadata": {
        "id": "kmzq-NeJqA4V",
        "colab_type": "code",
        "colab": {
          "base_uri": "https://localhost:8080/",
          "height": 34
        },
        "outputId": "7605bfec-b391-4994-c642-4e3b01d3a085"
      },
      "source": [
        "rand_forest = RandomForestClassifier()\n",
        "\n",
        "rand_forest_accuracy = accuracy(rand_forest)\n",
        "rand_forest_accuracy"
      ],
      "execution_count": 51,
      "outputs": [
        {
          "output_type": "execute_result",
          "data": {
            "text/plain": [
              "[0.9980087296786596, 0.6889186281167402]"
            ]
          },
          "metadata": {
            "tags": []
          },
          "execution_count": 51
        }
      ]
    },
    {
      "cell_type": "markdown",
      "metadata": {
        "id": "UjFVP6SycIY3",
        "colab_type": "text"
      },
      "source": [
        "###K-Nearest Neighbors (KNN)"
      ]
    },
    {
      "cell_type": "code",
      "metadata": {
        "id": "n0otZVnWqILq",
        "colab_type": "code",
        "colab": {
          "base_uri": "https://localhost:8080/",
          "height": 34
        },
        "outputId": "22d4607c-a15f-4aa7-f1aa-369c88b6c54a"
      },
      "source": [
        "knn = KNeighborsClassifier()\n",
        "\n",
        "knn_accuracy = accuracy(knn)\n",
        "knn_accuracy"
      ],
      "execution_count": 52,
      "outputs": [
        {
          "output_type": "execute_result",
          "data": {
            "text/plain": [
              "[0.7285700149998426, 0.6121748264242088]"
            ]
          },
          "metadata": {
            "tags": []
          },
          "execution_count": 52
        }
      ]
    },
    {
      "cell_type": "code",
      "metadata": {
        "id": "k0sylfPpqO_t",
        "colab_type": "code",
        "colab": {
          "base_uri": "https://localhost:8080/",
          "height": 34
        },
        "outputId": "f9489ebe-65de-4a37-ef74-b5dbbe3b90cd"
      },
      "source": [
        "grad_booster = GradientBoostingClassifier()\n",
        "\n",
        "grad_booster_accuracy = accuracy(grad_booster)\n",
        "grad_booster_accuracy"
      ],
      "execution_count": 53,
      "outputs": [
        {
          "output_type": "execute_result",
          "data": {
            "text/plain": [
              "[0.7057335937035625, 0.6633785557007321]"
            ]
          },
          "metadata": {
            "tags": []
          },
          "execution_count": 53
        }
      ]
    },
    {
      "cell_type": "code",
      "metadata": {
        "id": "KZclsZ0sqYtk",
        "colab_type": "code",
        "colab": {
          "base_uri": "https://localhost:8080/",
          "height": 34
        },
        "outputId": "44b77b93-3383-477d-8169-deefbd0f58cd"
      },
      "source": [
        "extra_trees = ExtraTreesClassifier()\n",
        "\n",
        "extra_trees_accuracy = accuracy(extra_trees)\n",
        "extra_trees_accuracy"
      ],
      "execution_count": 54,
      "outputs": [
        {
          "output_type": "execute_result",
          "data": {
            "text/plain": [
              "[0.998103547615135, 0.7068075364128457]"
            ]
          },
          "metadata": {
            "tags": []
          },
          "execution_count": 54
        }
      ]
    },
    {
      "cell_type": "code",
      "metadata": {
        "id": "1tS8Jwndqhql",
        "colab_type": "code",
        "colab": {
          "base_uri": "https://localhost:8080/",
          "height": 34
        },
        "outputId": "53c857aa-4ce2-41ab-fb61-031bd3e5bd56"
      },
      "source": [
        "bagging = BaggingClassifier()\n",
        "\n",
        "bagging_accuracy = accuracy(bagging)\n",
        "bagging_accuracy"
      ],
      "execution_count": 55,
      "outputs": [
        {
          "output_type": "execute_result",
          "data": {
            "text/plain": [
              "[0.9774954046436075, 0.6357538551192218]"
            ]
          },
          "metadata": {
            "tags": []
          },
          "execution_count": 55
        }
      ]
    },
    {
      "cell_type": "code",
      "metadata": {
        "id": "QfGgsZOCqmaR",
        "colab_type": "code",
        "colab": {
          "base_uri": "https://localhost:8080/",
          "height": 34
        },
        "outputId": "f2d852d8-771d-49f8-8bff-d9a516fc3c7a"
      },
      "source": [
        "dec_tree = DecisionTreeClassifier()\n",
        "\n",
        "dec_tree_accuracy = accuracy(dec_tree)\n",
        "dec_tree_accuracy"
      ],
      "execution_count": 56,
      "outputs": [
        {
          "output_type": "execute_result",
          "data": {
            "text/plain": [
              "[0.9981035463663968, 0.5898608196142743]"
            ]
          },
          "metadata": {
            "tags": []
          },
          "execution_count": 56
        }
      ]
    },
    {
      "cell_type": "code",
      "metadata": {
        "id": "kOQ0SQvmqtRU",
        "colab_type": "code",
        "colab": {
          "base_uri": "https://localhost:8080/",
          "height": 34
        },
        "outputId": "4f4881c3-5f01-4b87-9f82-018e46a33784"
      },
      "source": [
        "linear_sv = LinearSVC()\n",
        "\n",
        "linear_sv_accuracy = accuracy(linear_sv)\n",
        "linear_sv_accuracy"
      ],
      "execution_count": 57,
      "outputs": [
        {
          "output_type": "execute_result",
          "data": {
            "text/plain": [
              "[0.9935204550801415, 0.728048372997998]"
            ]
          },
          "metadata": {
            "tags": []
          },
          "execution_count": 57
        }
      ]
    },
    {
      "cell_type": "markdown",
      "metadata": {
        "id": "Y7GmjutXf0De",
        "colab_type": "text"
      },
      "source": [
        "##Plot all models and respective accuracy scores"
      ]
    },
    {
      "cell_type": "markdown",
      "metadata": {
        "id": "Mul75ld8gFBy",
        "colab_type": "text"
      },
      "source": [
        "Below is a graph of all models which allows for simplified comparison\n"
      ]
    },
    {
      "cell_type": "code",
      "metadata": {
        "id": "7g0ATkIhq1-I",
        "colab_type": "code",
        "colab": {
          "base_uri": "https://localhost:8080/",
          "height": 294
        },
        "outputId": "36876be7-55fa-47ad-e723-e44909d116de"
      },
      "source": [
        "models = ['SVC', 'Bernoulli', 'Multinomial Naive Bayes', 'SGDClassifier', 'Random Forest', 'KNearestNeighbours', 'Gradient Booster', 'Extra Trees', 'Bagging', 'Decision Tree', 'Linear SV']\n",
        "bar_widths = [sv_accuracy[1], bernoulli_accuracy[1], mnb_accuracy[1], sgd_accuracy[1], rand_forest_accuracy[1], knn_accuracy[1], grad_booster_accuracy[1], extra_trees_accuracy[1], bagging_accuracy[1], dec_tree_accuracy[1], linear_sv_accuracy[1]]\n",
        "bar_positions = arange(11) + 0.75\n",
        "tick_positions = range(1,12)\n",
        "\n",
        "fig, ax = plt.subplots()\n",
        "ax.barh(bar_positions, bar_widths, 0.5)\n",
        "ax.set_yticks(tick_positions)\n",
        "ax.set_yticklabels(models)\n",
        "\n",
        "ax.set_ylabel('Model')\n",
        "ax.set_xlabel('Accuracy')\n",
        "ax.set_title('Accuracy For Each Model Trained')\n",
        "\n",
        "plt.show()"
      ],
      "execution_count": 58,
      "outputs": [
        {
          "output_type": "display_data",
          "data": {
            "image/png": "[encoded data removed]",
            "text/plain": [
              "<Figure size 432x288 with 1 Axes>"
            ]
          },
          "metadata": {
            "tags": [],
            "needs_background": "light"
          }
        }
      ]
    },
    {
      "cell_type": "markdown",
      "metadata": {
        "id": "z9AGIAIFl7o4",
        "colab_type": "text"
      },
      "source": [
        "###Fit best model and use the metrics module"
      ]
    },
    {
      "cell_type": "code",
      "metadata": {
        "id": "Eco_i27gmE25",
        "colab_type": "code",
        "colab": {
          "base_uri": "https://localhost:8080/",
          "height": 86
        },
        "outputId": "2c6b194e-9b34-45f8-f7e8-8128a21ca7b4"
      },
      "source": [
        "linear_sv.fit(X_train, y_train)"
      ],
      "execution_count": 104,
      "outputs": [
        {
          "output_type": "execute_result",
          "data": {
            "text/plain": [
              "LinearSVC(C=1.0, class_weight=None, dual=True, fit_intercept=True,\n",
              "          intercept_scaling=1, loss='squared_hinge', max_iter=1000,\n",
              "          multi_class='ovr', penalty='l2', random_state=None, tol=0.0001,\n",
              "          verbose=0)"
            ]
          },
          "metadata": {
            "tags": []
          },
          "execution_count": 104
        }
      ]
    },
    {
      "cell_type": "code",
      "metadata": {
        "id": "V_qeRzDdmaIM",
        "colab_type": "code",
        "colab": {
          "base_uri": "https://localhost:8080/",
          "height": 294
        },
        "outputId": "0041c145-6c12-42c8-8f10-7f74c605577d"
      },
      "source": [
        "#confusion matrix and classification_report\n",
        "y_pred = linear_sv.predict(X_test)\n",
        "\n",
        "from sklearn.metrics import classification_report\n",
        "from sklearn.metrics import confusion_matrix\n",
        "\n",
        "print(confusion_matrix(y_test,y_pred))\n",
        "\n",
        "print('Accuracy score: ' + str(accuracy_score(y_test, y_pred)))\n",
        "print(classification_report(y_test,y_pred))"
      ],
      "execution_count": 105,
      "outputs": [
        {
          "output_type": "stream",
          "text": [
            "[[  80   27  128   14]\n",
            " [   7  150  266   50]\n",
            " [   9   53 1503  136]\n",
            " [   2   11  184  544]]\n",
            "Accuracy score: 0.7196586599241467\n",
            "              precision    recall  f1-score   support\n",
            "\n",
            "          -1       0.82      0.32      0.46       249\n",
            "           0       0.62      0.32      0.42       473\n",
            "           1       0.72      0.88      0.79      1701\n",
            "           2       0.73      0.73      0.73       741\n",
            "\n",
            "    accuracy                           0.72      3164\n",
            "   macro avg       0.72      0.56      0.60      3164\n",
            "weighted avg       0.72      0.72      0.70      3164\n",
            "\n"
          ],
          "name": "stdout"
        }
      ]
    },
    {
      "cell_type": "code",
      "metadata": {
        "id": "rNoRppsOm-Tl",
        "colab_type": "code",
        "colab": {
          "base_uri": "https://localhost:8080/",
          "height": 121
        },
        "outputId": "fb08690b-199a-4012-a99b-cf65fdd65ce9"
      },
      "source": [
        "sgd.fit(X_train,y_train)"
      ],
      "execution_count": 107,
      "outputs": [
        {
          "output_type": "execute_result",
          "data": {
            "text/plain": [
              "SGDClassifier(alpha=0.0001, average=False, class_weight=None,\n",
              "              early_stopping=False, epsilon=0.1, eta0=0.0, fit_intercept=True,\n",
              "              l1_ratio=0.15, learning_rate='optimal', loss='hinge',\n",
              "              max_iter=1000, n_iter_no_change=5, n_jobs=None, penalty='l2',\n",
              "              power_t=0.5, random_state=None, shuffle=True, tol=0.001,\n",
              "              validation_fraction=0.1, verbose=0, warm_start=False)"
            ]
          },
          "metadata": {
            "tags": []
          },
          "execution_count": 107
        }
      ]
    },
    {
      "cell_type": "code",
      "metadata": {
        "id": "x0g3bcu3nFNB",
        "colab_type": "code",
        "colab": {
          "base_uri": "https://localhost:8080/",
          "height": 294
        },
        "outputId": "0f9df8c3-ac57-4b3f-a571-b9516e4bb22e"
      },
      "source": [
        "y_predict = sgd.predict(X_test)\n",
        "\n",
        "from sklearn.metrics import classification_report\n",
        "from sklearn.metrics import confusion_matrix\n",
        "\n",
        "print(confusion_matrix(y_test,y_predict))\n",
        "\n",
        "print('Accuracy score: ' + str(accuracy_score(y_test, y_pred)))\n",
        "print(classification_report(y_test,y_predict))\n",
        "\n"
      ],
      "execution_count": 108,
      "outputs": [
        {
          "output_type": "stream",
          "text": [
            "[[  71   17  142   19]\n",
            " [   4  121  298   50]\n",
            " [   6   31 1536  128]\n",
            " [   2    8  205  526]]\n",
            "Accuracy score: 0.7196586599241467\n",
            "              precision    recall  f1-score   support\n",
            "\n",
            "          -1       0.86      0.29      0.43       249\n",
            "           0       0.68      0.26      0.37       473\n",
            "           1       0.70      0.90      0.79      1701\n",
            "           2       0.73      0.71      0.72       741\n",
            "\n",
            "    accuracy                           0.71      3164\n",
            "   macro avg       0.74      0.54      0.58      3164\n",
            "weighted avg       0.72      0.71      0.68      3164\n",
            "\n"
          ],
          "name": "stdout"
        }
      ]
    },
    {
      "cell_type": "markdown",
      "metadata": {
        "id": "jjYtUYskQIuf",
        "colab_type": "text"
      },
      "source": [
        "##Modelling with resampled data\n"
      ]
    },
    {
      "cell_type": "markdown",
      "metadata": {
        "id": "u9fh-JG1cmdE",
        "colab_type": "text"
      },
      "source": [
        "To try and improve the accuracy of the above modelling, let's introduced data resampling as we have already seen that the classes are imbalanced. "
      ]
    },
    {
      "cell_type": "markdown",
      "metadata": {
        "id": "uO9pmo3oqsA7",
        "colab_type": "text"
      },
      "source": [
        "###Downsampling"
      ]
    },
    {
      "cell_type": "code",
      "metadata": {
        "id": "i0kYHEYAeAk7",
        "colab_type": "code",
        "colab": {
          "base_uri": "https://localhost:8080/",
          "height": 121
        },
        "outputId": "7fc348b6-ba7b-48ca-ff3e-e584d8e34fb5"
      },
      "source": [
        "train = pd.read_csv('https://raw.githubusercontent.com/Stephane-Masamba/Team_4_CPT_ML-Classification/Mikael/train%20(1).csv')\n",
        "print(train.head())"
      ],
      "execution_count": 64,
      "outputs": [
        {
          "output_type": "stream",
          "text": [
            "   sentiment                                            message  tweetid\n",
            "0          1  PolySciMajor EPA chief doesn't think carbon di...   625221\n",
            "1          1  It's not like we lack evidence of anthropogeni...   126103\n",
            "2          2  RT @RawStory: Researchers say we have three ye...   698562\n",
            "3          1  #TodayinMaker# WIRED : 2016 was a pivotal year...   573736\n",
            "4          1  RT @SoyNovioDeTodas: It's 2016, and a racist, ...   466954\n"
          ],
          "name": "stdout"
        }
      ]
    },
    {
      "cell_type": "code",
      "metadata": {
        "id": "QSCGpar4esjq",
        "colab_type": "code",
        "colab": {
          "base_uri": "https://localhost:8080/",
          "height": 121
        },
        "outputId": "1a9d46de-4678-4d8f-80b3-93abad424f1d"
      },
      "source": [
        "test = pd.read_csv('https://raw.githubusercontent.com/Stephane-Masamba/Team_4_CPT_ML-Classification/Mikael/test%20(1).csv')\n",
        "print(test.head())"
      ],
      "execution_count": 65,
      "outputs": [
        {
          "output_type": "stream",
          "text": [
            "                                             message  tweetid\n",
            "0  Europe will now be looking to China to make su...   169760\n",
            "1  Combine this with the polling of staffers re c...    35326\n",
            "2  The scary, unimpeachable evidence that climate...   224985\n",
            "3  @Karoli @morgfair @OsborneInk @dailykos \\nPuti...   476263\n",
            "4  RT @FakeWillMoore: 'Female orgasms cause globa...   872928\n"
          ],
          "name": "stdout"
        }
      ]
    },
    {
      "cell_type": "code",
      "metadata": {
        "id": "0IjpON5L7Kd8",
        "colab_type": "code",
        "colab": {}
      },
      "source": [
        "X = train['message']\n",
        "y = train['sentiment']\n",
        "\n",
        "\n",
        "X_train1,X_test,y_train,y_test = train_test_split(X,y,test_size=0.2,random_state=0)"
      ],
      "execution_count": 111,
      "outputs": []
    },
    {
      "cell_type": "code",
      "metadata": {
        "id": "ldgwTUgKRDVz",
        "colab_type": "code",
        "colab": {}
      },
      "source": [
        "train_majority = train[train.sentiment== 1]\n",
        "train_01 = train[train.sentiment<= 0]\n",
        "train_2 = train[train.sentiment== 2]\n",
        "#train_minority = train[train.sentiment== -1]\n",
        "train_minority = pd.concat([train_01, train_2])"
      ],
      "execution_count": 66,
      "outputs": []
    },
    {
      "cell_type": "code",
      "metadata": {
        "id": "LtbPdohfRSh1",
        "colab_type": "code",
        "colab": {}
      },
      "source": [
        "# Downsample majority class\n",
        "train_majority_downsampled = resample(train_majority, \n",
        "                                 replace=False,    # sample without replacement\n",
        "                                 n_samples=1296,     # to match minority class\n",
        "                                 random_state=123) # reproducible results\n",
        "\n",
        "\n",
        "\n",
        "# Combine minority class with downsampled majority class\n",
        "train_downsampled = pd.concat([train_majority_downsampled, train_minority])"
      ],
      "execution_count": 67,
      "outputs": []
    },
    {
      "cell_type": "code",
      "metadata": {
        "id": "Mj9doThtRnqb",
        "colab_type": "code",
        "colab": {
          "base_uri": "https://localhost:8080/",
          "height": 416
        },
        "outputId": "e3cc137a-f589-47e2-b1ed-7d829e662ec2"
      },
      "source": [
        "train_downsampled"
      ],
      "execution_count": 68,
      "outputs": [
        {
          "output_type": "execute_result",
          "data": {
            "text/html": [
              "<div>\n",
              "<style scoped>\n",
              "    .dataframe tbody tr th:only-of-type {\n",
              "        vertical-align: middle;\n",
              "    }\n",
              "\n",
              "    .dataframe tbody tr th {\n",
              "        vertical-align: top;\n",
              "    }\n",
              "\n",
              "    .dataframe thead th {\n",
              "        text-align: right;\n",
              "    }\n",
              "</style>\n",
              "<table border=\"1\" class=\"dataframe\">\n",
              "  <thead>\n",
              "    <tr style=\"text-align: right;\">\n",
              "      <th></th>\n",
              "      <th>sentiment</th>\n",
              "      <th>message</th>\n",
              "      <th>tweetid</th>\n",
              "    </tr>\n",
              "  </thead>\n",
              "  <tbody>\n",
              "    <tr>\n",
              "      <th>11177</th>\n",
              "      <td>1</td>\n",
              "      <td>RT @MorrisseyHelena: My view on clean/green/ne...</td>\n",
              "      <td>967739</td>\n",
              "    </tr>\n",
              "    <tr>\n",
              "      <th>13782</th>\n",
              "      <td>1</td>\n",
              "      <td>RT @betterthemask: Before the Flood's free to ...</td>\n",
              "      <td>350132</td>\n",
              "    </tr>\n",
              "    <tr>\n",
              "      <th>12981</th>\n",
              "      <td>1</td>\n",
              "      <td>RT @kelkulus: Irony: Florida, a state in dange...</td>\n",
              "      <td>619610</td>\n",
              "    </tr>\n",
              "    <tr>\n",
              "      <th>10340</th>\n",
              "      <td>1</td>\n",
              "      <td>someone who doesnt believe in climate change: ...</td>\n",
              "      <td>258258</td>\n",
              "    </tr>\n",
              "    <tr>\n",
              "      <th>868</th>\n",
              "      <td>1</td>\n",
              "      <td>RT @IzhaarEMuzamat: KP is fighting climate cha...</td>\n",
              "      <td>454755</td>\n",
              "    </tr>\n",
              "    <tr>\n",
              "      <th>...</th>\n",
              "      <td>...</td>\n",
              "      <td>...</td>\n",
              "      <td>...</td>\n",
              "    </tr>\n",
              "    <tr>\n",
              "      <th>15802</th>\n",
              "      <td>2</td>\n",
              "      <td>Michael Bloomberg to world leaders: ignore Tru...</td>\n",
              "      <td>585908</td>\n",
              "    </tr>\n",
              "    <tr>\n",
              "      <th>15803</th>\n",
              "      <td>2</td>\n",
              "      <td>Suicides of nearly 60,000 Indian farmers linke...</td>\n",
              "      <td>296403</td>\n",
              "    </tr>\n",
              "    <tr>\n",
              "      <th>15805</th>\n",
              "      <td>2</td>\n",
              "      <td>RT @GrindTV: New head of EPA says climate chan...</td>\n",
              "      <td>830383</td>\n",
              "    </tr>\n",
              "    <tr>\n",
              "      <th>15809</th>\n",
              "      <td>2</td>\n",
              "      <td>The quest to capture and store carbon — and sl...</td>\n",
              "      <td>705048</td>\n",
              "    </tr>\n",
              "    <tr>\n",
              "      <th>15815</th>\n",
              "      <td>2</td>\n",
              "      <td>RT @washingtonpost: How climate change could b...</td>\n",
              "      <td>17856</td>\n",
              "    </tr>\n",
              "  </tbody>\n",
              "</table>\n",
              "<p>8585 rows × 3 columns</p>\n",
              "</div>"
            ],
            "text/plain": [
              "       sentiment                                            message  tweetid\n",
              "11177          1  RT @MorrisseyHelena: My view on clean/green/ne...   967739\n",
              "13782          1  RT @betterthemask: Before the Flood's free to ...   350132\n",
              "12981          1  RT @kelkulus: Irony: Florida, a state in dange...   619610\n",
              "10340          1  someone who doesnt believe in climate change: ...   258258\n",
              "868            1  RT @IzhaarEMuzamat: KP is fighting climate cha...   454755\n",
              "...          ...                                                ...      ...\n",
              "15802          2  Michael Bloomberg to world leaders: ignore Tru...   585908\n",
              "15803          2  Suicides of nearly 60,000 Indian farmers linke...   296403\n",
              "15805          2  RT @GrindTV: New head of EPA says climate chan...   830383\n",
              "15809          2  The quest to capture and store carbon — and sl...   705048\n",
              "15815          2  RT @washingtonpost: How climate change could b...    17856\n",
              "\n",
              "[8585 rows x 3 columns]"
            ]
          },
          "metadata": {
            "tags": []
          },
          "execution_count": 68
        }
      ]
    },
    {
      "cell_type": "code",
      "metadata": {
        "id": "JOZcGngcRrgF",
        "colab_type": "code",
        "colab": {
          "base_uri": "https://localhost:8080/",
          "height": 104
        },
        "outputId": "e9f59b72-6f4d-411f-ad3b-e6f3e4dd898b"
      },
      "source": [
        "train_downsampled['sentiment'].value_counts()"
      ],
      "execution_count": 69,
      "outputs": [
        {
          "output_type": "execute_result",
          "data": {
            "text/plain": [
              " 2    3640\n",
              " 0    2353\n",
              "-1    1296\n",
              " 1    1296\n",
              "Name: sentiment, dtype: int64"
            ]
          },
          "metadata": {
            "tags": []
          },
          "execution_count": 69
        }
      ]
    },
    {
      "cell_type": "code",
      "metadata": {
        "id": "uSxY0ILtrGHH",
        "colab_type": "code",
        "colab": {}
      },
      "source": [
        "clean_text(train)"
      ],
      "execution_count": 70,
      "outputs": []
    },
    {
      "cell_type": "code",
      "metadata": {
        "id": "9582V3YOrJXr",
        "colab_type": "code",
        "colab": {}
      },
      "source": [
        "remove_stopwords(train)"
      ],
      "execution_count": 71,
      "outputs": []
    },
    {
      "cell_type": "code",
      "metadata": {
        "id": "V89ntwlYrQWb",
        "colab_type": "code",
        "colab": {}
      },
      "source": [
        "entities(train)"
      ],
      "execution_count": 72,
      "outputs": []
    },
    {
      "cell_type": "code",
      "metadata": {
        "id": "I12cusaSrTDM",
        "colab_type": "code",
        "colab": {}
      },
      "source": [
        "lem_text(train)"
      ],
      "execution_count": 73,
      "outputs": []
    },
    {
      "cell_type": "code",
      "metadata": {
        "id": "MJFyB85JgBHH",
        "colab_type": "code",
        "colab": {
          "base_uri": "https://localhost:8080/",
          "height": 225
        },
        "outputId": "21068a9d-c436-4064-f0ab-54e76aadd2df"
      },
      "source": [
        "X_down = train['message']\n",
        "X_down"
      ],
      "execution_count": 74,
      "outputs": [
        {
          "output_type": "execute_result",
          "data": {
            "text/plain": [
              "0        ORG chief donot think carbon dioxide main caus...\n",
              "1          like lack evidence anthropogenic global warming\n",
              "2           rt researcher say DATE act climate change late\n",
              "3        todayinmaker wire DATE pivotal year war climat...\n",
              "4        rt DATE racist sexist climate change deny bigo...\n",
              "                               ...                        \n",
              "15814    rt take material global warming lgbt right hea...\n",
              "15815    rt climate change could break CARDINAL relatio...\n",
              "15816    person rt nytimesworld trump actually believe ...\n",
              "15817    rt hey liberal climate change crap hoax ties a...\n",
              "15818       rt climate change equation CARDINAL screenshot\n",
              "Name: message, Length: 15819, dtype: object"
            ]
          },
          "metadata": {
            "tags": []
          },
          "execution_count": 74
        }
      ]
    },
    {
      "cell_type": "code",
      "metadata": {
        "id": "P2wsrp-YgQip",
        "colab_type": "code",
        "colab": {
          "base_uri": "https://localhost:8080/",
          "height": 225
        },
        "outputId": "92b71b60-6d9f-48fb-c5b4-be49d3c7f421"
      },
      "source": [
        "\n",
        "y_down = train['sentiment']\n",
        "y_down"
      ],
      "execution_count": 75,
      "outputs": [
        {
          "output_type": "execute_result",
          "data": {
            "text/plain": [
              "0        1\n",
              "1        1\n",
              "2        2\n",
              "3        1\n",
              "4        1\n",
              "        ..\n",
              "15814    1\n",
              "15815    2\n",
              "15816    0\n",
              "15817   -1\n",
              "15818    0\n",
              "Name: sentiment, Length: 15819, dtype: int64"
            ]
          },
          "metadata": {
            "tags": []
          },
          "execution_count": 75
        }
      ]
    },
    {
      "cell_type": "code",
      "metadata": {
        "id": "TRLvUU0qu5Hb",
        "colab_type": "code",
        "colab": {
          "base_uri": "https://localhost:8080/",
          "height": 52
        },
        "outputId": "4221de21-b16e-4961-9fa8-463b0868a83f"
      },
      "source": [
        "X_down = tf_vect.fit_transform(X_down)\n",
        "X_down"
      ],
      "execution_count": 83,
      "outputs": [
        {
          "output_type": "execute_result",
          "data": {
            "text/plain": [
              "<15819x80252 sparse matrix of type '<class 'numpy.float64'>'\n",
              "\twith 309900 stored elements in Compressed Sparse Row format>"
            ]
          },
          "metadata": {
            "tags": []
          },
          "execution_count": 83
        }
      ]
    },
    {
      "cell_type": "code",
      "metadata": {
        "id": "dn-C8qT9hA6n",
        "colab_type": "code",
        "colab": {}
      },
      "source": [
        "#X_test = test['message']\n",
        "#X_test = tf_vect.transform(X_test)\n",
        "\n",
        "\n",
        "#split the data\n",
        "\n",
        "X_train1,X_test1,y_train1,y_test1 = train_test_split(X_down,y_down,test_size=0.2,random_state=0)"
      ],
      "execution_count": 100,
      "outputs": []
    },
    {
      "cell_type": "code",
      "metadata": {
        "id": "kL1US1drvfA-",
        "colab_type": "code",
        "colab": {
          "base_uri": "https://localhost:8080/",
          "height": 52
        },
        "outputId": "8fedc9b0-5a43-4735-f9de-bd47e7a55f1d"
      },
      "source": [
        "X_train"
      ],
      "execution_count": null,
      "outputs": [
        {
          "output_type": "execute_result",
          "data": {
            "text/plain": [
              "<12655x80252 sparse matrix of type '<class 'numpy.float64'>'\n",
              "\twith 248240 stored elements in Compressed Sparse Row format>"
            ]
          },
          "metadata": {
            "tags": []
          },
          "execution_count": 89
        }
      ]
    },
    {
      "cell_type": "code",
      "metadata": {
        "id": "yMS2y9rGulE5",
        "colab_type": "code",
        "colab": {
          "base_uri": "https://localhost:8080/",
          "height": 86
        },
        "outputId": "81c28049-dd1a-4679-f80a-9e640e46fe9a"
      },
      "source": [
        "from sklearn.svm import LinearSVC\n",
        "lsvm = LinearSVC()\n",
        "lsvm.fit(X_train1, y_train1)"
      ],
      "execution_count": 98,
      "outputs": [
        {
          "output_type": "execute_result",
          "data": {
            "text/plain": [
              "LinearSVC(C=1.0, class_weight=None, dual=True, fit_intercept=True,\n",
              "          intercept_scaling=1, loss='squared_hinge', max_iter=1000,\n",
              "          multi_class='ovr', penalty='l2', random_state=None, tol=0.0001,\n",
              "          verbose=0)"
            ]
          },
          "metadata": {
            "tags": []
          },
          "execution_count": 98
        }
      ]
    },
    {
      "cell_type": "code",
      "metadata": {
        "id": "TXYesYXKvMM2",
        "colab_type": "code",
        "colab": {
          "base_uri": "https://localhost:8080/",
          "height": 294
        },
        "outputId": "52bf0dfc-7b70-4f47-8a15-ac9cb507c31d"
      },
      "source": [
        "#confusion matrix and classification_report\n",
        "y_pred = lsvm.predict(X_test1)\n",
        "\n",
        "from sklearn.metrics import classification_report\n",
        "from sklearn.metrics import confusion_matrix\n",
        "\n",
        "\n",
        "print(confusion_matrix(y_test1,y_pred))\n",
        "\n",
        "print('Accuracy score: ' + str(accuracy_score(y_test1, y_pred)))\n",
        "print(classification_report(y_test1,y_pred))"
      ],
      "execution_count": 102,
      "outputs": [
        {
          "output_type": "stream",
          "text": [
            "[[  80   27  128   14]\n",
            " [   7  150  266   50]\n",
            " [   9   53 1503  136]\n",
            " [   2   11  184  544]]\n",
            "Accuracy score: 0.7196586599241467\n",
            "              precision    recall  f1-score   support\n",
            "\n",
            "          -1       0.82      0.32      0.46       249\n",
            "           0       0.62      0.32      0.42       473\n",
            "           1       0.72      0.88      0.79      1701\n",
            "           2       0.73      0.73      0.73       741\n",
            "\n",
            "    accuracy                           0.72      3164\n",
            "   macro avg       0.72      0.56      0.60      3164\n",
            "weighted avg       0.72      0.72      0.70      3164\n",
            "\n"
          ],
          "name": "stdout"
        }
      ]
    },
    {
      "cell_type": "markdown",
      "metadata": {
        "id": "1PXmOs5S5Ycq",
        "colab_type": "text"
      },
      "source": [
        "###SMOTE "
      ]
    },
    {
      "cell_type": "code",
      "metadata": {
        "id": "fzLeWqJd5mii",
        "colab_type": "code",
        "colab": {
          "base_uri": "https://localhost:8080/",
          "height": 106
        },
        "outputId": "3172a8df-a435-4d15-ffbc-c1649fbb238c"
      },
      "source": [
        "from imblearn.over_sampling import SMOTE"
      ],
      "execution_count": 109,
      "outputs": [
        {
          "output_type": "stream",
          "text": [
            "/usr/local/lib/python3.6/dist-packages/sklearn/externals/six.py:31: FutureWarning: The module is deprecated in version 0.21 and will be removed in version 0.23 since we've dropped support for Python 2.7. Please rely on the official version of six (https://pypi.org/project/six/).\n",
            "  \"(https://pypi.org/project/six/).\", FutureWarning)\n",
            "/usr/local/lib/python3.6/dist-packages/sklearn/utils/deprecation.py:144: FutureWarning: The sklearn.neighbors.base module is  deprecated in version 0.22 and will be removed in version 0.24. The corresponding classes / functions should instead be imported from sklearn.neighbors. Anything that cannot be imported from sklearn.neighbors is now part of the private API.\n",
            "  warnings.warn(message, FutureWarning)\n"
          ],
          "name": "stderr"
        }
      ]
    },
    {
      "cell_type": "markdown",
      "metadata": {
        "id": "IM-yC7gnkay5",
        "colab_type": "text"
      },
      "source": [
        "##Modelling with minimal data cleaning"
      ]
    },
    {
      "cell_type": "code",
      "metadata": {
        "id": "Brtlh1UttRzv",
        "colab_type": "code",
        "colab": {
          "base_uri": "https://localhost:8080/",
          "height": 121
        },
        "outputId": "dd0b8690-349a-4637-a6e5-dc8dbff171b2"
      },
      "source": [
        "train = pd.read_csv('https://raw.githubusercontent.com/Stephane-Masamba/Team_4_CPT_ML-Classification/Mikael/train%20(1).csv')\n",
        "print(train.head())"
      ],
      "execution_count": 112,
      "outputs": [
        {
          "output_type": "stream",
          "text": [
            "   sentiment                                            message  tweetid\n",
            "0          1  PolySciMajor EPA chief doesn't think carbon di...   625221\n",
            "1          1  It's not like we lack evidence of anthropogeni...   126103\n",
            "2          2  RT @RawStory: Researchers say we have three ye...   698562\n",
            "3          1  #TodayinMaker# WIRED : 2016 was a pivotal year...   573736\n",
            "4          1  RT @SoyNovioDeTodas: It's 2016, and a racist, ...   466954\n"
          ],
          "name": "stdout"
        }
      ]
    },
    {
      "cell_type": "code",
      "metadata": {
        "id": "vl3SL2fotbpK",
        "colab_type": "code",
        "colab": {
          "base_uri": "https://localhost:8080/",
          "height": 121
        },
        "outputId": "170ae73b-ec8d-4f77-85f7-810b960471e1"
      },
      "source": [
        "test = pd.read_csv('https://raw.githubusercontent.com/Stephane-Masamba/Team_4_CPT_ML-Classification/Mikael/test%20(1).csv')\n",
        "print(test.head())\n"
      ],
      "execution_count": 113,
      "outputs": [
        {
          "output_type": "stream",
          "text": [
            "                                             message  tweetid\n",
            "0  Europe will now be looking to China to make su...   169760\n",
            "1  Combine this with the polling of staffers re c...    35326\n",
            "2  The scary, unimpeachable evidence that climate...   224985\n",
            "3  @Karoli @morgfair @OsborneInk @dailykos \\nPuti...   476263\n",
            "4  RT @FakeWillMoore: 'Female orgasms cause globa...   872928\n"
          ],
          "name": "stdout"
        }
      ]
    },
    {
      "cell_type": "code",
      "metadata": {
        "id": "kHFkpesDthSE",
        "colab_type": "code",
        "colab": {
          "base_uri": "https://localhost:8080/",
          "height": 121
        },
        "outputId": "c5bab29d-a270-4f37-9742-063bab20b77e"
      },
      "source": [
        "sample = pd.read_csv('https://raw.githubusercontent.com/Stephane-Masamba/Team_4_CPT_ML-Classification/Mikael/sample_submission.csv')\n",
        "print(sample.head())\n"
      ],
      "execution_count": 114,
      "outputs": [
        {
          "output_type": "stream",
          "text": [
            "   tweetid  sentiment\n",
            "0   169760          1\n",
            "1    35326          1\n",
            "2   224985          1\n",
            "3   476263          1\n",
            "4   872928          1\n"
          ],
          "name": "stdout"
        }
      ]
    },
    {
      "cell_type": "markdown",
      "metadata": {
        "id": "MkpNA-2_1y3b",
        "colab_type": "text"
      },
      "source": [
        "###Data Cleaning"
      ]
    },
    {
      "cell_type": "markdown",
      "metadata": {
        "id": "95gOu5vo2VVV",
        "colab_type": "text"
      },
      "source": [
        "Below we clean the tweets made by individuals in order to allow for readability by our machines.Examples of how we clean the data is by removing punctuations,converting all leters to lower case,removing numbers and so on."
      ]
    },
    {
      "cell_type": "code",
      "metadata": {
        "id": "Mqw1jzqUDL3p",
        "colab_type": "code",
        "colab": {}
      },
      "source": [
        "clean_text(train)"
      ],
      "execution_count": 115,
      "outputs": []
    },
    {
      "cell_type": "code",
      "metadata": {
        "id": "W0gEH6vf8d5o",
        "colab_type": "code",
        "colab": {
          "base_uri": "https://localhost:8080/",
          "height": 416
        },
        "outputId": "76b064da-7613-4355-be27-e14f4b2982e2"
      },
      "source": [
        "train"
      ],
      "execution_count": 116,
      "outputs": [
        {
          "output_type": "execute_result",
          "data": {
            "text/html": [
              "<div>\n",
              "<style scoped>\n",
              "    .dataframe tbody tr th:only-of-type {\n",
              "        vertical-align: middle;\n",
              "    }\n",
              "\n",
              "    .dataframe tbody tr th {\n",
              "        vertical-align: top;\n",
              "    }\n",
              "\n",
              "    .dataframe thead th {\n",
              "        text-align: right;\n",
              "    }\n",
              "</style>\n",
              "<table border=\"1\" class=\"dataframe\">\n",
              "  <thead>\n",
              "    <tr style=\"text-align: right;\">\n",
              "      <th></th>\n",
              "      <th>sentiment</th>\n",
              "      <th>message</th>\n",
              "      <th>tweetid</th>\n",
              "    </tr>\n",
              "  </thead>\n",
              "  <tbody>\n",
              "    <tr>\n",
              "      <th>0</th>\n",
              "      <td>1</td>\n",
              "      <td>polyscimajor epa chief doesnt think carbon dio...</td>\n",
              "      <td>625221</td>\n",
              "    </tr>\n",
              "    <tr>\n",
              "      <th>1</th>\n",
              "      <td>1</td>\n",
              "      <td>its not like we lack evidence of anthropogenic...</td>\n",
              "      <td>126103</td>\n",
              "    </tr>\n",
              "    <tr>\n",
              "      <th>2</th>\n",
              "      <td>2</td>\n",
              "      <td>rt USER_REF researchers say we have three year...</td>\n",
              "      <td>698562</td>\n",
              "    </tr>\n",
              "    <tr>\n",
              "      <th>3</th>\n",
              "      <td>1</td>\n",
              "      <td>todayinmaker wired 2016 was a pivotal year in ...</td>\n",
              "      <td>573736</td>\n",
              "    </tr>\n",
              "    <tr>\n",
              "      <th>4</th>\n",
              "      <td>1</td>\n",
              "      <td>rt USER_REF its 2016 and a racist sexist clima...</td>\n",
              "      <td>466954</td>\n",
              "    </tr>\n",
              "    <tr>\n",
              "      <th>...</th>\n",
              "      <td>...</td>\n",
              "      <td>...</td>\n",
              "      <td>...</td>\n",
              "    </tr>\n",
              "    <tr>\n",
              "      <th>15814</th>\n",
              "      <td>1</td>\n",
              "      <td>rt USER_REF they took down the material on glo...</td>\n",
              "      <td>22001</td>\n",
              "    </tr>\n",
              "    <tr>\n",
              "      <th>15815</th>\n",
              "      <td>2</td>\n",
              "      <td>rt USER_REF how climate change could be breaki...</td>\n",
              "      <td>17856</td>\n",
              "    </tr>\n",
              "    <tr>\n",
              "      <th>15816</th>\n",
              "      <td>0</td>\n",
              "      <td>notiven rt nytimesworld what does trump actual...</td>\n",
              "      <td>384248</td>\n",
              "    </tr>\n",
              "    <tr>\n",
              "      <th>15817</th>\n",
              "      <td>-1</td>\n",
              "      <td>rt USER_REF hey liberals the climate change cr...</td>\n",
              "      <td>819732</td>\n",
              "    </tr>\n",
              "    <tr>\n",
              "      <th>15818</th>\n",
              "      <td>0</td>\n",
              "      <td>rt USER_REF USER_REF climate change equation i...</td>\n",
              "      <td>806319</td>\n",
              "    </tr>\n",
              "  </tbody>\n",
              "</table>\n",
              "<p>15819 rows × 3 columns</p>\n",
              "</div>"
            ],
            "text/plain": [
              "       sentiment                                            message  tweetid\n",
              "0              1  polyscimajor epa chief doesnt think carbon dio...   625221\n",
              "1              1  its not like we lack evidence of anthropogenic...   126103\n",
              "2              2  rt USER_REF researchers say we have three year...   698562\n",
              "3              1  todayinmaker wired 2016 was a pivotal year in ...   573736\n",
              "4              1  rt USER_REF its 2016 and a racist sexist clima...   466954\n",
              "...          ...                                                ...      ...\n",
              "15814          1  rt USER_REF they took down the material on glo...    22001\n",
              "15815          2  rt USER_REF how climate change could be breaki...    17856\n",
              "15816          0  notiven rt nytimesworld what does trump actual...   384248\n",
              "15817         -1  rt USER_REF hey liberals the climate change cr...   819732\n",
              "15818          0  rt USER_REF USER_REF climate change equation i...   806319\n",
              "\n",
              "[15819 rows x 3 columns]"
            ]
          },
          "metadata": {
            "tags": []
          },
          "execution_count": 116
        }
      ]
    },
    {
      "cell_type": "code",
      "metadata": {
        "id": "IoOaL19lEO4C",
        "colab_type": "code",
        "colab": {}
      },
      "source": [
        "clean_text(test)"
      ],
      "execution_count": 117,
      "outputs": []
    },
    {
      "cell_type": "code",
      "metadata": {
        "id": "UafLbZz78jma",
        "colab_type": "code",
        "colab": {
          "base_uri": "https://localhost:8080/",
          "height": 416
        },
        "outputId": "fb709278-75c7-483a-d9f0-306c4c71bfb6"
      },
      "source": [
        "test"
      ],
      "execution_count": 118,
      "outputs": [
        {
          "output_type": "execute_result",
          "data": {
            "text/html": [
              "<div>\n",
              "<style scoped>\n",
              "    .dataframe tbody tr th:only-of-type {\n",
              "        vertical-align: middle;\n",
              "    }\n",
              "\n",
              "    .dataframe tbody tr th {\n",
              "        vertical-align: top;\n",
              "    }\n",
              "\n",
              "    .dataframe thead th {\n",
              "        text-align: right;\n",
              "    }\n",
              "</style>\n",
              "<table border=\"1\" class=\"dataframe\">\n",
              "  <thead>\n",
              "    <tr style=\"text-align: right;\">\n",
              "      <th></th>\n",
              "      <th>message</th>\n",
              "      <th>tweetid</th>\n",
              "    </tr>\n",
              "  </thead>\n",
              "  <tbody>\n",
              "    <tr>\n",
              "      <th>0</th>\n",
              "      <td>europe will now be looking to china to make su...</td>\n",
              "      <td>169760</td>\n",
              "    </tr>\n",
              "    <tr>\n",
              "      <th>1</th>\n",
              "      <td>combine this with the polling of staffers re c...</td>\n",
              "      <td>35326</td>\n",
              "    </tr>\n",
              "    <tr>\n",
              "      <th>2</th>\n",
              "      <td>the scary unimpeachable evidence that climate ...</td>\n",
              "      <td>224985</td>\n",
              "    </tr>\n",
              "    <tr>\n",
              "      <th>3</th>\n",
              "      <td>USER_REF USER_REF USER_REF USER_REF \\nputin go...</td>\n",
              "      <td>476263</td>\n",
              "    </tr>\n",
              "    <tr>\n",
              "      <th>4</th>\n",
              "      <td>rt USER_REF female orgasms cause global warmin...</td>\n",
              "      <td>872928</td>\n",
              "    </tr>\n",
              "    <tr>\n",
              "      <th>...</th>\n",
              "      <td>...</td>\n",
              "      <td>...</td>\n",
              "    </tr>\n",
              "    <tr>\n",
              "      <th>10541</th>\n",
              "      <td>rt USER_REF brb writing a poem about climate c...</td>\n",
              "      <td>895714</td>\n",
              "    </tr>\n",
              "    <tr>\n",
              "      <th>10542</th>\n",
              "      <td>2016 the year climate change came home during ...</td>\n",
              "      <td>875167</td>\n",
              "    </tr>\n",
              "    <tr>\n",
              "      <th>10543</th>\n",
              "      <td>rt USER_REF pacific countries positive about f...</td>\n",
              "      <td>78329</td>\n",
              "    </tr>\n",
              "    <tr>\n",
              "      <th>10544</th>\n",
              "      <td>rt USER_REF youre so hot you must be the cause...</td>\n",
              "      <td>867455</td>\n",
              "    </tr>\n",
              "    <tr>\n",
              "      <th>10545</th>\n",
              "      <td>rt USER_REF climate change is a global issue t...</td>\n",
              "      <td>470892</td>\n",
              "    </tr>\n",
              "  </tbody>\n",
              "</table>\n",
              "<p>10546 rows × 2 columns</p>\n",
              "</div>"
            ],
            "text/plain": [
              "                                                 message  tweetid\n",
              "0      europe will now be looking to china to make su...   169760\n",
              "1      combine this with the polling of staffers re c...    35326\n",
              "2      the scary unimpeachable evidence that climate ...   224985\n",
              "3      USER_REF USER_REF USER_REF USER_REF \\nputin go...   476263\n",
              "4      rt USER_REF female orgasms cause global warmin...   872928\n",
              "...                                                  ...      ...\n",
              "10541  rt USER_REF brb writing a poem about climate c...   895714\n",
              "10542  2016 the year climate change came home during ...   875167\n",
              "10543  rt USER_REF pacific countries positive about f...    78329\n",
              "10544  rt USER_REF youre so hot you must be the cause...   867455\n",
              "10545  rt USER_REF climate change is a global issue t...   470892\n",
              "\n",
              "[10546 rows x 2 columns]"
            ]
          },
          "metadata": {
            "tags": []
          },
          "execution_count": 118
        }
      ]
    },
    {
      "cell_type": "code",
      "metadata": {
        "id": "f19MFMIY3KLi",
        "colab_type": "code",
        "colab": {
          "base_uri": "https://localhost:8080/",
          "height": 225
        },
        "outputId": "105a9832-b85d-4fe4-8907-35db1d4ef0ae"
      },
      "source": [
        "X_train = train['message']\n",
        "X_train\n"
      ],
      "execution_count": 119,
      "outputs": [
        {
          "output_type": "execute_result",
          "data": {
            "text/plain": [
              "0        polyscimajor epa chief doesnt think carbon dio...\n",
              "1        its not like we lack evidence of anthropogenic...\n",
              "2        rt USER_REF researchers say we have three year...\n",
              "3        todayinmaker wired 2016 was a pivotal year in ...\n",
              "4        rt USER_REF its 2016 and a racist sexist clima...\n",
              "                               ...                        \n",
              "15814    rt USER_REF they took down the material on glo...\n",
              "15815    rt USER_REF how climate change could be breaki...\n",
              "15816    notiven rt nytimesworld what does trump actual...\n",
              "15817    rt USER_REF hey liberals the climate change cr...\n",
              "15818    rt USER_REF USER_REF climate change equation i...\n",
              "Name: message, Length: 15819, dtype: object"
            ]
          },
          "metadata": {
            "tags": []
          },
          "execution_count": 119
        }
      ]
    },
    {
      "cell_type": "code",
      "metadata": {
        "id": "K_6P14uc3W0H",
        "colab_type": "code",
        "colab": {
          "base_uri": "https://localhost:8080/",
          "height": 225
        },
        "outputId": "9c9a8a8f-e6a8-41d3-ad2e-abed313db47b"
      },
      "source": [
        "y_train = train['sentiment']\n",
        "y_train\n"
      ],
      "execution_count": 120,
      "outputs": [
        {
          "output_type": "execute_result",
          "data": {
            "text/plain": [
              "0        1\n",
              "1        1\n",
              "2        2\n",
              "3        1\n",
              "4        1\n",
              "        ..\n",
              "15814    1\n",
              "15815    2\n",
              "15816    0\n",
              "15817   -1\n",
              "15818    0\n",
              "Name: sentiment, Length: 15819, dtype: int64"
            ]
          },
          "metadata": {
            "tags": []
          },
          "execution_count": 120
        }
      ]
    },
    {
      "cell_type": "markdown",
      "metadata": {
        "id": "ZpHXHlui3Zws",
        "colab_type": "text"
      },
      "source": [
        "###Convert to machine language"
      ]
    },
    {
      "cell_type": "code",
      "metadata": {
        "id": "lD2xQ8Fb5sVw",
        "colab_type": "code",
        "colab": {}
      },
      "source": [
        "X_train = tf_vect.fit_transform(X_train)\n"
      ],
      "execution_count": 121,
      "outputs": []
    },
    {
      "cell_type": "code",
      "metadata": {
        "id": "LzMA90nOpCxS",
        "colab_type": "code",
        "colab": {}
      },
      "source": [
        "X_test = test['message']\n"
      ],
      "execution_count": 122,
      "outputs": []
    },
    {
      "cell_type": "code",
      "metadata": {
        "id": "w515iJq2M4cd",
        "colab_type": "code",
        "colab": {}
      },
      "source": [
        "X_test = tf_vect.transform(X_test)\n"
      ],
      "execution_count": 123,
      "outputs": []
    },
    {
      "cell_type": "markdown",
      "metadata": {
        "id": "dcP_hnKd3uAI",
        "colab_type": "text"
      },
      "source": [
        "##Support Vector Machine"
      ]
    },
    {
      "cell_type": "code",
      "metadata": {
        "id": "xhyINQ6vM96c",
        "colab_type": "code",
        "colab": {
          "base_uri": "https://localhost:8080/",
          "height": 34
        },
        "outputId": "73e62425-db54-4792-da16-9a6012e45b48"
      },
      "source": [
        "sv = SVC()\n",
        "\n",
        "sv_accuracy = accuracy(sv)\n",
        "sv_accuracy\n"
      ],
      "execution_count": 124,
      "outputs": [
        {
          "output_type": "execute_result",
          "data": {
            "text/plain": [
              "[0.9759940517606959, 0.72905991087691]"
            ]
          },
          "metadata": {
            "tags": []
          },
          "execution_count": 124
        }
      ]
    },
    {
      "cell_type": "markdown",
      "metadata": {
        "id": "s8DgqL504f16",
        "colab_type": "text"
      },
      "source": [
        "###Stochastic Gradient Descent"
      ]
    },
    {
      "cell_type": "code",
      "metadata": {
        "id": "3NzmKTgzIxgh",
        "colab_type": "code",
        "colab": {
          "base_uri": "https://localhost:8080/",
          "height": 34
        },
        "outputId": "65fd679f-6b4a-4b16-f675-abc429fa6f9a"
      },
      "source": [
        "sgd = SGDClassifier()\n",
        "\n",
        "sgd_accuracy = accuracy(sgd)\n",
        "sgd_accuracy\n",
        "\n"
      ],
      "execution_count": 125,
      "outputs": [
        {
          "output_type": "execute_result",
          "data": {
            "text/plain": [
              "[0.9484480819631763, 0.7432834332494116]"
            ]
          },
          "metadata": {
            "tags": []
          },
          "execution_count": 125
        }
      ]
    },
    {
      "cell_type": "code",
      "metadata": {
        "id": "OqtzXN2aws54",
        "colab_type": "code",
        "colab": {
          "base_uri": "https://localhost:8080/",
          "height": 34
        },
        "outputId": "0d8c8de7-4264-4d22-ae9f-4e17ec43aebb"
      },
      "source": [
        "linear_sv = LinearSVC()\n",
        "\n",
        "linear_sv_accuracy = accuracy(linear_sv)\n",
        "linear_sv_accuracy\n"
      ],
      "execution_count": 126,
      "outputs": [
        {
          "output_type": "execute_result",
          "data": {
            "text/plain": [
              "[0.9957961941957653, 0.7527653218531432]"
            ]
          },
          "metadata": {
            "tags": []
          },
          "execution_count": 126
        }
      ]
    },
    {
      "cell_type": "code",
      "metadata": {
        "id": "Plvjt4JCy7Pc",
        "colab_type": "code",
        "colab": {}
      },
      "source": [
        "linear_svc = LinearSVC()\n"
      ],
      "execution_count": null,
      "outputs": []
    },
    {
      "cell_type": "code",
      "metadata": {
        "id": "EktlZbOIzGsc",
        "colab_type": "code",
        "colab": {
          "base_uri": "https://localhost:8080/",
          "height": 86
        },
        "outputId": "498bdb0b-3162-4506-9856-99e172c84f1c"
      },
      "source": [
        "linear_sv.fit(X_train, y_train)\n"
      ],
      "execution_count": 130,
      "outputs": [
        {
          "output_type": "execute_result",
          "data": {
            "text/plain": [
              "LinearSVC(C=1.0, class_weight=None, dual=True, fit_intercept=True,\n",
              "          intercept_scaling=1, loss='squared_hinge', max_iter=1000,\n",
              "          multi_class='ovr', penalty='l2', random_state=None, tol=0.0001,\n",
              "          verbose=0)"
            ]
          },
          "metadata": {
            "tags": []
          },
          "execution_count": 130
        }
      ]
    },
    {
      "cell_type": "code",
      "metadata": {
        "id": "t3RH4iXJzVe8",
        "colab_type": "code",
        "colab": {}
      },
      "source": [
        "predictions = linear_sv.predict(X_test)\n"
      ],
      "execution_count": 132,
      "outputs": []
    },
    {
      "cell_type": "code",
      "metadata": {
        "id": "qbBPRMzBzmqK",
        "colab_type": "code",
        "colab": {
          "base_uri": "https://localhost:8080/",
          "height": 416
        },
        "outputId": "ff0142b2-1cf3-431d-c50c-d1ab1376d4e5"
      },
      "source": [
        "test['sentiment'] = predictions\n",
        "test\n"
      ],
      "execution_count": 133,
      "outputs": [
        {
          "output_type": "execute_result",
          "data": {
            "text/html": [
              "<div>\n",
              "<style scoped>\n",
              "    .dataframe tbody tr th:only-of-type {\n",
              "        vertical-align: middle;\n",
              "    }\n",
              "\n",
              "    .dataframe tbody tr th {\n",
              "        vertical-align: top;\n",
              "    }\n",
              "\n",
              "    .dataframe thead th {\n",
              "        text-align: right;\n",
              "    }\n",
              "</style>\n",
              "<table border=\"1\" class=\"dataframe\">\n",
              "  <thead>\n",
              "    <tr style=\"text-align: right;\">\n",
              "      <th></th>\n",
              "      <th>message</th>\n",
              "      <th>tweetid</th>\n",
              "      <th>sentiment</th>\n",
              "    </tr>\n",
              "  </thead>\n",
              "  <tbody>\n",
              "    <tr>\n",
              "      <th>0</th>\n",
              "      <td>europe will now be looking to china to make su...</td>\n",
              "      <td>169760</td>\n",
              "      <td>1</td>\n",
              "    </tr>\n",
              "    <tr>\n",
              "      <th>1</th>\n",
              "      <td>combine this with the polling of staffers re c...</td>\n",
              "      <td>35326</td>\n",
              "      <td>1</td>\n",
              "    </tr>\n",
              "    <tr>\n",
              "      <th>2</th>\n",
              "      <td>the scary unimpeachable evidence that climate ...</td>\n",
              "      <td>224985</td>\n",
              "      <td>1</td>\n",
              "    </tr>\n",
              "    <tr>\n",
              "      <th>3</th>\n",
              "      <td>USER_REF USER_REF USER_REF USER_REF \\nputin go...</td>\n",
              "      <td>476263</td>\n",
              "      <td>1</td>\n",
              "    </tr>\n",
              "    <tr>\n",
              "      <th>4</th>\n",
              "      <td>rt USER_REF female orgasms cause global warmin...</td>\n",
              "      <td>872928</td>\n",
              "      <td>0</td>\n",
              "    </tr>\n",
              "    <tr>\n",
              "      <th>...</th>\n",
              "      <td>...</td>\n",
              "      <td>...</td>\n",
              "      <td>...</td>\n",
              "    </tr>\n",
              "    <tr>\n",
              "      <th>10541</th>\n",
              "      <td>rt USER_REF brb writing a poem about climate c...</td>\n",
              "      <td>895714</td>\n",
              "      <td>1</td>\n",
              "    </tr>\n",
              "    <tr>\n",
              "      <th>10542</th>\n",
              "      <td>2016 the year climate change came home during ...</td>\n",
              "      <td>875167</td>\n",
              "      <td>1</td>\n",
              "    </tr>\n",
              "    <tr>\n",
              "      <th>10543</th>\n",
              "      <td>rt USER_REF pacific countries positive about f...</td>\n",
              "      <td>78329</td>\n",
              "      <td>2</td>\n",
              "    </tr>\n",
              "    <tr>\n",
              "      <th>10544</th>\n",
              "      <td>rt USER_REF youre so hot you must be the cause...</td>\n",
              "      <td>867455</td>\n",
              "      <td>0</td>\n",
              "    </tr>\n",
              "    <tr>\n",
              "      <th>10545</th>\n",
              "      <td>rt USER_REF climate change is a global issue t...</td>\n",
              "      <td>470892</td>\n",
              "      <td>1</td>\n",
              "    </tr>\n",
              "  </tbody>\n",
              "</table>\n",
              "<p>10546 rows × 3 columns</p>\n",
              "</div>"
            ],
            "text/plain": [
              "                                                 message  tweetid  sentiment\n",
              "0      europe will now be looking to china to make su...   169760          1\n",
              "1      combine this with the polling of staffers re c...    35326          1\n",
              "2      the scary unimpeachable evidence that climate ...   224985          1\n",
              "3      USER_REF USER_REF USER_REF USER_REF \\nputin go...   476263          1\n",
              "4      rt USER_REF female orgasms cause global warmin...   872928          0\n",
              "...                                                  ...      ...        ...\n",
              "10541  rt USER_REF brb writing a poem about climate c...   895714          1\n",
              "10542  2016 the year climate change came home during ...   875167          1\n",
              "10543  rt USER_REF pacific countries positive about f...    78329          2\n",
              "10544  rt USER_REF youre so hot you must be the cause...   867455          0\n",
              "10545  rt USER_REF climate change is a global issue t...   470892          1\n",
              "\n",
              "[10546 rows x 3 columns]"
            ]
          },
          "metadata": {
            "tags": []
          },
          "execution_count": 133
        }
      ]
    },
    {
      "cell_type": "code",
      "metadata": {
        "id": "SFOoa_HLzswW",
        "colab_type": "code",
        "colab": {
          "base_uri": "https://localhost:8080/",
          "height": 416
        },
        "outputId": "42986ce8-41ab-44df-ba03-7ea5c08cca5e"
      },
      "source": [
        "submission = test[['tweetid', 'sentiment']]\n",
        "submission\n"
      ],
      "execution_count": 134,
      "outputs": [
        {
          "output_type": "execute_result",
          "data": {
            "text/html": [
              "<div>\n",
              "<style scoped>\n",
              "    .dataframe tbody tr th:only-of-type {\n",
              "        vertical-align: middle;\n",
              "    }\n",
              "\n",
              "    .dataframe tbody tr th {\n",
              "        vertical-align: top;\n",
              "    }\n",
              "\n",
              "    .dataframe thead th {\n",
              "        text-align: right;\n",
              "    }\n",
              "</style>\n",
              "<table border=\"1\" class=\"dataframe\">\n",
              "  <thead>\n",
              "    <tr style=\"text-align: right;\">\n",
              "      <th></th>\n",
              "      <th>tweetid</th>\n",
              "      <th>sentiment</th>\n",
              "    </tr>\n",
              "  </thead>\n",
              "  <tbody>\n",
              "    <tr>\n",
              "      <th>0</th>\n",
              "      <td>169760</td>\n",
              "      <td>1</td>\n",
              "    </tr>\n",
              "    <tr>\n",
              "      <th>1</th>\n",
              "      <td>35326</td>\n",
              "      <td>1</td>\n",
              "    </tr>\n",
              "    <tr>\n",
              "      <th>2</th>\n",
              "      <td>224985</td>\n",
              "      <td>1</td>\n",
              "    </tr>\n",
              "    <tr>\n",
              "      <th>3</th>\n",
              "      <td>476263</td>\n",
              "      <td>1</td>\n",
              "    </tr>\n",
              "    <tr>\n",
              "      <th>4</th>\n",
              "      <td>872928</td>\n",
              "      <td>0</td>\n",
              "    </tr>\n",
              "    <tr>\n",
              "      <th>...</th>\n",
              "      <td>...</td>\n",
              "      <td>...</td>\n",
              "    </tr>\n",
              "    <tr>\n",
              "      <th>10541</th>\n",
              "      <td>895714</td>\n",
              "      <td>1</td>\n",
              "    </tr>\n",
              "    <tr>\n",
              "      <th>10542</th>\n",
              "      <td>875167</td>\n",
              "      <td>1</td>\n",
              "    </tr>\n",
              "    <tr>\n",
              "      <th>10543</th>\n",
              "      <td>78329</td>\n",
              "      <td>2</td>\n",
              "    </tr>\n",
              "    <tr>\n",
              "      <th>10544</th>\n",
              "      <td>867455</td>\n",
              "      <td>0</td>\n",
              "    </tr>\n",
              "    <tr>\n",
              "      <th>10545</th>\n",
              "      <td>470892</td>\n",
              "      <td>1</td>\n",
              "    </tr>\n",
              "  </tbody>\n",
              "</table>\n",
              "<p>10546 rows × 2 columns</p>\n",
              "</div>"
            ],
            "text/plain": [
              "       tweetid  sentiment\n",
              "0       169760          1\n",
              "1        35326          1\n",
              "2       224985          1\n",
              "3       476263          1\n",
              "4       872928          0\n",
              "...        ...        ...\n",
              "10541   895714          1\n",
              "10542   875167          1\n",
              "10543    78329          2\n",
              "10544   867455          0\n",
              "10545   470892          1\n",
              "\n",
              "[10546 rows x 2 columns]"
            ]
          },
          "metadata": {
            "tags": []
          },
          "execution_count": 134
        }
      ]
    },
    {
      "cell_type": "markdown",
      "metadata": {
        "id": "DQIx8LdJ5XkN",
        "colab_type": "text"
      },
      "source": [
        "#Model Analysis"
      ]
    },
    {
      "cell_type": "markdown",
      "metadata": {
        "id": "AAuPQ7QL562Y",
        "colab_type": "text"
      },
      "source": [
        "#Conclusion"
      ]
    }
  ]
}