{
  "nbformat": 4,
  "nbformat_minor": 0,
  "metadata": {
    "kernelspec": {
      "display_name": "Python 3",
      "language": "python",
      "name": "python3"
    },
    "language_info": {
      "codemirror_mode": {
        "name": "ipython",
        "version": 3
      },
      "file_extension": ".py",
      "mimetype": "text/x-python",
      "name": "python",
      "nbconvert_exporter": "python",
      "pygments_lexer": "ipython3",
      "version": "3.7.6"
    },
    "colab": {
      "name": "Climate_change (1).ipynb",
      "provenance": [],
      "collapsed_sections": [
        "-VqeCRDaVxXY",
        "x9HLGvDNVxYM",
        "3TPRVVKQVxYO",
        "7rdfD0TkVxYO",
        "qL8jpnPxVxYP",
        "UCplaYUjVxYQ",
        "5QJEmvWVVxYQ",
        "5ekydnt2VxYR",
        "LvDcaHe-VxYU",
        "25NQkdQ6VxYX",
        "gBUPaQ7vVxYX",
        "6P_foBaRVxYY",
        "-tFzIx1OVxYY",
        "FaU-hg0VVxYc",
        "bkIFNzOcVxYi",
        "Z874fI_yVxY7",
        "EeSfqWPBVxZJ",
        "1ksQRpQUVxZW",
        "X-nPqXDaVxZ8",
        "nAnAS7P5VxaI",
        "2XtL5fvjVxaL",
        "cI8TDX13VxaR",
        "ocvtx3_dVxbK",
        "Cj2oSgGOVxbL",
        "CAtILP64VxbN",
        "SGMsB5tiVxbP",
        "zCd5wjWyVxbP",
        "9aPRY4dGVxbQ",
        "sr8XEUmUVxbQ",
        "7vKyF-gdVxbQ",
        "-Z6NbnEPVxbR",
        "nUJ4joelVxbr",
        "S7mpqti-Vxbr",
        "f4rk4oSAVxbs"
      ],
      "toc_visible": true
    }
  },
  "cells": [
    {
      "cell_type": "markdown",
      "metadata": {
        "id": "Tc6wG-x8VxWI"
      },
      "source": [
        "# CLASSIFICATION CHALLENGE"
      ]
    },
    {
      "cell_type": "markdown",
      "metadata": {
        "id": "kYCbx3PSVxWK"
      },
      "source": [
        "# Outline\n",
        "\n",
        "- [Introduction](#Introduction)\n",
        "- [Import necessary libraries](#Import)\n",
        "- [Loading Datasets](#Load)\n",
        "- [Data Preprocessing](#section-four)\n",
        "- EDA\n",
        "  * Analysis of the data\n",
        "  \n",
        "- [Classification Models](#)  \n",
        "- [Feature Egineering](#feature_engineering)\n",
        " * [TF-IDF](#tfidf)\n",
        " * [WORD2VEC](word2vec) \n",
        "- [Pipelines](#Pipelines)\n",
        "  * [Using TF-IDF](#pipe_tfidf)\n",
        "  * [Using Word2Vec](#pipe_word2vec)\n",
        "- [Modelling and Evaluation](#model_eval)\n",
        "  * [Modelling - Raw tweets](#raw_tweets)\n",
        "  * [Modelling - Cleaned tweets](#clean_tweets)\n",
        "  * [Model perfomance (raw tweets vs cleaned tweets)](#rvc)\n",
        "  * [Model perfomance (tfidf vs word2vec)](tfidfvsword2vec)\n",
        "- [Ensemble Method](#ensemble)\n",
        "- [Choosing the champion model](#cham_model)\n",
        "- [Hyperparameter tunning](#hy_tunning)\n",
        "- [Predictions](#predictions)\n",
        "- [Submission](#submission)  \n",
        "- [Conclusion](#conclusion)\n",
        "- [Appendix](#appendix)\n",
        "- [References](#references)\n",
        "    \n",
        "    \n"
      ]
    },
    {
      "cell_type": "markdown",
      "metadata": {
        "id": "JLmvjzUHVxWL"
      },
      "source": [
        "# Introduction"
      ]
    },
    {
      "cell_type": "markdown",
      "metadata": {
        "id": "NKSm-P-cVxWL"
      },
      "source": [
        "Companies are constructed around lessening ones environment impact or carbon footprint. They offer products and services that are environmentally friendly and sustainable, in line with their values and ideals. They would like to determine how people perceive climate change and whether or not they believe it is a real threat. "
      ]
    },
    {
      "cell_type": "markdown",
      "metadata": {
        "id": "T0TMPN2QVxWM"
      },
      "source": [
        "**Problen Statement**"
      ]
    },
    {
      "cell_type": "markdown",
      "metadata": {
        "id": "0lP2Ak42VxWN"
      },
      "source": [
        "Create a Natural Language Processing model to classify whether or not a person believes in climate change, based on their novel tweet data. "
      ]
    },
    {
      "cell_type": "markdown",
      "metadata": {
        "id": "BXS6GOF4VxWO"
      },
      "source": [
        "<a id=\"comet\"></a>\n",
        "# Starting a Comet experiment\n",
        "<img src=\"https://www.comet.ml/images/logo_comet_light.png\" width=\"350\" alt=\"Drawing\" style=\"width: 350px;\"/>\n",
        "We will be using Comet as a form of version control throughout the development of our model"
      ]
    },
    {
      "cell_type": "code",
      "metadata": {
        "id": "JywImZYjVxWP"
      },
      "source": [
        "# install comet\n",
        "# !pip install comet_ml"
      ],
      "execution_count": 1,
      "outputs": []
    },
    {
      "cell_type": "code",
      "metadata": {
        "id": "mlA4RuG5VxWT"
      },
      "source": [
        "# importing Experiment from comet\n",
        "# from comet_ml import Experiment"
      ],
      "execution_count": 2,
      "outputs": []
    },
    {
      "cell_type": "code",
      "metadata": {
        "id": "dgFkJIugVxWX"
      },
      "source": [
        "# # Linking our current workspace to comet by creating an experiment with our api key:\n",
        "# experiment = Experiment(\n",
        "#     api_key=\"YBjEZqF3vM9CQLf2Lx7GeSw0C\",\n",
        "#     project_name=\"general\",\n",
        "#     workspace=\"mpho-mokhokane\",\n",
        "# )"
      ],
      "execution_count": null,
      "outputs": []
    },
    {
      "cell_type": "code",
      "metadata": {
        "id": "Mlmhv02W9x7C",
        "outputId": "5f866563-321f-4bb2-9000-e7860150bfb8",
        "colab": {
          "base_uri": "https://localhost:8080/"
        }
      },
      "source": [
        "!pip install contractions"
      ],
      "execution_count": 3,
      "outputs": [
        {
          "output_type": "stream",
          "text": [
            "Collecting contractions\n",
            "  Downloading https://files.pythonhosted.org/packages/00/92/a05b76a692ac08d470ae5c23873cf1c9a041532f1ee065e74b374f218306/contractions-0.0.25-py2.py3-none-any.whl\n",
            "Collecting textsearch\n",
            "  Downloading https://files.pythonhosted.org/packages/42/a8/03407021f9555043de5492a2bd7a35c56cc03c2510092b5ec018cae1bbf1/textsearch-0.0.17-py2.py3-none-any.whl\n",
            "Collecting Unidecode\n",
            "\u001b[?25l  Downloading https://files.pythonhosted.org/packages/d0/42/d9edfed04228bacea2d824904cae367ee9efd05e6cce7ceaaedd0b0ad964/Unidecode-1.1.1-py2.py3-none-any.whl (238kB)\n",
            "\u001b[K     |████████████████████████████████| 245kB 3.7MB/s \n",
            "\u001b[?25hCollecting pyahocorasick\n",
            "\u001b[?25l  Downloading https://files.pythonhosted.org/packages/f4/9f/f0d8e8850e12829eea2e778f1c90e3c53a9a799b7f412082a5d21cd19ae1/pyahocorasick-1.4.0.tar.gz (312kB)\n",
            "\u001b[K     |████████████████████████████████| 317kB 8.3MB/s \n",
            "\u001b[?25hBuilding wheels for collected packages: pyahocorasick\n",
            "  Building wheel for pyahocorasick (setup.py) ... \u001b[?25l\u001b[?25hdone\n",
            "  Created wheel for pyahocorasick: filename=pyahocorasick-1.4.0-cp36-cp36m-linux_x86_64.whl size=81703 sha256=2f9ace3364bb76765e2a50314e62d2978a17b492280d96a5dda8806c8bb0307d\n",
            "  Stored in directory: /root/.cache/pip/wheels/0a/90/61/87a55f5b459792fbb2b7ba6b31721b06ff5cf6bde541b40994\n",
            "Successfully built pyahocorasick\n",
            "Installing collected packages: Unidecode, pyahocorasick, textsearch, contractions\n",
            "Successfully installed Unidecode-1.1.1 contractions-0.0.25 pyahocorasick-1.4.0 textsearch-0.0.17\n"
          ],
          "name": "stdout"
        }
      ]
    },
    {
      "cell_type": "markdown",
      "metadata": {
        "id": "Iv699tZoVxWa"
      },
      "source": [
        "<a id='Import'></a>\n",
        "# Import necessary libraries"
      ]
    },
    {
      "cell_type": "code",
      "metadata": {
        "_cell_guid": "b1076dfc-b9ad-4769-8c92-a6c4dae69d19",
        "_uuid": "8f2839f25d086af736a60e9eeb907d3b93b6e0e5",
        "id": "sO9zIRsnVxWb"
      },
      "source": [
        "# imports for data visualisation\n",
        "\n",
        "import seaborn as sns\n",
        "from scipy import stats\n",
        "import matplotlib.pyplot as plt\n",
        "%matplotlib inline\n",
        "\n",
        "# imports for Natural Language  Processing\n",
        "import pandas as pd\n",
        "import numpy as np\n",
        "import nltk\n",
        "import string\n",
        "import re\n",
        "import contractions\n",
        "from sklearn.feature_extraction.text import TfidfVectorizer\n",
        "from sklearn.linear_model import LogisticRegression\n",
        "from sklearn.naive_bayes import MultinomialNB\n",
        "from sklearn.ensemble import RandomForestClassifier, AdaBoostClassifier\n",
        "from sklearn.svm import LinearSVC\n",
        "from sklearn.pipeline import Pipeline\n",
        "from xgboost import XGBRFClassifier\n",
        "from lightgbm import LGBMClassifier\n",
        "from sklearn.tree import DecisionTreeClassifier\n",
        "from sklearn.ensemble import RandomForestClassifier\n",
        "from sklearn.model_selection import train_test_split\n",
        "from sklearn.naive_bayes import MultinomialNB\n",
        "from nltk.stem import WordNetLemmatizer\n",
        "from nltk.corpus import stopwords, wordnet\n",
        "from nltk.tokenize import word_tokenize\n",
        "\n",
        "from sklearn.metrics import f1_score, accuracy_score, confusion_matrix, classification_report\n",
        "\n",
        "\n",
        "import seaborn as sns\n",
        "import matplotlib.pyplot as plt\n",
        "%matplotlib inline\n",
        "\n",
        "\n"
      ],
      "execution_count": 4,
      "outputs": []
    },
    {
      "cell_type": "markdown",
      "metadata": {
        "id": "Z3wBf9yqVxWf"
      },
      "source": [
        "<a id='Load'></a>\n",
        "# Load and view the data"
      ]
    },
    {
      "cell_type": "code",
      "metadata": {
        "_cell_guid": "79c7e3d0-c299-4dcb-8224-4455121ee9b0",
        "_uuid": "d629ff2d2480ee46fbb7e2d37f6b5fab8052498a",
        "id": "4EmHepW1VxWg"
      },
      "source": [
        "# Importing the train & test data sets\n",
        "train = pd.read_csv('train.csv')\n",
        "test = pd.read_csv('test.csv')"
      ],
      "execution_count": 45,
      "outputs": []
    },
    {
      "cell_type": "markdown",
      "metadata": {
        "id": "xaXQWG2xVxWl"
      },
      "source": [
        "# Data Preprocessing"
      ]
    },
    {
      "cell_type": "markdown",
      "metadata": {
        "id": "D0US091BsjPe"
      },
      "source": [
        "Identifying Missing Values"
      ]
    },
    {
      "cell_type": "code",
      "metadata": {
        "id": "gi8CvqYlVxWm",
        "outputId": "d37ea69f-771f-4b4a-afc2-b8bd1a72de90",
        "colab": {
          "base_uri": "https://localhost:8080/"
        }
      },
      "source": [
        "#Cheching if there are missing values in the Train dataset\n",
        "train.isna().sum()"
      ],
      "execution_count": 46,
      "outputs": [
        {
          "output_type": "execute_result",
          "data": {
            "text/plain": [
              "sentiment    0\n",
              "message      0\n",
              "tweetid      0\n",
              "dtype: int64"
            ]
          },
          "metadata": {
            "tags": []
          },
          "execution_count": 46
        }
      ]
    },
    {
      "cell_type": "code",
      "metadata": {
        "id": "9yM00FFVVxXM",
        "outputId": "61bd19f2-b543-436c-de69-491d5629c3a3",
        "colab": {
          "base_uri": "https://localhost:8080/"
        }
      },
      "source": [
        "#Cheching if there are missing values in the Test dataset\n",
        "test.isna().sum()"
      ],
      "execution_count": 47,
      "outputs": [
        {
          "output_type": "execute_result",
          "data": {
            "text/plain": [
              "message    0\n",
              "tweetid    0\n",
              "dtype: int64"
            ]
          },
          "metadata": {
            "tags": []
          },
          "execution_count": 47
        }
      ]
    },
    {
      "cell_type": "code",
      "metadata": {
        "id": "ZHaUuffLVxXR"
      },
      "source": [
        ""
      ],
      "execution_count": 47,
      "outputs": []
    },
    {
      "cell_type": "markdown",
      "metadata": {
        "id": "6e-cdv2vxYDU"
      },
      "source": [
        "Removing Mentions"
      ]
    },
    {
      "cell_type": "code",
      "metadata": {
        "id": "23NSGRl5VxXU",
        "outputId": "c1036202-effb-42d7-8af7-e60ee92f5833",
        "colab": {
          "base_uri": "https://localhost:8080/",
          "height": 204
        }
      },
      "source": [
        "def mentions(x):\n",
        "    x = re.sub(r\"(?:\\@|https?\\://)\\S+\", \"\", x)\n",
        "    return x \n",
        "\n",
        "train['message'] = train['message'].apply(mentions)\n",
        "train.head()"
      ],
      "execution_count": 48,
      "outputs": [
        {
          "output_type": "execute_result",
          "data": {
            "text/html": [
              "<div>\n",
              "<style scoped>\n",
              "    .dataframe tbody tr th:only-of-type {\n",
              "        vertical-align: middle;\n",
              "    }\n",
              "\n",
              "    .dataframe tbody tr th {\n",
              "        vertical-align: top;\n",
              "    }\n",
              "\n",
              "    .dataframe thead th {\n",
              "        text-align: right;\n",
              "    }\n",
              "</style>\n",
              "<table border=\"1\" class=\"dataframe\">\n",
              "  <thead>\n",
              "    <tr style=\"text-align: right;\">\n",
              "      <th></th>\n",
              "      <th>sentiment</th>\n",
              "      <th>message</th>\n",
              "      <th>tweetid</th>\n",
              "    </tr>\n",
              "  </thead>\n",
              "  <tbody>\n",
              "    <tr>\n",
              "      <th>0</th>\n",
              "      <td>1</td>\n",
              "      <td>PolySciMajor EPA chief doesn't think carbon di...</td>\n",
              "      <td>625221</td>\n",
              "    </tr>\n",
              "    <tr>\n",
              "      <th>1</th>\n",
              "      <td>1</td>\n",
              "      <td>It's not like we lack evidence of anthropogeni...</td>\n",
              "      <td>126103</td>\n",
              "    </tr>\n",
              "    <tr>\n",
              "      <th>2</th>\n",
              "      <td>2</td>\n",
              "      <td>RT  Researchers say we have three years to act...</td>\n",
              "      <td>698562</td>\n",
              "    </tr>\n",
              "    <tr>\n",
              "      <th>3</th>\n",
              "      <td>1</td>\n",
              "      <td>#TodayinMaker# WIRED : 2016 was a pivotal year...</td>\n",
              "      <td>573736</td>\n",
              "    </tr>\n",
              "    <tr>\n",
              "      <th>4</th>\n",
              "      <td>1</td>\n",
              "      <td>RT  It's 2016, and a racist, sexist, climate c...</td>\n",
              "      <td>466954</td>\n",
              "    </tr>\n",
              "  </tbody>\n",
              "</table>\n",
              "</div>"
            ],
            "text/plain": [
              "   sentiment                                            message  tweetid\n",
              "0          1  PolySciMajor EPA chief doesn't think carbon di...   625221\n",
              "1          1  It's not like we lack evidence of anthropogeni...   126103\n",
              "2          2  RT  Researchers say we have three years to act...   698562\n",
              "3          1  #TodayinMaker# WIRED : 2016 was a pivotal year...   573736\n",
              "4          1  RT  It's 2016, and a racist, sexist, climate c...   466954"
            ]
          },
          "metadata": {
            "tags": []
          },
          "execution_count": 48
        }
      ]
    },
    {
      "cell_type": "markdown",
      "metadata": {
        "id": "6jELrgFWxiha"
      },
      "source": [
        "Expand Contractions\n"
      ]
    },
    {
      "cell_type": "code",
      "metadata": {
        "id": "C7LXowvAxsDq",
        "outputId": "ce23efa1-36cf-4134-dd4d-25bb8dfd39c8",
        "colab": {
          "base_uri": "https://localhost:8080/",
          "height": 204
        }
      },
      "source": [
        "train['message'] = train['message'].apply(lambda x: contractions.fix(x))\n",
        "\n",
        "train.head()"
      ],
      "execution_count": 49,
      "outputs": [
        {
          "output_type": "execute_result",
          "data": {
            "text/html": [
              "<div>\n",
              "<style scoped>\n",
              "    .dataframe tbody tr th:only-of-type {\n",
              "        vertical-align: middle;\n",
              "    }\n",
              "\n",
              "    .dataframe tbody tr th {\n",
              "        vertical-align: top;\n",
              "    }\n",
              "\n",
              "    .dataframe thead th {\n",
              "        text-align: right;\n",
              "    }\n",
              "</style>\n",
              "<table border=\"1\" class=\"dataframe\">\n",
              "  <thead>\n",
              "    <tr style=\"text-align: right;\">\n",
              "      <th></th>\n",
              "      <th>sentiment</th>\n",
              "      <th>message</th>\n",
              "      <th>tweetid</th>\n",
              "    </tr>\n",
              "  </thead>\n",
              "  <tbody>\n",
              "    <tr>\n",
              "      <th>0</th>\n",
              "      <td>1</td>\n",
              "      <td>PolySciMajor EPA chief does not think carbon d...</td>\n",
              "      <td>625221</td>\n",
              "    </tr>\n",
              "    <tr>\n",
              "      <th>1</th>\n",
              "      <td>1</td>\n",
              "      <td>it is not like we lack evidence of anthropogen...</td>\n",
              "      <td>126103</td>\n",
              "    </tr>\n",
              "    <tr>\n",
              "      <th>2</th>\n",
              "      <td>2</td>\n",
              "      <td>RT  Researchers say we have three years to act...</td>\n",
              "      <td>698562</td>\n",
              "    </tr>\n",
              "    <tr>\n",
              "      <th>3</th>\n",
              "      <td>1</td>\n",
              "      <td>#TodayinMaker# WIRED : 2016 was a pivotal year...</td>\n",
              "      <td>573736</td>\n",
              "    </tr>\n",
              "    <tr>\n",
              "      <th>4</th>\n",
              "      <td>1</td>\n",
              "      <td>RT  it is 2016, and a racist, sexist, climate ...</td>\n",
              "      <td>466954</td>\n",
              "    </tr>\n",
              "  </tbody>\n",
              "</table>\n",
              "</div>"
            ],
            "text/plain": [
              "   sentiment                                            message  tweetid\n",
              "0          1  PolySciMajor EPA chief does not think carbon d...   625221\n",
              "1          1  it is not like we lack evidence of anthropogen...   126103\n",
              "2          2  RT  Researchers say we have three years to act...   698562\n",
              "3          1  #TodayinMaker# WIRED : 2016 was a pivotal year...   573736\n",
              "4          1  RT  it is 2016, and a racist, sexist, climate ...   466954"
            ]
          },
          "metadata": {
            "tags": []
          },
          "execution_count": 49
        }
      ]
    },
    {
      "cell_type": "markdown",
      "metadata": {
        "id": "SqX-qoppGinx"
      },
      "source": [
        "Removing URLs"
      ]
    },
    {
      "cell_type": "code",
      "metadata": {
        "id": "sHEZwR0eGm7B"
      },
      "source": [
        "train['message'] = train['message'].str.replace('http\\S+|www.\\S+', '', case=False)"
      ],
      "execution_count": 50,
      "outputs": []
    },
    {
      "cell_type": "markdown",
      "metadata": {
        "id": "aStx7k71xteX"
      },
      "source": [
        "Removing Punctuations"
      ]
    },
    {
      "cell_type": "code",
      "metadata": {
        "id": "mouIzWBox57R"
      },
      "source": [
        "def remove_punc(x):\n",
        "  x = re.sub(r\"([^A-Za-z0-9]+)\",\" \",x)\n",
        "  return x\n",
        "\n",
        "train['message'] = train['message'].map(lambda x: remove_punc(str(x)))"
      ],
      "execution_count": 51,
      "outputs": []
    },
    {
      "cell_type": "markdown",
      "metadata": {
        "id": "8aEWBGgcx6U2"
      },
      "source": [
        "Tokenization"
      ]
    },
    {
      "cell_type": "code",
      "metadata": {
        "id": "DmUlQIgbx9Ck",
        "outputId": "e72a627b-ef0e-4dea-f903-25d3e0db246c",
        "colab": {
          "base_uri": "https://localhost:8080/",
          "height": 238
        }
      },
      "source": [
        "nltk.download('punkt')\n",
        "\n",
        "train['message'] = train['message'].apply(word_tokenize)\n",
        "train.head()"
      ],
      "execution_count": 52,
      "outputs": [
        {
          "output_type": "stream",
          "text": [
            "[nltk_data] Downloading package punkt to /root/nltk_data...\n",
            "[nltk_data]   Package punkt is already up-to-date!\n"
          ],
          "name": "stdout"
        },
        {
          "output_type": "execute_result",
          "data": {
            "text/html": [
              "<div>\n",
              "<style scoped>\n",
              "    .dataframe tbody tr th:only-of-type {\n",
              "        vertical-align: middle;\n",
              "    }\n",
              "\n",
              "    .dataframe tbody tr th {\n",
              "        vertical-align: top;\n",
              "    }\n",
              "\n",
              "    .dataframe thead th {\n",
              "        text-align: right;\n",
              "    }\n",
              "</style>\n",
              "<table border=\"1\" class=\"dataframe\">\n",
              "  <thead>\n",
              "    <tr style=\"text-align: right;\">\n",
              "      <th></th>\n",
              "      <th>sentiment</th>\n",
              "      <th>message</th>\n",
              "      <th>tweetid</th>\n",
              "    </tr>\n",
              "  </thead>\n",
              "  <tbody>\n",
              "    <tr>\n",
              "      <th>0</th>\n",
              "      <td>1</td>\n",
              "      <td>[PolySciMajor, EPA, chief, does, not, think, c...</td>\n",
              "      <td>625221</td>\n",
              "    </tr>\n",
              "    <tr>\n",
              "      <th>1</th>\n",
              "      <td>1</td>\n",
              "      <td>[it, is, not, like, we, lack, evidence, of, an...</td>\n",
              "      <td>126103</td>\n",
              "    </tr>\n",
              "    <tr>\n",
              "      <th>2</th>\n",
              "      <td>2</td>\n",
              "      <td>[RT, Researchers, say, we, have, three, years,...</td>\n",
              "      <td>698562</td>\n",
              "    </tr>\n",
              "    <tr>\n",
              "      <th>3</th>\n",
              "      <td>1</td>\n",
              "      <td>[TodayinMaker, WIRED, 2016, was, a, pivotal, y...</td>\n",
              "      <td>573736</td>\n",
              "    </tr>\n",
              "    <tr>\n",
              "      <th>4</th>\n",
              "      <td>1</td>\n",
              "      <td>[RT, it, is, 2016, and, a, racist, sexist, cli...</td>\n",
              "      <td>466954</td>\n",
              "    </tr>\n",
              "  </tbody>\n",
              "</table>\n",
              "</div>"
            ],
            "text/plain": [
              "   sentiment                                            message  tweetid\n",
              "0          1  [PolySciMajor, EPA, chief, does, not, think, c...   625221\n",
              "1          1  [it, is, not, like, we, lack, evidence, of, an...   126103\n",
              "2          2  [RT, Researchers, say, we, have, three, years,...   698562\n",
              "3          1  [TodayinMaker, WIRED, 2016, was, a, pivotal, y...   573736\n",
              "4          1  [RT, it, is, 2016, and, a, racist, sexist, cli...   466954"
            ]
          },
          "metadata": {
            "tags": []
          },
          "execution_count": 52
        }
      ]
    },
    {
      "cell_type": "markdown",
      "metadata": {
        "id": "95GYlV-xx_Ld"
      },
      "source": [
        "Removing Retweets"
      ]
    },
    {
      "cell_type": "code",
      "metadata": {
        "id": "j_42GnZkyKTx",
        "outputId": "a2c2187f-3e59-4f4f-8e24-ea7f777d8be8",
        "colab": {
          "base_uri": "https://localhost:8080/",
          "height": 359
        }
      },
      "source": [
        "retweet = 'RT'\n",
        "train['message'] = train['message'].apply(lambda x: [word for word in x if word not in retweet])\n",
        "train.head(10)"
      ],
      "execution_count": 53,
      "outputs": [
        {
          "output_type": "execute_result",
          "data": {
            "text/html": [
              "<div>\n",
              "<style scoped>\n",
              "    .dataframe tbody tr th:only-of-type {\n",
              "        vertical-align: middle;\n",
              "    }\n",
              "\n",
              "    .dataframe tbody tr th {\n",
              "        vertical-align: top;\n",
              "    }\n",
              "\n",
              "    .dataframe thead th {\n",
              "        text-align: right;\n",
              "    }\n",
              "</style>\n",
              "<table border=\"1\" class=\"dataframe\">\n",
              "  <thead>\n",
              "    <tr style=\"text-align: right;\">\n",
              "      <th></th>\n",
              "      <th>sentiment</th>\n",
              "      <th>message</th>\n",
              "      <th>tweetid</th>\n",
              "    </tr>\n",
              "  </thead>\n",
              "  <tbody>\n",
              "    <tr>\n",
              "      <th>0</th>\n",
              "      <td>1</td>\n",
              "      <td>[PolySciMajor, EPA, chief, does, not, think, c...</td>\n",
              "      <td>625221</td>\n",
              "    </tr>\n",
              "    <tr>\n",
              "      <th>1</th>\n",
              "      <td>1</td>\n",
              "      <td>[it, is, not, like, we, lack, evidence, of, an...</td>\n",
              "      <td>126103</td>\n",
              "    </tr>\n",
              "    <tr>\n",
              "      <th>2</th>\n",
              "      <td>2</td>\n",
              "      <td>[Researchers, say, we, have, three, years, to,...</td>\n",
              "      <td>698562</td>\n",
              "    </tr>\n",
              "    <tr>\n",
              "      <th>3</th>\n",
              "      <td>1</td>\n",
              "      <td>[TodayinMaker, WIRED, 2016, was, a, pivotal, y...</td>\n",
              "      <td>573736</td>\n",
              "    </tr>\n",
              "    <tr>\n",
              "      <th>4</th>\n",
              "      <td>1</td>\n",
              "      <td>[it, is, 2016, and, a, racist, sexist, climate...</td>\n",
              "      <td>466954</td>\n",
              "    </tr>\n",
              "    <tr>\n",
              "      <th>5</th>\n",
              "      <td>1</td>\n",
              "      <td>[Worth, a, read, whether, you, do, or, do, not...</td>\n",
              "      <td>425577</td>\n",
              "    </tr>\n",
              "    <tr>\n",
              "      <th>6</th>\n",
              "      <td>1</td>\n",
              "      <td>[Mike, Pence, does, not, believe, in, global, ...</td>\n",
              "      <td>294933</td>\n",
              "    </tr>\n",
              "    <tr>\n",
              "      <th>7</th>\n",
              "      <td>1</td>\n",
              "      <td>[Six, big, things, we, can, ALL, do, today, to...</td>\n",
              "      <td>992717</td>\n",
              "    </tr>\n",
              "    <tr>\n",
              "      <th>8</th>\n",
              "      <td>1</td>\n",
              "      <td>[My, 8yo, nephew, is, inconsolable, He, wants,...</td>\n",
              "      <td>664510</td>\n",
              "    </tr>\n",
              "    <tr>\n",
              "      <th>9</th>\n",
              "      <td>1</td>\n",
              "      <td>[no, offense, but, like, how, do, you, just, n...</td>\n",
              "      <td>260471</td>\n",
              "    </tr>\n",
              "  </tbody>\n",
              "</table>\n",
              "</div>"
            ],
            "text/plain": [
              "   sentiment                                            message  tweetid\n",
              "0          1  [PolySciMajor, EPA, chief, does, not, think, c...   625221\n",
              "1          1  [it, is, not, like, we, lack, evidence, of, an...   126103\n",
              "2          2  [Researchers, say, we, have, three, years, to,...   698562\n",
              "3          1  [TodayinMaker, WIRED, 2016, was, a, pivotal, y...   573736\n",
              "4          1  [it, is, 2016, and, a, racist, sexist, climate...   466954\n",
              "5          1  [Worth, a, read, whether, you, do, or, do, not...   425577\n",
              "6          1  [Mike, Pence, does, not, believe, in, global, ...   294933\n",
              "7          1  [Six, big, things, we, can, ALL, do, today, to...   992717\n",
              "8          1  [My, 8yo, nephew, is, inconsolable, He, wants,...   664510\n",
              "9          1  [no, offense, but, like, how, do, you, just, n...   260471"
            ]
          },
          "metadata": {
            "tags": []
          },
          "execution_count": 53
        }
      ]
    },
    {
      "cell_type": "markdown",
      "metadata": {
        "id": "Iu74caNEyUdF"
      },
      "source": [
        "Conversion to Lower case"
      ]
    },
    {
      "cell_type": "code",
      "metadata": {
        "id": "ET7jZkXs-GY8",
        "outputId": "3275c2c9-5756-42f6-a65d-507861be9b00",
        "colab": {
          "base_uri": "https://localhost:8080/",
          "height": 204
        }
      },
      "source": [
        "train['message'] = train['message'].apply(lambda x: [word.lower() for word in x])\n",
        "train.head()"
      ],
      "execution_count": 54,
      "outputs": [
        {
          "output_type": "execute_result",
          "data": {
            "text/html": [
              "<div>\n",
              "<style scoped>\n",
              "    .dataframe tbody tr th:only-of-type {\n",
              "        vertical-align: middle;\n",
              "    }\n",
              "\n",
              "    .dataframe tbody tr th {\n",
              "        vertical-align: top;\n",
              "    }\n",
              "\n",
              "    .dataframe thead th {\n",
              "        text-align: right;\n",
              "    }\n",
              "</style>\n",
              "<table border=\"1\" class=\"dataframe\">\n",
              "  <thead>\n",
              "    <tr style=\"text-align: right;\">\n",
              "      <th></th>\n",
              "      <th>sentiment</th>\n",
              "      <th>message</th>\n",
              "      <th>tweetid</th>\n",
              "    </tr>\n",
              "  </thead>\n",
              "  <tbody>\n",
              "    <tr>\n",
              "      <th>0</th>\n",
              "      <td>1</td>\n",
              "      <td>[polyscimajor, epa, chief, does, not, think, c...</td>\n",
              "      <td>625221</td>\n",
              "    </tr>\n",
              "    <tr>\n",
              "      <th>1</th>\n",
              "      <td>1</td>\n",
              "      <td>[it, is, not, like, we, lack, evidence, of, an...</td>\n",
              "      <td>126103</td>\n",
              "    </tr>\n",
              "    <tr>\n",
              "      <th>2</th>\n",
              "      <td>2</td>\n",
              "      <td>[researchers, say, we, have, three, years, to,...</td>\n",
              "      <td>698562</td>\n",
              "    </tr>\n",
              "    <tr>\n",
              "      <th>3</th>\n",
              "      <td>1</td>\n",
              "      <td>[todayinmaker, wired, 2016, was, a, pivotal, y...</td>\n",
              "      <td>573736</td>\n",
              "    </tr>\n",
              "    <tr>\n",
              "      <th>4</th>\n",
              "      <td>1</td>\n",
              "      <td>[it, is, 2016, and, a, racist, sexist, climate...</td>\n",
              "      <td>466954</td>\n",
              "    </tr>\n",
              "  </tbody>\n",
              "</table>\n",
              "</div>"
            ],
            "text/plain": [
              "   sentiment                                            message  tweetid\n",
              "0          1  [polyscimajor, epa, chief, does, not, think, c...   625221\n",
              "1          1  [it, is, not, like, we, lack, evidence, of, an...   126103\n",
              "2          2  [researchers, say, we, have, three, years, to,...   698562\n",
              "3          1  [todayinmaker, wired, 2016, was, a, pivotal, y...   573736\n",
              "4          1  [it, is, 2016, and, a, racist, sexist, climate...   466954"
            ]
          },
          "metadata": {
            "tags": []
          },
          "execution_count": 54
        }
      ]
    },
    {
      "cell_type": "markdown",
      "metadata": {
        "id": "1qKaj-1U-MeY"
      },
      "source": [
        "Removing Stopwords"
      ]
    },
    {
      "cell_type": "code",
      "metadata": {
        "id": "xNIXDzIf-QA-",
        "outputId": "ddce66e8-fd8a-4ee3-9c6c-cde9f3a1a482",
        "colab": {
          "base_uri": "https://localhost:8080/",
          "height": 154
        }
      },
      "source": [
        "nltk.download('stopwords')\n",
        "\n",
        "\", \".join(stopwords.words('english'))"
      ],
      "execution_count": 55,
      "outputs": [
        {
          "output_type": "stream",
          "text": [
            "[nltk_data] Downloading package stopwords to /root/nltk_data...\n",
            "[nltk_data]   Package stopwords is already up-to-date!\n"
          ],
          "name": "stdout"
        },
        {
          "output_type": "execute_result",
          "data": {
            "application/vnd.google.colaboratory.intrinsic+json": {
              "type": "string"
            },
            "text/plain": [
              "\"i, me, my, myself, we, our, ours, ourselves, you, you're, you've, you'll, you'd, your, yours, yourself, yourselves, he, him, his, himself, she, she's, her, hers, herself, it, it's, its, itself, they, them, their, theirs, themselves, what, which, who, whom, this, that, that'll, these, those, am, is, are, was, were, be, been, being, have, has, had, having, do, does, did, doing, a, an, the, and, but, if, or, because, as, until, while, of, at, by, for, with, about, against, between, into, through, during, before, after, above, below, to, from, up, down, in, out, on, off, over, under, again, further, then, once, here, there, when, where, why, how, all, any, both, each, few, more, most, other, some, such, no, nor, not, only, own, same, so, than, too, very, s, t, can, will, just, don, don't, should, should've, now, d, ll, m, o, re, ve, y, ain, aren, aren't, couldn, couldn't, didn, didn't, doesn, doesn't, hadn, hadn't, hasn, hasn't, haven, haven't, isn, isn't, ma, mightn, mightn't, mustn, mustn't, needn, needn't, shan, shan't, shouldn, shouldn't, wasn, wasn't, weren, weren't, won, won't, wouldn, wouldn't\""
            ]
          },
          "metadata": {
            "tags": []
          },
          "execution_count": 55
        }
      ]
    },
    {
      "cell_type": "code",
      "metadata": {
        "id": "UUd_vplm-U91",
        "outputId": "0153a973-c909-4cbd-b426-13d37e593629",
        "colab": {
          "base_uri": "https://localhost:8080/",
          "height": 204
        }
      },
      "source": [
        "stop_words = set(stopwords.words('english'))\n",
        "train['message'] = train['message'].apply(lambda x: [word for word in x if word not in stop_words])\n",
        "train.head()"
      ],
      "execution_count": 56,
      "outputs": [
        {
          "output_type": "execute_result",
          "data": {
            "text/html": [
              "<div>\n",
              "<style scoped>\n",
              "    .dataframe tbody tr th:only-of-type {\n",
              "        vertical-align: middle;\n",
              "    }\n",
              "\n",
              "    .dataframe tbody tr th {\n",
              "        vertical-align: top;\n",
              "    }\n",
              "\n",
              "    .dataframe thead th {\n",
              "        text-align: right;\n",
              "    }\n",
              "</style>\n",
              "<table border=\"1\" class=\"dataframe\">\n",
              "  <thead>\n",
              "    <tr style=\"text-align: right;\">\n",
              "      <th></th>\n",
              "      <th>sentiment</th>\n",
              "      <th>message</th>\n",
              "      <th>tweetid</th>\n",
              "    </tr>\n",
              "  </thead>\n",
              "  <tbody>\n",
              "    <tr>\n",
              "      <th>0</th>\n",
              "      <td>1</td>\n",
              "      <td>[polyscimajor, epa, chief, think, carbon, diox...</td>\n",
              "      <td>625221</td>\n",
              "    </tr>\n",
              "    <tr>\n",
              "      <th>1</th>\n",
              "      <td>1</td>\n",
              "      <td>[like, lack, evidence, anthropogenic, global, ...</td>\n",
              "      <td>126103</td>\n",
              "    </tr>\n",
              "    <tr>\n",
              "      <th>2</th>\n",
              "      <td>2</td>\n",
              "      <td>[researchers, say, three, years, act, climate,...</td>\n",
              "      <td>698562</td>\n",
              "    </tr>\n",
              "    <tr>\n",
              "      <th>3</th>\n",
              "      <td>1</td>\n",
              "      <td>[todayinmaker, wired, 2016, pivotal, year, war...</td>\n",
              "      <td>573736</td>\n",
              "    </tr>\n",
              "    <tr>\n",
              "      <th>4</th>\n",
              "      <td>1</td>\n",
              "      <td>[2016, racist, sexist, climate, change, denyin...</td>\n",
              "      <td>466954</td>\n",
              "    </tr>\n",
              "  </tbody>\n",
              "</table>\n",
              "</div>"
            ],
            "text/plain": [
              "   sentiment                                            message  tweetid\n",
              "0          1  [polyscimajor, epa, chief, think, carbon, diox...   625221\n",
              "1          1  [like, lack, evidence, anthropogenic, global, ...   126103\n",
              "2          2  [researchers, say, three, years, act, climate,...   698562\n",
              "3          1  [todayinmaker, wired, 2016, pivotal, year, war...   573736\n",
              "4          1  [2016, racist, sexist, climate, change, denyin...   466954"
            ]
          },
          "metadata": {
            "tags": []
          },
          "execution_count": 56
        }
      ]
    },
    {
      "cell_type": "markdown",
      "metadata": {
        "id": "peHsnPqZ-Z-Z"
      },
      "source": [
        "Lemmatization"
      ]
    },
    {
      "cell_type": "code",
      "metadata": {
        "id": "MbWUztQR-dV7",
        "outputId": "9b02b2aa-0e3a-435e-8e60-8950e23c27a5",
        "colab": {
          "base_uri": "https://localhost:8080/",
          "height": 306
        }
      },
      "source": [
        "nltk.download('averaged_perceptron_tagger')\n",
        "nltk.download('wordnet')\n",
        "\n",
        "wnl = WordNetLemmatizer()\n",
        "\n",
        "def get_wordnet_pos(tag):\n",
        "    if tag.startswith('J'):\n",
        "        return wordnet.ADJ\n",
        "    elif tag.startswith('V'):\n",
        "        return wordnet.VERB\n",
        "    elif tag.startswith('N'):\n",
        "        return wordnet.NOUN\n",
        "    elif tag.startswith('R'):\n",
        "        return wordnet.ADV\n",
        "    else:\n",
        "        return wordnet.NOUN\n",
        "train['pos_tags'] = train['message'].apply(nltk.tag.pos_tag)\n",
        "train['wordnet_pos'] = train['pos_tags'].apply(lambda x: [(word, get_wordnet_pos(pos_tag)) for (word, pos_tag) in x])\n",
        "\n",
        "train['message'] = train['wordnet_pos'].apply(lambda x: [wnl.lemmatize(word, tag) for word, tag in x])\n",
        "train.head()"
      ],
      "execution_count": 57,
      "outputs": [
        {
          "output_type": "stream",
          "text": [
            "[nltk_data] Downloading package averaged_perceptron_tagger to\n",
            "[nltk_data]     /root/nltk_data...\n",
            "[nltk_data]   Package averaged_perceptron_tagger is already up-to-\n",
            "[nltk_data]       date!\n",
            "[nltk_data] Downloading package wordnet to /root/nltk_data...\n",
            "[nltk_data]   Package wordnet is already up-to-date!\n"
          ],
          "name": "stdout"
        },
        {
          "output_type": "execute_result",
          "data": {
            "text/html": [
              "<div>\n",
              "<style scoped>\n",
              "    .dataframe tbody tr th:only-of-type {\n",
              "        vertical-align: middle;\n",
              "    }\n",
              "\n",
              "    .dataframe tbody tr th {\n",
              "        vertical-align: top;\n",
              "    }\n",
              "\n",
              "    .dataframe thead th {\n",
              "        text-align: right;\n",
              "    }\n",
              "</style>\n",
              "<table border=\"1\" class=\"dataframe\">\n",
              "  <thead>\n",
              "    <tr style=\"text-align: right;\">\n",
              "      <th></th>\n",
              "      <th>sentiment</th>\n",
              "      <th>message</th>\n",
              "      <th>tweetid</th>\n",
              "      <th>pos_tags</th>\n",
              "      <th>wordnet_pos</th>\n",
              "    </tr>\n",
              "  </thead>\n",
              "  <tbody>\n",
              "    <tr>\n",
              "      <th>0</th>\n",
              "      <td>1</td>\n",
              "      <td>[polyscimajor, epa, chief, think, carbon, diox...</td>\n",
              "      <td>625221</td>\n",
              "      <td>[(polyscimajor, JJ), (epa, NN), (chief, NN), (...</td>\n",
              "      <td>[(polyscimajor, a), (epa, n), (chief, n), (thi...</td>\n",
              "    </tr>\n",
              "    <tr>\n",
              "      <th>1</th>\n",
              "      <td>1</td>\n",
              "      <td>[like, lack, evidence, anthropogenic, global, ...</td>\n",
              "      <td>126103</td>\n",
              "      <td>[(like, IN), (lack, NN), (evidence, NN), (anth...</td>\n",
              "      <td>[(like, n), (lack, n), (evidence, n), (anthrop...</td>\n",
              "    </tr>\n",
              "    <tr>\n",
              "      <th>2</th>\n",
              "      <td>2</td>\n",
              "      <td>[researcher, say, three, year, act, climate, c...</td>\n",
              "      <td>698562</td>\n",
              "      <td>[(researchers, NNS), (say, VBP), (three, CD), ...</td>\n",
              "      <td>[(researchers, n), (say, v), (three, n), (year...</td>\n",
              "    </tr>\n",
              "    <tr>\n",
              "      <th>3</th>\n",
              "      <td>1</td>\n",
              "      <td>[todayinmaker, wire, 2016, pivotal, year, war,...</td>\n",
              "      <td>573736</td>\n",
              "      <td>[(todayinmaker, NN), (wired, VBD), (2016, CD),...</td>\n",
              "      <td>[(todayinmaker, n), (wired, v), (2016, n), (pi...</td>\n",
              "    </tr>\n",
              "    <tr>\n",
              "      <th>4</th>\n",
              "      <td>1</td>\n",
              "      <td>[2016, racist, sexist, climate, change, deny, ...</td>\n",
              "      <td>466954</td>\n",
              "      <td>[(2016, CD), (racist, NN), (sexist, NN), (clim...</td>\n",
              "      <td>[(2016, n), (racist, n), (sexist, n), (climate...</td>\n",
              "    </tr>\n",
              "  </tbody>\n",
              "</table>\n",
              "</div>"
            ],
            "text/plain": [
              "   sentiment  ...                                        wordnet_pos\n",
              "0          1  ...  [(polyscimajor, a), (epa, n), (chief, n), (thi...\n",
              "1          1  ...  [(like, n), (lack, n), (evidence, n), (anthrop...\n",
              "2          2  ...  [(researchers, n), (say, v), (three, n), (year...\n",
              "3          1  ...  [(todayinmaker, n), (wired, v), (2016, n), (pi...\n",
              "4          1  ...  [(2016, n), (racist, n), (sexist, n), (climate...\n",
              "\n",
              "[5 rows x 5 columns]"
            ]
          },
          "metadata": {
            "tags": []
          },
          "execution_count": 57
        }
      ]
    },
    {
      "cell_type": "markdown",
      "metadata": {
        "id": "7idoQ_Dw-oZy"
      },
      "source": [
        "Most Frequent Words"
      ]
    },
    {
      "cell_type": "code",
      "metadata": {
        "id": "8sCYUpb2-vsZ",
        "outputId": "da0f607a-a5e3-4cec-dbc8-a47c46d4a309",
        "colab": {
          "base_uri": "https://localhost:8080/"
        }
      },
      "source": [
        "from collections import Counter\n",
        "cnt = Counter()\n",
        "for message in train['message'].values:\n",
        "    for word in message:\n",
        "        cnt[word] += 1\n",
        "        \n",
        "cnt.most_common()"
      ],
      "execution_count": 58,
      "outputs": [
        {
          "output_type": "execute_result",
          "data": {
            "text/plain": [
              "[('climate', 13020),\n",
              " ('change', 12811),\n",
              " ('global', 3798),\n",
              " ('trump', 2437),\n",
              " ('warming', 2324),\n",
              " ('believe', 1311),\n",
              " ('warm', 1286),\n",
              " ('say', 1029),\n",
              " ('think', 1002),\n",
              " ('go', 946),\n",
              " ('amp', 940),\n",
              " ('u', 823),\n",
              " ('world', 747),\n",
              " ('real', 724),\n",
              " ('make', 671),\n",
              " ('fight', 636),\n",
              " ('people', 625),\n",
              " ('epa', 569),\n",
              " ('president', 569),\n",
              " ('scientist', 554),\n",
              " ('via', 547),\n",
              " ('new', 547),\n",
              " ('science', 488),\n",
              " ('like', 480),\n",
              " ('die', 463),\n",
              " ('hoax', 458),\n",
              " ('year', 425),\n",
              " ('denier', 420),\n",
              " ('right', 409),\n",
              " ('know', 408),\n",
              " ('get', 398),\n",
              " ('donald', 391),\n",
              " ('need', 389),\n",
              " ('take', 383),\n",
              " ('want', 382),\n",
              " ('would', 348),\n",
              " ('deny', 341),\n",
              " ('call', 336),\n",
              " ('elect', 325),\n",
              " ('action', 323),\n",
              " ('husband', 317),\n",
              " ('could', 317),\n",
              " ('china', 314),\n",
              " ('human', 310),\n",
              " ('one', 304),\n",
              " ('stop', 304),\n",
              " ('time', 302),\n",
              " ('cause', 292),\n",
              " ('news', 279),\n",
              " ('man', 278),\n",
              " ('talk', 277),\n",
              " ('tell', 271),\n",
              " ('big', 270),\n",
              " ('pruitt', 266),\n",
              " ('issue', 265),\n",
              " ('energy', 260),\n",
              " ('look', 256),\n",
              " ('thing', 255),\n",
              " ('see', 245),\n",
              " ('obama', 244),\n",
              " ('help', 240),\n",
              " ('weather', 238),\n",
              " ('watch', 237),\n",
              " ('earth', 236),\n",
              " ('good', 235),\n",
              " ('planet', 233),\n",
              " ('leader', 231),\n",
              " ('use', 230),\n",
              " ('still', 229),\n",
              " ('impact', 226),\n",
              " ('tackle', 225),\n",
              " ('state', 223),\n",
              " ('must', 223),\n",
              " ('country', 221),\n",
              " ('combat', 220),\n",
              " ('due', 220),\n",
              " ('chinese', 219),\n",
              " ('million', 216),\n",
              " ('carbon', 214),\n",
              " ('scott', 213),\n",
              " ('climatechange', 209),\n",
              " ('environment', 208),\n",
              " ('2', 206),\n",
              " ('really', 206),\n",
              " ('great', 205),\n",
              " ('show', 204),\n",
              " ('bad', 204),\n",
              " ('come', 203),\n",
              " ('head', 202),\n",
              " ('policy', 202),\n",
              " ('effect', 202),\n",
              " ('plan', 201),\n",
              " ('paris', 199),\n",
              " ('may', 199),\n",
              " ('lead', 198),\n",
              " ('way', 195),\n",
              " ('future', 192),\n",
              " ('back', 188),\n",
              " ('chief', 184),\n",
              " ('today', 183),\n",
              " ('first', 183),\n",
              " ('america', 183),\n",
              " ('order', 183),\n",
              " ('give', 183),\n",
              " ('threat', 183),\n",
              " ('create', 182),\n",
              " ('care', 179),\n",
              " ('end', 179),\n",
              " ('government', 178),\n",
              " ('study', 177),\n",
              " ('vote', 177),\n",
              " ('even', 175),\n",
              " ('work', 171),\n",
              " ('co2', 170),\n",
              " ('ice', 169),\n",
              " ('report', 168),\n",
              " ('day', 168),\n",
              " ('mr', 166),\n",
              " ('fact', 166),\n",
              " ('htt', 164),\n",
              " ('beforetheflood', 159),\n",
              " ('city', 154),\n",
              " ('research', 154),\n",
              " ('also', 153),\n",
              " ('agreement', 153),\n",
              " ('1', 152),\n",
              " ('data', 151),\n",
              " ('house', 151),\n",
              " ('find', 150),\n",
              " ('sign', 150),\n",
              " ('denial', 148),\n",
              " ('let', 147),\n",
              " ('start', 146),\n",
              " ('address', 146),\n",
              " ('water', 145),\n",
              " ('white', 143),\n",
              " ('woman', 143),\n",
              " ('deal', 142),\n",
              " ('billion', 141),\n",
              " ('well', 140),\n",
              " ('ask', 140),\n",
              " ('happen', 140),\n",
              " ('risk', 139),\n",
              " ('read', 138),\n",
              " ('support', 138),\n",
              " ('sea', 138),\n",
              " ('level', 137),\n",
              " ('american', 137),\n",
              " ('fake', 136),\n",
              " ('much', 136),\n",
              " ('rise', 135),\n",
              " ('snow', 135),\n",
              " ('exxon', 135),\n",
              " ('every', 134),\n",
              " ('join', 134),\n",
              " ('national', 134),\n",
              " ('keep', 134),\n",
              " ('al', 132),\n",
              " ('ignore', 131),\n",
              " ('face', 131),\n",
              " ('mean', 130),\n",
              " ('website', 129),\n",
              " ('gore', 129),\n",
              " ('blame', 127),\n",
              " ('fuck', 127),\n",
              " ('hot', 127),\n",
              " ('term', 126),\n",
              " ('health', 125),\n",
              " ('post', 125),\n",
              " ('try', 124),\n",
              " ('un', 124),\n",
              " ('affect', 124),\n",
              " ('debate', 123),\n",
              " ('record', 123),\n",
              " ('save', 121),\n",
              " ('arctic', 121),\n",
              " ('problem', 121),\n",
              " ('flood', 121),\n",
              " ('evidence', 120),\n",
              " ('hillary', 118),\n",
              " ('act', 117),\n",
              " ('4', 117),\n",
              " ('kid', 116),\n",
              " ('clinton', 115),\n",
              " ('kill', 114),\n",
              " ('leave', 113),\n",
              " ('oil', 113),\n",
              " ('degree', 112),\n",
              " ('tweet', 111),\n",
              " ('claim', 110),\n",
              " ('put', 110),\n",
              " ('part', 109),\n",
              " ('question', 109),\n",
              " ('job', 108),\n",
              " ('money', 108),\n",
              " ('solution', 107),\n",
              " ('contributor', 107),\n",
              " ('please', 106),\n",
              " ('tillerson', 105),\n",
              " ('war', 104),\n",
              " ('effort', 104),\n",
              " ('primary', 103),\n",
              " ('california', 103),\n",
              " ('many', 103),\n",
              " ('dioxide', 102),\n",
              " ('hope', 102),\n",
              " ('w', 102),\n",
              " ('explain', 101),\n",
              " ('ever', 100),\n",
              " ('major', 100),\n",
              " ('worry', 100),\n",
              " ('green', 98),\n",
              " ('nothing', 97),\n",
              " ('republican', 97),\n",
              " ('penguin', 97),\n",
              " ('another', 97),\n",
              " ('coal', 97),\n",
              " ('administration', 97),\n",
              " ('c', 97),\n",
              " ('exist', 96),\n",
              " ('agree', 96),\n",
              " ('last', 96),\n",
              " ('continue', 96),\n",
              " ('top', 95),\n",
              " ('next', 95),\n",
              " ('cop22', 94),\n",
              " ('point', 94),\n",
              " ('maybe', 94),\n",
              " ('meet', 93),\n",
              " ('anti', 93),\n",
              " ('warn', 92),\n",
              " ('expert', 92),\n",
              " ('winter', 92),\n",
              " ('turn', 92),\n",
              " ('everyone', 91),\n",
              " ('link', 91),\n",
              " ('melt', 91),\n",
              " ('email', 90),\n",
              " ('food', 89),\n",
              " ('break', 89),\n",
              " ('travel', 89),\n",
              " ('already', 89),\n",
              " ('challenge', 89),\n",
              " ('god', 88),\n",
              " ('non', 88),\n",
              " ('air', 88),\n",
              " ('protect', 88),\n",
              " ('3', 88),\n",
              " ('half', 87),\n",
              " ('scientific', 87),\n",
              " ('move', 86),\n",
              " ('nuclear', 86),\n",
              " ('ocean', 86),\n",
              " ('actually', 86),\n",
              " ('live', 85),\n",
              " ('guy', 85),\n",
              " ('role', 85),\n",
              " ('solar', 85),\n",
              " ('yes', 85),\n",
              " ('become', 85),\n",
              " ('stake', 84),\n",
              " ('understand', 84),\n",
              " ('secretary', 84),\n",
              " ('clean', 84),\n",
              " ('around', 84),\n",
              " ('pay', 84),\n",
              " ('destroy', 83),\n",
              " ('2016', 82),\n",
              " ('old', 82),\n",
              " ('team', 82),\n",
              " ('100', 82),\n",
              " ('page', 81),\n",
              " ('name', 81),\n",
              " ('child', 81),\n",
              " ('liberal', 81),\n",
              " ('high', 81),\n",
              " ('push', 81),\n",
              " ('tax', 80),\n",
              " ('b', 80),\n",
              " ('lose', 80),\n",
              " ('november', 79),\n",
              " ('business', 79),\n",
              " ('bring', 79),\n",
              " ('medium', 79),\n",
              " ('bill', 78),\n",
              " ('life', 78),\n",
              " ('best', 78),\n",
              " ('nasa', 78),\n",
              " ('story', 78),\n",
              " ('pick', 78),\n",
              " ('might', 78),\n",
              " ('lie', 77),\n",
              " ('reason', 77),\n",
              " ('political', 77),\n",
              " ('propose', 77),\n",
              " ('someone', 77),\n",
              " ('thanks', 77),\n",
              " ('economy', 77),\n",
              " ('something', 77),\n",
              " ('never', 77),\n",
              " ('5', 76),\n",
              " ('waste', 76),\n",
              " ('pollution', 76),\n",
              " ('panel', 76),\n",
              " ('yet', 76),\n",
              " ('rex', 76),\n",
              " ('security', 76),\n",
              " ('concept', 76),\n",
              " ('wrong', 76),\n",
              " ('cost', 75),\n",
              " ('dicaprio', 75),\n",
              " ('view', 75),\n",
              " ('threaten', 75),\n",
              " ('lol', 75),\n",
              " ('without', 75),\n",
              " ('public', 74),\n",
              " ('urge', 74),\n",
              " ('environmental', 74),\n",
              " ('polar', 74),\n",
              " ('bear', 74),\n",
              " ('company', 74),\n",
              " ('emission', 74),\n",
              " ('animal', 73),\n",
              " ('extreme', 73),\n",
              " ('cold', 73),\n",
              " ('election', 73),\n",
              " ('mention', 73),\n",
              " ('despite', 73),\n",
              " ('since', 73),\n",
              " ('florida', 72),\n",
              " ('important', 72),\n",
              " ('disaster', 72),\n",
              " ('heat', 72),\n",
              " ('long', 71),\n",
              " ('gt', 71),\n",
              " ('natural', 71),\n",
              " ('park', 71),\n",
              " ('fund', 71),\n",
              " ('dangerous', 70),\n",
              " ('hit', 70),\n",
              " ('listen', 70),\n",
              " ('cut', 70),\n",
              " ('increase', 70),\n",
              " ('remove', 69),\n",
              " ('raise', 69),\n",
              " ('denies', 69),\n",
              " ('literally', 69),\n",
              " ('federal', 69),\n",
              " ('resource', 69),\n",
              " ('solve', 69),\n",
              " ('manufacturing', 69),\n",
              " ('fear', 69),\n",
              " ('reality', 68),\n",
              " ('contribute', 68),\n",
              " ('article', 68),\n",
              " ('video', 68),\n",
              " ('parisagreement', 68),\n",
              " ('fuel', 67),\n",
              " ('choice', 67),\n",
              " ('nation', 67),\n",
              " ('hurricane', 67),\n",
              " ('late', 66),\n",
              " ('hey', 66),\n",
              " ('accord', 66),\n",
              " ('skeptic', 66),\n",
              " ('forest', 66),\n",
              " ('washington', 66),\n",
              " ('conservative', 65),\n",
              " ('love', 65),\n",
              " ('expect', 65),\n",
              " ('stand', 65),\n",
              " ('department', 65),\n",
              " ('concern', 65),\n",
              " ('drive', 65),\n",
              " ('consider', 64),\n",
              " ('key', 64),\n",
              " ('myth', 64),\n",
              " ('discuss', 64),\n",
              " ('remember', 64),\n",
              " ('serious', 63),\n",
              " ('truth', 63),\n",
              " ('away', 63),\n",
              " ('agency', 63),\n",
              " ('cancel', 63),\n",
              " ('reef', 63),\n",
              " ('ht', 63),\n",
              " ('wait', 62),\n",
              " ('age', 62),\n",
              " ('power', 62),\n",
              " ('imvotingbecause', 62),\n",
              " ('hrc', 62),\n",
              " ('instead', 62),\n",
              " ('reform', 62),\n",
              " ('focus', 62),\n",
              " ('learn', 62),\n",
              " ('free', 62),\n",
              " ('gop', 62),\n",
              " ('home', 61),\n",
              " ('documentary', 61),\n",
              " ('shut', 61),\n",
              " ('plant', 61),\n",
              " ('agenda', 61),\n",
              " ('party', 61),\n",
              " ('whether', 60),\n",
              " ('budget', 60),\n",
              " ('feel', 60),\n",
              " ('outside', 60),\n",
              " ('economic', 60),\n",
              " ('agriculture', 60),\n",
              " ('uk', 59),\n",
              " ('march', 59),\n",
              " ('battle', 59),\n",
              " ('speak', 59),\n",
              " ('sue', 59),\n",
              " ('enough', 59),\n",
              " ('build', 59),\n",
              " ('fire', 59),\n",
              " ('oh', 58),\n",
              " ('united', 58),\n",
              " ('instal', 58),\n",
              " ('hear', 58),\n",
              " ('tree', 58),\n",
              " ('ago', 58),\n",
              " ('conference', 58),\n",
              " ('politician', 58),\n",
              " ('pro', 58),\n",
              " ('harvey', 58),\n",
              " ('hard', 58),\n",
              " ('community', 58),\n",
              " ('scam', 58),\n",
              " ('fossil', 57),\n",
              " ('step', 57),\n",
              " ('anything', 57),\n",
              " ('less', 57),\n",
              " ('official', 57),\n",
              " ('seriously', 57),\n",
              " ('executive', 56),\n",
              " ('danger', 56),\n",
              " ('book', 56),\n",
              " ('open', 56),\n",
              " ('side', 56),\n",
              " ('accept', 56),\n",
              " ('strong', 56),\n",
              " ('humanity', 56),\n",
              " ('e', 56),\n",
              " ('r', 56),\n",
              " ('opinion', 56),\n",
              " ('win', 55),\n",
              " ('leonardo', 55),\n",
              " ('event', 55),\n",
              " ('defense', 55),\n",
              " ('cnn', 55),\n",
              " ('n', 55),\n",
              " ('curb', 55),\n",
              " ('week', 55),\n",
              " ('law', 54),\n",
              " ('drought', 54),\n",
              " ('ban', 54),\n",
              " ('case', 54),\n",
              " ('australia', 54),\n",
              " ('africa', 54),\n",
              " ('anyone', 53),\n",
              " ('check', 53),\n",
              " ('reduce', 53),\n",
              " ('grow', 53),\n",
              " ('equality', 53),\n",
              " ('immigration', 53),\n",
              " ('write', 53),\n",
              " ('spend', 53),\n",
              " ('whole', 52),\n",
              " ('trade', 52),\n",
              " ('000', 52),\n",
              " ('charge', 52),\n",
              " ('specie', 52),\n",
              " ('force', 52),\n",
              " ('10', 52),\n",
              " ('hell', 52),\n",
              " ('politics', 52),\n",
              " ('do', 52),\n",
              " ('matter', 52),\n",
              " ('fail', 51),\n",
              " ('gas', 51),\n",
              " ('idea', 51),\n",
              " ('india', 51),\n",
              " ('invent', 51),\n",
              " ('answer', 51),\n",
              " ('delete', 51),\n",
              " ('john', 51),\n",
              " ('tonight', 51),\n",
              " ('large', 51),\n",
              " ('globalwarming', 51),\n",
              " ('always', 51),\n",
              " ('russia', 51),\n",
              " ('begin', 51),\n",
              " ('h', 50),\n",
              " ('two', 50),\n",
              " ('history', 50),\n",
              " ('shit', 50),\n",
              " ('shift', 50),\n",
              " ('alias', 50),\n",
              " ('control', 50),\n",
              " ('york', 50),\n",
              " ('bc', 50),\n",
              " ('ur', 50),\n",
              " ('temperature', 50),\n",
              " ('2017', 50),\n",
              " ('gov', 50),\n",
              " ('film', 50),\n",
              " ('sure', 49),\n",
              " ('club', 49),\n",
              " ('doubt', 49),\n",
              " ('refuse', 49),\n",
              " ('guess', 49),\n",
              " ('everything', 49),\n",
              " ('rain', 49),\n",
              " ('guardian', 49),\n",
              " ('poor', 49),\n",
              " ('conflict', 49),\n",
              " ('actonclimate', 49),\n",
              " ('pact', 48),\n",
              " ('mind', 48),\n",
              " ('decision', 48),\n",
              " ('thank', 48),\n",
              " ('drop', 48),\n",
              " ('office', 48),\n",
              " ('little', 48),\n",
              " ('response', 48),\n",
              " ('word', 48),\n",
              " ('attack', 48),\n",
              " ('cover', 48),\n",
              " ('progress', 48),\n",
              " ('race', 47),\n",
              " ('course', 47),\n",
              " ('nobody', 47),\n",
              " ('meeting', 47),\n",
              " ('hand', 47),\n",
              " ('storm', 47),\n",
              " ('researcher', 46),\n",
              " ('entire', 46),\n",
              " ('candidate', 46),\n",
              " ('send', 46),\n",
              " ('wonder', 46),\n",
              " ('limit', 46),\n",
              " ('position', 46),\n",
              " ('program', 46),\n",
              " ('run', 46),\n",
              " ('lot', 46),\n",
              " ('main', 45),\n",
              " ('play', 45),\n",
              " ('discus', 45),\n",
              " ('f', 45),\n",
              " ('far', 45),\n",
              " ('funding', 45),\n",
              " ('competiti', 45),\n",
              " ('seem', 45),\n",
              " ('disappear', 45),\n",
              " ('place', 45),\n",
              " ('kerry', 45),\n",
              " ('bleach', 45),\n",
              " ('farmer', 45),\n",
              " ('friend', 45),\n",
              " ('ahead', 44),\n",
              " ('leadership', 44),\n",
              " ('interest', 44),\n",
              " ('fix', 44),\n",
              " ('decade', 44),\n",
              " ('adapt', 44),\n",
              " ('reverse', 44),\n",
              " ('result', 44),\n",
              " ('crisis', 44),\n",
              " ('set', 44),\n",
              " ('30', 43),\n",
              " ('almost', 43),\n",
              " ('ppl', 43),\n",
              " ('soon', 43),\n",
              " ('daily', 43),\n",
              " ('canada', 43),\n",
              " ('slow', 43),\n",
              " ('share', 43),\n",
              " ('review', 42),\n",
              " ('antarctica', 42),\n",
              " ('stupid', 42),\n",
              " ('co', 42),\n",
              " ('wow', 42),\n",
              " ('single', 42),\n",
              " ('probably', 42),\n",
              " ('together', 42),\n",
              " ('proof', 42),\n",
              " ('prevent', 42),\n",
              " ('indigenous', 42),\n",
              " ('minute', 42),\n",
              " ('hate', 41),\n",
              " ('international', 41),\n",
              " ('admin', 41),\n",
              " ('stay', 41),\n",
              " ('enjoy', 41),\n",
              " ('th', 41),\n",
              " ('include', 41),\n",
              " ('nature', 41),\n",
              " ('industry', 41),\n",
              " ('demand', 41),\n",
              " ('add', 41),\n",
              " ('clear', 41),\n",
              " ('likely', 41),\n",
              " ('lgbt', 40),\n",
              " ('approach', 40),\n",
              " ('school', 40),\n",
              " ('frighten', 40),\n",
              " ('theory', 40),\n",
              " ('brown', 40),\n",
              " ('urgent', 40),\n",
              " ('7', 40),\n",
              " ('9', 40),\n",
              " ('court', 40),\n",
              " ('social', 40),\n",
              " ('russian', 40),\n",
              " ('coral', 40),\n",
              " ('kind', 40),\n",
              " ('nice', 40),\n",
              " ('education', 40),\n",
              " ('g', 40),\n",
              " ('crack', 40),\n",
              " ('activity', 40),\n",
              " ('hour', 39),\n",
              " ('prove', 39),\n",
              " ('comprehensive', 39),\n",
              " ('wall', 39),\n",
              " ('message', 39),\n",
              " ('govt', 39),\n",
              " ('barrier', 39),\n",
              " ('sad', 39),\n",
              " ('true', 39),\n",
              " ('investor', 39),\n",
              " ('cool', 39),\n",
              " ('lecture', 39),\n",
              " ('roll', 39),\n",
              " ('full', 39),\n",
              " ('reminder', 39),\n",
              " ('transition', 39),\n",
              " ('gay', 38),\n",
              " ('protest', 38),\n",
              " ('extinction', 38),\n",
              " ('either', 38),\n",
              " ('loss', 38),\n",
              " ('pope', 38),\n",
              " ('ok', 38),\n",
              " ('bbc', 38),\n",
              " ('map', 38),\n",
              " ('common', 38),\n",
              " ('adaptation', 38),\n",
              " ('north', 38),\n",
              " ('presidency', 38),\n",
              " ('reject', 38),\n",
              " ('anemone', 38),\n",
              " ('wage', 38),\n",
              " ('catastrophic', 38),\n",
              " ('racist', 37),\n",
              " ('mayor', 37),\n",
              " ('convince', 37),\n",
              " ('follow', 37),\n",
              " ('predict', 37),\n",
              " ('ceo', 37),\n",
              " ('summit', 37),\n",
              " ('democrat', 37),\n",
              " ('etc', 37),\n",
              " ('group', 37),\n",
              " ('behind', 37),\n",
              " ('huge', 37),\n",
              " ('exit', 37),\n",
              " ('eye', 37),\n",
              " ('importance', 37),\n",
              " ('eat', 37),\n",
              " ('sander', 37),\n",
              " ('hold', 37),\n",
              " ('majority', 36),\n",
              " ('noaa', 36),\n",
              " ('crime', 36),\n",
              " ('evolution', 36),\n",
              " ('20', 36),\n",
              " ('campaign', 36),\n",
              " ('cooperation', 36),\n",
              " ('yeah', 36),\n",
              " ('goal', 36),\n",
              " ('avoid', 35),\n",
              " ('healthcare', 35),\n",
              " ('g20', 35),\n",
              " ('person', 35),\n",
              " ('meat', 35),\n",
              " ('wake', 35),\n",
              " ('line', 35),\n",
              " ('ag', 35),\n",
              " ('least', 35),\n",
              " ('young', 35),\n",
              " ('consensus', 35),\n",
              " ('6', 35),\n",
              " ('launch', 35),\n",
              " ('project', 35),\n",
              " ('breaking', 35),\n",
              " ('source', 35),\n",
              " ('south', 35),\n",
              " ('chance', 34),\n",
              " ('simple', 34),\n",
              " ('perry', 34),\n",
              " ('allow', 34),\n",
              " ('poverty', 34),\n",
              " ('idiot', 34),\n",
              " ('paper', 34),\n",
              " ('abandon', 34),\n",
              " ('worried', 34),\n",
              " ('thought', 34),\n",
              " ('manipulate', 34),\n",
              " ('mark', 34),\n",
              " ('suffer', 34),\n",
              " ('sense', 34),\n",
              " ('abortion', 34),\n",
              " ('buy', 34),\n",
              " ('underwater', 33),\n",
              " ('michael', 33),\n",
              " ('forward', 33),\n",
              " ('reach', 33),\n",
              " ('freeze', 33),\n",
              " ('sorry', 33),\n",
              " ('commitment', 33),\n",
              " ('accelerate', 33),\n",
              " ('girl', 33),\n",
              " ('97', 33),\n",
              " ('ivotedbecause', 33),\n",
              " ('committee', 33),\n",
              " ('pledge', 33),\n",
              " ('teach', 33),\n",
              " ('powerful', 33),\n",
              " ('voter', 33),\n",
              " ('rule', 33),\n",
              " ('summer', 33),\n",
              " ('february', 33),\n",
              " ('jerry', 33),\n",
              " ('8', 33),\n",
              " ('among', 33),\n",
              " ('v', 32),\n",
              " ('target', 32),\n",
              " ('nyt', 32),\n",
              " ('google', 32),\n",
              " ('iceberg', 32),\n",
              " ('europe', 32),\n",
              " ('voice', 32),\n",
              " ('nye', 32),\n",
              " ('visit', 32),\n",
              " ('model', 32),\n",
              " ('car', 32),\n",
              " ('system', 32),\n",
              " ('terrorism', 32),\n",
              " ('uncharted', 32),\n",
              " ('territory', 32),\n",
              " ('rest', 32),\n",
              " ('speech', 32),\n",
              " ('mitigate', 32),\n",
              " ('concerned', 32),\n",
              " ('generation', 32),\n",
              " ('discussion', 32),\n",
              " ('photo', 32),\n",
              " ('soil', 31),\n",
              " ('conspiracy', 31),\n",
              " ('death', 31),\n",
              " ('vulnerable', 31),\n",
              " ('argue', 31),\n",
              " ('number', 31),\n",
              " ('awareness', 31),\n",
              " ('putin', 31),\n",
              " ('sun', 31),\n",
              " ('across', 31),\n",
              " ('auspol', 31),\n",
              " ('damn', 31),\n",
              " ('relate', 31),\n",
              " ('50', 31),\n",
              " ('pm', 31),\n",
              " ('past', 31),\n",
              " ('minimum', 31),\n",
              " ('survive', 31),\n",
              " ('renewable', 30),\n",
              " ('civil', 30),\n",
              " ('congress', 30),\n",
              " ('short', 30),\n",
              " ('imagine', 30),\n",
              " ('ivanka', 30),\n",
              " ('pull', 30),\n",
              " ('night', 30),\n",
              " ('inaction', 30),\n",
              " ('spread', 30),\n",
              " ('trigger', 30),\n",
              " ('stance', 30),\n",
              " ('undo', 30),\n",
              " ('bernie', 30),\n",
              " ('eu', 30),\n",
              " ('doc', 30),\n",
              " ('bet', 30),\n",
              " ('middle', 30),\n",
              " ('damage', 30),\n",
              " ('burn', 30),\n",
              " ('beyond', 30),\n",
              " ('breitbart', 30),\n",
              " ('moon', 30),\n",
              " ('leo', 30),\n",
              " ('giant', 29),\n",
              " ('pretty', 29),\n",
              " ('river', 29),\n",
              " ('resist', 29),\n",
              " ('rick', 29),\n",
              " ('fall', 29),\n",
              " ('scary', 29),\n",
              " ('consequence', 29),\n",
              " ('g7', 29),\n",
              " ('yr', 29),\n",
              " ('local', 29),\n",
              " ('statement', 29),\n",
              " ('chicago', 29),\n",
              " ('staff', 29),\n",
              " ('fraud', 29),\n",
              " ('military', 29),\n",
              " ('list', 29),\n",
              " ('15', 29),\n",
              " ('class', 29),\n",
              " ('bye', 29),\n",
              " ('rare', 29),\n",
              " ('gun', 29),\n",
              " ('dollar', 29),\n",
              " ('low', 28),\n",
              " ('base', 28),\n",
              " ('population', 28),\n",
              " ('80', 28),\n",
              " ('else', 28),\n",
              " ('60', 28),\n",
              " ('piece', 28),\n",
              " ('de', 28),\n",
              " ('maga', 28),\n",
              " ('blow', 28),\n",
              " ('alarm', 28),\n",
              " ('fascist', 28),\n",
              " ('usa', 28),\n",
              " ('bloomberg', 28),\n",
              " ('france', 28),\n",
              " ('opportunity', 28),\n",
              " ('failure', 28),\n",
              " ('growth', 28),\n",
              " ('offer', 28),\n",
              " ('vow', 28),\n",
              " ('space', 27),\n",
              " ('ten', 27),\n",
              " ('spending', 27),\n",
              " ('terrify', 27),\n",
              " ('habitat', 27),\n",
              " ('fox', 27),\n",
              " ('sit', 27),\n",
              " ('conversation', 27),\n",
              " ('joke', 27),\n",
              " ('hello', 27),\n",
              " ('twitter', 27),\n",
              " ('limited', 27),\n",
              " ('ya', 27),\n",
              " ('senator', 27),\n",
              " ('regulation', 27),\n",
              " ('measure', 27),\n",
              " ('dear', 27),\n",
              " ('dup', 27),\n",
              " ('rich', 26),\n",
              " ('hurt', 26),\n",
              " ('massive', 26),\n",
              " ('disease', 26),\n",
              " ('university', 26),\n",
              " ('funny', 26),\n",
              " ('pakistan', 26),\n",
              " ('experience', 26),\n",
              " ('dead', 26),\n",
              " ('p2', 26),\n",
              " ('priority', 26),\n",
              " ('miss', 26),\n",
              " ('admit', 26),\n",
              " ('cdc', 26),\n",
              " ('21', 26),\n",
              " ('letter', 26),\n",
              " ('victim', 26),\n",
              " ('vegan', 26),\n",
              " ('angry', 26),\n",
              " ('general', 26),\n",
              " ('knowledge', 26),\n",
              " ('dr', 26),\n",
              " ('comment', 26),\n",
              " ('blog', 26),\n",
              " ('corporate', 26),\n",
              " ('interview', 26),\n",
              " ('happy', 26),\n",
              " ('mitigation', 26),\n",
              " ('climatemarch', 25),\n",
              " ('though', 25),\n",
              " ('era', 25),\n",
              " ('minister', 25),\n",
              " ('towards', 25),\n",
              " ('deforestation', 25),\n",
              " ('anymore', 25),\n",
              " ('refugee', 25),\n",
              " ('p', 25),\n",
              " ('plus', 25),\n",
              " ('parent', 25),\n",
              " ('12', 25),\n",
              " ('glacier', 25),\n",
              " ('black', 25),\n",
              " ('front', 25),\n",
              " ('forget', 25),\n",
              " ('melania', 25),\n",
              " ('fossi', 25),\n",
              " ('reuters', 25),\n",
              " ('brain', 25),\n",
              " ('fast', 25),\n",
              " ('channel', 25),\n",
              " ('racism', 25),\n",
              " ('tracker', 25),\n",
              " ('responsible', 25),\n",
              " ('yesterday', 25),\n",
              " ('online', 25),\n",
              " ('bee', 25),\n",
              " ('lack', 24),\n",
              " ('game', 24),\n",
              " ('area', 24),\n",
              " ('inconvenient', 24),\n",
              " ('prepare', 24),\n",
              " ('alarmist', 24),\n",
              " ('early', 24),\n",
              " ('respond', 24),\n",
              " ('cook', 24),\n",
              " ('catastrophe', 24),\n",
              " ('choose', 24),\n",
              " ('develop', 24),\n",
              " ('small', 24),\n",
              " ('phrase', 24),\n",
              " ('victory', 24),\n",
              " ('investment', 24),\n",
              " ('moron', 24),\n",
              " ('island', 24),\n",
              " ('dumb', 24),\n",
              " ('11', 24),\n",
              " ('innovation', 24),\n",
              " ('factor', 24),\n",
              " ('weapon', 24),\n",
              " ('bank', 24),\n",
              " ('document', 24),\n",
              " ('fish', 24),\n",
              " ('dept', 24),\n",
              " ('design', 24),\n",
              " ('glad', 24),\n",
              " ('longer', 24),\n",
              " ('century', 24),\n",
              " ('wayne', 24),\n",
              " ('criticize', 24),\n",
              " ('month', 24),\n",
              " ('family', 24),\n",
              " ('70', 24),\n",
              " ('l', 24),\n",
              " ('sec', 24),\n",
              " ('three', 23),\n",
              " ('poll', 23),\n",
              " ('activist', 23),\n",
              " ('abt', 23),\n",
              " ('land', 23),\n",
              " ('town', 23),\n",
              " ('reveal', 23),\n",
              " ('silly', 23),\n",
              " ('easy', 23),\n",
              " ('tomorrow', 23),\n",
              " ('especially', 23),\n",
              " ('morning', 23),\n",
              " ('competitive', 23),\n",
              " ('benefit', 23),\n",
              " ('warns', 23),\n",
              " ('suggest', 23),\n",
              " ('crazy', 23),\n",
              " ('announce', 23),\n",
              " ('star', 23),\n",
              " ('realize', 23),\n",
              " ('mine', 23),\n",
              " ('welcome', 23),\n",
              " ('supporter', 23),\n",
              " ('40', 23),\n",
              " ('ny', 23),\n",
              " ('mass', 23),\n",
              " ('protection', 23),\n",
              " ('block', 23),\n",
              " ('cabinet', 23),\n",
              " ('lawsuit', 23),\n",
              " ('ca', 23),\n",
              " ('technology', 23),\n",
              " ('inequality', 23),\n",
              " ('scale', 23),\n",
              " ('turnbull', 23),\n",
              " ('rather', 23),\n",
              " ('account', 23),\n",
              " ('student', 23),\n",
              " ('withdraw', 23),\n",
              " ('release', 23),\n",
              " ('wear', 23),\n",
              " ('ready', 23),\n",
              " ('oppose', 23),\n",
              " ...]"
            ]
          },
          "metadata": {
            "tags": []
          },
          "execution_count": 58
        }
      ]
    },
    {
      "cell_type": "markdown",
      "metadata": {
        "id": "eceDA71t-z6b"
      },
      "source": [
        "Separate Datframes of Tweets for each Sentiment"
      ]
    },
    {
      "cell_type": "code",
      "metadata": {
        "id": "CfcmDMTV--kM",
        "outputId": "0b2d1885-6648-4eaf-c00b-997ef319324f",
        "colab": {
          "base_uri": "https://localhost:8080/"
        }
      },
      "source": [
        "train.sentiment.value_counts()"
      ],
      "execution_count": 59,
      "outputs": [
        {
          "output_type": "execute_result",
          "data": {
            "text/plain": [
              " 1    8530\n",
              " 2    3640\n",
              " 0    2353\n",
              "-1    1296\n",
              "Name: sentiment, dtype: int64"
            ]
          },
          "metadata": {
            "tags": []
          },
          "execution_count": 59
        }
      ]
    },
    {
      "cell_type": "code",
      "metadata": {
        "id": "0YQ-muEM_CLP",
        "outputId": "96150bd4-b456-4499-cb47-c147063cb805",
        "colab": {
          "base_uri": "https://localhost:8080/",
          "height": 204
        }
      },
      "source": [
        "#sentiment value 0\n",
        "sentiment_0 = train[train['sentiment'] == 0]\n",
        "sentiment_0.head()"
      ],
      "execution_count": 60,
      "outputs": [
        {
          "output_type": "execute_result",
          "data": {
            "text/html": [
              "<div>\n",
              "<style scoped>\n",
              "    .dataframe tbody tr th:only-of-type {\n",
              "        vertical-align: middle;\n",
              "    }\n",
              "\n",
              "    .dataframe tbody tr th {\n",
              "        vertical-align: top;\n",
              "    }\n",
              "\n",
              "    .dataframe thead th {\n",
              "        text-align: right;\n",
              "    }\n",
              "</style>\n",
              "<table border=\"1\" class=\"dataframe\">\n",
              "  <thead>\n",
              "    <tr style=\"text-align: right;\">\n",
              "      <th></th>\n",
              "      <th>sentiment</th>\n",
              "      <th>message</th>\n",
              "      <th>tweetid</th>\n",
              "      <th>pos_tags</th>\n",
              "      <th>wordnet_pos</th>\n",
              "    </tr>\n",
              "  </thead>\n",
              "  <tbody>\n",
              "    <tr>\n",
              "      <th>19</th>\n",
              "      <td>0</td>\n",
              "      <td>[calum, tweet, abt, reunitingish, w, cast, see...</td>\n",
              "      <td>547924</td>\n",
              "      <td>[(calum, NN), (tweets, NNS), (abt, VBP), (reun...</td>\n",
              "      <td>[(calum, n), (tweets, n), (abt, v), (reuniting...</td>\n",
              "    </tr>\n",
              "    <tr>\n",
              "      <th>22</th>\n",
              "      <td>0</td>\n",
              "      <td>[also, meet, guy, let, u, truth, climate, chan...</td>\n",
              "      <td>67545</td>\n",
              "      <td>[(also, RB), (met, VBN), (guy, NN), (let, VB),...</td>\n",
              "      <td>[(also, r), (met, v), (guy, n), (let, v), (us,...</td>\n",
              "    </tr>\n",
              "    <tr>\n",
              "      <th>30</th>\n",
              "      <td>0</td>\n",
              "      <td>[scientist, denounce, climate, change, choice]</td>\n",
              "      <td>365051</td>\n",
              "      <td>[(scientists, NNS), (denounce, NN), (climate, ...</td>\n",
              "      <td>[(scientists, n), (denounce, n), (climate, n),...</td>\n",
              "    </tr>\n",
              "    <tr>\n",
              "      <th>39</th>\n",
              "      <td>0</td>\n",
              "      <td>[dealt, simple, issue, like, climate, change, ...</td>\n",
              "      <td>403368</td>\n",
              "      <td>[(dealt, JJ), (simple, JJ), (issues, NNS), (li...</td>\n",
              "      <td>[(dealt, a), (simple, a), (issues, n), (like, ...</td>\n",
              "    </tr>\n",
              "    <tr>\n",
              "      <th>43</th>\n",
              "      <td>0</td>\n",
              "      <td>[win, probability, bullshit, man, saw, nba, fi...</td>\n",
              "      <td>326916</td>\n",
              "      <td>[(win, JJ), (probability, NN), (bullshit, NN),...</td>\n",
              "      <td>[(win, a), (probability, n), (bullshit, n), (m...</td>\n",
              "    </tr>\n",
              "  </tbody>\n",
              "</table>\n",
              "</div>"
            ],
            "text/plain": [
              "    sentiment  ...                                        wordnet_pos\n",
              "19          0  ...  [(calum, n), (tweets, n), (abt, v), (reuniting...\n",
              "22          0  ...  [(also, r), (met, v), (guy, n), (let, v), (us,...\n",
              "30          0  ...  [(scientists, n), (denounce, n), (climate, n),...\n",
              "39          0  ...  [(dealt, a), (simple, a), (issues, n), (like, ...\n",
              "43          0  ...  [(win, a), (probability, n), (bullshit, n), (m...\n",
              "\n",
              "[5 rows x 5 columns]"
            ]
          },
          "metadata": {
            "tags": []
          },
          "execution_count": 60
        }
      ]
    },
    {
      "cell_type": "code",
      "metadata": {
        "id": "PJ-odjTc_Em3",
        "outputId": "46d4e2b0-b32d-4b1e-f72b-4bb27120ca47",
        "colab": {
          "base_uri": "https://localhost:8080/",
          "height": 204
        }
      },
      "source": [
        "#sentiment value 1\n",
        "sentiment_1 = train[train['sentiment'] == 1]\n",
        "sentiment_1.head()"
      ],
      "execution_count": 61,
      "outputs": [
        {
          "output_type": "execute_result",
          "data": {
            "text/html": [
              "<div>\n",
              "<style scoped>\n",
              "    .dataframe tbody tr th:only-of-type {\n",
              "        vertical-align: middle;\n",
              "    }\n",
              "\n",
              "    .dataframe tbody tr th {\n",
              "        vertical-align: top;\n",
              "    }\n",
              "\n",
              "    .dataframe thead th {\n",
              "        text-align: right;\n",
              "    }\n",
              "</style>\n",
              "<table border=\"1\" class=\"dataframe\">\n",
              "  <thead>\n",
              "    <tr style=\"text-align: right;\">\n",
              "      <th></th>\n",
              "      <th>sentiment</th>\n",
              "      <th>message</th>\n",
              "      <th>tweetid</th>\n",
              "      <th>pos_tags</th>\n",
              "      <th>wordnet_pos</th>\n",
              "    </tr>\n",
              "  </thead>\n",
              "  <tbody>\n",
              "    <tr>\n",
              "      <th>0</th>\n",
              "      <td>1</td>\n",
              "      <td>[polyscimajor, epa, chief, think, carbon, diox...</td>\n",
              "      <td>625221</td>\n",
              "      <td>[(polyscimajor, JJ), (epa, NN), (chief, NN), (...</td>\n",
              "      <td>[(polyscimajor, a), (epa, n), (chief, n), (thi...</td>\n",
              "    </tr>\n",
              "    <tr>\n",
              "      <th>1</th>\n",
              "      <td>1</td>\n",
              "      <td>[like, lack, evidence, anthropogenic, global, ...</td>\n",
              "      <td>126103</td>\n",
              "      <td>[(like, IN), (lack, NN), (evidence, NN), (anth...</td>\n",
              "      <td>[(like, n), (lack, n), (evidence, n), (anthrop...</td>\n",
              "    </tr>\n",
              "    <tr>\n",
              "      <th>3</th>\n",
              "      <td>1</td>\n",
              "      <td>[todayinmaker, wire, 2016, pivotal, year, war,...</td>\n",
              "      <td>573736</td>\n",
              "      <td>[(todayinmaker, NN), (wired, VBD), (2016, CD),...</td>\n",
              "      <td>[(todayinmaker, n), (wired, v), (2016, n), (pi...</td>\n",
              "    </tr>\n",
              "    <tr>\n",
              "      <th>4</th>\n",
              "      <td>1</td>\n",
              "      <td>[2016, racist, sexist, climate, change, deny, ...</td>\n",
              "      <td>466954</td>\n",
              "      <td>[(2016, CD), (racist, NN), (sexist, NN), (clim...</td>\n",
              "      <td>[(2016, n), (racist, n), (sexist, n), (climate...</td>\n",
              "    </tr>\n",
              "    <tr>\n",
              "      <th>5</th>\n",
              "      <td>1</td>\n",
              "      <td>[worth, read, whether, believe, climate, change]</td>\n",
              "      <td>425577</td>\n",
              "      <td>[(worth, JJ), (read, VBD), (whether, IN), (bel...</td>\n",
              "      <td>[(worth, a), (read, v), (whether, n), (believe...</td>\n",
              "    </tr>\n",
              "  </tbody>\n",
              "</table>\n",
              "</div>"
            ],
            "text/plain": [
              "   sentiment  ...                                        wordnet_pos\n",
              "0          1  ...  [(polyscimajor, a), (epa, n), (chief, n), (thi...\n",
              "1          1  ...  [(like, n), (lack, n), (evidence, n), (anthrop...\n",
              "3          1  ...  [(todayinmaker, n), (wired, v), (2016, n), (pi...\n",
              "4          1  ...  [(2016, n), (racist, n), (sexist, n), (climate...\n",
              "5          1  ...  [(worth, a), (read, v), (whether, n), (believe...\n",
              "\n",
              "[5 rows x 5 columns]"
            ]
          },
          "metadata": {
            "tags": []
          },
          "execution_count": 61
        }
      ]
    },
    {
      "cell_type": "code",
      "metadata": {
        "id": "E-V5xknW_Iso",
        "outputId": "a88896d9-2274-4dcb-eae4-206e5c385329",
        "colab": {
          "base_uri": "https://localhost:8080/",
          "height": 204
        }
      },
      "source": [
        "#sentiment value 2\n",
        "sentiment_2 = train[train['sentiment'] == 2]\n",
        "sentiment_2.head()"
      ],
      "execution_count": 62,
      "outputs": [
        {
          "output_type": "execute_result",
          "data": {
            "text/html": [
              "<div>\n",
              "<style scoped>\n",
              "    .dataframe tbody tr th:only-of-type {\n",
              "        vertical-align: middle;\n",
              "    }\n",
              "\n",
              "    .dataframe tbody tr th {\n",
              "        vertical-align: top;\n",
              "    }\n",
              "\n",
              "    .dataframe thead th {\n",
              "        text-align: right;\n",
              "    }\n",
              "</style>\n",
              "<table border=\"1\" class=\"dataframe\">\n",
              "  <thead>\n",
              "    <tr style=\"text-align: right;\">\n",
              "      <th></th>\n",
              "      <th>sentiment</th>\n",
              "      <th>message</th>\n",
              "      <th>tweetid</th>\n",
              "      <th>pos_tags</th>\n",
              "      <th>wordnet_pos</th>\n",
              "    </tr>\n",
              "  </thead>\n",
              "  <tbody>\n",
              "    <tr>\n",
              "      <th>2</th>\n",
              "      <td>2</td>\n",
              "      <td>[researcher, say, three, year, act, climate, c...</td>\n",
              "      <td>698562</td>\n",
              "      <td>[(researchers, NNS), (say, VBP), (three, CD), ...</td>\n",
              "      <td>[(researchers, n), (say, v), (three, n), (year...</td>\n",
              "    </tr>\n",
              "    <tr>\n",
              "      <th>12</th>\n",
              "      <td>2</td>\n",
              "      <td>[5, percent, chance, avoid, dangerous, global,...</td>\n",
              "      <td>454673</td>\n",
              "      <td>[(5, CD), (percent, NN), (chance, NN), (avoidi...</td>\n",
              "      <td>[(5, n), (percent, n), (chance, n), (avoiding,...</td>\n",
              "    </tr>\n",
              "    <tr>\n",
              "      <th>14</th>\n",
              "      <td>2</td>\n",
              "      <td>[fossil, fuel, giant, exxonmobil, mislead, pub...</td>\n",
              "      <td>658092</td>\n",
              "      <td>[(fossil, NN), (fuel, NN), (giant, NN), (exxon...</td>\n",
              "      <td>[(fossil, n), (fuel, n), (giant, n), (exxonmob...</td>\n",
              "    </tr>\n",
              "    <tr>\n",
              "      <th>26</th>\n",
              "      <td>2</td>\n",
              "      <td>[bangladesh, confront, climate, change, head]</td>\n",
              "      <td>365291</td>\n",
              "      <td>[(bangladesh, JJ), (confronting, VBG), (climat...</td>\n",
              "      <td>[(bangladesh, a), (confronting, v), (climate, ...</td>\n",
              "    </tr>\n",
              "    <tr>\n",
              "      <th>32</th>\n",
              "      <td>2</td>\n",
              "      <td>[atmospheric, river, fuel, climate, change, co...</td>\n",
              "      <td>143471</td>\n",
              "      <td>[(atmospheric, JJ), (rivers, NNS), (fueled, VB...</td>\n",
              "      <td>[(atmospheric, a), (rivers, n), (fueled, v), (...</td>\n",
              "    </tr>\n",
              "  </tbody>\n",
              "</table>\n",
              "</div>"
            ],
            "text/plain": [
              "    sentiment  ...                                        wordnet_pos\n",
              "2           2  ...  [(researchers, n), (say, v), (three, n), (year...\n",
              "12          2  ...  [(5, n), (percent, n), (chance, n), (avoiding,...\n",
              "14          2  ...  [(fossil, n), (fuel, n), (giant, n), (exxonmob...\n",
              "26          2  ...  [(bangladesh, a), (confronting, v), (climate, ...\n",
              "32          2  ...  [(atmospheric, a), (rivers, n), (fueled, v), (...\n",
              "\n",
              "[5 rows x 5 columns]"
            ]
          },
          "metadata": {
            "tags": []
          },
          "execution_count": 62
        }
      ]
    },
    {
      "cell_type": "code",
      "metadata": {
        "id": "3kZdC3oa_MUG",
        "outputId": "21713e99-8552-4710-dce5-fe81f1432ff9",
        "colab": {
          "base_uri": "https://localhost:8080/",
          "height": 204
        }
      },
      "source": [
        "#sentiment value -1\n",
        "sentiment__1 = train[train['sentiment'] == -1]\n",
        "sentiment__1.head()"
      ],
      "execution_count": 63,
      "outputs": [
        {
          "output_type": "execute_result",
          "data": {
            "text/html": [
              "<div>\n",
              "<style scoped>\n",
              "    .dataframe tbody tr th:only-of-type {\n",
              "        vertical-align: middle;\n",
              "    }\n",
              "\n",
              "    .dataframe tbody tr th {\n",
              "        vertical-align: top;\n",
              "    }\n",
              "\n",
              "    .dataframe thead th {\n",
              "        text-align: right;\n",
              "    }\n",
              "</style>\n",
              "<table border=\"1\" class=\"dataframe\">\n",
              "  <thead>\n",
              "    <tr style=\"text-align: right;\">\n",
              "      <th></th>\n",
              "      <th>sentiment</th>\n",
              "      <th>message</th>\n",
              "      <th>tweetid</th>\n",
              "      <th>pos_tags</th>\n",
              "      <th>wordnet_pos</th>\n",
              "    </tr>\n",
              "  </thead>\n",
              "  <tbody>\n",
              "    <tr>\n",
              "      <th>28</th>\n",
              "      <td>-1</td>\n",
              "      <td>[sally, kohn, late, evidence, climate, change,...</td>\n",
              "      <td>355491</td>\n",
              "      <td>[(sally, RB), (kohn, JJ), (latest, JJS), (evid...</td>\n",
              "      <td>[(sally, r), (kohn, a), (latest, a), (evidence...</td>\n",
              "    </tr>\n",
              "    <tr>\n",
              "      <th>46</th>\n",
              "      <td>-1</td>\n",
              "      <td>[carbon, tax, globalist, idea, enslave, world,...</td>\n",
              "      <td>61141</td>\n",
              "      <td>[(carbon, NN), (tax, NN), (globalist, NN), (id...</td>\n",
              "      <td>[(carbon, n), (tax, n), (globalist, n), (idea,...</td>\n",
              "    </tr>\n",
              "    <tr>\n",
              "      <th>48</th>\n",
              "      <td>-1</td>\n",
              "      <td>[wind, close, 100, mph, area, afternoon, would...</td>\n",
              "      <td>719523</td>\n",
              "      <td>[(winds, NNS), (close, RB), (100, CD), (mph, N...</td>\n",
              "      <td>[(winds, n), (close, r), (100, n), (mph, n), (...</td>\n",
              "    </tr>\n",
              "    <tr>\n",
              "      <th>56</th>\n",
              "      <td>-1</td>\n",
              "      <td>[lmao, snowflake, complain, snowflake, winter,...</td>\n",
              "      <td>911385</td>\n",
              "      <td>[(lmao, NN), (snowflakes, NNS), (complaining, ...</td>\n",
              "      <td>[(lmao, n), (snowflakes, n), (complaining, v),...</td>\n",
              "    </tr>\n",
              "    <tr>\n",
              "      <th>57</th>\n",
              "      <td>-1</td>\n",
              "      <td>[one, arnold, schwarzenegger, vehicle, whine, ...</td>\n",
              "      <td>768263</td>\n",
              "      <td>[(one, CD), (arnold, JJ), (schwarzenegger, NN)...</td>\n",
              "      <td>[(one, n), (arnold, a), (schwarzenegger, n), (...</td>\n",
              "    </tr>\n",
              "  </tbody>\n",
              "</table>\n",
              "</div>"
            ],
            "text/plain": [
              "    sentiment  ...                                        wordnet_pos\n",
              "28         -1  ...  [(sally, r), (kohn, a), (latest, a), (evidence...\n",
              "46         -1  ...  [(carbon, n), (tax, n), (globalist, n), (idea,...\n",
              "48         -1  ...  [(winds, n), (close, r), (100, n), (mph, n), (...\n",
              "56         -1  ...  [(lmao, n), (snowflakes, n), (complaining, v),...\n",
              "57         -1  ...  [(one, n), (arnold, a), (schwarzenegger, n), (...\n",
              "\n",
              "[5 rows x 5 columns]"
            ]
          },
          "metadata": {
            "tags": []
          },
          "execution_count": 63
        }
      ]
    },
    {
      "cell_type": "code",
      "metadata": {
        "id": "ENI7R0f2--jd"
      },
      "source": [
        ""
      ],
      "execution_count": 63,
      "outputs": []
    },
    {
      "cell_type": "markdown",
      "metadata": {
        "id": "-VqeCRDaVxXY"
      },
      "source": [
        "# Exploratory Data Analysis\n",
        "- A detailed section will be added..."
      ]
    },
    {
      "cell_type": "code",
      "metadata": {
        "id": "gsz9laVVVxXY",
        "outputId": "f3cc7592-0ee0-4a5c-f4d1-36d0344adfea",
        "colab": {
          "base_uri": "https://localhost:8080/",
          "height": 331
        }
      },
      "source": [
        "train[\"sentiment\"].plot.hist()\n",
        "# set title and axis labels\n",
        "plt.suptitle('Sentiments Frequency Count', x=0.5, y=1.05, ha='center', fontsize='xx-large')"
      ],
      "execution_count": 64,
      "outputs": [
        {
          "output_type": "execute_result",
          "data": {
            "text/plain": [
              "Text(0.5, 1.05, 'Sentiments Frequency Count')"
            ]
          },
          "metadata": {
            "tags": []
          },
          "execution_count": 64
        },
        {
          "output_type": "display_data",
          "data": {
            "image/png": "[encoded data removed]",
            "text/plain": [
              "<Figure size 432x288 with 1 Axes>"
            ]
          },
          "metadata": {
            "tags": [],
            "needs_background": "light"
          }
        }
      ]
    },
    {
      "cell_type": "code",
      "metadata": {
        "id": "xRSsl6fLVxXc",
        "outputId": "64a323e1-7679-4ea7-cc92-9ba8a82edb76",
        "colab": {
          "base_uri": "https://localhost:8080/",
          "height": 751
        }
      },
      "source": [
        "from nltk.probability import FreqDist\n",
        "from wordcloud import WordCloud, ImageColorGenerator\n",
        "\n",
        "words = train['message']\n",
        "allwords = []\n",
        "for wordlist in words:\n",
        "    allwords += wordlist\n",
        "    \n",
        "mostcommon = FreqDist(allwords).most_common(1000)\n",
        "wordcloud = WordCloud(width=1000, height=800, background_color='black').generate(str(mostcommon))\n",
        "fig = plt.figure(figsize=(30,10), facecolor='white')\n",
        "plt.imshow(wordcloud, interpolation=\"bilinear\")\n",
        "plt.axis('off')\n",
        "plt.tight_layout(pad=0)\n",
        "plt.show()"
      ],
      "execution_count": 65,
      "outputs": [
        {
          "output_type": "display_data",
          "data": {
            "image/png": "[encoded data removed]",
            "text/plain": [
              "<Figure size 2160x720 with 1 Axes>"
            ]
          },
          "metadata": {
            "tags": []
          }
        }
      ]
    },
    {
      "cell_type": "code",
      "metadata": {
        "id": "DJ9AdyFWVxXh",
        "outputId": "903d6a6f-3be0-4a68-cc79-b3a5a93d1bee",
        "colab": {
          "base_uri": "https://localhost:8080/",
          "height": 1000
        }
      },
      "source": [
        "#Compare the sentiment analysis \n",
        "train2 = pd.read_csv('train.csv')\n",
        "from textblob import TextBlob\n",
        "train['sentiment_2']=train2['message'].apply(lambda x:TextBlob(x).sentiment.polarity)\n",
        "plt.figure(figsize=(30,30))\n",
        "plt.margins(0.02)\n",
        "plt.xlabel('Sentiment', fontsize=50)\n",
        "plt.xticks(fontsize=40)\n",
        "plt.ylabel('Frequency', fontsize=50)\n",
        "plt.yticks(fontsize=40)\n",
        "plt.hist(train['sentiment_2'], bins=50)\n",
        "plt.title('Sentiment Distribution', fontsize=60)\n",
        "plt.show()"
      ],
      "execution_count": 66,
      "outputs": [
        {
          "output_type": "display_data",
          "data": {
            "image/png": "[encoded data removed]",
            "text/plain": [
              "<Figure size 2160x2160 with 1 Axes>"
            ]
          },
          "metadata": {
            "tags": [],
            "needs_background": "light"
          }
        }
      ]
    },
    {
      "cell_type": "code",
      "metadata": {
        "id": "7kXdKDwDVxXl"
      },
      "source": [
        ""
      ],
      "execution_count": 66,
      "outputs": []
    },
    {
      "cell_type": "code",
      "metadata": {
        "id": "DirFYvSmVxXo"
      },
      "source": [
        ""
      ],
      "execution_count": 66,
      "outputs": []
    },
    {
      "cell_type": "code",
      "metadata": {
        "id": "_FHHxdbTVxXr"
      },
      "source": [
        ""
      ],
      "execution_count": 66,
      "outputs": []
    },
    {
      "cell_type": "code",
      "metadata": {
        "id": "GG1DAteOVxYC"
      },
      "source": [
        ""
      ],
      "execution_count": 66,
      "outputs": []
    },
    {
      "cell_type": "code",
      "metadata": {
        "id": "_iu53ybdVxYJ"
      },
      "source": [
        ""
      ],
      "execution_count": 66,
      "outputs": []
    },
    {
      "cell_type": "markdown",
      "metadata": {
        "id": "x9HLGvDNVxYM"
      },
      "source": [
        "<a id='basemodels'></a>\n",
        "# Classification Models\n",
        "We're going to look at the following models,"
      ]
    },
    {
      "cell_type": "markdown",
      "metadata": {
        "id": "Sep2TCWeVxYN"
      },
      "source": [
        "*  Decision Tree Classifier<a id='DS'></a>\n",
        "*  RandomForest Classifier<a id='random'></a>\n",
        "*  LinearSVC(Support Vector Classifier)<a id='svc'></a>\n",
        "*  LGBMClassifier(Light Gradient Boosting Machine Classifier)<a id='LGBM'></a>\n"
      ]
    },
    {
      "cell_type": "markdown",
      "metadata": {
        "id": "3TPRVVKQVxYO"
      },
      "source": [
        "<a id='tree'></a>\n",
        "## Tree-based Models for Classification"
      ]
    },
    {
      "cell_type": "markdown",
      "metadata": {
        "id": "7rdfD0TkVxYO"
      },
      "source": [
        "<a id='DC'></a>\n",
        "### Decision Tree Classifier\n",
        "\n",
        "![1*bcLAJfWN2GpVQNTVOCrrvw.png](https://miro.medium.com/max/688/1*bcLAJfWN2GpVQNTVOCrrvw.png)\n",
        "Decision Trees (DTs) are  non-parametric supervised learning methods used for classification and regression. Decision trees learn from data to approximate a sine curve with a set of if-then-else decision rules. The deeper the tree, the more complex the decision rules and the fitter the model.\n",
        "\n",
        "Decision tree builds classification or regression models in the form of a tree structure. It breaks down data by partitioning it into subsets after each decision while at the same time an associated decision tree is incrementally developed. The final result is a tree with decision nodes and leaf nodes. A decision node has two or more branches. Leaf node represents a classification or decision. The topmost decision node in a tree which corresponds to the best predictor called root node. Decision trees can handle both categorical and numerical data.\n",
        "\n",
        "Visual representation of a `Decision Tree`\n",
        "![1*WerHJ14JQAd3j8ASaVjAhw.jpeg](https://miro.medium.com/max/963/1*WerHJ14JQAd3j8ASaVjAhw.jpeg)\n",
        "\n",
        "\n",
        "Decision trees are prone to overfitting. Overfitting happens when the learning algorithm continues to develop hypotheses that reduce training set error at the cost of an increased test set error; One method to tackle overfitting in decision trees is by **prunning**.\n",
        "There are several approaches used to avoid overfitting in building decision trees namely, \t\t\n",
        "- Pre-pruning that stops growing the tree earlier, before it perfectly classifies the training set.\n",
        "- Post-pruning that allows the tree to perfectly classify the training set, and then post prune the tree. \n",
        "Practically, the second approach of post-pruning overfit trees is more successful because it is not easy to precisely estimate when to stop growing the tree.\n",
        "\n",
        "Decision Trees are building blocks for the next machine learning method we will look into, which is the **Random Forest Classifier**"
      ]
    },
    {
      "cell_type": "markdown",
      "metadata": {
        "id": "qL8jpnPxVxYP"
      },
      "source": [
        "<a id='random'></a>\n",
        "### Random Forest Classifier\n",
        "`Random forest` is a supervised learning algorithm that can be used both for classification and regression. A forest is comprised of a number of individual trees. It is said that the more trees it has, the more robust a forest is, unlike decision trees `Random Forest`  prevents overfitting by creating trees on random subsets  \n",
        "\n",
        "The Random forest algorithm works in four steps\n",
        "\n",
        " 1. Selects a number of random samples from a given dataset\n",
        " 2. Construct a decision tree for each sample and get a prediction result from each decision tree\n",
        " 3. Perform a vote for each predicted result.\n",
        " 4. Select the prediction result with the most votes as the final prediction.\n",
        "\n",
        "a visual representation of a Random Forest classifier is seen in the diagram below\n",
        "![voting_dnjweq.jpg](https://res.cloudinary.com/dyd911kmh/image/upload/f_auto,q_auto:best/v1526467744/voting_dnjweq.jpg)\n",
        "\n",
        "\n",
        "\n"
      ]
    },
    {
      "cell_type": "markdown",
      "metadata": {
        "id": "UCplaYUjVxYQ"
      },
      "source": [
        "## Support Vector Classification(LinearSVC)\n",
        "SVM or Support Vector Machine is a linear model for classification and regression problems. It can solve linear and non-linear problems and work well for many practical problems. The idea of SVM is simple: The algorithm creates a line or a hyperplane which separates the data into classes as seen in the diagram below\n",
        "\n",
        "![1*dh0lzq0QNCOyRlX1Ot4Vow.jpeg](https://miro.medium.com/max/963/1*dh0lzq0QNCOyRlX1Ot4Vow.jpeg)\n",
        "\n",
        "To better explain the concept of `SVM` we will look at a case of two classes.\n",
        "\n",
        "**To find the best line seperating the classes**\n",
        "\n",
        "The `SVM` algorithm finds the points closest to the line from both the classes.These points are called support vectors, then it compute the distance between the line and the support vectors, This distance is called the margin. Our goal is to maximize the margin.\n",
        "\n",
        "In a case for more than two classes the goal is to find the the best hyperplane that seperates the classes.\n",
        "The hyperplane for which the margin is maximum is the optimal hyperplane.\n",
        "\n",
        "Below is a visual representation of how `SVMs` work\n",
        "\n",
        "<p float=\"left\">\n",
        "  <img src=\"https://miro.medium.com/max/880/1*VDATmWG1E1ZNg7hdasOh5g.png\" width=\"400\" />\n",
        "  <img src=\"https://miro.medium.com/max/880/1*AMR3v-jCvUMXPUtQskzxmQ.png\" width=\"400\" />\n",
        "  <img src=\"https://miro.medium.com/max/880/1*irg_jfdAar9gfe0j-Q04vQ.png\" width=\"400\" />\n",
        "</p>\n",
        "\n",
        "\n",
        "\n"
      ]
    },
    {
      "cell_type": "markdown",
      "metadata": {
        "id": "5QJEmvWVVxYQ"
      },
      "source": [
        "## Light Gradient Boosting Machine(LightGBM)\n",
        "LightGBM is a gradient boosting framework that also uses a tree based learning algorithm. LightGBM differes from other tree based algorithms in the sense that it grows trees vertifically while other algorithms grow them horizontally, this means that Light GBM grows trees leaf-wise while other algorithm grow level-wise.\n",
        "\n",
        "LightGBM will choose the leaf with max delta loss to grow. When growing the same leaf, Leaf-wise algorithm can reduce more loss than a level-wise algorithm.\n",
        "The diagrams below explain the implementation of LightGBM and other boosting algorithms\n",
        "\n",
        "\n",
        "How Light GBM works![1*AZsSoXb8lc5N6mnhqX5JCg.png](https://miro.medium.com/max/875/1*AZsSoXb8lc5N6mnhqX5JCg.png)\n",
        "\n",
        "How other tree based algorithms work\n",
        "![1*whSa8rY4sgFQj1rEcWr8Ag.png](https://miro.medium.com/max/875/1*whSa8rY4sgFQj1rEcWr8Ag.png)\n",
        "\n",
        "some adcantages of LightGBM framework include\n",
        "- Faster training speed and higher efficiency.\n",
        "- Lower memory usage.\n",
        "- Better accuracy.\n",
        "- Support of parallel and GPU learning.\n",
        "- Capable of handling large-scale data"
      ]
    },
    {
      "cell_type": "markdown",
      "metadata": {
        "id": "5ekydnt2VxYR"
      },
      "source": [
        "# Creating our X and y Metrics"
      ]
    },
    {
      "cell_type": "code",
      "metadata": {
        "id": "PO2j5iKDVxYR"
      },
      "source": [
        "X = train['message']\n",
        "y = train['sentiment']"
      ],
      "execution_count": null,
      "outputs": []
    },
    {
      "cell_type": "markdown",
      "metadata": {
        "id": "LvDcaHe-VxYU"
      },
      "source": [
        "# Splitting data into train and validation sets\n",
        "\n",
        "Separating data into training and validation sets is an important part of evaluating our models. \n",
        "In our case we will randomly split the train data into 70% train and 30% validation. \n",
        "After our model is trained with the train data we then use it to make predictions for the target using the validation set,Because the data in the validation set already contains known values for the target variable this will make it easy  for us to asses our model's accuracy."
      ]
    },
    {
      "cell_type": "code",
      "metadata": {
        "id": "9WbV6jZAVxYU"
      },
      "source": [
        "# Splitting the data into 70% train and 30% validation set\n",
        "X_train,X_val,y_train,y_val = train_test_split(X,y,test_size=.3,shuffle=True, stratify=y, random_state=11)"
      ],
      "execution_count": null,
      "outputs": []
    },
    {
      "cell_type": "markdown",
      "metadata": {
        "id": "25NQkdQ6VxYX"
      },
      "source": [
        "<a id='feature_engineering'></a>\n",
        "# Feature Engineering\n",
        "We will be looking at two methods of feature selection in text data namely the `tfidfVectorizer` and `word2vec`\n",
        "\n",
        "<a id='tfidf'></a>\n",
        "`TF-IDF` stands for Term Frequency — Inverse Document Frequency and is a statistic that aims to better define how important a word is for a document, while also taking into account the relation to other documents from the same corpus.\n",
        "This is performed by looking at how many times a word appears into a document while also paying attention to how many times the same word appears in other documents in the corpus.\n",
        "`vocabulary_` Is a dictionary that converts each word in the text to feature index in the matrix, each unique token gets a feature index\n",
        "\n",
        "<a id='word2vec'></a>\n",
        "**WORD2VEC EMBEDDINGS AS FEATURES**\n",
        "\n",
        "`Word2vec` is a predictive deep learning based model to compute and generate high quality, distributed and continuous dense vector representations of words, which capture contextual and semantic similarity. Essentially these are unsupervised models which can take in massive textual corpora, create a vocabulary of possible words and generate dense word embeddings for each word in the vector space representing that vocabulary. \n",
        "The main idea is to encode words with close meaning that can substitute each other in a context as close vectors in an X-dimensional space, although this method is generally used for unsupervised learnining it can also be used in supervised learning.\n",
        "\n",
        "\n",
        "\n"
      ]
    },
    {
      "cell_type": "markdown",
      "metadata": {
        "id": "gBUPaQ7vVxYX"
      },
      "source": [
        "<a id='Pipelines'></a>\n",
        "# Pipelines\n",
        "![cover.png](https://www.houseofbots.com/images/news/11939/cover.png)\n",
        "`Pipeline`  by definition is a tool that sequentially applies a list of transforms and a final estimator. Intermediate steps of pipeline implement fit and transform methods and the final estimator only needs to implement fit. In our case pipelines will help us tranform the train, validation and test data as well as train our models.\n",
        "\n",
        "Since our models can only process numerical data our first step is to build a pipeline that converts text data into numeric data, In this notebook we will be focusing on two methods of feature engineering, which we will use to convert text data to numeric data, namely TfidfVectorizer and Word2Vec, then we will train our models within these pipelines\n",
        "\n",
        "We will be building two sets of pipelines one with features generated using `tfidfVectorizer` and the second one using `word2vec` embeddings as features"
      ]
    },
    {
      "cell_type": "markdown",
      "metadata": {
        "id": "6P_foBaRVxYY"
      },
      "source": [
        "<a id='model_eval'></a>\n",
        "# Modelling and Evaluation"
      ]
    },
    {
      "cell_type": "markdown",
      "metadata": {
        "id": "-tFzIx1OVxYY"
      },
      "source": [
        "<a id='raw_tweets'></a>\n",
        "## Modelling - Raw tweets\n",
        "* We doing this so that later we can check if our preprocessing steps actually improved model performances"
      ]
    },
    {
      "cell_type": "code",
      "metadata": {
        "id": "iJf305FeVxYZ",
        "outputId": "c4a43860-395a-444d-a3c7-dcc81a97ef18"
      },
      "source": [
        "# DecisionTreeClassifier Pipeline\n",
        "tree = Pipeline([('tfidf', TfidfVectorizer()),('tree', DecisionTreeClassifier()),])\n",
        "#training the decision tree pipeline\n",
        "tree.fit(X_train, y_train)\n",
        "\n",
        "\n",
        "# RandomForestClassifier Pipeline\n",
        "rfc = Pipeline([('tfidf', TfidfVectorizer()), ('rfc', RandomForestClassifier())])\n",
        "# training the RandomForest pipleline\n",
        "rfc.fit(X_train, y_train)\n",
        "\n",
        "\n",
        "# LinearSVC Pipeline\n",
        "svc = Pipeline([('tfidf', TfidfVectorizer()),\n",
        "                     ('scv', LinearSVC()),])\n",
        "# training the LinearSVC pipeline\n",
        "svc.fit(X_train, y_train)  \n",
        "\n",
        "\n",
        "\n",
        "# LGBMClassifier Pipeline\n",
        "lgbm = Pipeline([('tfidf', TfidfVectorizer()), ('lgbm', LGBMClassifier())])\n",
        "# training the LGBMClassifier Pipleine\n",
        "lgbm.fit(X_train, y_train)\n",
        "\n"
      ],
      "execution_count": null,
      "outputs": [
        {
          "output_type": "execute_result",
          "data": {
            "text/plain": [
              "Pipeline(steps=[('tfidf', TfidfVectorizer()), ('lgbm', LGBMClassifier())])"
            ]
          },
          "metadata": {
            "tags": []
          },
          "execution_count": 6
        }
      ]
    },
    {
      "cell_type": "markdown",
      "metadata": {
        "id": "FaU-hg0VVxYc"
      },
      "source": [
        "<a id='model_eval'></a>\n",
        "## Model evalution"
      ]
    },
    {
      "cell_type": "markdown",
      "metadata": {
        "id": "igVxBmmqVxYd"
      },
      "source": [
        "To evaluate the base models we first start with making predictions for the validation set"
      ]
    },
    {
      "cell_type": "code",
      "metadata": {
        "id": "T4lNVDl8VxYd"
      },
      "source": [
        "# Making validations set predicions\n",
        "\n",
        "tree_prediction = tree.predict(X_val) # DecisionTreeClassifier predictions\n",
        "rfc_prediction = rfc.predict(X_val) # RandomForestClassifier predictions\n",
        "svc_prediction = svc.predict(X_val) # LinearSVClassifier Predictions\n",
        "lgbm_prediction = lgbm.predict(X_val) # LGBMClassifier Model predictions"
      ],
      "execution_count": null,
      "outputs": []
    },
    {
      "cell_type": "markdown",
      "metadata": {
        "id": "bkIFNzOcVxYi"
      },
      "source": [
        "### Evalution of DecisionTreeClassifier"
      ]
    },
    {
      "cell_type": "code",
      "metadata": {
        "id": "JPfqm9CUVxYi",
        "outputId": "2bd24422-003f-4178-db9e-a0c0a262a954"
      },
      "source": [
        "# Report the confusion matrix\n",
        "\n",
        "print('\\nDecision Tree\\n', confusion_matrix(y_val, tree_prediction))\n"
      ],
      "execution_count": null,
      "outputs": [
        {
          "output_type": "stream",
          "text": [
            "\n",
            "Decision Tree\n",
            " [[ 106   71  157   55]\n",
            " [  41  281  330   54]\n",
            " [  88  300 1834  337]\n",
            " [  21   74  341  656]]\n"
          ],
          "name": "stdout"
        }
      ]
    },
    {
      "cell_type": "code",
      "metadata": {
        "id": "IcMOJnzQVxYl",
        "outputId": "120cace3-a0fd-4c3c-9358-06a29434bf3e"
      },
      "source": [
        "# Print a classification report\n",
        "\n",
        "print('\\nDecision Tree\\n', classification_report(y_val, tree_prediction))\n",
        "\n"
      ],
      "execution_count": null,
      "outputs": [
        {
          "output_type": "stream",
          "text": [
            "\n",
            "Decision Tree\n",
            "               precision    recall  f1-score   support\n",
            "\n",
            "          -1       0.41      0.27      0.33       389\n",
            "           0       0.39      0.40      0.39       706\n",
            "           1       0.69      0.72      0.70      2559\n",
            "           2       0.60      0.60      0.60      1092\n",
            "\n",
            "    accuracy                           0.61      4746\n",
            "   macro avg       0.52      0.50      0.51      4746\n",
            "weighted avg       0.60      0.61      0.60      4746\n",
            "\n"
          ],
          "name": "stdout"
        }
      ]
    },
    {
      "cell_type": "code",
      "metadata": {
        "id": "JyZH3cpYVxYn",
        "outputId": "587e8799-e80a-4f26-82e7-58b7d74b838f"
      },
      "source": [
        "# Print the overall accuracy\n",
        "print('\\nDecision Tree accuracy Score\\n', round(accuracy_score(y_val, tree_prediction),2))\n",
        "print('\\nDecision Tree macro f1 score\\n', round(f1_score(y_val, tree_prediction, average=\"macro\"),2))\n"
      ],
      "execution_count": null,
      "outputs": [
        {
          "output_type": "stream",
          "text": [
            "\n",
            "Decision Tree accuracy Score\n",
            " 0.61\n",
            "\n",
            "Decision Tree macro f1 score\n",
            " 0.51\n"
          ],
          "name": "stdout"
        }
      ]
    },
    {
      "cell_type": "markdown",
      "metadata": {
        "id": "Z874fI_yVxY7"
      },
      "source": [
        "### Evalution of RandomForestClassifier"
      ]
    },
    {
      "cell_type": "code",
      "metadata": {
        "id": "dRIG2m6kVxY8",
        "outputId": "9acf2ba6-9d55-4d4d-c38f-f095c3d23f83"
      },
      "source": [
        "print('\\nRandomForestClassifier\\n', confusion_matrix(y_val, rfc_prediction))\n"
      ],
      "execution_count": null,
      "outputs": [
        {
          "output_type": "stream",
          "text": [
            "\n",
            "RandomForestClassifier\n",
            " [[  47   36  286   20]\n",
            " [   2  213  449   42]\n",
            " [   1   50 2319  189]\n",
            " [   0    3  332  757]]\n"
          ],
          "name": "stdout"
        }
      ]
    },
    {
      "cell_type": "code",
      "metadata": {
        "id": "fW18-BLVVxZC",
        "outputId": "ef07a53c-e722-45dd-d0ef-a7f98e5025e7"
      },
      "source": [
        "print('\\nRandomForestClassifier\\n', classification_report(y_val, rfc_prediction))\n"
      ],
      "execution_count": null,
      "outputs": [
        {
          "output_type": "stream",
          "text": [
            "\n",
            "RandomForestClassifier\n",
            "               precision    recall  f1-score   support\n",
            "\n",
            "          -1       0.94      0.12      0.21       389\n",
            "           0       0.71      0.30      0.42       706\n",
            "           1       0.68      0.91      0.78      2559\n",
            "           2       0.75      0.69      0.72      1092\n",
            "\n",
            "    accuracy                           0.70      4746\n",
            "   macro avg       0.77      0.51      0.53      4746\n",
            "weighted avg       0.72      0.70      0.67      4746\n",
            "\n"
          ],
          "name": "stdout"
        }
      ]
    },
    {
      "cell_type": "code",
      "metadata": {
        "id": "xsd9E8YzVxZG",
        "outputId": "9c531a7c-7e44-4d87-a001-1996ab86cdc6"
      },
      "source": [
        "print('\\nRandomForestClassifier accuracy score\\n', round(accuracy_score(y_val, rfc_prediction),2))\n",
        "print('\\nRandomForestClassifier macro f1 score\\n', round(f1_score(y_val, rfc_prediction, average=\"macro\"),2))"
      ],
      "execution_count": null,
      "outputs": [
        {
          "output_type": "stream",
          "text": [
            "\n",
            "RandomForestClassifier accuracy score\n",
            " 0.7\n",
            "\n",
            "RandomForestClassifier macro f1 score\n",
            " 0.53\n"
          ],
          "name": "stdout"
        }
      ]
    },
    {
      "cell_type": "markdown",
      "metadata": {
        "id": "EeSfqWPBVxZJ"
      },
      "source": [
        "### Evaluation of LinearSVClassifier"
      ]
    },
    {
      "cell_type": "code",
      "metadata": {
        "id": "XScGiVA9VxZK",
        "outputId": "b7d81591-c9ae-444f-86cf-a91c902a5107"
      },
      "source": [
        "print('\\nSVC Model\\n', confusion_matrix(y_val, svc_prediction))"
      ],
      "execution_count": null,
      "outputs": [
        {
          "output_type": "stream",
          "text": [
            "\n",
            "SVC Model\n",
            " [[ 158   53  148   30]\n",
            " [  31  265  340   70]\n",
            " [  35   95 2203  226]\n",
            " [   6   15  191  880]]\n"
          ],
          "name": "stdout"
        }
      ]
    },
    {
      "cell_type": "code",
      "metadata": {
        "id": "I2Sw7_ygVxZM",
        "outputId": "a6b68107-369e-491a-ad1d-5cf1a1b61760"
      },
      "source": [
        "print('\\nSVC Model\\n', classification_report(y_val, svc_prediction))\n"
      ],
      "execution_count": null,
      "outputs": [
        {
          "output_type": "stream",
          "text": [
            "\n",
            "SVC Model\n",
            "               precision    recall  f1-score   support\n",
            "\n",
            "          -1       0.69      0.41      0.51       389\n",
            "           0       0.62      0.38      0.47       706\n",
            "           1       0.76      0.86      0.81      2559\n",
            "           2       0.73      0.81      0.77      1092\n",
            "\n",
            "    accuracy                           0.74      4746\n",
            "   macro avg       0.70      0.61      0.64      4746\n",
            "weighted avg       0.73      0.74      0.72      4746\n",
            "\n"
          ],
          "name": "stdout"
        }
      ]
    },
    {
      "cell_type": "code",
      "metadata": {
        "id": "B729si3VVxZQ"
      },
      "source": [
        "# # Visual represetation of of the f1 score for each class\n",
        "# report_svc = classification_report(y_val, svc_prediction, output_dict=True)\n",
        "# df_svc = pd.DataFrame(report_svc).transpose()\n",
        "# df_svc.drop(['accuracy'], inplace = True)\n",
        "# df_svc.sort_values(by=['f1-score'],ascending=True, inplace = True)\n",
        "# df_svc.drop(['weighted avg','macro avg'])['f1-score'].plot(kind='barh', figsize = (8,8))\n",
        "# plt.xlabel('f1-score')\n",
        "# plt.ylabel('Classes')\n",
        "# plt.yticks(rotation = 40)\n",
        "# plt.title('fi-score for each class')\n",
        "# plt.show()"
      ],
      "execution_count": null,
      "outputs": []
    },
    {
      "cell_type": "code",
      "metadata": {
        "id": "nwsrGr6AVxZU",
        "outputId": "188b3d3e-2ff2-4fdc-9030-3f1e63881f3b"
      },
      "source": [
        "print('\\nSVC Model accuracy score\\n', round(accuracy_score(y_val, svc_prediction),2))\n",
        "\n",
        "print('\\nSVC Model macro f1 score\\n', round(f1_score(y_val, svc_prediction, average=\"macro\"),2))"
      ],
      "execution_count": null,
      "outputs": [
        {
          "output_type": "stream",
          "text": [
            "\n",
            "SVC Model accuracy score\n",
            " 0.74\n",
            "\n",
            "SVC Model macro f1 score\n",
            " 0.64\n"
          ],
          "name": "stdout"
        }
      ]
    },
    {
      "cell_type": "markdown",
      "metadata": {
        "id": "1ksQRpQUVxZW"
      },
      "source": [
        "### Evaluation of LGBMClassifier"
      ]
    },
    {
      "cell_type": "code",
      "metadata": {
        "id": "bGySChV1VxZX",
        "outputId": "715bb859-e724-4bf7-f741-4fc7e172f25b"
      },
      "source": [
        "print('\\nLightGBM\\n', confusion_matrix(y_val, lgbm_prediction))"
      ],
      "execution_count": null,
      "outputs": [
        {
          "output_type": "stream",
          "text": [
            "\n",
            "LightGBM\n",
            " [[  77   59  223   30]\n",
            " [  11  278  372   45]\n",
            " [  20  110 2187  242]\n",
            " [   3   26  265  798]]\n"
          ],
          "name": "stdout"
        }
      ]
    },
    {
      "cell_type": "code",
      "metadata": {
        "id": "7hnhF3aDVxZZ",
        "outputId": "6d9207a2-9255-432a-ab43-1b7354788780"
      },
      "source": [
        "print('\\nLightGBM\\n', classification_report(y_val, lgbm_prediction))"
      ],
      "execution_count": null,
      "outputs": [
        {
          "output_type": "stream",
          "text": [
            "\n",
            "LightGBM\n",
            "               precision    recall  f1-score   support\n",
            "\n",
            "          -1       0.69      0.20      0.31       389\n",
            "           0       0.59      0.39      0.47       706\n",
            "           1       0.72      0.85      0.78      2559\n",
            "           2       0.72      0.73      0.72      1092\n",
            "\n",
            "    accuracy                           0.70      4746\n",
            "   macro avg       0.68      0.54      0.57      4746\n",
            "weighted avg       0.70      0.70      0.68      4746\n",
            "\n"
          ],
          "name": "stdout"
        }
      ]
    },
    {
      "cell_type": "code",
      "metadata": {
        "id": "Or90IJa2VxZc"
      },
      "source": [
        "# # Visual represetation of of the f1 score for each class\n",
        "# report_lgbm = classification_report(y_val, lgbm_prediction, output_dict=True)\n",
        "# df_lgbm = pd.DataFrame(report_lgbm).transpose()\n",
        "# df_lgbm.drop(['accuracy'], inplace = True)\n",
        "# df_lgbm.sort_values(by=['f1-score'],ascending=True, inplace = True)\n",
        "# df_lgbm.drop(['weighted avg','macro avg'])['f1-score'].plot(kind='barh', figsize = (8,8))\n",
        "# plt.xlabel('f1-score')\n",
        "# plt.ylabel('Classes')\n",
        "# plt.yticks(rotation = 40)\n",
        "# plt.title('fi-score for each class')\n",
        "# plt.show()"
      ],
      "execution_count": null,
      "outputs": []
    },
    {
      "cell_type": "code",
      "metadata": {
        "id": "kLSA9n6WVxZ3",
        "outputId": "4bc3fefd-0c5b-41a3-c8b2-ac0c1442a3c9"
      },
      "source": [
        "print('\\nLightGBM accuracy score\\n', round(accuracy_score(y_val, lgbm_prediction),2))\n",
        "print('\\nLightGBM macro f1 score\\n', round(f1_score(y_val, lgbm_prediction, average=\"macro\"),2))"
      ],
      "execution_count": null,
      "outputs": [
        {
          "output_type": "stream",
          "text": [
            "\n",
            "LightGBM accuracy score\n",
            " 0.7\n",
            "\n",
            "LightGBM macro f1 score\n",
            " 0.57\n"
          ],
          "name": "stdout"
        }
      ]
    },
    {
      "cell_type": "markdown",
      "metadata": {
        "id": "X-nPqXDaVxZ8"
      },
      "source": [
        "### Comparison of base models"
      ]
    },
    {
      "cell_type": "code",
      "metadata": {
        "id": "maHewyvWVxZ8"
      },
      "source": [
        "classifier_scores = {'Classifiers':['Decision Tree', 'Random Forest','LinearSVC','LGBM'],\n",
        "                    'Accuracy':[0.6,0.7,0.74,0.7],'macro f1 Score':[0.49,0.53,0.64,0.57]}\n",
        "df= pd.DataFrame(classifier_scores)"
      ],
      "execution_count": null,
      "outputs": []
    },
    {
      "cell_type": "code",
      "metadata": {
        "id": "26ZkeZeDVxZ_"
      },
      "source": [
        "df.sort_values(by=['Accuracy'],ascending=True, inplace = True)"
      ],
      "execution_count": null,
      "outputs": []
    },
    {
      "cell_type": "code",
      "metadata": {
        "id": "IUyerjeFVxaF",
        "outputId": "0c262c4a-3e99-4249-ffcc-ddf43561a2bd"
      },
      "source": [
        "df.set_index(df['Classifiers'], inplace = True)\n",
        "df.drop(['Classifiers'],axis = 1)\n",
        "df.plot(kind='barh', figsize = (8,8))\n",
        "plt.xlabel('Score')\n",
        "plt.yticks(rotation = 40)\n",
        "plt.legend(bbox_to_anchor=(1.05, 1.0), loc='upper left')\n",
        "plt.show()"
      ],
      "execution_count": null,
      "outputs": [
        {
          "output_type": "display_data",
          "data": {
            "image/png": "[encoded data removed]",
            "text/plain": [
              "<Figure size 576x576 with 1 Axes>"
            ]
          },
          "metadata": {
            "tags": [],
            "needs_background": "light"
          }
        }
      ]
    },
    {
      "cell_type": "markdown",
      "metadata": {
        "id": "nAnAS7P5VxaI"
      },
      "source": [
        "<a id='clean_tweets'></a>\n",
        "## Modelling - Cleaned tweets"
      ]
    },
    {
      "cell_type": "markdown",
      "metadata": {
        "id": "2XtL5fvjVxaL"
      },
      "source": [
        "## TF-IDF"
      ]
    },
    {
      "cell_type": "code",
      "metadata": {
        "id": "kumkWjnEVxaM"
      },
      "source": [
        "# build pipepiles with cleaned tweets and evaluate them"
      ],
      "execution_count": null,
      "outputs": []
    },
    {
      "cell_type": "code",
      "metadata": {
        "id": "kYC6Fbe7VxaP"
      },
      "source": [
        ""
      ],
      "execution_count": null,
      "outputs": []
    },
    {
      "cell_type": "markdown",
      "metadata": {
        "id": "cI8TDX13VxaR"
      },
      "source": [
        "## Word2Vec"
      ]
    },
    {
      "cell_type": "code",
      "metadata": {
        "id": "KawWa-wgVxaR"
      },
      "source": [
        ""
      ],
      "execution_count": null,
      "outputs": []
    },
    {
      "cell_type": "code",
      "metadata": {
        "id": "tPT6g5VmVxaV"
      },
      "source": [
        "# Checking model perfomance before and after data processing"
      ],
      "execution_count": null,
      "outputs": []
    },
    {
      "cell_type": "code",
      "metadata": {
        "id": "31Ogyz7xVxaX"
      },
      "source": [
        "# Checking model perfomance with tfidfvectorizer and word2vec embeddings"
      ],
      "execution_count": null,
      "outputs": []
    },
    {
      "cell_type": "code",
      "metadata": {
        "id": "BlDSUnquVxbE"
      },
      "source": [
        ""
      ],
      "execution_count": null,
      "outputs": []
    },
    {
      "cell_type": "markdown",
      "metadata": {
        "id": "ocvtx3_dVxbK"
      },
      "source": [
        "## Pipelines using TF-IDF Features"
      ]
    },
    {
      "cell_type": "markdown",
      "metadata": {
        "id": "Cj2oSgGOVxbL"
      },
      "source": [
        "## Pipelines using Word2Vec Features"
      ]
    },
    {
      "cell_type": "code",
      "metadata": {
        "id": "kG_nw9ZnVxbL"
      },
      "source": [
        ""
      ],
      "execution_count": null,
      "outputs": []
    },
    {
      "cell_type": "markdown",
      "metadata": {
        "id": "CAtILP64VxbN"
      },
      "source": [
        "## Model Evaluation\n",
        "* look at the performance of each model using  metrics like accuracy, Confusion matricx, classification report, F1 and accurary."
      ]
    },
    {
      "cell_type": "markdown",
      "metadata": {
        "id": "SGMsB5tiVxbP"
      },
      "source": [
        "# Visualize Model perfomances based on F1 score\n",
        "* bar plot"
      ]
    },
    {
      "cell_type": "markdown",
      "metadata": {
        "id": "zCd5wjWyVxbP"
      },
      "source": [
        "<a id='ensemble'></a>\n",
        "# Ensembel Method\n",
        "*  voting classifer "
      ]
    },
    {
      "cell_type": "markdown",
      "metadata": {
        "id": "9aPRY4dGVxbQ"
      },
      "source": [
        "<a id='cham_model'></a>\n",
        "# Choosing the champion model\n"
      ]
    },
    {
      "cell_type": "markdown",
      "metadata": {
        "id": "sr8XEUmUVxbQ"
      },
      "source": [
        "<a id='hy_tunning'></a>\n",
        "# Hyperparameter Tunning\n",
        "* Select top 3 best performing models\n",
        "* Methods\n",
        "  * Randomized Search\n",
        "  * GridSearchCV\n",
        "  * KfoldCross Validation"
      ]
    },
    {
      "cell_type": "markdown",
      "metadata": {
        "id": "7vKyF-gdVxbQ"
      },
      "source": [
        "<a id='predictions'></a>\n",
        "# Final prediction"
      ]
    },
    {
      "cell_type": "markdown",
      "metadata": {
        "id": "-Z6NbnEPVxbR"
      },
      "source": [
        "<a id='submission'></a>\n",
        "# Creating an output csv for submission\n",
        "* create a csv file with prediction from our best performing model"
      ]
    },
    {
      "cell_type": "code",
      "metadata": {
        "id": "rIL7JdkiVxbY"
      },
      "source": [
        "# test['sentiment'] = y_pred"
      ],
      "execution_count": null,
      "outputs": []
    },
    {
      "cell_type": "code",
      "metadata": {
        "id": "G_sR1mguVxbc"
      },
      "source": [
        "# test[['tweetid','sentiment']].to_csv('testsubmission.csv', index=False)"
      ],
      "execution_count": null,
      "outputs": []
    },
    {
      "cell_type": "code",
      "metadata": {
        "id": "Ej3l2xDfVxbe"
      },
      "source": [
        "t"
      ],
      "execution_count": null,
      "outputs": []
    },
    {
      "cell_type": "markdown",
      "metadata": {
        "id": "A4zeujDpVxbk"
      },
      "source": [
        ""
      ]
    },
    {
      "cell_type": "code",
      "metadata": {
        "id": "nSkDsJzkVxbk"
      },
      "source": [
        "# close the experiment\n",
        "#experiment.end()"
      ],
      "execution_count": null,
      "outputs": []
    },
    {
      "cell_type": "code",
      "metadata": {
        "id": "I4t8yM8YVxbp"
      },
      "source": [
        "#experiment.display()"
      ],
      "execution_count": null,
      "outputs": []
    },
    {
      "cell_type": "markdown",
      "metadata": {
        "id": "nUJ4joelVxbr"
      },
      "source": [
        "<a id='conclusion'></a>\n",
        "# Conclusion"
      ]
    },
    {
      "cell_type": "markdown",
      "metadata": {
        "id": "S7mpqti-Vxbr"
      },
      "source": [
        "\n",
        "<a id='appendix'></a>\n",
        "# Appendix\n",
        "* Things we did but couldnt fit anywhere in the notebook"
      ]
    },
    {
      "cell_type": "markdown",
      "metadata": {
        "id": "f4rk4oSAVxbs"
      },
      "source": [
        "<a id='references'></a>\n",
        "# References"
      ]
    },
    {
      "cell_type": "markdown",
      "metadata": {
        "id": "1lCoUJByVxbs"
      },
      "source": [
        "TF-IDF Explained And Python Sklearn Implementation :\n",
        "https://towardsdatascience.com/tf-idf-explained-and-python-sklearn-implementation-b020c5e83275\n",
        "\n",
        "Decision Trees Explained Easily :\n",
        "https://medium.com/@chiragsehra42/decision-trees-explained-easily-28f23241248\n",
        "\n",
        "Understanding Random Forests Classifiers in Python :\n",
        "https://www.datacamp.com/community/tutorials/random-forests-classifier-python\n",
        "\n",
        "What is LightGBM, How to implement it? How to fine tune the parameters?\n",
        "https://medium.com/@pushkarmandot/https-medium-com-pushkarmandot-what-is-lightgbm-how-to-implement-it-how-to-fine-tune-the-parameters-60347819b7fc\n",
        "\n",
        "Using word2vec embeddings as featrues :\n",
        "https://www.kaggle.com/vladislavkisin/word2vec-in-supervised-nlp-tasks-shortcut\n",
        "\n",
        "A hands-on intuitive approach to Deep Learning Methods for Text Data — Word2Vec, GloVe and FastText\n",
        "https://towardsdatascience.com/understanding-feature-engineering-part-4-deep-learning-methods-for-text-data-96c44370bbfa"
      ]
    },
    {
      "cell_type": "code",
      "metadata": {
        "id": "BH7KfbWdVxbs"
      },
      "source": [
        ""
      ],
      "execution_count": null,
      "outputs": []
    },
    {
      "cell_type": "code",
      "metadata": {
        "id": "reykfqoeVxbu"
      },
      "source": [
        ""
      ],
      "execution_count": null,
      "outputs": []
    }
  ]
}