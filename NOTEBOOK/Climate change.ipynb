{
 "cells": [
  {
   "cell_type": "markdown",
   "metadata": {},
   "source": [
    "# CLASSIFICATION CHALLENGE"
   ]
  },
  {
   "cell_type": "markdown",
   "metadata": {},
   "source": [
    "# Outline\n",
    "\n",
    "- [Introduction](#Introduction)\n",
    "- [Import necessary libraries](#Import)\n",
    "- [Loading Datasets](#Load)\n",
    "- [Data Preprocessing](#section-four)\n",
    "- EDA\n",
    "  * Analysis of the data\n",
    "  \n",
    "- [Classification Models](#)  \n",
    "- [Feature Egineering](#feature_engineering)\n",
    " * [TF-IDF](#tfidf)\n",
    " * [WORD2VEC](word2vec) \n",
    "- [Pipelines](#Pipelines)\n",
    "  * [Using TF-IDF](#pipe_tfidf)\n",
    "  * [Using Word2Vec](#pipe_word2vec)\n",
    "- [Modelling and Evaluation](#model_eval)\n",
    "  * [Modelling - Raw tweets](#raw_tweets)\n",
    "  * [Modelling - Cleaned tweets](#clean_tweets)\n",
    "  * [Model perfomance (raw tweets vs cleaned tweets)](#rvc)\n",
    "  * [Model perfomance (tfidf vs word2vec)](tfidfvsword2vec)\n",
    "- [Ensemble Method](#ensemble)\n",
    "- [Choosing the champion model](#cham_model)\n",
    "- [Hyperparameter tunning](#hy_tunning)\n",
    "- [Predictions](#predictions)\n",
    "- [Submission](#submission)  \n",
    "- [Conclusion](#conclusion)\n",
    "- [Appendix](#appendix)\n",
    "- [Refferences](#refferences)\n",
    "    \n",
    "    \n"
   ]
  },
  {
   "cell_type": "markdown",
   "metadata": {},
   "source": [
    "# Introduction"
   ]
  },
  {
   "cell_type": "markdown",
   "metadata": {},
   "source": [
    "Companies are constructed around lessening ones environment impact or carbon footprint. They offer products and services that are environmentally friendly and sustainable, in line with their values and ideals. They would like to determine how people perceive climate change and whether or not they believe it is a real threat. "
   ]
  },
  {
   "cell_type": "markdown",
   "metadata": {},
   "source": [
    "**Problen Statement**"
   ]
  },
  {
   "cell_type": "markdown",
   "metadata": {},
   "source": [
    "Create a Natural Language Processing model to classify whether or not a person believes in climate change, based on their novel tweet data. "
   ]
  },
  {
   "cell_type": "markdown",
   "metadata": {},
   "source": [
    "<a id=\"comet\"></a>\n",
    "# Starting a Comet experiment\n",
    "<img src=\"https://www.comet.ml/images/logo_comet_light.png\" width=\"350\" alt=\"Drawing\" style=\"width: 350px;\"/>\n",
    "We will be using Comet as a form of version control throughout the development of our model"
   ]
  },
  {
   "cell_type": "code",
   "execution_count": null,
   "metadata": {},
   "outputs": [],
   "source": [
    "# install comet\n",
    "# !pip install comet_ml"
   ]
  },
  {
   "cell_type": "code",
   "execution_count": null,
   "metadata": {},
   "outputs": [],
   "source": [
    "# importing Experiment from comet\n",
    "# from comet_ml import Experiment"
   ]
  },
  {
   "cell_type": "code",
   "execution_count": null,
   "metadata": {},
   "outputs": [],
   "source": [
    "# # Linking our current workspace to comet by creating an experiment with our api key:\n",
    "# experiment = Experiment(\n",
    "#     api_key=\"YBjEZqF3vM9CQLf2Lx7GeSw0C\",\n",
    "#     project_name=\"general\",\n",
    "#     workspace=\"mpho-mokhokane\",\n",
    "# )"
   ]
  },
  {
   "cell_type": "markdown",
   "metadata": {},
   "source": [
    "<a id='Import'></a>\n",
    "# Import necessary libraries"
   ]
  },
  {
   "cell_type": "code",
   "execution_count": 2,
   "metadata": {
    "_cell_guid": "b1076dfc-b9ad-4769-8c92-a6c4dae69d19",
    "_uuid": "8f2839f25d086af736a60e9eeb907d3b93b6e0e5"
   },
   "outputs": [],
   "source": [
    "# imports for data visualisation\n",
    "\n",
    "import seaborn as sns\n",
    "from scipy import stats\n",
    "import matplotlib.pyplot as plt\n",
    "%matplotlib inline\n",
    "\n",
    "# imports for Natural Language  Processing\n",
    "import pandas as pd\n",
    "import numpy as np\n",
    "import nltk\n",
    "import string\n",
    "import re\n",
    "from sklearn.feature_extraction.text import TfidfVectorizer\n",
    "from sklearn.linear_model import LogisticRegression\n",
    "from sklearn.naive_bayes import MultinomialNB\n",
    "from sklearn.ensemble import RandomForestClassifier, AdaBoostClassifier\n",
    "from sklearn.svm import LinearSVC\n",
    "from sklearn.pipeline import Pipeline\n",
    "from xgboost import XGBRFClassifier\n",
    "from lightgbm import LGBMClassifier\n",
    "from sklearn.tree import DecisionTreeClassifier\n",
    "from sklearn.ensemble import RandomForestClassifier\n",
    "from sklearn.model_selection import train_test_split\n",
    "from sklearn.naive_bayes import MultinomialNB\n",
    "from nltk.stem import WordNetLemmatizer\n",
    "from nltk.corpus import stopwords\n",
    "\n",
    "from sklearn.metrics import f1_score, accuracy_score, confusion_matrix, classification_report\n",
    "\n",
    "\n"
   ]
  },
  {
   "cell_type": "markdown",
   "metadata": {},
   "source": [
    "<a id='Load'></a>\n",
    "# Load and view the data"
   ]
  },
  {
   "cell_type": "code",
   "execution_count": 3,
   "metadata": {
    "_cell_guid": "79c7e3d0-c299-4dcb-8224-4455121ee9b0",
    "_uuid": "d629ff2d2480ee46fbb7e2d37f6b5fab8052498a"
   },
   "outputs": [],
   "source": [
    "# Importing the train & test data sets\n",
    "train = pd.read_csv('../input/climate-change-edsa2020-21/train.csv')\n",
    "test = pd.read_csv('../input/climate-change-edsa2020-21/test.csv')"
   ]
  },
  {
   "cell_type": "markdown",
   "metadata": {},
   "source": [
    "# Data Preprocessing"
   ]
  },
  {
   "cell_type": "code",
   "execution_count": null,
   "metadata": {},
   "outputs": [],
   "source": []
  },
  {
   "cell_type": "code",
   "execution_count": null,
   "metadata": {},
   "outputs": [],
   "source": []
  },
  {
   "cell_type": "code",
   "execution_count": null,
   "metadata": {},
   "outputs": [],
   "source": []
  },
  {
   "cell_type": "code",
   "execution_count": null,
   "metadata": {},
   "outputs": [],
   "source": []
  },
  {
   "cell_type": "markdown",
   "metadata": {},
   "source": [
    "# Explonatory Data Analysis"
   ]
  },
  {
   "cell_type": "code",
   "execution_count": null,
   "metadata": {},
   "outputs": [],
   "source": []
  },
  {
   "cell_type": "code",
   "execution_count": null,
   "metadata": {},
   "outputs": [],
   "source": []
  },
  {
   "cell_type": "code",
   "execution_count": null,
   "metadata": {},
   "outputs": [],
   "source": []
  },
  {
   "cell_type": "code",
   "execution_count": null,
   "metadata": {},
   "outputs": [],
   "source": []
  },
  {
   "cell_type": "code",
   "execution_count": null,
   "metadata": {},
   "outputs": [],
   "source": []
  },
  {
   "cell_type": "code",
   "execution_count": null,
   "metadata": {},
   "outputs": [],
   "source": []
  },
  {
   "cell_type": "code",
   "execution_count": null,
   "metadata": {},
   "outputs": [],
   "source": []
  },
  {
   "cell_type": "code",
   "execution_count": null,
   "metadata": {},
   "outputs": [],
   "source": []
  },
  {
   "cell_type": "markdown",
   "metadata": {},
   "source": [
    "<a id='basemodels'></a>\n",
    "# Classification Models\n",
    "We're going to look at the following models,"
   ]
  },
  {
   "cell_type": "markdown",
   "metadata": {},
   "source": [
    "*  Decision Tree Classifier<a id='DS'></a>\n",
    "*  RandomForest Classifier<a id='random'></a>\n",
    "*  LinearSVC(Support Vector Classifier)<a id='svc'></a>\n",
    "*  LGBMClassifier(Light Gradient Boosting Machine Classifier)<a id='LGBM'></a>\n"
   ]
  },
  {
   "cell_type": "markdown",
   "metadata": {},
   "source": [
    "<a id='tree'></a>\n",
    "## Tree-based Models for Classification"
   ]
  },
  {
   "cell_type": "markdown",
   "metadata": {},
   "source": [
    "<a id='DC'></a>\n",
    "### Decision Tree Classifier\n",
    "\n",
    "![1*bcLAJfWN2GpVQNTVOCrrvw.png](https://miro.medium.com/max/688/1*bcLAJfWN2GpVQNTVOCrrvw.png)\n",
    "Decision Trees (DTs) are  non-parametric supervised learning methods used for classification and regression. Decision trees learn from data to approximate a sine curve with a set of if-then-else decision rules. The deeper the tree, the more complex the decision rules and the fitter the model.\n",
    "\n",
    "Decision tree builds classification or regression models in the form of a tree structure. It breaks down data by partitioning it into subsets after each decision while at the same time an associated decision tree is incrementally developed. The final result is a tree with decision nodes and leaf nodes. A decision node has two or more branches. Leaf node represents a classification or decision. The topmost decision node in a tree which corresponds to the best predictor called root node. Decision trees can handle both categorical and numerical data.\n",
    "\n",
    "Visual representation of a `Decision Tree`\n",
    "![1*WerHJ14JQAd3j8ASaVjAhw.jpeg](https://miro.medium.com/max/963/1*WerHJ14JQAd3j8ASaVjAhw.jpeg)\n",
    "\n",
    "\n",
    "Decision trees are prone to overfitting. Overfitting happens when the learning algorithm continues to develop hypotheses that reduce training set error at the cost of an increased test set error; One method to tackle overfitting in decision trees is by **prunning**.\n",
    "There are several approaches used to avoid overfitting in building decision trees namely, \t\t\n",
    "- Pre-pruning that stops growing the tree earlier, before it perfectly classifies the training set.\n",
    "- Post-pruning that allows the tree to perfectly classify the training set, and then post prune the tree. \n",
    "Practically, the second approach of post-pruning overfit trees is more successful because it is not easy to precisely estimate when to stop growing the tree.\n",
    "\n",
    "Decision Trees are building blocks for the next machine learning method we will look into, which is the **Random Forest Classifier**"
   ]
  },
  {
   "cell_type": "markdown",
   "metadata": {},
   "source": [
    "<a id='random'></a>\n",
    "### Random Forest Classifier\n",
    "`Random forest` is a supervised learning algorithm that can be used both for classification and regression. A forest is comprised of a number of individual trees. It is said that the more trees it has, the more robust a forest is, unlike decision trees `Random Forest`  prevents overfitting by creating trees on random subsets  \n",
    "\n",
    "The Random forest algorithm works in four steps\n",
    "\n",
    " 1. Selects a number of random samples from a given dataset\n",
    " 2. Construct a decision tree for each sample and get a prediction result from each decision tree\n",
    " 3. Perform a vote for each predicted result.\n",
    " 4. Select the prediction result with the most votes as the final prediction.\n",
    "\n",
    "a visual representation of a Random Forest classifier is seen in the diagram below\n",
    "![voting_dnjweq.jpg](https://res.cloudinary.com/dyd911kmh/image/upload/f_auto,q_auto:best/v1526467744/voting_dnjweq.jpg)\n",
    "\n",
    "\n",
    "\n"
   ]
  },
  {
   "cell_type": "markdown",
   "metadata": {},
   "source": [
    "## Support Vector Classification(LinearSVC)\n",
    "SVM or Support Vector Machine is a linear model for classification and regression problems. It can solve linear and non-linear problems and work well for many practical problems. The idea of SVM is simple: The algorithm creates a line or a hyperplane which separates the data into classes as seen in the diagram below\n",
    "\n",
    "![1*dh0lzq0QNCOyRlX1Ot4Vow.jpeg](https://miro.medium.com/max/963/1*dh0lzq0QNCOyRlX1Ot4Vow.jpeg)\n",
    "\n",
    "To better explain the concept of `SVM` we will look at a case of two classes.\n",
    "\n",
    "**To find the best line seperating the classes**\n",
    "\n",
    "The `SVM` algorithm finds the points closest to the line from both the classes.These points are called support vectors, then it compute the distance between the line and the support vectors, This distance is called the margin. Our goal is to maximize the margin.\n",
    "\n",
    "In a case for more than two classes the goal is to find the the best hyperplane that seperates the classes.\n",
    "The hyperplane for which the margin is maximum is the optimal hyperplane.\n",
    "\n",
    "Below is a visual representation of how `SVMs` work\n",
    "\n",
    "<p float=\"left\">\n",
    "  <img src=\"https://miro.medium.com/max/880/1*VDATmWG1E1ZNg7hdasOh5g.png\" width=\"400\" />\n",
    "  <img src=\"https://miro.medium.com/max/880/1*AMR3v-jCvUMXPUtQskzxmQ.png\" width=\"400\" />\n",
    "  <img src=\"https://miro.medium.com/max/880/1*irg_jfdAar9gfe0j-Q04vQ.png\" width=\"400\" />\n",
    "</p>\n",
    "\n",
    "\n",
    "\n"
   ]
  },
  {
   "cell_type": "markdown",
   "metadata": {},
   "source": [
    "## Light Gradient Boosting Machine(LightGBM)\n",
    "LightGBM is a gradient boosting framework that also uses a tree based learning algorithm. LightGBM differes from other tree based algorithms in the sense that it grows trees vertifically while other algorithms grow them horizontally, this means that Light GBM grows trees leaf-wise while other algorithm grow level-wise.\n",
    "\n",
    "LightGBM will choose the leaf with max delta loss to grow. When growing the same leaf, Leaf-wise algorithm can reduce more loss than a level-wise algorithm.\n",
    "The diagrams below explain the implementation of LightGBM and other boosting algorithms\n",
    "\n",
    "\n",
    "How Light GBM works![1*AZsSoXb8lc5N6mnhqX5JCg.png](https://miro.medium.com/max/875/1*AZsSoXb8lc5N6mnhqX5JCg.png)\n",
    "\n",
    "How other tree based algorithms work\n",
    "![1*whSa8rY4sgFQj1rEcWr8Ag.png](https://miro.medium.com/max/875/1*whSa8rY4sgFQj1rEcWr8Ag.png)\n",
    "\n",
    "some adcantages of LightGBM framework include\n",
    "- Faster training speed and higher efficiency.\n",
    "- Lower memory usage.\n",
    "- Better accuracy.\n",
    "- Support of parallel and GPU learning.\n",
    "- Capable of handling large-scale data"
   ]
  },
  {
   "cell_type": "markdown",
   "metadata": {},
   "source": [
    "# Creating our X and y Metrics"
   ]
  },
  {
   "cell_type": "code",
   "execution_count": null,
   "metadata": {},
   "outputs": [],
   "source": [
    "X = train['message']\n",
    "y = train['sentiment']"
   ]
  },
  {
   "cell_type": "markdown",
   "metadata": {},
   "source": [
    "# Splitting data into train and validation sets\n",
    "\n",
    "Separating data into training and validation sets is an important part of evaluating our models. \n",
    "In our case we will randomly split the train data into 70% train and 30% validation. \n",
    "After our model is trained with the train data we then use it to make predictions for the target using the validation set,Because the data in the validation set already contains known values for the target variable this will make it easy  for us to asses our model's accuracy."
   ]
  },
  {
   "cell_type": "code",
   "execution_count": 5,
   "metadata": {},
   "outputs": [],
   "source": [
    "# Splitting the data into 70% train and 30% validation set\n",
    "X_train,X_val,y_train,y_val = train_test_split(X,y,test_size=.3,shuffle=True, stratify=y, random_state=11)"
   ]
  },
  {
   "cell_type": "markdown",
   "metadata": {},
   "source": [
    "<a id='feature_engineering'></a>\n",
    "# Feature Engineering\n",
    "We will be looking at two methods of feature selection in text data namely the `tfidfVectorizer` and `word2vec`\n",
    "\n",
    "<a id='tfidf'></a>\n",
    "`TF-IDF` stands for Term Frequency — Inverse Document Frequency and is a statistic that aims to better define how important a word is for a document, while also taking into account the relation to other documents from the same corpus.\n",
    "This is performed by looking at how many times a word appears into a document while also paying attention to how many times the same word appears in other documents in the corpus.\n",
    "`vocabulary_` Is a dictionary that converts each word in the text to feature index in the matrix, each unique token gets a feature index\n",
    "\n",
    "<a id='word2vec'></a>\n",
    "**WORD2VEC EMBEDDINGS AS FEATURES**\n",
    "\n",
    "`Word2vec` is a predictive deep learning based model to compute and generate high quality, distributed and continuous dense vector representations of words, which capture contextual and semantic similarity. Essentially these are unsupervised models which can take in massive textual corpora, create a vocabulary of possible words and generate dense word embeddings for each word in the vector space representing that vocabulary. \n",
    "The main idea is to encode words with close meaning that can substitute each other in a context as close vectors in an X-dimensional space, although this method is generally used for unsupervised learnining it can also be used in supervised learning.\n",
    "\n",
    "\n",
    "\n"
   ]
  },
  {
   "cell_type": "markdown",
   "metadata": {},
   "source": [
    "<a id='Pipelines'></a>\n",
    "# Pipelines\n",
    "![cover.png](https://www.houseofbots.com/images/news/11939/cover.png)\n",
    "`Pipeline`  by definition is a tool that sequentially applies a list of transforms and a final estimator. Intermediate steps of pipeline implement fit and transform methods and the final estimator only needs to implement fit. In our case pipelines will help us tranform the train, validation and test data as well as train our models.\n",
    "\n",
    "Since our models can only process numerical data our first step is to build a pipeline that converts text data into numeric data, In this notebook we will be focusing on two methods of feature engineering, which we will use to convert text data to numeric data, namely TfidfVectorizer and Word2Vec, then we will train our models within these pipelines\n",
    "\n",
    "We will be building two sets of pipelines one with features generated using `tfidfVectorizer` and the second one using `word2vec` embeddings as features"
   ]
  },
  {
   "cell_type": "markdown",
   "metadata": {},
   "source": [
    "<a id='model_eval'></a>\n",
    "# Modelling and Evaluation"
   ]
  },
  {
   "cell_type": "markdown",
   "metadata": {},
   "source": [
    "<a id='raw_tweets'></a>\n",
    "## Modelling - Raw tweets\n",
    "* We doing this so that later we can check if our preprocessing steps actually improved model performances"
   ]
  },
  {
   "cell_type": "code",
   "execution_count": 6,
   "metadata": {},
   "outputs": [
    {
     "data": {
      "text/plain": [
       "Pipeline(steps=[('tfidf', TfidfVectorizer()), ('lgbm', LGBMClassifier())])"
      ]
     },
     "execution_count": 6,
     "metadata": {},
     "output_type": "execute_result"
    }
   ],
   "source": [
    "# DecisionTreeClassifier Pipeline\n",
    "tree = Pipeline([('tfidf', TfidfVectorizer()),('tree', DecisionTreeClassifier()),])\n",
    "#training the decision tree pipeline\n",
    "tree.fit(X_train, y_train)\n",
    "\n",
    "\n",
    "# RandomForestClassifier Pipeline\n",
    "rfc = Pipeline([('tfidf', TfidfVectorizer()), ('rfc', RandomForestClassifier())])\n",
    "# training the RandomForest pipleline\n",
    "rfc.fit(X_train, y_train)\n",
    "\n",
    "\n",
    "# LinearSVC Pipeline\n",
    "svc = Pipeline([('tfidf', TfidfVectorizer()),\n",
    "                     ('scv', LinearSVC()),])\n",
    "# training the LinearSVC pipeline\n",
    "svc.fit(X_train, y_train)  \n",
    "\n",
    "\n",
    "\n",
    "# LGBMClassifier Pipeline\n",
    "lgbm = Pipeline([('tfidf', TfidfVectorizer()), ('lgbm', LGBMClassifier())])\n",
    "# training the LGBMClassifier Pipleine\n",
    "lgbm.fit(X_train, y_train)\n",
    "\n"
   ]
  },
  {
   "cell_type": "markdown",
   "metadata": {},
   "source": [
    "<a id='model_eval'></a>\n",
    "## Model evalution"
   ]
  },
  {
   "cell_type": "markdown",
   "metadata": {},
   "source": [
    "To evaluate the base models we first start with making predictions for the validation set"
   ]
  },
  {
   "cell_type": "code",
   "execution_count": 7,
   "metadata": {},
   "outputs": [],
   "source": [
    "# Making validations set predicions\n",
    "\n",
    "tree_prediction = tree.predict(X_val) # DecisionTreeClassifier predictions\n",
    "rfc_prediction = rfc.predict(X_val) # RandomForestClassifier predictions\n",
    "svc_prediction = svc.predict(X_val) # LinearSVClassifier Predictions\n",
    "lgbm_prediction = lgbm.predict(X_val) # LGBMClassifier Model predictions"
   ]
  },
  {
   "cell_type": "markdown",
   "metadata": {},
   "source": [
    "### Evalution of DecisionTreeClassifier"
   ]
  },
  {
   "cell_type": "code",
   "execution_count": 8,
   "metadata": {},
   "outputs": [
    {
     "name": "stdout",
     "output_type": "stream",
     "text": [
      "\n",
      "Decision Tree\n",
      " [[ 106   71  157   55]\n",
      " [  41  281  330   54]\n",
      " [  88  300 1834  337]\n",
      " [  21   74  341  656]]\n"
     ]
    }
   ],
   "source": [
    "# Report the confusion matrix\n",
    "\n",
    "print('\\nDecision Tree\\n', confusion_matrix(y_val, tree_prediction))\n"
   ]
  },
  {
   "cell_type": "code",
   "execution_count": 9,
   "metadata": {},
   "outputs": [
    {
     "name": "stdout",
     "output_type": "stream",
     "text": [
      "\n",
      "Decision Tree\n",
      "               precision    recall  f1-score   support\n",
      "\n",
      "          -1       0.41      0.27      0.33       389\n",
      "           0       0.39      0.40      0.39       706\n",
      "           1       0.69      0.72      0.70      2559\n",
      "           2       0.60      0.60      0.60      1092\n",
      "\n",
      "    accuracy                           0.61      4746\n",
      "   macro avg       0.52      0.50      0.51      4746\n",
      "weighted avg       0.60      0.61      0.60      4746\n",
      "\n"
     ]
    }
   ],
   "source": [
    "# Print a classification report\n",
    "\n",
    "print('\\nDecision Tree\\n', classification_report(y_val, tree_prediction))\n",
    "\n"
   ]
  },
  {
   "cell_type": "code",
   "execution_count": 10,
   "metadata": {},
   "outputs": [
    {
     "name": "stdout",
     "output_type": "stream",
     "text": [
      "\n",
      "Decision Tree accuracy Score\n",
      " 0.61\n",
      "\n",
      "Decision Tree macro f1 score\n",
      " 0.51\n"
     ]
    }
   ],
   "source": [
    "# Print the overall accuracy\n",
    "print('\\nDecision Tree accuracy Score\\n', round(accuracy_score(y_val, tree_prediction),2))\n",
    "print('\\nDecision Tree macro f1 score\\n', round(f1_score(y_val, tree_prediction, average=\"macro\"),2))\n"
   ]
  },
  {
   "cell_type": "markdown",
   "metadata": {},
   "source": [
    "### Evalution of RandomForestClassifier"
   ]
  },
  {
   "cell_type": "code",
   "execution_count": 11,
   "metadata": {},
   "outputs": [
    {
     "name": "stdout",
     "output_type": "stream",
     "text": [
      "\n",
      "RandomForestClassifier\n",
      " [[  47   36  286   20]\n",
      " [   2  213  449   42]\n",
      " [   1   50 2319  189]\n",
      " [   0    3  332  757]]\n"
     ]
    }
   ],
   "source": [
    "print('\\nRandomForestClassifier\\n', confusion_matrix(y_val, rfc_prediction))\n"
   ]
  },
  {
   "cell_type": "code",
   "execution_count": 12,
   "metadata": {},
   "outputs": [
    {
     "name": "stdout",
     "output_type": "stream",
     "text": [
      "\n",
      "RandomForestClassifier\n",
      "               precision    recall  f1-score   support\n",
      "\n",
      "          -1       0.94      0.12      0.21       389\n",
      "           0       0.71      0.30      0.42       706\n",
      "           1       0.68      0.91      0.78      2559\n",
      "           2       0.75      0.69      0.72      1092\n",
      "\n",
      "    accuracy                           0.70      4746\n",
      "   macro avg       0.77      0.51      0.53      4746\n",
      "weighted avg       0.72      0.70      0.67      4746\n",
      "\n"
     ]
    }
   ],
   "source": [
    "print('\\nRandomForestClassifier\\n', classification_report(y_val, rfc_prediction))\n"
   ]
  },
  {
   "cell_type": "code",
   "execution_count": 13,
   "metadata": {},
   "outputs": [
    {
     "name": "stdout",
     "output_type": "stream",
     "text": [
      "\n",
      "RandomForestClassifier accuracy score\n",
      " 0.7\n",
      "\n",
      "RandomForestClassifier macro f1 score\n",
      " 0.53\n"
     ]
    }
   ],
   "source": [
    "print('\\nRandomForestClassifier accuracy score\\n', round(accuracy_score(y_val, rfc_prediction),2))\n",
    "print('\\nRandomForestClassifier macro f1 score\\n', round(f1_score(y_val, rfc_prediction, average=\"macro\"),2))"
   ]
  },
  {
   "cell_type": "markdown",
   "metadata": {},
   "source": [
    "### Evaluation of LinearSVClassifier"
   ]
  },
  {
   "cell_type": "code",
   "execution_count": 14,
   "metadata": {},
   "outputs": [
    {
     "name": "stdout",
     "output_type": "stream",
     "text": [
      "\n",
      "SVC Model\n",
      " [[ 158   53  148   30]\n",
      " [  31  265  340   70]\n",
      " [  35   95 2203  226]\n",
      " [   6   15  191  880]]\n"
     ]
    }
   ],
   "source": [
    "print('\\nSVC Model\\n', confusion_matrix(y_val, svc_prediction))"
   ]
  },
  {
   "cell_type": "code",
   "execution_count": 15,
   "metadata": {},
   "outputs": [
    {
     "name": "stdout",
     "output_type": "stream",
     "text": [
      "\n",
      "SVC Model\n",
      "               precision    recall  f1-score   support\n",
      "\n",
      "          -1       0.69      0.41      0.51       389\n",
      "           0       0.62      0.38      0.47       706\n",
      "           1       0.76      0.86      0.81      2559\n",
      "           2       0.73      0.81      0.77      1092\n",
      "\n",
      "    accuracy                           0.74      4746\n",
      "   macro avg       0.70      0.61      0.64      4746\n",
      "weighted avg       0.73      0.74      0.72      4746\n",
      "\n"
     ]
    }
   ],
   "source": [
    "print('\\nSVC Model\\n', classification_report(y_val, svc_prediction))\n"
   ]
  },
  {
   "cell_type": "code",
   "execution_count": 2,
   "metadata": {},
   "outputs": [],
   "source": [
    "# # Visual represetation of of the f1 score for each class\n",
    "# report_svc = classification_report(y_val, svc_prediction, output_dict=True)\n",
    "# df_svc = pd.DataFrame(report_svc).transpose()\n",
    "# df_svc.drop(['accuracy'], inplace = True)\n",
    "# df_svc.sort_values(by=['f1-score'],ascending=True, inplace = True)\n",
    "# df_svc.drop(['weighted avg','macro avg'])['f1-score'].plot(kind='barh', figsize = (8,8))\n",
    "# plt.xlabel('f1-score')\n",
    "# plt.ylabel('Classes')\n",
    "# plt.yticks(rotation = 40)\n",
    "# plt.title('fi-score for each class')\n",
    "# plt.show()"
   ]
  },
  {
   "cell_type": "code",
   "execution_count": 18,
   "metadata": {},
   "outputs": [
    {
     "name": "stdout",
     "output_type": "stream",
     "text": [
      "\n",
      "SVC Model accuracy score\n",
      " 0.74\n",
      "\n",
      "SVC Model macro f1 score\n",
      " 0.64\n"
     ]
    }
   ],
   "source": [
    "print('\\nSVC Model accuracy score\\n', round(accuracy_score(y_val, svc_prediction),2))\n",
    "\n",
    "print('\\nSVC Model macro f1 score\\n', round(f1_score(y_val, svc_prediction, average=\"macro\"),2))"
   ]
  },
  {
   "cell_type": "markdown",
   "metadata": {},
   "source": [
    "### Evaluation of LGBMClassifier"
   ]
  },
  {
   "cell_type": "code",
   "execution_count": 19,
   "metadata": {},
   "outputs": [
    {
     "name": "stdout",
     "output_type": "stream",
     "text": [
      "\n",
      "LightGBM\n",
      " [[  77   59  223   30]\n",
      " [  11  278  372   45]\n",
      " [  20  110 2187  242]\n",
      " [   3   26  265  798]]\n"
     ]
    }
   ],
   "source": [
    "print('\\nLightGBM\\n', confusion_matrix(y_val, lgbm_prediction))"
   ]
  },
  {
   "cell_type": "code",
   "execution_count": 20,
   "metadata": {},
   "outputs": [
    {
     "name": "stdout",
     "output_type": "stream",
     "text": [
      "\n",
      "LightGBM\n",
      "               precision    recall  f1-score   support\n",
      "\n",
      "          -1       0.69      0.20      0.31       389\n",
      "           0       0.59      0.39      0.47       706\n",
      "           1       0.72      0.85      0.78      2559\n",
      "           2       0.72      0.73      0.72      1092\n",
      "\n",
      "    accuracy                           0.70      4746\n",
      "   macro avg       0.68      0.54      0.57      4746\n",
      "weighted avg       0.70      0.70      0.68      4746\n",
      "\n"
     ]
    }
   ],
   "source": [
    "print('\\nLightGBM\\n', classification_report(y_val, lgbm_prediction))"
   ]
  },
  {
   "cell_type": "code",
   "execution_count": 3,
   "metadata": {},
   "outputs": [],
   "source": [
    "# # Visual represetation of of the f1 score for each class\n",
    "# report_lgbm = classification_report(y_val, lgbm_prediction, output_dict=True)\n",
    "# df_lgbm = pd.DataFrame(report_lgbm).transpose()\n",
    "# df_lgbm.drop(['accuracy'], inplace = True)\n",
    "# df_lgbm.sort_values(by=['f1-score'],ascending=True, inplace = True)\n",
    "# df_lgbm.drop(['weighted avg','macro avg'])['f1-score'].plot(kind='barh', figsize = (8,8))\n",
    "# plt.xlabel('f1-score')\n",
    "# plt.ylabel('Classes')\n",
    "# plt.yticks(rotation = 40)\n",
    "# plt.title('fi-score for each class')\n",
    "# plt.show()"
   ]
  },
  {
   "cell_type": "code",
   "execution_count": 22,
   "metadata": {},
   "outputs": [
    {
     "name": "stdout",
     "output_type": "stream",
     "text": [
      "\n",
      "LightGBM accuracy score\n",
      " 0.7\n",
      "\n",
      "LightGBM macro f1 score\n",
      " 0.57\n"
     ]
    }
   ],
   "source": [
    "print('\\nLightGBM accuracy score\\n', round(accuracy_score(y_val, lgbm_prediction),2))\n",
    "print('\\nLightGBM macro f1 score\\n', round(f1_score(y_val, lgbm_prediction, average=\"macro\"),2))"
   ]
  },
  {
   "cell_type": "markdown",
   "metadata": {},
   "source": [
    "### Comparison of base models"
   ]
  },
  {
   "cell_type": "code",
   "execution_count": 21,
   "metadata": {},
   "outputs": [],
   "source": [
    "classifier_scores = {'Classifiers':['Decision Tree', 'Random Forest','LinearSVC','LGBM'],\n",
    "                    'Accuracy':[0.6,0.7,0.74,0.7],'macro f1 Score':[0.49,0.53,0.64,0.57]}\n",
    "df= pd.DataFrame(classifier_scores)"
   ]
  },
  {
   "cell_type": "code",
   "execution_count": 22,
   "metadata": {},
   "outputs": [],
   "source": [
    "df.sort_values(by=['Accuracy'],ascending=True, inplace = True)"
   ]
  },
  {
   "cell_type": "code",
   "execution_count": 23,
   "metadata": {},
   "outputs": [
    {
     "data": {
      "image/png": "[encoded data removed]",
      "text/plain": [
       "<Figure size 576x576 with 1 Axes>"
      ]
     },
     "metadata": {
      "needs_background": "light"
     },
     "output_type": "display_data"
    }
   ],
   "source": [
    "df.set_index(df['Classifiers'], inplace = True)\n",
    "df.drop(['Classifiers'],axis = 1)\n",
    "df.plot(kind='barh', figsize = (8,8))\n",
    "plt.xlabel('Score')\n",
    "plt.yticks(rotation = 40)\n",
    "plt.legend(bbox_to_anchor=(1.05, 1.0), loc='upper left')\n",
    "plt.show()"
   ]
  },
  {
   "cell_type": "markdown",
   "metadata": {},
   "source": [
    "<a id='clean_tweets'></a>\n",
    "## Modelling - Cleaned tweets"
   ]
  },
  {
   "cell_type": "markdown",
   "metadata": {},
   "source": [
    "## TF-IDF"
   ]
  },
  {
   "cell_type": "code",
   "execution_count": 5,
   "metadata": {},
   "outputs": [],
   "source": [
    "# build pipepiles with cleaned tweets and evaluate them"
   ]
  },
  {
   "cell_type": "code",
   "execution_count": null,
   "metadata": {},
   "outputs": [],
   "source": []
  },
  {
   "cell_type": "markdown",
   "metadata": {},
   "source": [
    "## Word2Vec"
   ]
  },
  {
   "cell_type": "code",
   "execution_count": null,
   "metadata": {},
   "outputs": [],
   "source": []
  },
  {
   "cell_type": "code",
   "execution_count": null,
   "metadata": {},
   "outputs": [],
   "source": [
    "# Checking model perfomance before and after data processing"
   ]
  },
  {
   "cell_type": "code",
   "execution_count": 6,
   "metadata": {},
   "outputs": [],
   "source": [
    "# Checking model perfomance with tfidfvectorizer and word2vec embeddings"
   ]
  },
  {
   "cell_type": "code",
   "execution_count": null,
   "metadata": {},
   "outputs": [],
   "source": []
  },
  {
   "cell_type": "markdown",
   "metadata": {},
   "source": [
    "## Pipelines using TF-IDF Features"
   ]
  },
  {
   "cell_type": "markdown",
   "metadata": {},
   "source": [
    "## Pipelines using Word2Vec Features"
   ]
  },
  {
   "cell_type": "code",
   "execution_count": null,
   "metadata": {},
   "outputs": [],
   "source": []
  },
  {
   "cell_type": "markdown",
   "metadata": {},
   "source": [
    "## Model Evaluation\n",
    "* look at the performance of each model using  metrics like accuracy, Confusion matricx, classification report, F1 and accurary."
   ]
  },
  {
   "cell_type": "markdown",
   "metadata": {},
   "source": [
    "# Visualize Model perfomances based on F1 score\n",
    "* bar plot"
   ]
  },
  {
   "cell_type": "markdown",
   "metadata": {},
   "source": [
    "<a id='ensemble'></a>\n",
    "# Ensembel Method\n",
    "*  voting classifer "
   ]
  },
  {
   "cell_type": "markdown",
   "metadata": {},
   "source": [
    "<a id='cham_model'></a>\n",
    "# Choosing the champion model\n"
   ]
  },
  {
   "cell_type": "markdown",
   "metadata": {},
   "source": [
    "<a id='hy_tunning'></a>\n",
    "# Hyperparameter Tunning\n",
    "* Select top 3 best performing models\n",
    "* Methods\n",
    "  * Randomized Search\n",
    "  * GridSearchCV\n",
    "  * KfoldCross Validation"
   ]
  },
  {
   "cell_type": "markdown",
   "metadata": {},
   "source": [
    "<a id='predictions'></a>\n",
    "# Final prediction"
   ]
  },
  {
   "cell_type": "markdown",
   "metadata": {},
   "source": [
    "<a id='submission'></a>\n",
    "# Creating an output csv for submission\n",
    "* create a csv file with prediction from our best performing model"
   ]
  },
  {
   "cell_type": "code",
   "execution_count": null,
   "metadata": {},
   "outputs": [],
   "source": [
    "# test['sentiment'] = y_pred"
   ]
  },
  {
   "cell_type": "code",
   "execution_count": 7,
   "metadata": {},
   "outputs": [],
   "source": [
    "# test[['tweetid','sentiment']].to_csv('testsubmission.csv', index=False)"
   ]
  },
  {
   "cell_type": "code",
   "execution_count": null,
   "metadata": {},
   "outputs": [],
   "source": [
    "t"
   ]
  },
  {
   "cell_type": "markdown",
   "metadata": {},
   "source": []
  },
  {
   "cell_type": "code",
   "execution_count": null,
   "metadata": {},
   "outputs": [],
   "source": [
    "# close the experiment\n",
    "#experiment.end()"
   ]
  },
  {
   "cell_type": "code",
   "execution_count": null,
   "metadata": {},
   "outputs": [],
   "source": [
    "#experiment.display()"
   ]
  },
  {
   "cell_type": "markdown",
   "metadata": {},
   "source": [
    "<a id='conclusion'></a>\n",
    "# Conclusion"
   ]
  },
  {
   "cell_type": "markdown",
   "metadata": {},
   "source": [
    "\n",
    "<a id='appendix'></a>\n",
    "# Appendix\n",
    "* Things we did but couldnt fit anywhere in the notebook"
   ]
  },
  {
   "cell_type": "markdown",
   "metadata": {},
   "source": [
    "<a id='refferences'></a>\n",
    "# Refferences"
   ]
  },
  {
   "cell_type": "markdown",
   "metadata": {},
   "source": [
    "TF-IDF Explained And Python Sklearn Implementation :\n",
    "https://towardsdatascience.com/tf-idf-explained-and-python-sklearn-implementation-b020c5e83275\n",
    "\n",
    "Decision Trees Explained Easily :\n",
    "https://medium.com/@chiragsehra42/decision-trees-explained-easily-28f23241248\n",
    "\n",
    "Understanding Random Forests Classifiers in Python :\n",
    "https://www.datacamp.com/community/tutorials/random-forests-classifier-python\n",
    "\n",
    "What is LightGBM, How to implement it? How to fine tune the parameters?\n",
    "https://medium.com/@pushkarmandot/https-medium-com-pushkarmandot-what-is-lightgbm-how-to-implement-it-how-to-fine-tune-the-parameters-60347819b7fc\n",
    "\n",
    "Using word2vec embeddings as featrues :\n",
    "https://www.kaggle.com/vladislavkisin/word2vec-in-supervised-nlp-tasks-shortcut\n",
    "\n",
    "A hands-on intuitive approach to Deep Learning Methods for Text Data — Word2Vec, GloVe and FastText\n",
    "https://towardsdatascience.com/understanding-feature-engineering-part-4-deep-learning-methods-for-text-data-96c44370bbfa"
   ]
  },
  {
   "cell_type": "code",
   "execution_count": null,
   "metadata": {},
   "outputs": [],
   "source": []
  },
  {
   "cell_type": "code",
   "execution_count": null,
   "metadata": {},
   "outputs": [],
   "source": []
  }
 ],
 "metadata": {
  "kernelspec": {
   "display_name": "Python 3",
   "language": "python",
   "name": "python3"
  },
  "language_info": {
   "codemirror_mode": {
    "name": "ipython",
    "version": 3
   },
   "file_extension": ".py",
   "mimetype": "text/x-python",
   "name": "python",
   "nbconvert_exporter": "python",
   "pygments_lexer": "ipython3",
   "version": "3.7.6"
  }
 },
 "nbformat": 4,
 "nbformat_minor": 4
}
