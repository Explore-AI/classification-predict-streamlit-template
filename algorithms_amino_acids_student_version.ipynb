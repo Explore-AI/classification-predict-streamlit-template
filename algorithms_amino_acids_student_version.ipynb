{
 "cells": [
  {
   "cell_type": "markdown",
   "metadata": {},
   "source": [
    "#  Amino Acids\n",
    "\n",
    "## Instructions to Students\n",
    "- **Do not add or remove cells in this notebook. Do not edit or remove the `### START FUNCTION` or `### END FUNCTION` comments. Do not add any code outside of the functions you are required to edit. Doing any of this will lead to a mark of 0%!**\n",
    "- Answer the questions according to the specifications provided.\n",
    "- Use the given cell in each question to to see if your function matches the expected outputs.\n",
    "- Do not hard-code answers to the questions.\n",
    "- The use of stackoverflow, google, and other online tools are permitted. However, copying fellow student's code is not permissible and is considered a breach of the Honour code below. Doing this will result in a mark of 0%.\n",
    "- Good luck, and may the force be with you!\n",
    "\n",
    "## Honour Code\n",
    "\n",
    "I **YOUR NAME, YOUR SURNAME**, confirm - by submitting this document - that the solutions in this notebook are a result of my own work and that I abide by the   <a href=\"https://drive.google.com/open?id=1FXCIf425JLRx3JQi-ltSWppj8BCF3Np1\" target=\"_blank\">EDSA Student Manifesto</a>.\n",
    "\n",
    "Non-compliance with the honour code constitutes a material breach of contract.\n",
    "\n",
    "## Challenge\n",
    "In order for protein to be formed, a chain of amino acids must be formed. These amino acids are formed with 3 base pairs. An example would be 'CUU' makes a Leucine ('Leu') amino acid. Remember that there are stop codons UAG, UGA, UAA which essentially ends the protein synthesis formation. This leaves you with a chain of amino acids that will be folded into a protien which hopefully becomes part of your python brain tissue!\n",
    "\n",
    "The function to be built, ```amino_acids```, must return a list of a tuple and an integer when given a string of mRNA code. The first tuple must contain all the amino acids and the integer must be the number of distinct amino acids. You can use the dictionary below to help with your function. The function must also not include the stop codon codes.\n",
    "\n",
    "NOTE : For this piece of code, we'll assume that there's only one stop codon in the sequence\n",
    "\n",
    "```python\n",
    "{'CUU': 'Leu', 'UAG': '---', 'ACA': 'Thr', 'AAA': 'Lys', 'AUC': 'Ile',\n",
    " 'AAC': 'Asn','AUA': 'Ile', 'AGG': 'Arg', 'CCU': 'Pro', 'ACU': 'Thr', \n",
    " 'AGC': 'Ser','AAG': 'Lys', 'AGA': 'Arg', 'CAU': 'His', 'AAU': 'Asn',\n",
    " 'AUU': 'Ile','CUG': 'Leu', 'CUA': 'Leu', 'CUC': 'Leu', 'CAC': 'His', \n",
    " 'UGG': 'Trp','CAA': 'Gln', 'AGU': 'Ser', 'CCA': 'Pro', 'CCG': 'Pro',\n",
    " 'CCC': 'Pro', 'UAU': 'Tyr', 'GGU': 'Gly', 'UGU': 'Cys', 'CGA': 'Arg', \n",
    " 'CAG': 'Gln', 'UCU': 'Ser', 'GAU': 'Asp', 'CGG': 'Arg', 'UUU': 'Phe', \n",
    " 'UGC': 'Cys', 'GGG': 'Gly', 'UGA':'---', 'GGA': 'Gly', 'UAA': '---', \n",
    " 'ACG': 'Thr', 'UAC': 'Tyr', 'UUC': 'Phe', 'UCG': 'Ser', 'UUA': 'Leu', \n",
    " 'UUG': 'Leu', 'UCC': 'Ser', 'ACC': 'Thr', 'UCA': 'Ser', 'GCA': 'Ala', \n",
    " 'GUA': 'Val', 'GCC': 'Ala', 'GUC': 'Val', 'GGC':'Gly', 'GCG': 'Ala', \n",
    " 'GUG': 'Val', 'GAG': 'Glu', 'GUU': 'Val', 'GCU': 'Ala', 'GAC': 'Asp', \n",
    " 'CGU': 'Arg', 'GAA': 'Glu', 'AUG': 'Met', 'CGC': 'Arg'}\n",
    "```\n",
    "```'---'``` represents the stop codons\n",
    "\n",
    "Example would be :\n",
    "\n",
    "'AUGUCGGCACAUUUAUGCUCC**UAA**UCC' <br>\n",
    "To give : [('Met', 'Ser', 'Ala', 'His', 'Leu', 'Cys', 'Ser'), 6]\n",
    "\n",
    "This is the summary of what is required from the challenge:\n",
    "\n",
    "* The output must be a list of a tuple of strings (amino acid) and a single integer (number of distinct amino acids)\n",
    "* Must use the dictionary to call the amino acid or stop codon\n",
    "* Must convert the three codes into an amino acid and stop at the stop codon (the function assumes all the codes have only one stop codon)\n"
   ]
  },
  {
   "cell_type": "code",
   "execution_count": 14,
   "metadata": {},
   "outputs": [],
   "source": [
    "### START FUNCTION\n",
    "import numpy as np\n",
    "def amino_acids(mrna):\n",
    "    codon_dict = {'CUU': 'Leu', 'UAG': '---', 'ACA': 'Thr', 'AAA': 'Lys', 'AUC': 'Ile',\n",
    " 'AAC': 'Asn','AUA': 'Ile', 'AGG': 'Arg', 'CCU': 'Pro', 'ACU': 'Thr', \n",
    " 'AGC': 'Ser','AAG': 'Lys', 'AGA': 'Arg', 'CAU': 'His', 'AAU': 'Asn',\n",
    " 'AUU': 'Ile','CUG': 'Leu', 'CUA': 'Leu', 'CUC': 'Leu', 'CAC': 'His', \n",
    " 'UGG': 'Trp','CAA': 'Gln', 'AGU': 'Ser', 'CCA': 'Pro', 'CCG': 'Pro',\n",
    " 'CCC': 'Pro', 'UAU': 'Tyr', 'GGU': 'Gly', 'UGU': 'Cys', 'CGA': 'Arg', \n",
    " 'CAG': 'Gln', 'UCU': 'Ser', 'GAU': 'Asp', 'CGG': 'Arg', 'UUU': 'Phe', \n",
    " 'UGC': 'Cys', 'GGG': 'Gly', 'UGA':'---', 'GGA': 'Gly', 'UAA': '---', \n",
    " 'ACG': 'Thr', 'UAC': 'Tyr', 'UUC': 'Phe', 'UCG': 'Ser', 'UUA': 'Leu', \n",
    " 'UUG': 'Leu', 'UCC': 'Ser', 'ACC': 'Thr', 'UCA': 'Ser', 'GCA': 'Ala', \n",
    " 'GUA': 'Val', 'GCC': 'Ala', 'GUC': 'Val', 'GGC':'Gly', 'GCG': 'Ala', \n",
    " 'GUG': 'Val', 'GAG': 'Glu', 'GUU': 'Val', 'GCU': 'Ala', 'GAC': 'Asp', \n",
    " 'CGU': 'Arg', 'GAA': 'Glu', 'AUG': 'Met', 'CGC': 'Arg'}\n",
    "    \n",
    "    protein = \"\"\n",
    "    \n",
    "    for i in range(0, len(mrna), 3):\n",
    "        codon = mrna[i:i+3]\n",
    "        protein += codon_dict[codon]\n",
    "        \n",
    "        if codon_dict[codon] == '---':\n",
    "        \n",
    "            protein_ls = [protein[i:i+3] for i in range(0, len(protein),3)]\n",
    "            \n",
    "            protein_ls2 = protein_ls.pop(-1)\n",
    "            \n",
    "            distinct_ls = np.unique(protein_ls)\n",
    "            \n",
    "            ls_tp = [tuple(protein_ls), len(distinct_ls)]\n",
    "            return ls_tp\n",
    "### END FUNCTION"
   ]
  },
  {
   "cell_type": "code",
   "execution_count": 18,
   "metadata": {},
   "outputs": [
    {
     "data": {
      "text/plain": [
       "True"
      ]
     },
     "execution_count": 18,
     "metadata": {},
     "output_type": "execute_result"
    }
   ],
   "source": [
    "amino_acids('AUGUGGCGACUCUAUCGCGUUGCCCGGUACUGAAUGCCACCU') == [('Met', 'Trp', 'Arg', 'Leu', 'Tyr', 'Arg', 'Val', 'Ala', 'Arg', 'Tyr'), 7]"
   ]
  },
  {
   "cell_type": "markdown",
   "metadata": {},
   "source": [
    "_**Expected Outputs**_ \n",
    "```python\n",
    "amino_acids('AUGUCGGCACAUUUAUGCUCCUAAUCC') == [('Met', 'Ser', 'Ala', 'His', 'Leu', 'Cys', 'Ser'), 6]\n",
    "amino_acids('AUGCCACCUUGA') == [('Met', 'Pro', 'Pro'), 2]\n",
    "amino_acids('AUGUCCCCUGCACGAGGGCCAUCCUGAUCCCCCCAU') == [('Met', 'Ser', 'Pro', 'Ala', 'Arg', 'Gly', 'Pro', 'Ser'), 6]\n",
    "amino_acids('AUGUGGCGACUCUAUCGCGUUGCCCGGUACUGAAUGCCACCU') == [('Met', 'Trp', 'Arg', 'Leu', 'Tyr', 'Arg', 'Val', 'Ala', 'Arg', 'Tyr'), 7]\n",
    "```"
   ]
  },
  {
   "cell_type": "markdown",
   "metadata": {},
   "source": [
    "## References\n",
    "\n",
    "Parts of this tutorial was created using the wonderful [Google Python Developers](https://developers.google.com/edu/python/) course, and has been modified under the [Creative Common's licence 2.5](https://creativecommons.org/licenses/by/2.5/) \n",
    "\n",
    "Copyright 2010 Google Inc.\n",
    "Licensed under the Apache License, Version 2.0\n",
    "http://www.apache.org/licenses/LICENSE-2.0\n",
    "\n",
    "Google's Python Class\n",
    "http://code.google.com/edu/languages/google-python-class/"
   ]
  },
  {
   "cell_type": "code",
   "execution_count": null,
   "metadata": {},
   "outputs": [],
   "source": []
  }
 ],
 "metadata": {
  "kernelspec": {
   "display_name": "Python 3",
   "language": "python",
   "name": "python3"
  },
  "language_info": {
   "codemirror_mode": {
    "name": "ipython",
    "version": 3
   },
   "file_extension": ".py",
   "mimetype": "text/x-python",
   "name": "python",
   "nbconvert_exporter": "python",
   "pygments_lexer": "ipython3",
   "version": "3.8.8"
  }
 },
 "nbformat": 4,
 "nbformat_minor": 4
}
