{
 "cells": [
  {
   "cell_type": "code",
   "execution_count": 1,
   "id": "2e3b06b5",
   "metadata": {},
   "outputs": [
    {
     "name": "stdout",
     "output_type": "stream",
     "text": [
      "Requirement already satisfied: joblib in /Users/tsholo/ANACONDA/anaconda3/lib/python3.9/site-packages (1.2.0)\n",
      "Requirement already satisfied: Pillow in /Users/tsholo/ANACONDA/anaconda3/lib/python3.9/site-packages (9.2.0)\n"
     ]
    }
   ],
   "source": [
    "!pip install joblib\n",
    "!pip install Pillow"
   ]
  },
  {
   "cell_type": "code",
   "execution_count": 2,
   "id": "b86e7681",
   "metadata": {},
   "outputs": [
    {
     "name": "stdout",
     "output_type": "stream",
     "text": [
      "Requirement already satisfied: streamlit_option_menu in /Users/tsholo/ANACONDA/anaconda3/lib/python3.9/site-packages (0.3.6)\n",
      "Requirement already satisfied: streamlit>=0.63 in /Users/tsholo/ANACONDA/anaconda3/lib/python3.9/site-packages (from streamlit_option_menu) (1.23.1)\n",
      "Requirement already satisfied: toml<2 in /Users/tsholo/ANACONDA/anaconda3/lib/python3.9/site-packages (from streamlit>=0.63->streamlit_option_menu) (0.10.2)\n",
      "Requirement already satisfied: blinker<2,>=1.0.0 in /Users/tsholo/ANACONDA/anaconda3/lib/python3.9/site-packages (from streamlit>=0.63->streamlit_option_menu) (1.6.2)\n",
      "Requirement already satisfied: pydeck<1,>=0.1.dev5 in /Users/tsholo/ANACONDA/anaconda3/lib/python3.9/site-packages (from streamlit>=0.63->streamlit_option_menu) (0.8.1b0)\n",
      "Requirement already satisfied: tenacity<9,>=8.0.0 in /Users/tsholo/ANACONDA/anaconda3/lib/python3.9/site-packages (from streamlit>=0.63->streamlit_option_menu) (8.0.1)\n",
      "Requirement already satisfied: packaging<24,>=14.1 in /Users/tsholo/ANACONDA/anaconda3/lib/python3.9/site-packages (from streamlit>=0.63->streamlit_option_menu) (21.3)\n",
      "Requirement already satisfied: tornado<7,>=6.0.3 in /Users/tsholo/ANACONDA/anaconda3/lib/python3.9/site-packages (from streamlit>=0.63->streamlit_option_menu) (6.1)\n",
      "Requirement already satisfied: cachetools<6,>=4.0 in /Users/tsholo/ANACONDA/anaconda3/lib/python3.9/site-packages (from streamlit>=0.63->streamlit_option_menu) (5.3.1)\n",
      "Requirement already satisfied: protobuf<5,>=3.20 in /Users/tsholo/ANACONDA/anaconda3/lib/python3.9/site-packages (from streamlit>=0.63->streamlit_option_menu) (4.23.2)\n",
      "Requirement already satisfied: pandas<3,>=0.25 in /Users/tsholo/ANACONDA/anaconda3/lib/python3.9/site-packages (from streamlit>=0.63->streamlit_option_menu) (2.0.2)\n",
      "Requirement already satisfied: pympler<2,>=0.9 in /Users/tsholo/ANACONDA/anaconda3/lib/python3.9/site-packages (from streamlit>=0.63->streamlit_option_menu) (1.0.1)\n",
      "Requirement already satisfied: python-dateutil<3,>=2 in /Users/tsholo/ANACONDA/anaconda3/lib/python3.9/site-packages (from streamlit>=0.63->streamlit_option_menu) (2.8.2)\n",
      "Requirement already satisfied: gitpython!=3.1.19,<4,>=3 in /Users/tsholo/ANACONDA/anaconda3/lib/python3.9/site-packages (from streamlit>=0.63->streamlit_option_menu) (3.1.31)\n",
      "Requirement already satisfied: tzlocal<5,>=1.1 in /Users/tsholo/ANACONDA/anaconda3/lib/python3.9/site-packages (from streamlit>=0.63->streamlit_option_menu) (4.3)\n",
      "Requirement already satisfied: requests<3,>=2.4 in /Users/tsholo/ANACONDA/anaconda3/lib/python3.9/site-packages (from streamlit>=0.63->streamlit_option_menu) (2.28.1)\n",
      "Requirement already satisfied: typing-extensions<5,>=4.0.1 in /Users/tsholo/ANACONDA/anaconda3/lib/python3.9/site-packages (from streamlit>=0.63->streamlit_option_menu) (4.3.0)\n",
      "Requirement already satisfied: pyarrow>=4.0 in /Users/tsholo/ANACONDA/anaconda3/lib/python3.9/site-packages (from streamlit>=0.63->streamlit_option_menu) (12.0.0)\n",
      "Requirement already satisfied: click<9,>=7.0 in /Users/tsholo/ANACONDA/anaconda3/lib/python3.9/site-packages (from streamlit>=0.63->streamlit_option_menu) (8.0.4)\n",
      "Requirement already satisfied: validators<1,>=0.2 in /Users/tsholo/ANACONDA/anaconda3/lib/python3.9/site-packages (from streamlit>=0.63->streamlit_option_menu) (0.20.0)\n",
      "Requirement already satisfied: numpy<2,>=1 in /Users/tsholo/ANACONDA/anaconda3/lib/python3.9/site-packages (from streamlit>=0.63->streamlit_option_menu) (1.24.3)\n",
      "Requirement already satisfied: pillow<10,>=6.2.0 in /Users/tsholo/ANACONDA/anaconda3/lib/python3.9/site-packages (from streamlit>=0.63->streamlit_option_menu) (9.2.0)\n",
      "Requirement already satisfied: rich<14,>=10.11.0 in /Users/tsholo/ANACONDA/anaconda3/lib/python3.9/site-packages (from streamlit>=0.63->streamlit_option_menu) (13.4.1)\n",
      "Requirement already satisfied: altair<6,>=4.0 in /Users/tsholo/ANACONDA/anaconda3/lib/python3.9/site-packages (from streamlit>=0.63->streamlit_option_menu) (5.0.1)\n",
      "Requirement already satisfied: importlib-metadata<7,>=1.4 in /Users/tsholo/ANACONDA/anaconda3/lib/python3.9/site-packages (from streamlit>=0.63->streamlit_option_menu) (4.11.3)\n",
      "Requirement already satisfied: jsonschema>=3.0 in /Users/tsholo/ANACONDA/anaconda3/lib/python3.9/site-packages (from altair<6,>=4.0->streamlit>=0.63->streamlit_option_menu) (4.16.0)\n",
      "Requirement already satisfied: toolz in /Users/tsholo/ANACONDA/anaconda3/lib/python3.9/site-packages (from altair<6,>=4.0->streamlit>=0.63->streamlit_option_menu) (0.11.2)\n",
      "Requirement already satisfied: jinja2 in /Users/tsholo/ANACONDA/anaconda3/lib/python3.9/site-packages (from altair<6,>=4.0->streamlit>=0.63->streamlit_option_menu) (2.11.3)\n",
      "Requirement already satisfied: gitdb<5,>=4.0.1 in /Users/tsholo/ANACONDA/anaconda3/lib/python3.9/site-packages (from gitpython!=3.1.19,<4,>=3->streamlit>=0.63->streamlit_option_menu) (4.0.10)\n",
      "Requirement already satisfied: zipp>=0.5 in /Users/tsholo/ANACONDA/anaconda3/lib/python3.9/site-packages (from importlib-metadata<7,>=1.4->streamlit>=0.63->streamlit_option_menu) (3.8.0)\n",
      "Requirement already satisfied: pyparsing!=3.0.5,>=2.0.2 in /Users/tsholo/ANACONDA/anaconda3/lib/python3.9/site-packages (from packaging<24,>=14.1->streamlit>=0.63->streamlit_option_menu) (3.0.9)\n",
      "Requirement already satisfied: tzdata>=2022.1 in /Users/tsholo/ANACONDA/anaconda3/lib/python3.9/site-packages (from pandas<3,>=0.25->streamlit>=0.63->streamlit_option_menu) (2023.3)\n",
      "Requirement already satisfied: pytz>=2020.1 in /Users/tsholo/ANACONDA/anaconda3/lib/python3.9/site-packages (from pandas<3,>=0.25->streamlit>=0.63->streamlit_option_menu) (2022.1)\n",
      "Requirement already satisfied: six>=1.5 in /Users/tsholo/ANACONDA/anaconda3/lib/python3.9/site-packages (from python-dateutil<3,>=2->streamlit>=0.63->streamlit_option_menu) (1.16.0)\n",
      "Requirement already satisfied: certifi>=2017.4.17 in /Users/tsholo/ANACONDA/anaconda3/lib/python3.9/site-packages (from requests<3,>=2.4->streamlit>=0.63->streamlit_option_menu) (2022.9.24)\n",
      "Requirement already satisfied: idna<4,>=2.5 in /Users/tsholo/ANACONDA/anaconda3/lib/python3.9/site-packages (from requests<3,>=2.4->streamlit>=0.63->streamlit_option_menu) (3.3)\n",
      "Requirement already satisfied: urllib3<1.27,>=1.21.1 in /Users/tsholo/ANACONDA/anaconda3/lib/python3.9/site-packages (from requests<3,>=2.4->streamlit>=0.63->streamlit_option_menu) (1.26.11)\n",
      "Requirement already satisfied: charset-normalizer<3,>=2 in /Users/tsholo/ANACONDA/anaconda3/lib/python3.9/site-packages (from requests<3,>=2.4->streamlit>=0.63->streamlit_option_menu) (2.0.4)\n",
      "Requirement already satisfied: markdown-it-py<3.0.0,>=2.2.0 in /Users/tsholo/ANACONDA/anaconda3/lib/python3.9/site-packages (from rich<14,>=10.11.0->streamlit>=0.63->streamlit_option_menu) (2.2.0)\n",
      "Requirement already satisfied: pygments<3.0.0,>=2.13.0 in /Users/tsholo/ANACONDA/anaconda3/lib/python3.9/site-packages (from rich<14,>=10.11.0->streamlit>=0.63->streamlit_option_menu) (2.15.1)\n",
      "Requirement already satisfied: pytz-deprecation-shim in /Users/tsholo/ANACONDA/anaconda3/lib/python3.9/site-packages (from tzlocal<5,>=1.1->streamlit>=0.63->streamlit_option_menu) (0.1.0.post0)\n",
      "Requirement already satisfied: decorator>=3.4.0 in /Users/tsholo/ANACONDA/anaconda3/lib/python3.9/site-packages (from validators<1,>=0.2->streamlit>=0.63->streamlit_option_menu) (5.1.1)\n",
      "Requirement already satisfied: smmap<6,>=3.0.1 in /Users/tsholo/ANACONDA/anaconda3/lib/python3.9/site-packages (from gitdb<5,>=4.0.1->gitpython!=3.1.19,<4,>=3->streamlit>=0.63->streamlit_option_menu) (5.0.0)\n",
      "Requirement already satisfied: MarkupSafe>=0.23 in /Users/tsholo/ANACONDA/anaconda3/lib/python3.9/site-packages (from jinja2->altair<6,>=4.0->streamlit>=0.63->streamlit_option_menu) (2.0.1)\n",
      "Requirement already satisfied: attrs>=17.4.0 in /Users/tsholo/ANACONDA/anaconda3/lib/python3.9/site-packages (from jsonschema>=3.0->altair<6,>=4.0->streamlit>=0.63->streamlit_option_menu) (21.4.0)\n",
      "Requirement already satisfied: pyrsistent!=0.17.0,!=0.17.1,!=0.17.2,>=0.14.0 in /Users/tsholo/ANACONDA/anaconda3/lib/python3.9/site-packages (from jsonschema>=3.0->altair<6,>=4.0->streamlit>=0.63->streamlit_option_menu) (0.18.0)\n",
      "Requirement already satisfied: mdurl~=0.1 in /Users/tsholo/ANACONDA/anaconda3/lib/python3.9/site-packages (from markdown-it-py<3.0.0,>=2.2.0->rich<14,>=10.11.0->streamlit>=0.63->streamlit_option_menu) (0.1.2)\n"
     ]
    },
    {
     "name": "stdout",
     "output_type": "stream",
     "text": [
      "Note: you may need to restart the kernel to use updated packages.\n"
     ]
    }
   ],
   "source": [
    "pip install streamlit_option_menu"
   ]
  },
  {
   "cell_type": "code",
   "execution_count": 3,
   "id": "656b9823",
   "metadata": {},
   "outputs": [
    {
     "name": "stdout",
     "output_type": "stream",
     "text": [
      "/Users/tsholo/Documents/GitHub/classification-predict-streamlit-template/resources\n"
     ]
    }
   ],
   "source": [
    "import os\n",
    "print(os.getcwd())\n"
   ]
  },
  {
   "cell_type": "code",
   "execution_count": 4,
   "id": "0ca480c2",
   "metadata": {},
   "outputs": [
    {
     "name": "stderr",
     "output_type": "stream",
     "text": [
      "/Users/tsholo/ANACONDA/anaconda3/lib/python3.9/site-packages/sklearn/base.py:318: UserWarning: Trying to unpickle estimator TfidfTransformer from version 0.22.1 when using version 1.2.2. This might lead to breaking code or invalid results. Use at your own risk. For more info please refer to:\n",
      "https://scikit-learn.org/stable/model_persistence.html#security-maintainability-limitations\n",
      "  warnings.warn(\n",
      "/Users/tsholo/ANACONDA/anaconda3/lib/python3.9/site-packages/sklearn/base.py:318: UserWarning: Trying to unpickle estimator TfidfVectorizer from version 0.22.1 when using version 1.2.2. This might lead to breaking code or invalid results. Use at your own risk. For more info please refer to:\n",
      "https://scikit-learn.org/stable/model_persistence.html#security-maintainability-limitations\n",
      "  warnings.warn(\n",
      "/Users/tsholo/ANACONDA/anaconda3/lib/python3.9/site-packages/sklearn/base.py:318: UserWarning: Trying to unpickle estimator TfidfTransformer from version 1.2.1 when using version 1.2.2. This might lead to breaking code or invalid results. Use at your own risk. For more info please refer to:\n",
      "https://scikit-learn.org/stable/model_persistence.html#security-maintainability-limitations\n",
      "  warnings.warn(\n",
      "/Users/tsholo/ANACONDA/anaconda3/lib/python3.9/site-packages/sklearn/base.py:318: UserWarning: Trying to unpickle estimator TfidfVectorizer from version 1.2.1 when using version 1.2.2. This might lead to breaking code or invalid results. Use at your own risk. For more info please refer to:\n",
      "https://scikit-learn.org/stable/model_persistence.html#security-maintainability-limitations\n",
      "  warnings.warn(\n",
      "2023-06-26 00:54:15.978 \n",
      "  \u001b[33m\u001b[1mWarning:\u001b[0m to view this Streamlit app on a browser, run it with the following\n",
      "  command:\n",
      "\n",
      "    streamlit run /Users/tsholo/ANACONDA/anaconda3/lib/python3.9/site-packages/ipykernel_launcher.py [ARGUMENTS]\n",
      "2023-06-26 00:54:15.982 Session state does not function when running a script without `streamlit run`\n"
     ]
    }
   ],
   "source": [
    "\"\"\"\n",
    "\n",
    "    Simple Streamlit webserver application for serving developed classification\n",
    "\tmodels.\n",
    "\n",
    "    Author: Explore Data Science Academy.\n",
    "\n",
    "    Note:\n",
    "    ---------------------------------------------------------------------\n",
    "    Please follow the instructions provided within the README.md file\n",
    "    located within this directory for guidance on how to use this script\n",
    "    correctly.\n",
    "    ---------------------------------------------------------------------\n",
    "\n",
    "    Description: This file is used to launch a minimal streamlit web\n",
    "\tapplication. You are expected to extend the functionality of this script\n",
    "\tas part of your predict project.\n",
    "\n",
    "\tFor further help with the Streamlit framework, see:\n",
    "\n",
    "\thttps://docs.streamlit.io/en/latest/\n",
    "\n",
    "\"\"\"\n",
    "# Streamlit dependencies\n",
    "# Streamlit dependencies\n",
    "import streamlit as st\n",
    "from streamlit_option_menu import option_menu\n",
    "import joblib\n",
    "import os\n",
    "from PIL import Image\n",
    "\n",
    "# Data dependencies\n",
    "import pandas as pd\n",
    "\n",
    "# Vectorizer\n",
    "news_vectorizer = open(\"/Users/tsholo/Documents/GitHub/classification-predict-streamlit-template/resources/tfidfvect.pkl\", \"rb\")\n",
    "tweet_cv = joblib.load(news_vectorizer)  # loading your vectorizer from the pkl file\n",
    "news_vectorizer_1 = open(\"/Users/tsholo/Documents/GitHub/classification-predict-streamlit-template/resources/tfidfvectorizer.pkl\", \"rb\")\n",
    "tweet_cv_1 = joblib.load(news_vectorizer_1)\n",
    "\n",
    "# Load your raw data\n",
    "raw = pd.read_csv(\"/Users/tsholo/Documents/GitHub/classification-predict-streamlit-template/resources/train.csv\")\n",
    "\n",
    "# The main function where we will build the actual app\n",
    "def main():\n",
    "    \"\"\"Tweet Classifier App with Streamlit\"\"\"\n",
    "\n",
    "    # Creates a main title and subheader on your page -\n",
    "    # these are static across all pages\n",
    "    st.title(\"Elites  \\n _____________________________________________________\")\n",
    "    st.subheader(\"Climate change tweet classification\")\n",
    "\n",
    "    # Creating sidebar using streamlit-option-menu\n",
    "    with st.sidebar:\n",
    "        selected = option_menu(\n",
    "            \"Menu\",\n",
    "            [\"Home\", \"Raw Data\", \"Predictions\", \"About Us\", \"Contact Us\"],\n",
    "            icons=[\"house\", \"table\", \"graph-up-arrow\", \"info-circle\", \"telephone\"],\n",
    "            menu_icon=\"menu-button\",\n",
    "            default_index=0,\n",
    "        )\n",
    "\n",
    "    # Building out the \"Home\" page\n",
    "    if selected == \"Home\":\n",
    "        image = Image.open(\"/Users/tsholo/Documents/GitHub/classification-predict-streamlit-template/resources/imgs/KB.png\")\n",
    "        st.image(image)\n",
    "\n",
    "        st.subheader(\"Tweet Classifier\")\n",
    "        st.markdown(\n",
    "            \"Consumers gravitate toward companies that are built around lessening one’s environmental impact. Elites provides an accurate and robust solution that gives companies access to a broad base of consumer sentiment, spanning multiple demographic and geographic categories, thus increasing their insights and informing future marketing strategies.\"\n",
    "        )\n",
    "        st.markdown(\"Choose Elites and walk a greener path.\")\n",
    "\n",
    "    # Building out the raw data page\n",
    "    if selected == \"Raw Data\":\n",
    "        tab1, tab2 = st.tabs([\"Data description\", \"Data Visualizations\"])\n",
    "        with tab1:\n",
    "            st.markdown(\n",
    "                \"The collection of the raw data was funded by a Canada Foundation for Innovation JELF Grant to Chris Bauch, University of Waterloo.\"\n",
    "            )\n",
    "            st.write(\n",
    "                \"\"\"\n",
    "                This dataset aggregates tweets pertaining to climate change collected between Apr 27, 2015 and Feb 21, 2018. In total, 43943 tweets were annotated. Each tweet is labelled independently by 3 reviewers. This dataset only contains tweets that all 3 reviewers agreed on (the rest were discarded). \\n\n",
    "                Each tweet is labelled as one of the following classes: \\n\n",
    "                * 2(News): the tweet links to factual news about climate change \\n\n",
    "                * 1(Pro): the tweet supports the belief of man-made climate change \\n\n",
    "                * 0(Neutral): the tweet neither supports nor refutes the belief of man-made climate change \\n\n",
    "                * -1(Anti): the tweet does not believe in man-made climate change\n",
    "                \"\"\"\n",
    "            )\n",
    "            st.write(\"\")\n",
    "\n",
    "        with tab2:\n",
    "            if st.checkbox(\"Show sentiment value count\"):\n",
    "                st.bar_chart(\n",
    "                    data=raw[\"sentiment\"].value_counts(),\n",
    "                    x=None,\n",
    "                    y=None,\n",
    "                    width=220,\n",
    "                    height=320,\n",
    "                    use_container_width=True,\n",
    "                )\n",
    "\n",
    "            if st.checkbox(\"Show raw data\"):\n",
    "                job_filter = st.selectbox(\n",
    "                    \"Select sentiment\", pd.unique(raw['sentiment'])\n",
    "                )\n",
    "\n",
    "                # creating a single-element data frame with the selected sentiment\n",
    "                filtered_data = raw[raw[\"sentiment\"] == job_filter]\n",
    "\n",
    "                # displaying the filtered data\n",
    "                st.write(filtered_data)\n",
    "\n",
    "# Run the application\n",
    "if __name__ == \"__main__\":\n",
    "    main()\n"
   ]
  },
  {
   "cell_type": "code",
   "execution_count": null,
   "id": "84817cec",
   "metadata": {},
   "outputs": [],
   "source": []
  }
 ],
 "metadata": {
  "kernelspec": {
   "display_name": "Python 3 (ipykernel)",
   "language": "python",
   "name": "python3"
  },
  "language_info": {
   "codemirror_mode": {
    "name": "ipython",
    "version": 3
   },
   "file_extension": ".py",
   "mimetype": "text/x-python",
   "name": "python",
   "nbconvert_exporter": "python",
   "pygments_lexer": "ipython3",
   "version": "3.9.13"
  }
 },
 "nbformat": 4,
 "nbformat_minor": 5
}
