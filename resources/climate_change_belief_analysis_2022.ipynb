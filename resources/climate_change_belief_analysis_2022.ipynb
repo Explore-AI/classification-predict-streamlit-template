{
 "cells": [
  {
   "cell_type": "markdown",
   "metadata": {},
   "source": [
    "# Climate Change Belief Analysis 2022\n",
    "\n",
    "### Overview: Predict an individual’s belief in climate change based on historical tweet data.\n",
    "   \n",
    "- Many companies are built around lessening one’s environmental impact or carbon footprint. They offer products and services that are environmentally friendly and sustainable, in line with their values and ideals. \n",
    "\n",
    "## Problem Statement\n",
    "In this project we would like to determine how people perceive climate change and whether or not they believe it is a real threat. This would add to companies market research efforts in gauging how their product/service may be received.\n",
    "\n",
    "### Variable definitions\n",
    "- sentiment: Sentiment of tweet\n",
    "- message: Tweet body\n",
    "- tweetid: Twitter unique id\n",
    "\n",
    "### Sentiment of tweet Description\n",
    "* 2 News: the tweet links to factual news about climate change\n",
    "* 1 Pro: the tweet supports the belief of man-made climate change\n",
    "* 0 Neutral: the tweet neither supports nor refutes the belief of man-made climate change\n",
    "* -1 Anti: the tweet does not believe in man-made climate change"
   ]
  },
  {
   "cell_type": "markdown",
   "metadata": {},
   "source": [
    "<a id=\"cont\"></a>\n",
    "\n",
    "## Table of Contents\n",
    "\n",
    "<a href=#one>1. Importing Packages</a>\n",
    "\n",
    "<a href=#two>2. Loading Data</a>\n",
    "\n",
    "<a href=#three>3. Exploratory Data Analysis (EDA)</a>\n",
    "\n",
    "<a href=#four>4. Data Engineering</a>\n",
    "\n",
    "<a href=#five>5. Modeling</a>\n",
    "\n",
    "<a href=#six>6. Model Performance</a>\n",
    "\n",
    "<a href=#seven>7. Model Explanations</a>"
   ]
  },
  {
   "cell_type": "markdown",
   "metadata": {},
   "source": [
    " <a id=\"one\"></a>\n",
    "## 1. Importing Packages\n",
    "<a href=#cont>Back to Table of Contents</a>\n",
    "\n",
    "---\n",
    "    \n",
    "| ⚡ Description: Importing Packages ⚡ |\n",
    "| :--------------------------- |\n",
    "| In this section we import, and briefly discuss, the libraries that will be used throughout your analysis and modelling. |\n",
    "\n",
    "---"
   ]
  },
  {
   "cell_type": "code",
   "execution_count": 1,
   "metadata": {},
   "outputs": [
    {
     "name": "stderr",
     "output_type": "stream",
     "text": [
      "COMET WARNING: As you are running in a Jupyter environment, you will need to call `experiment.end()` when finished to ensure all metrics and code are logged before exiting.\n",
      "COMET INFO: Experiment is live on comet.ml https://www.comet.ml/sodiq-olamide/climate-change-belief-analysis/b785149b17a249ddaa367905589fe58d\n",
      "\n"
     ]
    }
   ],
   "source": [
    "# import comet_ml at the top of your file\n",
    "from comet_ml import Experiment\n",
    "\n",
    "# Create an experiment with your api key\n",
    "experiment = Experiment(\n",
    "    api_key=\"pZRIYy5yWLxOVTSX7gAbXSwXX\",\n",
    "    project_name=\"climate-change-belief-analysis\",\n",
    "    workspace=\"sodiq-olamide\")"
   ]
  },
  {
   "cell_type": "code",
<<<<<<< HEAD
   "execution_count": 20,
=======
   "execution_count": 3,
>>>>>>> origin/master
   "metadata": {},
   "outputs": [],
   "source": [
    "#NumPy can be used to perform a wide variety of mathematical operations on arrays\n",
    "import numpy as np\n",
    "#Pandas is used for working with data sets.It has functions for analyzing, cleaning, exploring, and manipulating data.\n",
    "import pandas as pd\n",
    "#Below are comprehensive libraries for creating static, animated, and interactive visualizations.\n",
    "import matplotlib.pyplot as plt\n",
    "%matplotlib inline\n",
    "import seaborn as sns\n",
    "from wordcloud import WordCloud\n",
    "from plotly import graph_objects as go\n",
    "# set plot style\n",
    "sns.set()\n",
    "#Regular Expression used for data cleaning\n",
    "import re\n",
<<<<<<< HEAD
    "#\n",
    "from wordcloud import WordCloud, STOPWORDS, ImageColorGenerator\n",
    "\n",
    "import warnings\n",
    "warnings.filterwarnings(\"ignore\")"
=======
    "\n",
    "\n",
    "\n",
    "import warnings\n",
    "warnings.filterwarnings('ignore')"
>>>>>>> origin/master
   ]
  },
  {
   "cell_type": "markdown",
   "metadata": {},
   "source": [
    "<a id=\"two\"></a>\n",
    "## 2. Loading the Data\n",
    "<a class=\"anchor\" id=\"1.1\"></a>\n",
    "<a href=#cont>Back to Table of Contents</a>\n",
    "\n",
    "---\n",
    "    \n",
    "| ⚡ Description: Loading the data ⚡ |\n",
    "| :--------------------------- |\n",
    "| In this section we to load the data file's into a DataFrame. |\n",
    "\n",
    "---"
   ]
  },
  {
   "cell_type": "code",
<<<<<<< HEAD
   "execution_count": 3,
=======
   "execution_count": 5,
>>>>>>> origin/master
   "metadata": {},
   "outputs": [],
   "source": [
    "#Load the tweet dataset into a dataframe named \"df\"\n",
    "df = pd.read_csv(\"train.csv\")\n",
    "df_test = pd.read_csv(\"test.csv\")"
   ]
  },
  {
   "cell_type": "markdown",
   "metadata": {},
   "source": [
    "We stored the train dataset into a variable named \"df\"."
   ]
  },
  {
   "cell_type": "markdown",
   "metadata": {},
   "source": [
    "<a id=\"three\"></a>\n",
    "## 3. Exploratory Data Analysis (EDA)\n",
    "<a class=\"anchor\" id=\"1.1\"></a>\n",
    "<a href=#cont>Back to Table of Contents</a>\n",
    "\n",
    "---\n",
    "    \n",
    "| ⚡ Description: Exploratory data analysis ⚡ |\n",
    "| :--------------------------- |\n",
    "| In this section, we perform an in-depth analysis of all the variables in the DataFrame. |\n",
    "\n",
    "---\n"
   ]
  },
  {
   "cell_type": "markdown",
   "metadata": {},
   "source": [
    "   #### Getting a view of our training dataset"
   ]
  },
  {
   "cell_type": "code",
<<<<<<< HEAD
   "execution_count": 22,
=======
   "execution_count": 5,
>>>>>>> origin/master
   "metadata": {},
   "outputs": [
    {
     "data": {
      "text/html": [
       "<div>\n",
       "<style scoped>\n",
       "    .dataframe tbody tr th:only-of-type {\n",
       "        vertical-align: middle;\n",
       "    }\n",
       "\n",
       "    .dataframe tbody tr th {\n",
       "        vertical-align: top;\n",
       "    }\n",
       "\n",
       "    .dataframe thead th {\n",
       "        text-align: right;\n",
       "    }\n",
       "</style>\n",
       "<table border=\"1\" class=\"dataframe\">\n",
       "  <thead>\n",
       "    <tr style=\"text-align: right;\">\n",
       "      <th></th>\n",
       "      <th>sentiment</th>\n",
       "      <th>message</th>\n",
       "      <th>tweetid</th>\n",
       "    </tr>\n",
       "  </thead>\n",
       "  <tbody>\n",
       "    <tr>\n",
       "      <th>0</th>\n",
       "      <td>1</td>\n",
       "      <td>PolySciMajor EPA chief doesn't think carbon di...</td>\n",
       "      <td>625221</td>\n",
       "    </tr>\n",
       "    <tr>\n",
       "      <th>1</th>\n",
       "      <td>1</td>\n",
       "      <td>It's not like we lack evidence of anthropogeni...</td>\n",
       "      <td>126103</td>\n",
       "    </tr>\n",
       "    <tr>\n",
       "      <th>2</th>\n",
       "      <td>2</td>\n",
       "      <td>RT @RawStory: Researchers say we have three ye...</td>\n",
       "      <td>698562</td>\n",
       "    </tr>\n",
       "    <tr>\n",
       "      <th>3</th>\n",
       "      <td>1</td>\n",
       "      <td>#TodayinMaker# WIRED : 2016 was a pivotal year...</td>\n",
       "      <td>573736</td>\n",
       "    </tr>\n",
       "    <tr>\n",
       "      <th>4</th>\n",
       "      <td>1</td>\n",
       "      <td>RT @SoyNovioDeTodas: It's 2016, and a racist, ...</td>\n",
       "      <td>466954</td>\n",
       "    </tr>\n",
       "    <tr>\n",
       "      <th>5</th>\n",
       "      <td>1</td>\n",
       "      <td>Worth a read whether you do or don't believe i...</td>\n",
       "      <td>425577</td>\n",
       "    </tr>\n",
       "    <tr>\n",
       "      <th>6</th>\n",
       "      <td>1</td>\n",
       "      <td>RT @thenation: Mike Pence doesn’t believe in g...</td>\n",
       "      <td>294933</td>\n",
       "    </tr>\n",
       "    <tr>\n",
       "      <th>7</th>\n",
       "      <td>1</td>\n",
       "      <td>RT @makeandmendlife: Six big things we can ALL...</td>\n",
       "      <td>992717</td>\n",
       "    </tr>\n",
       "    <tr>\n",
       "      <th>8</th>\n",
       "      <td>1</td>\n",
       "      <td>@AceofSpadesHQ My 8yo nephew is inconsolable. ...</td>\n",
       "      <td>664510</td>\n",
       "    </tr>\n",
       "    <tr>\n",
       "      <th>9</th>\n",
       "      <td>1</td>\n",
       "      <td>RT @paigetweedy: no offense… but like… how do ...</td>\n",
       "      <td>260471</td>\n",
       "    </tr>\n",
       "    <tr>\n",
       "      <th>10</th>\n",
       "      <td>1</td>\n",
       "      <td>RT @StephenSchlegel: she's thinking about how ...</td>\n",
       "      <td>295793</td>\n",
       "    </tr>\n",
       "    <tr>\n",
       "      <th>11</th>\n",
       "      <td>1</td>\n",
       "      <td>I do hope people who are vocal about climate c...</td>\n",
       "      <td>763719</td>\n",
       "    </tr>\n",
       "    <tr>\n",
       "      <th>12</th>\n",
       "      <td>2</td>\n",
       "      <td>RT @tveitdal: We only have a 5 percent chance ...</td>\n",
       "      <td>454673</td>\n",
       "    </tr>\n",
       "    <tr>\n",
       "      <th>13</th>\n",
       "      <td>1</td>\n",
       "      <td>RT @Alifaith55: Oh. My. God.\\n\\nTrump's Govern...</td>\n",
       "      <td>41161</td>\n",
       "    </tr>\n",
       "    <tr>\n",
       "      <th>14</th>\n",
       "      <td>2</td>\n",
       "      <td>Fossil fuel giant ExxonMobil ‘misled’ the publ...</td>\n",
       "      <td>658092</td>\n",
       "    </tr>\n",
       "    <tr>\n",
       "      <th>15</th>\n",
       "      <td>1</td>\n",
       "      <td>RT @GlblCtzn: 'I don't wanna live forever – an...</td>\n",
       "      <td>319524</td>\n",
       "    </tr>\n",
       "    <tr>\n",
       "      <th>16</th>\n",
       "      <td>1</td>\n",
       "      <td>RT @jackholmes0: Issues scrubbed from https://...</td>\n",
       "      <td>698009</td>\n",
       "    </tr>\n",
       "    <tr>\n",
       "      <th>17</th>\n",
       "      <td>1</td>\n",
       "      <td>RT @patagonia: If our elected leaders fail to ...</td>\n",
       "      <td>490604</td>\n",
       "    </tr>\n",
       "    <tr>\n",
       "      <th>18</th>\n",
       "      <td>1</td>\n",
       "      <td>RT @SenSanders: We have a president-elect who ...</td>\n",
       "      <td>228658</td>\n",
       "    </tr>\n",
       "    <tr>\n",
       "      <th>19</th>\n",
       "      <td>0</td>\n",
       "      <td>Calum: *tweets abt reunitingish w the cast*\\n-...</td>\n",
       "      <td>547924</td>\n",
       "    </tr>\n",
       "  </tbody>\n",
       "</table>\n",
       "</div>"
      ],
      "text/plain": [
       "    sentiment                                            message  tweetid\n",
       "0           1  PolySciMajor EPA chief doesn't think carbon di...   625221\n",
       "1           1  It's not like we lack evidence of anthropogeni...   126103\n",
       "2           2  RT @RawStory: Researchers say we have three ye...   698562\n",
       "3           1  #TodayinMaker# WIRED : 2016 was a pivotal year...   573736\n",
       "4           1  RT @SoyNovioDeTodas: It's 2016, and a racist, ...   466954\n",
       "5           1  Worth a read whether you do or don't believe i...   425577\n",
       "6           1  RT @thenation: Mike Pence doesn’t believe in g...   294933\n",
       "7           1  RT @makeandmendlife: Six big things we can ALL...   992717\n",
       "8           1  @AceofSpadesHQ My 8yo nephew is inconsolable. ...   664510\n",
       "9           1  RT @paigetweedy: no offense… but like… how do ...   260471\n",
       "10          1  RT @StephenSchlegel: she's thinking about how ...   295793\n",
       "11          1  I do hope people who are vocal about climate c...   763719\n",
       "12          2  RT @tveitdal: We only have a 5 percent chance ...   454673\n",
       "13          1  RT @Alifaith55: Oh. My. God.\\n\\nTrump's Govern...    41161\n",
       "14          2  Fossil fuel giant ExxonMobil ‘misled’ the publ...   658092\n",
       "15          1  RT @GlblCtzn: 'I don't wanna live forever – an...   319524\n",
       "16          1  RT @jackholmes0: Issues scrubbed from https://...   698009\n",
       "17          1  RT @patagonia: If our elected leaders fail to ...   490604\n",
       "18          1  RT @SenSanders: We have a president-elect who ...   228658\n",
       "19          0  Calum: *tweets abt reunitingish w the cast*\\n-...   547924"
      ]
     },
<<<<<<< HEAD
     "execution_count": 22,
=======
     "execution_count": 5,
>>>>>>> origin/master
     "metadata": {},
     "output_type": "execute_result"
    }
   ],
   "source": [
    "#Viewing the dataframe.\n",
    "df.head(10)"
   ]
  },
  {
   "cell_type": "markdown",
   "metadata": {},
   "source": [
    "  #### Get feature name and their types - to check for missing values"
   ]
  },
  {
   "cell_type": "code",
<<<<<<< HEAD
   "execution_count": 21,
   "metadata": {},
   "outputs": [
    {
     "data": {
      "text/plain": [
       "(15819, 3)"
      ]
     },
     "metadata": {},
     "output_type": "display_data"
    }
   ],
   "source": [
    "#Take a look at the shape of the dataset\n",
    "display(df.shape)"
   ]
  },
  {
   "cell_type": "markdown",
   "metadata": {},
   "source": [
    "The tweet train dataset contains 15819 rows and 3 columns "
   ]
  },
  {
   "cell_type": "markdown",
   "metadata": {},
   "source": [
    "Get a full summary of dataset"
   ]
  },
  {
   "cell_type": "code",
   "execution_count": 7,
   "metadata": {},
   "outputs": [
    {
     "data": {
      "text/html": [
       "<div>\n",
       "<style scoped>\n",
       "    .dataframe tbody tr th:only-of-type {\n",
       "        vertical-align: middle;\n",
       "    }\n",
       "\n",
       "    .dataframe tbody tr th {\n",
       "        vertical-align: top;\n",
       "    }\n",
       "\n",
       "    .dataframe thead th {\n",
       "        text-align: right;\n",
       "    }\n",
       "</style>\n",
       "<table border=\"1\" class=\"dataframe\">\n",
       "  <thead>\n",
       "    <tr style=\"text-align: right;\">\n",
       "      <th></th>\n",
       "      <th>sentiment</th>\n",
       "      <th>tweetid</th>\n",
       "    </tr>\n",
       "  </thead>\n",
       "  <tbody>\n",
       "    <tr>\n",
       "      <th>count</th>\n",
       "      <td>15819.000000</td>\n",
       "      <td>15819.000000</td>\n",
       "    </tr>\n",
       "    <tr>\n",
       "      <th>mean</th>\n",
       "      <td>0.917504</td>\n",
       "      <td>501719.433656</td>\n",
       "    </tr>\n",
       "    <tr>\n",
       "      <th>std</th>\n",
       "      <td>0.836537</td>\n",
       "      <td>289045.983132</td>\n",
       "    </tr>\n",
       "    <tr>\n",
       "      <th>min</th>\n",
       "      <td>-1.000000</td>\n",
       "      <td>6.000000</td>\n",
       "    </tr>\n",
       "    <tr>\n",
       "      <th>25%</th>\n",
       "      <td>1.000000</td>\n",
       "      <td>253207.500000</td>\n",
       "    </tr>\n",
       "    <tr>\n",
       "      <th>50%</th>\n",
       "      <td>1.000000</td>\n",
       "      <td>502291.000000</td>\n",
       "    </tr>\n",
       "    <tr>\n",
       "      <th>75%</th>\n",
       "      <td>1.000000</td>\n",
       "      <td>753769.000000</td>\n",
       "    </tr>\n",
       "    <tr>\n",
       "      <th>max</th>\n",
       "      <td>2.000000</td>\n",
       "      <td>999888.000000</td>\n",
       "    </tr>\n",
       "  </tbody>\n",
       "</table>\n",
       "</div>"
      ],
      "text/plain": [
       "          sentiment        tweetid\n",
       "count  15819.000000   15819.000000\n",
       "mean       0.917504  501719.433656\n",
       "std        0.836537  289045.983132\n",
       "min       -1.000000       6.000000\n",
       "25%        1.000000  253207.500000\n",
       "50%        1.000000  502291.000000\n",
       "75%        1.000000  753769.000000\n",
       "max        2.000000  999888.000000"
      ]
     },
     "execution_count": 7,
     "metadata": {},
     "output_type": "execute_result"
    }
   ],
   "source": [
    "df.describe()"
   ]
  },
  {
   "cell_type": "markdown",
   "metadata": {},
   "source": [
    "The describe functions mostly give a statistical summary for numerical columns, that is why the message column is not present above. "
   ]
  },
  {
   "cell_type": "markdown",
   "metadata": {},
   "source": [
    "Get full info about all the features in the dataset"
   ]
  },
  {
   "cell_type": "code",
   "execution_count": 8,
=======
   "execution_count": 6,
>>>>>>> origin/master
   "metadata": {},
   "outputs": [
    {
     "name": "stdout",
     "output_type": "stream",
     "text": [
      "<class 'pandas.core.frame.DataFrame'>\n",
      "RangeIndex: 15819 entries, 0 to 15818\n",
      "Data columns (total 3 columns):\n",
      " #   Column     Non-Null Count  Dtype \n",
      "---  ------     --------------  ----- \n",
      " 0   sentiment  15819 non-null  int64 \n",
      " 1   message    15819 non-null  object\n",
      " 2   tweetid    15819 non-null  int64 \n",
      "dtypes: int64(2), object(1)\n",
      "memory usage: 370.9+ KB\n",
      "Feature names and their types : \n",
      " None \n",
      "\n"
     ]
    }
   ],
   "source": [
    "## getting feature name and their types - to check for missing values\n",
    "print(\"Feature names and their types : \\n\",df.info(), \"\\n\")"
   ]
  },
  {
   "cell_type": "markdown",
   "metadata": {},
   "source": [
    "Both sentiment and tweet id are numerical columns with an Integer datatype. The message column is object type. There are 15819 values in each column, which confirms there is no missing value"
   ]
  },
  {
   "cell_type": "markdown",
   "metadata": {},
   "source": [
    "#### Further check for null values"
   ]
  },
  {
   "cell_type": "code",
<<<<<<< HEAD
   "execution_count": 14,
   "metadata": {},
   "outputs": [
    {
     "data": {
      "text/plain": [
       "sentiment    0\n",
       "message      0\n",
       "tweetid      0\n",
       "dtype: int64"
      ]
     },
     "execution_count": 14,
     "metadata": {},
     "output_type": "execute_result"
    }
   ],
   "source": [
    "df.isnull().sum()"
   ]
  },
  {
   "cell_type": "markdown",
   "metadata": {},
   "source": [
    "The train dataset contains zero missing values, and just to track changes."
   ]
  },
  {
   "cell_type": "code",
   "execution_count": 11,
   "metadata": {},
   "outputs": [
    {
     "data": {
      "image/png": "iVBORw0KGgoAAAANSUhEUgAAAX8AAAD7CAYAAACCEpQdAAAAOXRFWHRTb2Z0d2FyZQBNYXRwbG90bGliIHZlcnNpb24zLjUuMSwgaHR0cHM6Ly9tYXRwbG90bGliLm9yZy/YYfK9AAAACXBIWXMAAAsTAAALEwEAmpwYAAAa4klEQVR4nO3df1Sb5f3/8WdKIm1Hdzq6hDJOVzfnOY6hxSPHyX6EUzebIM3qqJ5VOONMt6rdrB7mOOPwY4xtPa0OwXlcOP6h7ljdUaoWLCcGN6s4Rz0if9jTiZ5NKVPoktCy1cSGhjTfP/ZdjnzaEmgTQnq/Hud4jnnn7s11va0v7lxJ7ssUi8ViiIiIoSxJ9wBERGThKfxFRAxI4S8iYkAKfxERA1L4i4gYkMJfRMSAFP4iIgZkTvcA5mpyMsSpU4v7KwmrVuVw9Ggw3cO4YKifyaV+Jk8m9HLJEhOf+cynzvp8xoT/qVOxRR/+QEaMMZOon8mlfiZPpvdSyz4iIgak8BcRMSCFv4iIASn8RUQMSOEvImJACn8REQNS+IuIGFDGfM4/2VZ8ehlLs5M/fat1RVLPF56a5qPjJ5J6ThERw4b/0mwzrnt60j2MhPbdv4mP0j0IEbngaNlHRMSAFP4iIgak8BcRMSCFv4iIASn8RUQMSOEvImJACn8REQOaU/j39PRQUVFBRUUF9957LwDDw8Ns3rwZh8NBY2Mj09PTAIyPj1NdXY3T6WTbtm2EQiEAjh8/zm233UZ5eTnV1dUEAoEUTUlERBJJGP4nTpxgx44d7N69m56eHt58800GBgaoq6ujubmZvr4+YrEYXV1dALS2tlJVVYXX66WoqAi32w3AAw88QElJCS+88AI33XQTO3bsSO3MRETkrBKGfzQa5dSpU5w4cYLp6Wmmp6cxm82Ew2GKi4sBqKysxOv1EolEGBwcxOFwzKgDvPLKK7hcLgA2btzIq6++SiQSSdG0RERkNglv75CTk8Pdd99NeXk5S5cu5eqrr8ZisWC1WuPHWK1WfD4fk5OT5OTkYDabZ9QB/H5//M+YzWZycnI4duwYeXl5qZiXiIjMImH4v/POOzz77LO8/PLLrFixgp/97Gf89a9/Pe04k8lELHb6hsYmk+ms516yZO7vN69alTPnYy80yb5ZXCYx8txTQf1MnkzvZcLwf+211ygtLWXVqlXAf5dyHnnkESYmJuLHBAIBbDYbubm5BINBotEoWVlZ8TqAzWZjYmKC1atXMz09TTAYZOXKlXMe6NGjQU6dOv2Xy7nKpP9wgYAxb+1mta4w7NxTQf1Mnkzo5ZIlplkvmhNeel922WUMDAzw8ccfE4vF2L9/P1dffTXZ2dkMDQ0B0N3djd1ux2KxUFJSgsfjmVEHKCsro7u7GwCPx0NJSQkWi+V85yciIucg4ZX/N77xDd5++20qKyuxWCxcfvnl3HbbbVx33XU0NTURCoUoLCykpqYGgJaWFurr6+ns7CQ/P5/29nYA7r77burr66moqGDFihW0tbWldmYiInJWptiZFuoXoVQs+2TK/fwX+8vLVMmEl9aZRP1Mnkzo5Xkv+4iIyIVH4S8iYkAKfxERA1L4i4gYkMJfRMSAFP4iIgak8BcRMSCFv4iIASn8RUQMSOEvImJACn8REQNS+IuIGJDCX0TEgBT+IiIGpPAXETEghb+IiAEl3Mlrz549PPHEE/HHH374IZs2beLb3/42O3fuZGpqivLycmprawEYHh6mqamJYDBISUkJra2tmM1mxsfHqaur4+jRo3zhC1+gra2NT33qU6mbmYiInFXCK/+bbrqJnp4eenp6aGtrY9WqVWzdupWGhgbcbjcej4dDhw7R398PQF1dHc3NzfT19RGLxejq6gKgtbWVqqoqvF4vRUVFuN3u1M5MRETOal7LPr/85S+pra3lgw8+YO3ataxZswaz2YzL5cLr9TI2NkY4HKa4uBiAyspKvF4vkUiEwcFBHA7HjLqIiKRHwmWf/xkYGCAcDlNeXk5vby9WqzX+nM1mw+fz4ff7Z9StVis+n4/JyUlycnIwm80z6vMx216UFzqrdUW6h5A2Rp57KqifyZPpvZxz+D/11FPccsstAJxpz3eTyTTv+nykYgP3TLHYN4pOlUzYJDuTqJ/Jkwm9TMoG7idPnmRwcJBrr70WgLy8PCYmJuLP+/1+bDbbafVAIIDNZiM3N5dgMEg0Gp1RFxGR9JhT+L/77rtcfPHFLF++HIB169YxMjLC6Ogo0WiU3t5e7HY7BQUFZGdnMzQ0BEB3dzd2ux2LxUJJSQkej2dGXURE0mNOyz4ffPABq1evjj/Ozs5m165dbN++nampKcrKynA6nQC0tbXR1NREKBSisLCQmpoaAFpaWqivr6ezs5P8/Hza29tTMB0REZkLU+xMC/KLUCrW/F339CTtfKmy7/5Ni35tMVUyYV01k6ifyZMJvUzKmr+IiFxYFP4iIgak8BcRMSCFv4iIASn8RUQMSOEvImJACn8REQNS+IuIGJDCX0TEgBT+IiIGpPAXETEghb+IiAEp/EVEDEjhLyJiQAp/EREDmlP479+/n8rKSpxOJ7/5zW+A/27o7nK52LBhAx0dHfFjh4eH2bx5Mw6Hg8bGRqanpwEYHx+nuroap9PJtm3bCIVCKZiOiIjMRcLw/+CDD2hpacHtdrNv3z7efvtt+vv7aWhowO124/F4OHToEP39/QDU1dXR3NxMX18fsViMrq4uAFpbW6mqqsLr9VJUVITb7U7tzERE5KwShv+f/vQnrr/+elavXo3FYqGjo4Nly5axdu1a1qxZg9lsxuVy4fV6GRsbIxwOU1xcDEBlZSVer5dIJMLg4CAOh2NGXURE0iPhHr6jo6NYLBZ++MMfEggEWL9+PZdeeilWqzV+jM1mw+fz4ff7Z9StVis+n4/JyUlycnIwm80z6iIikh4Jwz8ajfLmm2+ye/duli9fzo9//GOWLVt22nEmk4kzbQc8W30+ZtuL8kJnta5I9xDSxshzTwX1M3kyvZcJw/+zn/0spaWl5ObmAvCtb30Lr9dLVlZW/Bi/34/NZiMvL4+JiYl4PRAIYLPZyM3NJRgMEo1GycrKitfnIxUbuGeKxb5RdKpkwibZmUT9TJ5M6OV5b+C+fv16XnvtNY4fP040GuUvf/kLTqeTkZERRkdHiUaj9Pb2YrfbKSgoIDs7m6GhIQC6u7ux2+1YLBZKSkrweDwz6iIikh4Jr/zXrVvHj370I6qqqohEInz961/n5ptv5otf/CLbt29namqKsrIynE4nAG1tbTQ1NREKhSgsLKSmpgaAlpYW6uvr6ezsJD8/n/b29tTOTEREzsoUO9OC/CKUimUf1z09STtfquy7f9Oif3mZKpnw0jqTqJ/Jkwm9PO9lHxERufAo/EVEDEjhLyJiQAp/EREDUviLiBiQwl9ExIAU/iIiBqTwFxExIIW/iIgBKfxFRAxI4S8iYkAKfxERA1L4i4gYkMJfRMSAFP4iIgaUcDMXgJqaGo4ePRrfgP1Xv/oV//znP+ns7CQSifCDH/yA6upqAAYGBti5cydTU1OUl5dTW1sLwPDwME1NTQSDQUpKSmhtbY2fT0REFlbCK/9YLMb7779PT09P/J/Vq1fT0dHBH//4R3p6enj66af5xz/+QTgcpqGhAbfbjcfj4dChQ/T39wNQV1dHc3MzfX19xGIxurq6Uj45ERE5s4Th//7772Mymdi6dSvf+c53eOKJJxgYGOCaa65h5cqVLF++HIfDgdfr5eDBg6xdu5Y1a9ZgNptxuVx4vV7GxsYIh8MUFxcDUFlZidfrTfXcRETkLBKG//HjxyktLeX3v/89f/jDH3jqqacYHx/HarXGj7HZbPh8Pvx+/5zqVqsVn8+X5KmIiMhcJVx0v/LKK7nyyisBWL58OTfeeCM7d+7kjjvumHGcyWTiTNsBz1afj9n2orzQWa0r0j2EtDHy3FNB/UyeTO9lwvB/8803iUQilJaWAv99D6CgoICJiYn4MX6/H5vNRl5e3pzqgUAAm802r4GmYgP3TLHYN4pOlUzYJDuTqJ/Jkwm9PO8N3D/66CPuu+8+pqamCAaD7N27l9/+9rccOHCAY8eOceLECV588UXsdjvr1q1jZGSE0dFRotEovb292O12CgoKyM7OZmhoCIDu7m7sdnvyZikiIvOS8Mp//fr1vPXWW9xwww2cOnWKqqoqrrrqKmpra6mpqSESiXDjjTdyxRVXALBr1y62b9/O1NQUZWVlOJ1OANra2mhqaiIUClFYWEhNTU1qZyYiImdlip1pQX4RSsWyj+uenqSdL1X23b9p0b+8TJVMeGmdSdTP5MmEXp73so+IiFx4FP4iIgak8BcRMSCFv4iIASn8RUQMSOEvImJACn8REQNS+IuIGJDCX0TEgBT+IiIGpPAXETEghb+IiAEp/EVEDEjhLyJiQAp/EREDUviLiBjQnMP/3nvvpb6+HoDh4WE2b96Mw+GgsbGR6elpAMbHx6mursbpdLJt2zZCoRAAx48f57bbbqO8vJzq6moCgUAKpiIiInM1p/A/cOAAe/fujT+uq6ujubmZvr4+YrEYXV1dALS2tlJVVYXX66WoqAi32w3AAw88QElJCS+88AI33XQTO3bsSMFURERkrhKG/7///W86Ojq44447ABgbGyMcDlNcXAxAZWUlXq+XSCTC4OAgDodjRh3glVdeweVyAbBx40ZeffVVIpFIKuYjIiJzkHAD91/84hfU1tZy5MgRAPx+P1arNf681WrF5/MxOTlJTk4OZrN5Rv3//hmz2UxOTg7Hjh0jLy9vzgOdbS/KC53VuiLdQ0gbI889FdTP5Mn0Xs4a/nv27CE/P5/S0lKee+45AM6037vJZDpr/WyWLJnfe82p2MA9Uyz2jaJTJRM2yc4k6mfyZEIvE23gPmv4ezweAoEAmzZt4j//+Q8ff/wxJpOJiYmJ+DGBQACbzUZubi7BYJBoNEpWVla8DmCz2ZiYmGD16tVMT08TDAZZuXJlcmYoIiLzNuvl92OPPUZvby89PT3cddddXHvttezcuZPs7GyGhoYA6O7uxm63Y7FYKCkpwePxzKgDlJWV0d3dDfz3F0pJSQkWiyWF0xIRkdkkXPM/k7a2NpqamgiFQhQWFlJTUwNAS0sL9fX1dHZ2kp+fT3t7OwB333039fX1VFRUsGLFCtra2pI3AxERmTdT7EyL9YtQKtb8Xff0JO18qbLv/k2Lfm0xVTJhXTWTqJ/Jkwm9TLTmr2/4iogYkMJfRMSAFP4iIgZ0Tm/4ivxfKz69jKXZyf/rlOzvY4Snpvno+ImknlMkEyn8JSmWZpsz5g30xf02ncjC0LKPiIgBKfxFRAxI4S8iYkAKfxERA1L4i4gYkMJfRMSAFP4iIgak8BcRMSCFv4iIASn8RUQMaE7h/7vf/Y7rr7+eiooKHnvsMQAGBgZwuVxs2LCBjo6O+LHDw8Ns3rwZh8NBY2Mj09PTAIyPj1NdXY3T6WTbtm2EQqEUTEdEROYiYfi/8cYbvP766zz//PM8++yz7N69m3feeYeGhgbcbjcej4dDhw7R398PQF1dHc3NzfT19RGLxejq6gKgtbWVqqoqvF4vRUVFuN3u1M5MRETOKmH4X3311Tz++OOYzWaOHj1KNBrl+PHjrF27ljVr1mA2m3G5XHi9XsbGxgiHwxQXFwNQWVmJ1+slEokwODiIw+GYURcRkfSY07KPxWLhwQcfpKKigtLSUvx+P1arNf68zWbD5/OdVrdarfh8PiYnJ8nJycFsNs+oi4hIesz5ls533XUXW7du5Y477uDw4cOnPW8ymTjTdsCz1edjtr0oL3TJvqe90Rm5n0aee7Jlei8Thv97773HyZMn+fKXv8yyZcvYsGEDXq+XrKys+DF+vx+bzUZeXh4TExPxeiAQwGazkZubSzAYJBqNkpWVFa/PRyo2cM8Ui32jaFA/M0EmbDqeKTKhl+e9gfuHH35IU1MTJ0+e5OTJk7z00kts2bKFkZERRkdHiUaj9Pb2YrfbKSgoIDs7m6GhIQC6u7ux2+1YLBZKSkrweDwz6iIikh4Jr/zLysp46623uOGGG8jKymLDhg1UVFSQm5vL9u3bmZqaoqysDKfTCUBbWxtNTU2EQiEKCwupqakBoKWlhfr6ejo7O8nPz6e9vT21MxMRkbMyxc60IL8IpWLZJ1O2HVzsLy9B/cwEmbBUkSkyoZfnvewjIiIXHoW/iIgBKfxFRAxI4S8iYkAKfxERA1L4i4gYkMJfRMSAFP4iIgak8BcRMSCFv4iIAc35ls4isnBWfHoZS7OT/79nsu++Gp6a5qPjJ5J6TlkYCn+RRWhptjlj7pW0uO9wI2ejZR8REQNS+IuIGJDCX0TEgOYU/g899BAVFRVUVFRw3333ATAwMIDL5WLDhg10dHTEjx0eHmbz5s04HA4aGxuZnp4GYHx8nOrqapxOJ9u2bSMUCqVgOiIiMhcJw39gYIDXXnuNvXv30t3dzd/+9jd6e3tpaGjA7Xbj8Xg4dOgQ/f39ANTV1dHc3ExfXx+xWIyuri4AWltbqaqqwuv1UlRUhNvtTu3MRETkrBKGv9Vqpb6+nosuugiLxcIll1zC4cOHWbt2LWvWrMFsNuNyufB6vYyNjREOhykuLgagsrISr9dLJBJhcHAQh8Mxoy4iIumRMPwvvfTSeJgfPnwYj8eDyWTCarXGj7HZbPh8Pvx+/4y61WrF5/MxOTlJTk4OZrN5Rl1ERNJjzp/z//vf/87tt9/Oz3/+c8xmMyMjIzOeN5lMnGk74Nnq8zHbXpQXumR/Mcfo1M/kMmo/M33ecwr/oaEh7rrrLhoaGqioqOCNN95gYmIi/rzf78dms5GXlzejHggEsNls5ObmEgwGiUajZGVlxevzkYoN3DPFYt8oGtTPZFM/FzdDbOB+5MgRfvKTn9DW1kZFRQUA69atY2RkhNHRUaLRKL29vdjtdgoKCsjOzmZoaAiA7u5u7HY7FouFkpISPB7PjLqIiKRHwiv/Rx55hKmpKXbt2hWvbdmyhV27drF9+3ampqYoKyvD6XQC0NbWRlNTE6FQiMLCQmpqagBoaWmhvr6ezs5O8vPzaW9vT9GUREQkkYTh39TURFNT0xmfe/7550+rXXbZZTzzzDOn1QsKCti9e/c5DFFERJJN3/AVETEghb+IiAEp/EVEDEjhLyJiQAp/EREDUviLiBiQwl9ExIAU/iIiBqTwFxExIIW/iIgBKfxFRAxI4S8iYkBz3sxFRCQTrfj0MpZmJz/qkr3nQnhqmo+On0jqOWej8BeRC9rSbDOue3rSPYyE9t2/iYXcHkbLPiIiBjTn8A8Gg2zcuJEPP/wQgIGBAVwuFxs2bKCjoyN+3PDwMJs3b8bhcNDY2Mj09DQA4+PjVFdX43Q62bZtG6FQKMlTERGRuZpT+L/11lvcfPPNHD58GIBwOExDQwNutxuPx8OhQ4fo7+8HoK6ujubmZvr6+ojFYnR1dQHQ2tpKVVUVXq+XoqIi3G53amYkIiIJzSn8u7q6aGlpiW+6fvDgQdauXcuaNWswm824XC68Xi9jY2OEw2GKi4sBqKysxOv1EolEGBwcxOFwzKiLiEh6zOkN3x07dsx47Pf7sVqt8cc2mw2fz3da3Wq14vP5mJycJCcnB7PZPKMuIiLpcU6f9onFYqfVTCbTvOvzsWpVzryOv5Ak+yNlRqd+Jpf6mTwL2ctzCv+8vDwmJibij/1+Pzab7bR6IBDAZrORm5tLMBgkGo2SlZUVr8/H0aNBTp06/ZfIucqkv7CBwEJ+AOzcqJ/JpX4mj1F7uWSJadaL5nP6qOe6desYGRlhdHSUaDRKb28vdrudgoICsrOzGRoaAqC7uxu73Y7FYqGkpASPxzOjLiIi6XFOV/7Z2dns2rWL7du3MzU1RVlZGU6nE4C2tjaampoIhUIUFhZSU1MDQEtLC/X19XR2dpKfn097e3vyZiEiIvMyr/Dfv39//N9LS0t5/vnnTzvmsssu45lnnjmtXlBQwO7du89hiCIikmz6hq+IiAEp/EVEDEjhLyJiQAp/EREDUviLiBiQwl9ExIAU/iIiBqTwFxExIIW/iIgBKfxFRAxI4S8iYkAKfxERA1L4i4gYkMJfRMSAFP4iIgak8BcRMaAFDf99+/Zx/fXXc9111/Hkk08u5I8WEZFPOKdtHM+Fz+ejo6OD5557josuuogtW7bw1a9+lS996UsLNQQREfn/Fiz8BwYGuOaaa1i5ciUADocDr9fLnXfeOac/v2SJKeljsn1mWdLPmQqpmHsqqJ/JpX4mjxF7mehcplgsFkvaT5vFww8/zMcff0xtbS0Ae/bs4eDBg/z6179eiB8vIiKfsGBr/mf6HWMyLf4rBhGRC9GChX9eXh4TExPxx36/H5vNtlA/XkREPmHBwv9rX/saBw4c4NixY5w4cYIXX3wRu92+UD9eREQ+YcHe8M3Ly6O2tpaamhoikQg33ngjV1xxxUL9eBER+YQFe8NXREQWD33DV0TEgBT+IiIGpPAXETEghb+IiAEp/EVEDGjBPuopMps///nPHDlyhLKyMj7/+c/H608//TTf+9730jiyzPTee+/R19fHv/71L5YsWYLNZuOb3/wml19+ebqHJouErvwl7dra2njiiSc4fPgwW7ZsoaenJ/7cU089lcaRZaYnn3ySn/70pwBcfvnlfOUrXwGgubmZRx99NJ1Dk0VEV/7naHx8fNbnP/e5zy3QSDJff38/e/fuxWw28/3vf59bb72Viy66iPLy8jPeE0pm9/jjj9Pd3c2yZTPvZHnLLbfw3e9+l1tvvTVNI5PFROF/jm6//XYOHz6MzWY7LaBMJhMvvfRSmkaWeWKxWPwmfxdffDEPP/wwt9xyC7m5ubr53zkwm81MT0+fVg+Hw1gsljSMKLNt3LiREydOnFb/39/bTP1/Xd/wPUfBYJCqqipaWlq46qqr0j2cjPbQQw8xMDBAfX19/JYfQ0ND3HnnnZw8eZKhoaE0jzCz7Nu3jwceeIDS0lKsVisAgUCA119/ndraWioqKtI8wszy7rvvsnXrVtrb28nPzz/t+YKCgjSM6vwp/M/DwYMH2bNnj/YkSIIDBw5gs9m45JJL4rUjR47w6KOP0tjYmMaRZSafz8eBAwfw+/3EYjHy8vIoLS0lLy8v3UPLSN3d3ezfv58HH3ww3UNJGoW/iMgcBINBcnJyAHj55ZdZv359mkd0fvRpHxGROfhf8AMXxCsAhb+IyDxdCAsmCn8RkXm69tpr0z2E86Y1fxERA9KVv4iIASn8RUQMSOEvImJACn8REQNS+IuIGND/A/qHYACy0ftJAAAAAElFTkSuQmCC",
      "text/plain": [
       "<Figure size 432x288 with 1 Axes>"
      ]
     },
     "metadata": {},
     "output_type": "display_data"
    }
   ],
   "source": [
    "df['sentiment'].value_counts().plot(kind = 'bar')\n",
    "plt.show()"
   ]
  },
  {
   "cell_type": "markdown",
   "metadata": {},
   "source": [
    "It looks like more than half of the tweets samples supports the beliefs of man-made climate change, while very few tweet sample does not believe in man-made climate change."
   ]
  },
  {
   "cell_type": "markdown",
   "metadata": {},
   "source": [
    "Let's have a look at how many data samples we have for each of the different label of sentiment."
   ]
  },
  {
   "cell_type": "code",
   "execution_count": 13,
   "metadata": {},
   "outputs": [
    {
     "name": "stdout",
     "output_type": "stream",
     "text": [
      "The Value count of all sentiment labels: \n",
      "\n",
      "  1    8530\n",
      " 2    3640\n",
      " 0    2353\n",
      "-1    1296\n",
      "Name: sentiment, dtype: int64 \n",
      "\n"
     ]
    }
   ],
   "source": [
    "#Checking for unique values in the columns\n",
    "print(\"The Value count of all sentiment labels:\", \"\\n\\n\", df[\"sentiment\"].value_counts(), \"\\n\")"
   ]
  },
  {
   "cell_type": "markdown",
   "metadata": {},
   "source": [
    "We'll print off a list of all the \"sentiments\" labels which are present in this dataset."
   ]
  },
  {
   "cell_type": "code",
   "execution_count": 9,
   "metadata": {},
   "outputs": [
    {
     "name": "stdout",
     "output_type": "stream",
     "text": [
      "[1, 2, 0, -1]\n"
     ]
    }
   ],
   "source": [
    "sentiment_label = list(df['sentiment'].unique())\n",
    "print(sentiment_label)"
   ]
  },
  {
   "cell_type": "markdown",
   "metadata": {},
   "source": [
    "Get unique values for each feature, this will help us know if any unwanted character are present in the dataset"
   ]
  },
  {
   "cell_type": "code",
   "execution_count": 15,
=======
   "execution_count": 7,
>>>>>>> origin/master
   "metadata": {},
   "outputs": [
    {
     "name": "stdout",
     "output_type": "stream",
     "text": [
      "Null Value Statistics: \n",
      " sentiment    0\n",
      "message      0\n",
      "tweetid      0\n",
      "dtype: int64\n"
     ]
    }
   ],
   "source": [
<<<<<<< HEAD
    "for col in df.keys():\n",
    "    print(col, df[col].unique()[30:50])"
=======
    "## NULL values in the data\n",
    "print (\"Null Value Statistics:\", '\\n',df.isnull().sum()) ## Sum will tell the total number of NULL values inside the dataset"
   ]
  },
  {
   "cell_type": "markdown",
   "metadata": {},
   "source": [
    "The data is complete - no column has missing values in the dataset"
   ]
  },
  {
   "cell_type": "markdown",
   "metadata": {},
   "source": [
    "Get the shape of the data to understand the number of observations in the dataset"
   ]
  },
  {
   "cell_type": "code",
   "execution_count": 8,
   "metadata": {},
   "outputs": [
    {
     "name": "stdout",
     "output_type": "stream",
     "text": [
      "Shape of Data : \n",
      " (15819, 3) \n",
      "\n",
      "No. of rows in the data =  15819\n",
      "No. of columns in the data =  3\n"
     ]
    }
   ],
   "source": [
    "## 6) shape of data\n",
    "print(\"Shape of Data : \\n\", df.shape, \"\\n\")\n",
    "print(\"No. of rows in the data = \", df.shape[0])\n",
    "print(\"No. of columns in the data = \", df.shape[1])"
   ]
  },
  {
   "cell_type": "markdown",
   "metadata": {},
   "source": [
    "The tweet train dataset contains 15819 rows and 3 columns "
   ]
  },
  {
   "cell_type": "markdown",
   "metadata": {},
   "source": [
    "#### Distribution of tweets by sentiment"
   ]
  },
  {
   "cell_type": "code",
   "execution_count": 11,
   "metadata": {},
   "outputs": [
    {
     "name": "stdout",
     "output_type": "stream",
     "text": [
      "See distribution of messages per sentiment : \n"
     ]
    },
    {
     "data": {
      "text/html": [
       "<style type=\"text/css\">\n",
       "#T_25cca_row0_col0 {\n",
       "  background-color: #796eb2;\n",
       "  color: #f1f1f1;\n",
       "}\n",
       "#T_25cca_row0_col1, #T_25cca_row1_col0 {\n",
       "  background-color: #3f007d;\n",
       "  color: #f1f1f1;\n",
       "}\n",
       "#T_25cca_row1_col1 {\n",
       "  background-color: #c9c9e2;\n",
       "  color: #000000;\n",
       "}\n",
       "#T_25cca_row2_col0 {\n",
       "  background-color: #c6c7e1;\n",
       "  color: #000000;\n",
       "}\n",
       "#T_25cca_row2_col1 {\n",
       "  background-color: #eceaf3;\n",
       "  color: #000000;\n",
       "}\n",
       "#T_25cca_row3_col0, #T_25cca_row3_col1 {\n",
       "  background-color: #fcfbfd;\n",
       "  color: #000000;\n",
       "}\n",
       "</style>\n",
       "<table id=\"T_25cca\">\n",
       "  <thead>\n",
       "    <tr>\n",
       "      <th class=\"blank level0\" >&nbsp;</th>\n",
       "      <th id=\"T_25cca_level0_col0\" class=\"col_heading level0 col0\" >sentiment</th>\n",
       "      <th id=\"T_25cca_level0_col1\" class=\"col_heading level0 col1\" >message</th>\n",
       "    </tr>\n",
       "  </thead>\n",
       "  <tbody>\n",
       "    <tr>\n",
       "      <th id=\"T_25cca_level0_row0\" class=\"row_heading level0 row0\" >2</th>\n",
       "      <td id=\"T_25cca_row0_col0\" class=\"data row0 col0\" >1</td>\n",
       "      <td id=\"T_25cca_row0_col1\" class=\"data row0 col1\" >8530</td>\n",
       "    </tr>\n",
       "    <tr>\n",
       "      <th id=\"T_25cca_level0_row1\" class=\"row_heading level0 row1\" >3</th>\n",
       "      <td id=\"T_25cca_row1_col0\" class=\"data row1 col0\" >2</td>\n",
       "      <td id=\"T_25cca_row1_col1\" class=\"data row1 col1\" >3640</td>\n",
       "    </tr>\n",
       "    <tr>\n",
       "      <th id=\"T_25cca_level0_row2\" class=\"row_heading level0 row2\" >1</th>\n",
       "      <td id=\"T_25cca_row2_col0\" class=\"data row2 col0\" >0</td>\n",
       "      <td id=\"T_25cca_row2_col1\" class=\"data row2 col1\" >2353</td>\n",
       "    </tr>\n",
       "    <tr>\n",
       "      <th id=\"T_25cca_level0_row3\" class=\"row_heading level0 row3\" >0</th>\n",
       "      <td id=\"T_25cca_row3_col0\" class=\"data row3 col0\" >-1</td>\n",
       "      <td id=\"T_25cca_row3_col1\" class=\"data row3 col1\" >1296</td>\n",
       "    </tr>\n",
       "  </tbody>\n",
       "</table>\n"
      ],
      "text/plain": [
       "<pandas.io.formats.style.Styler at 0x1ff85e78fa0>"
      ]
     },
     "execution_count": 11,
     "metadata": {},
     "output_type": "execute_result"
    }
   ],
   "source": [
    "# see statistics for categorical features\n",
    "print(\"See distribution of messages per sentiment : \")\n",
    "count = df.groupby(\"sentiment\").count()[\"message\"].reset_index().sort_values(by=\"message\", ascending=False)\n",
    "count.style.background_gradient(cmap=\"Purples\")"
   ]
  },
  {
   "cell_type": "markdown",
   "metadata": {},
   "source": [
    "1 Pro tweets: the number of tweets that support the belief of man-made climate change 8530.\n",
    "\n",
    "2 News: the number of tweets that link to factual news about climate change are 3640\n",
    "\n",
    "0 Neutral: the number of tweets that neither support nor refute the belief of man-made climate change are 2353\n",
    "\n",
    "-1 Anti: the number of tweets that does not believe in man-made climate change are 1296"
   ]
  },
  {
   "cell_type": "code",
   "execution_count": 14,
   "metadata": {},
   "outputs": [
    {
     "name": "stdout",
     "output_type": "stream",
     "text": [
      "See statistics for non- numerical columns : \n"
     ]
    },
    {
     "data": {
      "text/html": [
       "<div>\n",
       "<style scoped>\n",
       "    .dataframe tbody tr th:only-of-type {\n",
       "        vertical-align: middle;\n",
       "    }\n",
       "\n",
       "    .dataframe tbody tr th {\n",
       "        vertical-align: top;\n",
       "    }\n",
       "\n",
       "    .dataframe thead tr th {\n",
       "        text-align: left;\n",
       "    }\n",
       "\n",
       "    .dataframe thead tr:last-of-type th {\n",
       "        text-align: right;\n",
       "    }\n",
       "</style>\n",
       "<table border=\"1\" class=\"dataframe\">\n",
       "  <thead>\n",
       "    <tr>\n",
       "      <th></th>\n",
       "      <th colspan=\"4\" halign=\"left\">message</th>\n",
       "    </tr>\n",
       "    <tr>\n",
       "      <th></th>\n",
       "      <th>count</th>\n",
       "      <th>unique</th>\n",
       "      <th>top</th>\n",
       "      <th>freq</th>\n",
       "    </tr>\n",
       "    <tr>\n",
       "      <th>sentiment</th>\n",
       "      <th></th>\n",
       "      <th></th>\n",
       "      <th></th>\n",
       "      <th></th>\n",
       "    </tr>\n",
       "  </thead>\n",
       "  <tbody>\n",
       "    <tr>\n",
       "      <th>-1</th>\n",
       "      <td>1296</td>\n",
       "      <td>1222</td>\n",
       "      <td>RT @realDonaldTrump: The concept of global war...</td>\n",
       "      <td>22</td>\n",
       "    </tr>\n",
       "    <tr>\n",
       "      <th>0</th>\n",
       "      <td>2353</td>\n",
       "      <td>2245</td>\n",
       "      <td>RT @ULTRAVlOLENCE: Interviewer: 'What do you t...</td>\n",
       "      <td>20</td>\n",
       "    </tr>\n",
       "    <tr>\n",
       "      <th>1</th>\n",
       "      <td>8530</td>\n",
       "      <td>7224</td>\n",
       "      <td>RT @StephenSchlegel: she's thinking about how ...</td>\n",
       "      <td>307</td>\n",
       "    </tr>\n",
       "    <tr>\n",
       "      <th>2</th>\n",
       "      <td>3640</td>\n",
       "      <td>3542</td>\n",
       "      <td>RT @business: China tells Trump climate change...</td>\n",
       "      <td>12</td>\n",
       "    </tr>\n",
       "  </tbody>\n",
       "</table>\n",
       "</div>"
      ],
      "text/plain": [
       "          message                                                            \\\n",
       "            count unique                                                top   \n",
       "sentiment                                                                     \n",
       "-1           1296   1222  RT @realDonaldTrump: The concept of global war...   \n",
       " 0           2353   2245  RT @ULTRAVlOLENCE: Interviewer: 'What do you t...   \n",
       " 1           8530   7224  RT @StephenSchlegel: she's thinking about how ...   \n",
       " 2           3640   3542  RT @business: China tells Trump climate change...   \n",
       "\n",
       "                \n",
       "          freq  \n",
       "sentiment       \n",
       "-1          22  \n",
       " 0          20  \n",
       " 1         307  \n",
       " 2          12  "
      ]
     },
     "execution_count": 14,
     "metadata": {},
     "output_type": "execute_result"
    }
   ],
   "source": [
    "## see statistics for non- numerical features\n",
    "print(\"See statistics for non- numerical columns : \")\n",
    "df.groupby('sentiment').describe(include=['object'])"
   ]
  },
  {
   "cell_type": "markdown",
   "metadata": {},
   "source": [
    "out of all tweets, there are a total of 14229 unique tweets. the most common value is \"RT @StephenSchlegel: she's thinking about how...\". it occurs 307 times"
   ]
  },
  {
   "cell_type": "code",
   "execution_count": 40,
   "metadata": {},
   "outputs": [
    {
     "data": {
      "application/vnd.plotly.v1+json": {
       "config": {
        "plotlyServerURL": "https://plot.ly"
       },
       "data": [
        {
         "type": "funnel",
         "x": [
          53.922498261584174,
          23.010304064732285,
          14.87451798470194,
          8.192679688981604
         ],
         "y": [
          "Pro",
          "News",
          "Nuetral",
          "Anti"
         ]
        }
       ],
       "layout": {
        "template": {
         "data": {
          "bar": [
           {
            "error_x": {
             "color": "#2a3f5f"
            },
            "error_y": {
             "color": "#2a3f5f"
            },
            "marker": {
             "line": {
              "color": "#E5ECF6",
              "width": 0.5
             },
             "pattern": {
              "fillmode": "overlay",
              "size": 10,
              "solidity": 0.2
             }
            },
            "type": "bar"
           }
          ],
          "barpolar": [
           {
            "marker": {
             "line": {
              "color": "#E5ECF6",
              "width": 0.5
             },
             "pattern": {
              "fillmode": "overlay",
              "size": 10,
              "solidity": 0.2
             }
            },
            "type": "barpolar"
           }
          ],
          "carpet": [
           {
            "aaxis": {
             "endlinecolor": "#2a3f5f",
             "gridcolor": "white",
             "linecolor": "white",
             "minorgridcolor": "white",
             "startlinecolor": "#2a3f5f"
            },
            "baxis": {
             "endlinecolor": "#2a3f5f",
             "gridcolor": "white",
             "linecolor": "white",
             "minorgridcolor": "white",
             "startlinecolor": "#2a3f5f"
            },
            "type": "carpet"
           }
          ],
          "choropleth": [
           {
            "colorbar": {
             "outlinewidth": 0,
             "ticks": ""
            },
            "type": "choropleth"
           }
          ],
          "contour": [
           {
            "colorbar": {
             "outlinewidth": 0,
             "ticks": ""
            },
            "colorscale": [
             [
              0,
              "#0d0887"
             ],
             [
              0.1111111111111111,
              "#46039f"
             ],
             [
              0.2222222222222222,
              "#7201a8"
             ],
             [
              0.3333333333333333,
              "#9c179e"
             ],
             [
              0.4444444444444444,
              "#bd3786"
             ],
             [
              0.5555555555555556,
              "#d8576b"
             ],
             [
              0.6666666666666666,
              "#ed7953"
             ],
             [
              0.7777777777777778,
              "#fb9f3a"
             ],
             [
              0.8888888888888888,
              "#fdca26"
             ],
             [
              1,
              "#f0f921"
             ]
            ],
            "type": "contour"
           }
          ],
          "contourcarpet": [
           {
            "colorbar": {
             "outlinewidth": 0,
             "ticks": ""
            },
            "type": "contourcarpet"
           }
          ],
          "heatmap": [
           {
            "colorbar": {
             "outlinewidth": 0,
             "ticks": ""
            },
            "colorscale": [
             [
              0,
              "#0d0887"
             ],
             [
              0.1111111111111111,
              "#46039f"
             ],
             [
              0.2222222222222222,
              "#7201a8"
             ],
             [
              0.3333333333333333,
              "#9c179e"
             ],
             [
              0.4444444444444444,
              "#bd3786"
             ],
             [
              0.5555555555555556,
              "#d8576b"
             ],
             [
              0.6666666666666666,
              "#ed7953"
             ],
             [
              0.7777777777777778,
              "#fb9f3a"
             ],
             [
              0.8888888888888888,
              "#fdca26"
             ],
             [
              1,
              "#f0f921"
             ]
            ],
            "type": "heatmap"
           }
          ],
          "heatmapgl": [
           {
            "colorbar": {
             "outlinewidth": 0,
             "ticks": ""
            },
            "colorscale": [
             [
              0,
              "#0d0887"
             ],
             [
              0.1111111111111111,
              "#46039f"
             ],
             [
              0.2222222222222222,
              "#7201a8"
             ],
             [
              0.3333333333333333,
              "#9c179e"
             ],
             [
              0.4444444444444444,
              "#bd3786"
             ],
             [
              0.5555555555555556,
              "#d8576b"
             ],
             [
              0.6666666666666666,
              "#ed7953"
             ],
             [
              0.7777777777777778,
              "#fb9f3a"
             ],
             [
              0.8888888888888888,
              "#fdca26"
             ],
             [
              1,
              "#f0f921"
             ]
            ],
            "type": "heatmapgl"
           }
          ],
          "histogram": [
           {
            "marker": {
             "pattern": {
              "fillmode": "overlay",
              "size": 10,
              "solidity": 0.2
             }
            },
            "type": "histogram"
           }
          ],
          "histogram2d": [
           {
            "colorbar": {
             "outlinewidth": 0,
             "ticks": ""
            },
            "colorscale": [
             [
              0,
              "#0d0887"
             ],
             [
              0.1111111111111111,
              "#46039f"
             ],
             [
              0.2222222222222222,
              "#7201a8"
             ],
             [
              0.3333333333333333,
              "#9c179e"
             ],
             [
              0.4444444444444444,
              "#bd3786"
             ],
             [
              0.5555555555555556,
              "#d8576b"
             ],
             [
              0.6666666666666666,
              "#ed7953"
             ],
             [
              0.7777777777777778,
              "#fb9f3a"
             ],
             [
              0.8888888888888888,
              "#fdca26"
             ],
             [
              1,
              "#f0f921"
             ]
            ],
            "type": "histogram2d"
           }
          ],
          "histogram2dcontour": [
           {
            "colorbar": {
             "outlinewidth": 0,
             "ticks": ""
            },
            "colorscale": [
             [
              0,
              "#0d0887"
             ],
             [
              0.1111111111111111,
              "#46039f"
             ],
             [
              0.2222222222222222,
              "#7201a8"
             ],
             [
              0.3333333333333333,
              "#9c179e"
             ],
             [
              0.4444444444444444,
              "#bd3786"
             ],
             [
              0.5555555555555556,
              "#d8576b"
             ],
             [
              0.6666666666666666,
              "#ed7953"
             ],
             [
              0.7777777777777778,
              "#fb9f3a"
             ],
             [
              0.8888888888888888,
              "#fdca26"
             ],
             [
              1,
              "#f0f921"
             ]
            ],
            "type": "histogram2dcontour"
           }
          ],
          "mesh3d": [
           {
            "colorbar": {
             "outlinewidth": 0,
             "ticks": ""
            },
            "type": "mesh3d"
           }
          ],
          "parcoords": [
           {
            "line": {
             "colorbar": {
              "outlinewidth": 0,
              "ticks": ""
             }
            },
            "type": "parcoords"
           }
          ],
          "pie": [
           {
            "automargin": true,
            "type": "pie"
           }
          ],
          "scatter": [
           {
            "marker": {
             "colorbar": {
              "outlinewidth": 0,
              "ticks": ""
             }
            },
            "type": "scatter"
           }
          ],
          "scatter3d": [
           {
            "line": {
             "colorbar": {
              "outlinewidth": 0,
              "ticks": ""
             }
            },
            "marker": {
             "colorbar": {
              "outlinewidth": 0,
              "ticks": ""
             }
            },
            "type": "scatter3d"
           }
          ],
          "scattercarpet": [
           {
            "marker": {
             "colorbar": {
              "outlinewidth": 0,
              "ticks": ""
             }
            },
            "type": "scattercarpet"
           }
          ],
          "scattergeo": [
           {
            "marker": {
             "colorbar": {
              "outlinewidth": 0,
              "ticks": ""
             }
            },
            "type": "scattergeo"
           }
          ],
          "scattergl": [
           {
            "marker": {
             "colorbar": {
              "outlinewidth": 0,
              "ticks": ""
             }
            },
            "type": "scattergl"
           }
          ],
          "scattermapbox": [
           {
            "marker": {
             "colorbar": {
              "outlinewidth": 0,
              "ticks": ""
             }
            },
            "type": "scattermapbox"
           }
          ],
          "scatterpolar": [
           {
            "marker": {
             "colorbar": {
              "outlinewidth": 0,
              "ticks": ""
             }
            },
            "type": "scatterpolar"
           }
          ],
          "scatterpolargl": [
           {
            "marker": {
             "colorbar": {
              "outlinewidth": 0,
              "ticks": ""
             }
            },
            "type": "scatterpolargl"
           }
          ],
          "scatterternary": [
           {
            "marker": {
             "colorbar": {
              "outlinewidth": 0,
              "ticks": ""
             }
            },
            "type": "scatterternary"
           }
          ],
          "surface": [
           {
            "colorbar": {
             "outlinewidth": 0,
             "ticks": ""
            },
            "colorscale": [
             [
              0,
              "#0d0887"
             ],
             [
              0.1111111111111111,
              "#46039f"
             ],
             [
              0.2222222222222222,
              "#7201a8"
             ],
             [
              0.3333333333333333,
              "#9c179e"
             ],
             [
              0.4444444444444444,
              "#bd3786"
             ],
             [
              0.5555555555555556,
              "#d8576b"
             ],
             [
              0.6666666666666666,
              "#ed7953"
             ],
             [
              0.7777777777777778,
              "#fb9f3a"
             ],
             [
              0.8888888888888888,
              "#fdca26"
             ],
             [
              1,
              "#f0f921"
             ]
            ],
            "type": "surface"
           }
          ],
          "table": [
           {
            "cells": {
             "fill": {
              "color": "#EBF0F8"
             },
             "line": {
              "color": "white"
             }
            },
            "header": {
             "fill": {
              "color": "#C8D4E3"
             },
             "line": {
              "color": "white"
             }
            },
            "type": "table"
           }
          ]
         },
         "layout": {
          "annotationdefaults": {
           "arrowcolor": "#2a3f5f",
           "arrowhead": 0,
           "arrowwidth": 1
          },
          "autotypenumbers": "strict",
          "coloraxis": {
           "colorbar": {
            "outlinewidth": 0,
            "ticks": ""
           }
          },
          "colorscale": {
           "diverging": [
            [
             0,
             "#8e0152"
            ],
            [
             0.1,
             "#c51b7d"
            ],
            [
             0.2,
             "#de77ae"
            ],
            [
             0.3,
             "#f1b6da"
            ],
            [
             0.4,
             "#fde0ef"
            ],
            [
             0.5,
             "#f7f7f7"
            ],
            [
             0.6,
             "#e6f5d0"
            ],
            [
             0.7,
             "#b8e186"
            ],
            [
             0.8,
             "#7fbc41"
            ],
            [
             0.9,
             "#4d9221"
            ],
            [
             1,
             "#276419"
            ]
           ],
           "sequential": [
            [
             0,
             "#0d0887"
            ],
            [
             0.1111111111111111,
             "#46039f"
            ],
            [
             0.2222222222222222,
             "#7201a8"
            ],
            [
             0.3333333333333333,
             "#9c179e"
            ],
            [
             0.4444444444444444,
             "#bd3786"
            ],
            [
             0.5555555555555556,
             "#d8576b"
            ],
            [
             0.6666666666666666,
             "#ed7953"
            ],
            [
             0.7777777777777778,
             "#fb9f3a"
            ],
            [
             0.8888888888888888,
             "#fdca26"
            ],
            [
             1,
             "#f0f921"
            ]
           ],
           "sequentialminus": [
            [
             0,
             "#0d0887"
            ],
            [
             0.1111111111111111,
             "#46039f"
            ],
            [
             0.2222222222222222,
             "#7201a8"
            ],
            [
             0.3333333333333333,
             "#9c179e"
            ],
            [
             0.4444444444444444,
             "#bd3786"
            ],
            [
             0.5555555555555556,
             "#d8576b"
            ],
            [
             0.6666666666666666,
             "#ed7953"
            ],
            [
             0.7777777777777778,
             "#fb9f3a"
            ],
            [
             0.8888888888888888,
             "#fdca26"
            ],
            [
             1,
             "#f0f921"
            ]
           ]
          },
          "colorway": [
           "#636efa",
           "#EF553B",
           "#00cc96",
           "#ab63fa",
           "#FFA15A",
           "#19d3f3",
           "#FF6692",
           "#B6E880",
           "#FF97FF",
           "#FECB52"
          ],
          "font": {
           "color": "#2a3f5f"
          },
          "geo": {
           "bgcolor": "white",
           "lakecolor": "white",
           "landcolor": "#E5ECF6",
           "showlakes": true,
           "showland": true,
           "subunitcolor": "white"
          },
          "hoverlabel": {
           "align": "left"
          },
          "hovermode": "closest",
          "mapbox": {
           "style": "light"
          },
          "paper_bgcolor": "white",
          "plot_bgcolor": "#E5ECF6",
          "polar": {
           "angularaxis": {
            "gridcolor": "white",
            "linecolor": "white",
            "ticks": ""
           },
           "bgcolor": "#E5ECF6",
           "radialaxis": {
            "gridcolor": "white",
            "linecolor": "white",
            "ticks": ""
           }
          },
          "scene": {
           "xaxis": {
            "backgroundcolor": "#E5ECF6",
            "gridcolor": "white",
            "gridwidth": 2,
            "linecolor": "white",
            "showbackground": true,
            "ticks": "",
            "zerolinecolor": "white"
           },
           "yaxis": {
            "backgroundcolor": "#E5ECF6",
            "gridcolor": "white",
            "gridwidth": 2,
            "linecolor": "white",
            "showbackground": true,
            "ticks": "",
            "zerolinecolor": "white"
           },
           "zaxis": {
            "backgroundcolor": "#E5ECF6",
            "gridcolor": "white",
            "gridwidth": 2,
            "linecolor": "white",
            "showbackground": true,
            "ticks": "",
            "zerolinecolor": "white"
           }
          },
          "shapedefaults": {
           "line": {
            "color": "#2a3f5f"
           }
          },
          "ternary": {
           "aaxis": {
            "gridcolor": "white",
            "linecolor": "white",
            "ticks": ""
           },
           "baxis": {
            "gridcolor": "white",
            "linecolor": "white",
            "ticks": ""
           },
           "bgcolor": "#E5ECF6",
           "caxis": {
            "gridcolor": "white",
            "linecolor": "white",
            "ticks": ""
           }
          },
          "title": {
           "x": 0.05
          },
          "xaxis": {
           "automargin": true,
           "gridcolor": "white",
           "linecolor": "white",
           "ticks": "",
           "title": {
            "standoff": 15
           },
           "zerolinecolor": "white",
           "zerolinewidth": 2
          },
          "yaxis": {
           "automargin": true,
           "gridcolor": "white",
           "linecolor": "white",
           "ticks": "",
           "title": {
            "standoff": 15
           },
           "zerolinecolor": "white",
           "zerolinewidth": 2
          }
         }
        }
       }
      }
     },
     "metadata": {},
     "output_type": "display_data"
    }
   ],
   "source": [
    "fig = go.Figure(go.Funnel(\n",
    "    y = [\"Pro\",\"News\", \"Nuetral\", \"Anti\"],\n",
    "    x = df.sentiment.value_counts(normalize = True) * 100\n",
    "    ))\n",
    "fig.show()"
   ]
  },
  {
   "cell_type": "markdown",
   "metadata": {},
   "source": [
    "##UNBALANCED DATA\n",
    "\n",
    "Pro tweets occupy 53.92% of the total tweets.\n",
    "\n",
    "News tweets occupy 23.02% of the total tweets.\n",
    "\n",
    "Neutral tweets occupy 14.87% of the total tweets.\n",
    "\n",
    "Anti tweets occupy 8.19% of the total tweets.\n"
   ]
  },
  {
   "cell_type": "markdown",
   "metadata": {},
   "source": [
    "It clear that more than half of the tweets samples supports the beliefs of man-made climate change, while very few tweet sample does not believe in man-made climate change."
>>>>>>> origin/master
   ]
  },
  {
   "cell_type": "markdown",
   "metadata": {},
   "source": [
    "Viewing an Entire length of message feature in the tweet dataframe, so as to find patterns on how most tweet messages are typed."
   ]
  },
  {
   "cell_type": "code",
   "execution_count": 38,
   "metadata": {},
   "outputs": [
    {
     "name": "stdout",
     "output_type": "stream",
     "text": [
      "Show the full_text of 10 tweets: \n",
      "So we have a director of EPA who is a climate change denier. No a coal lobbies to as deputy EPA Chief. Environment… https://t.co/XlxHbWNJuM\n",
      "RT @IrisRimon: The Chinese just broke massive iceberg in Antarctica as part of their global warming hoax.\n",
      "RT @thinkprogress: Where are Rex Tillerson’s climate change emails?\n",
      "https://t.co/LyANHBPZfT\n",
      "RT @M3thG0d: If global warming isn't real why did club penguin shut down\n",
      "RT @NDeNicolaMD: 500,000 doctors agree: climate change is making us sick #EarthDay #MarchForScience #HealthAndClimate…\n",
      "RT @tristinc1: our president think climate change is a hoax made by the chinese &amp; our vice president thinks being gay is a curable disease.Ã¢â‚¬Â¦\n",
      "80% of GHG via resevoirs are methane. Resevoirs play a substantial role in global warming. https://t.co/CNHiU818Ky https://t.co/58nmAFxcmP\n",
      "RT @Fruitloopian: Why is there snow in March if we have global warming?\n",
      "RT @GreenHarvard: “Universities have a uniquely important role to play in the battle against climate change” https://t.co/jRV2z1OMrx\n",
      "RT @SethMacFarlane: Are we looking at an America that officially believes climate change is a hoax? Sorry, everybody else.\n"
     ]
    }
   ],
   "source": [
    "print('Show the full_text of 10 tweets: ')\n",
    "for tweet in df['message'][100:110]:\n",
    "    print(tweet)"
   ]
  },
  {
   "cell_type": "markdown",
   "metadata": {},
   "source": [
    "Alright... Progress, we can now easily see the full_text in every row of the message."
   ]
  },
  {
   "cell_type": "markdown",
   "metadata": {},
   "source": [
    "\n",
    "From above analysis, we have found that 'tweetid' is NOT required in our analysis. Therefore, we remove unnecessary columns from our training data"
   ]
  },
  {
   "cell_type": "markdown",
   "metadata": {},
   "source": [
    "#### Getting More Information through visualization."
   ]
  },
  {
   "cell_type": "code",
   "execution_count": 6,
   "metadata": {},
   "outputs": [],
   "source": [
    "full_text = \" \".join(df['message'])"
   ]
  },
  {
   "cell_type": "markdown",
   "metadata": {},
   "source": [
    "We joined the entire message column in the train dataset, so has to be able to get the most common word or words in the data"
   ]
  },
  {
   "cell_type": "markdown",
   "metadata": {},
   "source": [
    "#### Visualizing the most common words with Word Cloud"
   ]
  },
  {
   "cell_type": "code",
   "execution_count": 8,
   "metadata": {},
   "outputs": [
    {
     "data": {
      "image/png": "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",
      "text/plain": [
       "<Figure size 432x432 with 1 Axes>"
      ]
     },
     "metadata": {},
     "output_type": "display_data"
    }
   ],
   "source": [
    "wc = WordCloud(background_color='white')\n",
    "img = wc.generate(full_text)\n",
    "plt.figure(figsize=(6,6))\n",
    "plt.imshow(img)\n",
    "plt.axis('off')\n",
    "plt.show()\n"
   ]
  },
  {
   "cell_type": "markdown",
   "metadata": {},
   "source": [
    "The Most repeated words in the tweet message are:\n",
    "\n",
    "    . Climate, Change, Global, Warming, Change, https, RT, Today, CO e.t.c. "
   ]
  },
  {
   "cell_type": "markdown",
   "metadata": {},
   "source": [
    "### Key Insights\n",
    "\n",
    " A- Message Column contains stopwords and, unimportant words like:\n",
    "\n",
    "     1. RT,\n",
    "     2. #,\n",
    "     3. @\n",
    "     4. https: links\n",
    "     5. emoji's \n",
    "     6. ( )\n",
    "     7. +\n",
    "     8. !~ \"\" \n",
    "\n",
    " B- The Dataset Comprises of Unbalanced Data\n",
    "\n",
    " C- Giving that \"tweetid\" comprises of unique values, it will be   non-relevant in the analysis, therefore i will be removed later on."
   ]
  },
  {
   "cell_type": "markdown",
   "metadata": {},
   "source": [
    "<a id=\"four\"></a>\n",
    "## 4. Data Engineering\n",
    "<a class=\"anchor\" id=\"1.1\"></a>\n",
    "<a href=#cont>Back to Table of Contents</a>\n",
    "\n",
    "---\n",
    "    \n",
    "| ⚡ Description: Data engineering ⚡ |\n",
    "| :--------------------------- |\n",
    "| In this section we are required to: clean the dataset, and possibly create new features - as identified in the EDA phase. |\n",
    "\n",
    "---"
   ]
  },
  {
   "cell_type": "code",
   "execution_count": null,
   "metadata": {},
   "outputs": [],
   "source": []
  },
  {
   "cell_type": "code",
   "execution_count": null,
   "metadata": {},
   "outputs": [],
   "source": []
  },
  {
   "cell_type": "markdown",
   "metadata": {},
   "source": [
    "<a id=\"five\"></a>\n",
    "## 5. Modelling\n",
    "<a class=\"anchor\" id=\"1.1\"></a>\n",
    "<a href=#cont>Back to Table of Contents</a>\n",
    "\n",
    "---\n",
    "    \n",
    "| ⚡ Description: Modelling ⚡ |\n",
    "| :--------------------------- |\n",
    "| In this section, we are required to create one or more regression models that are able to accurately predict the Individual Beliefs on Climate Changes. |\n",
    "\n",
    "---"
   ]
  },
  {
   "cell_type": "code",
   "execution_count": null,
   "metadata": {},
   "outputs": [],
   "source": []
  },
  {
   "cell_type": "markdown",
   "metadata": {},
   "source": [
    "<a id=\"six\"></a>\n",
    "## 6. Model Performance\n",
    "<a class=\"anchor\" id=\"1.1\"></a>\n",
    "<a href=#cont>Back to Table of Contents</a>\n",
    "\n",
    "---\n",
    "    \n",
    "| ⚡ Description: Model performance ⚡ |\n",
    "| :--------------------------- |\n",
    "| In this section we are required to compare the relative performance of the various trained ML models on a holdout dataset and comment on what model is the best and why. |\n",
    "\n",
    "---"
   ]
  },
  {
   "cell_type": "code",
   "execution_count": null,
   "metadata": {},
   "outputs": [],
   "source": []
  },
  {
   "cell_type": "markdown",
   "metadata": {},
   "source": [
    "<a id=\"seven\"></a>\n",
    "## 7. Model Explanations\n",
    "<a class=\"anchor\" id=\"1.1\"></a>\n",
    "<a href=#cont>Back to Table of Contents</a>\n",
    "\n",
    "---\n",
    "    \n",
    "| ⚡ Description: Model explanation ⚡ |\n",
    "| :--------------------------- |\n",
    "| In this section, we are required to discuss how the best performing model works in a simple way so that both technical and non-technical stakeholders can grasp the intuition behind the model's inner workings. |\n",
    "\n",
    "---"
   ]
  },
  {
   "cell_type": "code",
   "execution_count": null,
   "metadata": {},
   "outputs": [],
   "source": []
  },
  {
   "cell_type": "code",
   "execution_count": 3,
   "metadata": {},
   "outputs": [
    {
     "name": "stderr",
     "output_type": "stream",
     "text": [
      "COMET INFO: ---------------------------\n",
      "COMET INFO: Comet.ml Experiment Summary\n",
      "COMET INFO: ---------------------------\n",
      "COMET INFO:   Data:\n",
      "COMET INFO:     display_summary_level : 1\n",
      "COMET INFO:     url                   : https://www.comet.ml/sodiq-olamide/climate-change-belief-analysis/b337f1d9c4194cbb97804e6174256d89\n",
      "COMET INFO:   Uploads:\n",
      "COMET INFO:     environment details      : 1\n",
      "COMET INFO:     filename                 : 1\n",
      "COMET INFO:     git metadata             : 1\n",
      "COMET INFO:     git-patch (uncompressed) : 1 (1.25 KB)\n",
      "COMET INFO:     installed packages       : 1\n",
      "COMET INFO:     notebook                 : 1\n",
      "COMET INFO:     source_code              : 1\n",
      "COMET INFO: ---------------------------\n",
      "COMET INFO: Uploading metrics, params, and assets to Comet before program termination (may take several seconds)\n",
      "COMET INFO: The Python SDK has 3600 seconds to finish before aborting...\n",
      "COMET INFO: Uploading 1 metrics, params and output messages\n",
      "COMET INFO: Waiting for completion of the file uploads (may take several seconds)\n",
      "COMET INFO: The Python SDK has 10800 seconds to finish before aborting...\n",
      "COMET INFO: All files uploaded, waiting for confirmation they have been all received\n"
     ]
    }
   ],
   "source": [
    "experiment.end()"
   ]
  }
 ],
 "metadata": {
  "interpreter": {
   "hash": "f1bbc1655b927eebf162c370b52077a239090e504a15e5628dbcc94473f432c4"
  },
  "kernelspec": {
   "display_name": "Python 3",
   "language": "python",
   "name": "python3"
  },
  "language_info": {
   "codemirror_mode": {
    "name": "ipython",
    "version": 3
   },
   "file_extension": ".py",
   "mimetype": "text/x-python",
   "name": "python",
   "nbconvert_exporter": "python",
   "pygments_lexer": "ipython3",
   "version": "3.8.8"
  }
 },
 "nbformat": 4,
 "nbformat_minor": 2
}
