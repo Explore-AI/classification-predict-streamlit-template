{
 "cells": [
  {
   "cell_type": "markdown",
   "metadata": {
    "id": "ZUE6Op_LLx_G"
   },
   "source": [
    "# SMEND CONSULTS Sentiment Analysis on Climate Change Predict.\n",
    "© Explore Data Science Academy"
   ]
  },
  {
   "cell_type": "markdown",
   "metadata": {
    "id": "eng32_bHMIeZ"
   },
   "source": [
    "# The Team\n",
    " 1. Sodiq Ambali - Team lead\n",
    " 2. Eteng Uket\n",
    " 3. Nichodemus Amollo\n",
    " 4. Michael Omosebi\n",
    " 5. Dorcas Solonka"
   ]
  },
  {
   "cell_type": "markdown",
   "metadata": {
    "id": "GjQJyhgjLIql"
   },
   "source": [
    "# Climate Change Belief Analysis 2022\n",
    "\n",
    "### Overview: Predict an individual’s belief in climate change based on historical tweet data.\n",
    "   \n",
    "- Many companies are built around lessening one’s environmental impact or carbon footprint. They offer products and services that are environmentally friendly and sustainable, in line with their values and ideals. \n",
    "\n",
    "## Problem Statement\n",
    "#### In this project we would like to determine how people perceive climate change and whether or not they believe it is a real threat. This would add to companies market research efforts in gauging how their product/service may be received.\n",
    "\n",
    "### Variable definitions\n",
    "- sentiment: Sentiment of tweet\n",
    "- message: Tweet body\n",
    "- tweetid: Twitter unique id\n",
    "\n",
    "### Sentiment of tweet Description\n",
    "* 2 News: the tweet links to factual news about climate change\n",
    "* 1 Pro: the tweet supports the belief of man-made climate change\n",
    "* 0 Neutral: the tweet neither supports nor refutes the belief of man-made climate change\n",
    "* -1 Anti: the tweet does not believe in man-made climate change"
   ]
  },
  {
   "cell_type": "markdown",
   "metadata": {
    "id": "AWJRKnp1LIq5"
   },
   "source": [
    "<a id=\"cont\"></a>\n",
    "\n",
    "## Table of Contents\n",
    "\n",
    "<a href=#one>1. Importing Packages</a>\n",
    "\n",
    "<a href=#two>2. Loading Data</a>\n",
    "\n",
    "<a href=#three>3. Exploratory Data Analysis (EDA)</a>\n",
    "\n",
    "<a href=#four>4. Data Engineering</a>\n",
    "\n",
    "<a href=#five>5. Modeling</a>\n",
    "\n",
    "<a href=#six>6. Model Performance</a>\n",
    "\n",
    "<a href=#seven>7. Model Explanations</a>"
   ]
  },
  {
   "cell_type": "markdown",
   "metadata": {
    "id": "QFlux2e-LIq8"
   },
   "source": []
  },
  {
   "cell_type": "code",
   "execution_count": 1,
   "metadata": {
    "id": "sKKVIF7OLIq_",
    "outputId": "b072a79b-ce18-4402-9fc0-f4da44bd1533"
   },
   "outputs": [
    {
     "name": "stderr",
     "output_type": "stream",
     "text": [
      "COMET WARNING: As you are running in a Jupyter environment, you will need to call `experiment.end()` when finished to ensure all metrics and code are logged before exiting.\n",
      "COMET INFO: Experiment is live on comet.ml https://www.comet.ml/sodiq-olamide/climate-change-belief-analysis/7fbfe3ee81d54c93a6d5399d702e18d4\n",
      "\n"
     ]
    }
   ],
   "source": [
    "# import comet_ml at the top of your file\n",
    "from comet_ml import Experiment\n",
    "\n",
    "# Create an experiment with your api key\n",
    "experiment = Experiment(\n",
    "    api_key=\"pZRIYy5yWLxOVTSX7gAbXSwXX\",\n",
    "    project_name=\"climate-change-belief-analysis\",\n",
    "    workspace=\"sodiq-olamide\")"
   ]
  },
  {
   "cell_type": "markdown",
   "metadata": {},
   "source": [
    " <a id=\"one\"></a>\n",
    "## 1. Importing Packages\n",
    "<a href=#cont>Back to Table of Contents</a>\n",
    "\n",
    "---\n",
    "    \n",
    "| ⚡ Description: Importing Packages ⚡ |\n",
    "| :--------------------------- |\n",
    "| In this section we import, and briefly discuss, the libraries that will be used throughout your analysis and modelling. |\n",
    "\n",
    "---"
   ]
  },
  {
   "cell_type": "markdown",
   "metadata": {
    "id": "gvWaz0n2LIrI"
   },
   "source": [
    "#### For any Machine Learning projects certain python packages must be imported in order to carry out the task.\n",
    "### Below contains all package necessary for predicting individuals beliefs in climate change."
   ]
  },
  {
   "cell_type": "code",
   "execution_count": 4,
   "metadata": {
    "executionInfo": {
     "elapsed": 1886,
     "status": "ok",
     "timestamp": 1649237655008,
     "user": {
      "displayName": "Solonka Sempeyian",
      "userId": "11821087901275073053"
     },
     "user_tz": -180
    },
    "id": "AtvfyMPxLIrK"
   },
   "outputs": [
    {
     "name": "stderr",
     "output_type": "stream",
     "text": [
      "C:\\Users\\Engr  Dasilva\\anaconda3\\lib\\site-packages\\xgboost\\compat.py:36: FutureWarning: pandas.Int64Index is deprecated and will be removed from pandas in a future version. Use pandas.Index with the appropriate dtype instead.\n",
      "  from pandas import MultiIndex, Int64Index\n"
     ]
    }
   ],
   "source": [
    "#NumPy can be used to perform a wide variety of mathematical operations on arrays\n",
    "import numpy as np\n",
    "#Pandas is used for working with data sets.It has functions for analyzing, cleaning, exploring, and manipulating data.\n",
    "import pandas as pd\n",
    "from pandas import MultiIndex\n",
    "\n",
    "#Below are comprehensive libraries for creating static, animated, and interactive visualizations.\n",
    "import matplotlib.pyplot as plt\n",
    "%matplotlib inline\n",
    "import itertools\n",
    "import seaborn as sns\n",
    "from wordcloud import WordCloud\n",
    "from plotly import graph_objects as go\n",
    "# set plot style\n",
    "sns.set()\n",
    "#Regular Expression used for data cleaning\n",
    "import re\n",
    "\n",
    "#Text processing packages\n",
    "import nltk\n",
    "from nltk.corpus import stopwords\n",
    "from nltk.tokenize import word_tokenize, TreebankWordTokenizer\n",
    "from nltk.tokenize import RegexpTokenizer\n",
    "from nltk.stem.porter import PorterStemmer\n",
    "from nltk.stem import WordNetLemmatizer\n",
    "import string\n",
    "from sklearn.feature_extraction.text import TfidfVectorizer\n",
    "\n",
    "#Model evaluation packages\n",
    "from sklearn.metrics import f1_score\n",
    "from sklearn.metrics import confusion_matrix\n",
    "from sklearn.metrics import classification_report \n",
    "from sklearn.metrics import accuracy_score, precision_score,  recall_score\n",
    "\n",
    "#Packages to split the data for testing and training\n",
    "from sklearn.model_selection import train_test_split\n",
    "\n",
    "#Packages for features selection\n",
    "#from mlxtend.feature_selection import SequentialFeatureSelector as sfs\n",
    "from mlxtend.plotting import plot_sequential_feature_selection as plot_sfs\n",
    "from sklearn.feature_selection import SelectKBest\n",
    "from sklearn.feature_selection import f_classif\n",
    "\n",
    "#Modelling Packages\n",
    "from sklearn.linear_model import LogisticRegression\n",
    "from sklearn.tree import DecisionTreeClassifier\n",
    "from sklearn.ensemble import RandomForestClassifier\n",
    "from xgboost import XGBClassifier\n",
    "from xgboost import XGBRFClassifier\n",
    "from sklearn.naive_bayes import MultinomialNB\n",
    "from sklearn.neural_network import MLPClassifier\n",
    "from sklearn.neighbors import KNeighborsClassifier\n",
    "from sklearn.svm import LinearSVC\n",
    "#\n",
    "from sklearn.model_selection import GridSearchCV\n",
    "from imblearn.pipeline import make_pipeline\n",
    "from sklearn.pipeline import Pipeline\n",
    "from sklearn.pipeline import FeatureUnion\n",
    "\n",
    "#Imbalanced data processing packages\n",
    "from imblearn.over_sampling import SMOTE\n",
    "from collections import Counter\n",
    "from imblearn.combine import SMOTEENN, SMOTETomek\n",
    "\n",
    "#from sklearn.pipeline import make_pipeline\n",
    "\n",
    "\n",
    "import warnings\n",
    "warnings.filterwarnings('ignore')"
   ]
  },
  {
   "cell_type": "markdown",
   "metadata": {
    "id": "XZzIaHmFLIrQ"
   },
   "source": [
    "<a id=\"two\"></a>\n",
    "## 2. Loading the Data\n",
    "<a class=\"anchor\" id=\"1.1\"></a>\n",
    "<a href=#cont>Back to Table of Contents</a>\n",
    "\n",
    "---\n",
    "    \n",
    "| ⚡ Description: Loading the data ⚡ |\n",
    "| :--------------------------- |\n",
    "| In this section we to load the data file's into a DataFrame. |\n",
    "\n",
    "---"
   ]
  },
  {
   "cell_type": "markdown",
   "metadata": {
    "id": "qtaWGt0FLIrT"
   },
   "source": [
    " In predicting Individuals beliefs in climate change based on historical data, supervised classification techniques must be performed, here for we must load in the training dataset for training the classifier model's and test dataset for predicting the result of the trained model's."
   ]
  },
  {
   "cell_type": "code",
   "execution_count": 5,
   "metadata": {
    "executionInfo": {
     "elapsed": 1010,
     "status": "ok",
     "timestamp": 1649237741039,
     "user": {
      "displayName": "Solonka Sempeyian",
      "userId": "11821087901275073053"
     },
     "user_tz": -180
    },
    "id": "BwLbWCmhLIrW"
   },
   "outputs": [],
   "source": [
    "#Load the tweet dataset into a dataframe\n",
    "train_df = pd.read_csv(\"train.csv\")\n",
    "test_df = pd.read_csv(\"test.csv\")"
   ]
  },
  {
   "cell_type": "markdown",
   "metadata": {
    "id": "TWqiASW0LIrZ"
   },
   "source": [
    "The training dataset is stored in a variable named train_df, while the test dataset is stored in test_df"
   ]
  },
  {
   "cell_type": "markdown",
   "metadata": {
    "id": "9XLK_F8DLIrb"
   },
   "source": [
    "The next and one of the most important process is to perform an EDA, that is Exploratory Data Analysis, which involves analyzing the training dataset in other to derive meaningful insights about the data."
   ]
  },
  {
   "cell_type": "markdown",
   "metadata": {
    "id": "tVJAgrMMLIrc"
   },
   "source": [
    "<a id=\"three\"></a>\n",
    "## 3. Exploratory Data Analysis (EDA)\n",
    "<a class=\"anchor\" id=\"1.1\"></a>\n",
    "<a href=#cont>Back to Table of Contents</a>\n",
    "\n",
    "---\n",
    "    \n",
    "| ⚡ Description: Exploratory data analysis ⚡ |\n",
    "| :--------------------------- |\n",
    "| In this section, we perform an in-depth analysis of all the variables in the DataFrame. |\n",
    "\n",
    "---\n"
   ]
  },
  {
   "cell_type": "markdown",
   "metadata": {
    "id": "-SViPrxJLIre"
   },
   "source": [
    "Getting a view of our training dataset."
   ]
  },
  {
   "cell_type": "code",
   "execution_count": 6,
   "metadata": {
    "colab": {
     "base_uri": "https://localhost:8080/",
     "height": 206
    },
    "executionInfo": {
     "elapsed": 413,
     "status": "ok",
     "timestamp": 1649237745272,
     "user": {
      "displayName": "Solonka Sempeyian",
      "userId": "11821087901275073053"
     },
     "user_tz": -180
    },
    "id": "paomNZU8LIrf",
    "outputId": "75e0957b-751a-4228-f8fc-17073e5a5070"
   },
   "outputs": [
    {
     "data": {
      "text/html": [
       "<div>\n",
       "<style scoped>\n",
       "    .dataframe tbody tr th:only-of-type {\n",
       "        vertical-align: middle;\n",
       "    }\n",
       "\n",
       "    .dataframe tbody tr th {\n",
       "        vertical-align: top;\n",
       "    }\n",
       "\n",
       "    .dataframe thead th {\n",
       "        text-align: right;\n",
       "    }\n",
       "</style>\n",
       "<table border=\"1\" class=\"dataframe\">\n",
       "  <thead>\n",
       "    <tr style=\"text-align: right;\">\n",
       "      <th></th>\n",
       "      <th>sentiment</th>\n",
       "      <th>message</th>\n",
       "      <th>tweetid</th>\n",
       "    </tr>\n",
       "  </thead>\n",
       "  <tbody>\n",
       "    <tr>\n",
       "      <th>0</th>\n",
       "      <td>1</td>\n",
       "      <td>PolySciMajor EPA chief doesn't think carbon di...</td>\n",
       "      <td>625221</td>\n",
       "    </tr>\n",
       "    <tr>\n",
       "      <th>1</th>\n",
       "      <td>1</td>\n",
       "      <td>It's not like we lack evidence of anthropogeni...</td>\n",
       "      <td>126103</td>\n",
       "    </tr>\n",
       "    <tr>\n",
       "      <th>2</th>\n",
       "      <td>2</td>\n",
       "      <td>RT @RawStory: Researchers say we have three ye...</td>\n",
       "      <td>698562</td>\n",
       "    </tr>\n",
       "    <tr>\n",
       "      <th>3</th>\n",
       "      <td>1</td>\n",
       "      <td>#TodayinMaker# WIRED : 2016 was a pivotal year...</td>\n",
       "      <td>573736</td>\n",
       "    </tr>\n",
       "    <tr>\n",
       "      <th>4</th>\n",
       "      <td>1</td>\n",
       "      <td>RT @SoyNovioDeTodas: It's 2016, and a racist, ...</td>\n",
       "      <td>466954</td>\n",
       "    </tr>\n",
       "  </tbody>\n",
       "</table>\n",
       "</div>"
      ],
      "text/plain": [
       "   sentiment                                            message  tweetid\n",
       "0          1  PolySciMajor EPA chief doesn't think carbon di...   625221\n",
       "1          1  It's not like we lack evidence of anthropogeni...   126103\n",
       "2          2  RT @RawStory: Researchers say we have three ye...   698562\n",
       "3          1  #TodayinMaker# WIRED : 2016 was a pivotal year...   573736\n",
       "4          1  RT @SoyNovioDeTodas: It's 2016, and a racist, ...   466954"
      ]
     },
     "execution_count": 6,
     "metadata": {},
     "output_type": "execute_result"
    }
   ],
   "source": [
    "#Viewing the dataframe.\n",
    "train_df.head()"
   ]
  },
  {
   "cell_type": "markdown",
   "metadata": {
    "id": "HzKdoBpeLIrg"
   },
   "source": [
    "Get feature name and their types - to check for missing values."
   ]
  },
  {
   "cell_type": "code",
   "execution_count": 7,
   "metadata": {
    "colab": {
     "base_uri": "https://localhost:8080/"
    },
    "executionInfo": {
     "elapsed": 390,
     "status": "ok",
     "timestamp": 1649237750158,
     "user": {
      "displayName": "Solonka Sempeyian",
      "userId": "11821087901275073053"
     },
     "user_tz": -180
    },
    "id": "FWC7Ln5sLIrh",
    "outputId": "bacda9b3-31ed-4a45-f251-db7a105382a6"
   },
   "outputs": [
    {
     "name": "stdout",
     "output_type": "stream",
     "text": [
      "<class 'pandas.core.frame.DataFrame'>\n",
      "RangeIndex: 15819 entries, 0 to 15818\n",
      "Data columns (total 3 columns):\n",
      " #   Column     Non-Null Count  Dtype \n",
      "---  ------     --------------  ----- \n",
      " 0   sentiment  15819 non-null  int64 \n",
      " 1   message    15819 non-null  object\n",
      " 2   tweetid    15819 non-null  int64 \n",
      "dtypes: int64(2), object(1)\n",
      "memory usage: 370.9+ KB\n",
      "None\n"
     ]
    }
   ],
   "source": [
    "## getting feature name and their types - to check for missing values\n",
    "print(train_df.info())\n"
   ]
  },
  {
   "cell_type": "markdown",
   "metadata": {
    "id": "YS9KRdxoLIri"
   },
   "source": [
    "Both sentiment and tweet id are numerical columns with an Integer datatype. The message column is object type. There are 15819 values in each column, which confirms there is no missing value."
   ]
  },
  {
   "cell_type": "markdown",
   "metadata": {
    "id": "Fc_4wADmLIri"
   },
   "source": [
    "#### Further check for null values"
   ]
  },
  {
   "cell_type": "code",
   "execution_count": 8,
   "metadata": {
    "colab": {
     "base_uri": "https://localhost:8080/"
    },
    "executionInfo": {
     "elapsed": 425,
     "status": "ok",
     "timestamp": 1649237758057,
     "user": {
      "displayName": "Solonka Sempeyian",
      "userId": "11821087901275073053"
     },
     "user_tz": -180
    },
    "id": "brv1IiN7LIrj",
    "outputId": "b1d9300e-212c-4511-f6cf-dbb992699031"
   },
   "outputs": [
    {
     "name": "stdout",
     "output_type": "stream",
     "text": [
      "Null Value Statistics: \n",
      " sentiment    0\n",
      "message      0\n",
      "tweetid      0\n",
      "dtype: int64\n"
     ]
    }
   ],
   "source": [
    "## NULL values in the data\n",
    "print (\"Null Value Statistics:\", '\\n',train_df.isnull().sum()) ## Sum will tell the total number of NULL values inside the dataset"
   ]
  },
  {
   "cell_type": "markdown",
   "metadata": {
    "id": "_q_JQrcqLIrk"
   },
   "source": [
    "The data is complete - no column has missing values in the dataset."
   ]
  },
  {
   "cell_type": "markdown",
   "metadata": {
    "id": "vPj_Q73hLIrl"
   },
   "source": [
    "Get the shape of the data to understand the number of observations in the dataset."
   ]
  },
  {
   "cell_type": "code",
   "execution_count": 9,
   "metadata": {
    "colab": {
     "base_uri": "https://localhost:8080/"
    },
    "executionInfo": {
     "elapsed": 8,
     "status": "ok",
     "timestamp": 1649237760413,
     "user": {
      "displayName": "Solonka Sempeyian",
      "userId": "11821087901275073053"
     },
     "user_tz": -180
    },
    "id": "Y0asSnd7LIrl",
    "outputId": "882d3dd5-4189-4b92-9233-6de7503b4818"
   },
   "outputs": [
    {
     "name": "stdout",
     "output_type": "stream",
     "text": [
      "Shape of Data : \n",
      " (15819, 3) \n",
      "\n",
      "No. of rows in the data =  15819\n",
      "No. of columns in the data =  3\n"
     ]
    }
   ],
   "source": [
    "## 6) shape of data\n",
    "print(\"Shape of Data : \\n\", train_df.shape, \"\\n\")\n",
    "print(\"No. of rows in the data = \", train_df.shape[0])\n",
    "print(\"No. of columns in the data = \", train_df.shape[1])"
   ]
  },
  {
   "cell_type": "markdown",
   "metadata": {
    "id": "d4fARlkwLIrm"
   },
   "source": [
    "The historical train dataset contains 15819 rows and 3 columns."
   ]
  },
  {
   "cell_type": "markdown",
   "metadata": {
    "id": "A5Y7FZEELIrn"
   },
   "source": [
    "#### Distribution of tweets by sentiment"
   ]
  },
  {
   "cell_type": "code",
   "execution_count": 10,
   "metadata": {
    "colab": {
     "base_uri": "https://localhost:8080/",
     "height": 192
    },
    "executionInfo": {
     "elapsed": 388,
     "status": "ok",
     "timestamp": 1649237765636,
     "user": {
      "displayName": "Solonka Sempeyian",
      "userId": "11821087901275073053"
     },
     "user_tz": -180
    },
    "id": "BshcTgDsLIro",
    "outputId": "a0e02c06-063e-4817-dff3-5a553ce8493d"
   },
   "outputs": [
    {
     "name": "stdout",
     "output_type": "stream",
     "text": [
      "See distribution of messages per sentiment : \n"
     ]
    },
    {
     "data": {
      "text/html": [
       "<style type=\"text/css\">\n",
       "#T_6a812_row0_col0 {\n",
       "  background-color: #796eb2;\n",
       "  color: #f1f1f1;\n",
       "}\n",
       "#T_6a812_row0_col1, #T_6a812_row1_col0 {\n",
       "  background-color: #3f007d;\n",
       "  color: #f1f1f1;\n",
       "}\n",
       "#T_6a812_row1_col1 {\n",
       "  background-color: #c9c9e2;\n",
       "  color: #000000;\n",
       "}\n",
       "#T_6a812_row2_col0 {\n",
       "  background-color: #c6c7e1;\n",
       "  color: #000000;\n",
       "}\n",
       "#T_6a812_row2_col1 {\n",
       "  background-color: #eceaf3;\n",
       "  color: #000000;\n",
       "}\n",
       "#T_6a812_row3_col0, #T_6a812_row3_col1 {\n",
       "  background-color: #fcfbfd;\n",
       "  color: #000000;\n",
       "}\n",
       "</style>\n",
       "<table id=\"T_6a812\">\n",
       "  <thead>\n",
       "    <tr>\n",
       "      <th class=\"blank level0\" >&nbsp;</th>\n",
       "      <th id=\"T_6a812_level0_col0\" class=\"col_heading level0 col0\" >sentiment</th>\n",
       "      <th id=\"T_6a812_level0_col1\" class=\"col_heading level0 col1\" >message</th>\n",
       "    </tr>\n",
       "  </thead>\n",
       "  <tbody>\n",
       "    <tr>\n",
       "      <th id=\"T_6a812_level0_row0\" class=\"row_heading level0 row0\" >2</th>\n",
       "      <td id=\"T_6a812_row0_col0\" class=\"data row0 col0\" >1</td>\n",
       "      <td id=\"T_6a812_row0_col1\" class=\"data row0 col1\" >8530</td>\n",
       "    </tr>\n",
       "    <tr>\n",
       "      <th id=\"T_6a812_level0_row1\" class=\"row_heading level0 row1\" >3</th>\n",
       "      <td id=\"T_6a812_row1_col0\" class=\"data row1 col0\" >2</td>\n",
       "      <td id=\"T_6a812_row1_col1\" class=\"data row1 col1\" >3640</td>\n",
       "    </tr>\n",
       "    <tr>\n",
       "      <th id=\"T_6a812_level0_row2\" class=\"row_heading level0 row2\" >1</th>\n",
       "      <td id=\"T_6a812_row2_col0\" class=\"data row2 col0\" >0</td>\n",
       "      <td id=\"T_6a812_row2_col1\" class=\"data row2 col1\" >2353</td>\n",
       "    </tr>\n",
       "    <tr>\n",
       "      <th id=\"T_6a812_level0_row3\" class=\"row_heading level0 row3\" >0</th>\n",
       "      <td id=\"T_6a812_row3_col0\" class=\"data row3 col0\" >-1</td>\n",
       "      <td id=\"T_6a812_row3_col1\" class=\"data row3 col1\" >1296</td>\n",
       "    </tr>\n",
       "  </tbody>\n",
       "</table>\n"
      ],
      "text/plain": [
       "<pandas.io.formats.style.Styler at 0x207c03972b0>"
      ]
     },
     "execution_count": 10,
     "metadata": {},
     "output_type": "execute_result"
    }
   ],
   "source": [
    "# see statistics for categorical features\n",
    "print(\"See distribution of messages per sentiment : \")\n",
    "count = train_df.groupby(\"sentiment\").count()[\"message\"].reset_index().sort_values(by=\"message\", ascending=False)\n",
    "count.style.background_gradient(cmap=\"Purples\")"
   ]
  },
  {
   "cell_type": "code",
   "execution_count": 11,
   "metadata": {},
   "outputs": [
    {
     "data": {
      "image/png": "[encoded data removed]",
      "text/plain": [
       "<Figure size 432x288 with 1 Axes>"
      ]
     },
     "metadata": {},
     "output_type": "display_data"
    }
   ],
   "source": [
    "fig = plt.figure()\n",
    "ax = fig.add_axes([0,0,1,1])\n",
    "Sclass = ['Pro', 'News', 'Neutral', 'Anti']\n",
    "counts = [8530, 3640, 2353, 1296]\n",
    "ax.bar(Sclass,counts)\n",
    "plt.title('Tweets Sentiment Class Distribution')\n",
    "plt.show()"
   ]
  },
  {
   "cell_type": "markdown",
   "metadata": {
    "id": "YmCP4P0xLIro"
   },
   "source": [
    "1 Pro tweets: the number of tweets that support the belief of man-made climate change 8530.\n",
    "\n",
    "2 News: the number of tweets that link to factual news about climate change are 3640\n",
    "\n",
    "0 Neutral: the number of tweets that neither support nor refute the belief of man-made climate change are 2353\n",
    "\n",
    "-1 Anti: the number of tweets that does not believe in man-made climate change are 1296"
   ]
  },
  {
   "cell_type": "markdown",
   "metadata": {
    "id": "t8D0htOlLIrp"
   },
   "source": [
    "Getting Statistics for the Non -Numerical column."
   ]
  },
  {
   "cell_type": "code",
   "execution_count": 12,
   "metadata": {
    "colab": {
     "base_uri": "https://localhost:8080/",
     "height": 255
    },
    "executionInfo": {
     "elapsed": 390,
     "status": "ok",
     "timestamp": 1649237769258,
     "user": {
      "displayName": "Solonka Sempeyian",
      "userId": "11821087901275073053"
     },
     "user_tz": -180
    },
    "id": "sge3i1jjLIrp",
    "outputId": "fb431558-75ba-4138-92d6-a85369d2f640"
   },
   "outputs": [
    {
     "name": "stdout",
     "output_type": "stream",
     "text": [
      "See statistics for non- numerical columns : \n"
     ]
    },
    {
     "data": {
      "text/html": [
       "<div>\n",
       "<style scoped>\n",
       "    .dataframe tbody tr th:only-of-type {\n",
       "        vertical-align: middle;\n",
       "    }\n",
       "\n",
       "    .dataframe tbody tr th {\n",
       "        vertical-align: top;\n",
       "    }\n",
       "\n",
       "    .dataframe thead tr th {\n",
       "        text-align: left;\n",
       "    }\n",
       "\n",
       "    .dataframe thead tr:last-of-type th {\n",
       "        text-align: right;\n",
       "    }\n",
       "</style>\n",
       "<table border=\"1\" class=\"dataframe\">\n",
       "  <thead>\n",
       "    <tr>\n",
       "      <th></th>\n",
       "      <th colspan=\"4\" halign=\"left\">message</th>\n",
       "    </tr>\n",
       "    <tr>\n",
       "      <th></th>\n",
       "      <th>count</th>\n",
       "      <th>unique</th>\n",
       "      <th>top</th>\n",
       "      <th>freq</th>\n",
       "    </tr>\n",
       "    <tr>\n",
       "      <th>sentiment</th>\n",
       "      <th></th>\n",
       "      <th></th>\n",
       "      <th></th>\n",
       "      <th></th>\n",
       "    </tr>\n",
       "  </thead>\n",
       "  <tbody>\n",
       "    <tr>\n",
       "      <th>-1</th>\n",
       "      <td>1296</td>\n",
       "      <td>1222</td>\n",
       "      <td>RT @realDonaldTrump: The concept of global war...</td>\n",
       "      <td>22</td>\n",
       "    </tr>\n",
       "    <tr>\n",
       "      <th>0</th>\n",
       "      <td>2353</td>\n",
       "      <td>2245</td>\n",
       "      <td>RT @ULTRAVlOLENCE: Interviewer: 'What do you t...</td>\n",
       "      <td>20</td>\n",
       "    </tr>\n",
       "    <tr>\n",
       "      <th>1</th>\n",
       "      <td>8530</td>\n",
       "      <td>7224</td>\n",
       "      <td>RT @StephenSchlegel: she's thinking about how ...</td>\n",
       "      <td>307</td>\n",
       "    </tr>\n",
       "    <tr>\n",
       "      <th>2</th>\n",
       "      <td>3640</td>\n",
       "      <td>3542</td>\n",
       "      <td>RT @business: China tells Trump climate change...</td>\n",
       "      <td>12</td>\n",
       "    </tr>\n",
       "  </tbody>\n",
       "</table>\n",
       "</div>"
      ],
      "text/plain": [
       "          message                                                            \\\n",
       "            count unique                                                top   \n",
       "sentiment                                                                     \n",
       "-1           1296   1222  RT @realDonaldTrump: The concept of global war...   \n",
       " 0           2353   2245  RT @ULTRAVlOLENCE: Interviewer: 'What do you t...   \n",
       " 1           8530   7224  RT @StephenSchlegel: she's thinking about how ...   \n",
       " 2           3640   3542  RT @business: China tells Trump climate change...   \n",
       "\n",
       "                \n",
       "          freq  \n",
       "sentiment       \n",
       "-1          22  \n",
       " 0          20  \n",
       " 1         307  \n",
       " 2          12  "
      ]
     },
     "execution_count": 12,
     "metadata": {},
     "output_type": "execute_result"
    }
   ],
   "source": [
    "## see statistics for non- numerical features\n",
    "print(\"See statistics for non- numerical columns : \")\n",
    "train_df.groupby('sentiment').describe(include=['object'])"
   ]
  },
  {
   "cell_type": "markdown",
   "metadata": {
    "id": "D86_tknELIrq"
   },
   "source": [
    "Out of all tweets, there are a total of 14229 unique tweets. the most common tweet for Pro Tweet sentiment Class is \"RT @StephenSchlegel: she's thinking about how...\". it occurs 307 times."
   ]
  },
  {
   "cell_type": "markdown",
   "metadata": {
    "id": "cKL0SNH7LIrq"
   },
   "source": [
    "Visualizing the distribution tweets by Sentiments."
   ]
  },
  {
   "cell_type": "code",
   "execution_count": 13,
   "metadata": {
    "colab": {
     "base_uri": "https://localhost:8080/",
     "height": 542
    },
    "executionInfo": {
     "elapsed": 625,
     "status": "ok",
     "timestamp": 1649237773243,
     "user": {
      "displayName": "Solonka Sempeyian",
      "userId": "11821087901275073053"
     },
     "user_tz": -180
    },
    "id": "uQzd-5xaLIrr",
    "outputId": "8c812d06-a5da-4147-9ac4-fa088f8fe556"
   },
   "outputs": [
    {
     "data": {
      "application/vnd.plotly.v1+json": {
       "config": {
        "plotlyServerURL": "https://plot.ly"
       },
       "data": [
        {
         "type": "funnel",
         "x": [
          53.922498261584174,
          23.010304064732285,
          14.87451798470194,
          8.192679688981604
         ],
         "y": [
          "Pro",
          "News",
          "Nuetral",
          "Anti"
         ]
        }
       ],
       "layout": {
        "template": {
         "data": {
          "bar": [
           {
            "error_x": {
             "color": "#2a3f5f"
            },
            "error_y": {
             "color": "#2a3f5f"
            },
            "marker": {
             "line": {
              "color": "#E5ECF6",
              "width": 0.5
             },
             "pattern": {
              "fillmode": "overlay",
              "size": 10,
              "solidity": 0.2
             }
            },
            "type": "bar"
           }
          ],
          "barpolar": [
           {
            "marker": {
             "line": {
              "color": "#E5ECF6",
              "width": 0.5
             },
             "pattern": {
              "fillmode": "overlay",
              "size": 10,
              "solidity": 0.2
             }
            },
            "type": "barpolar"
           }
          ],
          "carpet": [
           {
            "aaxis": {
             "endlinecolor": "#2a3f5f",
             "gridcolor": "white",
             "linecolor": "white",
             "minorgridcolor": "white",
             "startlinecolor": "#2a3f5f"
            },
            "baxis": {
             "endlinecolor": "#2a3f5f",
             "gridcolor": "white",
             "linecolor": "white",
             "minorgridcolor": "white",
             "startlinecolor": "#2a3f5f"
            },
            "type": "carpet"
           }
          ],
          "choropleth": [
           {
            "colorbar": {
             "outlinewidth": 0,
             "ticks": ""
            },
            "type": "choropleth"
           }
          ],
          "contour": [
           {
            "colorbar": {
             "outlinewidth": 0,
             "ticks": ""
            },
            "colorscale": [
             [
              0,
              "#0d0887"
             ],
             [
              0.1111111111111111,
              "#46039f"
             ],
             [
              0.2222222222222222,
              "#7201a8"
             ],
             [
              0.3333333333333333,
              "#9c179e"
             ],
             [
              0.4444444444444444,
              "#bd3786"
             ],
             [
              0.5555555555555556,
              "#d8576b"
             ],
             [
              0.6666666666666666,
              "#ed7953"
             ],
             [
              0.7777777777777778,
              "#fb9f3a"
             ],
             [
              0.8888888888888888,
              "#fdca26"
             ],
             [
              1,
              "#f0f921"
             ]
            ],
            "type": "contour"
           }
          ],
          "contourcarpet": [
           {
            "colorbar": {
             "outlinewidth": 0,
             "ticks": ""
            },
            "type": "contourcarpet"
           }
          ],
          "heatmap": [
           {
            "colorbar": {
             "outlinewidth": 0,
             "ticks": ""
            },
            "colorscale": [
             [
              0,
              "#0d0887"
             ],
             [
              0.1111111111111111,
              "#46039f"
             ],
             [
              0.2222222222222222,
              "#7201a8"
             ],
             [
              0.3333333333333333,
              "#9c179e"
             ],
             [
              0.4444444444444444,
              "#bd3786"
             ],
             [
              0.5555555555555556,
              "#d8576b"
             ],
             [
              0.6666666666666666,
              "#ed7953"
             ],
             [
              0.7777777777777778,
              "#fb9f3a"
             ],
             [
              0.8888888888888888,
              "#fdca26"
             ],
             [
              1,
              "#f0f921"
             ]
            ],
            "type": "heatmap"
           }
          ],
          "heatmapgl": [
           {
            "colorbar": {
             "outlinewidth": 0,
             "ticks": ""
            },
            "colorscale": [
             [
              0,
              "#0d0887"
             ],
             [
              0.1111111111111111,
              "#46039f"
             ],
             [
              0.2222222222222222,
              "#7201a8"
             ],
             [
              0.3333333333333333,
              "#9c179e"
             ],
             [
              0.4444444444444444,
              "#bd3786"
             ],
             [
              0.5555555555555556,
              "#d8576b"
             ],
             [
              0.6666666666666666,
              "#ed7953"
             ],
             [
              0.7777777777777778,
              "#fb9f3a"
             ],
             [
              0.8888888888888888,
              "#fdca26"
             ],
             [
              1,
              "#f0f921"
             ]
            ],
            "type": "heatmapgl"
           }
          ],
          "histogram": [
           {
            "marker": {
             "pattern": {
              "fillmode": "overlay",
              "size": 10,
              "solidity": 0.2
             }
            },
            "type": "histogram"
           }
          ],
          "histogram2d": [
           {
            "colorbar": {
             "outlinewidth": 0,
             "ticks": ""
            },
            "colorscale": [
             [
              0,
              "#0d0887"
             ],
             [
              0.1111111111111111,
              "#46039f"
             ],
             [
              0.2222222222222222,
              "#7201a8"
             ],
             [
              0.3333333333333333,
              "#9c179e"
             ],
             [
              0.4444444444444444,
              "#bd3786"
             ],
             [
              0.5555555555555556,
              "#d8576b"
             ],
             [
              0.6666666666666666,
              "#ed7953"
             ],
             [
              0.7777777777777778,
              "#fb9f3a"
             ],
             [
              0.8888888888888888,
              "#fdca26"
             ],
             [
              1,
              "#f0f921"
             ]
            ],
            "type": "histogram2d"
           }
          ],
          "histogram2dcontour": [
           {
            "colorbar": {
             "outlinewidth": 0,
             "ticks": ""
            },
            "colorscale": [
             [
              0,
              "#0d0887"
             ],
             [
              0.1111111111111111,
              "#46039f"
             ],
             [
              0.2222222222222222,
              "#7201a8"
             ],
             [
              0.3333333333333333,
              "#9c179e"
             ],
             [
              0.4444444444444444,
              "#bd3786"
             ],
             [
              0.5555555555555556,
              "#d8576b"
             ],
             [
              0.6666666666666666,
              "#ed7953"
             ],
             [
              0.7777777777777778,
              "#fb9f3a"
             ],
             [
              0.8888888888888888,
              "#fdca26"
             ],
             [
              1,
              "#f0f921"
             ]
            ],
            "type": "histogram2dcontour"
           }
          ],
          "mesh3d": [
           {
            "colorbar": {
             "outlinewidth": 0,
             "ticks": ""
            },
            "type": "mesh3d"
           }
          ],
          "parcoords": [
           {
            "line": {
             "colorbar": {
              "outlinewidth": 0,
              "ticks": ""
             }
            },
            "type": "parcoords"
           }
          ],
          "pie": [
           {
            "automargin": true,
            "type": "pie"
           }
          ],
          "scatter": [
           {
            "marker": {
             "colorbar": {
              "outlinewidth": 0,
              "ticks": ""
             }
            },
            "type": "scatter"
           }
          ],
          "scatter3d": [
           {
            "line": {
             "colorbar": {
              "outlinewidth": 0,
              "ticks": ""
             }
            },
            "marker": {
             "colorbar": {
              "outlinewidth": 0,
              "ticks": ""
             }
            },
            "type": "scatter3d"
           }
          ],
          "scattercarpet": [
           {
            "marker": {
             "colorbar": {
              "outlinewidth": 0,
              "ticks": ""
             }
            },
            "type": "scattercarpet"
           }
          ],
          "scattergeo": [
           {
            "marker": {
             "colorbar": {
              "outlinewidth": 0,
              "ticks": ""
             }
            },
            "type": "scattergeo"
           }
          ],
          "scattergl": [
           {
            "marker": {
             "colorbar": {
              "outlinewidth": 0,
              "ticks": ""
             }
            },
            "type": "scattergl"
           }
          ],
          "scattermapbox": [
           {
            "marker": {
             "colorbar": {
              "outlinewidth": 0,
              "ticks": ""
             }
            },
            "type": "scattermapbox"
           }
          ],
          "scatterpolar": [
           {
            "marker": {
             "colorbar": {
              "outlinewidth": 0,
              "ticks": ""
             }
            },
            "type": "scatterpolar"
           }
          ],
          "scatterpolargl": [
           {
            "marker": {
             "colorbar": {
              "outlinewidth": 0,
              "ticks": ""
             }
            },
            "type": "scatterpolargl"
           }
          ],
          "scatterternary": [
           {
            "marker": {
             "colorbar": {
              "outlinewidth": 0,
              "ticks": ""
             }
            },
            "type": "scatterternary"
           }
          ],
          "surface": [
           {
            "colorbar": {
             "outlinewidth": 0,
             "ticks": ""
            },
            "colorscale": [
             [
              0,
              "#0d0887"
             ],
             [
              0.1111111111111111,
              "#46039f"
             ],
             [
              0.2222222222222222,
              "#7201a8"
             ],
             [
              0.3333333333333333,
              "#9c179e"
             ],
             [
              0.4444444444444444,
              "#bd3786"
             ],
             [
              0.5555555555555556,
              "#d8576b"
             ],
             [
              0.6666666666666666,
              "#ed7953"
             ],
             [
              0.7777777777777778,
              "#fb9f3a"
             ],
             [
              0.8888888888888888,
              "#fdca26"
             ],
             [
              1,
              "#f0f921"
             ]
            ],
            "type": "surface"
           }
          ],
          "table": [
           {
            "cells": {
             "fill": {
              "color": "#EBF0F8"
             },
             "line": {
              "color": "white"
             }
            },
            "header": {
             "fill": {
              "color": "#C8D4E3"
             },
             "line": {
              "color": "white"
             }
            },
            "type": "table"
           }
          ]
         },
         "layout": {
          "annotationdefaults": {
           "arrowcolor": "#2a3f5f",
           "arrowhead": 0,
           "arrowwidth": 1
          },
          "autotypenumbers": "strict",
          "coloraxis": {
           "colorbar": {
            "outlinewidth": 0,
            "ticks": ""
           }
          },
          "colorscale": {
           "diverging": [
            [
             0,
             "#8e0152"
            ],
            [
             0.1,
             "#c51b7d"
            ],
            [
             0.2,
             "#de77ae"
            ],
            [
             0.3,
             "#f1b6da"
            ],
            [
             0.4,
             "#fde0ef"
            ],
            [
             0.5,
             "#f7f7f7"
            ],
            [
             0.6,
             "#e6f5d0"
            ],
            [
             0.7,
             "#b8e186"
            ],
            [
             0.8,
             "#7fbc41"
            ],
            [
             0.9,
             "#4d9221"
            ],
            [
             1,
             "#276419"
            ]
           ],
           "sequential": [
            [
             0,
             "#0d0887"
            ],
            [
             0.1111111111111111,
             "#46039f"
            ],
            [
             0.2222222222222222,
             "#7201a8"
            ],
            [
             0.3333333333333333,
             "#9c179e"
            ],
            [
             0.4444444444444444,
             "#bd3786"
            ],
            [
             0.5555555555555556,
             "#d8576b"
            ],
            [
             0.6666666666666666,
             "#ed7953"
            ],
            [
             0.7777777777777778,
             "#fb9f3a"
            ],
            [
             0.8888888888888888,
             "#fdca26"
            ],
            [
             1,
             "#f0f921"
            ]
           ],
           "sequentialminus": [
            [
             0,
             "#0d0887"
            ],
            [
             0.1111111111111111,
             "#46039f"
            ],
            [
             0.2222222222222222,
             "#7201a8"
            ],
            [
             0.3333333333333333,
             "#9c179e"
            ],
            [
             0.4444444444444444,
             "#bd3786"
            ],
            [
             0.5555555555555556,
             "#d8576b"
            ],
            [
             0.6666666666666666,
             "#ed7953"
            ],
            [
             0.7777777777777778,
             "#fb9f3a"
            ],
            [
             0.8888888888888888,
             "#fdca26"
            ],
            [
             1,
             "#f0f921"
            ]
           ]
          },
          "colorway": [
           "#636efa",
           "#EF553B",
           "#00cc96",
           "#ab63fa",
           "#FFA15A",
           "#19d3f3",
           "#FF6692",
           "#B6E880",
           "#FF97FF",
           "#FECB52"
          ],
          "font": {
           "color": "#2a3f5f"
          },
          "geo": {
           "bgcolor": "white",
           "lakecolor": "white",
           "landcolor": "#E5ECF6",
           "showlakes": true,
           "showland": true,
           "subunitcolor": "white"
          },
          "hoverlabel": {
           "align": "left"
          },
          "hovermode": "closest",
          "mapbox": {
           "style": "light"
          },
          "paper_bgcolor": "white",
          "plot_bgcolor": "#E5ECF6",
          "polar": {
           "angularaxis": {
            "gridcolor": "white",
            "linecolor": "white",
            "ticks": ""
           },
           "bgcolor": "#E5ECF6",
           "radialaxis": {
            "gridcolor": "white",
            "linecolor": "white",
            "ticks": ""
           }
          },
          "scene": {
           "xaxis": {
            "backgroundcolor": "#E5ECF6",
            "gridcolor": "white",
            "gridwidth": 2,
            "linecolor": "white",
            "showbackground": true,
            "ticks": "",
            "zerolinecolor": "white"
           },
           "yaxis": {
            "backgroundcolor": "#E5ECF6",
            "gridcolor": "white",
            "gridwidth": 2,
            "linecolor": "white",
            "showbackground": true,
            "ticks": "",
            "zerolinecolor": "white"
           },
           "zaxis": {
            "backgroundcolor": "#E5ECF6",
            "gridcolor": "white",
            "gridwidth": 2,
            "linecolor": "white",
            "showbackground": true,
            "ticks": "",
            "zerolinecolor": "white"
           }
          },
          "shapedefaults": {
           "line": {
            "color": "#2a3f5f"
           }
          },
          "ternary": {
           "aaxis": {
            "gridcolor": "white",
            "linecolor": "white",
            "ticks": ""
           },
           "baxis": {
            "gridcolor": "white",
            "linecolor": "white",
            "ticks": ""
           },
           "bgcolor": "#E5ECF6",
           "caxis": {
            "gridcolor": "white",
            "linecolor": "white",
            "ticks": ""
           }
          },
          "title": {
           "x": 0.05
          },
          "xaxis": {
           "automargin": true,
           "gridcolor": "white",
           "linecolor": "white",
           "ticks": "",
           "title": {
            "standoff": 15
           },
           "zerolinecolor": "white",
           "zerolinewidth": 2
          },
          "yaxis": {
           "automargin": true,
           "gridcolor": "white",
           "linecolor": "white",
           "ticks": "",
           "title": {
            "standoff": 15
           },
           "zerolinecolor": "white",
           "zerolinewidth": 2
          }
         }
        }
       }
      }
     },
     "metadata": {},
     "output_type": "display_data"
    }
   ],
   "source": [
    "fig = go.Figure(go.Funnel(\n",
    "    y = [\"Pro\",\"News\", \"Nuetral\", \"Anti\"],\n",
    "    x = train_df.sentiment.value_counts(normalize = True) * 100\n",
    "    ))\n",
    "fig.show()"
   ]
  },
  {
   "cell_type": "markdown",
   "metadata": {
    "id": "-IsvILNULIrs"
   },
   "source": [
    "Ohh we can see from the above plot that our training data contains an uneven distributions of data between the sentiment classes.\n",
    "\n",
    "Pro tweets occupy 53.92% of the total tweets.\n",
    "\n",
    "News tweets occupy 23.02% of the total tweets.\n",
    "\n",
    "Neutral tweets occupy 14.87% of the total tweets.\n",
    "\n",
    "Anti tweets occupy 8.19% of the total tweets.\n"
   ]
  },
  {
   "cell_type": "markdown",
   "metadata": {
    "id": "fegHv0ehLIrs"
   },
   "source": [
    "It clear that more than half of the tweets samples supports the beliefs of man-made climate change, while very few tweet sample does not believe in man-made climate change."
   ]
  },
  {
   "cell_type": "markdown",
   "metadata": {
    "id": "tmjYG6E_LIrs"
   },
   "source": [
    "Viewing an Entire length of message feature in the tweet dataframe, so as to find patterns on how most tweet messages are typed."
   ]
  },
  {
   "cell_type": "code",
   "execution_count": 14,
   "metadata": {
    "colab": {
     "base_uri": "https://localhost:8080/"
    },
    "executionInfo": {
     "elapsed": 386,
     "status": "ok",
     "timestamp": 1649237781894,
     "user": {
      "displayName": "Solonka Sempeyian",
      "userId": "11821087901275073053"
     },
     "user_tz": -180
    },
    "id": "bIj6x5LaLIrt",
    "outputId": "ed6ccde0-3141-4293-ab91-fb187c007bd3"
   },
   "outputs": [
    {
     "name": "stdout",
     "output_type": "stream",
     "text": [
      "Show the full_text of 10 tweets: \n",
      "So we have a director of EPA who is a climate change denier. No a coal lobbies to as deputy EPA Chief. Environment… https://t.co/XlxHbWNJuM\n",
      "RT @IrisRimon: The Chinese just broke massive iceberg in Antarctica as part of their global warming hoax.\n",
      "RT @thinkprogress: Where are Rex Tillerson’s climate change emails?\n",
      "https://t.co/LyANHBPZfT\n",
      "RT @M3thG0d: If global warming isn't real why did club penguin shut down\n",
      "RT @NDeNicolaMD: 500,000 doctors agree: climate change is making us sick #EarthDay #MarchForScience #HealthAndClimate…\n",
      "RT @tristinc1: our president think climate change is a hoax made by the chinese &amp; our vice president thinks being gay is a curable disease.Ã¢â‚¬Â¦\n",
      "80% of GHG via resevoirs are methane. Resevoirs play a substantial role in global warming. https://t.co/CNHiU818Ky https://t.co/58nmAFxcmP\n",
      "RT @Fruitloopian: Why is there snow in March if we have global warming?\n",
      "RT @GreenHarvard: “Universities have a uniquely important role to play in the battle against climate change” https://t.co/jRV2z1OMrx\n",
      "RT @SethMacFarlane: Are we looking at an America that officially believes climate change is a hoax? Sorry, everybody else.\n"
     ]
    }
   ],
   "source": [
    "print('Show the full_text of 10 tweets: ')\n",
    "for tweet in train_df['message'][100:110]:\n",
    "    print(tweet)"
   ]
  },
  {
   "cell_type": "markdown",
   "metadata": {
    "id": "NuyShmI7LIru"
   },
   "source": [
    "Alright... Progress, we can now easily see a subset of full_text in every row of the train dataset column titled message."
   ]
  },
  {
   "cell_type": "markdown",
   "metadata": {
    "id": "DF7pHbdBLIru"
   },
   "source": [
    "Checking the tweetid column"
   ]
  },
  {
   "cell_type": "code",
   "execution_count": 15,
   "metadata": {
    "colab": {
     "base_uri": "https://localhost:8080/"
    },
    "executionInfo": {
     "elapsed": 376,
     "status": "ok",
     "timestamp": 1649237785257,
     "user": {
      "displayName": "Solonka Sempeyian",
      "userId": "11821087901275073053"
     },
     "user_tz": -180
    },
    "id": "pSdD9scVLIrv",
    "outputId": "36f7d209-d156-4bff-93b0-e9e970577410"
   },
   "outputs": [
    {
     "data": {
      "text/plain": [
       "625221    1\n",
       "384830    1\n",
       "623300    1\n",
       "245730    1\n",
       "585862    1\n",
       "         ..\n",
       "594855    1\n",
       "746460    1\n",
       "856075    1\n",
       "358459    1\n",
       "806319    1\n",
       "Name: tweetid, Length: 15819, dtype: int64"
      ]
     },
     "execution_count": 15,
     "metadata": {},
     "output_type": "execute_result"
    }
   ],
   "source": [
    "train_df['tweetid'].value_counts()"
   ]
  },
  {
   "cell_type": "markdown",
   "metadata": {
    "id": "PhukEpPGLIrv"
   },
   "source": [
    "From the result above, each tweetid is unique, meaning it does not repeat."
   ]
  },
  {
   "cell_type": "markdown",
   "metadata": {
    "id": "wISDXw83LIrw"
   },
   "source": [
    "#### Getting More Information through visualization."
   ]
  },
  {
   "cell_type": "code",
   "execution_count": 16,
   "metadata": {
    "executionInfo": {
     "elapsed": 403,
     "status": "ok",
     "timestamp": 1649237790882,
     "user": {
      "displayName": "Solonka Sempeyian",
      "userId": "11821087901275073053"
     },
     "user_tz": -180
    },
    "id": "DLpEzjpYLIrw"
   },
   "outputs": [],
   "source": [
    "full_text = \" \".join(train_df['message'])"
   ]
  },
  {
   "cell_type": "markdown",
   "metadata": {
    "id": "nmrLsIt4LIrw"
   },
   "source": [
    "We joined the entire message column in the train dataset, so has to be able to get the most reoccurring word or words in the data"
   ]
  },
  {
   "cell_type": "markdown",
   "metadata": {
    "id": "vJ7H9huuLIrx"
   },
   "source": [
    "#### Visualizing the most reoccuring words with Word Cloud"
   ]
  },
  {
   "cell_type": "code",
   "execution_count": 17,
   "metadata": {
    "colab": {
     "base_uri": "https://localhost:8080/",
     "height": 198
    },
    "executionInfo": {
     "elapsed": 3275,
     "status": "ok",
     "timestamp": 1649237798508,
     "user": {
      "displayName": "Solonka Sempeyian",
      "userId": "11821087901275073053"
     },
     "user_tz": -180
    },
    "id": "nvFMoogYLIrx",
    "outputId": "fccbde6d-5cd1-4383-c97c-859c2053f56a"
   },
   "outputs": [
    {
     "data": {
      "image/png": "[encoded data removed]",
      "text/plain": [
       "<Figure size 432x432 with 1 Axes>"
      ]
     },
     "metadata": {},
     "output_type": "display_data"
    }
   ],
   "source": [
    "wc = WordCloud(background_color='white')\n",
    "img = wc.generate(full_text)\n",
    "plt.figure(figsize=(6,6))\n",
    "plt.imshow(img)\n",
    "plt.axis('off')\n",
    "plt.show()\n"
   ]
  },
  {
   "cell_type": "markdown",
   "metadata": {
    "id": "5v1239IzLIrx"
   },
   "source": [
    "The Most repeated words in the tweet message are:\n",
    "\n",
    "    . Climate, Change, Global, Warming, Change, https, RT, Today, CO e.t.c. "
   ]
  },
  {
   "cell_type": "markdown",
   "metadata": {
    "id": "ra0emlMoLIry"
   },
   "source": [
    "Now Lets get the Common words based on each tweet Sentiment."
   ]
  },
  {
   "cell_type": "markdown",
   "metadata": {
    "id": "g_lp8YTjLIry"
   },
   "source": [
    "First we groupby tweets Sentiment."
   ]
  },
  {
   "cell_type": "code",
   "execution_count": 18,
   "metadata": {
    "executionInfo": {
     "elapsed": 484,
     "status": "ok",
     "timestamp": 1649237803229,
     "user": {
      "displayName": "Solonka Sempeyian",
      "userId": "11821087901275073053"
     },
     "user_tz": -180
    },
    "id": "t2CyHbCtLIrz"
   },
   "outputs": [],
   "source": [
    "gb = train_df.groupby('sentiment')"
   ]
  },
  {
   "cell_type": "markdown",
   "metadata": {
    "id": "qi8oCflNLIrz"
   },
   "source": [
    "Now lets get sentiments from each groups"
   ]
  },
  {
   "cell_type": "code",
   "execution_count": 19,
   "metadata": {
    "id": "cH6ZpSbBLIr0"
   },
   "outputs": [],
   "source": [
    "Anti = \"\".join(gb.get_group(-1)['message'])\n",
    "Neutral = \"\".join(gb.get_group(0)['message'])\n",
    "Pro = \"\".join(gb.get_group(1)['message'])\n",
    "News = \"\".join(gb.get_group(2)['message'])"
   ]
  },
  {
   "cell_type": "markdown",
   "metadata": {
    "id": "V_YSBUpKLIr0"
   },
   "source": [
    "ANTI Climate Change"
   ]
  },
  {
   "cell_type": "code",
   "execution_count": 20,
   "metadata": {
    "id": "khRX5XI4LIr1",
    "outputId": "89237c46-bd85-41ba-a78e-362d48faee52"
   },
   "outputs": [
    {
     "data": {
      "image/png": "[encoded data removed]",
      "text/plain": [
       "<Figure size 432x432 with 1 Axes>"
      ]
     },
     "metadata": {},
     "output_type": "display_data"
    }
   ],
   "source": [
    "wc = WordCloud(background_color='black')\n",
    "img = wc.generate(Anti)\n",
    "plt.figure(figsize=(6,6))\n",
    "plt.imshow(img)\n",
    "plt.axis('off')\n",
    "plt.show()"
   ]
  },
  {
   "cell_type": "markdown",
   "metadata": {},
   "source": [
    "The Most repeated words in the Anti Sentiment class are:\n",
    "\n",
    "climate, change, scientist, global, warming, e.t.c"
   ]
  },
  {
   "cell_type": "markdown",
   "metadata": {
    "id": "3cLKf0iYLIr2"
   },
   "source": [
    "NEUTRAL Climate Change"
   ]
  },
  {
   "cell_type": "code",
   "execution_count": 21,
   "metadata": {
    "id": "Bwn7VgIPLIr2",
    "outputId": "122b487b-7748-4242-e9f9-8b32fe334bef"
   },
   "outputs": [
    {
     "data": {
      "image/png": "[encoded data removed]",
      "text/plain": [
       "<Figure size 432x432 with 1 Axes>"
      ]
     },
     "metadata": {},
     "output_type": "display_data"
    }
   ],
   "source": [
    "wc = WordCloud(background_color='black')\n",
    "img = wc.generate(Neutral)\n",
    "plt.figure(figsize=(6,6))\n",
    "plt.imshow(img)\n",
    "plt.axis('off')\n",
    "plt.show()"
   ]
  },
  {
   "cell_type": "markdown",
   "metadata": {},
   "source": [
    "The Most repeated words in the Neutral Sentiment class are:\n",
    "\n",
    "climate, change, global, warming, e.t.c"
   ]
  },
  {
   "cell_type": "markdown",
   "metadata": {
    "id": "QJgOeEkjLIr3"
   },
   "source": [
    "Pro Climate Change"
   ]
  },
  {
   "cell_type": "code",
   "execution_count": 22,
   "metadata": {
    "id": "jaUirpK8LIr3",
    "outputId": "ed60d87e-0508-4c8e-9b40-f3cc00a305e9"
   },
   "outputs": [
    {
     "data": {
      "image/png": "[encoded data removed]",
      "text/plain": [
       "<Figure size 432x432 with 1 Axes>"
      ]
     },
     "metadata": {},
     "output_type": "display_data"
    }
   ],
   "source": [
    "wc = WordCloud(background_color='black')\n",
    "img = wc.generate(Pro)\n",
    "plt.figure(figsize=(6,6))\n",
    "plt.imshow(img)\n",
    "plt.axis('off')\n",
    "plt.show()"
   ]
  },
  {
   "cell_type": "markdown",
   "metadata": {},
   "source": [
    "The Most repeated words in the Pro Sentiment class are:\n",
    "\n",
    "climate, change, global, warming, e.t.c"
   ]
  },
  {
   "cell_type": "markdown",
   "metadata": {
    "id": "TnGE5OQYLIr4"
   },
   "source": [
    "Factual News Climate Change"
   ]
  },
  {
   "cell_type": "code",
   "execution_count": 23,
   "metadata": {
    "id": "MbW_abxtLIr4",
    "outputId": "75b15249-fc5f-4fe5-e7f1-8bd2c7297d13"
   },
   "outputs": [
    {
     "data": {
      "image/png": "[encoded data removed]",
      "text/plain": [
       "<Figure size 432x432 with 1 Axes>"
      ]
     },
     "metadata": {},
     "output_type": "display_data"
    }
   ],
   "source": [
    "wc = WordCloud(background_color='black')\n",
    "img = wc.generate(News)\n",
    "plt.figure(figsize=(6,6))\n",
    "plt.imshow(img)\n",
    "plt.axis('off')\n",
    "plt.show()"
   ]
  },
  {
   "cell_type": "markdown",
   "metadata": {},
   "source": [
    "The Most repeated words in the Factual News Sentiment class are:\n",
    "\n",
    "climate, change, global, warming, trump, e.t.c"
   ]
  },
  {
   "cell_type": "markdown",
   "metadata": {},
   "source": [
    "Before finalizing the Exploratory data analysis, \n",
    "\n",
    "Lets see how sentiment class reacts to climate change through their tweets."
   ]
  },
  {
   "cell_type": "markdown",
   "metadata": {},
   "source": [
    "Anti Sentiment Class"
   ]
  },
  {
   "cell_type": "code",
   "execution_count": 24,
   "metadata": {},
   "outputs": [
    {
     "name": "stdout",
     "output_type": "stream",
     "text": [
      "Show the full_text of 5 Anti Sentiment Class tweets: \n",
      "@rambogooner The people saying “don’t look at the sun” are the same people who say climate change is real — and we all know that’s a lie.\n",
      "RT @TheFoundingSon: NOAA scientists manipulated temperature data to make global warming seem worse\n",
      "\n",
      "Who's surprised? Not me\n",
      "https://t.co/Rj…\n",
      "RT @GeorgiaLogCabin: NOAA's global warming data manipulation https://t.co/flujjaaWUR #Economy #National\n",
      "It's really not about science at all, but religious fundamentalism of the climate change cult. With a sprinkling of… https://t.co/vV8L1zTsGq\n",
      "RT @MarkACollett: The biggest threat to the environment isn't global warming, it's overpopulation that is fuelled by liberal aid to the thi…\n"
     ]
    }
   ],
   "source": [
    "print('Show the full_text of 5 Anti Sentiment Class tweets: ')\n",
    "for tweet in gb.get_group(-1)['message'][100:105]:\n",
    "    print(tweet)"
   ]
  },
  {
   "cell_type": "markdown",
   "metadata": {},
   "source": [
    "#### From the above, Anti Sentiment class mostly believes global climate change is not real, but a manipulatory agenda by the government."
   ]
  },
  {
   "cell_type": "markdown",
   "metadata": {},
   "source": [
    "Neutral Sentiment Class"
   ]
  },
  {
   "cell_type": "code",
   "execution_count": 25,
   "metadata": {},
   "outputs": [
    {
     "name": "stdout",
     "output_type": "stream",
     "text": [
      "Show the full_text of 5 Anti Sentiment Class tweets: \n",
      "RT @superlativemaui: climate change, healthcare, taxes, alzheimer's, supreme court, race and Ã°Å¸ï†Â³Ã¯Â¸ï†Ã¢â‚¬ï†Ã°Å¸Å’Ë† equality, immigration, policing, war, worÃ¢â‚¬Â¦\n",
      "#Trumpland .. next, you'll be blaming him for climate change?! Fuck off you reprehensible creature https://t.co/ynLk5jQZ9J\n",
      "Making the environment great again...Trump's environment chief says CO2 not main cause of global warming https://t.co/D0KBxKCkjr\n",
      "Why do we have to make a deal to do OUR part for climate change? Why can't everyone just do their part for our planet?\n",
      "@ValentinoKhan i always start my conversations talking about global warming, it's a real ice-breaker! High five! 🖐\n"
     ]
    }
   ],
   "source": [
    "print('Show the full_text of 5 Anti Sentiment Class tweets: ')\n",
    "for tweet in gb.get_group(0)['message'][1000:1005]:\n",
    "    print(tweet)"
   ]
  },
  {
   "cell_type": "markdown",
   "metadata": {},
   "source": [
    "The Neutral sentiments class are always neutral, they "
   ]
  },
  {
   "cell_type": "markdown",
   "metadata": {},
   "source": [
    "Pro Sentiment Class"
   ]
  },
  {
   "cell_type": "code",
   "execution_count": 26,
   "metadata": {},
   "outputs": [
    {
     "name": "stdout",
     "output_type": "stream",
     "text": [
      "Show the full_text of 5 Anti Sentiment Class tweets: \n",
      "#SDG13 is a call to take urgent action to combat #climate change and its impacts. Join the movement:Ã¢â‚¬Â¦ https://t.co/BqxZ5ZkBjv\n",
      "RT @bradleym4: @JuddLegum Me (to my 14 yo kid): do you believe in climate change?\n",
      "Kid: It's a scientific fact, so it doesn't matte…\n",
      "RT @StephenSchlegel: she's thinking about how she's going to die because your husband doesn't believe in climate change https://t.co/SjoFoNÃ¢â‚¬Â¦\n",
      "When China calls out Donald Trump on climate change, you know itÃ¢â‚¬â„¢s bad https://t.co/ukXyPvuvJf\n",
      "RT @billmckibben: 'ExxonMobil has a long history of peddling misinformation on climate change.' @elizkolbert in @NewYorker #ExxonKnew https…\n"
     ]
    }
   ],
   "source": [
    "print('Show the full_text of 5 Anti Sentiment Class tweets: ')\n",
    "for tweet in gb.get_group(1)['message'][100:105]:\n",
    "    print(tweet)"
   ]
  },
  {
   "cell_type": "markdown",
   "metadata": {},
   "source": [
    "#### The Pro Sentiment class are mostly Climate Change Activist, they have a do die altitude in respect to governmental involvement on climate changes."
   ]
  },
  {
   "cell_type": "markdown",
   "metadata": {},
   "source": [
    "News Sentiment Class"
   ]
  },
  {
   "cell_type": "code",
   "execution_count": 27,
   "metadata": {},
   "outputs": [
    {
     "name": "stdout",
     "output_type": "stream",
     "text": [
      "Show the full_text of 5 Anti Sentiment Class tweets: \n",
      "RT @Wine_Newz: The #Wine industry in #Europe could be in trouble due to global warming, researchers warn https://t.co/1LErjnPpMI\n",
      "Trump really doesn't want to face these 21 kids on climate change https://t.co/oHfhg9Gz1O https://t.co/ExhoFHE2KQ\n",
      "RT @aggyk: Five Pacific islands lost to rising seas as climate change hits https://t.co/kmnBmFANdw\n",
      "NASA is defiantly communicating climate change science despite Trump’s doubts' https://t.co/E3qtwWYV3Z  @NASAClimate Lift ‘em up, y’all!\n",
      "RT @Fusion: Peru is suffering its worst floods in recent history—and some scientists say global warming is to blame: https://t.co/3EGbsYVNJq\n"
     ]
    }
   ],
   "source": [
    "print('Show the full_text of 5 Anti Sentiment Class tweets: ')\n",
    "for tweet in gb.get_group(2)['message'][100:105]:\n",
    "    print(tweet)"
   ]
  },
  {
   "cell_type": "markdown",
   "metadata": {},
   "source": [
    "#### The Factual News sentiment class are mostly inquisitive, they like to get factual news consigning climate change."
   ]
  },
  {
   "cell_type": "markdown",
   "metadata": {
    "id": "l6rPNhz7LIr5"
   },
   "source": [
    "### Key Insights\n",
    "\n",
    " A- Message Column contains stopwords and, unimportant words like:\n",
    "\n",
    "     1. RT,\n",
    "     2. #,\n",
    "     3. @\n",
    "     4. https: links\n",
    "     5. emoji's \n",
    "     6. ( )\n",
    "     7. +\n",
    "     8. !~ \"\" \n",
    "\n",
    " B- The Dataset Comprises of Unbalanced Data\n",
    "\n",
    " C- Giving that \"tweetid\" comprises of unique values, it will be   non-relevant in the analysis, therefore might not be used for modelling."
   ]
  },
  {
   "cell_type": "markdown",
   "metadata": {
    "id": "HWqSc11kLIr5"
   },
   "source": [
    "Having derived certain insights from the data, the next step is to perform data engineering...."
   ]
  },
  {
   "cell_type": "markdown",
   "metadata": {
    "id": "eGbyA__jLIr6"
   },
   "source": [
    "<a id=\"four\"></a>\n",
    "## 4. Data Engineering\n",
    "<a class=\"anchor\" id=\"1.1\"></a>\n",
    "<a href=#cont>Back to Table of Contents</a>\n",
    "\n",
    "---\n",
    "    \n",
    "| ⚡ Description: Data engineering ⚡ |\n",
    "| :--------------------------- |\n",
    "| In this section we are required to: clean the dataset, and possibly create new features - as identified in the EDA phase. |\n",
    "\n",
    "---"
   ]
  },
  {
   "cell_type": "markdown",
   "metadata": {},
   "source": [
    "#### Given that our datasets contains a non_numerical column certain preprocessing steps must be carried out, which involves:\n",
    "\n",
    "    . Letter casing: Converting all letters to either upper case or lower case.\n",
    "    . Tokenizing: Turning the tweets into tokens. Tokens are words separated by spaces in a text.\n",
    "    . Noise removal: Eliminating unwanted characters, such as HTML tags, punctuation marks, special characters, white spaces etc.\n",
    "    . Stopwords removal: Some words do not contribute much to the machine learning model, so it's good to remove them. A list of stopwords can be defined by the nltk library, or it can be business-specific.\n",
    "    . Stemming: Eliminating affixes (circumfixes, suffixes, prefixes, infixes) from a word in order to obtain a word stem. Porter Stemmer is the most widely used technique because it is very fast. Generally, stemming chops off end of the word, and mostly it works fine.\n",
    "    OR\n",
    "    . Lemmatization: the process of reducing the different forms of a word to one single form, for example, reducing \"builds\", \"building\", or \"built\" to the lemma.\n"
   ]
  },
  {
   "cell_type": "markdown",
   "metadata": {},
   "source": [
    "!!!! Before we begin any preprocessing steps, lets recall both the training and test dataset."
   ]
  },
  {
   "cell_type": "code",
   "execution_count": 28,
   "metadata": {},
   "outputs": [
    {
     "name": "stdout",
     "output_type": "stream",
     "text": [
      "   sentiment                                            message  tweetid\n",
      "0          1  PolySciMajor EPA chief doesn't think carbon di...   625221\n",
      "1          1  It's not like we lack evidence of anthropogeni...   126103\n",
      "2          2  RT @RawStory: Researchers say we have three ye...   698562\n",
      "3          1  #TodayinMaker# WIRED : 2016 was a pivotal year...   573736\n",
      "4          1  RT @SoyNovioDeTodas: It's 2016, and a racist, ...   466954                                              message  tweetid\n",
      "0  Europe will now be looking to China to make su...   169760\n",
      "1  Combine this with the polling of staffers re c...    35326\n",
      "2  The scary, unimpeachable evidence that climate...   224985\n",
      "3  @Karoli @morgfair @OsborneInk @dailykos \\r\\nPu...   476263\n",
      "4  RT @FakeWillMoore: 'Female orgasms cause globa...   872928\n"
     ]
    }
   ],
   "source": [
    "print(train_df.head(), test_df.head())"
   ]
  },
  {
   "cell_type": "markdown",
   "metadata": {},
   "source": [
    "let just have a view of the rows and columns."
   ]
  },
  {
   "cell_type": "code",
   "execution_count": 29,
   "metadata": {},
   "outputs": [
    {
     "name": "stdout",
     "output_type": "stream",
     "text": [
      "(15819, 3) (10546, 2)\n"
     ]
    }
   ],
   "source": [
    "print(train_df.shape, test_df.shape)"
   ]
  },
  {
   "cell_type": "markdown",
   "metadata": {},
   "source": [
    "Now lets now preprocess the dataset, by creating a function that cleans, transforms and lemmatize the words in the dataset."
   ]
  },
  {
   "cell_type": "code",
   "execution_count": 30,
   "metadata": {},
   "outputs": [],
   "source": [
    "def preprocess(text):\n",
    "    \"\"\"This function takes in pandas dataframe, removes URL hyperlinks, stopwords, punctuation noises, and lemmatize the text.\"\"\"\n",
    "\n",
    "    tokenizer = TreebankWordTokenizer() \n",
    "    lemmatizer = WordNetLemmatizer()\n",
    "    stopwords_list = stopwords.words('english')\n",
    "    point_noise = string.punctuation + '0123456789'\n",
    "    \n",
    "    cleanText = re.sub(r'http[s]?://(?:[A-Za-z]|[0-9]|[$-_@.&+]|[!*\\(\\),]|(?:%[0-9A-Fa-f][0-9A-Fa-f]))+', \"\", text) #Removing URLs...\n",
    "    cleanText = re.sub(r'@[a-zA-Z0-9\\_\\w]+', '', cleanText)#Remove @mentions\n",
    "    cleanText = re.sub(r'#[a-zA-Z0-9]+', '', cleanText) #Remove '#' symbols\n",
    "    cleanText = re.sub(r'RT', '', cleanText)#Remove RT from text\n",
    "    cleanText = cleanText.lower() #Lowering case\n",
    "    cleanText = re.sub(r'([https][http][htt][th][ht])', \"\",cleanText)\n",
    "    cleanText = ''.join([word for word in cleanText if word not in point_noise]) #Removing punctuations and numbers.\n",
    "    cleanText = \"\".join(word for word in cleanText if ord(word)<128) #Removing NonAscii\n",
    "    cleanText = tokenizer.tokenize(cleanText) #Coverting each words to tokens\n",
    "    cleanText = [lemmatizer.lemmatize(word) for word in cleanText if word not in stopwords_list] #Lemmatizing and removing stopwords\n",
    "    cleanText = [word for word in cleanText if len(word) >= 2]\n",
    "    cleanText = ' '.join(cleanText)\n",
    "    #return cleanText\n",
    "    return cleanText"
   ]
  },
  {
   "cell_type": "markdown",
   "metadata": {},
   "source": [
    "Throughout the Data Engineering phase we will be working with both Training and Test dataset at the same time.\n",
    "\n",
    "Applying the preprocess function to both training and test dataset."
   ]
  },
  {
   "cell_type": "code",
   "execution_count": 31,
   "metadata": {},
   "outputs": [],
   "source": [
    "train_df['message'] = train_df['message'].apply(preprocess)\n",
    "test_df['message'] = test_df['message'].apply(preprocess)"
   ]
  },
  {
   "cell_type": "markdown",
   "metadata": {},
   "source": [
    "Lets have a view of the cleaned dataset."
   ]
  },
  {
   "cell_type": "code",
   "execution_count": 32,
   "metadata": {},
   "outputs": [
    {
     "name": "stdout",
     "output_type": "stream",
     "text": [
      "president trump may destroy america maybe stop destroying world sign climate change petition ht\n",
      "carbon dioxide biggest contributor global warming methane gautankwadis insist farting cow th\n",
      "dont believe manmade global warming silly issue give natural resource defense council http\n",
      "presidentelect doesnt believe climate change million people going say mr\n",
      "freezing outside hell global warming\n",
      "leo take climate change skeptic might well believe gravity\n",
      "epa buried climate change website kid\n",
      "pakistan ratifies paris climate change agreement\n",
      "guy postfacto analysis climate change model\n",
      "literally yall could blame namjoon global warming\n"
     ]
    }
   ],
   "source": [
    "for tweet in train_df['message'][5000:5010]:\n",
    "    print(tweet)"
   ]
  },
  {
   "cell_type": "markdown",
   "metadata": {},
   "source": [
    "Looking Good....\n",
    "Now lets move on to the next step which is vectorization"
   ]
  },
  {
   "cell_type": "markdown",
   "metadata": {},
   "source": [
    "##### Data Vectorization: Vectorization is the process to convert tokens to numbers. It is an important step because machine learning algorithm works well with numbers and not text.\n",
    "    - In this guide, we will implement vectorization using tf-idf, because it not only focuses on the frequency of words present in the corpus but also provides the importance of the words.\n",
    "\n",
    "    - N-gram is one of the methods in language modeling where text documents can be divided into a combination of sequential words."
   ]
  },
  {
   "cell_type": "markdown",
   "metadata": {},
   "source": [
    "Instantiate the tf-idf vector"
   ]
  },
  {
   "cell_type": "code",
   "execution_count": 33,
   "metadata": {},
   "outputs": [],
   "source": [
    "vector = TfidfVectorizer(ngram_range=(1,20), min_df=2)"
   ]
  },
  {
   "cell_type": "markdown",
   "metadata": {},
   "source": [
    "Tunning the vector to include only tokens that appears more than 2 times, with an N_gram range of 20 words."
   ]
  },
  {
   "cell_type": "markdown",
   "metadata": {},
   "source": [
    "Now transform the text using the vector"
   ]
  },
  {
   "cell_type": "code",
   "execution_count": 34,
   "metadata": {},
   "outputs": [],
   "source": [
    "train_features = vector.fit_transform(train_df['message'])\n",
    "test_features = vector.transform(test_df['message'])"
   ]
  },
  {
   "cell_type": "code",
   "execution_count": 35,
   "metadata": {},
   "outputs": [
    {
     "name": "stdout",
     "output_type": "stream",
     "text": [
      "(15819, 56943) (10546, 56943)\n"
     ]
    }
   ],
   "source": [
    "print(train_features.shape, test_features.shape)"
   ]
  },
  {
   "cell_type": "markdown",
   "metadata": {},
   "source": [
    "Wow.. We now have 56943 features for use to train our model."
   ]
  },
  {
   "cell_type": "markdown",
   "metadata": {},
   "source": [
    "lets have a pictorial view of the Vectorized dataframe."
   ]
  },
  {
   "cell_type": "code",
   "execution_count": 36,
   "metadata": {},
   "outputs": [],
   "source": [
    "tfidf_df = pd.DataFrame(train_features.todense(), columns=vector.get_feature_names_out())"
   ]
  },
  {
   "cell_type": "markdown",
   "metadata": {},
   "source": [
    "Viewing tfidf DataFrame"
   ]
  },
  {
   "cell_type": "code",
   "execution_count": 37,
   "metadata": {},
   "outputs": [
    {
     "data": {
      "text/html": [
       "<div>\n",
       "<style scoped>\n",
       "    .dataframe tbody tr th:only-of-type {\n",
       "        vertical-align: middle;\n",
       "    }\n",
       "\n",
       "    .dataframe tbody tr th {\n",
       "        vertical-align: top;\n",
       "    }\n",
       "\n",
       "    .dataframe thead th {\n",
       "        text-align: right;\n",
       "    }\n",
       "</style>\n",
       "<table border=\"1\" class=\"dataframe\">\n",
       "  <thead>\n",
       "    <tr style=\"text-align: right;\">\n",
       "      <th></th>\n",
       "      <th>aaaand</th>\n",
       "      <th>ab</th>\n",
       "      <th>ab climate</th>\n",
       "      <th>abandon</th>\n",
       "      <th>abandon deal</th>\n",
       "      <th>abandon deal http</th>\n",
       "      <th>abandon hope</th>\n",
       "      <th>abandon hope zoe</th>\n",
       "      <th>abandon hope zoe williams</th>\n",
       "      <th>abandoned</th>\n",
       "      <th>...</th>\n",
       "      <th>zika epidemic scientist report</th>\n",
       "      <th>zinke</th>\n",
       "      <th>zinke sign</th>\n",
       "      <th>zinke sign alaskan</th>\n",
       "      <th>zinke sign alaskan drilling</th>\n",
       "      <th>zinke sign alaskan drilling order</th>\n",
       "      <th>zoe</th>\n",
       "      <th>zoe williams</th>\n",
       "      <th>zone</th>\n",
       "      <th>zone amp</th>\n",
       "    </tr>\n",
       "  </thead>\n",
       "  <tbody>\n",
       "    <tr>\n",
       "      <th>0</th>\n",
       "      <td>0.0</td>\n",
       "      <td>0.0</td>\n",
       "      <td>0.0</td>\n",
       "      <td>0.0</td>\n",
       "      <td>0.0</td>\n",
       "      <td>0.0</td>\n",
       "      <td>0.0</td>\n",
       "      <td>0.0</td>\n",
       "      <td>0.0</td>\n",
       "      <td>0.0</td>\n",
       "      <td>...</td>\n",
       "      <td>0.0</td>\n",
       "      <td>0.0</td>\n",
       "      <td>0.0</td>\n",
       "      <td>0.0</td>\n",
       "      <td>0.0</td>\n",
       "      <td>0.0</td>\n",
       "      <td>0.0</td>\n",
       "      <td>0.0</td>\n",
       "      <td>0.0</td>\n",
       "      <td>0.0</td>\n",
       "    </tr>\n",
       "    <tr>\n",
       "      <th>1</th>\n",
       "      <td>0.0</td>\n",
       "      <td>0.0</td>\n",
       "      <td>0.0</td>\n",
       "      <td>0.0</td>\n",
       "      <td>0.0</td>\n",
       "      <td>0.0</td>\n",
       "      <td>0.0</td>\n",
       "      <td>0.0</td>\n",
       "      <td>0.0</td>\n",
       "      <td>0.0</td>\n",
       "      <td>...</td>\n",
       "      <td>0.0</td>\n",
       "      <td>0.0</td>\n",
       "      <td>0.0</td>\n",
       "      <td>0.0</td>\n",
       "      <td>0.0</td>\n",
       "      <td>0.0</td>\n",
       "      <td>0.0</td>\n",
       "      <td>0.0</td>\n",
       "      <td>0.0</td>\n",
       "      <td>0.0</td>\n",
       "    </tr>\n",
       "    <tr>\n",
       "      <th>2</th>\n",
       "      <td>0.0</td>\n",
       "      <td>0.0</td>\n",
       "      <td>0.0</td>\n",
       "      <td>0.0</td>\n",
       "      <td>0.0</td>\n",
       "      <td>0.0</td>\n",
       "      <td>0.0</td>\n",
       "      <td>0.0</td>\n",
       "      <td>0.0</td>\n",
       "      <td>0.0</td>\n",
       "      <td>...</td>\n",
       "      <td>0.0</td>\n",
       "      <td>0.0</td>\n",
       "      <td>0.0</td>\n",
       "      <td>0.0</td>\n",
       "      <td>0.0</td>\n",
       "      <td>0.0</td>\n",
       "      <td>0.0</td>\n",
       "      <td>0.0</td>\n",
       "      <td>0.0</td>\n",
       "      <td>0.0</td>\n",
       "    </tr>\n",
       "    <tr>\n",
       "      <th>3</th>\n",
       "      <td>0.0</td>\n",
       "      <td>0.0</td>\n",
       "      <td>0.0</td>\n",
       "      <td>0.0</td>\n",
       "      <td>0.0</td>\n",
       "      <td>0.0</td>\n",
       "      <td>0.0</td>\n",
       "      <td>0.0</td>\n",
       "      <td>0.0</td>\n",
       "      <td>0.0</td>\n",
       "      <td>...</td>\n",
       "      <td>0.0</td>\n",
       "      <td>0.0</td>\n",
       "      <td>0.0</td>\n",
       "      <td>0.0</td>\n",
       "      <td>0.0</td>\n",
       "      <td>0.0</td>\n",
       "      <td>0.0</td>\n",
       "      <td>0.0</td>\n",
       "      <td>0.0</td>\n",
       "      <td>0.0</td>\n",
       "    </tr>\n",
       "    <tr>\n",
       "      <th>4</th>\n",
       "      <td>0.0</td>\n",
       "      <td>0.0</td>\n",
       "      <td>0.0</td>\n",
       "      <td>0.0</td>\n",
       "      <td>0.0</td>\n",
       "      <td>0.0</td>\n",
       "      <td>0.0</td>\n",
       "      <td>0.0</td>\n",
       "      <td>0.0</td>\n",
       "      <td>0.0</td>\n",
       "      <td>...</td>\n",
       "      <td>0.0</td>\n",
       "      <td>0.0</td>\n",
       "      <td>0.0</td>\n",
       "      <td>0.0</td>\n",
       "      <td>0.0</td>\n",
       "      <td>0.0</td>\n",
       "      <td>0.0</td>\n",
       "      <td>0.0</td>\n",
       "      <td>0.0</td>\n",
       "      <td>0.0</td>\n",
       "    </tr>\n",
       "  </tbody>\n",
       "</table>\n",
       "<p>5 rows × 56943 columns</p>\n",
       "</div>"
      ],
      "text/plain": [
       "   aaaand   ab  ab climate  abandon  abandon deal  abandon deal http  \\\n",
       "0     0.0  0.0         0.0      0.0           0.0                0.0   \n",
       "1     0.0  0.0         0.0      0.0           0.0                0.0   \n",
       "2     0.0  0.0         0.0      0.0           0.0                0.0   \n",
       "3     0.0  0.0         0.0      0.0           0.0                0.0   \n",
       "4     0.0  0.0         0.0      0.0           0.0                0.0   \n",
       "\n",
       "   abandon hope  abandon hope zoe  abandon hope zoe williams  abandoned  ...  \\\n",
       "0           0.0               0.0                        0.0        0.0  ...   \n",
       "1           0.0               0.0                        0.0        0.0  ...   \n",
       "2           0.0               0.0                        0.0        0.0  ...   \n",
       "3           0.0               0.0                        0.0        0.0  ...   \n",
       "4           0.0               0.0                        0.0        0.0  ...   \n",
       "\n",
       "   zika epidemic scientist report  zinke  zinke sign  zinke sign alaskan  \\\n",
       "0                             0.0    0.0         0.0                 0.0   \n",
       "1                             0.0    0.0         0.0                 0.0   \n",
       "2                             0.0    0.0         0.0                 0.0   \n",
       "3                             0.0    0.0         0.0                 0.0   \n",
       "4                             0.0    0.0         0.0                 0.0   \n",
       "\n",
       "   zinke sign alaskan drilling  zinke sign alaskan drilling order  zoe  \\\n",
       "0                          0.0                                0.0  0.0   \n",
       "1                          0.0                                0.0  0.0   \n",
       "2                          0.0                                0.0  0.0   \n",
       "3                          0.0                                0.0  0.0   \n",
       "4                          0.0                                0.0  0.0   \n",
       "\n",
       "   zoe williams  zone  zone amp  \n",
       "0           0.0   0.0       0.0  \n",
       "1           0.0   0.0       0.0  \n",
       "2           0.0   0.0       0.0  \n",
       "3           0.0   0.0       0.0  \n",
       "4           0.0   0.0       0.0  \n",
       "\n",
       "[5 rows x 56943 columns]"
      ]
     },
     "execution_count": 37,
     "metadata": {},
     "output_type": "execute_result"
    }
   ],
   "source": [
    "tfidf_df.head()"
   ]
  },
  {
   "cell_type": "markdown",
   "metadata": {},
   "source": [
    "Great job so far, we can now derive the dependent and independent variables from the train and test dataset."
   ]
  },
  {
   "cell_type": "code",
   "execution_count": 38,
   "metadata": {},
   "outputs": [],
   "source": [
    "#Training dataset\n",
    "\n",
    "X = train_features #Independent Variables also known as Features\n",
    "y = train_df['sentiment'] #Dependent Variable also known as Target\n",
    "\n",
    "#Test dataset\n",
    "\n",
    "Text_X = test_features #Testing Features\n",
    "tweetid = test_df['tweetid'] #Index tweetid."
   ]
  },
  {
   "cell_type": "markdown",
   "metadata": {},
   "source": [
    "Okay, lets split the Training dataset into 80% train and 20% test"
   ]
  },
  {
   "cell_type": "code",
   "execution_count": 39,
   "metadata": {},
   "outputs": [],
   "source": [
    "X_train, X_test, y_train, y_test =train_test_split(X, \n",
    "                                                   y, \n",
    "                                                   test_size=0.2, \n",
    "                                                   shuffle=True,\n",
    "                                                   random_state=42)"
   ]
  },
  {
   "cell_type": "markdown",
   "metadata": {},
   "source": [
    "#### Here we split our training dataset into 80% train and 20% test as per best practice"
   ]
  },
  {
   "cell_type": "markdown",
   "metadata": {},
   "source": [
    "#### The next step will be to solve our data imbalanced issue we noticed while performing EDA."
   ]
  },
  {
   "cell_type": "markdown",
   "metadata": {},
   "source": [
    "Lets try solving our imbalance data problem using Synthetic Minority Oversampling Techniques (SMOTE)"
   ]
  },
  {
   "cell_type": "markdown",
   "metadata": {},
   "source": [
    "SMOTE is an oversampling technique that generates synthetic samples from the minority class. It is used to obtain a synthetically class-balanced or nearly class-balanced training set, which is then used to train the classifier"
   ]
  },
  {
   "cell_type": "markdown",
   "metadata": {},
   "source": [
    "First we instantiate smote as sm"
   ]
  },
  {
   "cell_type": "code",
   "execution_count": 40,
   "metadata": {},
   "outputs": [],
   "source": [
    "sm = SMOTE()"
   ]
  },
  {
   "cell_type": "markdown",
   "metadata": {},
   "source": [
    "Then we fit smote on the splitted train dataset only, we dont want to be biased when predicting the accuracy of the model by specifying falsified data."
   ]
  },
  {
   "cell_type": "code",
   "execution_count": 41,
   "metadata": {},
   "outputs": [],
   "source": [
    "X_train_sm, y_train_sm = sm.fit_resample(X_train, y_train)"
   ]
  },
  {
   "cell_type": "markdown",
   "metadata": {},
   "source": [
    "Alright lets now see the changes"
   ]
  },
  {
   "cell_type": "code",
   "execution_count": 42,
   "metadata": {},
   "outputs": [
    {
     "name": "stdout",
     "output_type": "stream",
     "text": [
      "Before SMOTE: Counter({1: 6775, 2: 2934, 0: 1928, -1: 1018})\n",
      "After SMOTE: Counter({1: 6775, 2: 6775, 0: 6775, -1: 6775})\n"
     ]
    }
   ],
   "source": [
    "print('Before SMOTE:', Counter(y_train))\n",
    "print('After SMOTE:', Counter(y_train_sm))"
   ]
  },
  {
   "cell_type": "markdown",
   "metadata": {},
   "source": [
    "Before SMOTE the Sentiment Classes data where not equally distributed, but with SMOTE all classes as a similar distribution."
   ]
  },
  {
   "cell_type": "markdown",
   "metadata": {},
   "source": [
    "<a id=\"five\"></a>\n",
    "## 5. Modelling\n",
    "<a class=\"anchor\" id=\"1.1\"></a>\n",
    "<a href=#cont>Back to Table of Contents</a>\n",
    "\n",
    "---\n",
    "    \n",
    "| ⚡ Description: Modelling ⚡ |\n",
    "| :--------------------------- |\n",
    "| In this section, we are required to create one or more regression models that are able to accurately predict the Individual Beliefs on Climate Changes. |\n",
    "\n",
    "---"
   ]
  },
  {
   "cell_type": "markdown",
   "metadata": {},
   "source": [
    "Here, the modelling works begins"
   ]
  },
  {
   "cell_type": "markdown",
   "metadata": {},
   "source": [
    "In these we will train our model with both the Imbalanced dataset and Balanced dataset, so as to compare the results."
   ]
  },
  {
   "cell_type": "markdown",
   "metadata": {},
   "source": [
    "### Model predictions of Individual Beliefs on Climate Changes"
   ]
  },
  {
   "cell_type": "markdown",
   "metadata": {},
   "source": [
    "##### We will be training  the below models using our already processed data.\n",
    "            1. Logistic Regression\n",
    "            2. Random Forest Classifier\n",
    "            3. Naive Bayes CLassifier using MultinomialNB\n",
    "            4. Support Vector Machine\n",
    "            5. KNeighbors Classifier.\n",
    "\n",
    "##### Lets now train and compare the above models to see the one with the best fit for predictions using their default parameters.\n",
    "\n",
    "But first lets give a brief overview of our models."
   ]
  },
  {
   "cell_type": "markdown",
   "metadata": {},
   "source": [
    "1. Logistic Regression - is similar to linear regression except, logistic regression predicts weather something is True or False, instead of predicting continuous variables. Also, instead of fitting a line to the data, logistic regression fits an 'S' shaped 'logistic function'.\n",
    "The curve goes from zero (0) to one (1), and that means that the curve tells you the probability of the 'target' based on the feature.\n",
    "\n",
    "2. Random Forest Classifier: are made out of decision trees, is a collection of multiple random decision tress, and it much less sensitive to the training data.\n",
    "\n",
    "3. Multinomial Naïve Bayes classifier: is the probabilistic classification method where Probability of a class given in a document depends on the prior probability of features appeared in the class.\n",
    "\n",
    "4. Support Vector Machine: is a linear model for classification problems. It can solve linear and non-linear problems and work well for many practical problems. The idea of SVM is simple: The algorithm creates a line or a hyperplane which separates the data into classes.\n",
    "\n",
    "5. KNeighbors Classifier: A super Simple way to classify data. The K in the name of this classifier represents the k nearest neighbors, where k is an integer value specified by the user. Hence as the name suggests, this classifier implements learning based on the k nearest neighbors.\n"
   ]
  },
  {
   "cell_type": "markdown",
   "metadata": {},
   "source": [
    "Give names to the models"
   ]
  },
  {
   "cell_type": "code",
   "execution_count": 43,
   "metadata": {},
   "outputs": [],
   "source": [
    "names = ['LogisticRegression',  'ForestClassifier', 'NaiveBayes', 'LinearSVM', 'KNNClassifier']"
   ]
  },
  {
   "cell_type": "markdown",
   "metadata": {},
   "source": [
    "Instantiate the models"
   ]
  },
  {
   "cell_type": "code",
   "execution_count": 44,
   "metadata": {},
   "outputs": [],
   "source": [
    "classifiers = [\n",
    "    LogisticRegression(C=10),\n",
    "    RandomForestClassifier(criterion='entropy'),\n",
    "    MultinomialNB(alpha=1),\n",
    "    LinearSVC(C=10, class_weight=None),\n",
    "    KNeighborsClassifier(n_neighbors=10)\n",
    "]"
   ]
  },
  {
   "cell_type": "markdown",
   "metadata": {},
   "source": [
    "Okay... we can finally train our models."
   ]
  },
  {
   "cell_type": "markdown",
   "metadata": {},
   "source": [
    "Training model with balanced dataset"
   ]
  },
  {
   "cell_type": "code",
   "execution_count": 45,
   "metadata": {},
   "outputs": [
    {
     "name": "stdout",
     "output_type": "stream",
     "text": [
      "Fitting LogisticRegression model.....\n",
      "..... Predicting\n",
      "..... Scoring\n",
      "Fitting ForestClassifier model.....\n",
      "..... Predicting\n",
      "..... Scoring\n",
      "Fitting NaiveBayes model.....\n",
      "..... Predicting\n",
      "..... Scoring\n",
      "Fitting LinearSVM model.....\n",
      "..... Predicting\n",
      "..... Scoring\n",
      "Fitting KNNClassifier model.....\n",
      "..... Predicting\n",
      "..... Scoring\n"
     ]
    }
   ],
   "source": [
    "results = []\n",
    "models = {}\n",
    "for name, clf in zip(names, classifiers):\n",
    "    print('Fitting {:s} model.....'.format(name))\n",
    "    # We train each model using .fit\n",
    "    clf.fit(X_train_sm, y_train_sm)\n",
    "    \n",
    "    \n",
    "    #Predict the Target Class with the below code using .predict\n",
    "    print('..... Predicting')\n",
    "    y_pred = clf.predict(X_test)\n",
    "    train_pred = clf.predict(X_train_sm)\n",
    "    \n",
    "    #Score the models with the accuracy and F1_score.\n",
    "    print('..... Scoring')\n",
    "    accuracy = accuracy_score(y_test, y_pred) # Test Accuracy\n",
    "    f1_Score = f1_score(y_test, y_pred, average='macro')\n",
    "    train_f1_Score = f1_score(y_train_sm, train_pred, average='macro')\n",
    "    \n",
    "    #Save the results to dictionaries\n",
    "    models[name] = clf\n",
    "    \n",
    "    results.append([name, accuracy, f1_Score, train_f1_Score])\n",
    "    \n",
    "#Creating a df from the results    \n",
    "results = pd.DataFrame(results, columns=['Classifier', 'Accuracy Score', 'F1 Score', 'Train F1 Score'])\n",
    "results.set_index('Classifier', inplace=True)"
   ]
  },
  {
   "cell_type": "markdown",
   "metadata": {},
   "source": [
    "Training models with imbalanced dataset."
   ]
  },
  {
   "cell_type": "code",
   "execution_count": 46,
   "metadata": {},
   "outputs": [
    {
     "name": "stdout",
     "output_type": "stream",
     "text": [
      "Fitting LogisticRegression model.....\n",
      "..... Predicting\n",
      "..... Scoring\n",
      "Fitting ForestClassifier model.....\n",
      "..... Predicting\n",
      "..... Scoring\n",
      "Fitting NaiveBayes model.....\n",
      "..... Predicting\n",
      "..... Scoring\n",
      "Fitting LinearSVM model.....\n",
      "..... Predicting\n",
      "..... Scoring\n",
      "Fitting KNNClassifier model.....\n",
      "..... Predicting\n",
      "..... Scoring\n"
     ]
    }
   ],
   "source": [
    "imbalanced_results = []\n",
    "imbalanced_models = {}\n",
    "for name, clf in zip(names, classifiers):\n",
    "    print('Fitting {:s} model.....'.format(name))\n",
    "    # We train each model using .fit\n",
    "    clf.fit(X_train, y_train)\n",
    "    \n",
    "    \n",
    "    #Predict the Target Class with the below code using .predict\n",
    "    print('..... Predicting')\n",
    "    y_pred = clf.predict(X_test)\n",
    "    train_pred = clf.predict(X_train)\n",
    "    \n",
    "    #Score the models with the accuracy and F1_score.\n",
    "    print('..... Scoring')\n",
    "    accuracy = accuracy_score(y_test, y_pred) # Test Accuracy\n",
    "    f1_Score = f1_score(y_test, y_pred, average='macro')\n",
    "    train_f1_Score = f1_score(y_train, train_pred, average='macro')\n",
    "    \n",
    "    #Save the results to dictionaries\n",
    "    imbalanced_models[name] = clf\n",
    "    \n",
    "    imbalanced_results.append([name, accuracy, f1_Score, train_f1_Score])\n",
    "    \n",
    "#Creating a df from the results    \n",
    "imbalanced_results = pd.DataFrame(imbalanced_results, columns=['Classifier', 'Accuracy Score', 'F1 Score', 'Train F1 Score'])\n",
    "imbalanced_results.set_index('Classifier', inplace=True)"
   ]
  },
  {
   "cell_type": "markdown",
   "metadata": {},
   "source": [
    "<a id=\"six\"></a>\n",
    "## 6. Model Performance\n",
    "<a class=\"anchor\" id=\"1.1\"></a>\n",
    "<a href=#cont>Back to Table of Contents</a>\n",
    "\n",
    "---\n",
    "    \n",
    "| ⚡ Description: Model performance ⚡ |\n",
    "| :--------------------------- |\n",
    "| In this section we are required to compare the relative performance of the various trained ML models on a holdout dataset and comment on what model is the best and why. |"
   ]
  },
  {
   "cell_type": "markdown",
   "metadata": {},
   "source": [
    "Almost Done, but first lets check the performance of our models."
   ]
  },
  {
   "cell_type": "markdown",
   "metadata": {},
   "source": [
    "The F1_score will be the basic metric in scaling the performance of our trained models"
   ]
  },
  {
   "cell_type": "markdown",
   "metadata": {},
   "source": [
    "Balanced Data Performance"
   ]
  },
  {
   "cell_type": "code",
   "execution_count": 47,
   "metadata": {},
   "outputs": [
    {
     "data": {
      "text/html": [
       "<div>\n",
       "<style scoped>\n",
       "    .dataframe tbody tr th:only-of-type {\n",
       "        vertical-align: middle;\n",
       "    }\n",
       "\n",
       "    .dataframe tbody tr th {\n",
       "        vertical-align: top;\n",
       "    }\n",
       "\n",
       "    .dataframe thead th {\n",
       "        text-align: right;\n",
       "    }\n",
       "</style>\n",
       "<table border=\"1\" class=\"dataframe\">\n",
       "  <thead>\n",
       "    <tr style=\"text-align: right;\">\n",
       "      <th></th>\n",
       "      <th>Accuracy Score</th>\n",
       "      <th>F1 Score</th>\n",
       "      <th>Train F1 Score</th>\n",
       "    </tr>\n",
       "    <tr>\n",
       "      <th>Classifier</th>\n",
       "      <th></th>\n",
       "      <th></th>\n",
       "      <th></th>\n",
       "    </tr>\n",
       "  </thead>\n",
       "  <tbody>\n",
       "    <tr>\n",
       "      <th>LogisticRegression</th>\n",
       "      <td>0.708913</td>\n",
       "      <td>0.629779</td>\n",
       "      <td>0.985011</td>\n",
       "    </tr>\n",
       "    <tr>\n",
       "      <th>ForestClassifier</th>\n",
       "      <td>0.706384</td>\n",
       "      <td>0.596032</td>\n",
       "      <td>0.997638</td>\n",
       "    </tr>\n",
       "    <tr>\n",
       "      <th>LinearSVM</th>\n",
       "      <td>0.680152</td>\n",
       "      <td>0.593958</td>\n",
       "      <td>0.993435</td>\n",
       "    </tr>\n",
       "    <tr>\n",
       "      <th>NaiveBayes</th>\n",
       "      <td>0.637800</td>\n",
       "      <td>0.584748</td>\n",
       "      <td>0.893083</td>\n",
       "    </tr>\n",
       "    <tr>\n",
       "      <th>KNNClassifier</th>\n",
       "      <td>0.357775</td>\n",
       "      <td>0.360780</td>\n",
       "      <td>0.692558</td>\n",
       "    </tr>\n",
       "  </tbody>\n",
       "</table>\n",
       "</div>"
      ],
      "text/plain": [
       "                    Accuracy Score  F1 Score  Train F1 Score\n",
       "Classifier                                                  \n",
       "LogisticRegression        0.708913  0.629779        0.985011\n",
       "ForestClassifier          0.706384  0.596032        0.997638\n",
       "LinearSVM                 0.680152  0.593958        0.993435\n",
       "NaiveBayes                0.637800  0.584748        0.893083\n",
       "KNNClassifier             0.357775  0.360780        0.692558"
      ]
     },
     "execution_count": 47,
     "metadata": {},
     "output_type": "execute_result"
    }
   ],
   "source": [
    "results.sort_values('F1 Score', ascending=False)"
   ]
  },
  {
   "cell_type": "markdown",
   "metadata": {},
   "source": [
    "Imbalanced Data Performance"
   ]
  },
  {
   "cell_type": "code",
   "execution_count": 48,
   "metadata": {},
   "outputs": [
    {
     "data": {
      "text/html": [
       "<div>\n",
       "<style scoped>\n",
       "    .dataframe tbody tr th:only-of-type {\n",
       "        vertical-align: middle;\n",
       "    }\n",
       "\n",
       "    .dataframe tbody tr th {\n",
       "        vertical-align: top;\n",
       "    }\n",
       "\n",
       "    .dataframe thead th {\n",
       "        text-align: right;\n",
       "    }\n",
       "</style>\n",
       "<table border=\"1\" class=\"dataframe\">\n",
       "  <thead>\n",
       "    <tr style=\"text-align: right;\">\n",
       "      <th></th>\n",
       "      <th>Accuracy Score</th>\n",
       "      <th>F1 Score</th>\n",
       "      <th>Train F1 Score</th>\n",
       "    </tr>\n",
       "    <tr>\n",
       "      <th>Classifier</th>\n",
       "      <th></th>\n",
       "      <th></th>\n",
       "      <th></th>\n",
       "    </tr>\n",
       "  </thead>\n",
       "  <tbody>\n",
       "    <tr>\n",
       "      <th>LogisticRegression</th>\n",
       "      <td>0.719975</td>\n",
       "      <td>0.620285</td>\n",
       "      <td>0.981620</td>\n",
       "    </tr>\n",
       "    <tr>\n",
       "      <th>LinearSVM</th>\n",
       "      <td>0.693426</td>\n",
       "      <td>0.605257</td>\n",
       "      <td>0.993514</td>\n",
       "    </tr>\n",
       "    <tr>\n",
       "      <th>ForestClassifier</th>\n",
       "      <td>0.708913</td>\n",
       "      <td>0.568714</td>\n",
       "      <td>0.994728</td>\n",
       "    </tr>\n",
       "    <tr>\n",
       "      <th>KNNClassifier</th>\n",
       "      <td>0.638748</td>\n",
       "      <td>0.523962</td>\n",
       "      <td>0.608862</td>\n",
       "    </tr>\n",
       "    <tr>\n",
       "      <th>NaiveBayes</th>\n",
       "      <td>0.672250</td>\n",
       "      <td>0.451985</td>\n",
       "      <td>0.530287</td>\n",
       "    </tr>\n",
       "  </tbody>\n",
       "</table>\n",
       "</div>"
      ],
      "text/plain": [
       "                    Accuracy Score  F1 Score  Train F1 Score\n",
       "Classifier                                                  \n",
       "LogisticRegression        0.719975  0.620285        0.981620\n",
       "LinearSVM                 0.693426  0.605257        0.993514\n",
       "ForestClassifier          0.708913  0.568714        0.994728\n",
       "KNNClassifier             0.638748  0.523962        0.608862\n",
       "NaiveBayes                0.672250  0.451985        0.530287"
      ]
     },
     "execution_count": 48,
     "metadata": {},
     "output_type": "execute_result"
    }
   ],
   "source": [
    "imbalanced_results.sort_values('F1 Score', ascending=False)"
   ]
  },
  {
   "cell_type": "markdown",
   "metadata": {},
   "source": [
    "Awesome: We can see that their is little difference in the result but the balanced dataset has a more better overall prediction..\n",
    "\n",
    "The Imbalanced dataset has more over fitting problem, because, the Train F1 Score is higher than the balanced dataset Train F1 Score."
   ]
  },
  {
   "cell_type": "markdown",
   "metadata": {},
   "source": [
    "Therefore will be Using the Balanced dataset for further predictions."
   ]
  },
  {
   "cell_type": "markdown",
   "metadata": {},
   "source": [
    "Lets Visualize the results of Trained models with balanced data."
   ]
  },
  {
   "cell_type": "code",
   "execution_count": 49,
   "metadata": {},
   "outputs": [
    {
     "data": {
      "text/plain": [
       "Text(0.5, 1.0, 'Balanced Data Predictions')"
      ]
     },
     "execution_count": 49,
     "metadata": {},
     "output_type": "execute_result"
    },
    {
     "data": {
      "image/png": "[encoded data removed]",
      "text/plain": [
       "<Figure size 1080x360 with 2 Axes>"
      ]
     },
     "metadata": {},
     "output_type": "display_data"
    }
   ],
   "source": [
    "fig, ax = plt.subplots(1,2, figsize =(15,5))\n",
    "results.sort_values('F1 Score', ascending=False, inplace=True)\n",
    "results.plot(y='F1 Score', kind='bar', ax=ax[0])\n",
    "results.plot(y='Accuracy Score', kind='bar', ax=ax[1])\n",
    "plt.title('Balanced Data Predictions')"
   ]
  },
  {
   "cell_type": "markdown",
   "metadata": {},
   "source": [
    "Wow. in terms of F1_Score,  the logistic Regression seems to be the best, so lets try to do some parameters tunning on the both Logistic Regression and LinearSVM to see if we could get a better F1 Score."
   ]
  },
  {
   "cell_type": "markdown",
   "metadata": {},
   "source": [
    "Lets now Tune the SVMLinear Model and LogisticRegression Model."
   ]
  },
  {
   "cell_type": "code",
   "execution_count": 50,
   "metadata": {},
   "outputs": [
    {
     "data": {
      "text/plain": [
       "GridSearchCV(cv=3, estimator=LogisticRegression(C=10), n_jobs=1,\n",
       "             param_grid={'C': [250, 200, 150, 100]})"
      ]
     },
     "execution_count": 50,
     "metadata": {},
     "output_type": "execute_result"
    }
   ],
   "source": [
    "param_dict = {\n",
    "    'C':[40,20,10,5],\n",
    "    'class_weight': [None]\n",
    "}\n",
    "\n",
    "gridS = GridSearchCV(models['LinearSVM'], param_grid=param_dict, cv=3, n_jobs=1)\n",
    "gridS.fit(X_train_sm, y_train_sm)\n",
    "\n",
    "param_dict = {\n",
    "    'C':[250,200,150,100]\n",
    "}\n",
    "\n",
    "gridL = GridSearchCV(models['LogisticRegression'], param_grid=param_dict, cv=3, n_jobs=1)\n",
    "gridL.fit(X_train_sm, y_train_sm)"
   ]
  },
  {
   "cell_type": "markdown",
   "metadata": {},
   "source": [
    "Lets get the Best Parameters and Score"
   ]
  },
  {
   "cell_type": "code",
   "execution_count": 51,
   "metadata": {},
   "outputs": [
    {
     "name": "stdout",
     "output_type": "stream",
     "text": [
      "{'C': 5, 'class_weight': None} 0.9119930853492916\n",
      "{'C': 100} 0.914318335537021\n"
     ]
    }
   ],
   "source": [
    "print(gridS.best_params_, gridS.best_score_)\n",
    "print(gridL.best_params_, gridL.best_score_)"
   ]
  },
  {
   "cell_type": "markdown",
   "metadata": {},
   "source": [
    "From above we can see that the LogisticRegression model is still the best with a score of 0.92."
   ]
  },
  {
   "cell_type": "markdown",
   "metadata": {},
   "source": [
    "Now lets retrain the LogisticRegression Model with our best parameters to see the Result."
   ]
  },
  {
   "cell_type": "code",
   "execution_count": 52,
   "metadata": {},
   "outputs": [
    {
     "data": {
      "text/plain": [
       "LogisticRegression(C=150)"
      ]
     },
     "execution_count": 52,
     "metadata": {},
     "output_type": "execute_result"
    }
   ],
   "source": [
    "LR = LogisticRegression(C=150)\n",
    "LR.fit(X_train_sm, y_train_sm)"
   ]
  },
  {
   "cell_type": "markdown",
   "metadata": {},
   "source": [
    "Done!, lets get predictions."
   ]
  },
  {
   "cell_type": "code",
   "execution_count": 53,
   "metadata": {},
   "outputs": [],
   "source": [
    "y_pred = LR.predict(X_test)"
   ]
  },
  {
   "cell_type": "markdown",
   "metadata": {},
   "source": [
    "Lets show Our Predictions using the classification report and confusion matrix"
   ]
  },
  {
   "cell_type": "code",
   "execution_count": 54,
   "metadata": {},
   "outputs": [
    {
     "name": "stdout",
     "output_type": "stream",
     "text": [
      "              precision    recall  f1-score   support\n",
      "\n",
      "     -1:Anti       0.61      0.46      0.53       278\n",
      "   0:Neutral       0.46      0.46      0.46       425\n",
      "       1:Pro       0.77      0.80      0.78      1755\n",
      "      2:News       0.72      0.72      0.72       706\n",
      "\n",
      "    accuracy                           0.71      3164\n",
      "   macro avg       0.64      0.61      0.62      3164\n",
      "weighted avg       0.70      0.71      0.70      3164\n",
      "\n"
     ]
    }
   ],
   "source": [
    "labels = ['-1:Anti', '0:Neutral', '1:Pro', '2:News']\n",
    "print(classification_report(y_test, y_pred, target_names=labels))"
   ]
  },
  {
   "cell_type": "markdown",
   "metadata": {},
   "source": [
    "Now Lets see the Confusion Matrix"
   ]
  },
  {
   "cell_type": "markdown",
   "metadata": {},
   "source": [
    "First We Create Functions that will add Ploting our prediction."
   ]
  },
  {
   "cell_type": "code",
   "execution_count": 55,
   "metadata": {},
   "outputs": [],
   "source": [
    "def plot_confusion_matrix(cm, classes,\n",
    "                          title='Confusion matrix',\n",
    "                          cmap=plt.cm.Blues):\n",
    "    \"\"\"\n",
    "    This function prints and plots the confusion matrix.\n",
    "    Normalization can be applied by setting `normalize=True`.\n",
    "    \"\"\"\n",
    "    plt.imshow(cm, interpolation='nearest', cmap=cmap)\n",
    "    plt.title(title)\n",
    "    plt.colorbar()\n",
    "    tick_marks = np.arange(len(classes))\n",
    "    plt.xticks(tick_marks, classes, rotation=45)\n",
    "    plt.yticks(tick_marks, classes)\n",
    "\n",
    "    thresh = cm.max() / 2.\n",
    "    for i, j in itertools.product(range(cm.shape[0]), range(cm.shape[1])):\n",
    "        plt.text(j, i, cm[i, j],\n",
    "                 horizontalalignment=\"center\",\n",
    "                 color=\"white\" if cm[i, j] > thresh else \"black\")\n",
    "\n",
    "    plt.tight_layout()\n",
    "    plt.ylabel('True label')\n",
    "    plt.xlabel('Predicted label')"
   ]
  },
  {
   "cell_type": "code",
   "execution_count": 56,
   "metadata": {},
   "outputs": [
    {
     "data": {
      "image/png": "[encoded data removed]",
      "text/plain": [
       "<Figure size 432x288 with 2 Axes>"
      ]
     },
     "metadata": {},
     "output_type": "display_data"
    }
   ],
   "source": [
    "plot_confusion_matrix(confusion_matrix(y_test, y_pred), labels,\n",
    "                          title='Confusion matrix',\n",
    "                          cmap=plt.cm.Blues)"
   ]
  },
  {
   "cell_type": "markdown",
   "metadata": {},
   "source": [
    "The Values in the Diagonal are the True Positive. TP (Anti:133, Neutral:190, Pro:1408, News:503)\n",
    "False Negatives FN (Anti:145, Neutral:235, Pro:347, News:203)\n",
    "False Positives FP (Anti:103, Neutral:215, Pro:425, News:188)\n",
    "True Negatives TN (Anti:2783, Neutral:2525, Pro:984, News:2270)\n",
    "\n",
    "Giving the result, Pro and News class are well predicted by the Logistic regression model compared to that of Anti and Neutral class.\n"
   ]
  },
  {
   "cell_type": "code",
   "execution_count": 57,
   "metadata": {},
   "outputs": [],
   "source": [
    "f1 = f1_score(y_test, y_pred, average='macro')\n",
    "precision = precision_score(y_test, y_pred, average='macro')\n",
    "recall = recall_score(y_test, y_pred, average='macro')"
   ]
  },
  {
   "cell_type": "markdown",
   "metadata": {},
   "source": [
    "Create dictionaries for the data we want to log"
   ]
  },
  {
   "cell_type": "code",
   "execution_count": 58,
   "metadata": {},
   "outputs": [],
   "source": [
    "params = {\"random_state\": 42,\n",
    "          \"model_type\": \"logreg\",\n",
    "          \"vectorizer\": \"tfidf_Vectorizer\",\n",
    "          \"imbalanced\": \"smote\",\n",
    "          \"param_grid\": str(param_dict),\n",
    "          \"stratify\": True\n",
    "          }\n",
    "metrics = {\"f1\": f1,\n",
    "           \"recall\": recall,\n",
    "           \"precision\": precision\n",
    "           }"
   ]
  },
  {
   "cell_type": "markdown",
   "metadata": {},
   "source": [
    "Log our parameters and results"
   ]
  },
  {
   "cell_type": "code",
   "execution_count": 59,
   "metadata": {},
   "outputs": [],
   "source": [
    "experiment.log_parameters(params)\n",
    "experiment.log_metrics(metrics)"
   ]
  },
  {
   "cell_type": "markdown",
   "metadata": {},
   "source": [
    "<a id=\"seven\"></a>\n",
    "## 7. Model Explanations\n",
    "<a class=\"anchor\" id=\"1.1\"></a>\n",
    "<a href=#cont>Back to Table of Contents</a>\n",
    "\n",
    "---\n",
    "    \n",
    "| ⚡ Description: Model explanation ⚡ |\n",
    "| :--------------------------- |\n",
    "| In this section, we are required to discuss how the best performing model works in a simple way so that both technical and non-technical stakeholders can grasp the intuition behind the model's inner workings. |"
   ]
  },
  {
   "cell_type": "markdown",
   "metadata": {},
   "source": [
    "Now lets explain how the Logistic Regression works."
   ]
  },
  {
   "cell_type": "markdown",
   "metadata": {},
   "source": [
    "The Logistic Regression model, makes use of a logistic function: f(x), that takes the shape of a S-Shape Curve known as SIGMOID, the logistic regression model takes the training data and maps the independent variables (features) to exist only between the multi class dependent variables (target) which are (Anti:-1), (Neutral:0), (Pro:1), (News:2). It selects a reference class and uses the one vs rest (OvR) algorithm to predict the probability of a tweet belonging to a particular dependent or target class."
   ]
  },
  {
   "cell_type": "markdown",
   "metadata": {},
   "source": [
    "1. Our best model is the Logistic Regression model, we set the 'C' parameter to 150, and other parameters to their default parameter, in order to apply a regularization to our data in order to reduce over fitting. \n",
    "The C parameter of 200 gave the best fit to the data, with an best accuracy score percentage of 71%. \n",
    "\n",
    "2. Support Vector Machines:We have used LinearSVC algorithm After experimenting with multiple 'C' parameter values, the 'C' parameter value of 10 in Linear SVC has returned best accuracy percentage with 69%.\n",
    "\n",
    "3. In Multinomial Naïve Bayes classifier, we have introduced smoothing parameter alpha with different values, but there little changes to the accuracy of the model. Using Multinomial Naïve Bayes classifier along with alpha value as 1 has returned 64%.\n",
    "\n",
    "4. For Random Forest Classifier, we experimented with the 'gini' and 'entropy' criterion, with the default parameter, without specifying a max_leaf_nodes. This multiple random decision tree returns and accuracy score of 70.2% and F1 Score of 71%.\n",
    "\n",
    "5.  KNeighbors Classifier: this classifier implements learning based on the 10 nearest neighbors. The classifier is the poorest among all models with an accuracy score of 35.9% and an F1 score of 36.1%.\n",
    "\n"
   ]
  },
  {
   "cell_type": "code",
   "execution_count": 60,
   "metadata": {},
   "outputs": [
    {
     "name": "stderr",
     "output_type": "stream",
     "text": [
      "COMET INFO: ---------------------------\n",
      "COMET INFO: Comet.ml Experiment Summary\n",
      "COMET INFO: ---------------------------\n",
      "COMET INFO:   Data:\n",
      "COMET INFO:     display_summary_level : 1\n",
      "COMET INFO:     url                   : https://www.comet.ml/sodiq-olamide/climate-change-belief-analysis/7fbfe3ee81d54c93a6d5399d702e18d4\n",
      "COMET INFO:   Metrics:\n",
      "COMET INFO:     f1        : 0.6232523551407949\n",
      "COMET INFO:     precision : 0.6415766547468879\n",
      "COMET INFO:     recall    : 0.6104779042356892\n",
      "COMET INFO:   Parameters:\n",
      "COMET INFO:     C                            : 150\n",
      "COMET INFO:     algorithm                    : auto\n",
      "COMET INFO:     alpha                        : 1\n",
      "COMET INFO:     bootstrap                    : True\n",
      "COMET INFO:     ccp_alpha                    : 0.0\n",
      "COMET INFO:     class_prior                  : 1\n",
      "COMET INFO:     class_weight                 : 1\n",
      "COMET INFO:     criterion                    : entropy\n",
      "COMET INFO:     cv                           : 3\n",
      "COMET INFO:     dual                         : False\n",
      "COMET INFO:     error_score                  : nan\n",
      "COMET INFO:     estimator                    : LogisticRegression(C=10)\n",
      "COMET INFO:     estimator__C                 : 10\n",
      "COMET INFO:     estimator__class_weight      : 1\n",
      "COMET INFO:     estimator__dual              : False\n",
      "COMET INFO:     estimator__fit_intercept     : True\n",
      "COMET INFO:     estimator__intercept_scaling : 1\n",
      "COMET INFO:     estimator__l1_ratio          : 1\n",
      "COMET INFO:     estimator__loss              : squared_hinge\n",
      "COMET INFO:     estimator__max_iter          : 100\n",
      "COMET INFO:     estimator__multi_class       : auto\n",
      "COMET INFO:     estimator__n_jobs            : 1\n",
      "COMET INFO:     estimator__penalty           : l2\n",
      "COMET INFO:     estimator__random_state      : 1\n",
      "COMET INFO:     estimator__solver            : lbfgs\n",
      "COMET INFO:     estimator__tol               : 0.0001\n",
      "COMET INFO:     estimator__verbose           : 0\n",
      "COMET INFO:     estimator__warm_start        : False\n",
      "COMET INFO:     fit_intercept                : True\n",
      "COMET INFO:     fit_prior                    : True\n",
      "COMET INFO:     imbalanced                   : smote\n",
      "COMET INFO:     intercept_scaling            : 1\n",
      "COMET INFO:     l1_ratio                     : 1\n",
      "COMET INFO:     leaf_size                    : 30\n",
      "COMET INFO:     loss                         : squared_hinge\n",
      "COMET INFO:     max_depth                    : 1\n",
      "COMET INFO:     max_features                 : auto\n",
      "COMET INFO:     max_iter                     : 100\n",
      "COMET INFO:     max_leaf_nodes               : 1\n",
      "COMET INFO:     max_samples                  : 1\n",
      "COMET INFO:     metric                       : minkowski\n",
      "COMET INFO:     metric_params                : 1\n",
      "COMET INFO:     min_impurity_decrease        : 0.0\n",
      "COMET INFO:     min_samples_leaf             : 1\n",
      "COMET INFO:     min_samples_split            : 2\n",
      "COMET INFO:     min_weight_fraction_leaf     : 0.0\n",
      "COMET INFO:     model_type                   : logreg\n",
      "COMET INFO:     multi_class                  : auto\n",
      "COMET INFO:     n_estimators                 : 100\n",
      "COMET INFO:     n_jobs                       : 5\n",
      "COMET INFO:     n_neighbors                  : 10\n",
      "COMET INFO:     neg_label                    : 0\n",
      "COMET INFO:     norm                         : l2\n",
      "COMET INFO:     oob_score                    : False\n",
      "COMET INFO:     p                            : 2\n",
      "COMET INFO:     param_grid                   : {'C': [250, 200, 150, 100]}\n",
      "COMET INFO:     penalty                      : l2\n",
      "COMET INFO:     pos_label                    : 1\n",
      "COMET INFO:     pre_dispatch                 : 2*n_jobs\n",
      "COMET INFO:     radius                       : 1.0\n",
      "COMET INFO:     random_state                 : 42\n",
      "COMET INFO:     refit                        : True\n",
      "COMET INFO:     return_train_score           : False\n",
      "COMET INFO:     scoring                      : 1\n",
      "COMET INFO:     smooth_idf                   : True\n",
      "COMET INFO:     solver                       : lbfgs\n",
      "COMET INFO:     sparse_output                : False\n",
      "COMET INFO:     splitter                     : best\n",
      "COMET INFO:     stratify                     : True\n",
      "COMET INFO:     sublinear_tf                 : False\n",
      "COMET INFO:     tol                          : 0.0001\n",
      "COMET INFO:     use_idf                      : True\n",
      "COMET INFO:     vectorizer                   : tfidf_Vectorizer\n",
      "COMET INFO:     verbose                      : 0\n",
      "COMET INFO:     warm_start                   : False\n",
      "COMET INFO:     weights                      : uniform\n",
      "COMET INFO:   Uploads:\n",
      "COMET INFO:     conda-environment-definition : 1\n",
      "COMET INFO:     conda-info                   : 1\n",
      "COMET INFO:     conda-specification          : 1\n",
      "COMET INFO:     environment details          : 1\n",
      "COMET INFO:     filename                     : 1\n",
      "COMET INFO:     git metadata                 : 1\n",
      "COMET INFO:     git-patch (uncompressed)     : 1 (4.07 MB)\n",
      "COMET INFO:     installed packages           : 1\n",
      "COMET INFO:     notebook                     : 1\n",
      "COMET INFO:     source_code                  : 1\n",
      "COMET INFO: ---------------------------\n",
      "COMET ERROR: Error sending a notification, make sure you have opted-in for notifications\n",
      "COMET INFO: Uploading metrics, params, and assets to Comet before program termination (may take several seconds)\n",
      "COMET INFO: The Python SDK has 3600 seconds to finish before aborting...\n"
     ]
    }
   ],
   "source": [
    "experiment.end()"
   ]
  }
 ],
 "metadata": {
  "colab": {
   "name": "Team2(2110ACDS_TC)_notebook_Team_2 (1).ipynb",
   "provenance": []
  },
  "interpreter": {
   "hash": "f1bbc1655b927eebf162c370b52077a239090e504a15e5628dbcc94473f432c4"
  },
  "kernelspec": {
   "display_name": "Python 3 (ipykernel)",
   "language": "python",
   "name": "python3"
  },
  "language_info": {
   "codemirror_mode": {
    "name": "ipython",
    "version": 3
   },
   "file_extension": ".py",
   "mimetype": "text/x-python",
   "name": "python",
   "nbconvert_exporter": "python",
   "pygments_lexer": "ipython3",
   "version": "3.8.8"
  }
 },
 "nbformat": 4,
 "nbformat_minor": 1
}
