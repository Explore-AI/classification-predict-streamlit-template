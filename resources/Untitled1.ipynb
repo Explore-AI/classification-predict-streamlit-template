{
 "cells": [
  {
   "cell_type": "code",
   "execution_count": 1,
   "metadata": {},
   "outputs": [],
   "source": [
    "# Data dependencies\n",
    "import pandas as pd\n",
    "import re\n",
    "import string\n",
    "import inflect\n",
    "import unicodedata\n",
    "from nltk.corpus import stopwords"
   ]
  },
  {
   "cell_type": "code",
   "execution_count": 17,
   "metadata": {},
   "outputs": [],
   "source": [
    "# Load your raw data\n",
    "raw = pd.read_csv(\"train.csv\")"
   ]
  },
  {
   "cell_type": "code",
   "execution_count": 18,
   "metadata": {},
   "outputs": [],
   "source": [
    "\n",
    "def pre_process(text):\n",
    "    # remove stop_words\n",
    "    text = ' '.join([word for word in text.split() if word not in stopwords.words('english')])\n",
    "    \n",
    "    \"\"\"This function take a string as an input and removes any url that are present in that string\"\"\"\n",
    "    text =  re.sub(r\"http\\S+\", \"\", text)\n",
    "    \n",
    "    # remove punctuations\n",
    "    words = str.maketrans('', '', string.punctuation)\n",
    "    text = text.translate(words)\n",
    "    \n",
    "    \n",
    "    #replace slang\n",
    "    text = ' '.join([word.replace('rt', '') for word in text.split()])\n",
    "    \n",
    "    #remove ascii\n",
    "    text = ''.join([unicodedata.normalize('NFKD', word).encode('ascii', 'ignore').decode('utf-8', 'ignore') for word in text])\n",
    "    \n",
    "    \"\"\"Convert all characters to lowercase from list of tokenized words\"\"\"\n",
    "    text = ''.join([word.lower() for word in text])\n",
    "    \n",
    "    # Replace all intergers\n",
    "    inflector = inflect.engine()\n",
    "    text = ''.join([inflector.number_to_words(word) if word.isdigit() else word for word in text])\n",
    "    \n",
    "    # other\n",
    "    text = re.sub('\\[.*?\\]', '', text)\n",
    "    text = re.sub('<.*?>+', '', text)\n",
    "    text = re.sub('[%s]' % re.escape(string.punctuation), '', text)\n",
    "    text = re.sub('\\n', '', text)\n",
    "    text = re.sub('\\w*\\d\\w*', '', text) \n",
    "    \n",
    "    #\n",
    "    emoji_pattern = re.compile(\"[\"\n",
    "                u\"\\U0001F600-\\U0001F64F\"\n",
    "                u\"\\U0001F300-\\U0001F5FF\"\n",
    "                u\"\\U0001F680-\\U0001F6FF\"\n",
    "                u\"\\U0001F1E0-\\U0001F1FF\"\n",
    "                u\"\\U00002702-\\U000027B0\"\n",
    "                u\"\\U000024C2-\\U0001F251\"\n",
    "                u\"\\U0001f926-\\U0001f937\"\n",
    "                u'\\U00010000-\\U0010ffff'\n",
    "                u\"\\u200d\"\n",
    "                u\"\\u2640-\\u2642\"\n",
    "                u\"\\u2600-\\u2B55\"\n",
    "                u\"\\u23cf\"\n",
    "                u\"\\u23e9\"\n",
    "                u\"\\u231a\"\n",
    "                u\"\\u3030\"\n",
    "                u\"\\ufe0f\"\n",
    "     \"]+\", flags=re.UNICODE)\n",
    "    text = emoji_pattern.sub(r'', text)\n",
    "    \n",
    "    return text\n",
    "    "
   ]
  },
  {
   "cell_type": "code",
   "execution_count": 46,
   "metadata": {},
   "outputs": [],
   "source": [
    "wes = str(\"RT @ConversationUK: What you need to know about the Trump-Xi summit: from trade to human rights to climate change – and North Korea…    \")"
   ]
  },
  {
   "cell_type": "code",
   "execution_count": 47,
   "metadata": {},
   "outputs": [
    {
     "data": {
      "text/plain": [
       "'RT @ConversationUK: What you need to know about the Trump-Xi summit: from trade to human rights to climate change – and North Korea…    '"
      ]
     },
     "execution_count": 47,
     "metadata": {},
     "output_type": "execute_result"
    }
   ],
   "source": [
    "wes"
   ]
  },
  {
   "cell_type": "code",
   "execution_count": 48,
   "metadata": {},
   "outputs": [
    {
     "data": {
      "text/plain": [
       "'rt conversationuk what need know trumpxi summit trade human rights climate change  noh korea'"
      ]
     },
     "execution_count": 48,
     "metadata": {},
     "output_type": "execute_result"
    }
   ],
   "source": [
    "pre_process(wes)"
   ]
  },
  {
   "cell_type": "code",
   "execution_count": 22,
   "metadata": {},
   "outputs": [
    {
     "data": {
      "text/plain": [
       "rt stephenschlegel thinking going die husband believe climate change                                                      362\n",
       "rt sensanders we presidentelect believe climate change millions people going say mr taaa                                  164\n",
       "rt natgeochannel watch beforetheflood right here leodicaprio travels world tackle climate change httaaa                   104\n",
       "rt sethmacfarlane hrc proposes installing half billion solar panels end first term trump thinks climate change hoaxaaa     78\n",
       "rt berniesanders imvotingbecause future planet stake hillary clinton combat climate change donald trump thinks iaaa        58\n",
       "                                                                                                                         ... \n",
       "rt variety leonardo dicaprio producing postapocalyptic ya movie adaptation climate change                                   1\n",
       "rt huffingtonpost trump says nobody really knows climate change real it is                                                  1\n",
       "rt rwpusa what climate change thats story made china donald trumps maralago reso ordered evacuate                           1\n",
       "rt capitanpugwash time theresamay choose trump assad amp oega climate change rest us clima                                  1\n",
       "rt robe f kennedy jr popeqs call tackle climate change qis moral imperativeq                                                1\n",
       "Name: message, Length: 27998, dtype: int64"
      ]
     },
     "execution_count": 22,
     "metadata": {},
     "output_type": "execute_result"
    }
   ],
   "source": [
    "raw.message.value_counts()"
   ]
  },
  {
   "cell_type": "code",
   "execution_count": null,
   "metadata": {},
   "outputs": [],
   "source": []
  },
  {
   "cell_type": "code",
   "execution_count": null,
   "metadata": {},
   "outputs": [],
   "source": []
  },
  {
   "cell_type": "code",
   "execution_count": null,
   "metadata": {},
   "outputs": [],
   "source": []
  },
  {
   "cell_type": "code",
   "execution_count": null,
   "metadata": {},
   "outputs": [],
   "source": []
  },
  {
   "cell_type": "code",
   "execution_count": null,
   "metadata": {},
   "outputs": [],
   "source": []
  }
 ],
 "metadata": {
  "kernelspec": {
   "display_name": "Python 3",
   "language": "python",
   "name": "python3"
  },
  "language_info": {
   "codemirror_mode": {
    "name": "ipython",
    "version": 3
   },
   "file_extension": ".py",
   "mimetype": "text/x-python",
   "name": "python",
   "nbconvert_exporter": "python",
   "pygments_lexer": "ipython3",
   "version": "3.8.5"
  }
 },
 "nbformat": 4,
 "nbformat_minor": 4
}
