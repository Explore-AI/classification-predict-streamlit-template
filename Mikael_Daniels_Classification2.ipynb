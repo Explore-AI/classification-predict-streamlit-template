{
  "nbformat": 4,
  "nbformat_minor": 0,
  "metadata": {
    "colab": {
      "name": "Mikael_Daniels_Classification2.ipynb",
      "provenance": [],
      "collapsed_sections": [],
      "authorship_tag": "ABX9TyNyEQC2DiOF8kwqqCPk15TB",
      "include_colab_link": true
    },
    "kernelspec": {
      "name": "python3",
      "display_name": "Python 3"
    }
  },
  "cells": [
    {
      "cell_type": "markdown",
      "metadata": {
        "id": "view-in-github",
        "colab_type": "text"
      },
      "source": [
        "<a href=\"https://colab.research.google.com/github/Stephane-Masamba/Team_4_CPT_ML-Classification/blob/Mikael/Mikael_Daniels_Classification2.ipynb\" target=\"_parent\"><img src=\"https://colab.research.google.com/assets/colab-badge.svg\" alt=\"Open In Colab\"/></a>"
      ]
    },
    {
      "cell_type": "code",
      "metadata": {
        "id": "dRwkRxAFsuDE",
        "colab_type": "code",
        "colab": {}
      },
      "source": [
        "import numpy as np\n",
        "import pandas as pd\n",
        "import sklearn\n",
        "import matplotlib.pyplot as plt\n",
        "from numpy import arange\n",
        "import re\n",
        "from sklearn.svm import LinearSVC, SVC\n",
        "from sklearn.model_selection import train_test_split, cross_val_score, KFold, GridSearchCV\n",
        "from sklearn.metrics import accuracy_score, confusion_matrix, f1_score\n",
        "from sklearn.naive_bayes import MultinomialNB, BernoulliNB\n",
        "from sklearn.linear_model import SGDClassifier, LinearRegression\n",
        "from sklearn.ensemble import RandomForestClassifier, GradientBoostingClassifier, ExtraTreesClassifier, BaggingClassifier\n",
        "from sklearn.tree import DecisionTreeClassifier\n",
        "from sklearn.neighbors import KNeighborsClassifier\n",
        "from sklearn.gaussian_process import GaussianProcessClassifier\n",
        "from google.colab import drive"
      ],
      "execution_count": 122,
      "outputs": []
    },
    {
      "cell_type": "code",
      "metadata": {
        "id": "Brtlh1UttRzv",
        "colab_type": "code",
        "colab": {
          "base_uri": "https://localhost:8080/",
          "height": 119
        },
        "outputId": "1d7ad524-b064-4e1a-c183-64f8daac1c3b"
      },
      "source": [
        "train = pd.read_csv('train (1).csv')\n",
        "print(train.head())"
      ],
      "execution_count": 85,
      "outputs": [
        {
          "output_type": "stream",
          "text": [
            "   sentiment                                            message  tweetid\n",
            "0          1  PolySciMajor EPA chief doesn't think carbon di...   625221\n",
            "1          1  It's not like we lack evidence of anthropogeni...   126103\n",
            "2          2  RT @RawStory: Researchers say we have three ye...   698562\n",
            "3          1  #TodayinMaker# WIRED : 2016 was a pivotal year...   573736\n",
            "4          1  RT @SoyNovioDeTodas: It's 2016, and a racist, ...   466954\n"
          ],
          "name": "stdout"
        }
      ]
    },
    {
      "cell_type": "code",
      "metadata": {
        "id": "vl3SL2fotbpK",
        "colab_type": "code",
        "colab": {
          "base_uri": "https://localhost:8080/",
          "height": 119
        },
        "outputId": "734490ba-864f-4811-ed13-8a37495721df"
      },
      "source": [
        "test = pd.read_csv('test (1).csv')\n",
        "print(test.head())"
      ],
      "execution_count": 86,
      "outputs": [
        {
          "output_type": "stream",
          "text": [
            "                                             message  tweetid\n",
            "0  Europe will now be looking to China to make su...   169760\n",
            "1  Combine this with the polling of staffers re c...    35326\n",
            "2  The scary, unimpeachable evidence that climate...   224985\n",
            "3  @Karoli @morgfair @OsborneInk @dailykos \\nPuti...   476263\n",
            "4  RT @FakeWillMoore: 'Female orgasms cause globa...   872928\n"
          ],
          "name": "stdout"
        }
      ]
    },
    {
      "cell_type": "code",
      "metadata": {
        "id": "kHFkpesDthSE",
        "colab_type": "code",
        "colab": {
          "base_uri": "https://localhost:8080/",
          "height": 119
        },
        "outputId": "68a99478-375f-47e4-b133-2c2c27a15867"
      },
      "source": [
        "sample = pd.read_csv('sample_submission.csv')\n",
        "print(sample.head())"
      ],
      "execution_count": 87,
      "outputs": [
        {
          "output_type": "stream",
          "text": [
            "   tweetid  sentiment\n",
            "0   169760          1\n",
            "1    35326          1\n",
            "2   224985          1\n",
            "3   476263          1\n",
            "4   872928          1\n"
          ],
          "name": "stdout"
        }
      ]
    },
    {
      "cell_type": "code",
      "metadata": {
        "id": "oYbjPiXt8lfI",
        "colab_type": "code",
        "colab": {}
      },
      "source": [
        "i = 0\n",
        "for tweet in train['message']:\n",
        "  tweet = tweet.lower()\n",
        "  tweet = re.sub(r'http\\S+', 'LINK', tweet)\n",
        "  tweet = re.sub(r'[^\\w\\s]', '', tweet)\n",
        "  tweet = tweet.lstrip()\n",
        "  tweet = tweet.rstrip()\n",
        "  tweet = tweet.replace('  ', ' ')\n",
        "  train.loc[i, 'message'] = tweet\n",
        "  i += 1"
      ],
      "execution_count": 88,
      "outputs": []
    },
    {
      "cell_type": "code",
      "metadata": {
        "id": "Mqw1jzqUDL3p",
        "colab_type": "code",
        "colab": {
          "base_uri": "https://localhost:8080/",
          "height": 419
        },
        "outputId": "646705e3-3213-4e24-d0dc-b3c65a5b808a"
      },
      "source": [
        "train"
      ],
      "execution_count": 89,
      "outputs": [
        {
          "output_type": "execute_result",
          "data": {
            "text/html": [
              "<div>\n",
              "<style scoped>\n",
              "    .dataframe tbody tr th:only-of-type {\n",
              "        vertical-align: middle;\n",
              "    }\n",
              "\n",
              "    .dataframe tbody tr th {\n",
              "        vertical-align: top;\n",
              "    }\n",
              "\n",
              "    .dataframe thead th {\n",
              "        text-align: right;\n",
              "    }\n",
              "</style>\n",
              "<table border=\"1\" class=\"dataframe\">\n",
              "  <thead>\n",
              "    <tr style=\"text-align: right;\">\n",
              "      <th></th>\n",
              "      <th>sentiment</th>\n",
              "      <th>message</th>\n",
              "      <th>tweetid</th>\n",
              "    </tr>\n",
              "  </thead>\n",
              "  <tbody>\n",
              "    <tr>\n",
              "      <th>0</th>\n",
              "      <td>1</td>\n",
              "      <td>polyscimajor epa chief doesnt think carbon dio...</td>\n",
              "      <td>625221</td>\n",
              "    </tr>\n",
              "    <tr>\n",
              "      <th>1</th>\n",
              "      <td>1</td>\n",
              "      <td>its not like we lack evidence of anthropogenic...</td>\n",
              "      <td>126103</td>\n",
              "    </tr>\n",
              "    <tr>\n",
              "      <th>2</th>\n",
              "      <td>2</td>\n",
              "      <td>rt rawstory researchers say we have three year...</td>\n",
              "      <td>698562</td>\n",
              "    </tr>\n",
              "    <tr>\n",
              "      <th>3</th>\n",
              "      <td>1</td>\n",
              "      <td>todayinmaker wired 2016 was a pivotal year in ...</td>\n",
              "      <td>573736</td>\n",
              "    </tr>\n",
              "    <tr>\n",
              "      <th>4</th>\n",
              "      <td>1</td>\n",
              "      <td>rt soynoviodetodas its 2016 and a racist sexis...</td>\n",
              "      <td>466954</td>\n",
              "    </tr>\n",
              "    <tr>\n",
              "      <th>...</th>\n",
              "      <td>...</td>\n",
              "      <td>...</td>\n",
              "      <td>...</td>\n",
              "    </tr>\n",
              "    <tr>\n",
              "      <th>15814</th>\n",
              "      <td>1</td>\n",
              "      <td>rt ezlusztig they took down the material on gl...</td>\n",
              "      <td>22001</td>\n",
              "    </tr>\n",
              "    <tr>\n",
              "      <th>15815</th>\n",
              "      <td>2</td>\n",
              "      <td>rt washingtonpost how climate change could be ...</td>\n",
              "      <td>17856</td>\n",
              "    </tr>\n",
              "    <tr>\n",
              "      <th>15816</th>\n",
              "      <td>0</td>\n",
              "      <td>notiven rt nytimesworld what does trump actual...</td>\n",
              "      <td>384248</td>\n",
              "    </tr>\n",
              "    <tr>\n",
              "      <th>15817</th>\n",
              "      <td>-1</td>\n",
              "      <td>rt sara8smiles hey liberals the climate change...</td>\n",
              "      <td>819732</td>\n",
              "    </tr>\n",
              "    <tr>\n",
              "      <th>15818</th>\n",
              "      <td>0</td>\n",
              "      <td>rt chet_cannon kurteichenwalds climate change ...</td>\n",
              "      <td>806319</td>\n",
              "    </tr>\n",
              "  </tbody>\n",
              "</table>\n",
              "<p>15819 rows × 3 columns</p>\n",
              "</div>"
            ],
            "text/plain": [
              "       sentiment                                            message  tweetid\n",
              "0              1  polyscimajor epa chief doesnt think carbon dio...   625221\n",
              "1              1  its not like we lack evidence of anthropogenic...   126103\n",
              "2              2  rt rawstory researchers say we have three year...   698562\n",
              "3              1  todayinmaker wired 2016 was a pivotal year in ...   573736\n",
              "4              1  rt soynoviodetodas its 2016 and a racist sexis...   466954\n",
              "...          ...                                                ...      ...\n",
              "15814          1  rt ezlusztig they took down the material on gl...    22001\n",
              "15815          2  rt washingtonpost how climate change could be ...    17856\n",
              "15816          0  notiven rt nytimesworld what does trump actual...   384248\n",
              "15817         -1  rt sara8smiles hey liberals the climate change...   819732\n",
              "15818          0  rt chet_cannon kurteichenwalds climate change ...   806319\n",
              "\n",
              "[15819 rows x 3 columns]"
            ]
          },
          "metadata": {
            "tags": []
          },
          "execution_count": 89
        }
      ]
    },
    {
      "cell_type": "code",
      "metadata": {
        "id": "ctS_XmI2Db-a",
        "colab_type": "code",
        "colab": {}
      },
      "source": [
        "j = 0\n",
        "for message in test['message']:\n",
        "  message = message.lower()\n",
        "  message = re.sub(r'http\\S+', 'LINK', message)\n",
        "  message = re.sub(r'[^\\w\\s]', '', message)\n",
        "  message = message.lstrip()\n",
        "  message = message.rstrip()\n",
        "  message = message.replace('  ', ' ')\n",
        "  test.loc[j, 'message'] = message\n",
        "  j += 1"
      ],
      "execution_count": 90,
      "outputs": []
    },
    {
      "cell_type": "code",
      "metadata": {
        "id": "IoOaL19lEO4C",
        "colab_type": "code",
        "colab": {
          "base_uri": "https://localhost:8080/",
          "height": 419
        },
        "outputId": "2af1d9e3-8ed2-46a7-9418-74b50ed937df"
      },
      "source": [
        "test"
      ],
      "execution_count": 91,
      "outputs": [
        {
          "output_type": "execute_result",
          "data": {
            "text/html": [
              "<div>\n",
              "<style scoped>\n",
              "    .dataframe tbody tr th:only-of-type {\n",
              "        vertical-align: middle;\n",
              "    }\n",
              "\n",
              "    .dataframe tbody tr th {\n",
              "        vertical-align: top;\n",
              "    }\n",
              "\n",
              "    .dataframe thead th {\n",
              "        text-align: right;\n",
              "    }\n",
              "</style>\n",
              "<table border=\"1\" class=\"dataframe\">\n",
              "  <thead>\n",
              "    <tr style=\"text-align: right;\">\n",
              "      <th></th>\n",
              "      <th>message</th>\n",
              "      <th>tweetid</th>\n",
              "    </tr>\n",
              "  </thead>\n",
              "  <tbody>\n",
              "    <tr>\n",
              "      <th>0</th>\n",
              "      <td>europe will now be looking to china to make su...</td>\n",
              "      <td>169760</td>\n",
              "    </tr>\n",
              "    <tr>\n",
              "      <th>1</th>\n",
              "      <td>combine this with the polling of staffers re c...</td>\n",
              "      <td>35326</td>\n",
              "    </tr>\n",
              "    <tr>\n",
              "      <th>2</th>\n",
              "      <td>the scary unimpeachable evidence that climate ...</td>\n",
              "      <td>224985</td>\n",
              "    </tr>\n",
              "    <tr>\n",
              "      <th>3</th>\n",
              "      <td>karoli morgfair osborneink dailykos \\nputin go...</td>\n",
              "      <td>476263</td>\n",
              "    </tr>\n",
              "    <tr>\n",
              "      <th>4</th>\n",
              "      <td>rt fakewillmoore female orgasms cause global w...</td>\n",
              "      <td>872928</td>\n",
              "    </tr>\n",
              "    <tr>\n",
              "      <th>...</th>\n",
              "      <td>...</td>\n",
              "      <td>...</td>\n",
              "    </tr>\n",
              "    <tr>\n",
              "      <th>10541</th>\n",
              "      <td>rt brittanybohrer brb writing a poem about cli...</td>\n",
              "      <td>895714</td>\n",
              "    </tr>\n",
              "    <tr>\n",
              "      <th>10542</th>\n",
              "      <td>2016 the year climate change came home during ...</td>\n",
              "      <td>875167</td>\n",
              "    </tr>\n",
              "    <tr>\n",
              "      <th>10543</th>\n",
              "      <td>rt loop_vanuatu pacific countries positive abo...</td>\n",
              "      <td>78329</td>\n",
              "    </tr>\n",
              "    <tr>\n",
              "      <th>10544</th>\n",
              "      <td>rt xanria_00018 youre so hot you must be the c...</td>\n",
              "      <td>867455</td>\n",
              "    </tr>\n",
              "    <tr>\n",
              "      <th>10545</th>\n",
              "      <td>rt chloebalaoing climate change is a global is...</td>\n",
              "      <td>470892</td>\n",
              "    </tr>\n",
              "  </tbody>\n",
              "</table>\n",
              "<p>10546 rows × 2 columns</p>\n",
              "</div>"
            ],
            "text/plain": [
              "                                                 message  tweetid\n",
              "0      europe will now be looking to china to make su...   169760\n",
              "1      combine this with the polling of staffers re c...    35326\n",
              "2      the scary unimpeachable evidence that climate ...   224985\n",
              "3      karoli morgfair osborneink dailykos \\nputin go...   476263\n",
              "4      rt fakewillmoore female orgasms cause global w...   872928\n",
              "...                                                  ...      ...\n",
              "10541  rt brittanybohrer brb writing a poem about cli...   895714\n",
              "10542  2016 the year climate change came home during ...   875167\n",
              "10543  rt loop_vanuatu pacific countries positive abo...    78329\n",
              "10544  rt xanria_00018 youre so hot you must be the c...   867455\n",
              "10545  rt chloebalaoing climate change is a global is...   470892\n",
              "\n",
              "[10546 rows x 2 columns]"
            ]
          },
          "metadata": {
            "tags": []
          },
          "execution_count": 91
        }
      ]
    },
    {
      "cell_type": "code",
      "metadata": {
        "id": "847Mqda_QNG6",
        "colab_type": "code",
        "colab": {
          "base_uri": "https://localhost:8080/",
          "height": 85
        },
        "outputId": "40a9c95b-4431-48cf-8b7d-581d5acfc92a"
      },
      "source": [
        "train.isnull().sum()"
      ],
      "execution_count": null,
      "outputs": [
        {
          "output_type": "execute_result",
          "data": {
            "text/plain": [
              "sentiment    0\n",
              "message      0\n",
              "tweetid      0\n",
              "dtype: int64"
            ]
          },
          "metadata": {
            "tags": []
          },
          "execution_count": 9
        }
      ]
    },
    {
      "cell_type": "code",
      "metadata": {
        "id": "eQUETELX3Huo",
        "colab_type": "code",
        "colab": {
          "base_uri": "https://localhost:8080/",
          "height": 68
        },
        "outputId": "4f844c34-3cce-4076-c82a-7c81eb08c4a9"
      },
      "source": [
        "test.isnull().sum()"
      ],
      "execution_count": null,
      "outputs": [
        {
          "output_type": "execute_result",
          "data": {
            "text/plain": [
              "message    0\n",
              "tweetid    0\n",
              "dtype: int64"
            ]
          },
          "metadata": {
            "tags": []
          },
          "execution_count": 10
        }
      ]
    },
    {
      "cell_type": "code",
      "metadata": {
        "id": "f19MFMIY3KLi",
        "colab_type": "code",
        "colab": {
          "base_uri": "https://localhost:8080/",
          "height": 221
        },
        "outputId": "92969245-976d-4928-ccce-ff043dae4577"
      },
      "source": [
        "X_train = train['message']\n",
        "X_train"
      ],
      "execution_count": 92,
      "outputs": [
        {
          "output_type": "execute_result",
          "data": {
            "text/plain": [
              "0        polyscimajor epa chief doesnt think carbon dio...\n",
              "1        its not like we lack evidence of anthropogenic...\n",
              "2        rt rawstory researchers say we have three year...\n",
              "3        todayinmaker wired 2016 was a pivotal year in ...\n",
              "4        rt soynoviodetodas its 2016 and a racist sexis...\n",
              "                               ...                        \n",
              "15814    rt ezlusztig they took down the material on gl...\n",
              "15815    rt washingtonpost how climate change could be ...\n",
              "15816    notiven rt nytimesworld what does trump actual...\n",
              "15817    rt sara8smiles hey liberals the climate change...\n",
              "15818    rt chet_cannon kurteichenwalds climate change ...\n",
              "Name: message, Length: 15819, dtype: object"
            ]
          },
          "metadata": {
            "tags": []
          },
          "execution_count": 92
        }
      ]
    },
    {
      "cell_type": "code",
      "metadata": {
        "id": "K_6P14uc3W0H",
        "colab_type": "code",
        "colab": {
          "base_uri": "https://localhost:8080/",
          "height": 221
        },
        "outputId": "1cf3bc34-ae88-488a-f3a0-cd662d947d77"
      },
      "source": [
        "y_train = train['sentiment']\n",
        "y_train"
      ],
      "execution_count": 93,
      "outputs": [
        {
          "output_type": "execute_result",
          "data": {
            "text/plain": [
              "0        1\n",
              "1        1\n",
              "2        2\n",
              "3        1\n",
              "4        1\n",
              "        ..\n",
              "15814    1\n",
              "15815    2\n",
              "15816    0\n",
              "15817   -1\n",
              "15818    0\n",
              "Name: sentiment, Length: 15819, dtype: int64"
            ]
          },
          "metadata": {
            "tags": []
          },
          "execution_count": 93
        }
      ]
    },
    {
      "cell_type": "code",
      "metadata": {
        "id": "a0JhYhd74JSz",
        "colab_type": "code",
        "colab": {}
      },
      "source": [
        "from sklearn.feature_extraction.text import TfidfVectorizer"
      ],
      "execution_count": 94,
      "outputs": []
    },
    {
      "cell_type": "code",
      "metadata": {
        "id": "OWVjTnbK5Xj1",
        "colab_type": "code",
        "colab": {}
      },
      "source": [
        "tf_vect = TfidfVectorizer(ngram_range=(1, 2))"
      ],
      "execution_count": 95,
      "outputs": []
    },
    {
      "cell_type": "code",
      "metadata": {
        "id": "lD2xQ8Fb5sVw",
        "colab_type": "code",
        "colab": {}
      },
      "source": [
        "X_train = tf_vect.fit_transform(X_train)"
      ],
      "execution_count": 96,
      "outputs": []
    },
    {
      "cell_type": "code",
      "metadata": {
        "id": "LzMA90nOpCxS",
        "colab_type": "code",
        "colab": {}
      },
      "source": [
        "X_test = test['message']"
      ],
      "execution_count": 97,
      "outputs": []
    },
    {
      "cell_type": "code",
      "metadata": {
        "id": "w515iJq2M4cd",
        "colab_type": "code",
        "colab": {}
      },
      "source": [
        "X_test = tf_vect.transform(X_test)"
      ],
      "execution_count": 98,
      "outputs": []
    },
    {
      "cell_type": "code",
      "metadata": {
        "id": "0slY90EHJ3y5",
        "colab_type": "code",
        "colab": {}
      },
      "source": [
        "def accuracy(model):\n",
        "     features = train['message']\n",
        "     target = train['sentiment']\n",
        "\n",
        "     train_scores = []\n",
        "     test_scores = []\n",
        "\n",
        "     tf_vect = TfidfVectorizer(ngram_range=(1, 2))\n",
        "\n",
        "     folds = KFold(n_splits=5, shuffle=True)\n",
        "\n",
        "     for train_index, test_index in folds.split(features):\n",
        "          x_train, x_test = features.iloc[train_index], features.iloc[test_index]    \n",
        "          y_train, y_test = target.iloc[train_index], target.iloc[test_index]\n",
        "\n",
        "          x_train = tf_vect.fit_transform(x_train)\n",
        "          x_test = tf_vect.transform(x_test)\n",
        "     \n",
        "          model.fit(x_train, y_train)\n",
        "          train_predictions = model.predict(x_train)\n",
        "          test_predictions = model.predict(x_test)\n",
        "\n",
        "          train_score = accuracy_score(y_train, train_predictions)\n",
        "          train_scores.append(train_score)\n",
        "\n",
        "          test_score = accuracy_score(y_test, test_predictions)\n",
        "          test_scores.append(test_score)\n",
        "\n",
        "     avg_train_accuracy = np.mean(train_scores)\n",
        "     avg_test_accuracy = np.mean(test_scores)\n",
        "\n",
        "     return [avg_train_accuracy, avg_test_accuracy]"
      ],
      "execution_count": 99,
      "outputs": []
    },
    {
      "cell_type": "code",
      "metadata": {
        "id": "xhyINQ6vM96c",
        "colab_type": "code",
        "colab": {}
      },
      "source": [
        "sv = SVC()"
      ],
      "execution_count": 100,
      "outputs": []
    },
    {
      "cell_type": "code",
      "metadata": {
        "id": "z-SML2yyPHIy",
        "colab_type": "code",
        "colab": {
          "base_uri": "https://localhost:8080/",
          "height": 34
        },
        "outputId": "3b17f202-a26e-4cf7-9184-8bb0b84e2f7c"
      },
      "source": [
        "sv_accuracy = accuracy(sv)\n",
        "sv_accuracy"
      ],
      "execution_count": 101,
      "outputs": [
        {
          "output_type": "execute_result",
          "data": {
            "text/plain": [
              "[0.9809880640612662, 0.7307049189566627]"
            ]
          },
          "metadata": {
            "tags": []
          },
          "execution_count": 101
        }
      ]
    },
    {
      "cell_type": "code",
      "metadata": {
        "id": "Sf56Tvzwx2Ww",
        "colab_type": "code",
        "colab": {}
      },
      "source": [
        "bernoulli = BernoulliNB()"
      ],
      "execution_count": 102,
      "outputs": []
    },
    {
      "cell_type": "code",
      "metadata": {
        "id": "m3JkAXjNx23l",
        "colab_type": "code",
        "colab": {
          "base_uri": "https://localhost:8080/",
          "height": 34
        },
        "outputId": "90b3af9d-2707-4a5c-af0f-31721e2c69da"
      },
      "source": [
        "bernoulli_accuracy = accuracy(bernoulli)\n",
        "bernoulli_accuracy"
      ],
      "execution_count": 103,
      "outputs": [
        {
          "output_type": "execute_result",
          "data": {
            "text/plain": [
              "[0.7548676062838502, 0.63290955433259]"
            ]
          },
          "metadata": {
            "tags": []
          },
          "execution_count": 103
        }
      ]
    },
    {
      "cell_type": "code",
      "metadata": {
        "id": "F6dILUSX77jL",
        "colab_type": "code",
        "colab": {}
      },
      "source": [
        "mnb = MultinomialNB()"
      ],
      "execution_count": 104,
      "outputs": []
    },
    {
      "cell_type": "code",
      "metadata": {
        "id": "Ozs7fkKoIu0a",
        "colab_type": "code",
        "colab": {
          "base_uri": "https://localhost:8080/",
          "height": 34
        },
        "outputId": "cb1a0dd1-be63-4822-b50e-9001aabc997e"
      },
      "source": [
        "mnb_accuracy = accuracy(mnb)\n",
        "mnb_accuracy"
      ],
      "execution_count": 105,
      "outputs": [
        {
          "output_type": "execute_result",
          "data": {
            "text/plain": [
              "[0.7019723182224362, 0.6320253180241038]"
            ]
          },
          "metadata": {
            "tags": []
          },
          "execution_count": 105
        }
      ]
    },
    {
      "cell_type": "code",
      "metadata": {
        "id": "3NzmKTgzIxgh",
        "colab_type": "code",
        "colab": {}
      },
      "source": [
        "sgd = SGDClassifier()"
      ],
      "execution_count": 106,
      "outputs": []
    },
    {
      "cell_type": "code",
      "metadata": {
        "id": "UIL7DmjpJk6Q",
        "colab_type": "code",
        "colab": {
          "base_uri": "https://localhost:8080/",
          "height": 34
        },
        "outputId": "4a82f437-5bd3-4632-effd-4a64ac6ee70f"
      },
      "source": [
        "sgd_accuracy = accuracy(sgd)\n",
        "sgd_accuracy"
      ],
      "execution_count": 107,
      "outputs": [
        {
          "output_type": "execute_result",
          "data": {
            "text/plain": [
              "[0.9598426102922997, 0.7519442966698149]"
            ]
          },
          "metadata": {
            "tags": []
          },
          "execution_count": 107
        }
      ]
    },
    {
      "cell_type": "code",
      "metadata": {
        "id": "wB4Mq7uL2gHT",
        "colab_type": "code",
        "colab": {}
      },
      "source": [
        "rand_forest = RandomForestClassifier()"
      ],
      "execution_count": 108,
      "outputs": []
    },
    {
      "cell_type": "code",
      "metadata": {
        "id": "paEQ7xSL2kjn",
        "colab_type": "code",
        "colab": {
          "base_uri": "https://localhost:8080/",
          "height": 34
        },
        "outputId": "1021cf30-4557-4c5a-e3a8-8eadbcc85709"
      },
      "source": [
        "rand_forest_accuracy = accuracy(rand_forest)\n",
        "rand_forest_accuracy"
      ],
      "execution_count": 109,
      "outputs": [
        {
          "output_type": "execute_result",
          "data": {
            "text/plain": [
              "[0.9991307883383842, 0.7039618566924054]"
            ]
          },
          "metadata": {
            "tags": []
          },
          "execution_count": 109
        }
      ]
    },
    {
      "cell_type": "code",
      "metadata": {
        "id": "KjeH5s16eW2T",
        "colab_type": "code",
        "colab": {}
      },
      "source": [
        "knn = KNeighborsClassifier()"
      ],
      "execution_count": 110,
      "outputs": []
    },
    {
      "cell_type": "code",
      "metadata": {
        "id": "nJUlyxeZeZQ1",
        "colab_type": "code",
        "colab": {
          "base_uri": "https://localhost:8080/",
          "height": 34
        },
        "outputId": "1ef415eb-3fb6-44c1-c87b-4f50b44d8c83"
      },
      "source": [
        "knn_accuracy = accuracy(knn)\n",
        "knn_accuracy"
      ],
      "execution_count": 111,
      "outputs": [
        {
          "output_type": "execute_result",
          "data": {
            "text/plain": [
              "[0.7707661820230658, 0.6674897169508536]"
            ]
          },
          "metadata": {
            "tags": []
          },
          "execution_count": 111
        }
      ]
    },
    {
      "cell_type": "code",
      "metadata": {
        "id": "1QZK61TAey3v",
        "colab_type": "code",
        "colab": {}
      },
      "source": [
        "grad_booster = GradientBoostingClassifier()"
      ],
      "execution_count": 112,
      "outputs": []
    },
    {
      "cell_type": "code",
      "metadata": {
        "id": "EE3oe3a6e1T0",
        "colab_type": "code",
        "colab": {
          "base_uri": "https://localhost:8080/",
          "height": 34
        },
        "outputId": "d6e451c4-5854-4632-9f59-5612736536f6"
      },
      "source": [
        "grad_booster_accuracy = accuracy(grad_booster)\n",
        "grad_booster_accuracy"
      ],
      "execution_count": 113,
      "outputs": [
        {
          "output_type": "execute_result",
          "data": {
            "text/plain": [
              "[0.7303559328298753, 0.6809536066713218]"
            ]
          },
          "metadata": {
            "tags": []
          },
          "execution_count": 113
        }
      ]
    },
    {
      "cell_type": "code",
      "metadata": {
        "id": "niTuZBA6gUbx",
        "colab_type": "code",
        "colab": {}
      },
      "source": [
        "extra_trees = ExtraTreesClassifier()"
      ],
      "execution_count": 114,
      "outputs": []
    },
    {
      "cell_type": "code",
      "metadata": {
        "id": "KkbRsDhxgYmI",
        "colab_type": "code",
        "colab": {
          "base_uri": "https://localhost:8080/",
          "height": 34
        },
        "outputId": "205bfd7c-1ae4-4de3-aea4-14695e05db14"
      },
      "source": [
        "extra_trees_accuracy = accuracy(extra_trees)\n",
        "extra_trees_accuracy"
      ],
      "execution_count": 115,
      "outputs": [
        {
          "output_type": "execute_result",
          "data": {
            "text/plain": [
              "[0.9992256137672882, 0.7231805168243914]"
            ]
          },
          "metadata": {
            "tags": []
          },
          "execution_count": 115
        }
      ]
    },
    {
      "cell_type": "code",
      "metadata": {
        "id": "sHxGsMrohMpW",
        "colab_type": "code",
        "colab": {}
      },
      "source": [
        "bagging = BaggingClassifier()"
      ],
      "execution_count": 116,
      "outputs": []
    },
    {
      "cell_type": "code",
      "metadata": {
        "id": "30Ugp23mhUjy",
        "colab_type": "code",
        "colab": {
          "base_uri": "https://localhost:8080/",
          "height": 34
        },
        "outputId": "4c43f4ae-bbe7-44f1-d10d-bf204c156e6b"
      },
      "source": [
        "bagging_accuracy = accuracy(bagging)\n",
        "bagging_accuracy"
      ],
      "execution_count": 117,
      "outputs": [
        {
          "output_type": "execute_result",
          "data": {
            "text/plain": [
              "[0.9790442058300087, 0.6376516877150588]"
            ]
          },
          "metadata": {
            "tags": []
          },
          "execution_count": 117
        }
      ]
    },
    {
      "cell_type": "code",
      "metadata": {
        "id": "NzovMnjCxNlC",
        "colab_type": "code",
        "colab": {}
      },
      "source": [
        "dec_tree = DecisionTreeClassifier()"
      ],
      "execution_count": 118,
      "outputs": []
    },
    {
      "cell_type": "code",
      "metadata": {
        "id": "E-YLwX1ExR3w",
        "colab_type": "code",
        "colab": {
          "base_uri": "https://localhost:8080/",
          "height": 34
        },
        "outputId": "ed6590e9-765a-48f3-bd86-f1f587d7e8b3"
      },
      "source": [
        "dec_tree_accuracy = accuracy(dec_tree)\n",
        "dec_tree_accuracy"
      ],
      "execution_count": 119,
      "outputs": [
        {
          "output_type": "execute_result",
          "data": {
            "text/plain": [
              "[0.9992256175135026, 0.5710223655069899]"
            ]
          },
          "metadata": {
            "tags": []
          },
          "execution_count": 119
        }
      ]
    },
    {
      "cell_type": "code",
      "metadata": {
        "id": "OqtzXN2aws54",
        "colab_type": "code",
        "colab": {}
      },
      "source": [
        "linear_sv = LinearSVC()"
      ],
      "execution_count": 120,
      "outputs": []
    },
    {
      "cell_type": "code",
      "metadata": {
        "id": "HWyeNUfvw7r6",
        "colab_type": "code",
        "colab": {
          "base_uri": "https://localhost:8080/",
          "height": 34
        },
        "outputId": "0c307b7c-9011-4703-9ae0-6587ee4edb05"
      },
      "source": [
        "linear_sv_accuracy = accuracy(linear_sv)\n",
        "linear_sv_accuracy"
      ],
      "execution_count": 121,
      "outputs": [
        {
          "output_type": "execute_result",
          "data": {
            "text/plain": [
              "[0.9977874695120581, 0.7613000028378057]"
            ]
          },
          "metadata": {
            "tags": []
          },
          "execution_count": 121
        }
      ]
    },
    {
      "cell_type": "code",
      "metadata": {
        "id": "gu6XGDG5zZ-V",
        "colab_type": "code",
        "colab": {
          "base_uri": "https://localhost:8080/",
          "height": 295
        },
        "outputId": "c8de6900-01dd-421d-f11c-1e17213def10"
      },
      "source": [
        "cols = ['SVC', 'Bernoulli', 'Multinomial Naive Bayes', 'SGDClassifier', 'Random Forest', 'KNearestNeighbours', 'Gradient Booster', 'Extra Trees', 'Bagging', 'Decision Tree', 'Linear SV']\n",
        "bar_widths = [sv_accuracy[1], bernoulli_accuracy[1], mnb_accuracy[1], sgd_accuracy[1], rand_forest_accuracy[1], knn_accuracy[1], grad_booster_accuracy[1], extra_trees_accuracy[1], bagging_accuracy[1], dec_tree_accuracy[1], linear_sv_accuracy[1]]\n",
        "bar_positions = arange(11) + 0.75\n",
        "tick_positions = range(1,12)\n",
        "\n",
        "fig, ax = plt.subplots()\n",
        "ax.barh(bar_positions, bar_widths, 0.5)\n",
        "ax.set_yticks(tick_positions)\n",
        "ax.set_yticklabels(cols)\n",
        "\n",
        "ax.set_ylabel('Model')\n",
        "ax.set_xlabel('Accuracy')\n",
        "ax.set_title('Accuracy For Each Model Trained')\n",
        "\n",
        "plt.show()"
      ],
      "execution_count": 126,
      "outputs": [
        {
          "output_type": "display_data",
          "data": {
            "image/png": "[encoded data removed]",
            "text/plain": [
              "<Figure size 432x288 with 1 Axes>"
            ]
          },
          "metadata": {
            "tags": [],
            "needs_background": "light"
          }
        }
      ]
    },
    {
      "cell_type": "code",
      "metadata": {
        "id": "3J6TLvoYJmjG",
        "colab_type": "code",
        "colab": {}
      },
      "source": [
        "tuned_parameters = [{'kernel': ['rbf'], 'gamma': [1e-3, 1e-4], 'C': [1, 10, 100, 1000]}, {'kernel': ['linear'], 'C': [1, 10, 100, 1000]}]"
      ],
      "execution_count": null,
      "outputs": []
    },
    {
      "cell_type": "code",
      "metadata": {
        "id": "08yIdii2KUFv",
        "colab_type": "code",
        "colab": {}
      },
      "source": [
        "gs_clf = GridSearchCV(SVC(), tuned_parameters)"
      ],
      "execution_count": null,
      "outputs": []
    },
    {
      "cell_type": "code",
      "metadata": {
        "id": "-vw2R1K3yiNS",
        "colab_type": "code",
        "colab": {}
      },
      "source": [
        "accuracy(gs_clf)"
      ],
      "execution_count": null,
      "outputs": []
    },
    {
      "cell_type": "code",
      "metadata": {
        "id": "Plvjt4JCy7Pc",
        "colab_type": "code",
        "colab": {}
      },
      "source": [
        "linear_svc = LinearSVC()"
      ],
      "execution_count": null,
      "outputs": []
    },
    {
      "cell_type": "code",
      "metadata": {
        "id": "EktlZbOIzGsc",
        "colab_type": "code",
        "colab": {
          "base_uri": "https://localhost:8080/",
          "height": 85
        },
        "outputId": "8cf612de-af00-4ce7-f5f2-62c0b5778924"
      },
      "source": [
        "linear_svc.fit(X_train, y_train)"
      ],
      "execution_count": null,
      "outputs": [
        {
          "output_type": "execute_result",
          "data": {
            "text/plain": [
              "LinearSVC(C=1.0, class_weight=None, dual=True, fit_intercept=True,\n",
              "          intercept_scaling=1, loss='squared_hinge', max_iter=1000,\n",
              "          multi_class='ovr', penalty='l2', random_state=None, tol=0.0001,\n",
              "          verbose=0)"
            ]
          },
          "metadata": {
            "tags": []
          },
          "execution_count": 41
        }
      ]
    },
    {
      "cell_type": "code",
      "metadata": {
        "id": "t3RH4iXJzVe8",
        "colab_type": "code",
        "colab": {}
      },
      "source": [
        "predictions = linear_svc.predict(X_test)"
      ],
      "execution_count": null,
      "outputs": []
    },
    {
      "cell_type": "code",
      "metadata": {
        "id": "qbBPRMzBzmqK",
        "colab_type": "code",
        "colab": {
          "base_uri": "https://localhost:8080/",
          "height": 419
        },
        "outputId": "b6edf207-09fe-44f0-a014-4439e5906df4"
      },
      "source": [
        "test['sentiment'] = predictions\n",
        "test"
      ],
      "execution_count": null,
      "outputs": [
        {
          "output_type": "execute_result",
          "data": {
            "text/html": [
              "<div>\n",
              "<style scoped>\n",
              "    .dataframe tbody tr th:only-of-type {\n",
              "        vertical-align: middle;\n",
              "    }\n",
              "\n",
              "    .dataframe tbody tr th {\n",
              "        vertical-align: top;\n",
              "    }\n",
              "\n",
              "    .dataframe thead th {\n",
              "        text-align: right;\n",
              "    }\n",
              "</style>\n",
              "<table border=\"1\" class=\"dataframe\">\n",
              "  <thead>\n",
              "    <tr style=\"text-align: right;\">\n",
              "      <th></th>\n",
              "      <th>message</th>\n",
              "      <th>tweetid</th>\n",
              "      <th>sentiment</th>\n",
              "    </tr>\n",
              "  </thead>\n",
              "  <tbody>\n",
              "    <tr>\n",
              "      <th>0</th>\n",
              "      <td>europe will now be looking to china to make su...</td>\n",
              "      <td>169760</td>\n",
              "      <td>1</td>\n",
              "    </tr>\n",
              "    <tr>\n",
              "      <th>1</th>\n",
              "      <td>combine this with the polling of staffers re c...</td>\n",
              "      <td>35326</td>\n",
              "      <td>1</td>\n",
              "    </tr>\n",
              "    <tr>\n",
              "      <th>2</th>\n",
              "      <td>the scary unimpeachable evidence that climate ...</td>\n",
              "      <td>224985</td>\n",
              "      <td>1</td>\n",
              "    </tr>\n",
              "    <tr>\n",
              "      <th>3</th>\n",
              "      <td>karoli morgfair osborneink dailykos \\nputin go...</td>\n",
              "      <td>476263</td>\n",
              "      <td>1</td>\n",
              "    </tr>\n",
              "    <tr>\n",
              "      <th>4</th>\n",
              "      <td>rt fakewillmoore female orgasms cause global w...</td>\n",
              "      <td>872928</td>\n",
              "      <td>0</td>\n",
              "    </tr>\n",
              "    <tr>\n",
              "      <th>...</th>\n",
              "      <td>...</td>\n",
              "      <td>...</td>\n",
              "      <td>...</td>\n",
              "    </tr>\n",
              "    <tr>\n",
              "      <th>10541</th>\n",
              "      <td>rt brittanybohrer brb writing a poem about cli...</td>\n",
              "      <td>895714</td>\n",
              "      <td>1</td>\n",
              "    </tr>\n",
              "    <tr>\n",
              "      <th>10542</th>\n",
              "      <td>2016 the year climate change came home during ...</td>\n",
              "      <td>875167</td>\n",
              "      <td>1</td>\n",
              "    </tr>\n",
              "    <tr>\n",
              "      <th>10543</th>\n",
              "      <td>rt loop_vanuatu pacific countries positive abo...</td>\n",
              "      <td>78329</td>\n",
              "      <td>2</td>\n",
              "    </tr>\n",
              "    <tr>\n",
              "      <th>10544</th>\n",
              "      <td>rt xanria_00018 youre so hot you must be the c...</td>\n",
              "      <td>867455</td>\n",
              "      <td>0</td>\n",
              "    </tr>\n",
              "    <tr>\n",
              "      <th>10545</th>\n",
              "      <td>rt chloebalaoing climate change is a global is...</td>\n",
              "      <td>470892</td>\n",
              "      <td>1</td>\n",
              "    </tr>\n",
              "  </tbody>\n",
              "</table>\n",
              "<p>10546 rows × 3 columns</p>\n",
              "</div>"
            ],
            "text/plain": [
              "                                                 message  tweetid  sentiment\n",
              "0      europe will now be looking to china to make su...   169760          1\n",
              "1      combine this with the polling of staffers re c...    35326          1\n",
              "2      the scary unimpeachable evidence that climate ...   224985          1\n",
              "3      karoli morgfair osborneink dailykos \\nputin go...   476263          1\n",
              "4      rt fakewillmoore female orgasms cause global w...   872928          0\n",
              "...                                                  ...      ...        ...\n",
              "10541  rt brittanybohrer brb writing a poem about cli...   895714          1\n",
              "10542  2016 the year climate change came home during ...   875167          1\n",
              "10543  rt loop_vanuatu pacific countries positive abo...    78329          2\n",
              "10544  rt xanria_00018 youre so hot you must be the c...   867455          0\n",
              "10545  rt chloebalaoing climate change is a global is...   470892          1\n",
              "\n",
              "[10546 rows x 3 columns]"
            ]
          },
          "metadata": {
            "tags": []
          },
          "execution_count": 43
        }
      ]
    },
    {
      "cell_type": "code",
      "metadata": {
        "id": "SFOoa_HLzswW",
        "colab_type": "code",
        "colab": {
          "base_uri": "https://localhost:8080/",
          "height": 419
        },
        "outputId": "98d57ec8-1a05-476d-e566-24b790cb75dd"
      },
      "source": [
        "submission = test[['tweetid', 'sentiment']]\n",
        "submission"
      ],
      "execution_count": null,
      "outputs": [
        {
          "output_type": "execute_result",
          "data": {
            "text/html": [
              "<div>\n",
              "<style scoped>\n",
              "    .dataframe tbody tr th:only-of-type {\n",
              "        vertical-align: middle;\n",
              "    }\n",
              "\n",
              "    .dataframe tbody tr th {\n",
              "        vertical-align: top;\n",
              "    }\n",
              "\n",
              "    .dataframe thead th {\n",
              "        text-align: right;\n",
              "    }\n",
              "</style>\n",
              "<table border=\"1\" class=\"dataframe\">\n",
              "  <thead>\n",
              "    <tr style=\"text-align: right;\">\n",
              "      <th></th>\n",
              "      <th>tweetid</th>\n",
              "      <th>sentiment</th>\n",
              "    </tr>\n",
              "  </thead>\n",
              "  <tbody>\n",
              "    <tr>\n",
              "      <th>0</th>\n",
              "      <td>169760</td>\n",
              "      <td>1</td>\n",
              "    </tr>\n",
              "    <tr>\n",
              "      <th>1</th>\n",
              "      <td>35326</td>\n",
              "      <td>1</td>\n",
              "    </tr>\n",
              "    <tr>\n",
              "      <th>2</th>\n",
              "      <td>224985</td>\n",
              "      <td>1</td>\n",
              "    </tr>\n",
              "    <tr>\n",
              "      <th>3</th>\n",
              "      <td>476263</td>\n",
              "      <td>1</td>\n",
              "    </tr>\n",
              "    <tr>\n",
              "      <th>4</th>\n",
              "      <td>872928</td>\n",
              "      <td>0</td>\n",
              "    </tr>\n",
              "    <tr>\n",
              "      <th>...</th>\n",
              "      <td>...</td>\n",
              "      <td>...</td>\n",
              "    </tr>\n",
              "    <tr>\n",
              "      <th>10541</th>\n",
              "      <td>895714</td>\n",
              "      <td>1</td>\n",
              "    </tr>\n",
              "    <tr>\n",
              "      <th>10542</th>\n",
              "      <td>875167</td>\n",
              "      <td>1</td>\n",
              "    </tr>\n",
              "    <tr>\n",
              "      <th>10543</th>\n",
              "      <td>78329</td>\n",
              "      <td>2</td>\n",
              "    </tr>\n",
              "    <tr>\n",
              "      <th>10544</th>\n",
              "      <td>867455</td>\n",
              "      <td>0</td>\n",
              "    </tr>\n",
              "    <tr>\n",
              "      <th>10545</th>\n",
              "      <td>470892</td>\n",
              "      <td>1</td>\n",
              "    </tr>\n",
              "  </tbody>\n",
              "</table>\n",
              "<p>10546 rows × 2 columns</p>\n",
              "</div>"
            ],
            "text/plain": [
              "       tweetid  sentiment\n",
              "0       169760          1\n",
              "1        35326          1\n",
              "2       224985          1\n",
              "3       476263          1\n",
              "4       872928          0\n",
              "...        ...        ...\n",
              "10541   895714          1\n",
              "10542   875167          1\n",
              "10543    78329          2\n",
              "10544   867455          0\n",
              "10545   470892          1\n",
              "\n",
              "[10546 rows x 2 columns]"
            ]
          },
          "metadata": {
            "tags": []
          },
          "execution_count": 44
        }
      ]
    }
  ]
}