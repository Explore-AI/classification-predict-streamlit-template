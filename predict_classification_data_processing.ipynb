{
 "cells": [
  {
   "cell_type": "code",
   "execution_count": 1,
   "id": "b4926b04",
   "metadata": {},
   "outputs": [],
   "source": [
    "#importing comet for commiting notebook work and model\n",
    "from comet_ml import Experiment"
   ]
  },
  {
   "cell_type": "code",
   "execution_count": 2,
   "id": "2e55c0a6",
   "metadata": {},
   "outputs": [
    {
     "name": "stderr",
     "output_type": "stream",
     "text": [
      "COMET WARNING: As you are running in a Jupyter environment, you will need to call `experiment.end()` when finished to ensure all metrics and code are logged before exiting.\n",
      "COMET INFO: Experiment is live on comet.ml https://www.comet.ml/adegbem/2201ac-zf1/13c25769e0284374b11e2c6f6b4e6bd1\n",
      "\n"
     ]
    }
   ],
   "source": [
    "# Setting the API key (saved as environment variable)\n",
    "experiment = Experiment(api_key='f33Dock0REbyUn9mCQymBC3Vf', project_name=\"2201AC_ZF1\", workspace=\"adegbem\") "
   ]
  },
  {
   "cell_type": "markdown",
   "id": "c7c68ac2",
   "metadata": {},
   "source": [
    "Importing Libraries to be used in the notebook"
   ]
  },
  {
   "cell_type": "code",
   "execution_count": 3,
   "id": "a238770b",
   "metadata": {},
   "outputs": [],
   "source": [
    "# importing basic and fundamental libaries\n",
    "import numpy as np\n",
    "import pandas as pd\n",
    "import matplotlib.pyplot as plt\n",
    "import seaborn as sns\n",
    "%matplotlib inline\n",
    "import re\n",
    "\n",
    "# libraries for NLP\n",
    "from nltk.corpus import stopwords\n",
    "from nltk import SnowballStemmer, PorterStemmer, LancasterStemmer\n",
    "from nltk.stem import WordNetLemmatizer\n",
    "\n",
    "# importing libraries for utility from sklearn\n",
    "from sklearn.model_selection import train_test_split\n",
    "from sklearn.feature_extraction.text import CountVectorizer\n",
    "from sklearn.preprocessing import MinMaxScaler\n",
    "from sklearn.utils import resample\n",
    "\n",
    "# importing libraries for modelling form sklearn\n",
    "from sklearn.ensemble import RandomForestClassifier\n",
    "from sklearn.linear_model import LogisticRegression\n",
    "from sklearn.naive_bayes import GaussianNB\n",
    "from sklearn.neighbors import KNeighborsClassifier\n",
    "\n",
    "# libraries to check model metrics from sklearn\n",
    "from sklearn.metrics import confusion_matrix, f1_score, classification_report\n",
    "\n",
    "# Other modelling libraries\n",
    "from xgboost import XGBClassifier\n",
    "\n",
    "# Suppressing unnwarranted warnings\n",
    "import warnings\n",
    "warnings.filterwarnings(\"ignore\")"
   ]
  },
  {
   "cell_type": "markdown",
   "id": "c13bb1e9",
   "metadata": {},
   "source": [
    "# Loading Dataset"
   ]
  },
  {
   "cell_type": "code",
   "execution_count": 4,
   "id": "c2999a83",
   "metadata": {},
   "outputs": [
    {
     "data": {
      "text/html": [
       "<div>\n",
       "<style scoped>\n",
       "    .dataframe tbody tr th:only-of-type {\n",
       "        vertical-align: middle;\n",
       "    }\n",
       "\n",
       "    .dataframe tbody tr th {\n",
       "        vertical-align: top;\n",
       "    }\n",
       "\n",
       "    .dataframe thead th {\n",
       "        text-align: right;\n",
       "    }\n",
       "</style>\n",
       "<table border=\"1\" class=\"dataframe\">\n",
       "  <thead>\n",
       "    <tr style=\"text-align: right;\">\n",
       "      <th></th>\n",
       "      <th>sentiment</th>\n",
       "      <th>message</th>\n",
       "      <th>tweetid</th>\n",
       "    </tr>\n",
       "  </thead>\n",
       "  <tbody>\n",
       "    <tr>\n",
       "      <th>0</th>\n",
       "      <td>1</td>\n",
       "      <td>PolySciMajor EPA chief doesn't think carbon di...</td>\n",
       "      <td>625221</td>\n",
       "    </tr>\n",
       "    <tr>\n",
       "      <th>1</th>\n",
       "      <td>1</td>\n",
       "      <td>It's not like we lack evidence of anthropogeni...</td>\n",
       "      <td>126103</td>\n",
       "    </tr>\n",
       "    <tr>\n",
       "      <th>2</th>\n",
       "      <td>2</td>\n",
       "      <td>RT @RawStory: Researchers say we have three ye...</td>\n",
       "      <td>698562</td>\n",
       "    </tr>\n",
       "    <tr>\n",
       "      <th>3</th>\n",
       "      <td>1</td>\n",
       "      <td>#TodayinMaker# WIRED : 2016 was a pivotal year...</td>\n",
       "      <td>573736</td>\n",
       "    </tr>\n",
       "    <tr>\n",
       "      <th>4</th>\n",
       "      <td>1</td>\n",
       "      <td>RT @SoyNovioDeTodas: It's 2016, and a racist, ...</td>\n",
       "      <td>466954</td>\n",
       "    </tr>\n",
       "  </tbody>\n",
       "</table>\n",
       "</div>"
      ],
      "text/plain": [
       "   sentiment                                            message  tweetid\n",
       "0          1  PolySciMajor EPA chief doesn't think carbon di...   625221\n",
       "1          1  It's not like we lack evidence of anthropogeni...   126103\n",
       "2          2  RT @RawStory: Researchers say we have three ye...   698562\n",
       "3          1  #TodayinMaker# WIRED : 2016 was a pivotal year...   573736\n",
       "4          1  RT @SoyNovioDeTodas: It's 2016, and a racist, ...   466954"
      ]
     },
     "metadata": {},
     "output_type": "display_data"
    },
    {
     "data": {
      "text/html": [
       "<div>\n",
       "<style scoped>\n",
       "    .dataframe tbody tr th:only-of-type {\n",
       "        vertical-align: middle;\n",
       "    }\n",
       "\n",
       "    .dataframe tbody tr th {\n",
       "        vertical-align: top;\n",
       "    }\n",
       "\n",
       "    .dataframe thead th {\n",
       "        text-align: right;\n",
       "    }\n",
       "</style>\n",
       "<table border=\"1\" class=\"dataframe\">\n",
       "  <thead>\n",
       "    <tr style=\"text-align: right;\">\n",
       "      <th></th>\n",
       "      <th>message</th>\n",
       "      <th>tweetid</th>\n",
       "    </tr>\n",
       "  </thead>\n",
       "  <tbody>\n",
       "    <tr>\n",
       "      <th>0</th>\n",
       "      <td>Europe will now be looking to China to make su...</td>\n",
       "      <td>169760</td>\n",
       "    </tr>\n",
       "    <tr>\n",
       "      <th>1</th>\n",
       "      <td>Combine this with the polling of staffers re c...</td>\n",
       "      <td>35326</td>\n",
       "    </tr>\n",
       "    <tr>\n",
       "      <th>2</th>\n",
       "      <td>The scary, unimpeachable evidence that climate...</td>\n",
       "      <td>224985</td>\n",
       "    </tr>\n",
       "    <tr>\n",
       "      <th>3</th>\n",
       "      <td>@Karoli @morgfair @OsborneInk @dailykos \\nPuti...</td>\n",
       "      <td>476263</td>\n",
       "    </tr>\n",
       "    <tr>\n",
       "      <th>4</th>\n",
       "      <td>RT @FakeWillMoore: 'Female orgasms cause globa...</td>\n",
       "      <td>872928</td>\n",
       "    </tr>\n",
       "  </tbody>\n",
       "</table>\n",
       "</div>"
      ],
      "text/plain": [
       "                                             message  tweetid\n",
       "0  Europe will now be looking to China to make su...   169760\n",
       "1  Combine this with the polling of staffers re c...    35326\n",
       "2  The scary, unimpeachable evidence that climate...   224985\n",
       "3  @Karoli @morgfair @OsborneInk @dailykos \\nPuti...   476263\n",
       "4  RT @FakeWillMoore: 'Female orgasms cause globa...   872928"
      ]
     },
     "metadata": {},
     "output_type": "display_data"
    }
   ],
   "source": [
    "# Importing train and test data\n",
    "train_df = pd.read_csv('train.csv')\n",
    "test_df = pd.read_csv('test_with_no_labels.csv')\n",
    "\n",
    "# displaying a few rows of both dataset\n",
    "display(train_df.head())\n",
    "display(test_df.head())\n"
   ]
  },
  {
   "cell_type": "markdown",
   "id": "f8d885e0",
   "metadata": {},
   "source": [
    "# Exploratory Data Analysis "
   ]
  },
  {
   "cell_type": "code",
   "execution_count": 5,
   "id": "95d952d1",
   "metadata": {
    "scrolled": true
   },
   "outputs": [
    {
     "name": "stdout",
     "output_type": "stream",
     "text": [
      "<class 'pandas.core.frame.DataFrame'>\n",
      "RangeIndex: 15819 entries, 0 to 15818\n",
      "Data columns (total 3 columns):\n",
      " #   Column     Non-Null Count  Dtype \n",
      "---  ------     --------------  ----- \n",
      " 0   sentiment  15819 non-null  int64 \n",
      " 1   message    15819 non-null  object\n",
      " 2   tweetid    15819 non-null  int64 \n",
      "dtypes: int64(2), object(1)\n",
      "memory usage: 370.9+ KB\n"
     ]
    }
   ],
   "source": [
    "# getting an overview of the dataset; datatype, rows, null values and features in the dataset\n",
    "train_df.info()"
   ]
  },
  {
   "cell_type": "markdown",
   "id": "cffb0722",
   "metadata": {},
   "source": [
    "The dataset contains three features\n",
    "- the dataset consist of `15819` rows\n",
    "- there seems to be no null values\n"
   ]
  },
  {
   "cell_type": "code",
   "execution_count": 6,
   "id": "6b31a4b9",
   "metadata": {
    "scrolled": false
   },
   "outputs": [
    {
     "data": {
      "image/png": "[encoded data removed]",
      "text/plain": [
       "<Figure size 432x288 with 1 Axes>"
      ]
     },
     "metadata": {
      "needs_background": "light"
     },
     "output_type": "display_data"
    }
   ],
   "source": [
    "# plotting the distribution of the sentiment categories\n",
    "train_df.sentiment.value_counts().plot(kind='bar')\n",
    "plt.ylabel('Frequency')\n",
    "plt.xlabel('sentiment');"
   ]
  },
  {
   "cell_type": "markdown",
   "id": "9f325cb6",
   "metadata": {},
   "source": [
    "Most tweets support the man-made climate change which is represented by `1` while we have a fewer anti-climate change tweets"
   ]
  },
  {
   "cell_type": "markdown",
   "id": "d0c5e004",
   "metadata": {},
   "source": [
    "### Dealing with data imbalance "
   ]
  },
  {
   "cell_type": "code",
   "execution_count": 7,
   "id": "8797b873",
   "metadata": {
    "scrolled": false
   },
   "outputs": [
    {
     "name": "stdout",
     "output_type": "stream",
     "text": [
      "dual-sampling:\n"
     ]
    },
    {
     "data": {
      "text/html": [
       "<div>\n",
       "<style scoped>\n",
       "    .dataframe tbody tr th:only-of-type {\n",
       "        vertical-align: middle;\n",
       "    }\n",
       "\n",
       "    .dataframe tbody tr th {\n",
       "        vertical-align: top;\n",
       "    }\n",
       "\n",
       "    .dataframe thead th {\n",
       "        text-align: right;\n",
       "    }\n",
       "</style>\n",
       "<table border=\"1\" class=\"dataframe\">\n",
       "  <thead>\n",
       "    <tr style=\"text-align: right;\">\n",
       "      <th></th>\n",
       "      <th>sentiment</th>\n",
       "      <th>message</th>\n",
       "      <th>tweetid</th>\n",
       "    </tr>\n",
       "  </thead>\n",
       "  <tbody>\n",
       "    <tr>\n",
       "      <th>14203</th>\n",
       "      <td>1</td>\n",
       "      <td>RT @ChubbahBubbah: Trump Presidency promises 4...</td>\n",
       "      <td>55877</td>\n",
       "    </tr>\n",
       "    <tr>\n",
       "      <th>8855</th>\n",
       "      <td>-1</td>\n",
       "      <td>RT @JaredWyand: Steve Bannon means bye bye to ...</td>\n",
       "      <td>578512</td>\n",
       "    </tr>\n",
       "    <tr>\n",
       "      <th>309</th>\n",
       "      <td>0</td>\n",
       "      <td>@GeSemdicapt fuck global warming</td>\n",
       "      <td>101705</td>\n",
       "    </tr>\n",
       "    <tr>\n",
       "      <th>11331</th>\n",
       "      <td>-1</td>\n",
       "      <td>@Taniel @LVBurke The Russians did it - oh wait...</td>\n",
       "      <td>659577</td>\n",
       "    </tr>\n",
       "    <tr>\n",
       "      <th>1124</th>\n",
       "      <td>2</td>\n",
       "      <td>RT @ecojustice_ca: How cities are ahead of the...</td>\n",
       "      <td>787430</td>\n",
       "    </tr>\n",
       "  </tbody>\n",
       "</table>\n",
       "</div>"
      ],
      "text/plain": [
       "       sentiment                                            message  tweetid\n",
       "14203          1  RT @ChubbahBubbah: Trump Presidency promises 4...    55877\n",
       "8855          -1  RT @JaredWyand: Steve Bannon means bye bye to ...   578512\n",
       "309            0                   @GeSemdicapt fuck global warming   101705\n",
       "11331         -1  @Taniel @LVBurke The Russians did it - oh wait...   659577\n",
       "1124           2  RT @ecojustice_ca: How cities are ahead of the...   787430"
      ]
     },
     "metadata": {},
     "output_type": "display_data"
    },
    {
     "name": "stdout",
     "output_type": "stream",
     "text": [
      "Class with there new resampled sizes\n",
      " 1    4000\n",
      " 2    4000\n",
      " 0    4000\n",
      "-1    4000\n",
      "Name: sentiment, dtype: int64\n"
     ]
    },
    {
     "data": {
      "image/png": "[encoded data removed]",
      "text/plain": [
       "<Figure size 432x288 with 1 Axes>"
      ]
     },
     "metadata": {
      "needs_background": "light"
     },
     "output_type": "display_data"
    }
   ],
   "source": [
    "class_size = 4000 # setting an average or fixed size for each category in 'sentiment'\n",
    "dd = train_df.sentiment.value_counts() # getting category name and their size\n",
    "appended_data = [] # creating an empty list to append all category after resampling\n",
    "\n",
    "# Creating a for-loop to resample and append to a list\n",
    "for index, size in dd.items():\n",
    "    if size < class_size: # setting condition to check if to downsampling or otherwise\n",
    "        temp_pd = resample(train_df[train_df['sentiment']==index],\n",
    "                          replace=True, # sample with replacement\n",
    "                          n_samples=class_size, # match number in majority class\n",
    "                          random_state=27)\n",
    "    else:\n",
    "        temp_pd = resample(train_df[train_df['sentiment']==index],\n",
    "                          replace=False, # sample with replacement (no need to duplicate observations)\n",
    "                          n_samples=class_size, # match number in minority class\n",
    "                          random_state=27)\n",
    "# Appending each category after resampling\n",
    "    appended_data.append(temp_pd)\n",
    "\n",
    "# Creating a new dataframe and viewing\n",
    "df_train_sampled = pd.concat(appended_data, axis=0)\n",
    "print('dual-sampling:')\n",
    "display(df_train_sampled.sample(5))\n",
    "print('Class with there new resampled sizes')\n",
    "print(df_train_sampled.sentiment.value_counts())\n",
    "\n",
    "# ploting the old and new graph frequency\n",
    "ax = train_df.sentiment.value_counts().plot(kind='bar')\n",
    "df_train_sampled.sentiment.value_counts().plot(kind='bar', title='Count (target)', \n",
    "                                               ax=ax,color='orange', alpha=0.5);\n",
    "plt.xticks(range(len(dd)),dd.index)\n",
    "plt.ylabel(\"# of observations\")\n",
    "plt.legend(['original','resampled'])\n",
    "plt.show()"
   ]
  },
  {
   "cell_type": "markdown",
   "id": "bbe97547",
   "metadata": {},
   "source": [
    "# Data Cleaning and Wrangling "
   ]
  },
  {
   "cell_type": "markdown",
   "id": "90eb8d01",
   "metadata": {},
   "source": [
    "##### Creating a function to clean the `message`"
   ]
  },
  {
   "cell_type": "code",
   "execution_count": 8,
   "id": "dce4bb2e",
   "metadata": {},
   "outputs": [],
   "source": [
    "# creating a function to clean the dataset\n",
    "def cleaning(tweet):\n",
    "# creating pattern to remove url link\n",
    "    pattern = r'http[s]?://(?:[A-Za-z]|[0-9]|[$-_@.&+]|[!*\\(\\),]|(?:%[0-9A-Fa-f][0-9A-Fa-f]))+'\n",
    "    rem_link = re.sub(pattern, '', tweet) # removing all links\n",
    "    rem_punct = re.sub(r'[^a-zA-Z ]', '', rem_link) # removing all character apart from symbols\n",
    "    rem_punct = re.sub(r'RT', '', rem_punct) # removing a specific word 'RT'\n",
    "    word_split = rem_punct.lower().split() # coverting to lowercase and spliting \n",
    "    stops = set(stopwords.words(\"english\")) # converting stopwords to 'set' for faster processing\n",
    "    without_stop_sent = ' '.join([t for t in word_split if t not in stops]) # removing all stopwords from each tweet\n",
    "    return without_stop_sent # returning the final cleaned tweet\n",
    "\n",
    "# applying the function to 'message' in the dataset\n",
    "train_df['cleaned_tweet'] = train_df.message.apply(cleaning)"
   ]
  },
  {
   "cell_type": "code",
   "execution_count": 9,
   "id": "1a042005",
   "metadata": {},
   "outputs": [],
   "source": [
    "# creating a function to stem each words\n",
    "stemmer = SnowballStemmer('english')\n",
    "# creating a function to lemmatize each words\n",
    "lemmatizer = WordNetLemmatizer()"
   ]
  },
  {
   "cell_type": "code",
   "execution_count": 10,
   "id": "cc0f74a1",
   "metadata": {},
   "outputs": [],
   "source": [
    "# creating new features using stemming\n",
    "# creating a function that stem using 'stemmer' object earlier\n",
    "def stemmer_fn(words, stemmer):\n",
    "    word_split = set(words.split())\n",
    "    return ' '.join([stemmer.stem(word) for word in word_split])\n",
    "\n",
    "# applying the function to 'cleaned_tweet' in the dataset\n",
    "train_df['stem_tweet'] = train_df.cleaned_tweet.apply(stemmer_fn, args=(stemmer, ))"
   ]
  },
  {
   "cell_type": "code",
   "execution_count": 11,
   "id": "6c7a7748",
   "metadata": {},
   "outputs": [],
   "source": [
    "# creating new features using stemming\n",
    "# creating a function that lemmatize using 'lemmatizer' object created earlier\n",
    "def lemmatizer_fn(words, lemmatizer):\n",
    "    word_split = set(words.split())\n",
    "    return ' '.join([lemmatizer.lemmatize(word) for word in word_split])\n",
    "\n",
    "# applying the function to 'cleaned_tweet' in the dataset\n",
    "train_df['lemma_tweet'] = train_df['cleaned_tweet'].apply(lemmatizer_fn, args=(lemmatizer, ))"
   ]
  },
  {
   "cell_type": "code",
   "execution_count": 12,
   "id": "5ea901a5",
   "metadata": {},
   "outputs": [
    {
     "data": {
      "text/html": [
       "<div>\n",
       "<style scoped>\n",
       "    .dataframe tbody tr th:only-of-type {\n",
       "        vertical-align: middle;\n",
       "    }\n",
       "\n",
       "    .dataframe tbody tr th {\n",
       "        vertical-align: top;\n",
       "    }\n",
       "\n",
       "    .dataframe thead th {\n",
       "        text-align: right;\n",
       "    }\n",
       "</style>\n",
       "<table border=\"1\" class=\"dataframe\">\n",
       "  <thead>\n",
       "    <tr style=\"text-align: right;\">\n",
       "      <th></th>\n",
       "      <th>sentiment</th>\n",
       "      <th>message</th>\n",
       "      <th>tweetid</th>\n",
       "      <th>cleaned_tweet</th>\n",
       "      <th>stem_tweet</th>\n",
       "      <th>lemma_tweet</th>\n",
       "    </tr>\n",
       "  </thead>\n",
       "  <tbody>\n",
       "    <tr>\n",
       "      <th>4826</th>\n",
       "      <td>1</td>\n",
       "      <td>Will Paris deal tackle climate change? Some of...</td>\n",
       "      <td>860283</td>\n",
       "      <td>paris deal tackle climate change positive fact...</td>\n",
       "      <td>climat seen posit chang pari fact ive deal tac...</td>\n",
       "      <td>climate seen positive change paris fact ive de...</td>\n",
       "    </tr>\n",
       "    <tr>\n",
       "      <th>13564</th>\n",
       "      <td>2</td>\n",
       "      <td>China pledges to continue to be 'active player...</td>\n",
       "      <td>905578</td>\n",
       "      <td>china pledges continue active player climate c...</td>\n",
       "      <td>climat china chang continu pledg activ player ...</td>\n",
       "      <td>climate china change continue pledge active pl...</td>\n",
       "    </tr>\n",
       "    <tr>\n",
       "      <th>1106</th>\n",
       "      <td>0</td>\n",
       "      <td>New blog up about soil carbon sequestration as...</td>\n",
       "      <td>435763</td>\n",
       "      <td>new blog soil carbon sequestration climate cha...</td>\n",
       "      <td>sequestr vehicl climat restor chang ecolog soi...</td>\n",
       "      <td>sequestration vehicle climate restoration chan...</td>\n",
       "    </tr>\n",
       "    <tr>\n",
       "      <th>3610</th>\n",
       "      <td>1</td>\n",
       "      <td>RT @TheCCoalition: Have you seen 3 min trailer...</td>\n",
       "      <td>566454</td>\n",
       "      <td>theccoalition seen min trailer new sir david a...</td>\n",
       "      <td>min trailer climat seen sir david chang docume...</td>\n",
       "      <td>min trailer climate seen sir david change docu...</td>\n",
       "    </tr>\n",
       "    <tr>\n",
       "      <th>10981</th>\n",
       "      <td>1</td>\n",
       "      <td>RT @greenpeaceusa: 5 tips on how to talk clima...</td>\n",
       "      <td>433821</td>\n",
       "      <td>greenpeaceusa tips talk climate change family ...</td>\n",
       "      <td>climat tip season chang talk famili greenpeace...</td>\n",
       "      <td>climate tip season change talk family greenpea...</td>\n",
       "    </tr>\n",
       "    <tr>\n",
       "      <th>11167</th>\n",
       "      <td>1</td>\n",
       "      <td>RT @frankieboyle: Let's look on the bright sid...</td>\n",
       "      <td>402682</td>\n",
       "      <td>frankieboyle lets look bright side maybe clima...</td>\n",
       "      <td>start let climat global bright chang govern ki...</td>\n",
       "      <td>start let climate global bright change governm...</td>\n",
       "    </tr>\n",
       "    <tr>\n",
       "      <th>8368</th>\n",
       "      <td>2</td>\n",
       "      <td>@ScottAdamsSays Record-breaking climate change...</td>\n",
       "      <td>514246</td>\n",
       "      <td>scottadamssays recordbreaking climate change p...</td>\n",
       "      <td>push recordbreak scottadamssay climat unchart ...</td>\n",
       "      <td>push recordbreaking scottadamssays climate unc...</td>\n",
       "    </tr>\n",
       "    <tr>\n",
       "      <th>8172</th>\n",
       "      <td>0</td>\n",
       "      <td>If his warnings has been heard as with the eff...</td>\n",
       "      <td>916226</td>\n",
       "      <td>warnings heard effect global warming waste time</td>\n",
       "      <td>wast time heard effect global warm warn</td>\n",
       "      <td>waste time heard effect global warming warning</td>\n",
       "    </tr>\n",
       "    <tr>\n",
       "      <th>1083</th>\n",
       "      <td>2</td>\n",
       "      <td>Trump takes aim at Obama’s efforts to curb cli...</td>\n",
       "      <td>655645</td>\n",
       "      <td>trump takes aim obamas efforts curb climate ch...</td>\n",
       "      <td>climat take curb obama chang effort trump aim</td>\n",
       "      <td>climate take curb obamas change effort trump aim</td>\n",
       "    </tr>\n",
       "    <tr>\n",
       "      <th>9887</th>\n",
       "      <td>2</td>\n",
       "      <td>EPA administrator Scott Pruitt says he doubts ...</td>\n",
       "      <td>308538</td>\n",
       "      <td>epa administrator scott pruitt says doubts car...</td>\n",
       "      <td>emiss climat contribut chang doubt epa adminis...</td>\n",
       "      <td>emission climate contribute change doubt epa a...</td>\n",
       "    </tr>\n",
       "  </tbody>\n",
       "</table>\n",
       "</div>"
      ],
      "text/plain": [
       "       sentiment                                            message  tweetid  \\\n",
       "4826           1  Will Paris deal tackle climate change? Some of...   860283   \n",
       "13564          2  China pledges to continue to be 'active player...   905578   \n",
       "1106           0  New blog up about soil carbon sequestration as...   435763   \n",
       "3610           1  RT @TheCCoalition: Have you seen 3 min trailer...   566454   \n",
       "10981          1  RT @greenpeaceusa: 5 tips on how to talk clima...   433821   \n",
       "11167          1  RT @frankieboyle: Let's look on the bright sid...   402682   \n",
       "8368           2  @ScottAdamsSays Record-breaking climate change...   514246   \n",
       "8172           0  If his warnings has been heard as with the eff...   916226   \n",
       "1083           2  Trump takes aim at Obama’s efforts to curb cli...   655645   \n",
       "9887           2  EPA administrator Scott Pruitt says he doubts ...   308538   \n",
       "\n",
       "                                           cleaned_tweet  \\\n",
       "4826   paris deal tackle climate change positive fact...   \n",
       "13564  china pledges continue active player climate c...   \n",
       "1106   new blog soil carbon sequestration climate cha...   \n",
       "3610   theccoalition seen min trailer new sir david a...   \n",
       "10981  greenpeaceusa tips talk climate change family ...   \n",
       "11167  frankieboyle lets look bright side maybe clima...   \n",
       "8368   scottadamssays recordbreaking climate change p...   \n",
       "8172     warnings heard effect global warming waste time   \n",
       "1083   trump takes aim obamas efforts curb climate ch...   \n",
       "9887   epa administrator scott pruitt says doubts car...   \n",
       "\n",
       "                                              stem_tweet  \\\n",
       "4826   climat seen posit chang pari fact ive deal tac...   \n",
       "13564  climat china chang continu pledg activ player ...   \n",
       "1106   sequestr vehicl climat restor chang ecolog soi...   \n",
       "3610   min trailer climat seen sir david chang docume...   \n",
       "10981  climat tip season chang talk famili greenpeace...   \n",
       "11167  start let climat global bright chang govern ki...   \n",
       "8368   push recordbreak scottadamssay climat unchart ...   \n",
       "8172             wast time heard effect global warm warn   \n",
       "1083       climat take curb obama chang effort trump aim   \n",
       "9887   emiss climat contribut chang doubt epa adminis...   \n",
       "\n",
       "                                             lemma_tweet  \n",
       "4826   climate seen positive change paris fact ive de...  \n",
       "13564  climate china change continue pledge active pl...  \n",
       "1106   sequestration vehicle climate restoration chan...  \n",
       "3610   min trailer climate seen sir david change docu...  \n",
       "10981  climate tip season change talk family greenpea...  \n",
       "11167  start let climate global bright change governm...  \n",
       "8368   push recordbreaking scottadamssays climate unc...  \n",
       "8172      waste time heard effect global warming warning  \n",
       "1083    climate take curb obamas change effort trump aim  \n",
       "9887   emission climate contribute change doubt epa a...  "
      ]
     },
     "execution_count": 12,
     "metadata": {},
     "output_type": "execute_result"
    }
   ],
   "source": [
    "# viewing the final dataframe with the cleaned, stemmed and lemmatized tweets\n",
    "train_df.sample(10)"
   ]
  },
  {
   "cell_type": "markdown",
   "id": "e7e57d76",
   "metadata": {},
   "source": [
    "## Engineering Features"
   ]
  },
  {
   "cell_type": "code",
   "execution_count": 13,
   "id": "790a5db5",
   "metadata": {},
   "outputs": [],
   "source": [
    "# creating a sentiment_map\n",
    "sentiment_dict = {'Anti-Climate':-1, 'Neutral':0, 'Pro-Climate':1, 'News-Fact':2}"
   ]
  },
  {
   "cell_type": "code",
   "execution_count": 14,
   "id": "01a61ae6",
   "metadata": {},
   "outputs": [],
   "source": [
    "# converting each word in the dataset into features\n",
    "vectorizer = CountVectorizer(analyzer = \"word\", max_features = 8000) # setting the maximum feature to 8000 "
   ]
  },
  {
   "cell_type": "code",
   "execution_count": 15,
   "id": "b5c21cfe",
   "metadata": {},
   "outputs": [],
   "source": [
    "# fitting the vectorizer object to the suitable column in the dataset\n",
    "reviews_vect = vectorizer.fit_transform(train_df['cleaned_tweet'])"
   ]
  },
  {
   "cell_type": "code",
   "execution_count": 16,
   "id": "298fcb27",
   "metadata": {},
   "outputs": [
    {
     "data": {
      "text/plain": [
       "(15819, 8000)"
      ]
     },
     "execution_count": 16,
     "metadata": {},
     "output_type": "execute_result"
    }
   ],
   "source": [
    "# converting the features to numpy array\n",
    "train_data_features = reviews_vect.toarray() # for fast fitting of our dataset\n",
    "train_data_features.shape # checking the shape to be sure of the size of the features"
   ]
  },
  {
   "cell_type": "code",
   "execution_count": 17,
   "id": "08058a0a",
   "metadata": {},
   "outputs": [],
   "source": [
    "# setting the target and features \n",
    "y = np.array(train_df['sentiment'])\n",
    "X = train_data_features\n",
    "\n",
    "# split the target ad features into train and test\n",
    "X_train, X_test, y_train, y_test = train_test_split(X, y, test_size=0.2, random_state=10)"
   ]
  },
  {
   "cell_type": "code",
   "execution_count": 18,
   "id": "0a48eba2",
   "metadata": {},
   "outputs": [],
   "source": [
    "# Creating a function to fit the model and calculate various metrics\n",
    "def modelling(model, X_train=X_train, X_test=X_test, y_train=y_train, y_test=y_test):\n",
    "    model.fit(X_train, y_train)\n",
    "    pred_train = model.predict(X_train)\n",
    "    pred_valid = model.predict(X_test)\n",
    "    \n",
    "# calculating the metrics\n",
    "    f1_train = f1_score(y_train, pred_train, average='weighted')\n",
    "    f1_test = f1_score(y_test, pred_valid,  average='weighted')\n",
    "    cm = confusion_matrix(y_test, pred_valid)\n",
    "    cr = classification_report(y_test, pred_valid, target_names=sentiment_dict, output_dict=True)\n",
    "    \n",
    "# creating a dataframe for 'confusion matrix' and 'classification report'\n",
    "    cm_df = pd.DataFrame(cm, index = sentiment_dict, columns = sentiment_dict)\n",
    "    cr_df = pd.DataFrame(cr)\n",
    "    \n",
    "    print('Confusion Matrix')\n",
    "    display(cm_df)\n",
    "    print('Classification Report')\n",
    "    display(cr_df)\n",
    "    print(f'Train accuracy(f1) is: {round(f1_train, 3)} and Validation accuracy(f1) is {round(f1_test, 3)}')\n",
    "    \n",
    "# Plotting the confusion matrix using heatmap\n",
    "    plt.figure(figsize=(10,5))\n",
    "    sns.heatmap(cm_df, annot=True)\n",
    "    plt.title('Confusion Matrix')\n",
    "    plt.ylabel('Actal Values')\n",
    "    plt.xlabel('Predicted Values')\n",
    "    plt.show()\n",
    "    \n",
    "    return cm_df, cr_df, cm # returning metrics"
   ]
  },
  {
   "cell_type": "code",
   "execution_count": 19,
   "id": "57e16c87",
   "metadata": {
    "scrolled": false
   },
   "outputs": [
    {
     "name": "stdout",
     "output_type": "stream",
     "text": [
      "Confusion Matrix\n"
     ]
    },
    {
     "data": {
      "text/html": [
       "<div>\n",
       "<style scoped>\n",
       "    .dataframe tbody tr th:only-of-type {\n",
       "        vertical-align: middle;\n",
       "    }\n",
       "\n",
       "    .dataframe tbody tr th {\n",
       "        vertical-align: top;\n",
       "    }\n",
       "\n",
       "    .dataframe thead th {\n",
       "        text-align: right;\n",
       "    }\n",
       "</style>\n",
       "<table border=\"1\" class=\"dataframe\">\n",
       "  <thead>\n",
       "    <tr style=\"text-align: right;\">\n",
       "      <th></th>\n",
       "      <th>Anti-Climate</th>\n",
       "      <th>Neutral</th>\n",
       "      <th>Pro-Climate</th>\n",
       "      <th>News-Fact</th>\n",
       "    </tr>\n",
       "  </thead>\n",
       "  <tbody>\n",
       "    <tr>\n",
       "      <th>Anti-Climate</th>\n",
       "      <td>124</td>\n",
       "      <td>33</td>\n",
       "      <td>99</td>\n",
       "      <td>23</td>\n",
       "    </tr>\n",
       "    <tr>\n",
       "      <th>Neutral</th>\n",
       "      <td>16</td>\n",
       "      <td>229</td>\n",
       "      <td>180</td>\n",
       "      <td>39</td>\n",
       "    </tr>\n",
       "    <tr>\n",
       "      <th>Pro-Climate</th>\n",
       "      <td>15</td>\n",
       "      <td>101</td>\n",
       "      <td>1441</td>\n",
       "      <td>134</td>\n",
       "    </tr>\n",
       "    <tr>\n",
       "      <th>News-Fact</th>\n",
       "      <td>6</td>\n",
       "      <td>27</td>\n",
       "      <td>160</td>\n",
       "      <td>537</td>\n",
       "    </tr>\n",
       "  </tbody>\n",
       "</table>\n",
       "</div>"
      ],
      "text/plain": [
       "              Anti-Climate  Neutral  Pro-Climate  News-Fact\n",
       "Anti-Climate           124       33           99         23\n",
       "Neutral                 16      229          180         39\n",
       "Pro-Climate             15      101         1441        134\n",
       "News-Fact                6       27          160        537"
      ]
     },
     "metadata": {},
     "output_type": "display_data"
    },
    {
     "name": "stdout",
     "output_type": "stream",
     "text": [
      "Classification Report\n"
     ]
    },
    {
     "data": {
      "text/html": [
       "<div>\n",
       "<style scoped>\n",
       "    .dataframe tbody tr th:only-of-type {\n",
       "        vertical-align: middle;\n",
       "    }\n",
       "\n",
       "    .dataframe tbody tr th {\n",
       "        vertical-align: top;\n",
       "    }\n",
       "\n",
       "    .dataframe thead th {\n",
       "        text-align: right;\n",
       "    }\n",
       "</style>\n",
       "<table border=\"1\" class=\"dataframe\">\n",
       "  <thead>\n",
       "    <tr style=\"text-align: right;\">\n",
       "      <th></th>\n",
       "      <th>Anti-Climate</th>\n",
       "      <th>Neutral</th>\n",
       "      <th>Pro-Climate</th>\n",
       "      <th>News-Fact</th>\n",
       "      <th>accuracy</th>\n",
       "      <th>macro avg</th>\n",
       "      <th>weighted avg</th>\n",
       "    </tr>\n",
       "  </thead>\n",
       "  <tbody>\n",
       "    <tr>\n",
       "      <th>precision</th>\n",
       "      <td>0.770186</td>\n",
       "      <td>0.587179</td>\n",
       "      <td>0.766489</td>\n",
       "      <td>0.732606</td>\n",
       "      <td>0.736726</td>\n",
       "      <td>0.714115</td>\n",
       "      <td>0.732702</td>\n",
       "    </tr>\n",
       "    <tr>\n",
       "      <th>recall</th>\n",
       "      <td>0.444444</td>\n",
       "      <td>0.493534</td>\n",
       "      <td>0.852158</td>\n",
       "      <td>0.735616</td>\n",
       "      <td>0.736726</td>\n",
       "      <td>0.631438</td>\n",
       "      <td>0.736726</td>\n",
       "    </tr>\n",
       "    <tr>\n",
       "      <th>f1-score</th>\n",
       "      <td>0.563636</td>\n",
       "      <td>0.536300</td>\n",
       "      <td>0.807057</td>\n",
       "      <td>0.734108</td>\n",
       "      <td>0.736726</td>\n",
       "      <td>0.660275</td>\n",
       "      <td>0.729055</td>\n",
       "    </tr>\n",
       "    <tr>\n",
       "      <th>support</th>\n",
       "      <td>279.000000</td>\n",
       "      <td>464.000000</td>\n",
       "      <td>1691.000000</td>\n",
       "      <td>730.000000</td>\n",
       "      <td>0.736726</td>\n",
       "      <td>3164.000000</td>\n",
       "      <td>3164.000000</td>\n",
       "    </tr>\n",
       "  </tbody>\n",
       "</table>\n",
       "</div>"
      ],
      "text/plain": [
       "           Anti-Climate     Neutral  Pro-Climate   News-Fact  accuracy  \\\n",
       "precision      0.770186    0.587179     0.766489    0.732606  0.736726   \n",
       "recall         0.444444    0.493534     0.852158    0.735616  0.736726   \n",
       "f1-score       0.563636    0.536300     0.807057    0.734108  0.736726   \n",
       "support      279.000000  464.000000  1691.000000  730.000000  0.736726   \n",
       "\n",
       "             macro avg  weighted avg  \n",
       "precision     0.714115      0.732702  \n",
       "recall        0.631438      0.736726  \n",
       "f1-score      0.660275      0.729055  \n",
       "support    3164.000000   3164.000000  "
      ]
     },
     "metadata": {},
     "output_type": "display_data"
    },
    {
     "name": "stdout",
     "output_type": "stream",
     "text": [
      "Train accuracy(f1) is: 0.937 and Validation accuracy(f1) is 0.729\n"
     ]
    },
    {
     "data": {
      "image/png": "[encoded data removed]",
      "text/plain": [
       "<Figure size 720x360 with 2 Axes>"
      ]
     },
     "metadata": {
      "needs_background": "light"
     },
     "output_type": "display_data"
    },
    {
     "data": {
      "text/plain": [
       "{'web': 'https://www.comet.ml/api/asset/download?assetId=3483ed7476aa4752bae0931565b078c9&experimentKey=13c25769e0284374b11e2c6f6b4e6bd1',\n",
       " 'api': 'https://www.comet.ml/api/rest/v2/experiment/asset/get-asset?assetId=3483ed7476aa4752bae0931565b078c9&experimentKey=13c25769e0284374b11e2c6f6b4e6bd1',\n",
       " 'assetId': '3483ed7476aa4752bae0931565b078c9'}"
      ]
     },
     "execution_count": 19,
     "metadata": {},
     "output_type": "execute_result"
    }
   ],
   "source": [
    "# create logistic regression model instance\n",
    "lm = LogisticRegression(C=2, solver='liblinear')\n",
    "\n",
    "# fitting and predictiion by calling the 'modelling' fuction \n",
    "cm_df, cr_df, cm = modelling(lm)\n",
    "\n",
    "# loging the confusion matric to comet\n",
    "experiment.log_confusion_matrix(matrix=cm)"
   ]
  },
  {
   "cell_type": "code",
   "execution_count": 20,
   "id": "9b673dd4",
   "metadata": {},
   "outputs": [],
   "source": [
    "# Create dictionaries for the data we want to log\n",
    "\n",
    "params = {\"random_state\": 10,\n",
    "          \"model_type\": \"lm\"\n",
    "          }\n",
    "metrics = {\"f1\": cr_df.loc['f1-score', 'weighted avg'],\n",
    "           \"precision\": cr_df.loc['precision', 'weighted avg'],\n",
    "           \"recall\": cr_df.loc['recall', 'weighted avg']\n",
    "           }"
   ]
  },
  {
   "cell_type": "code",
   "execution_count": 21,
   "id": "76b867ff",
   "metadata": {},
   "outputs": [],
   "source": [
    "# Log our parameters and results\n",
    "experiment.log_parameters(params)\n",
    "experiment.log_metrics(metrics)"
   ]
  },
  {
   "cell_type": "markdown",
   "id": "76465443",
   "metadata": {},
   "source": [
    "#### Cleaning the test dataset"
   ]
  },
  {
   "cell_type": "code",
   "execution_count": 22,
   "id": "79e01e57",
   "metadata": {},
   "outputs": [],
   "source": [
    "# applying the functions from earlier to clean our 'test' dataset\n",
    "test_df['cleaned_tweet'] = test_df.message.apply(cleaning)\n",
    "test_df['lemma_tweet'] = test_df['cleaned_tweet'].apply(lemmatizer_fn, args=(lemmatizer, ))\n",
    "test_df['stem_tweet'] = test_df.cleaned_tweet.apply(stemmer_fn, args=(stemmer, ))"
   ]
  },
  {
   "cell_type": "code",
   "execution_count": 23,
   "id": "8ad36d47",
   "metadata": {},
   "outputs": [
    {
     "data": {
      "text/html": [
       "<div>\n",
       "<style scoped>\n",
       "    .dataframe tbody tr th:only-of-type {\n",
       "        vertical-align: middle;\n",
       "    }\n",
       "\n",
       "    .dataframe tbody tr th {\n",
       "        vertical-align: top;\n",
       "    }\n",
       "\n",
       "    .dataframe thead th {\n",
       "        text-align: right;\n",
       "    }\n",
       "</style>\n",
       "<table border=\"1\" class=\"dataframe\">\n",
       "  <thead>\n",
       "    <tr style=\"text-align: right;\">\n",
       "      <th></th>\n",
       "      <th>message</th>\n",
       "      <th>tweetid</th>\n",
       "      <th>cleaned_tweet</th>\n",
       "      <th>lemma_tweet</th>\n",
       "      <th>stem_tweet</th>\n",
       "    </tr>\n",
       "  </thead>\n",
       "  <tbody>\n",
       "    <tr>\n",
       "      <th>2421</th>\n",
       "      <td>RT @treubold: The connection between meat and ...</td>\n",
       "      <td>14362</td>\n",
       "      <td>treubold connection meat climate change great ...</td>\n",
       "      <td>connection climate explainer change civileats ...</td>\n",
       "      <td>connect climat explain chang civileat meat gre...</td>\n",
       "    </tr>\n",
       "    <tr>\n",
       "      <th>60</th>\n",
       "      <td>RT @CBSThisMorning: 'We now have a president i...</td>\n",
       "      <td>485211</td>\n",
       "      <td>cbsthismorning president america believe globa...</td>\n",
       "      <td>richardbranson believe cbsthismorning global a...</td>\n",
       "      <td>richardbranson believ cbsthismorn global ameri...</td>\n",
       "    </tr>\n",
       "    <tr>\n",
       "      <th>8407</th>\n",
       "      <td>RT @Isabellaak_: If you don't believe climate ...</td>\n",
       "      <td>20118</td>\n",
       "      <td>isabellaak dont believe climate change real yo...</td>\n",
       "      <td>tell leo climate real beforetheflood believe d...</td>\n",
       "      <td>tell leo climat real beforetheflood believ don...</td>\n",
       "    </tr>\n",
       "    <tr>\n",
       "      <th>5913</th>\n",
       "      <td>RT @AstroKatie: If you were going to be a sing...</td>\n",
       "      <td>41005</td>\n",
       "      <td>astrokatie going singleissue voter making glob...</td>\n",
       "      <td>global choose singleissue warming even would g...</td>\n",
       "      <td>global choos singleissu warm even would go mak...</td>\n",
       "    </tr>\n",
       "    <tr>\n",
       "      <th>5143</th>\n",
       "      <td>Obama fires scientist for being “too forthrigh...</td>\n",
       "      <td>209090</td>\n",
       "      <td>obama fires scientist forthright lawmakers reg...</td>\n",
       "      <td>obama lawmaker global forthright warming fire ...</td>\n",
       "      <td>obama lawmak global forthright warm fire regar...</td>\n",
       "    </tr>\n",
       "  </tbody>\n",
       "</table>\n",
       "</div>"
      ],
      "text/plain": [
       "                                                message  tweetid  \\\n",
       "2421  RT @treubold: The connection between meat and ...    14362   \n",
       "60    RT @CBSThisMorning: 'We now have a president i...   485211   \n",
       "8407  RT @Isabellaak_: If you don't believe climate ...    20118   \n",
       "5913  RT @AstroKatie: If you were going to be a sing...    41005   \n",
       "5143  Obama fires scientist for being “too forthrigh...   209090   \n",
       "\n",
       "                                          cleaned_tweet  \\\n",
       "2421  treubold connection meat climate change great ...   \n",
       "60    cbsthismorning president america believe globa...   \n",
       "8407  isabellaak dont believe climate change real yo...   \n",
       "5913  astrokatie going singleissue voter making glob...   \n",
       "5143  obama fires scientist forthright lawmakers reg...   \n",
       "\n",
       "                                            lemma_tweet  \\\n",
       "2421  connection climate explainer change civileats ...   \n",
       "60    richardbranson believe cbsthismorning global a...   \n",
       "8407  tell leo climate real beforetheflood believe d...   \n",
       "5913  global choose singleissue warming even would g...   \n",
       "5143  obama lawmaker global forthright warming fire ...   \n",
       "\n",
       "                                             stem_tweet  \n",
       "2421  connect climat explain chang civileat meat gre...  \n",
       "60    richardbranson believ cbsthismorn global ameri...  \n",
       "8407  tell leo climat real beforetheflood believ don...  \n",
       "5913  global choos singleissu warm even would go mak...  \n",
       "5143  obama lawmak global forthright warm fire regar...  "
      ]
     },
     "execution_count": 23,
     "metadata": {},
     "output_type": "execute_result"
    }
   ],
   "source": [
    "#  Double checking our dataframe was modified rightly\n",
    "test_df.sample(5)"
   ]
  },
  {
   "cell_type": "code",
   "execution_count": 24,
   "id": "04ff5392",
   "metadata": {},
   "outputs": [],
   "source": [
    "# Converting the word of the all tweet into features using 'vectorizer' object created earlier\n",
    "reviews_vect_test = vectorizer.transform(test_df['lemma_tweet'])"
   ]
  },
  {
   "cell_type": "code",
   "execution_count": 25,
   "id": "9e01cc1f",
   "metadata": {},
   "outputs": [
    {
     "data": {
      "text/plain": [
       "(10546, 8000)"
      ]
     },
     "execution_count": 25,
     "metadata": {},
     "output_type": "execute_result"
    }
   ],
   "source": [
    "# converting into a numpy array\n",
    "test_data_features = reviews_vect_test.toarray() # for fast fitting of our dataset\n",
    "test_data_features.shape # checking to be sure is the same size with our 'train' dataset"
   ]
  },
  {
   "cell_type": "code",
   "execution_count": 26,
   "id": "e7750ceb",
   "metadata": {},
   "outputs": [],
   "source": [
    "# Using the fitted (train) model to predict the 'test' dataset\n",
    "pred_test = lm.predict(test_data_features)"
   ]
  },
  {
   "cell_type": "code",
   "execution_count": 27,
   "id": "e76851ce",
   "metadata": {},
   "outputs": [],
   "source": [
    "# Saving test predictions to csv file\n",
    "output = pd.DataFrame({'tweetid': test_df.tweetid,\n",
    "                       'sentiment': pred_test})\n",
    "output.to_csv('submission.csv', index=False)"
   ]
  },
  {
   "cell_type": "code",
   "execution_count": 28,
   "id": "dd54df8c",
   "metadata": {
    "scrolled": true
   },
   "outputs": [
    {
     "name": "stderr",
     "output_type": "stream",
     "text": [
      "COMET INFO: ---------------------------\n",
      "COMET INFO: Comet.ml Experiment Summary\n",
      "COMET INFO: ---------------------------\n",
      "COMET INFO:   Data:\n",
      "COMET INFO:     display_summary_level : 1\n",
      "COMET INFO:     url                   : https://www.comet.ml/adegbem/2201ac-zf1/13c25769e0284374b11e2c6f6b4e6bd1\n",
      "COMET INFO:   Metrics:\n",
      "COMET INFO:     f1        : 0.729054868131763\n",
      "COMET INFO:     precision : 0.7327019478753439\n",
      "COMET INFO:     recall    : 0.7367256637168141\n",
      "COMET INFO:   Parameters:\n",
      "COMET INFO:     C                 : 2\n",
      "COMET INFO:     class_weight      : 1\n",
      "COMET INFO:     dual              : False\n",
      "COMET INFO:     fit_intercept     : True\n",
      "COMET INFO:     intercept_scaling : 1\n",
      "COMET INFO:     l1_ratio          : 1\n",
      "COMET INFO:     max_iter          : 100\n",
      "COMET INFO:     model_type        : lm\n",
      "COMET INFO:     multi_class       : auto\n",
      "COMET INFO:     n_jobs            : 1\n",
      "COMET INFO:     penalty           : l2\n",
      "COMET INFO:     random_state      : 10\n",
      "COMET INFO:     solver            : liblinear\n",
      "COMET INFO:     tol               : 0.0001\n",
      "COMET INFO:     verbose           : 0\n",
      "COMET INFO:     warm_start        : False\n",
      "COMET INFO:   Uploads:\n",
      "COMET INFO:     conda-info               : 1\n",
      "COMET INFO:     conda-specification      : 1\n",
      "COMET INFO:     confusion-matrix         : 1\n",
      "COMET INFO:     environment details      : 1\n",
      "COMET INFO:     filename                 : 1\n",
      "COMET INFO:     git metadata             : 1\n",
      "COMET INFO:     git-patch (uncompressed) : 1 (15.51 MB)\n",
      "COMET INFO:     installed packages       : 1\n",
      "COMET INFO:     notebook                 : 1\n",
      "COMET INFO:     source_code              : 1\n",
      "COMET INFO: ---------------------------\n",
      "COMET INFO: Uploading metrics, params, and assets to Comet before program termination (may take several seconds)\n",
      "COMET INFO: The Python SDK has 3600 seconds to finish before aborting...\n"
     ]
    }
   ],
   "source": [
    "# ending the comet logging \n",
    "experiment.end()"
   ]
  }
 ],
 "metadata": {
  "kernelspec": {
   "display_name": "Python 3 (ipykernel)",
   "language": "python",
   "name": "python3"
  },
  "language_info": {
   "codemirror_mode": {
    "name": "ipython",
    "version": 3
   },
   "file_extension": ".py",
   "mimetype": "text/x-python",
   "name": "python",
   "nbconvert_exporter": "python",
   "pygments_lexer": "ipython3",
   "version": "3.9.7"
  }
 },
 "nbformat": 4,
 "nbformat_minor": 5
}
