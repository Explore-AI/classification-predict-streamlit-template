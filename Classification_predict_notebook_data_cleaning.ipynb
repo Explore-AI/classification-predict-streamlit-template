{
 "cells": [
  {
   "cell_type": "code",
   "execution_count": 1,
   "metadata": {},
   "outputs": [],
   "source": [
    "import pandas as pd               #For data loading and data manipulation\n",
    "import seaborn as sns             #For data visualization \n",
    "import matplotlib.pyplot as plt   #For data visualization\n",
    "%matplotlib inline\n",
    "import re\n",
    "\n",
    "import nltk\n",
    "from nltk.corpus import stopwords #For stopword removals\n",
    "\n",
    "import string                     #For Punctuations\n",
    "\n",
    "import numpy as np\n"
   ]
  },
  {
   "cell_type": "code",
   "execution_count": 5,
   "metadata": {},
   "outputs": [],
   "source": [
    "# Display.max_colwidth option  set to None to show all text content without truncation\n",
    "pd.set_option('display.max_colwidth', None)\n",
    "\n",
    "# Your code to read the DataFrame\n",
    "df = pd.read_csv('train.csv')\n",
    "test_df = pd.read_csv('test_with_no_labels.csv')\n",
    "\n",
    "\n",
    "\n",
    "# df = pd.read_csv('train.csv', encoding='utf-8')\n",
    "# df_test = pd.read_csv('test_with_no_labels.csv', encoding='utf-8')\n"
   ]
  },
  {
   "cell_type": "code",
   "execution_count": 6,
   "metadata": {},
   "outputs": [
    {
     "data": {
      "text/html": [
       "<div>\n",
       "<style scoped>\n",
       "    .dataframe tbody tr th:only-of-type {\n",
       "        vertical-align: middle;\n",
       "    }\n",
       "\n",
       "    .dataframe tbody tr th {\n",
       "        vertical-align: top;\n",
       "    }\n",
       "\n",
       "    .dataframe thead th {\n",
       "        text-align: right;\n",
       "    }\n",
       "</style>\n",
       "<table border=\"1\" class=\"dataframe\">\n",
       "  <thead>\n",
       "    <tr style=\"text-align: right;\">\n",
       "      <th></th>\n",
       "      <th>sentiment</th>\n",
       "      <th>message</th>\n",
       "      <th>tweetid</th>\n",
       "    </tr>\n",
       "  </thead>\n",
       "  <tbody>\n",
       "    <tr>\n",
       "      <th>0</th>\n",
       "      <td>1</td>\n",
       "      <td>PolySciMajor EPA chief doesn't think carbon dioxide is main cause of global warming and.. wait, what!? https://t.co/yeLvcEFXkC via @mashable</td>\n",
       "      <td>625221</td>\n",
       "    </tr>\n",
       "    <tr>\n",
       "      <th>1</th>\n",
       "      <td>1</td>\n",
       "      <td>It's not like we lack evidence of anthropogenic global warming</td>\n",
       "      <td>126103</td>\n",
       "    </tr>\n",
       "    <tr>\n",
       "      <th>2</th>\n",
       "      <td>2</td>\n",
       "      <td>RT @RawStory: Researchers say we have three years to act on climate change before it’s too late https://t.co/WdT0KdUr2f https://t.co/Z0ANPT…</td>\n",
       "      <td>698562</td>\n",
       "    </tr>\n",
       "    <tr>\n",
       "      <th>3</th>\n",
       "      <td>1</td>\n",
       "      <td>#TodayinMaker# WIRED : 2016 was a pivotal year in the war on climate change https://t.co/44wOTxTLcD</td>\n",
       "      <td>573736</td>\n",
       "    </tr>\n",
       "    <tr>\n",
       "      <th>4</th>\n",
       "      <td>1</td>\n",
       "      <td>RT @SoyNovioDeTodas: It's 2016, and a racist, sexist, climate change denying bigot is leading in the polls. #ElectionNight</td>\n",
       "      <td>466954</td>\n",
       "    </tr>\n",
       "    <tr>\n",
       "      <th>5</th>\n",
       "      <td>1</td>\n",
       "      <td>Worth a read whether you do or don't believe in climate change https://t.co/ggLZVNYjun https://t.co/7AFE2mAH8j</td>\n",
       "      <td>425577</td>\n",
       "    </tr>\n",
       "    <tr>\n",
       "      <th>6</th>\n",
       "      <td>1</td>\n",
       "      <td>RT @thenation: Mike Pence doesn’t believe in global warming or that smoking causes lung cancer. https://t.co/gvWYaauU8R</td>\n",
       "      <td>294933</td>\n",
       "    </tr>\n",
       "    <tr>\n",
       "      <th>7</th>\n",
       "      <td>1</td>\n",
       "      <td>RT @makeandmendlife: Six big things we can ALL do today to fight climate change, or how to be a climate activistÃ¢â‚¬Â¦ https://t.co/TYMLu6DbNM hÃ¢â‚¬Â¦</td>\n",
       "      <td>992717</td>\n",
       "    </tr>\n",
       "    <tr>\n",
       "      <th>8</th>\n",
       "      <td>1</td>\n",
       "      <td>@AceofSpadesHQ My 8yo nephew is inconsolable. He wants to die of old age like me, but will perish in the fiery hellscape of climate change.</td>\n",
       "      <td>664510</td>\n",
       "    </tr>\n",
       "    <tr>\n",
       "      <th>9</th>\n",
       "      <td>1</td>\n",
       "      <td>RT @paigetweedy: no offense… but like… how do you just not believe… in global warming………</td>\n",
       "      <td>260471</td>\n",
       "    </tr>\n",
       "  </tbody>\n",
       "</table>\n",
       "</div>"
      ],
      "text/plain": [
       "   sentiment   \n",
       "0          1  \\\n",
       "1          1   \n",
       "2          2   \n",
       "3          1   \n",
       "4          1   \n",
       "5          1   \n",
       "6          1   \n",
       "7          1   \n",
       "8          1   \n",
       "9          1   \n",
       "\n",
       "                                                                                                                                                    message   \n",
       "0              PolySciMajor EPA chief doesn't think carbon dioxide is main cause of global warming and.. wait, what!? https://t.co/yeLvcEFXkC via @mashable  \\\n",
       "1                                                                                            It's not like we lack evidence of anthropogenic global warming   \n",
       "2              RT @RawStory: Researchers say we have three years to act on climate change before it’s too late https://t.co/WdT0KdUr2f https://t.co/Z0ANPT…   \n",
       "3                                                       #TodayinMaker# WIRED : 2016 was a pivotal year in the war on climate change https://t.co/44wOTxTLcD   \n",
       "4                                RT @SoyNovioDeTodas: It's 2016, and a racist, sexist, climate change denying bigot is leading in the polls. #ElectionNight   \n",
       "5                                            Worth a read whether you do or don't believe in climate change https://t.co/ggLZVNYjun https://t.co/7AFE2mAH8j   \n",
       "6                                   RT @thenation: Mike Pence doesn’t believe in global warming or that smoking causes lung cancer. https://t.co/gvWYaauU8R   \n",
       "7  RT @makeandmendlife: Six big things we can ALL do today to fight climate change, or how to be a climate activistÃ¢â‚¬Â¦ https://t.co/TYMLu6DbNM hÃ¢â‚¬Â¦   \n",
       "8               @AceofSpadesHQ My 8yo nephew is inconsolable. He wants to die of old age like me, but will perish in the fiery hellscape of climate change.   \n",
       "9                                                                  RT @paigetweedy: no offense… but like… how do you just not believe… in global warming………   \n",
       "\n",
       "   tweetid  \n",
       "0   625221  \n",
       "1   126103  \n",
       "2   698562  \n",
       "3   573736  \n",
       "4   466954  \n",
       "5   425577  \n",
       "6   294933  \n",
       "7   992717  \n",
       "8   664510  \n",
       "9   260471  "
      ]
     },
     "execution_count": 6,
     "metadata": {},
     "output_type": "execute_result"
    }
   ],
   "source": [
    "df.head(10)"
   ]
  },
  {
   "cell_type": "markdown",
   "metadata": {},
   "source": [
    "From the data snippet shown above, we see that the message column contains some noise (stop words, puntuations, mentions, hashtags and even urls). We need to deal with the noise before proceeding to analyze the data."
   ]
  },
  {
   "cell_type": "code",
   "execution_count": 5,
   "metadata": {},
   "outputs": [
    {
     "data": {
      "text/plain": [
       "(15819, 3)"
      ]
     },
     "execution_count": 5,
     "metadata": {},
     "output_type": "execute_result"
    }
   ],
   "source": [
    "df.shape"
   ]
  },
  {
   "cell_type": "code",
   "execution_count": 10,
   "metadata": {},
   "outputs": [
    {
     "name": "stdout",
     "output_type": "stream",
     "text": [
      "<class 'pandas.core.frame.DataFrame'>\n",
      "RangeIndex: 15819 entries, 0 to 15818\n",
      "Data columns (total 3 columns):\n",
      " #   Column     Non-Null Count  Dtype \n",
      "---  ------     --------------  ----- \n",
      " 0   sentiment  15819 non-null  int64 \n",
      " 1   message    15819 non-null  object\n",
      " 2   tweetid    15819 non-null  int64 \n",
      "dtypes: int64(2), object(1)\n",
      "memory usage: 370.9+ KB\n"
     ]
    }
   ],
   "source": [
    "df.info() #Let's see our datatypes"
   ]
  },
  {
   "cell_type": "code",
   "execution_count": 13,
   "metadata": {},
   "outputs": [
    {
     "data": {
      "image/png": "[encoded data removed]",
      "text/plain": [
       "<Figure size 640x480 with 1 Axes>"
      ]
     },
     "metadata": {},
     "output_type": "display_data"
    }
   ],
   "source": [
    "#Plot a barg graph to show the distribution of the sentiments\n",
    "df['sentiment'].value_counts().plot(kind = 'bar')\n",
    "plt.show()"
   ]
  },
  {
   "cell_type": "markdown",
   "metadata": {},
   "source": [
    "## **DATA PREPROCESSING**"
   ]
  },
  {
   "cell_type": "markdown",
   "metadata": {},
   "source": [
    "### **NOISE REMOVAL**\n",
    "\n",
    "**REMOVAL OF STOPWORDS**"
   ]
  },
  {
   "cell_type": "code",
   "execution_count": 7,
   "metadata": {},
   "outputs": [],
   "source": [
    "df_train = df.copy() #Let us make a copy of our dataframe to avoid modifying the original dataframe"
   ]
  },
  {
   "cell_type": "code",
   "execution_count": 8,
   "metadata": {},
   "outputs": [
    {
     "name": "stdout",
     "output_type": "stream",
     "text": [
      "['i', 'me', 'my', 'myself', 'we', 'our', 'ours', 'ourselves', 'you', \"you're\", \"you've\", \"you'll\", \"you'd\", 'your', 'yours', 'yourself', 'yourselves', 'he', 'him', 'his', 'himself', 'she', \"she's\", 'her', 'hers', 'herself', 'it', \"it's\", 'its', 'itself', 'they', 'them', 'their', 'theirs', 'themselves', 'what', 'which', 'who', 'whom', 'this', 'that', \"that'll\", 'these', 'those', 'am', 'is', 'are', 'was', 'were', 'be', 'been', 'being', 'have', 'has', 'had', 'having', 'do', 'does', 'did', 'doing', 'a', 'an', 'the', 'and', 'but', 'if', 'or', 'because', 'as', 'until', 'while', 'of', 'at', 'by', 'for', 'with', 'about', 'against', 'between', 'into', 'through', 'during', 'before', 'after', 'above', 'below', 'to', 'from', 'up', 'down', 'in', 'out', 'on', 'off', 'over', 'under', 'again', 'further', 'then', 'once', 'here', 'there', 'when', 'where', 'why', 'how', 'all', 'any', 'both', 'each', 'few', 'more', 'most', 'other', 'some', 'such', 'no', 'nor', 'not', 'only', 'own', 'same', 'so', 'than', 'too', 'very', 's', 't', 'can', 'will', 'just', 'don', \"don't\", 'should', \"should've\", 'now', 'd', 'll', 'm', 'o', 're', 've', 'y', 'ain', 'aren', \"aren't\", 'couldn', \"couldn't\", 'didn', \"didn't\", 'doesn', \"doesn't\", 'hadn', \"hadn't\", 'hasn', \"hasn't\", 'haven', \"haven't\", 'isn', \"isn't\", 'ma', 'mightn', \"mightn't\", 'mustn', \"mustn't\", 'needn', \"needn't\", 'shan', \"shan't\", 'shouldn', \"shouldn't\", 'wasn', \"wasn't\", 'weren', \"weren't\", 'won', \"won't\", 'wouldn', \"wouldn't\"]\n"
     ]
    }
   ],
   "source": [
    "#To get a list of english stopwords\n",
    "stop_words = stopwords.words('english')\n",
    "print(stop_words)"
   ]
  },
  {
   "cell_type": "code",
   "execution_count": 9,
   "metadata": {},
   "outputs": [],
   "source": [
    " clean_texts = []\n",
    "\n",
    "for text in df_train['message']:\n",
    "    words = text.split()\n",
    "    filtered_words = [word for word in words if word.lower() not in stop_words]\n",
    "    clean_text = ' '.join(filtered_words)\n",
    "    clean_texts.append(clean_text)\n"
   ]
  },
  {
   "cell_type": "code",
   "execution_count": 10,
   "metadata": {},
   "outputs": [
    {
     "data": {
      "text/html": [
       "<div>\n",
       "<style scoped>\n",
       "    .dataframe tbody tr th:only-of-type {\n",
       "        vertical-align: middle;\n",
       "    }\n",
       "\n",
       "    .dataframe tbody tr th {\n",
       "        vertical-align: top;\n",
       "    }\n",
       "\n",
       "    .dataframe thead th {\n",
       "        text-align: right;\n",
       "    }\n",
       "</style>\n",
       "<table border=\"1\" class=\"dataframe\">\n",
       "  <thead>\n",
       "    <tr style=\"text-align: right;\">\n",
       "      <th></th>\n",
       "      <th>sentiment</th>\n",
       "      <th>message</th>\n",
       "      <th>tweetid</th>\n",
       "      <th>clean_message</th>\n",
       "    </tr>\n",
       "  </thead>\n",
       "  <tbody>\n",
       "    <tr>\n",
       "      <th>0</th>\n",
       "      <td>1</td>\n",
       "      <td>PolySciMajor EPA chief doesn't think carbon dioxide is main cause of global warming and.. wait, what!? https://t.co/yeLvcEFXkC via @mashable</td>\n",
       "      <td>625221</td>\n",
       "      <td>PolySciMajor EPA chief think carbon dioxide main cause global warming and.. wait, what!? https://t.co/yeLvcEFXkC via @mashable</td>\n",
       "    </tr>\n",
       "    <tr>\n",
       "      <th>1</th>\n",
       "      <td>1</td>\n",
       "      <td>It's not like we lack evidence of anthropogenic global warming</td>\n",
       "      <td>126103</td>\n",
       "      <td>like lack evidence anthropogenic global warming</td>\n",
       "    </tr>\n",
       "    <tr>\n",
       "      <th>2</th>\n",
       "      <td>2</td>\n",
       "      <td>RT @RawStory: Researchers say we have three years to act on climate change before it’s too late https://t.co/WdT0KdUr2f https://t.co/Z0ANPT…</td>\n",
       "      <td>698562</td>\n",
       "      <td>RT @RawStory: Researchers say three years act climate change it’s late https://t.co/WdT0KdUr2f https://t.co/Z0ANPT…</td>\n",
       "    </tr>\n",
       "    <tr>\n",
       "      <th>3</th>\n",
       "      <td>1</td>\n",
       "      <td>#TodayinMaker# WIRED : 2016 was a pivotal year in the war on climate change https://t.co/44wOTxTLcD</td>\n",
       "      <td>573736</td>\n",
       "      <td>#TodayinMaker# WIRED : 2016 pivotal year war climate change https://t.co/44wOTxTLcD</td>\n",
       "    </tr>\n",
       "    <tr>\n",
       "      <th>4</th>\n",
       "      <td>1</td>\n",
       "      <td>RT @SoyNovioDeTodas: It's 2016, and a racist, sexist, climate change denying bigot is leading in the polls. #ElectionNight</td>\n",
       "      <td>466954</td>\n",
       "      <td>RT @SoyNovioDeTodas: 2016, racist, sexist, climate change denying bigot leading polls. #ElectionNight</td>\n",
       "    </tr>\n",
       "  </tbody>\n",
       "</table>\n",
       "</div>"
      ],
      "text/plain": [
       "   sentiment   \n",
       "0          1  \\\n",
       "1          1   \n",
       "2          2   \n",
       "3          1   \n",
       "4          1   \n",
       "\n",
       "                                                                                                                                        message   \n",
       "0  PolySciMajor EPA chief doesn't think carbon dioxide is main cause of global warming and.. wait, what!? https://t.co/yeLvcEFXkC via @mashable  \\\n",
       "1                                                                                It's not like we lack evidence of anthropogenic global warming   \n",
       "2  RT @RawStory: Researchers say we have three years to act on climate change before it’s too late https://t.co/WdT0KdUr2f https://t.co/Z0ANPT…   \n",
       "3                                           #TodayinMaker# WIRED : 2016 was a pivotal year in the war on climate change https://t.co/44wOTxTLcD   \n",
       "4                    RT @SoyNovioDeTodas: It's 2016, and a racist, sexist, climate change denying bigot is leading in the polls. #ElectionNight   \n",
       "\n",
       "   tweetid   \n",
       "0   625221  \\\n",
       "1   126103   \n",
       "2   698562   \n",
       "3   573736   \n",
       "4   466954   \n",
       "\n",
       "                                                                                                                    clean_message  \n",
       "0  PolySciMajor EPA chief think carbon dioxide main cause global warming and.. wait, what!? https://t.co/yeLvcEFXkC via @mashable  \n",
       "1                                                                                 like lack evidence anthropogenic global warming  \n",
       "2             RT @RawStory: Researchers say three years act climate change it’s late https://t.co/WdT0KdUr2f https://t.co/Z0ANPT…  \n",
       "3                                             #TodayinMaker# WIRED : 2016 pivotal year war climate change https://t.co/44wOTxTLcD  \n",
       "4                           RT @SoyNovioDeTodas: 2016, racist, sexist, climate change denying bigot leading polls. #ElectionNight  "
      ]
     },
     "execution_count": 10,
     "metadata": {},
     "output_type": "execute_result"
    }
   ],
   "source": [
    "# Add clean_texts to the dataframe\n",
    "df_train['clean_message'] = clean_texts\n",
    "df_train.head()"
   ]
  },
  {
   "cell_type": "markdown",
   "metadata": {},
   "source": [
    "**QUESTION**\n",
    "Should we drop the original message column at this point? Or would it be useful for future reference?"
   ]
  },
  {
   "cell_type": "markdown",
   "metadata": {},
   "source": [
    "**REMOVE URLS**"
   ]
  },
  {
   "cell_type": "code",
   "execution_count": 11,
   "metadata": {},
   "outputs": [],
   "source": [
    "#Remove urls and replace with 'url'\n",
    " \n",
    "pattern_url = r'http[s]?://(?:[A-Za-z]|[0-9]|[$-_@.&+]|[!*\\(\\),]|(?:%[0-9A-Fa-f][0-9A-Fa-f]))+'\n",
    "\n",
    "subs_url = r'url'\n",
    "\n",
    "df_train['clean_message'] = df_train['clean_message'].replace(to_replace = pattern_url, value = subs_url, regex = True)"
   ]
  },
  {
   "cell_type": "code",
   "execution_count": 13,
   "metadata": {},
   "outputs": [
    {
     "data": {
      "text/plain": [
       "'RT @RawStory: Researchers say three years act climate change it’s late url url…'"
      ]
     },
     "execution_count": 13,
     "metadata": {},
     "output_type": "execute_result"
    }
   ],
   "source": [
    "df_train['clean_message'].iloc[2]"
   ]
  },
  {
   "cell_type": "markdown",
   "metadata": {},
   "source": [
    "**REMOVE PUNCTUATIONS**"
   ]
  },
  {
   "cell_type": "code",
   "execution_count": 14,
   "metadata": {},
   "outputs": [
    {
     "name": "stdout",
     "output_type": "stream",
     "text": [
      "!\"#$%&'()*+,-./:;<=>?@[\\]^_`{|}~\n"
     ]
    }
   ],
   "source": [
    "#Convert message to lower case\n",
    "df_train['clean_message'] = df_train['clean_message'].str.lower()\n",
    "\n",
    "print(string.punctuation)"
   ]
  },
  {
   "cell_type": "code",
   "execution_count": 15,
   "metadata": {},
   "outputs": [
    {
     "data": {
      "text/plain": [
       "'rt paigetweedy offense… like… believe… global warming………'"
      ]
     },
     "execution_count": 15,
     "metadata": {},
     "output_type": "execute_result"
    }
   ],
   "source": [
    "def remove_punctuation(message):\n",
    "    return ''.join([l for l in message if l not in string.punctuation])\n",
    "\n",
    "\n",
    "df_train['clean_message'] = df_train['clean_message'].apply(remove_punctuation)\n",
    "df_train['clean_message'].iloc[9]"
   ]
  },
  {
   "cell_type": "code",
   "execution_count": 16,
   "metadata": {},
   "outputs": [
    {
     "data": {
      "text/plain": [
       "'rt rawstory researchers say three years act climate change it’s late url url…'"
      ]
     },
     "execution_count": 16,
     "metadata": {},
     "output_type": "execute_result"
    }
   ],
   "source": [
    "df_train['clean_message'].iloc[2]"
   ]
  },
  {
   "cell_type": "markdown",
   "metadata": {},
   "source": [
    "Despite removing puntuations, we still observe some curly quotation marks (’) and repeated punctuations (.....).\n",
    "\n",
    "Let's deal with these using regular expression(regex)"
   ]
  },
  {
   "cell_type": "code",
   "execution_count": 17,
   "metadata": {},
   "outputs": [
    {
     "data": {
      "text/plain": [
       "'rt rawstory researchers say three years act climate change its late url url'"
      ]
     },
     "execution_count": 17,
     "metadata": {},
     "output_type": "execute_result"
    }
   ],
   "source": [
    "def clean_text(text):\n",
    "    text = re.sub(r'[^\\w\\s\"“”]', '', text)  # Remove non-alphanumeric characters and curly quotation marks\n",
    "    text = re.sub(r'\\s+', ' ', text)  # Remove extra whitespaces\n",
    "    text = re.sub(r'([!?.])\\1+', r'\\1', text)  # Remove repeated punctuation marks\n",
    "    return text.strip()\n",
    "\n",
    "# Apply the clean_text function to the 'message' column\n",
    "df_train['clean_message'] = df_train['clean_message'].apply(clean_text)\n",
    "df_train['clean_message'].iloc[2]"
   ]
  },
  {
   "cell_type": "code",
   "execution_count": 18,
   "metadata": {},
   "outputs": [
    {
     "data": {
      "text/plain": [
       "'rt paigetweedy offense like believe global warming'"
      ]
     },
     "execution_count": 18,
     "metadata": {},
     "output_type": "execute_result"
    }
   ],
   "source": [
    "df_train['clean_message'].iloc[9]"
   ]
  },
  {
   "cell_type": "markdown",
   "metadata": {},
   "source": [
    "Looks like our data has been delivered of every noise......."
   ]
  },
  {
   "cell_type": "markdown",
   "metadata": {},
   "source": [
    "### **DATA NORMALIZATION**\n",
    "\n",
    "**TOKENIZATION**"
   ]
  },
  {
   "cell_type": "code",
   "execution_count": 19,
   "metadata": {},
   "outputs": [],
   "source": [
    "from nltk.tokenize import word_tokenize, TreebankWordTokenizer\n",
    "\n",
    "tokeniser = TreebankWordTokenizer()\n",
    "df_train['tokens'] = df_train['clean_message'].apply(tokeniser.tokenize)"
   ]
  },
  {
   "cell_type": "code",
   "execution_count": 20,
   "metadata": {},
   "outputs": [
    {
     "data": {
      "text/plain": [
       "['rt',\n",
       " 'rawstory',\n",
       " 'researchers',\n",
       " 'say',\n",
       " 'three',\n",
       " 'years',\n",
       " 'act',\n",
       " 'climate',\n",
       " 'change',\n",
       " 'its',\n",
       " 'late',\n",
       " 'url',\n",
       " 'url']"
      ]
     },
     "execution_count": 20,
     "metadata": {},
     "output_type": "execute_result"
    }
   ],
   "source": [
    "df_train['tokens'].iloc[2]"
   ]
  },
  {
   "cell_type": "markdown",
   "metadata": {},
   "source": [
    "**STEMMING**"
   ]
  },
  {
   "cell_type": "code",
   "execution_count": 21,
   "metadata": {},
   "outputs": [],
   "source": [
    "from nltk import SnowballStemmer, PorterStemmer, LancasterStemmer\n",
    "\n",
    "stemmer = SnowballStemmer('english')"
   ]
  },
  {
   "cell_type": "code",
   "execution_count": 23,
   "metadata": {},
   "outputs": [],
   "source": [
    "def df_train_stemmer(words, stemmer):\n",
    "    return [stemmer.stem(word) for word in words]"
   ]
  },
  {
   "cell_type": "code",
   "execution_count": 24,
   "metadata": {},
   "outputs": [],
   "source": [
    "#Apply stemming function\n",
    "df_train['stem'] = df_train['tokens'].apply(df_train_stemmer, args=(stemmer, ))"
   ]
  },
  {
   "cell_type": "code",
   "execution_count": 25,
   "metadata": {},
   "outputs": [
    {
     "name": "stdout",
     "output_type": "stream",
     "text": [
      "rt                   --> rt        \n",
      "rawstory             --> rawstori  \n",
      "researchers          --> research  \n",
      "say                  --> say       \n",
      "three                --> three     \n",
      "years                --> year      \n",
      "act                  --> act       \n",
      "climate              --> climat    \n",
      "change               --> chang     \n",
      "its                  --> it        \n",
      "late                 --> late      \n",
      "url                  --> url       \n",
      "url                  --> url       \n"
     ]
    }
   ],
   "source": [
    "for i, t in enumerate(df_train.iloc[2]['tokens']):    \n",
    "    print ('{:20s} --> {:10s}'.format(t, df_train.iloc[2]['stem'][i]))"
   ]
  },
  {
   "cell_type": "code",
   "execution_count": 26,
   "metadata": {},
   "outputs": [
    {
     "data": {
      "text/html": [
       "<div>\n",
       "<style scoped>\n",
       "    .dataframe tbody tr th:only-of-type {\n",
       "        vertical-align: middle;\n",
       "    }\n",
       "\n",
       "    .dataframe tbody tr th {\n",
       "        vertical-align: top;\n",
       "    }\n",
       "\n",
       "    .dataframe thead th {\n",
       "        text-align: right;\n",
       "    }\n",
       "</style>\n",
       "<table border=\"1\" class=\"dataframe\">\n",
       "  <thead>\n",
       "    <tr style=\"text-align: right;\">\n",
       "      <th></th>\n",
       "      <th>sentiment</th>\n",
       "      <th>message</th>\n",
       "      <th>tweetid</th>\n",
       "      <th>clean_message</th>\n",
       "      <th>tokens</th>\n",
       "      <th>stem</th>\n",
       "    </tr>\n",
       "  </thead>\n",
       "  <tbody>\n",
       "    <tr>\n",
       "      <th>0</th>\n",
       "      <td>1</td>\n",
       "      <td>PolySciMajor EPA chief doesn't think carbon dioxide is main cause of global warming and.. wait, what!? https://t.co/yeLvcEFXkC via @mashable</td>\n",
       "      <td>625221</td>\n",
       "      <td>polyscimajor epa chief think carbon dioxide main cause global warming and wait what url via mashable</td>\n",
       "      <td>[polyscimajor, epa, chief, think, carbon, dioxide, main, cause, global, warming, and, wait, what, url, via, mashable]</td>\n",
       "      <td>[polyscimajor, epa, chief, think, carbon, dioxid, main, caus, global, warm, and, wait, what, url, via, mashabl]</td>\n",
       "    </tr>\n",
       "    <tr>\n",
       "      <th>1</th>\n",
       "      <td>1</td>\n",
       "      <td>It's not like we lack evidence of anthropogenic global warming</td>\n",
       "      <td>126103</td>\n",
       "      <td>like lack evidence anthropogenic global warming</td>\n",
       "      <td>[like, lack, evidence, anthropogenic, global, warming]</td>\n",
       "      <td>[like, lack, evid, anthropogen, global, warm]</td>\n",
       "    </tr>\n",
       "    <tr>\n",
       "      <th>2</th>\n",
       "      <td>2</td>\n",
       "      <td>RT @RawStory: Researchers say we have three years to act on climate change before it’s too late https://t.co/WdT0KdUr2f https://t.co/Z0ANPT…</td>\n",
       "      <td>698562</td>\n",
       "      <td>rt rawstory researchers say three years act climate change its late url url</td>\n",
       "      <td>[rt, rawstory, researchers, say, three, years, act, climate, change, its, late, url, url]</td>\n",
       "      <td>[rt, rawstori, research, say, three, year, act, climat, chang, it, late, url, url]</td>\n",
       "    </tr>\n",
       "    <tr>\n",
       "      <th>3</th>\n",
       "      <td>1</td>\n",
       "      <td>#TodayinMaker# WIRED : 2016 was a pivotal year in the war on climate change https://t.co/44wOTxTLcD</td>\n",
       "      <td>573736</td>\n",
       "      <td>todayinmaker wired 2016 pivotal year war climate change url</td>\n",
       "      <td>[todayinmaker, wired, 2016, pivotal, year, war, climate, change, url]</td>\n",
       "      <td>[todayinmak, wire, 2016, pivot, year, war, climat, chang, url]</td>\n",
       "    </tr>\n",
       "    <tr>\n",
       "      <th>4</th>\n",
       "      <td>1</td>\n",
       "      <td>RT @SoyNovioDeTodas: It's 2016, and a racist, sexist, climate change denying bigot is leading in the polls. #ElectionNight</td>\n",
       "      <td>466954</td>\n",
       "      <td>rt soynoviodetodas 2016 racist sexist climate change denying bigot leading polls electionnight</td>\n",
       "      <td>[rt, soynoviodetodas, 2016, racist, sexist, climate, change, denying, bigot, leading, polls, electionnight]</td>\n",
       "      <td>[rt, soynoviodetoda, 2016, racist, sexist, climat, chang, deni, bigot, lead, poll, electionnight]</td>\n",
       "    </tr>\n",
       "  </tbody>\n",
       "</table>\n",
       "</div>"
      ],
      "text/plain": [
       "   sentiment   \n",
       "0          1  \\\n",
       "1          1   \n",
       "2          2   \n",
       "3          1   \n",
       "4          1   \n",
       "\n",
       "                                                                                                                                        message   \n",
       "0  PolySciMajor EPA chief doesn't think carbon dioxide is main cause of global warming and.. wait, what!? https://t.co/yeLvcEFXkC via @mashable  \\\n",
       "1                                                                                It's not like we lack evidence of anthropogenic global warming   \n",
       "2  RT @RawStory: Researchers say we have three years to act on climate change before it’s too late https://t.co/WdT0KdUr2f https://t.co/Z0ANPT…   \n",
       "3                                           #TodayinMaker# WIRED : 2016 was a pivotal year in the war on climate change https://t.co/44wOTxTLcD   \n",
       "4                    RT @SoyNovioDeTodas: It's 2016, and a racist, sexist, climate change denying bigot is leading in the polls. #ElectionNight   \n",
       "\n",
       "   tweetid   \n",
       "0   625221  \\\n",
       "1   126103   \n",
       "2   698562   \n",
       "3   573736   \n",
       "4   466954   \n",
       "\n",
       "                                                                                          clean_message   \n",
       "0  polyscimajor epa chief think carbon dioxide main cause global warming and wait what url via mashable  \\\n",
       "1                                                       like lack evidence anthropogenic global warming   \n",
       "2                           rt rawstory researchers say three years act climate change its late url url   \n",
       "3                                           todayinmaker wired 2016 pivotal year war climate change url   \n",
       "4        rt soynoviodetodas 2016 racist sexist climate change denying bigot leading polls electionnight   \n",
       "\n",
       "                                                                                                                  tokens   \n",
       "0  [polyscimajor, epa, chief, think, carbon, dioxide, main, cause, global, warming, and, wait, what, url, via, mashable]  \\\n",
       "1                                                                 [like, lack, evidence, anthropogenic, global, warming]   \n",
       "2                              [rt, rawstory, researchers, say, three, years, act, climate, change, its, late, url, url]   \n",
       "3                                                  [todayinmaker, wired, 2016, pivotal, year, war, climate, change, url]   \n",
       "4            [rt, soynoviodetodas, 2016, racist, sexist, climate, change, denying, bigot, leading, polls, electionnight]   \n",
       "\n",
       "                                                                                                              stem  \n",
       "0  [polyscimajor, epa, chief, think, carbon, dioxid, main, caus, global, warm, and, wait, what, url, via, mashabl]  \n",
       "1                                                                    [like, lack, evid, anthropogen, global, warm]  \n",
       "2                               [rt, rawstori, research, say, three, year, act, climat, chang, it, late, url, url]  \n",
       "3                                                   [todayinmak, wire, 2016, pivot, year, war, climat, chang, url]  \n",
       "4                [rt, soynoviodetoda, 2016, racist, sexist, climat, chang, deni, bigot, lead, poll, electionnight]  "
      ]
     },
     "execution_count": 26,
     "metadata": {},
     "output_type": "execute_result"
    }
   ],
   "source": [
    "df_train.head()"
   ]
  },
  {
   "cell_type": "markdown",
   "metadata": {},
   "source": [
    "### **Lemmatization**"
   ]
  },
  {
   "cell_type": "code",
   "execution_count": 28,
   "metadata": {},
   "outputs": [],
   "source": [
    "from nltk.stem import WordNetLemmatizer\n",
    "\n",
    "lemmatizer = WordNetLemmatizer()"
   ]
  },
  {
   "cell_type": "code",
   "execution_count": 29,
   "metadata": {},
   "outputs": [],
   "source": [
    "def df_train_lemma(words, lemmatizer):\n",
    "    return [lemmatizer.lemmatize(word) for word in words]  "
   ]
  },
  {
   "cell_type": "code",
   "execution_count": 30,
   "metadata": {},
   "outputs": [],
   "source": [
    "#Apply Lemmatization function\n",
    "df_train['lemma'] = df_train['tokens'].apply(df_train_lemma, args=(lemmatizer, ))"
   ]
  },
  {
   "cell_type": "code",
   "execution_count": 32,
   "metadata": {},
   "outputs": [
    {
     "name": "stdout",
     "output_type": "stream",
     "text": [
      "rt                   --> rt        \n",
      "rawstory             --> rawstory  \n",
      "researchers          --> researcher\n",
      "say                  --> say       \n",
      "three                --> three     \n",
      "years                --> year      \n",
      "act                  --> act       \n",
      "climate              --> climate   \n",
      "change               --> change    \n",
      "its                  --> it        \n",
      "late                 --> late      \n",
      "url                  --> url       \n",
      "url                  --> url       \n"
     ]
    }
   ],
   "source": [
    "for i, t in enumerate(df_train.iloc[2]['tokens']):    \n",
    "    print ('{:20s} --> {:10s}'.format(t, df_train.iloc[2]['lemma'][i]))"
   ]
  },
  {
   "cell_type": "code",
   "execution_count": 31,
   "metadata": {},
   "outputs": [
    {
     "data": {
      "text/html": [
       "<div>\n",
       "<style scoped>\n",
       "    .dataframe tbody tr th:only-of-type {\n",
       "        vertical-align: middle;\n",
       "    }\n",
       "\n",
       "    .dataframe tbody tr th {\n",
       "        vertical-align: top;\n",
       "    }\n",
       "\n",
       "    .dataframe thead th {\n",
       "        text-align: right;\n",
       "    }\n",
       "</style>\n",
       "<table border=\"1\" class=\"dataframe\">\n",
       "  <thead>\n",
       "    <tr style=\"text-align: right;\">\n",
       "      <th></th>\n",
       "      <th>sentiment</th>\n",
       "      <th>message</th>\n",
       "      <th>tweetid</th>\n",
       "      <th>clean_message</th>\n",
       "      <th>tokens</th>\n",
       "      <th>stem</th>\n",
       "      <th>lemma</th>\n",
       "    </tr>\n",
       "  </thead>\n",
       "  <tbody>\n",
       "    <tr>\n",
       "      <th>0</th>\n",
       "      <td>1</td>\n",
       "      <td>PolySciMajor EPA chief doesn't think carbon dioxide is main cause of global warming and.. wait, what!? https://t.co/yeLvcEFXkC via @mashable</td>\n",
       "      <td>625221</td>\n",
       "      <td>polyscimajor epa chief think carbon dioxide main cause global warming and wait what url via mashable</td>\n",
       "      <td>[polyscimajor, epa, chief, think, carbon, dioxide, main, cause, global, warming, and, wait, what, url, via, mashable]</td>\n",
       "      <td>[polyscimajor, epa, chief, think, carbon, dioxid, main, caus, global, warm, and, wait, what, url, via, mashabl]</td>\n",
       "      <td>[polyscimajor, epa, chief, think, carbon, dioxide, main, cause, global, warming, and, wait, what, url, via, mashable]</td>\n",
       "    </tr>\n",
       "    <tr>\n",
       "      <th>1</th>\n",
       "      <td>1</td>\n",
       "      <td>It's not like we lack evidence of anthropogenic global warming</td>\n",
       "      <td>126103</td>\n",
       "      <td>like lack evidence anthropogenic global warming</td>\n",
       "      <td>[like, lack, evidence, anthropogenic, global, warming]</td>\n",
       "      <td>[like, lack, evid, anthropogen, global, warm]</td>\n",
       "      <td>[like, lack, evidence, anthropogenic, global, warming]</td>\n",
       "    </tr>\n",
       "    <tr>\n",
       "      <th>2</th>\n",
       "      <td>2</td>\n",
       "      <td>RT @RawStory: Researchers say we have three years to act on climate change before it’s too late https://t.co/WdT0KdUr2f https://t.co/Z0ANPT…</td>\n",
       "      <td>698562</td>\n",
       "      <td>rt rawstory researchers say three years act climate change its late url url</td>\n",
       "      <td>[rt, rawstory, researchers, say, three, years, act, climate, change, its, late, url, url]</td>\n",
       "      <td>[rt, rawstori, research, say, three, year, act, climat, chang, it, late, url, url]</td>\n",
       "      <td>[rt, rawstory, researcher, say, three, year, act, climate, change, it, late, url, url]</td>\n",
       "    </tr>\n",
       "    <tr>\n",
       "      <th>3</th>\n",
       "      <td>1</td>\n",
       "      <td>#TodayinMaker# WIRED : 2016 was a pivotal year in the war on climate change https://t.co/44wOTxTLcD</td>\n",
       "      <td>573736</td>\n",
       "      <td>todayinmaker wired 2016 pivotal year war climate change url</td>\n",
       "      <td>[todayinmaker, wired, 2016, pivotal, year, war, climate, change, url]</td>\n",
       "      <td>[todayinmak, wire, 2016, pivot, year, war, climat, chang, url]</td>\n",
       "      <td>[todayinmaker, wired, 2016, pivotal, year, war, climate, change, url]</td>\n",
       "    </tr>\n",
       "    <tr>\n",
       "      <th>4</th>\n",
       "      <td>1</td>\n",
       "      <td>RT @SoyNovioDeTodas: It's 2016, and a racist, sexist, climate change denying bigot is leading in the polls. #ElectionNight</td>\n",
       "      <td>466954</td>\n",
       "      <td>rt soynoviodetodas 2016 racist sexist climate change denying bigot leading polls electionnight</td>\n",
       "      <td>[rt, soynoviodetodas, 2016, racist, sexist, climate, change, denying, bigot, leading, polls, electionnight]</td>\n",
       "      <td>[rt, soynoviodetoda, 2016, racist, sexist, climat, chang, deni, bigot, lead, poll, electionnight]</td>\n",
       "      <td>[rt, soynoviodetodas, 2016, racist, sexist, climate, change, denying, bigot, leading, poll, electionnight]</td>\n",
       "    </tr>\n",
       "  </tbody>\n",
       "</table>\n",
       "</div>"
      ],
      "text/plain": [
       "   sentiment   \n",
       "0          1  \\\n",
       "1          1   \n",
       "2          2   \n",
       "3          1   \n",
       "4          1   \n",
       "\n",
       "                                                                                                                                        message   \n",
       "0  PolySciMajor EPA chief doesn't think carbon dioxide is main cause of global warming and.. wait, what!? https://t.co/yeLvcEFXkC via @mashable  \\\n",
       "1                                                                                It's not like we lack evidence of anthropogenic global warming   \n",
       "2  RT @RawStory: Researchers say we have three years to act on climate change before it’s too late https://t.co/WdT0KdUr2f https://t.co/Z0ANPT…   \n",
       "3                                           #TodayinMaker# WIRED : 2016 was a pivotal year in the war on climate change https://t.co/44wOTxTLcD   \n",
       "4                    RT @SoyNovioDeTodas: It's 2016, and a racist, sexist, climate change denying bigot is leading in the polls. #ElectionNight   \n",
       "\n",
       "   tweetid   \n",
       "0   625221  \\\n",
       "1   126103   \n",
       "2   698562   \n",
       "3   573736   \n",
       "4   466954   \n",
       "\n",
       "                                                                                          clean_message   \n",
       "0  polyscimajor epa chief think carbon dioxide main cause global warming and wait what url via mashable  \\\n",
       "1                                                       like lack evidence anthropogenic global warming   \n",
       "2                           rt rawstory researchers say three years act climate change its late url url   \n",
       "3                                           todayinmaker wired 2016 pivotal year war climate change url   \n",
       "4        rt soynoviodetodas 2016 racist sexist climate change denying bigot leading polls electionnight   \n",
       "\n",
       "                                                                                                                  tokens   \n",
       "0  [polyscimajor, epa, chief, think, carbon, dioxide, main, cause, global, warming, and, wait, what, url, via, mashable]  \\\n",
       "1                                                                 [like, lack, evidence, anthropogenic, global, warming]   \n",
       "2                              [rt, rawstory, researchers, say, three, years, act, climate, change, its, late, url, url]   \n",
       "3                                                  [todayinmaker, wired, 2016, pivotal, year, war, climate, change, url]   \n",
       "4            [rt, soynoviodetodas, 2016, racist, sexist, climate, change, denying, bigot, leading, polls, electionnight]   \n",
       "\n",
       "                                                                                                              stem   \n",
       "0  [polyscimajor, epa, chief, think, carbon, dioxid, main, caus, global, warm, and, wait, what, url, via, mashabl]  \\\n",
       "1                                                                    [like, lack, evid, anthropogen, global, warm]   \n",
       "2                               [rt, rawstori, research, say, three, year, act, climat, chang, it, late, url, url]   \n",
       "3                                                   [todayinmak, wire, 2016, pivot, year, war, climat, chang, url]   \n",
       "4                [rt, soynoviodetoda, 2016, racist, sexist, climat, chang, deni, bigot, lead, poll, electionnight]   \n",
       "\n",
       "                                                                                                                   lemma  \n",
       "0  [polyscimajor, epa, chief, think, carbon, dioxide, main, cause, global, warming, and, wait, what, url, via, mashable]  \n",
       "1                                                                 [like, lack, evidence, anthropogenic, global, warming]  \n",
       "2                                 [rt, rawstory, researcher, say, three, year, act, climate, change, it, late, url, url]  \n",
       "3                                                  [todayinmaker, wired, 2016, pivotal, year, war, climate, change, url]  \n",
       "4             [rt, soynoviodetodas, 2016, racist, sexist, climate, change, denying, bigot, leading, poll, electionnight]  "
      ]
     },
     "execution_count": 31,
     "metadata": {},
     "output_type": "execute_result"
    }
   ],
   "source": [
    "df_train.head()"
   ]
  },
  {
   "cell_type": "code",
   "execution_count": null,
   "metadata": {},
   "outputs": [],
   "source": [
    "#DROP MESSAGE COLUMN\n",
    "\n",
    "#df_train = df_train.drop(['message'], axis = 1)"
   ]
  },
  {
   "cell_type": "code",
   "execution_count": null,
   "metadata": {},
   "outputs": [],
   "source": []
  },
  {
   "cell_type": "code",
   "execution_count": null,
   "metadata": {},
   "outputs": [],
   "source": []
  },
  {
   "cell_type": "markdown",
   "metadata": {},
   "source": [
    "## **EDA**\n",
    "\n",
    "### **TEXT FEATURE EXTRACTION**\n",
    "\n",
    "**BAG OF WORDS**"
   ]
  },
  {
   "cell_type": "code",
   "execution_count": null,
   "metadata": {},
   "outputs": [],
   "source": []
  },
  {
   "cell_type": "code",
   "execution_count": null,
   "metadata": {},
   "outputs": [],
   "source": [
    "# type_labels = list(mbti.type.unique()) \n",
    "\n",
    "# personality = {}\n",
    "# for pp in type_labels:\n",
    "#     df = all_mbti.groupby('type')\n",
    "#     personality[pp] = {} \n",
    "#     for row in df.get_group(pp)['tokens']:\n",
    "#         personality[pp] = bag_of_words_count(row, personality[pp])  "
   ]
  },
  {
   "cell_type": "code",
   "execution_count": null,
   "metadata": {},
   "outputs": [],
   "source": [
    "sentiment_labels = list(df.sentiment.unique()) #retrieves the unique values of the 'sentiment' column\n",
    "\n",
    "category = {} #initializes an empty dictionary to store the sentiment categories and their corresponding word counts\n",
    "for ct in sentiment_labels_labels:\n",
    "    df_bow = df.groupby('sentiment') # groups the DataFrame by the 'sentiment' column\n",
    "    category[ct] = {} #initializes an empty dictionary within the personality dictionary for the current personality type\n",
    "    for row in df_bow.get_group(ct)['tokens']:\n",
    "        category[ct] = bag_of_words_count(row, category[ct])  "
   ]
  },
  {
   "cell_type": "code",
   "execution_count": null,
   "metadata": {},
   "outputs": [],
   "source": [
    "all_words = set()\n",
    "for ct in sentiment_labels:\n",
    "    for word in category[ct]:\n",
    "        all_words.add(word)"
   ]
  },
  {
   "cell_type": "code",
   "execution_count": null,
   "metadata": {},
   "outputs": [],
   "source": [
    "# personality['all'] = {}\n",
    "# for pp in type_labels:    \n",
    "#     for word in all_words:\n",
    "#         if word in personality[pp].keys():\n",
    "#             if word in personality['all']:\n",
    "#                 personality['all'][word] += personality[pp][word]\n",
    "#             else:\n",
    "#                 personality['all'][word] = personality[pp][word]"
   ]
  },
  {
   "cell_type": "code",
   "execution_count": null,
   "metadata": {},
   "outputs": [],
   "source": []
  },
  {
   "cell_type": "code",
   "execution_count": null,
   "metadata": {},
   "outputs": [],
   "source": []
  },
  {
   "cell_type": "markdown",
   "metadata": {},
   "source": [
    "N-grams"
   ]
  },
  {
   "cell_type": "code",
   "execution_count": 39,
   "metadata": {},
   "outputs": [],
   "source": [
    "from nltk.util import ngrams"
   ]
  },
  {
   "cell_type": "code",
   "execution_count": 40,
   "metadata": {},
   "outputs": [
    {
     "name": "stdout",
     "output_type": "stream",
     "text": [
      "8\n"
     ]
    }
   ],
   "source": [
    "ngram = [x for x in ngrams('Classification is a great machine learning technique to learn'.split(' '), 2)]\n",
    "print(len(ngram))"
   ]
  },
  {
   "cell_type": "code",
   "execution_count": null,
   "metadata": {},
   "outputs": [],
   "source": [
    "# or\n",
    "# # Sample code to remove noisy words from a text\n",
    "\n",
    "# noise_list = [\"is\", \"a\", \"this\", \"...\"] \n",
    "# def _remove_noise(input_text):\n",
    "#     words = input_text.split() \n",
    "#     noise_free_words = [word for word in words if word not in noise_list] \n",
    "#     noise_free_text = \" \".join(noise_free_words) \n",
    "#     return noise_free_text\n",
    "\n",
    "# print(_remove_noise(\"this is a sample text\"))"
   ]
  },
  {
   "cell_type": "code",
   "execution_count": null,
   "metadata": {},
   "outputs": [],
   "source": []
  }
 ],
 "metadata": {
  "kernelspec": {
   "display_name": "Python 3 (ipykernel)",
   "language": "python",
   "name": "python3"
  },
  "language_info": {
   "codemirror_mode": {
    "name": "ipython",
    "version": 3
   },
   "file_extension": ".py",
   "mimetype": "text/x-python",
   "name": "python",
   "nbconvert_exporter": "python",
   "pygments_lexer": "ipython3",
   "version": "3.9.13"
  }
 },
 "nbformat": 4,
 "nbformat_minor": 2
}
