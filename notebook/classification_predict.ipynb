{
 "cells": [
  {
   "cell_type": "markdown",
   "id": "9febbe29",
   "metadata": {},
   "source": [
    "# Super Classy"
   ]
  },
  {
   "cell_type": "markdown",
   "id": "78e0e05e",
   "metadata": {},
   "source": [
    "## Team Members:  \n",
    "- Katlego Thobye\n",
    "- Njabulo Nxumalo\n",
    "- Thato Matlou\n",
    "- Seema Masekwameng\n",
    "- Khuthadzo Mamushiana\n",
    "- Matlala Nyama\n",
    "- Lerato Ntoene"
   ]
  },
  {
   "cell_type": "markdown",
   "id": "b49d15c3",
   "metadata": {},
   "source": [
    "Companies would like to determine how people perceive climate change and whether or not they believe it is a real threat. \n",
    "Our mission is to deliver a precise and durable solution to this objective, granting companies the ability to tap into a wide range of consumer sentiments across various demographics and geographic regions. This, in turn, enhances their understanding and empowers them to shape future marketing strategies based on valuable insights."
   ]
  },
  {
   "cell_type": "code",
   "execution_count": null,
   "id": "ebba640c",
   "metadata": {},
   "outputs": [],
   "source": [
    "\n"
   ]
  },
  {
   "cell_type": "markdown",
   "id": "b49317fb",
   "metadata": {},
   "source": []
  }
 ],
 "metadata": {
  "kernelspec": {
   "display_name": "Python 3 (ipykernel)",
   "language": "python",
   "name": "python3"
  },
  "language_info": {
   "codemirror_mode": {
    "name": "ipython",
    "version": 3
   },
   "file_extension": ".py",
   "mimetype": "text/x-python",
   "name": "python",
   "nbconvert_exporter": "python",
   "pygments_lexer": "ipython3",
   "version": "3.9.13"
  }
 },
 "nbformat": 4,
 "nbformat_minor": 5
}
