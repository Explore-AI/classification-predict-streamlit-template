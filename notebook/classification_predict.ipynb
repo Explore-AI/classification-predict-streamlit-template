{
 "cells": [
  {
   "attachments": {},
   "cell_type": "markdown",
   "id": "9febbe29",
   "metadata": {},
   "source": [
    "# Super Classy"
   ]
  },
  {
   "attachments": {},
   "cell_type": "markdown",
   "id": "78e0e05e",
   "metadata": {},
   "source": [
    "## Team Members:  \n",
    "-Katlego \n",
    "-Njabulo \n",
    "-Thato \n",
    "-Seema \n",
    "-Khuthadzo \n",
    "-Matlala \n",
    "-Lerato "
   ]
  },
  {
   "cell_type": "code",
   "execution_count": null,
   "id": "ebba640c",
   "metadata": {},
   "outputs": [],
   "source": [
    "\n"
   ]
  },
  {
   "attachments": {},
   "cell_type": "markdown",
   "id": "b49317fb",
   "metadata": {},
   "source": []
  }
 ],
 "metadata": {
  "kernelspec": {
   "display_name": "Python 3 (ipykernel)",
   "language": "python",
   "name": "python3"
  },
  "language_info": {
   "codemirror_mode": {
    "name": "ipython",
    "version": 3
   },
   "file_extension": ".py",
   "mimetype": "text/x-python",
   "name": "python",
   "nbconvert_exporter": "python",
   "pygments_lexer": "ipython3",
   "version": "3.9.13"
  }
 },
 "nbformat": 4,
 "nbformat_minor": 5
}
