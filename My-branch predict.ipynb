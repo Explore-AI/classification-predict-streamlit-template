{
 "cells": [
  {
   "cell_type": "markdown",
   "id": "bdf8d6b2",
   "metadata": {},
   "source": [
    "!pip install comet_ml"
   ]
  },
  {
   "cell_type": "code",
   "execution_count": 242,
   "id": "5cbe86cb",
   "metadata": {},
   "outputs": [
    {
     "name": "stderr",
     "output_type": "stream",
     "text": [
      "COMET INFO: ---------------------------\n",
      "COMET INFO: Comet.ml Experiment Summary\n",
      "COMET INFO: ---------------------------\n",
      "COMET INFO:   Data:\n",
      "COMET INFO:     display_summary_level : 1\n",
      "COMET INFO:     url                   : https://www.comet.ml/keltings/climate-change-challenge-2022/7cc6b7069304473c8d6c2ea8b95c99f6\n",
      "COMET INFO:   Parameters:\n",
      "COMET INFO:     C                            : 2\n",
      "COMET INFO:     alpha                        : 1.0\n",
      "COMET INFO:     analyzer                     : word\n",
      "COMET INFO:     average                      : False\n",
      "COMET INFO:     binarize                     : 0.0\n",
      "COMET INFO:     binary                       : False\n",
      "COMET INFO:     class_prior                  : 1\n",
      "COMET INFO:     class_weight                 : 1\n",
      "COMET INFO:     cv                           : 10\n",
      "COMET INFO:     decode_error                 : strict\n",
      "COMET INFO:     dtype                        : <class 'numpy.int64'>\n",
      "COMET INFO:     dual                         : False\n",
      "COMET INFO:     early_stopping               : False\n",
      "COMET INFO:     encoding                     : utf-8\n",
      "COMET INFO:     error_score                  : nan\n",
      "COMET INFO:     estimator                    : LogisticRegression()\n",
      "COMET INFO:     estimator__C                 : 1.0\n",
      "COMET INFO:     estimator__class_weight      : 1\n",
      "COMET INFO:     estimator__dual              : False\n",
      "COMET INFO:     estimator__fit_intercept     : True\n",
      "COMET INFO:     estimator__intercept_scaling : 1\n",
      "COMET INFO:     estimator__l1_ratio          : 1\n",
      "COMET INFO:     estimator__max_iter          : 100\n",
      "COMET INFO:     estimator__multi_class       : auto\n",
      "COMET INFO:     estimator__n_jobs            : 1\n",
      "COMET INFO:     estimator__penalty           : l2\n",
      "COMET INFO:     estimator__random_state      : 1\n",
      "COMET INFO:     estimator__solver            : lbfgs\n",
      "COMET INFO:     estimator__tol               : 0.0001\n",
      "COMET INFO:     estimator__verbose           : 0\n",
      "COMET INFO:     estimator__warm_start        : False\n",
      "COMET INFO:     fit_intercept                : True\n",
      "COMET INFO:     fit_prior                    : True\n",
      "COMET INFO:     input                        : content\n",
      "COMET INFO:     intercept_scaling            : 1\n",
      "COMET INFO:     l1_ratio                     : 1\n",
      "COMET INFO:     loss                         : hinge\n",
      "COMET INFO:     lowercase                    : True\n",
      "COMET INFO:     max_df                       : 1.0\n",
      "COMET INFO:     max_features                 : 1\n",
      "COMET INFO:     max_iter                     : 1000\n",
      "COMET INFO:     min_df                       : 1\n",
      "COMET INFO:     multi_class                  : auto\n",
      "COMET INFO:     n_iter_no_change             : 5\n",
      "COMET INFO:     n_jobs                       : -1\n",
      "COMET INFO:     neg_label                    : 0\n",
      "COMET INFO:     ngram_range                  : (1, 2)\n",
      "COMET INFO:     norm                         : l2\n",
      "COMET INFO:     param_grid                   : {\"C\": [0.001, 0.01, 0.1, 1, 5, 10, 20, 50, 100]}\n",
      "COMET INFO:     penalty                      : l2\n",
      "COMET INFO:     pos_label                    : 1\n",
      "COMET INFO:     pre_dispatch                 : 2*n_jobs\n",
      "COMET INFO:     preprocessor                 : 1\n",
      "COMET INFO:     random_state                 : 1\n",
      "COMET INFO:     refit                        : True\n",
      "COMET INFO:     return_train_score           : False\n",
      "COMET INFO:     scoring                      : 1\n",
      "COMET INFO:     shuffle                      : True\n",
      "COMET INFO:     smooth_idf                   : True\n",
      "COMET INFO:     solver                       : lbfgs\n",
      "COMET INFO:     sparse_output                : False\n",
      "COMET INFO:     stop_words                   : 5\n",
      "COMET INFO:     strip_accents                : 1\n",
      "COMET INFO:     sublinear_tf                 : False\n",
      "COMET INFO:     token_pattern                : (?u)\\b\\w\\w+\\b\n",
      "COMET INFO:     tokenizer                    : 1\n",
      "COMET INFO:     tol                          : 0.0001\n",
      "COMET INFO:     use_idf                      : True\n",
      "COMET INFO:     validation_fraction          : 0.1\n",
      "COMET INFO:     verbose                      : 0\n",
      "COMET INFO:     vocabulary                   : 1\n",
      "COMET INFO:     warm_start                   : False\n",
      "COMET INFO:   Uploads:\n",
      "COMET INFO:     conda-environment-definition : 1\n",
      "COMET INFO:     conda-info                   : 1\n",
      "COMET INFO:     conda-specification          : 1\n",
      "COMET INFO:     environment details          : 1\n",
      "COMET INFO:     filename                     : 1\n",
      "COMET INFO:     git metadata                 : 1\n",
      "COMET INFO:     git-patch (uncompressed)     : 1 (12.39 MB)\n",
      "COMET INFO:     installed packages           : 1\n",
      "COMET INFO:     notebook                     : 1\n",
      "COMET INFO:     source_code                  : 1\n",
      "COMET INFO: ---------------------------\n",
      "COMET ERROR: Error sending a notification, make sure you have opted-in for notifications\n",
      "COMET WARNING: As you are running in a Jupyter environment, you will need to call `experiment.end()` when finished to ensure all metrics and code are logged before exiting.\n",
      "COMET INFO: Experiment is live on comet.ml https://www.comet.ml/keltings/climate-change-challenge-2022/f19a416167374429b8a9793cbb61c016\n",
      "\n"
     ]
    }
   ],
   "source": [
    "# Import comet_ml at the top of your file\n",
    "from comet_ml import Experiment\n",
    "\n",
    "# Create an experiment with your api key\n",
    "experiment = Experiment(\n",
    "    api_key=\"TFeUn29BbDYHxZnuv9Uy9X3R0\",\n",
    "    project_name=\"Climate_change_challenge-2022\",\n",
    "    workspace=\"keltings\",\n",
    ")"
   ]
  },
  {
   "cell_type": "markdown",
   "id": "53ce0fa8",
   "metadata": {},
   "source": [
    "! pip install wordcloud"
   ]
  },
  {
   "cell_type": "markdown",
   "id": "8541ab0f",
   "metadata": {},
   "source": [
    "###### Import Necessary Dependencies"
   ]
  },
  {
   "cell_type": "code",
   "execution_count": 243,
   "id": "02297448",
   "metadata": {},
   "outputs": [],
   "source": [
    "# utilities\n",
    "import re\n",
    "import numpy as np\n",
    "import pandas as pd\n",
    "# plotting\n",
    "import seaborn as sns\n",
    "from wordcloud import WordCloud\n",
    "import matplotlib.pyplot as plt\n",
    "# nltk\n",
    "from nltk.stem import WordNetLemmatizer\n",
    "# sklearn\n",
    "from sklearn.svm import LinearSVC\n",
    "from sklearn.naive_bayes import BernoulliNB\n",
    "from sklearn.linear_model import LogisticRegression\n",
    "from sklearn.model_selection import train_test_split\n",
    "from sklearn.feature_extraction.text import TfidfVectorizer\n",
    "from sklearn.metrics import confusion_matrix, classification_report"
   ]
  },
  {
   "cell_type": "markdown",
   "id": "0f8ca055",
   "metadata": {},
   "source": [
    "###### Read and load the dataset"
   ]
  },
  {
   "cell_type": "code",
   "execution_count": 244,
   "id": "a14192db",
   "metadata": {},
   "outputs": [
    {
     "data": {
      "text/html": [
       "<div>\n",
       "<style scoped>\n",
       "    .dataframe tbody tr th:only-of-type {\n",
       "        vertical-align: middle;\n",
       "    }\n",
       "\n",
       "    .dataframe tbody tr th {\n",
       "        vertical-align: top;\n",
       "    }\n",
       "\n",
       "    .dataframe thead th {\n",
       "        text-align: right;\n",
       "    }\n",
       "</style>\n",
       "<table border=\"1\" class=\"dataframe\">\n",
       "  <thead>\n",
       "    <tr style=\"text-align: right;\">\n",
       "      <th></th>\n",
       "      <th>message</th>\n",
       "      <th>tweetid</th>\n",
       "    </tr>\n",
       "  </thead>\n",
       "  <tbody>\n",
       "    <tr>\n",
       "      <th>0</th>\n",
       "      <td>Europe will now be looking to China to make su...</td>\n",
       "      <td>169760</td>\n",
       "    </tr>\n",
       "    <tr>\n",
       "      <th>1</th>\n",
       "      <td>Combine this with the polling of staffers re c...</td>\n",
       "      <td>35326</td>\n",
       "    </tr>\n",
       "    <tr>\n",
       "      <th>2</th>\n",
       "      <td>The scary, unimpeachable evidence that climate...</td>\n",
       "      <td>224985</td>\n",
       "    </tr>\n",
       "    <tr>\n",
       "      <th>3</th>\n",
       "      <td>@Karoli @morgfair @OsborneInk @dailykos \\nPuti...</td>\n",
       "      <td>476263</td>\n",
       "    </tr>\n",
       "    <tr>\n",
       "      <th>4</th>\n",
       "      <td>RT @FakeWillMoore: 'Female orgasms cause globa...</td>\n",
       "      <td>872928</td>\n",
       "    </tr>\n",
       "    <tr>\n",
       "      <th>...</th>\n",
       "      <td>...</td>\n",
       "      <td>...</td>\n",
       "    </tr>\n",
       "    <tr>\n",
       "      <th>10541</th>\n",
       "      <td>RT @BrittanyBohrer: Brb, writing a poem about ...</td>\n",
       "      <td>895714</td>\n",
       "    </tr>\n",
       "    <tr>\n",
       "      <th>10542</th>\n",
       "      <td>2016: the year climate change came home: Durin...</td>\n",
       "      <td>875167</td>\n",
       "    </tr>\n",
       "    <tr>\n",
       "      <th>10543</th>\n",
       "      <td>RT @loop_vanuatu: Pacific countries positive a...</td>\n",
       "      <td>78329</td>\n",
       "    </tr>\n",
       "    <tr>\n",
       "      <th>10544</th>\n",
       "      <td>RT @xanria_00018: You’re so hot, you must be t...</td>\n",
       "      <td>867455</td>\n",
       "    </tr>\n",
       "    <tr>\n",
       "      <th>10545</th>\n",
       "      <td>RT @chloebalaoing: climate change is a global ...</td>\n",
       "      <td>470892</td>\n",
       "    </tr>\n",
       "  </tbody>\n",
       "</table>\n",
       "<p>10546 rows × 2 columns</p>\n",
       "</div>"
      ],
      "text/plain": [
       "                                                 message  tweetid\n",
       "0      Europe will now be looking to China to make su...   169760\n",
       "1      Combine this with the polling of staffers re c...    35326\n",
       "2      The scary, unimpeachable evidence that climate...   224985\n",
       "3      @Karoli @morgfair @OsborneInk @dailykos \\nPuti...   476263\n",
       "4      RT @FakeWillMoore: 'Female orgasms cause globa...   872928\n",
       "...                                                  ...      ...\n",
       "10541  RT @BrittanyBohrer: Brb, writing a poem about ...   895714\n",
       "10542  2016: the year climate change came home: Durin...   875167\n",
       "10543  RT @loop_vanuatu: Pacific countries positive a...    78329\n",
       "10544  RT @xanria_00018: You’re so hot, you must be t...   867455\n",
       "10545  RT @chloebalaoing: climate change is a global ...   470892\n",
       "\n",
       "[10546 rows x 2 columns]"
      ]
     },
     "execution_count": 244,
     "metadata": {},
     "output_type": "execute_result"
    }
   ],
   "source": [
    "df = pd.read_csv('data/train.csv')\n",
    "dft = pd.read_csv('data/test_with_no_labels.csv')\n",
    "dft"
   ]
  },
  {
   "cell_type": "markdown",
   "id": "d4b9a81c",
   "metadata": {},
   "source": [
    "###### Exploratory Data Analysis "
   ]
  },
  {
   "cell_type": "markdown",
   "id": "879164d3",
   "metadata": {},
   "source": [
    "Five top records of data"
   ]
  },
  {
   "cell_type": "code",
   "execution_count": 245,
   "id": "cc89332c",
   "metadata": {},
   "outputs": [
    {
     "data": {
      "text/html": [
       "<div>\n",
       "<style scoped>\n",
       "    .dataframe tbody tr th:only-of-type {\n",
       "        vertical-align: middle;\n",
       "    }\n",
       "\n",
       "    .dataframe tbody tr th {\n",
       "        vertical-align: top;\n",
       "    }\n",
       "\n",
       "    .dataframe thead th {\n",
       "        text-align: right;\n",
       "    }\n",
       "</style>\n",
       "<table border=\"1\" class=\"dataframe\">\n",
       "  <thead>\n",
       "    <tr style=\"text-align: right;\">\n",
       "      <th></th>\n",
       "      <th>sentiment</th>\n",
       "      <th>message</th>\n",
       "      <th>tweetid</th>\n",
       "    </tr>\n",
       "  </thead>\n",
       "  <tbody>\n",
       "    <tr>\n",
       "      <th>0</th>\n",
       "      <td>1</td>\n",
       "      <td>PolySciMajor EPA chief doesn't think carbon di...</td>\n",
       "      <td>625221</td>\n",
       "    </tr>\n",
       "    <tr>\n",
       "      <th>1</th>\n",
       "      <td>1</td>\n",
       "      <td>It's not like we lack evidence of anthropogeni...</td>\n",
       "      <td>126103</td>\n",
       "    </tr>\n",
       "    <tr>\n",
       "      <th>2</th>\n",
       "      <td>2</td>\n",
       "      <td>RT @RawStory: Researchers say we have three ye...</td>\n",
       "      <td>698562</td>\n",
       "    </tr>\n",
       "    <tr>\n",
       "      <th>3</th>\n",
       "      <td>1</td>\n",
       "      <td>#TodayinMaker# WIRED : 2016 was a pivotal year...</td>\n",
       "      <td>573736</td>\n",
       "    </tr>\n",
       "    <tr>\n",
       "      <th>4</th>\n",
       "      <td>1</td>\n",
       "      <td>RT @SoyNovioDeTodas: It's 2016, and a racist, ...</td>\n",
       "      <td>466954</td>\n",
       "    </tr>\n",
       "  </tbody>\n",
       "</table>\n",
       "</div>"
      ],
      "text/plain": [
       "   sentiment                                            message  tweetid\n",
       "0          1  PolySciMajor EPA chief doesn't think carbon di...   625221\n",
       "1          1  It's not like we lack evidence of anthropogeni...   126103\n",
       "2          2  RT @RawStory: Researchers say we have three ye...   698562\n",
       "3          1  #TodayinMaker# WIRED : 2016 was a pivotal year...   573736\n",
       "4          1  RT @SoyNovioDeTodas: It's 2016, and a racist, ...   466954"
      ]
     },
     "execution_count": 245,
     "metadata": {},
     "output_type": "execute_result"
    }
   ],
   "source": [
    "df.head()"
   ]
  },
  {
   "cell_type": "markdown",
   "id": "85b9853e",
   "metadata": {},
   "source": [
    "###### Columns/features in data"
   ]
  },
  {
   "cell_type": "code",
   "execution_count": 246,
   "id": "52d1d9dc",
   "metadata": {},
   "outputs": [
    {
     "data": {
      "text/plain": [
       "Index(['sentiment', 'message', 'tweetid'], dtype='object')"
      ]
     },
     "execution_count": 246,
     "metadata": {},
     "output_type": "execute_result"
    }
   ],
   "source": [
    "df.columns"
   ]
  },
  {
   "cell_type": "markdown",
   "id": "60240dfe",
   "metadata": {},
   "source": [
    "###### Length of the dataset"
   ]
  },
  {
   "cell_type": "code",
   "execution_count": 247,
   "id": "8ca67d61",
   "metadata": {},
   "outputs": [
    {
     "name": "stdout",
     "output_type": "stream",
     "text": [
      "length of data is 15819\n"
     ]
    }
   ],
   "source": [
    "print('length of data is', len(df))"
   ]
  },
  {
   "cell_type": "markdown",
   "id": "38ffbc28",
   "metadata": {},
   "source": [
    "###### Shape of data"
   ]
  },
  {
   "cell_type": "code",
   "execution_count": 248,
   "id": "0f016792",
   "metadata": {},
   "outputs": [
    {
     "data": {
      "text/plain": [
       "(15819, 3)"
      ]
     },
     "execution_count": 248,
     "metadata": {},
     "output_type": "execute_result"
    }
   ],
   "source": [
    "df.shape"
   ]
  },
  {
   "cell_type": "markdown",
   "id": "619a6107",
   "metadata": {},
   "source": [
    "###### Data information"
   ]
  },
  {
   "cell_type": "code",
   "execution_count": 249,
   "id": "117381a7",
   "metadata": {},
   "outputs": [
    {
     "name": "stdout",
     "output_type": "stream",
     "text": [
      "<class 'pandas.core.frame.DataFrame'>\n",
      "RangeIndex: 15819 entries, 0 to 15818\n",
      "Data columns (total 3 columns):\n",
      " #   Column     Non-Null Count  Dtype \n",
      "---  ------     --------------  ----- \n",
      " 0   sentiment  15819 non-null  int64 \n",
      " 1   message    15819 non-null  object\n",
      " 2   tweetid    15819 non-null  int64 \n",
      "dtypes: int64(2), object(1)\n",
      "memory usage: 370.9+ KB\n"
     ]
    }
   ],
   "source": [
    "df.info()"
   ]
  },
  {
   "cell_type": "markdown",
   "id": "eeac0e71",
   "metadata": {},
   "source": [
    "###### Checking for Null values"
   ]
  },
  {
   "cell_type": "code",
   "execution_count": 250,
   "id": "6e9efe93",
   "metadata": {},
   "outputs": [
    {
     "data": {
      "text/plain": [
       "0"
      ]
     },
     "execution_count": 250,
     "metadata": {},
     "output_type": "execute_result"
    }
   ],
   "source": [
    "np.sum(df.isnull().any(axis=1))"
   ]
  },
  {
   "cell_type": "markdown",
   "id": "168a7862",
   "metadata": {},
   "source": [
    "###### Rows and columns in the dataset"
   ]
  },
  {
   "cell_type": "code",
   "execution_count": 251,
   "id": "3f2a85e6",
   "metadata": {},
   "outputs": [
    {
     "name": "stdout",
     "output_type": "stream",
     "text": [
      "Count of columns in the data is:   3\n",
      "Count of rows in the data is:   15819\n"
     ]
    }
   ],
   "source": [
    "print('Count of columns in the data is:  ', len(df.columns))\n",
    "print('Count of rows in the data is:  ', len(df))"
   ]
  },
  {
   "cell_type": "markdown",
   "id": "08e2b7ff",
   "metadata": {},
   "source": [
    "###### Check unique Target Values"
   ]
  },
  {
   "cell_type": "code",
   "execution_count": 252,
   "id": "6a2bb242",
   "metadata": {},
   "outputs": [
    {
     "data": {
      "text/plain": [
       "array([ 1,  2,  0, -1], dtype=int64)"
      ]
     },
     "execution_count": 252,
     "metadata": {},
     "output_type": "execute_result"
    }
   ],
   "source": [
    "df['sentiment'].unique()"
   ]
  },
  {
   "cell_type": "markdown",
   "id": "be9ddea4",
   "metadata": {},
   "source": [
    "###### Check the number of target values"
   ]
  },
  {
   "cell_type": "code",
   "execution_count": 253,
   "id": "498a4d43",
   "metadata": {},
   "outputs": [
    {
     "data": {
      "text/plain": [
       "4"
      ]
     },
     "execution_count": 253,
     "metadata": {},
     "output_type": "execute_result"
    }
   ],
   "source": [
    "df['sentiment'].nunique()"
   ]
  },
  {
   "cell_type": "markdown",
   "id": "d8a3f9f9",
   "metadata": {},
   "source": [
    "##### Data Visualization of Target Variables"
   ]
  },
  {
   "cell_type": "code",
   "execution_count": 254,
   "id": "0e8c3b82",
   "metadata": {},
   "outputs": [
    {
     "data": {
      "image/png": "[encoded data removed]",
      "text/plain": [
       "<Figure size 432x288 with 1 Axes>"
      ]
     },
     "metadata": {
      "needs_background": "light"
     },
     "output_type": "display_data"
    }
   ],
   "source": [
    "# Plotting the distribution for dataset.\n",
    "ax = df.groupby('sentiment').count().plot(kind='bar', title='Distribution of data',legend=False)\n",
    "ax.set_xticklabels([-1,0,1,2], rotation=0)\n",
    "# Storing data in lists.\n",
    "message, sentiment = list(df['message']), list(df['sentiment'])"
   ]
  },
  {
   "cell_type": "code",
   "execution_count": 255,
   "id": "f38c7838",
   "metadata": {},
   "outputs": [
    {
     "data": {
      "text/plain": [
       "<AxesSubplot:xlabel='sentiment', ylabel='count'>"
      ]
     },
     "execution_count": 255,
     "metadata": {},
     "output_type": "execute_result"
    },
    {
     "data": {
      "image/png": "[encoded data removed]",
      "text/plain": [
       "<Figure size 432x288 with 1 Axes>"
      ]
     },
     "metadata": {
      "needs_background": "light"
     },
     "output_type": "display_data"
    }
   ],
   "source": [
    "import seaborn as sns\n",
    "sns.countplot(x='sentiment', data=df)"
   ]
  },
  {
   "cell_type": "markdown",
   "id": "9ee96abd",
   "metadata": {},
   "source": [
    "##### Data Preprocessing "
   ]
  },
  {
   "cell_type": "markdown",
   "id": "79639c47",
   "metadata": {},
   "source": [
    "In the above-given problem statement before training the model, we performed various pre-processing steps on the dataset that mainly dealt with removing stopwords, removing emojis. The text document is then converted into the lowercase for better generalization.\n",
    "\n",
    "Punctuations were cleaned and removed thereby reducing the unnecessary noise from the dataset. After that, we removed the repeating characters from the words along with removing the URLs as they do not have any significant importance.\n",
    "\n",
    "At last, we then performed Stemming(reducing the words to their derived stems) and Lemmatization(reducing the derived words to their root form known as lemma) for better results."
   ]
  },
  {
   "cell_type": "markdown",
   "id": "0ed895f4",
   "metadata": {},
   "source": [
    "###### Selecting the message and Target column for our further analysis"
   ]
  },
  {
   "cell_type": "code",
   "execution_count": 256,
   "id": "ce9bd88f",
   "metadata": {},
   "outputs": [],
   "source": [
    "data=df[['message','sentiment']]"
   ]
  },
  {
   "cell_type": "markdown",
   "id": "c6e73775",
   "metadata": {},
   "source": [
    "###### Separating sentiments"
   ]
  },
  {
   "cell_type": "code",
   "execution_count": 257,
   "id": "8c7b96cf",
   "metadata": {},
   "outputs": [],
   "source": [
    "# segregating dataframe for analyzing individual sentiments\n",
    "news=data[(data['sentiment']==2)]\n",
    "neutral=data[(data['sentiment']==0)]\n",
    "pro=data[(data['sentiment']==1)]\n",
    "anti=data[(data['sentiment']==-1)]\n"
   ]
  },
  {
   "cell_type": "markdown",
   "id": "ad50d21d",
   "metadata": {},
   "source": [
    "###### Combining the different tweets"
   ]
  },
  {
   "cell_type": "code",
   "execution_count": 258,
   "id": "ca2332e8",
   "metadata": {},
   "outputs": [],
   "source": [
    "dataset = pd.concat([news, neutral, pro, anti])"
   ]
  },
  {
   "cell_type": "markdown",
   "id": "c1c2d91a",
   "metadata": {},
   "source": [
    "###### Making statement message in lower case"
   ]
  },
  {
   "cell_type": "code",
   "execution_count": 259,
   "id": "9a1f3c2a",
   "metadata": {},
   "outputs": [],
   "source": [
    "dataset['message']=dataset['message'].str.lower()\n",
    "#dataset['message'].tail()\n",
    "dft['message']=dft['message'].str.lower()"
   ]
  },
  {
   "cell_type": "markdown",
   "id": "b69cc0db",
   "metadata": {},
   "source": [
    "###### Defining set containing all stopwords in English."
   ]
  },
  {
   "cell_type": "code",
   "execution_count": 260,
   "id": "b2fcbae0",
   "metadata": {},
   "outputs": [],
   "source": [
    "from nltk.corpus import stopwords\n",
    "stopwordlist = stopwords.words('english')"
   ]
  },
  {
   "cell_type": "markdown",
   "id": "1fdd2b30",
   "metadata": {},
   "source": [
    "###### Cleaning and removing the above stop words list from the tweet text"
   ]
  },
  {
   "cell_type": "code",
   "execution_count": 261,
   "id": "92c9945a",
   "metadata": {},
   "outputs": [
    {
     "data": {
      "text/html": [
       "<div>\n",
       "<style scoped>\n",
       "    .dataframe tbody tr th:only-of-type {\n",
       "        vertical-align: middle;\n",
       "    }\n",
       "\n",
       "    .dataframe tbody tr th {\n",
       "        vertical-align: top;\n",
       "    }\n",
       "\n",
       "    .dataframe thead th {\n",
       "        text-align: right;\n",
       "    }\n",
       "</style>\n",
       "<table border=\"1\" class=\"dataframe\">\n",
       "  <thead>\n",
       "    <tr style=\"text-align: right;\">\n",
       "      <th></th>\n",
       "      <th>message</th>\n",
       "      <th>tweetid</th>\n",
       "      <th>message_clean</th>\n",
       "    </tr>\n",
       "  </thead>\n",
       "  <tbody>\n",
       "    <tr>\n",
       "      <th>0</th>\n",
       "      <td>europe will now be looking to china to make su...</td>\n",
       "      <td>169760</td>\n",
       "      <td>europe looking china make sure alone fighting ...</td>\n",
       "    </tr>\n",
       "    <tr>\n",
       "      <th>1</th>\n",
       "      <td>combine this with the polling of staffers re c...</td>\n",
       "      <td>35326</td>\n",
       "      <td>combine polling staffers climate change womens...</td>\n",
       "    </tr>\n",
       "    <tr>\n",
       "      <th>2</th>\n",
       "      <td>the scary, unimpeachable evidence that climate...</td>\n",
       "      <td>224985</td>\n",
       "      <td>scary, unimpeachable evidence climate change a...</td>\n",
       "    </tr>\n",
       "    <tr>\n",
       "      <th>3</th>\n",
       "      <td>@karoli @morgfair @osborneink @dailykos \\nputi...</td>\n",
       "      <td>476263</td>\n",
       "      <td>@karoli @morgfair @osborneink @dailykos putin ...</td>\n",
       "    </tr>\n",
       "    <tr>\n",
       "      <th>4</th>\n",
       "      <td>rt @fakewillmoore: 'female orgasms cause globa...</td>\n",
       "      <td>872928</td>\n",
       "      <td>rt @fakewillmoore: 'female orgasms cause globa...</td>\n",
       "    </tr>\n",
       "    <tr>\n",
       "      <th>...</th>\n",
       "      <td>...</td>\n",
       "      <td>...</td>\n",
       "      <td>...</td>\n",
       "    </tr>\n",
       "    <tr>\n",
       "      <th>10541</th>\n",
       "      <td>rt @brittanybohrer: brb, writing a poem about ...</td>\n",
       "      <td>895714</td>\n",
       "      <td>rt @brittanybohrer: brb, writing poem climate ...</td>\n",
       "    </tr>\n",
       "    <tr>\n",
       "      <th>10542</th>\n",
       "      <td>2016: the year climate change came home: durin...</td>\n",
       "      <td>875167</td>\n",
       "      <td>2016: year climate change came home: hottest y...</td>\n",
       "    </tr>\n",
       "    <tr>\n",
       "      <th>10543</th>\n",
       "      <td>rt @loop_vanuatu: pacific countries positive a...</td>\n",
       "      <td>78329</td>\n",
       "      <td>rt @loop_vanuatu: pacific countries positive f...</td>\n",
       "    </tr>\n",
       "    <tr>\n",
       "      <th>10544</th>\n",
       "      <td>rt @xanria_00018: you’re so hot, you must be t...</td>\n",
       "      <td>867455</td>\n",
       "      <td>rt @xanria_00018: you’re hot, must cause globa...</td>\n",
       "    </tr>\n",
       "    <tr>\n",
       "      <th>10545</th>\n",
       "      <td>rt @chloebalaoing: climate change is a global ...</td>\n",
       "      <td>470892</td>\n",
       "      <td>rt @chloebalaoing: climate change global issue...</td>\n",
       "    </tr>\n",
       "  </tbody>\n",
       "</table>\n",
       "<p>10546 rows × 3 columns</p>\n",
       "</div>"
      ],
      "text/plain": [
       "                                                 message  tweetid  \\\n",
       "0      europe will now be looking to china to make su...   169760   \n",
       "1      combine this with the polling of staffers re c...    35326   \n",
       "2      the scary, unimpeachable evidence that climate...   224985   \n",
       "3      @karoli @morgfair @osborneink @dailykos \\nputi...   476263   \n",
       "4      rt @fakewillmoore: 'female orgasms cause globa...   872928   \n",
       "...                                                  ...      ...   \n",
       "10541  rt @brittanybohrer: brb, writing a poem about ...   895714   \n",
       "10542  2016: the year climate change came home: durin...   875167   \n",
       "10543  rt @loop_vanuatu: pacific countries positive a...    78329   \n",
       "10544  rt @xanria_00018: you’re so hot, you must be t...   867455   \n",
       "10545  rt @chloebalaoing: climate change is a global ...   470892   \n",
       "\n",
       "                                           message_clean  \n",
       "0      europe looking china make sure alone fighting ...  \n",
       "1      combine polling staffers climate change womens...  \n",
       "2      scary, unimpeachable evidence climate change a...  \n",
       "3      @karoli @morgfair @osborneink @dailykos putin ...  \n",
       "4      rt @fakewillmoore: 'female orgasms cause globa...  \n",
       "...                                                  ...  \n",
       "10541  rt @brittanybohrer: brb, writing poem climate ...  \n",
       "10542  2016: year climate change came home: hottest y...  \n",
       "10543  rt @loop_vanuatu: pacific countries positive f...  \n",
       "10544  rt @xanria_00018: you’re hot, must cause globa...  \n",
       "10545  rt @chloebalaoing: climate change global issue...  \n",
       "\n",
       "[10546 rows x 3 columns]"
      ]
     },
     "execution_count": 261,
     "metadata": {},
     "output_type": "execute_result"
    }
   ],
   "source": [
    "STOPWORDS = set(stopwordlist)\n",
    "def cleaning_stopwords(message):\n",
    "    return \" \".join([word for word in str(message).split() if word not in STOPWORDS])\n",
    "df['message_clean'] = dataset['message'].apply(lambda message: cleaning_stopwords(message))\n",
    "#df['message_clean'].head()\n",
    "dft['message_clean'] = dft['message'].apply(lambda message: cleaning_stopwords(message))\n",
    "dft"
   ]
  },
  {
   "cell_type": "markdown",
   "id": "35b1e27e",
   "metadata": {},
   "source": [
    "###### Cleaning and removing punctuations"
   ]
  },
  {
   "cell_type": "code",
   "execution_count": 262,
   "id": "102f4b36",
   "metadata": {},
   "outputs": [
    {
     "data": {
      "text/html": [
       "<div>\n",
       "<style scoped>\n",
       "    .dataframe tbody tr th:only-of-type {\n",
       "        vertical-align: middle;\n",
       "    }\n",
       "\n",
       "    .dataframe tbody tr th {\n",
       "        vertical-align: top;\n",
       "    }\n",
       "\n",
       "    .dataframe thead th {\n",
       "        text-align: right;\n",
       "    }\n",
       "</style>\n",
       "<table border=\"1\" class=\"dataframe\">\n",
       "  <thead>\n",
       "    <tr style=\"text-align: right;\">\n",
       "      <th></th>\n",
       "      <th>message</th>\n",
       "      <th>tweetid</th>\n",
       "      <th>message_clean</th>\n",
       "    </tr>\n",
       "  </thead>\n",
       "  <tbody>\n",
       "    <tr>\n",
       "      <th>0</th>\n",
       "      <td>europe will now be looking to china to make su...</td>\n",
       "      <td>169760</td>\n",
       "      <td>europe looking china make sure alone fighting ...</td>\n",
       "    </tr>\n",
       "    <tr>\n",
       "      <th>1</th>\n",
       "      <td>combine this with the polling of staffers re c...</td>\n",
       "      <td>35326</td>\n",
       "      <td>combine polling staffers climate change womens...</td>\n",
       "    </tr>\n",
       "    <tr>\n",
       "      <th>2</th>\n",
       "      <td>the scary, unimpeachable evidence that climate...</td>\n",
       "      <td>224985</td>\n",
       "      <td>scary unimpeachable evidence climate change al...</td>\n",
       "    </tr>\n",
       "    <tr>\n",
       "      <th>3</th>\n",
       "      <td>@karoli @morgfair @osborneink @dailykos \\nputi...</td>\n",
       "      <td>476263</td>\n",
       "      <td>karoli morgfair osborneink dailykos putin got ...</td>\n",
       "    </tr>\n",
       "    <tr>\n",
       "      <th>4</th>\n",
       "      <td>rt @fakewillmoore: 'female orgasms cause globa...</td>\n",
       "      <td>872928</td>\n",
       "      <td>rt fakewillmoore female orgasms cause global w...</td>\n",
       "    </tr>\n",
       "    <tr>\n",
       "      <th>...</th>\n",
       "      <td>...</td>\n",
       "      <td>...</td>\n",
       "      <td>...</td>\n",
       "    </tr>\n",
       "    <tr>\n",
       "      <th>10541</th>\n",
       "      <td>rt @brittanybohrer: brb, writing a poem about ...</td>\n",
       "      <td>895714</td>\n",
       "      <td>rt brittanybohrer brb writing poem climate cha...</td>\n",
       "    </tr>\n",
       "    <tr>\n",
       "      <th>10542</th>\n",
       "      <td>2016: the year climate change came home: durin...</td>\n",
       "      <td>875167</td>\n",
       "      <td>2016 year climate change came home hottest yea...</td>\n",
       "    </tr>\n",
       "    <tr>\n",
       "      <th>10543</th>\n",
       "      <td>rt @loop_vanuatu: pacific countries positive a...</td>\n",
       "      <td>78329</td>\n",
       "      <td>rt loopvanuatu pacific countries positive fiji...</td>\n",
       "    </tr>\n",
       "    <tr>\n",
       "      <th>10544</th>\n",
       "      <td>rt @xanria_00018: you’re so hot, you must be t...</td>\n",
       "      <td>867455</td>\n",
       "      <td>rt xanria00018 you’re hot must cause global wa...</td>\n",
       "    </tr>\n",
       "    <tr>\n",
       "      <th>10545</th>\n",
       "      <td>rt @chloebalaoing: climate change is a global ...</td>\n",
       "      <td>470892</td>\n",
       "      <td>rt chloebalaoing climate change global issue t...</td>\n",
       "    </tr>\n",
       "  </tbody>\n",
       "</table>\n",
       "<p>10546 rows × 3 columns</p>\n",
       "</div>"
      ],
      "text/plain": [
       "                                                 message  tweetid  \\\n",
       "0      europe will now be looking to china to make su...   169760   \n",
       "1      combine this with the polling of staffers re c...    35326   \n",
       "2      the scary, unimpeachable evidence that climate...   224985   \n",
       "3      @karoli @morgfair @osborneink @dailykos \\nputi...   476263   \n",
       "4      rt @fakewillmoore: 'female orgasms cause globa...   872928   \n",
       "...                                                  ...      ...   \n",
       "10541  rt @brittanybohrer: brb, writing a poem about ...   895714   \n",
       "10542  2016: the year climate change came home: durin...   875167   \n",
       "10543  rt @loop_vanuatu: pacific countries positive a...    78329   \n",
       "10544  rt @xanria_00018: you’re so hot, you must be t...   867455   \n",
       "10545  rt @chloebalaoing: climate change is a global ...   470892   \n",
       "\n",
       "                                           message_clean  \n",
       "0      europe looking china make sure alone fighting ...  \n",
       "1      combine polling staffers climate change womens...  \n",
       "2      scary unimpeachable evidence climate change al...  \n",
       "3      karoli morgfair osborneink dailykos putin got ...  \n",
       "4      rt fakewillmoore female orgasms cause global w...  \n",
       "...                                                  ...  \n",
       "10541  rt brittanybohrer brb writing poem climate cha...  \n",
       "10542  2016 year climate change came home hottest yea...  \n",
       "10543  rt loopvanuatu pacific countries positive fiji...  \n",
       "10544  rt xanria00018 you’re hot must cause global wa...  \n",
       "10545  rt chloebalaoing climate change global issue t...  \n",
       "\n",
       "[10546 rows x 3 columns]"
      ]
     },
     "execution_count": 262,
     "metadata": {},
     "output_type": "execute_result"
    }
   ],
   "source": [
    "import string\n",
    "english_punctuations = string.punctuation\n",
    "punctuations_list = english_punctuations\n",
    "def cleaning_punctuations(message):\n",
    "    translator = str.maketrans('', '', punctuations_list)\n",
    "    return message.translate(translator)\n",
    "df['message_clean']= df['message_clean'].apply(lambda x: cleaning_punctuations(x))\n",
    "#df['message_clean'].tail()\n",
    "dft['message_clean']= dft['message_clean'].apply(lambda x: cleaning_punctuations(x))\n",
    "dft"
   ]
  },
  {
   "cell_type": "markdown",
   "id": "94c5dcc2",
   "metadata": {},
   "source": [
    "###### Cleaning and removing repeating characters"
   ]
  },
  {
   "cell_type": "code",
   "execution_count": 263,
   "id": "ef6b8504",
   "metadata": {},
   "outputs": [],
   "source": [
    "def cleaning_repeating_char(message):\n",
    "    return re.sub(r'(.)1+', r'1', message)\n",
    "df['message_clean'] = df['message_clean'].apply(lambda x: cleaning_repeating_char(x))\n",
    "#df['message_clean'].tail()\n",
    "dft['message_clean'] = dft['message_clean'].apply(lambda x: cleaning_repeating_char(x))"
   ]
  },
  {
   "cell_type": "markdown",
   "id": "75df4e60",
   "metadata": {},
   "source": [
    "###### Cleaning and removing URL’s"
   ]
  },
  {
   "cell_type": "code",
   "execution_count": 264,
   "id": "87464e48",
   "metadata": {},
   "outputs": [],
   "source": [
    "def cleaning_URLs(data):\n",
    "    return re.sub('((www.[^s]+)|(https?://[^s]+))',' ',data)\n",
    "df['message_clean'] = df['message_clean'].apply(lambda x: cleaning_URLs(x))\n",
    "#df['message_clean'].tail()\n",
    "dft['message_clean'] = dft['message_clean'].apply(lambda x: cleaning_URLs(x))"
   ]
  },
  {
   "cell_type": "markdown",
   "id": "f9849adf",
   "metadata": {},
   "source": [
    "###### Cleaning and removing Numeric numbers"
   ]
  },
  {
   "cell_type": "code",
   "execution_count": 265,
   "id": "3f611784",
   "metadata": {},
   "outputs": [],
   "source": [
    "def cleaning_numbers(data):\n",
    "    return re.sub('[0-9]+', '', data)\n",
    "df['message_clean'] = df['message_clean'].apply(lambda x: cleaning_numbers(x))\n",
    "#df['message_clean'].tail()\n",
    "dft['message_clean'] = dft['message_clean'].apply(lambda x: cleaning_numbers(x))"
   ]
  },
  {
   "cell_type": "markdown",
   "id": "fd85745a",
   "metadata": {},
   "source": [
    "###### Getting tokenization of tweet text"
   ]
  },
  {
   "cell_type": "code",
   "execution_count": 266,
   "id": "43b46dbf",
   "metadata": {},
   "outputs": [],
   "source": [
    "from nltk.tokenize import TweetTokenizer\n",
    "tokenizer = TweetTokenizer()\n",
    "df['message_clean'] = df['message_clean'].apply(tokenizer.tokenize)\n",
    "#df['message_clean'].tail()\n",
    "dft['message_clean'] = dft['message_clean'].apply(tokenizer.tokenize)"
   ]
  },
  {
   "cell_type": "markdown",
   "id": "c8d9c8a3",
   "metadata": {},
   "source": [
    "###### Applying Stemming"
   ]
  },
  {
   "cell_type": "code",
   "execution_count": 267,
   "id": "3a8da602",
   "metadata": {},
   "outputs": [],
   "source": [
    "import nltk\n",
    "st = nltk.PorterStemmer()\n",
    "def stemming_on_text(data):\n",
    "    message_stemmed = [st.stem(word) for word in data]\n",
    "    return data\n",
    "df['message_clean']= df['message_clean'].apply(lambda x: stemming_on_text(x))\n",
    "#df['message_clean'].head()\n",
    "dft['message_clean']= dft['message_clean'].apply(lambda x: stemming_on_text(x))"
   ]
  },
  {
   "cell_type": "markdown",
   "id": "61c6287b",
   "metadata": {},
   "source": [
    "###### Applying Lemmatizer"
   ]
  },
  {
   "cell_type": "code",
   "execution_count": 268,
   "id": "04c66eac",
   "metadata": {
    "scrolled": true
   },
   "outputs": [],
   "source": [
    "lm = nltk.WordNetLemmatizer()\n",
    "def lemmatizer_on_text(data):\n",
    "    messege_lemmatized = [lm.lemmatize(word) for word in data]\n",
    "    return ' '.join(messege_lemmatized)\n",
    "df['message_clean'] = df['message_clean'].apply(lambda x:lemmatizer_on_text(x))\n",
    "#df['message_clean'].head()\n",
    "dft['message_clean'] = dft['message_clean'].apply(lambda x:lemmatizer_on_text(x))"
   ]
  },
  {
   "cell_type": "code",
   "execution_count": 269,
   "id": "ec40e878",
   "metadata": {},
   "outputs": [
    {
     "data": {
      "text/html": [
       "<div>\n",
       "<style scoped>\n",
       "    .dataframe tbody tr th:only-of-type {\n",
       "        vertical-align: middle;\n",
       "    }\n",
       "\n",
       "    .dataframe tbody tr th {\n",
       "        vertical-align: top;\n",
       "    }\n",
       "\n",
       "    .dataframe thead th {\n",
       "        text-align: right;\n",
       "    }\n",
       "</style>\n",
       "<table border=\"1\" class=\"dataframe\">\n",
       "  <thead>\n",
       "    <tr style=\"text-align: right;\">\n",
       "      <th></th>\n",
       "      <th>message</th>\n",
       "      <th>tweetid</th>\n",
       "      <th>message_clean</th>\n",
       "    </tr>\n",
       "  </thead>\n",
       "  <tbody>\n",
       "    <tr>\n",
       "      <th>0</th>\n",
       "      <td>europe will now be looking to china to make su...</td>\n",
       "      <td>169760</td>\n",
       "      <td>europe looking china make sure alone fighting ...</td>\n",
       "    </tr>\n",
       "    <tr>\n",
       "      <th>1</th>\n",
       "      <td>combine this with the polling of staffers re c...</td>\n",
       "      <td>35326</td>\n",
       "      <td>combine polling staffer climate change woman r...</td>\n",
       "    </tr>\n",
       "    <tr>\n",
       "      <th>2</th>\n",
       "      <td>the scary, unimpeachable evidence that climate...</td>\n",
       "      <td>224985</td>\n",
       "      <td>scary unimpeachable evidence climate change al...</td>\n",
       "    </tr>\n",
       "    <tr>\n",
       "      <th>3</th>\n",
       "      <td>@karoli @morgfair @osborneink @dailykos \\nputi...</td>\n",
       "      <td>476263</td>\n",
       "      <td>karoli morgfair osborneink dailykos putin got ...</td>\n",
       "    </tr>\n",
       "    <tr>\n",
       "      <th>4</th>\n",
       "      <td>rt @fakewillmoore: 'female orgasms cause globa...</td>\n",
       "      <td>872928</td>\n",
       "      <td>rt fakewillmoore female orgasm cause global wa...</td>\n",
       "    </tr>\n",
       "    <tr>\n",
       "      <th>...</th>\n",
       "      <td>...</td>\n",
       "      <td>...</td>\n",
       "      <td>...</td>\n",
       "    </tr>\n",
       "    <tr>\n",
       "      <th>10541</th>\n",
       "      <td>rt @brittanybohrer: brb, writing a poem about ...</td>\n",
       "      <td>895714</td>\n",
       "      <td>rt brittanybohrer brb writing poem climate cha...</td>\n",
       "    </tr>\n",
       "    <tr>\n",
       "      <th>10542</th>\n",
       "      <td>2016: the year climate change came home: durin...</td>\n",
       "      <td>875167</td>\n",
       "      <td>year climate change came home hottest year rec...</td>\n",
       "    </tr>\n",
       "    <tr>\n",
       "      <th>10543</th>\n",
       "      <td>rt @loop_vanuatu: pacific countries positive a...</td>\n",
       "      <td>78329</td>\n",
       "      <td>rt loopvanuatu pacific country positive fiji l...</td>\n",
       "    </tr>\n",
       "    <tr>\n",
       "      <th>10544</th>\n",
       "      <td>rt @xanria_00018: you’re so hot, you must be t...</td>\n",
       "      <td>867455</td>\n",
       "      <td>rt xanria you ’ re hot must cause global warmi...</td>\n",
       "    </tr>\n",
       "    <tr>\n",
       "      <th>10545</th>\n",
       "      <td>rt @chloebalaoing: climate change is a global ...</td>\n",
       "      <td>470892</td>\n",
       "      <td>rt chloebalaoing climate change global issue t...</td>\n",
       "    </tr>\n",
       "  </tbody>\n",
       "</table>\n",
       "<p>10546 rows × 3 columns</p>\n",
       "</div>"
      ],
      "text/plain": [
       "                                                 message  tweetid  \\\n",
       "0      europe will now be looking to china to make su...   169760   \n",
       "1      combine this with the polling of staffers re c...    35326   \n",
       "2      the scary, unimpeachable evidence that climate...   224985   \n",
       "3      @karoli @morgfair @osborneink @dailykos \\nputi...   476263   \n",
       "4      rt @fakewillmoore: 'female orgasms cause globa...   872928   \n",
       "...                                                  ...      ...   \n",
       "10541  rt @brittanybohrer: brb, writing a poem about ...   895714   \n",
       "10542  2016: the year climate change came home: durin...   875167   \n",
       "10543  rt @loop_vanuatu: pacific countries positive a...    78329   \n",
       "10544  rt @xanria_00018: you’re so hot, you must be t...   867455   \n",
       "10545  rt @chloebalaoing: climate change is a global ...   470892   \n",
       "\n",
       "                                           message_clean  \n",
       "0      europe looking china make sure alone fighting ...  \n",
       "1      combine polling staffer climate change woman r...  \n",
       "2      scary unimpeachable evidence climate change al...  \n",
       "3      karoli morgfair osborneink dailykos putin got ...  \n",
       "4      rt fakewillmoore female orgasm cause global wa...  \n",
       "...                                                  ...  \n",
       "10541  rt brittanybohrer brb writing poem climate cha...  \n",
       "10542  year climate change came home hottest year rec...  \n",
       "10543  rt loopvanuatu pacific country positive fiji l...  \n",
       "10544  rt xanria you ’ re hot must cause global warmi...  \n",
       "10545  rt chloebalaoing climate change global issue t...  \n",
       "\n",
       "[10546 rows x 3 columns]"
      ]
     },
     "execution_count": 269,
     "metadata": {},
     "output_type": "execute_result"
    }
   ],
   "source": [
    "dft"
   ]
  },
  {
   "cell_type": "markdown",
   "id": "2977b472",
   "metadata": {},
   "source": [
    "###### Separating input feature and label"
   ]
  },
  {
   "cell_type": "code",
   "execution_count": 270,
   "id": "f448b94d",
   "metadata": {},
   "outputs": [],
   "source": [
    "X=df.message_clean\n",
    "\n",
    "y=dataset.sentiment"
   ]
  },
  {
   "cell_type": "code",
   "execution_count": 271,
   "id": "c46ae12c",
   "metadata": {},
   "outputs": [],
   "source": [
    "X_tfeat = dft['message_clean']"
   ]
  },
  {
   "cell_type": "markdown",
   "id": "c22feda1",
   "metadata": {},
   "source": [
    "###### Plot a cloud of words for news, pro, neutral and anti tweets"
   ]
  },
  {
   "cell_type": "markdown",
   "id": "1ec6b89c",
   "metadata": {},
   "source": [
    "news = df['message_clean']\n",
    "plt.figure(figsize = (20,20))\n",
    "wc = WordCloud(max_words = 1000 , width = 1600 , height = 800,\n",
    "               collocations=False).generate(\" \".join(news))\n",
    "plt.imshow(wc)"
   ]
  },
  {
   "cell_type": "markdown",
   "id": "3dc83ff9",
   "metadata": {},
   "source": [
    "pro = df['message_clean']\n",
    "plt.figure(figsize = (20,20))\n",
    "wc = WordCloud(max_words = 1000 , width = 1600 , height = 800,\n",
    "               collocations=False).generate(\" \".join(pro))\n",
    "plt.imshow(wc)"
   ]
  },
  {
   "cell_type": "markdown",
   "id": "312555d2",
   "metadata": {},
   "source": [
    "neutral = df['message_clean']\n",
    "plt.figure(figsize = (20,20))\n",
    "wc = WordCloud(max_words = 1000 , width = 1600 , height = 800,\n",
    "               collocations=False).generate(\" \".join(neutral))\n",
    "plt.imshow(wc)"
   ]
  },
  {
   "cell_type": "markdown",
   "id": "d4c38c91",
   "metadata": {
    "scrolled": true
   },
   "source": [
    "anti = df['message_clean']\n",
    "plt.figure(figsize = (20,20))\n",
    "wc = WordCloud(max_words = 1000 , width = 1600 , height = 800,\n",
    "               collocations=False).generate(\" \".join(anti))\n",
    "plt.imshow(wc)"
   ]
  },
  {
   "cell_type": "markdown",
   "id": "d3531834",
   "metadata": {},
   "source": [
    "###### Bag of Words"
   ]
  },
  {
   "cell_type": "markdown",
   "id": "939b68b2",
   "metadata": {},
   "source": [
    "Now, we will use the Bag of Words Model(BOW), which is used to represent the text in the form of a bag of words,i.e. the grammar and the order of words in a sentence are not given any importance, instead, multiplicity,i.e. (the number of times a word occurs in a document) is the main point of concern.\n",
    "\n",
    "Basically, it describes the total occurrence of words within a document."
   ]
  },
  {
   "cell_type": "markdown",
   "id": "282411b8",
   "metadata": {},
   "source": [
    "###### Scikit-Learn provides a neat way of performing the bag of words technique using CountVectorizer.\n",
    "\n",
    "Now, we will convert the text data into vectors, by fitting and transforming the corpus that we have created."
   ]
  },
  {
   "cell_type": "code",
   "execution_count": 290,
   "id": "5a5ce054",
   "metadata": {},
   "outputs": [
    {
     "data": {
      "text/plain": [
       "(15819, 129351)"
      ]
     },
     "execution_count": 290,
     "metadata": {},
     "output_type": "execute_result"
    }
   ],
   "source": [
    "from sklearn.feature_extraction.text import CountVectorizer\n",
    "cv = CountVectorizer(ngram_range=(1,2))\n",
    "traindata = cv.fit_transform(df['message_clean'])\n",
    "#X_tR =dft.message_clean\n",
    "#X = df.message_clean\n",
    "#y = df.sentiment\n",
    "traindata.shape"
   ]
  },
  {
   "cell_type": "code",
   "execution_count": 291,
   "id": "0349bcbc",
   "metadata": {},
   "outputs": [
    {
     "data": {
      "text/plain": [
       "(15819, 129351)"
      ]
     },
     "execution_count": 291,
     "metadata": {},
     "output_type": "execute_result"
    }
   ],
   "source": [
    "from sklearn.feature_extraction.text import TfidfTransformer\n",
    "tfidf_transformer = TfidfTransformer()\n",
    "X_train_tfidf = tfidf_transformer.fit_transform(traindata)\n",
    "X_train_tfidf.shape"
   ]
  },
  {
   "cell_type": "code",
   "execution_count": 292,
   "id": "e29ca531",
   "metadata": {},
   "outputs": [],
   "source": [
    "from sklearn.naive_bayes import MultinomialNB\n",
    "clf = MultinomialNB().fit(X_train_tfidf, df.sentiment)"
   ]
  },
  {
   "cell_type": "code",
   "execution_count": 293,
   "id": "c4dd9e95",
   "metadata": {},
   "outputs": [],
   "source": [
    "from sklearn.pipeline import Pipeline\n",
    "text_clf = Pipeline([('vect', CountVectorizer()),\n",
    "                    ('tfidf', TfidfTransformer()),                     \n",
    "                    ('clf', MultinomialNB()), ])\n",
    "text_clf = text_clf.fit(df.message_clean, df.sentiment)"
   ]
  },
  {
   "cell_type": "code",
   "execution_count": 296,
   "id": "d87afdb7",
   "metadata": {},
   "outputs": [
    {
     "data": {
      "text/plain": [
       "0.6935963082369303"
      ]
     },
     "execution_count": 296,
     "metadata": {},
     "output_type": "execute_result"
    }
   ],
   "source": [
    "import numpy as np\n",
    "#message = df(subset='message_clean', shuffle=True)\n",
    "predicted = text_clf.predict(df.message_clean)\n",
    "np.mean(predicted == df.sentiment)"
   ]
  },
  {
   "cell_type": "code",
   "execution_count": 305,
   "id": "a5761fa3",
   "metadata": {},
   "outputs": [
    {
     "data": {
      "text/plain": [
       "0.6202035526898034"
      ]
     },
     "execution_count": 305,
     "metadata": {},
     "output_type": "execute_result"
    }
   ],
   "source": [
    "from sklearn.linear_model import SGDClassifier\n",
    "text_clf_svm = Pipeline([('vect', CountVectorizer()),\n",
    "                     ('tfidf', TfidfTransformer()),\n",
    "                     ('clf-svm', SGDClassifier(loss='hinge', penalty='l2',\n",
    "                                           alpha=1e-3, random_state=42)),\n",
    "])\n",
    "_ = text_clf_svm.fit(df.message_clean, df.sentiment)\n",
    "predicted_svm = _.predict(df.message_clean)\n",
    "np.mean(predicted_svm == df.sentiment)"
   ]
  },
  {
   "cell_type": "code",
   "execution_count": 299,
   "id": "465fcc52",
   "metadata": {},
   "outputs": [],
   "source": [
    "from sklearn.model_selection import GridSearchCV\n",
    "parameters = {'vect__ngram_range': [(1, 1), (1, 2)],\n",
    "              'tfidf__use_idf': (True, False),\n",
    "              'clf__alpha': (1e-2, 1e-3),\n",
    "}"
   ]
  },
  {
   "cell_type": "code",
   "execution_count": 307,
   "id": "2f3d54a1",
   "metadata": {},
   "outputs": [
    {
     "data": {
      "text/plain": [
       "0.9959542322523548"
      ]
     },
     "execution_count": 307,
     "metadata": {},
     "output_type": "execute_result"
    }
   ],
   "source": [
    "gs_clf = GridSearchCV(text_clf, parameters, n_jobs=-1)\n",
    "gs_clf = gs_clf.fit(df.message_clean, df.sentiment)\n",
    "predicted_gs_clf = gs_clf.predict(df.message_clean)\n",
    "np.mean(predicted_gs_clf == df.sentiment)"
   ]
  },
  {
   "cell_type": "code",
   "execution_count": 301,
   "id": "23570f66",
   "metadata": {},
   "outputs": [
    {
     "data": {
      "text/plain": [
       "{'clf__alpha': 0.01, 'tfidf__use_idf': False, 'vect__ngram_range': (1, 2)}"
      ]
     },
     "execution_count": 301,
     "metadata": {},
     "output_type": "execute_result"
    }
   ],
   "source": [
    "gs_clf.best_score_\n",
    "gs_clf.best_params_"
   ]
  },
  {
   "cell_type": "code",
   "execution_count": 309,
   "id": "88610a4c",
   "metadata": {},
   "outputs": [
    {
     "data": {
      "text/plain": [
       "0.635501611985587"
      ]
     },
     "execution_count": 309,
     "metadata": {},
     "output_type": "execute_result"
    }
   ],
   "source": [
    "from sklearn.model_selection import GridSearchCV\n",
    "parameters_svm = {'vect__ngram_range': [(1, 1), (1, 2)],\n",
    "              'tfidf__use_idf': (True, False),\n",
    "              'clf-svm__alpha': (1e-2, 1e-3),}\n",
    "gs_clf_svm = GridSearchCV(text_clf_svm, parameters_svm, n_jobs=-1)\n",
    "gs_clf_svm = gs_clf_svm.fit(df.message_clean, df.sentiment)\n",
    "gs_clf_svm.best_score_\n",
    "gs_clf_svm.best_params_\n",
    "predicted_gs_clf_svm = gs_clf_svm.predict(df.message_clean)\n",
    "np.mean(predicted_gs_clf_svm == df.sentiment)"
   ]
  },
  {
   "cell_type": "markdown",
   "id": "537e8449",
   "metadata": {},
   "source": [
    "###### Splitting our data into Train and Test Subset"
   ]
  },
  {
   "cell_type": "code",
   "execution_count": 276,
   "id": "9d6aedc6",
   "metadata": {},
   "outputs": [],
   "source": [
    "# Separating the 80% data for training data and 5% for testing data\n",
    "X_train, X_test, y_train, y_test = train_test_split(X,y,test_size = 0.2, random_state =0)"
   ]
  },
  {
   "cell_type": "markdown",
   "id": "d2cdad05",
   "metadata": {},
   "source": [
    "###### Transforming Dataset using TF-IDF Vectorizer\n",
    " Fit the TF-IDF Vectorizer"
   ]
  },
  {
   "cell_type": "code",
   "execution_count": 277,
   "id": "f2c76594",
   "metadata": {},
   "outputs": [
    {
     "name": "stdout",
     "output_type": "stream",
     "text": [
      "No. of feature_words:  26056\n"
     ]
    },
    {
     "name": "stderr",
     "output_type": "stream",
     "text": [
      "C:\\Users\\kelida\\AppData\\Roaming\\Python\\Python39\\site-packages\\sklearn\\utils\\deprecation.py:87: FutureWarning: Function get_feature_names is deprecated; get_feature_names is deprecated in 1.0 and will be removed in 1.2. Please use get_feature_names_out instead.\n",
      "  warnings.warn(msg, category=FutureWarning)\n"
     ]
    }
   ],
   "source": [
    "vectoriser = TfidfVectorizer(stop_words='english', max_df=0.8)\n",
    "vectoriser.fit(X_train)\n",
    "print('No. of feature_words: ', len(vectoriser.get_feature_names()))"
   ]
  },
  {
   "cell_type": "code",
   "execution_count": 278,
   "id": "37c33e79",
   "metadata": {},
   "outputs": [],
   "source": [
    "#Transform the data using TF-IDF Vectorizer\n",
    "\n",
    "X_train = vectoriser.transform(X_train)\n",
    "X_test  = vectoriser.transform(X_test)\n",
    "X_tR = vectoriser.transform(X_tR)"
   ]
  },
  {
   "cell_type": "code",
   "execution_count": null,
   "id": "bb1e0860",
   "metadata": {},
   "outputs": [],
   "source": []
  },
  {
   "cell_type": "markdown",
   "id": "42a063ec",
   "metadata": {},
   "source": [
    "##### Function For Model Evaluation"
   ]
  },
  {
   "cell_type": "markdown",
   "id": "aa777afb",
   "metadata": {},
   "source": [
    "After training the model we then apply the evaluation measures to check how the model is performing. Accordingly, we use the following evaluation parameters to check the performance of the models respectively :\n",
    "\n",
    "Accuracy Score\n",
    "Confusion Matrix with Plot\n",
    "ROC-AUC Curve"
   ]
  },
  {
   "cell_type": "code",
   "execution_count": 279,
   "id": "c5780f7b",
   "metadata": {},
   "outputs": [],
   "source": [
    "def model_Evaluate(model):\n",
    "# Predict values for Test dataset\n",
    "    y_pred = model.predict(X_test)\n",
    "# Print the evaluation metrics for the dataset.\n",
    "    print(classification_report(y_test, y_pred))\n",
    "# Compute and  Confusion matrix\n",
    "    cf_matrix = confusion_matrix(y_test, y_pred)\n",
    "    "
   ]
  },
  {
   "cell_type": "markdown",
   "id": "90e16be2",
   "metadata": {},
   "source": [
    "##### Model Building"
   ]
  },
  {
   "cell_type": "markdown",
   "id": "3476dd5c",
   "metadata": {},
   "source": [
    "In the problem statement we have used three different models respectively :\n",
    "\n",
    "Bernoulli Naive Bayes\n",
    "SVM (Support Vector Machine)\n",
    "Logistic Regression\n",
    "The idea behind choosing these models is that we want to try all the classifiers on the dataset ranging from simple ones to complex models and then try to find out the one which gives the best performance among them."
   ]
  },
  {
   "cell_type": "code",
   "execution_count": 280,
   "id": "b0d40936",
   "metadata": {},
   "outputs": [
    {
     "name": "stdout",
     "output_type": "stream",
     "text": [
      "              precision    recall  f1-score   support\n",
      "\n",
      "          -1       0.64      0.47      0.54       249\n",
      "           0       0.53      0.43      0.47       473\n",
      "           1       0.77      0.82      0.79      1701\n",
      "           2       0.72      0.74      0.73       741\n",
      "\n",
      "    accuracy                           0.72      3164\n",
      "   macro avg       0.66      0.62      0.64      3164\n",
      "weighted avg       0.71      0.72      0.71      3164\n",
      "\n"
     ]
    }
   ],
   "source": [
    "pass_tf = PassiveAggressiveClassifier()\n",
    "pass_tf.fit(X_train, y_train)\n",
    "model_Evaluate(pass_tf)\n",
    "pred_pac_bigrams = pass_tf.predict(X_tR)"
   ]
  },
  {
   "cell_type": "markdown",
   "id": "43d35fc6",
   "metadata": {},
   "source": [
    "###### BernoulliB"
   ]
  },
  {
   "cell_type": "code",
   "execution_count": 281,
   "id": "0952919e",
   "metadata": {},
   "outputs": [
    {
     "name": "stdout",
     "output_type": "stream",
     "text": [
      "              precision    recall  f1-score   support\n",
      "\n",
      "          -1       0.00      0.00      0.00       249\n",
      "           0       0.89      0.07      0.13       473\n",
      "           1       0.60      0.98      0.74      1701\n",
      "           2       0.86      0.40      0.54       741\n",
      "\n",
      "    accuracy                           0.63      3164\n",
      "   macro avg       0.59      0.36      0.35      3164\n",
      "weighted avg       0.66      0.63      0.55      3164\n",
      "\n"
     ]
    },
    {
     "name": "stderr",
     "output_type": "stream",
     "text": [
      "C:\\Users\\kelida\\AppData\\Roaming\\Python\\Python39\\site-packages\\sklearn\\metrics\\_classification.py:1318: UndefinedMetricWarning: Precision and F-score are ill-defined and being set to 0.0 in labels with no predicted samples. Use `zero_division` parameter to control this behavior.\n",
      "  _warn_prf(average, modifier, msg_start, len(result))\n",
      "C:\\Users\\kelida\\AppData\\Roaming\\Python\\Python39\\site-packages\\sklearn\\metrics\\_classification.py:1318: UndefinedMetricWarning: Precision and F-score are ill-defined and being set to 0.0 in labels with no predicted samples. Use `zero_division` parameter to control this behavior.\n",
      "  _warn_prf(average, modifier, msg_start, len(result))\n",
      "C:\\Users\\kelida\\AppData\\Roaming\\Python\\Python39\\site-packages\\sklearn\\metrics\\_classification.py:1318: UndefinedMetricWarning: Precision and F-score are ill-defined and being set to 0.0 in labels with no predicted samples. Use `zero_division` parameter to control this behavior.\n",
      "  _warn_prf(average, modifier, msg_start, len(result))\n"
     ]
    }
   ],
   "source": [
    "BNBmodel = BernoulliNB()\n",
    "BNBmodel.fit(X_train, y_train)\n",
    "model_Evaluate(BNBmodel)\n",
    "y_pred1 = BNBmodel.predict(X_test)"
   ]
  },
  {
   "cell_type": "code",
   "execution_count": 282,
   "id": "be49703e",
   "metadata": {},
   "outputs": [
    {
     "name": "stdout",
     "output_type": "stream",
     "text": [
      "              precision    recall  f1-score   support\n",
      "\n",
      "          -1       0.00      0.00      0.00       249\n",
      "           0       0.89      0.07      0.13       473\n",
      "           1       0.60      0.98      0.74      1701\n",
      "           2       0.86      0.40      0.54       741\n",
      "\n",
      "    accuracy                           0.63      3164\n",
      "   macro avg       0.59      0.36      0.35      3164\n",
      "weighted avg       0.66      0.63      0.55      3164\n",
      "\n"
     ]
    },
    {
     "name": "stderr",
     "output_type": "stream",
     "text": [
      "C:\\Users\\kelida\\AppData\\Roaming\\Python\\Python39\\site-packages\\sklearn\\metrics\\_classification.py:1318: UndefinedMetricWarning: Precision and F-score are ill-defined and being set to 0.0 in labels with no predicted samples. Use `zero_division` parameter to control this behavior.\n",
      "  _warn_prf(average, modifier, msg_start, len(result))\n",
      "C:\\Users\\kelida\\AppData\\Roaming\\Python\\Python39\\site-packages\\sklearn\\metrics\\_classification.py:1318: UndefinedMetricWarning: Precision and F-score are ill-defined and being set to 0.0 in labels with no predicted samples. Use `zero_division` parameter to control this behavior.\n",
      "  _warn_prf(average, modifier, msg_start, len(result))\n",
      "C:\\Users\\kelida\\AppData\\Roaming\\Python\\Python39\\site-packages\\sklearn\\metrics\\_classification.py:1318: UndefinedMetricWarning: Precision and F-score are ill-defined and being set to 0.0 in labels with no predicted samples. Use `zero_division` parameter to control this behavior.\n",
      "  _warn_prf(average, modifier, msg_start, len(result))\n"
     ]
    }
   ],
   "source": [
    "#unseen data \n",
    "BNBmodel = BernoulliNB()\n",
    "BNBmodel.fit(X_train, y_train)\n",
    "model_Evaluate(BNBmodel)\n",
    "y_pred1 = BNBmodel.predict(X_tR)"
   ]
  },
  {
   "cell_type": "markdown",
   "id": "afd53427",
   "metadata": {},
   "source": [
    "Plot the ROC-AUC Curve for model-1"
   ]
  },
  {
   "cell_type": "code",
   "execution_count": 283,
   "id": "b9ab887d",
   "metadata": {
    "scrolled": true
   },
   "outputs": [
    {
     "name": "stdout",
     "output_type": "stream",
     "text": [
      "              precision    recall  f1-score   support\n",
      "\n",
      "          -1       0.75      0.45      0.57       249\n",
      "           0       0.60      0.41      0.49       473\n",
      "           1       0.77      0.87      0.82      1701\n",
      "           2       0.72      0.75      0.73       741\n",
      "\n",
      "    accuracy                           0.74      3164\n",
      "   macro avg       0.71      0.62      0.65      3164\n",
      "weighted avg       0.73      0.74      0.73      3164\n",
      "\n"
     ]
    }
   ],
   "source": [
    "SVCmodel = LinearSVC()\n",
    "SVCmodel.fit(X_train, y_train)\n",
    "model_Evaluate(SVCmodel)\n",
    "y_pred2 = SVCmodel.predict(X_test)"
   ]
  },
  {
   "cell_type": "code",
   "execution_count": 284,
   "id": "df6751bf",
   "metadata": {},
   "outputs": [
    {
     "name": "stdout",
     "output_type": "stream",
     "text": [
      "              precision    recall  f1-score   support\n",
      "\n",
      "          -1       0.75      0.45      0.57       249\n",
      "           0       0.60      0.41      0.49       473\n",
      "           1       0.77      0.87      0.82      1701\n",
      "           2       0.72      0.75      0.73       741\n",
      "\n",
      "    accuracy                           0.74      3164\n",
      "   macro avg       0.71      0.62      0.65      3164\n",
      "weighted avg       0.73      0.74      0.73      3164\n",
      "\n"
     ]
    }
   ],
   "source": [
    "#unseen data\n",
    "SVCmodel = LinearSVC()\n",
    "SVCmodel.fit(X_train, y_train)\n",
    "model_Evaluate(SVCmodel)\n",
    "y_pred2 = SVCmodel.predict(X_tR)\n"
   ]
  },
  {
   "cell_type": "code",
   "execution_count": 285,
   "id": "9b13a7f1",
   "metadata": {
    "scrolled": true
   },
   "outputs": [
    {
     "name": "stderr",
     "output_type": "stream",
     "text": [
      "C:\\Users\\kelida\\AppData\\Local\\Temp/ipykernel_8504/4065103568.py:3: SettingWithCopyWarning: \n",
      "A value is trying to be set on a copy of a slice from a DataFrame.\n",
      "Try using .loc[row_indexer,col_indexer] = value instead\n",
      "\n",
      "See the caveats in the documentation: https://pandas.pydata.org/pandas-docs/stable/user_guide/indexing.html#returning-a-view-versus-a-copy\n",
      "  kaggle_svc['sentiment']= y_pred2\n"
     ]
    }
   ],
   "source": [
    "#The following codes are used to save the expected predictions for kaggle submission\n",
    "kaggle_svc = dft[['tweetid']]\n",
    "kaggle_svc['sentiment']= y_pred2\n",
    "kaggle_svc.to_csv('sentiment_svc.csv', index = None)"
   ]
  },
  {
   "cell_type": "code",
   "execution_count": 286,
   "id": "a2fa44a6",
   "metadata": {
    "scrolled": true
   },
   "outputs": [
    {
     "name": "stdout",
     "output_type": "stream",
     "text": [
      "              precision    recall  f1-score   support\n",
      "\n",
      "          -1       0.78      0.39      0.52       249\n",
      "           0       0.64      0.38      0.47       473\n",
      "           1       0.74      0.89      0.81      1701\n",
      "           2       0.73      0.71      0.72       741\n",
      "\n",
      "    accuracy                           0.73      3164\n",
      "   macro avg       0.72      0.59      0.63      3164\n",
      "weighted avg       0.73      0.73      0.72      3164\n",
      "\n"
     ]
    }
   ],
   "source": [
    "LRmodel = LogisticRegression(C = 2, max_iter = 1000, n_jobs=-1)\n",
    "LRmodel.fit(X_train, y_train)\n",
    "model_Evaluate(LRmodel)\n",
    "y_pred3 = LRmodel.predict(X_test)"
   ]
  },
  {
   "cell_type": "code",
   "execution_count": null,
   "id": "76bbead8",
   "metadata": {},
   "outputs": [],
   "source": []
  },
  {
   "cell_type": "code",
   "execution_count": 287,
   "id": "0f381cb9",
   "metadata": {},
   "outputs": [
    {
     "name": "stdout",
     "output_type": "stream",
     "text": [
      "              precision    recall  f1-score   support\n",
      "\n",
      "          -1       0.78      0.39      0.52       249\n",
      "           0       0.64      0.38      0.47       473\n",
      "           1       0.74      0.89      0.81      1701\n",
      "           2       0.73      0.71      0.72       741\n",
      "\n",
      "    accuracy                           0.73      3164\n",
      "   macro avg       0.72      0.59      0.63      3164\n",
      "weighted avg       0.73      0.73      0.72      3164\n",
      "\n"
     ]
    }
   ],
   "source": [
    "LRmodel = LogisticRegression(C = 2, max_iter = 1000, n_jobs=-1)\n",
    "LRmodel.fit(X_train, y_train)\n",
    "model_Evaluate(LRmodel)\n",
    "y_pred3 = LRmodel.predict(X_tR)\n"
   ]
  },
  {
   "cell_type": "markdown",
   "id": "03e12fdb",
   "metadata": {},
   "source": [
    "#The following codes are used to save the expected predictions for kaggle submission\n",
    "kaggle_LR = dft[['tweetid']]\n",
    "kaggle_LR['sentiment']= y_pred3\n",
    "kaggle_LR.to_csv('sentiment_LR.csv', index = None)"
   ]
  },
  {
   "cell_type": "markdown",
   "id": "ee706cfd",
   "metadata": {},
   "source": [
    "######  Random Forest Classifier, and we will tune the hyperparameters using GridSearchCV."
   ]
  },
  {
   "cell_type": "markdown",
   "id": "0b096bf9",
   "metadata": {},
   "source": [
    "parameters = {'max_features': ('auto','sqrt'),\n",
    "             'n_estimators': [500, 1000, 1500],\n",
    "             'max_depth': [5, 10, None],\n",
    "             'min_samples_split': [5, 10, 15],\n",
    "             'min_samples_leaf': [1, 2, 5, 10],\n",
    "             'bootstrap': [True, False]}"
   ]
  },
  {
   "cell_type": "code",
   "execution_count": 288,
   "id": "6e7b8b50",
   "metadata": {},
   "outputs": [],
   "source": [
    "from sklearn.linear_model import PassiveAggressiveClassifier"
   ]
  },
  {
   "cell_type": "code",
   "execution_count": 289,
   "id": "6f33e9f6",
   "metadata": {},
   "outputs": [
    {
     "name": "stderr",
     "output_type": "stream",
     "text": [
      "COMET INFO: ---------------------------\n",
      "COMET INFO: Comet.ml Experiment Summary\n",
      "COMET INFO: ---------------------------\n",
      "COMET INFO:   Data:\n",
      "COMET INFO:     display_summary_level : 1\n",
      "COMET INFO:     url                   : https://www.comet.ml/keltings/climate-change-challenge-2022/f19a416167374429b8a9793cbb61c016\n",
      "COMET INFO:   Parameters:\n",
      "COMET INFO:     C                   : 2\n",
      "COMET INFO:     alpha               : 1.0\n",
      "COMET INFO:     analyzer            : word\n",
      "COMET INFO:     average             : False\n",
      "COMET INFO:     binarize            : 0.0\n",
      "COMET INFO:     binary              : False\n",
      "COMET INFO:     class_prior         : 1\n",
      "COMET INFO:     class_weight        : 1\n",
      "COMET INFO:     decode_error        : strict\n",
      "COMET INFO:     dtype               : <class 'numpy.float64'>\n",
      "COMET INFO:     dual                : False\n",
      "COMET INFO:     early_stopping      : False\n",
      "COMET INFO:     encoding            : utf-8\n",
      "COMET INFO:     fit_intercept       : True\n",
      "COMET INFO:     fit_prior           : True\n",
      "COMET INFO:     input               : content\n",
      "COMET INFO:     intercept_scaling   : 1\n",
      "COMET INFO:     l1_ratio            : 1\n",
      "COMET INFO:     loss                : squared_hinge\n",
      "COMET INFO:     lowercase           : True\n",
      "COMET INFO:     max_df              : 0.8\n",
      "COMET INFO:     max_features        : 1\n",
      "COMET INFO:     max_iter            : 1000\n",
      "COMET INFO:     min_df              : 1\n",
      "COMET INFO:     multi_class         : auto\n",
      "COMET INFO:     n_iter_no_change    : 5\n",
      "COMET INFO:     n_jobs              : -1\n",
      "COMET INFO:     neg_label           : 0\n",
      "COMET INFO:     ngram_range         : (1, 1)\n",
      "COMET INFO:     norm                : l2\n",
      "COMET INFO:     penalty             : l2\n",
      "COMET INFO:     pos_label           : 1\n",
      "COMET INFO:     preprocessor        : 1\n",
      "COMET INFO:     random_state        : 1\n",
      "COMET INFO:     shuffle             : True\n",
      "COMET INFO:     smooth_idf          : True\n",
      "COMET INFO:     solver              : lbfgs\n",
      "COMET INFO:     sparse_output       : False\n",
      "COMET INFO:     stop_words          : english\n",
      "COMET INFO:     strip_accents       : 1\n",
      "COMET INFO:     sublinear_tf        : False\n",
      "COMET INFO:     token_pattern       : (?u)\\b\\w\\w+\\b\n",
      "COMET INFO:     tokenizer           : 1\n",
      "COMET INFO:     tol                 : 0.0001\n",
      "COMET INFO:     use_idf             : True\n",
      "COMET INFO:     validation_fraction : 0.1\n",
      "COMET INFO:     verbose             : 0\n",
      "COMET INFO:     vocabulary          : 1\n",
      "COMET INFO:     warm_start          : False\n",
      "COMET INFO:   Uploads:\n",
      "COMET INFO:     conda-environment-definition : 1\n",
      "COMET INFO:     conda-info                   : 1\n",
      "COMET INFO:     conda-specification          : 1\n",
      "COMET INFO:     environment details          : 1\n",
      "COMET INFO:     filename                     : 1\n",
      "COMET INFO:     git metadata                 : 1\n",
      "COMET INFO:     git-patch (uncompressed)     : 1 (8.66 MB)\n",
      "COMET INFO:     installed packages           : 1\n",
      "COMET INFO:     notebook                     : 1\n",
      "COMET INFO:     source_code                  : 1\n",
      "COMET INFO: ---------------------------\n",
      "COMET INFO: Uploading metrics, params, and assets to Comet before program termination (may take several seconds)\n",
      "COMET INFO: The Python SDK has 3600 seconds to finish before aborting...\n",
      "COMET INFO: Waiting for completion of the file uploads (may take several seconds)\n",
      "COMET INFO: The Python SDK has 10800 seconds to finish before aborting...\n",
      "COMET INFO: Still uploading 2 file(s), remaining 21.39 KB/2.44 MB\n"
     ]
    }
   ],
   "source": [
    "experiment.end()"
   ]
  },
  {
   "cell_type": "code",
   "execution_count": null,
   "id": "8e1eb1ed",
   "metadata": {},
   "outputs": [],
   "source": []
  }
 ],
 "metadata": {
  "kernelspec": {
   "display_name": "Python 3 (ipykernel)",
   "language": "python",
   "name": "python3"
  },
  "language_info": {
   "codemirror_mode": {
    "name": "ipython",
    "version": 3
   },
   "file_extension": ".py",
   "mimetype": "text/x-python",
   "name": "python",
   "nbconvert_exporter": "python",
   "pygments_lexer": "ipython3",
   "version": "3.9.7"
  }
 },
 "nbformat": 4,
 "nbformat_minor": 5
}
