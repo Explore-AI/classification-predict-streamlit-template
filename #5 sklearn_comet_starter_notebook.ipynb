{
 "cells": [
  {
   "cell_type": "markdown",
   "metadata": {
    "id": "-XweBu-_x9Vj"
   },
   "source": [
    "## Introduction to Comet ML  \n",
    "\n",
    "Comet is a great tool for model versioning and experimentation as it records the parameters and conditions from each of your experiements- allowing you to reproduce your results, or go back to a previous version of your experiment.  \n",
    "\n",
    "To create an account, visit https://www.comet.ml/  \n",
    "Follow the instructions for a single user account. Once that is created, you will see a project folder. That is where the records of your experiments can be viewed. \n",
    "\n",
    "Comet has an abundance of tutorials and scripts, we're just going to run through this notebook to get you started on the right track. For this illustration, we will be using one of the examples found on the Comet ML GitHub repo.\n",
    "\n",
    "To begin with, you should install as illustrated below if you don't already have it. *Always import Experiment at the top of your notebook/script.*\n"
   ]
  },
  {
   "cell_type": "code",
   "execution_count": 1,
   "metadata": {
    "colab": {
     "base_uri": "https://localhost:8080/",
     "height": 554
    },
    "id": "3Wd_iEgx6j2w",
    "outputId": "d4322780-007b-432b-82bf-093a48e93428"
   },
   "outputs": [
    {
     "name": "stdout",
     "output_type": "stream",
     "text": [
      "Collecting comet_ml\n",
      "  Downloading comet_ml-3.31.3-py2.py3-none-any.whl (353 kB)\n",
      "Requirement already satisfied: jsonschema!=3.1.0,>=2.6.0 in c:\\programdata\\anaconda3\\lib\\site-packages (from comet_ml) (3.2.0)\n",
      "Requirement already satisfied: six in c:\\programdata\\anaconda3\\lib\\site-packages (from comet_ml) (1.16.0)\n",
      "Collecting dulwich!=0.20.33,>=0.20.6\n",
      "  Downloading dulwich-0.20.42-cp39-cp39-win_amd64.whl (496 kB)\n",
      "Collecting nvidia-ml-py3>=7.352.0\n",
      "  Downloading nvidia-ml-py3-7.352.0.tar.gz (19 kB)\n",
      "Collecting semantic-version>=2.8.0\n",
      "  Downloading semantic_version-2.10.0-py2.py3-none-any.whl (15 kB)\n",
      "Requirement already satisfied: requests>=2.18.4 in c:\\programdata\\anaconda3\\lib\\site-packages (from comet_ml) (2.26.0)\n",
      "Collecting requests-toolbelt>=0.8.0\n",
      "  Downloading requests_toolbelt-0.9.1-py2.py3-none-any.whl (54 kB)\n",
      "Collecting everett[ini]>=1.0.1\n",
      "  Downloading everett-3.0.0-py2.py3-none-any.whl (35 kB)\n",
      "Collecting websocket-client>=0.55.0\n",
      "  Downloading websocket_client-1.3.2-py3-none-any.whl (54 kB)\n",
      "Requirement already satisfied: wrapt>=1.11.2 in c:\\programdata\\anaconda3\\lib\\site-packages (from comet_ml) (1.12.1)\n",
      "Collecting wurlitzer>=1.0.2\n",
      "  Downloading wurlitzer-3.0.2-py3-none-any.whl (7.3 kB)\n",
      "Requirement already satisfied: urllib3>=1.24.1 in c:\\programdata\\anaconda3\\lib\\site-packages (from dulwich!=0.20.33,>=0.20.6->comet_ml) (1.26.7)\n",
      "Requirement already satisfied: certifi in c:\\programdata\\anaconda3\\lib\\site-packages (from dulwich!=0.20.33,>=0.20.6->comet_ml) (2021.10.8)\n",
      "Collecting configobj\n",
      "  Downloading configobj-5.0.6.tar.gz (33 kB)\n",
      "Requirement already satisfied: attrs>=17.4.0 in c:\\programdata\\anaconda3\\lib\\site-packages (from jsonschema!=3.1.0,>=2.6.0->comet_ml) (21.2.0)\n",
      "Requirement already satisfied: pyrsistent>=0.14.0 in c:\\programdata\\anaconda3\\lib\\site-packages (from jsonschema!=3.1.0,>=2.6.0->comet_ml) (0.18.0)\n",
      "Requirement already satisfied: setuptools in c:\\programdata\\anaconda3\\lib\\site-packages (from jsonschema!=3.1.0,>=2.6.0->comet_ml) (58.0.4)\n",
      "Requirement already satisfied: idna<4,>=2.5 in c:\\programdata\\anaconda3\\lib\\site-packages (from requests>=2.18.4->comet_ml) (3.2)\n",
      "Requirement already satisfied: charset-normalizer~=2.0.0 in c:\\programdata\\anaconda3\\lib\\site-packages (from requests>=2.18.4->comet_ml) (2.0.4)\n",
      "Building wheels for collected packages: nvidia-ml-py3, configobj\n",
      "  Building wheel for nvidia-ml-py3 (setup.py): started\n",
      "  Building wheel for nvidia-ml-py3 (setup.py): finished with status 'done'\n",
      "  Created wheel for nvidia-ml-py3: filename=nvidia_ml_py3-7.352.0-py3-none-any.whl size=19191 sha256=a09a0cedf13dd430dbed13b9fed9481882e10a44e71188ffdf779c3f26e0e186\n",
      "  Stored in directory: c:\\users\\adetunji emmanuel\\appdata\\local\\pip\\cache\\wheels\\f6\\d8\\b0\\15cfd7805d39250ac29318105f09b1750683387630d68423e1\n",
      "  Building wheel for configobj (setup.py): started\n",
      "  Building wheel for configobj (setup.py): finished with status 'done'\n",
      "  Created wheel for configobj: filename=configobj-5.0.6-py3-none-any.whl size=34546 sha256=cf396e8fe92b028798cadf10b2a66b790ab1d41aa66517234bf1650d3ee16228\n",
      "  Stored in directory: c:\\users\\adetunji emmanuel\\appdata\\local\\pip\\cache\\wheels\\4b\\35\\53\\dfa4d3a4196794cb0a777a97c68dcf02b073d33de9c135d72a\n",
      "Successfully built nvidia-ml-py3 configobj\n",
      "Installing collected packages: everett, configobj, wurlitzer, websocket-client, semantic-version, requests-toolbelt, nvidia-ml-py3, dulwich, comet-ml\n",
      "Successfully installed comet-ml-3.31.3 configobj-5.0.6 dulwich-0.20.42 everett-3.0.0 nvidia-ml-py3-7.352.0 requests-toolbelt-0.9.1 semantic-version-2.10.0 websocket-client-1.3.2 wurlitzer-3.0.2\n"
     ]
    }
   ],
   "source": [
    "!pip install comet_ml"
   ]
  },
  {
   "cell_type": "code",
   "execution_count": 2,
   "metadata": {
    "id": "3jhxZfPg6qxH"
   },
   "outputs": [],
   "source": [
    "from comet_ml import Experiment"
   ]
  },
  {
   "cell_type": "markdown",
   "metadata": {
    "id": "cObkea-S7Y85"
   },
   "source": [
    "You will see an API key button at the top of the page when you click on an experiment- use this key as illustrated below to link your current workspace to comet. (If a project is empty, the code below will autogenerate for you on the project page, just copy and paste it in here)"
   ]
  },
  {
   "cell_type": "code",
   "execution_count": 4,
   "metadata": {
    "colab": {
     "base_uri": "https://localhost:8080/",
     "height": 50
    },
    "id": "S5cRjXOH7aTX",
    "outputId": "9de3fcce-d970-4393-f264-793fb2d4ac74"
   },
   "outputs": [
    {
     "name": "stderr",
     "output_type": "stream",
     "text": [
      "COMET WARNING: As you are running in a Jupyter environment, you will need to call `experiment.end()` when finished to ensure all metrics and code are logged before exiting.\n",
      "COMET INFO: Couldn't find a Git repository in 'C:\\\\Users\\\\Adetunji Emmanuel\\\\Downloads\\\\Explore\\\\#44 Predict_project_climate_change_classififcation' nor in any parent directory. You can override where Comet is looking for a Git Patch by setting the configuration `COMET_GIT_DIRECTORY`\n",
      "COMET INFO: Experiment is live on comet.ml https://www.comet.ml/adegbem/general/b516937b438749ba86508a10668f998f\n",
      "\n"
     ]
    }
   ],
   "source": [
    "# Setting the API key (saved as environment variable)\n",
    "experiment = Experiment(api_key='f33Dock0REbyUn9mCQymBC3Vf', project_name=\"general\", workspace=\"adegbem\") "
   ]
  },
  {
   "cell_type": "markdown",
   "metadata": {
    "id": "2dN3PMg07s0Q"
   },
   "source": [
    "Import the rest of your necessary libraries as you usually would. For this demonstration we will be using the breast cancer dataset for classification so we will also import that from sklearn."
   ]
  },
  {
   "cell_type": "code",
   "execution_count": 5,
   "metadata": {
    "id": "Q53Mocnc79cF"
   },
   "outputs": [],
   "source": [
    "import numpy as np\n",
    "from sklearn.datasets import load_breast_cancer\n",
    "from sklearn.model_selection import train_test_split, GridSearchCV\n",
    "from sklearn.linear_model import LogisticRegression\n",
    "from sklearn.tree import DecisionTreeClassifier\n",
    "from sklearn.preprocessing import StandardScaler\n",
    "from sklearn.metrics import f1_score, precision_score, recall_score, confusion_matrix"
   ]
  },
  {
   "cell_type": "code",
   "execution_count": 14,
   "metadata": {},
   "outputs": [],
   "source": [
    "import pandas as pd"
   ]
  },
  {
   "cell_type": "code",
   "execution_count": 6,
   "metadata": {
    "colab": {
     "base_uri": "https://localhost:8080/",
     "height": 286
    },
    "id": "olkD6zuo_VI9",
    "outputId": "5f6cd772-b2ec-4a7f-971d-4e3b71e785b8",
    "scrolled": false
   },
   "outputs": [
    {
     "name": "stdout",
     "output_type": "stream",
     "text": [
      "cancer.keys(): dict_keys(['data', 'target', 'frame', 'target_names', 'DESCR', 'feature_names', 'filename', 'data_module'])\n",
      "Shape of cancer data: (569, 30)\n",
      "\n",
      "Sample counts per class:\n",
      "{'malignant': 212, 'benign': 357}\n",
      "\n",
      "Feature names:\n",
      "['mean radius' 'mean texture' 'mean perimeter' 'mean area'\n",
      " 'mean smoothness' 'mean compactness' 'mean concavity'\n",
      " 'mean concave points' 'mean symmetry' 'mean fractal dimension'\n",
      " 'radius error' 'texture error' 'perimeter error' 'area error'\n",
      " 'smoothness error' 'compactness error' 'concavity error'\n",
      " 'concave points error' 'symmetry error' 'fractal dimension error'\n",
      " 'worst radius' 'worst texture' 'worst perimeter' 'worst area'\n",
      " 'worst smoothness' 'worst compactness' 'worst concavity'\n",
      " 'worst concave points' 'worst symmetry' 'worst fractal dimension']\n"
     ]
    }
   ],
   "source": [
    "# Have a look at your dataset\n",
    "cancer = load_breast_cancer()\n",
    "print(\"cancer.keys(): {}\".format(cancer.keys()))\n",
    "print(\"Shape of cancer data: {}\\n\".format(cancer.data.shape))\n",
    "print(\"Sample counts per class:\\n{}\".format(\n",
    "      {n: v for n, v in zip(cancer.target_names, np.bincount(cancer.target))}))\n",
    "print(\"\\nFeature names:\\n{}\".format(cancer.feature_names))"
   ]
  },
  {
   "cell_type": "markdown",
   "metadata": {
    "id": "H_KDcC6O_uon"
   },
   "source": [
    "Split your data into train and test sets, keep in mind that you need to set a random state for your results to be reproduced!"
   ]
  },
  {
   "cell_type": "code",
   "execution_count": 21,
   "metadata": {
    "id": "yHBLubxt_b2t"
   },
   "outputs": [],
   "source": [
    "X_train, X_test, y_train, y_test = train_test_split(\n",
    "    cancer.data,\n",
    "    cancer.target,\n",
    "    stratify=cancer.target,\n",
    "    random_state=7)"
   ]
  },
  {
   "cell_type": "code",
   "execution_count": 22,
   "metadata": {
    "id": "vjsyVrHF_kHR"
   },
   "outputs": [],
   "source": [
    "# Scale your data!\n",
    "\n",
    "scaler = StandardScaler()\n",
    "X_train_scaled = scaler.fit_transform(X_train)\n",
    "X_test_scaled = scaler.transform(X_test)"
   ]
  },
  {
   "cell_type": "markdown",
   "metadata": {
    "id": "93jtvJoIGxbK"
   },
   "source": [
    "## GridSearch \n",
    "\n",
    "For this example we've used a gridsearch but you may use a model with default parameters or your own parameters too- Just remember to add/remove the neccesary data when you are logging your parameters at the end of the experiment.\n",
    "\n",
    "The `param_grid` variable contains the 'C' values we want our gridsearch to iterate through.\n",
    "\n"
   ]
  },
  {
   "cell_type": "code",
   "execution_count": 23,
   "metadata": {
    "id": "B0yjyIgS_pde"
   },
   "outputs": [],
   "source": [
    "logreg = LogisticRegression()\n",
    "param_grid = {'C': [0.001, 0.01, 0.1, 1, 5, 10, 20, 50, 100]}"
   ]
  },
  {
   "cell_type": "code",
   "execution_count": 24,
   "metadata": {
    "id": "PjWzBbbqF_S1"
   },
   "outputs": [],
   "source": [
    "# Training and testing using GridSearch\n",
    "clf = GridSearchCV(logreg,\n",
    "                   param_grid=param_grid,\n",
    "                   cv=10,\n",
    "                   n_jobs=-1)\n",
    "\n",
    "clf.fit(X_train_scaled, y_train)\n",
    "y_pred = clf.predict(X_test_scaled)"
   ]
  },
  {
   "cell_type": "markdown",
   "metadata": {
    "id": "Qn57DHbLQSyF"
   },
   "source": [
    "## Results\n",
    "\n",
    "Now that our model has trained, we can have a look at the results- Below is a confusion matrix indicating that at first glance, we have a fairly good model going. We then save the F1 score, Precision, and Recall as individual variables to go into our metric dictionary for logging.\n",
    "\n",
    "P.S. have a look at the Comet tutorial page for interesting confusion matrix plots."
   ]
  },
  {
   "cell_type": "code",
   "execution_count": 25,
   "metadata": {
    "colab": {
     "base_uri": "https://localhost:8080/",
     "height": 101
    },
    "id": "wPerWtdRGFvx",
    "outputId": "2c803aa1-f2e3-48ac-ca84-0d8324f8de64"
   },
   "outputs": [
    {
     "name": "stdout",
     "output_type": "stream",
     "text": [
      "\n",
      "Results\n",
      "Confusion matrix \n",
      " [[52  1]\n",
      " [ 2 88]]\n"
     ]
    }
   ],
   "source": [
    "print(\"\\nResults\\nConfusion matrix \\n {}\".format(\n",
    "    confusion_matrix(y_test, y_pred)))"
   ]
  },
  {
   "cell_type": "code",
   "execution_count": 26,
   "metadata": {
    "id": "arEXfiZPGLOd"
   },
   "outputs": [],
   "source": [
    "# Saving each metric to add to a dictionary for logging\n",
    "\n",
    "f1 = f1_score(y_test, y_pred)\n",
    "precision = precision_score(y_test, y_pred)\n",
    "recall = recall_score(y_test, y_pred)"
   ]
  },
  {
   "cell_type": "code",
   "execution_count": 27,
   "metadata": {
    "id": "-1kDE76cGRSd"
   },
   "outputs": [],
   "source": [
    "# Create dictionaries for the data we want to log\n",
    "\n",
    "params = {\"random_state\": 7,\n",
    "          \"model_type\": \"logreg\",\n",
    "          \"scaler\": \"standard scaler\",\n",
    "          \"param_grid\": str(param_grid),\n",
    "          \"stratify\": True\n",
    "          }\n",
    "metrics = {\"f1\": f1,\n",
    "           \"recall\": recall,\n",
    "           \"precision\": precision\n",
    "           }"
   ]
  },
  {
   "cell_type": "code",
   "execution_count": 28,
   "metadata": {
    "id": "oun_B6m5GXEz"
   },
   "outputs": [],
   "source": [
    "# Log our parameters and results\n",
    "experiment.log_parameters(params)\n",
    "experiment.log_metrics(metrics)"
   ]
  },
  {
   "cell_type": "markdown",
   "metadata": {
    "id": "wuUPB_amTU-0"
   },
   "source": [
    "If you're using comet within a jupyter notebook, it's important to end your experiment when you've finished as illustrated below."
   ]
  },
  {
   "cell_type": "code",
   "execution_count": 29,
   "metadata": {
    "colab": {
     "base_uri": "https://localhost:8080/",
     "height": 269
    },
    "id": "CbQ3tKA-G6rW",
    "outputId": "d5818c72-cc5b-4c51-d4ef-cea92962f19f"
   },
   "outputs": [
    {
     "name": "stderr",
     "output_type": "stream",
     "text": [
      "COMET INFO: ---------------------------\n",
      "COMET INFO: Comet.ml Experiment Summary\n",
      "COMET INFO: ---------------------------\n",
      "COMET INFO:   Data:\n",
      "COMET INFO:     display_summary_level : 1\n",
      "COMET INFO:     url                   : https://www.comet.ml/adegbem/general/b516937b438749ba86508a10668f998f\n",
      "COMET INFO:   Metrics:\n",
      "COMET INFO:     f1        : 0.9832402234636872\n",
      "COMET INFO:     precision : 0.9887640449438202\n",
      "COMET INFO:     recall    : 0.9777777777777777\n",
      "COMET INFO:   Parameters:\n",
      "COMET INFO:     C                            : 1\n",
      "COMET INFO:     class_weight                 : 1\n",
      "COMET INFO:     copy                         : True\n",
      "COMET INFO:     cv                           : 10\n",
      "COMET INFO:     dual                         : False\n",
      "COMET INFO:     error_score                  : nan\n",
      "COMET INFO:     estimator                    : LogisticRegression()\n",
      "COMET INFO:     estimator__C                 : 1.0\n",
      "COMET INFO:     estimator__class_weight      : 1\n",
      "COMET INFO:     estimator__dual              : False\n",
      "COMET INFO:     estimator__fit_intercept     : True\n",
      "COMET INFO:     estimator__intercept_scaling : 1\n",
      "COMET INFO:     estimator__l1_ratio          : 1\n",
      "COMET INFO:     estimator__max_iter          : 100\n",
      "COMET INFO:     estimator__multi_class       : auto\n",
      "COMET INFO:     estimator__n_jobs            : 1\n",
      "COMET INFO:     estimator__penalty           : l2\n",
      "COMET INFO:     estimator__random_state      : 1\n",
      "COMET INFO:     estimator__solver            : lbfgs\n",
      "COMET INFO:     estimator__tol               : 0.0001\n",
      "COMET INFO:     estimator__verbose           : 0\n",
      "COMET INFO:     estimator__warm_start        : False\n",
      "COMET INFO:     fit_intercept                : True\n",
      "COMET INFO:     intercept_scaling            : 1\n",
      "COMET INFO:     l1_ratio                     : 1\n",
      "COMET INFO:     max_iter                     : 100\n",
      "COMET INFO:     model_type                   : logreg\n",
      "COMET INFO:     multi_class                  : auto\n",
      "COMET INFO:     n_jobs                       : -1\n",
      "COMET INFO:     param_grid                   : {'C': [0.001, 0.01, 0.1, 1, 5, 10, 20, 50, 100]}\n",
      "COMET INFO:     penalty                      : l2\n",
      "COMET INFO:     pre_dispatch                 : 2*n_jobs\n",
      "COMET INFO:     random_state                 : 7\n",
      "COMET INFO:     refit                        : True\n",
      "COMET INFO:     return_train_score           : False\n",
      "COMET INFO:     scaler                       : standard scaler\n",
      "COMET INFO:     scoring                      : 1\n",
      "COMET INFO:     solver                       : lbfgs\n",
      "COMET INFO:     stratify                     : True\n",
      "COMET INFO:     tol                          : 0.0001\n",
      "COMET INFO:     verbose                      : 0\n",
      "COMET INFO:     warm_start                   : False\n",
      "COMET INFO:     with_mean                    : True\n",
      "COMET INFO:     with_std                     : True\n",
      "COMET INFO:   Uploads:\n",
      "COMET INFO:     conda-info          : 1\n",
      "COMET INFO:     conda-specification : 1\n",
      "COMET INFO:     environment details : 1\n",
      "COMET INFO:     filename            : 1\n",
      "COMET INFO:     installed packages  : 1\n",
      "COMET INFO:     notebook            : 1\n",
      "COMET INFO:     source_code         : 1\n",
      "COMET INFO: ---------------------------\n",
      "COMET ERROR: Error sending a notification, make sure you have opted-in for notifications\n",
      "COMET INFO: Uploading metrics, params, and assets to Comet before program termination (may take several seconds)\n",
      "COMET INFO: The Python SDK has 3600 seconds to finish before aborting...\n",
      "COMET INFO: Waiting for completion of the file uploads (may take several seconds)\n",
      "COMET INFO: The Python SDK has 10800 seconds to finish before aborting...\n",
      "COMET INFO: All files uploaded, waiting for confirmation they have been all received\n"
     ]
    }
   ],
   "source": [
    "experiment.end()"
   ]
  },
  {
   "cell_type": "markdown",
   "metadata": {
    "id": "BXuUORTEooIX"
   },
   "source": [
    "## Display  \n",
    "\n",
    "Running `experiment.display()` will show you your experiments comet.ml page inside your notebook as illustrated below. You can do this immediately after an experiment is run, and logged. "
   ]
  },
  {
   "cell_type": "code",
   "execution_count": 30,
   "metadata": {
    "colab": {
     "base_uri": "https://localhost:8080/",
     "height": 821
    },
    "id": "B-5ZmY-ZHFRf",
    "outputId": "4ea3e2c5-783d-49af-e71e-aaa59e63ea18"
   },
   "outputs": [
    {
     "data": {
      "text/html": [
       "\n",
       "        <iframe\n",
       "            width=\"100%\"\n",
       "            height=\"800px\"\n",
       "            src=\"https://www.comet.ml/adegbem/general/b516937b438749ba86508a10668f998f\"\n",
       "            frameborder=\"0\"\n",
       "            allowfullscreen\n",
       "            \n",
       "        ></iframe>\n",
       "        "
      ],
      "text/plain": [
       "<IPython.lib.display.IFrame at 0x294358fd070>"
      ]
     },
     "metadata": {},
     "output_type": "display_data"
    }
   ],
   "source": [
    "experiment.display()"
   ]
  },
  {
   "cell_type": "code",
   "execution_count": null,
   "metadata": {
    "id": "fupy3YeZolRA"
   },
   "outputs": [],
   "source": []
  }
 ],
 "metadata": {
  "colab": {
   "collapsed_sections": [],
   "name": "sklearn_comet_starter_notebook.ipynb",
   "provenance": []
  },
  "kernelspec": {
   "display_name": "Python 3 (ipykernel)",
   "language": "python",
   "name": "python3"
  },
  "language_info": {
   "codemirror_mode": {
    "name": "ipython",
    "version": 3
   },
   "file_extension": ".py",
   "mimetype": "text/x-python",
   "name": "python",
   "nbconvert_exporter": "python",
   "pygments_lexer": "ipython3",
   "version": "3.9.7"
  }
 },
 "nbformat": 4,
 "nbformat_minor": 1
}
