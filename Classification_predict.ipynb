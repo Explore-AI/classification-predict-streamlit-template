{
 "cells": [
  {
   "cell_type": "markdown",
   "id": "6eb02c85-55be-4f3a-b3de-5a54038473b0",
   "metadata": {},
   "source": [
    "# Classification Predict Student Solution\n",
    "\n",
    "© Explore Data Science Academy\n",
    "\n",
    "---\n",
    "### Honour Code\n",
    "\n",
    "Team CB3, confirm - by submitting this document - that the solutions in this notebook are a result of my own work and that I abide by the [EDSA honour code](https://drive.google.com/file/d/1QDCjGZJ8-FmJE3bZdIQNwnJyQKPhHZBn/view?usp=sharing).\n"
   ]
  },
  {
   "cell_type": "markdown",
   "id": "01ea019a-67c5-43d8-a72c-9d11d915c928",
   "metadata": {},
   "source": [
    "![alt text here](https://co2cards.com/wp-content/uploads/climate-change-0-787x340.jpg)"
   ]
  },
  {
   "cell_type": "markdown",
   "id": "8661b587-7b60-41c1-9ec1-13d424b670ff",
   "metadata": {},
   "source": [
    "### Predict Overview: \n",
    "\n",
    "\n",
    "\"Many companies are built around lessening one’s environmental impact or carbon footprint. They offer products and services that are environmentally friendly and sustainable, in line with their values and ideals. They would like to determine how people perceive climate change and whether or not they believe it is a real threat. This would add to their market research efforts in gauging how their product/service may be received.\n",
    "\n",
    "Our purpose with this predict is to develop a Machine Learning model that is able to classify whether or not a person believes in climate change, based on their novel tweet data.\n",
    "\n",
    "This will assist companies with a broader view of customer believes, assisting companies with future marketing strategies.\"\n"
   ]
  },
  {
   "cell_type": "markdown",
   "id": "6c7f9ac5-9ec2-4aba-a8b1-3aedcdd8d0d2",
   "metadata": {},
   "source": [
    "<a id=\"cont\"></a>\n",
    "\n",
    "## Table of Contents\n",
    "\n",
    "<a href=#one>1. Importing Packages</a>\n",
    "\n",
    "<a href=#two>2. Loading Data</a>\n",
    "\n",
    "<a href=#three>3. Exploratory Data Analysis (EDA)</a>\n",
    "\n",
    "<a href=#four>4. Data Engineering</a>\n",
    "\n",
    "<a href=#five>5. Modeling</a>\n",
    "\n",
    "<a href=#six>6. Model Performance</a>\n",
    "\n",
    "<a href=#seven>7. Model Explanations</a>\n",
    "\n",
    "<a href=#seven>8. Test For Kaggle</a>\n",
    "\n",
    "<a href=#seven>9. Web APP</a>"
   ]
  },
  {
   "cell_type": "markdown",
   "id": "ea6019e1-ce3a-4856-9f70-0bec581900ff",
   "metadata": {},
   "source": [
    "<a id=\"one\"></a>\n",
    "## 1. Importing Packages\n",
    "<a href=#cont>Back to Table of Contents</a>\n"
   ]
  },
  {
   "cell_type": "markdown",
   "id": "02ee8487-c8e4-4068-a0ef-d2013f2b98f3",
   "metadata": {},
   "source": [
    "Import numpy to assist with data calculations\n",
    "Import pandas to import data and manipulate the data\n",
    "Import matplotlib and seaborn for visualisation"
   ]
  },
  {
   "cell_type": "code",
   "execution_count": 23,
   "id": "cefcf41c-9609-4173-86a9-1d7c4c1df492",
   "metadata": {},
   "outputs": [
    {
     "name": "stderr",
     "output_type": "stream",
     "text": [
      "[nltk_data] Downloading package punkt to\n",
      "[nltk_data]     C:\\Users\\schut\\AppData\\Roaming\\nltk_data...\n",
      "[nltk_data]   Package punkt is already up-to-date!\n",
      "[nltk_data] Downloading package stopwords to\n",
      "[nltk_data]     C:\\Users\\schut\\AppData\\Roaming\\nltk_data...\n",
      "[nltk_data]   Package stopwords is already up-to-date!\n"
     ]
    }
   ],
   "source": [
    "import pandas as pd\n",
    "import nltk\n",
    "import numpy as np\n",
    "\n",
    "#Data Engineering\n",
    "import re\n",
    "from nltk.corpus import stopwords\n",
    "#nltk.download(['punkt', 'stopwords'])\n",
    "import string\n",
    "\n",
    "#Visualisation\n",
    "import matplotlib.pyplot as plt\n",
    "%matplotlib inline\n",
    "import seaborn as sns\n"
   ]
  },
  {
   "cell_type": "markdown",
   "id": "e3c63d84-9226-4198-8d21-921a771548d7",
   "metadata": {},
   "source": [
    "<a id=\"two\"></a>\n",
    "## 2. Loading the Data\n",
    "<a class=\"anchor\" id=\"1.1\"></a>\n",
    "<a href=#cont>Back to Table of Contents</a>\n"
   ]
  },
  {
   "cell_type": "markdown",
   "id": "1f9188f0-c974-43a6-a999-4b76caf99072",
   "metadata": {},
   "source": [
    "Load train and test data into dataframes"
   ]
  },
  {
   "cell_type": "code",
   "execution_count": 22,
   "id": "6d3f8866-31eb-4179-97d6-f68fe5f0b3b5",
   "metadata": {},
   "outputs": [],
   "source": [
    "df = pd.read_csv('train.csv')\n",
    "df_test = pd.read_csv('test_with_no_labels.csv')"
   ]
  },
  {
   "cell_type": "markdown",
   "id": "bdff12e6-1059-49a0-8feb-92089317ca5f",
   "metadata": {},
   "source": [
    "<a id=\"three\"></a>\n",
    "## 3. Exploratory Data Analysis (EDA)\n",
    "<a class=\"anchor\" id=\"1.1\"></a>\n",
    "<a href=#cont>Back to Table of Contents</a>"
   ]
  },
  {
   "cell_type": "markdown",
   "id": "0cb54145-2c86-42a8-a5c5-bcf071eaa41d",
   "metadata": {},
   "source": [
    "Add explanation"
   ]
  },
  {
   "cell_type": "code",
   "execution_count": 34,
   "id": "9373ddaf-2a84-4d83-a1ee-2b6a2a6840f3",
   "metadata": {},
   "outputs": [
    {
     "data": {
      "text/html": [
       "<div>\n",
       "<style scoped>\n",
       "    .dataframe tbody tr th:only-of-type {\n",
       "        vertical-align: middle;\n",
       "    }\n",
       "\n",
       "    .dataframe tbody tr th {\n",
       "        vertical-align: top;\n",
       "    }\n",
       "\n",
       "    .dataframe thead th {\n",
       "        text-align: right;\n",
       "    }\n",
       "</style>\n",
       "<table border=\"1\" class=\"dataframe\">\n",
       "  <thead>\n",
       "    <tr style=\"text-align: right;\">\n",
       "      <th></th>\n",
       "      <th>sentiment</th>\n",
       "      <th>message</th>\n",
       "      <th>tweetid</th>\n",
       "    </tr>\n",
       "  </thead>\n",
       "  <tbody>\n",
       "    <tr>\n",
       "      <th>0</th>\n",
       "      <td>1</td>\n",
       "      <td>PolySciMajor EPA chief doesn't think carbon di...</td>\n",
       "      <td>625221</td>\n",
       "    </tr>\n",
       "    <tr>\n",
       "      <th>1</th>\n",
       "      <td>1</td>\n",
       "      <td>It's not like we lack evidence of anthropogeni...</td>\n",
       "      <td>126103</td>\n",
       "    </tr>\n",
       "    <tr>\n",
       "      <th>2</th>\n",
       "      <td>2</td>\n",
       "      <td>RT @RawStory: Researchers say we have three ye...</td>\n",
       "      <td>698562</td>\n",
       "    </tr>\n",
       "    <tr>\n",
       "      <th>3</th>\n",
       "      <td>1</td>\n",
       "      <td>#TodayinMaker# WIRED : 2016 was a pivotal year...</td>\n",
       "      <td>573736</td>\n",
       "    </tr>\n",
       "    <tr>\n",
       "      <th>4</th>\n",
       "      <td>1</td>\n",
       "      <td>RT @SoyNovioDeTodas: It's 2016, and a racist, ...</td>\n",
       "      <td>466954</td>\n",
       "    </tr>\n",
       "    <tr>\n",
       "      <th>5</th>\n",
       "      <td>1</td>\n",
       "      <td>Worth a read whether you do or don't believe i...</td>\n",
       "      <td>425577</td>\n",
       "    </tr>\n",
       "    <tr>\n",
       "      <th>6</th>\n",
       "      <td>1</td>\n",
       "      <td>RT @thenation: Mike Pence doesn’t believe in g...</td>\n",
       "      <td>294933</td>\n",
       "    </tr>\n",
       "    <tr>\n",
       "      <th>7</th>\n",
       "      <td>1</td>\n",
       "      <td>RT @makeandmendlife: Six big things we can ALL...</td>\n",
       "      <td>992717</td>\n",
       "    </tr>\n",
       "    <tr>\n",
       "      <th>8</th>\n",
       "      <td>1</td>\n",
       "      <td>@AceofSpadesHQ My 8yo nephew is inconsolable. ...</td>\n",
       "      <td>664510</td>\n",
       "    </tr>\n",
       "    <tr>\n",
       "      <th>9</th>\n",
       "      <td>1</td>\n",
       "      <td>RT @paigetweedy: no offense… but like… how do ...</td>\n",
       "      <td>260471</td>\n",
       "    </tr>\n",
       "    <tr>\n",
       "      <th>10</th>\n",
       "      <td>1</td>\n",
       "      <td>RT @StephenSchlegel: she's thinking about how ...</td>\n",
       "      <td>295793</td>\n",
       "    </tr>\n",
       "    <tr>\n",
       "      <th>11</th>\n",
       "      <td>1</td>\n",
       "      <td>I do hope people who are vocal about climate c...</td>\n",
       "      <td>763719</td>\n",
       "    </tr>\n",
       "    <tr>\n",
       "      <th>12</th>\n",
       "      <td>2</td>\n",
       "      <td>RT @tveitdal: We only have a 5 percent chance ...</td>\n",
       "      <td>454673</td>\n",
       "    </tr>\n",
       "    <tr>\n",
       "      <th>13</th>\n",
       "      <td>1</td>\n",
       "      <td>RT @Alifaith55: Oh. My. God.\\n\\nTrump's Govern...</td>\n",
       "      <td>41161</td>\n",
       "    </tr>\n",
       "    <tr>\n",
       "      <th>14</th>\n",
       "      <td>2</td>\n",
       "      <td>Fossil fuel giant ExxonMobil ‘misled’ the publ...</td>\n",
       "      <td>658092</td>\n",
       "    </tr>\n",
       "    <tr>\n",
       "      <th>15</th>\n",
       "      <td>1</td>\n",
       "      <td>RT @GlblCtzn: 'I don't wanna live forever – an...</td>\n",
       "      <td>319524</td>\n",
       "    </tr>\n",
       "    <tr>\n",
       "      <th>16</th>\n",
       "      <td>1</td>\n",
       "      <td>RT @jackholmes0: Issues scrubbed from https://...</td>\n",
       "      <td>698009</td>\n",
       "    </tr>\n",
       "    <tr>\n",
       "      <th>17</th>\n",
       "      <td>1</td>\n",
       "      <td>RT @patagonia: If our elected leaders fail to ...</td>\n",
       "      <td>490604</td>\n",
       "    </tr>\n",
       "    <tr>\n",
       "      <th>18</th>\n",
       "      <td>1</td>\n",
       "      <td>RT @SenSanders: We have a president-elect who ...</td>\n",
       "      <td>228658</td>\n",
       "    </tr>\n",
       "    <tr>\n",
       "      <th>19</th>\n",
       "      <td>0</td>\n",
       "      <td>Calum: *tweets abt reunitingish w the cast*\\n-...</td>\n",
       "      <td>547924</td>\n",
       "    </tr>\n",
       "  </tbody>\n",
       "</table>\n",
       "</div>"
      ],
      "text/plain": [
       "    sentiment                                            message  tweetid\n",
       "0           1  PolySciMajor EPA chief doesn't think carbon di...   625221\n",
       "1           1  It's not like we lack evidence of anthropogeni...   126103\n",
       "2           2  RT @RawStory: Researchers say we have three ye...   698562\n",
       "3           1  #TodayinMaker# WIRED : 2016 was a pivotal year...   573736\n",
       "4           1  RT @SoyNovioDeTodas: It's 2016, and a racist, ...   466954\n",
       "5           1  Worth a read whether you do or don't believe i...   425577\n",
       "6           1  RT @thenation: Mike Pence doesn’t believe in g...   294933\n",
       "7           1  RT @makeandmendlife: Six big things we can ALL...   992717\n",
       "8           1  @AceofSpadesHQ My 8yo nephew is inconsolable. ...   664510\n",
       "9           1  RT @paigetweedy: no offense… but like… how do ...   260471\n",
       "10          1  RT @StephenSchlegel: she's thinking about how ...   295793\n",
       "11          1  I do hope people who are vocal about climate c...   763719\n",
       "12          2  RT @tveitdal: We only have a 5 percent chance ...   454673\n",
       "13          1  RT @Alifaith55: Oh. My. God.\\n\\nTrump's Govern...    41161\n",
       "14          2  Fossil fuel giant ExxonMobil ‘misled’ the publ...   658092\n",
       "15          1  RT @GlblCtzn: 'I don't wanna live forever – an...   319524\n",
       "16          1  RT @jackholmes0: Issues scrubbed from https://...   698009\n",
       "17          1  RT @patagonia: If our elected leaders fail to ...   490604\n",
       "18          1  RT @SenSanders: We have a president-elect who ...   228658\n",
       "19          0  Calum: *tweets abt reunitingish w the cast*\\n-...   547924"
      ]
     },
     "execution_count": 34,
     "metadata": {},
     "output_type": "execute_result"
    }
   ],
   "source": [
    "df.head(20)"
   ]
  },
  {
   "cell_type": "code",
   "execution_count": 4,
   "id": "6c224d07-42d0-4f15-b4b7-2dbe3b184d11",
   "metadata": {},
   "outputs": [
    {
     "data": {
      "text/plain": [
       "(15819, 3)"
      ]
     },
     "execution_count": 4,
     "metadata": {},
     "output_type": "execute_result"
    }
   ],
   "source": [
    "df.shape"
   ]
  },
  {
   "cell_type": "code",
   "execution_count": 11,
   "id": "677a7735-216b-4d3c-8b42-7f81f9c527a0",
   "metadata": {},
   "outputs": [
    {
     "data": {
      "text/html": [
       "<div>\n",
       "<style scoped>\n",
       "    .dataframe tbody tr th:only-of-type {\n",
       "        vertical-align: middle;\n",
       "    }\n",
       "\n",
       "    .dataframe tbody tr th {\n",
       "        vertical-align: top;\n",
       "    }\n",
       "\n",
       "    .dataframe thead tr th {\n",
       "        text-align: left;\n",
       "    }\n",
       "\n",
       "    .dataframe thead tr:last-of-type th {\n",
       "        text-align: right;\n",
       "    }\n",
       "</style>\n",
       "<table border=\"1\" class=\"dataframe\">\n",
       "  <thead>\n",
       "    <tr>\n",
       "      <th></th>\n",
       "      <th colspan=\"8\" halign=\"left\">tweetid</th>\n",
       "    </tr>\n",
       "    <tr>\n",
       "      <th></th>\n",
       "      <th>count</th>\n",
       "      <th>mean</th>\n",
       "      <th>std</th>\n",
       "      <th>min</th>\n",
       "      <th>25%</th>\n",
       "      <th>50%</th>\n",
       "      <th>75%</th>\n",
       "      <th>max</th>\n",
       "    </tr>\n",
       "    <tr>\n",
       "      <th>sentiment</th>\n",
       "      <th></th>\n",
       "      <th></th>\n",
       "      <th></th>\n",
       "      <th></th>\n",
       "      <th></th>\n",
       "      <th></th>\n",
       "      <th></th>\n",
       "      <th></th>\n",
       "    </tr>\n",
       "  </thead>\n",
       "  <tbody>\n",
       "    <tr>\n",
       "      <th>-1</th>\n",
       "      <td>1296.0</td>\n",
       "      <td>499169.447531</td>\n",
       "      <td>289509.003781</td>\n",
       "      <td>1422.0</td>\n",
       "      <td>243479.25</td>\n",
       "      <td>494572.0</td>\n",
       "      <td>759714.75</td>\n",
       "      <td>999537.0</td>\n",
       "    </tr>\n",
       "    <tr>\n",
       "      <th>0</th>\n",
       "      <td>2353.0</td>\n",
       "      <td>496550.249894</td>\n",
       "      <td>286519.834520</td>\n",
       "      <td>229.0</td>\n",
       "      <td>250733.00</td>\n",
       "      <td>483496.0</td>\n",
       "      <td>734897.00</td>\n",
       "      <td>999888.0</td>\n",
       "    </tr>\n",
       "    <tr>\n",
       "      <th>1</th>\n",
       "      <td>8530.0</td>\n",
       "      <td>507418.550762</td>\n",
       "      <td>289537.581404</td>\n",
       "      <td>6.0</td>\n",
       "      <td>257622.75</td>\n",
       "      <td>511867.5</td>\n",
       "      <td>761983.50</td>\n",
       "      <td>999698.0</td>\n",
       "    </tr>\n",
       "    <tr>\n",
       "      <th>2</th>\n",
       "      <td>3640.0</td>\n",
       "      <td>492613.500275</td>\n",
       "      <td>289163.550697</td>\n",
       "      <td>86.0</td>\n",
       "      <td>246628.25</td>\n",
       "      <td>490980.0</td>\n",
       "      <td>738188.50</td>\n",
       "      <td>999236.0</td>\n",
       "    </tr>\n",
       "  </tbody>\n",
       "</table>\n",
       "</div>"
      ],
      "text/plain": [
       "          tweetid                                                             \\\n",
       "            count           mean            std     min        25%       50%   \n",
       "sentiment                                                                      \n",
       "-1         1296.0  499169.447531  289509.003781  1422.0  243479.25  494572.0   \n",
       " 0         2353.0  496550.249894  286519.834520   229.0  250733.00  483496.0   \n",
       " 1         8530.0  507418.550762  289537.581404     6.0  257622.75  511867.5   \n",
       " 2         3640.0  492613.500275  289163.550697    86.0  246628.25  490980.0   \n",
       "\n",
       "                                \n",
       "                 75%       max  \n",
       "sentiment                       \n",
       "-1         759714.75  999537.0  \n",
       " 0         734897.00  999888.0  \n",
       " 1         761983.50  999698.0  \n",
       " 2         738188.50  999236.0  "
      ]
     },
     "execution_count": 11,
     "metadata": {},
     "output_type": "execute_result"
    }
   ],
   "source": [
    "#Investigate number per category - sentiment\n",
    "df.groupby('sentiment').describe()"
   ]
  },
  {
   "cell_type": "markdown",
   "id": "fea9c406-b4d9-4a16-8506-7b24788c28f9",
   "metadata": {},
   "source": [
    "**Class Description**\n",
    "Data consists of 15 819 records, consisting of:\n",
    "* News(2): the tweet links to factual news about climate change - 3 640 records\n",
    "* Pro(1): the tweet supports the belief of man-made climate change - 8 530 records\n",
    "* Neutral(0): the tweet neither supports nor refutes the belief of man-made climate change - 2 353 records\n",
    "* Anti(-1): the tweet does not believe in man-made climate change - 1 296 records"
   ]
  },
  {
   "cell_type": "markdown",
   "id": "3d2909c6-eb32-4e9a-98e7-483f1e04fc0e",
   "metadata": {},
   "source": [
    "<a id=\"four\"></a>\n",
    "## 4. Data Engineering\n",
    "<a class=\"anchor\" id=\"1.1\"></a>\n",
    "<a href=#cont>Back to Table of Contents</a>\n"
   ]
  },
  {
   "cell_type": "code",
   "execution_count": 12,
   "id": "8bdb9bf6-1595-4060-8d50-8bff5bdd0911",
   "metadata": {},
   "outputs": [],
   "source": [
    "#Make a copy of dataframe to start engineering phase\n",
    "df_tweet = df.copy()"
   ]
  },
  {
   "cell_type": "code",
   "execution_count": 13,
   "id": "2782a27f-2806-4983-be37-6d98e3b64d32",
   "metadata": {},
   "outputs": [],
   "source": [
    "#remove Line breaks\n",
    "df_tweet = df_tweet.replace('\\n', ' ')"
   ]
  },
  {
   "cell_type": "code",
   "execution_count": 29,
   "id": "5e644ff7-ac71-4a93-847b-0062ed663e17",
   "metadata": {},
   "outputs": [],
   "source": [
    "#Change all words in message to lower case and remove punctuations\n",
    "def remove_punctuation(words):\n",
    "    words = words.lower()\n",
    "    return ''.join([x for x in words if x not in string.punctuation])"
   ]
  },
  {
   "cell_type": "code",
   "execution_count": 30,
   "id": "de141b27-be55-4378-8780-2ba912a8cf8a",
   "metadata": {},
   "outputs": [],
   "source": [
    "df_tweet['message'] = df_tweet['message'].apply(remove_punctuation)"
   ]
  },
  {
   "cell_type": "code",
   "execution_count": 33,
   "id": "96985b40-f4d6-4cfd-a9f7-df9f40b17d0b",
   "metadata": {},
   "outputs": [],
   "source": [
    "#Remove all URL's and replace them with url-web\n",
    "pattern_url = r'http[s]?://(?:[A-Za-z]|[0-9]|[$-_@.&+]|[!*\\(\\),]|(?:%[0-9A-Fa-f][0-9A-Fa-f]))+'\n",
    "subs_url = r'url-web'\n",
    "df_tweet['message'] = df_tweet['message'].replace(to_replace = pattern_url, value = subs_url, regex = True)\n"
   ]
  },
  {
   "cell_type": "code",
   "execution_count": 35,
   "id": "3278d7ac-af3f-4445-a8da-1d2c07ab154f",
   "metadata": {},
   "outputs": [],
   "source": [
    "#Remove Stopwords\n",
    "# deal with @ signs and hashtags\n"
   ]
  },
  {
   "cell_type": "markdown",
   "id": "410691f6-e3b9-4992-9d3c-efa6dd5a0b78",
   "metadata": {},
   "source": [
    "<a id=\"five\"></a>\n",
    "## 5. Modelling\n",
    "<a class=\"anchor\" id=\"1.1\"></a>\n",
    "<a href=#cont>Back to Table of Contents</a>"
   ]
  },
  {
   "cell_type": "code",
   "execution_count": null,
   "id": "9bf918f8-50cf-48ef-aa70-78018fcc7073",
   "metadata": {},
   "outputs": [],
   "source": []
  },
  {
   "cell_type": "markdown",
   "id": "3bc6cae9-9787-449a-9574-7f1032323c03",
   "metadata": {},
   "source": [
    "<a id=\"six\"></a>\n",
    "## 6. Model Performance\n",
    "<a class=\"anchor\" id=\"1.1\"></a>\n",
    "<a href=#cont>Back to Table of Contents</a>\n"
   ]
  },
  {
   "cell_type": "markdown",
   "id": "95c56117-bef6-46f0-9f49-8dbc4fca544f",
   "metadata": {},
   "source": [
    "<a id=\"seven\"></a>\n",
    "## 7. Model Explanations\n",
    "<a class=\"anchor\" id=\"1.1\"></a>\n",
    "<a href=#cont>Back to Table of Contents</a>"
   ]
  },
  {
   "cell_type": "markdown",
   "id": "4ee51f47-d84d-42ec-bf9f-35fa2521de74",
   "metadata": {},
   "source": [
    "<a id=\"seven\"></a>\n",
    "## 8. Test For Kaggle\n",
    "<a class=\"anchor\" id=\"1.1\"></a>\n",
    "<a href=#cont>Back to Table of Contents</a>"
   ]
  },
  {
   "cell_type": "markdown",
   "id": "f82a700a-f77d-4b8c-b4c8-ee85a7a5d3a6",
   "metadata": {},
   "source": [
    "<a id=\"seven\"></a>\n",
    "## 9. Web APP\n",
    "<a class=\"anchor\" id=\"1.1\"></a>\n",
    "<a href=#cont>Back to Table of Contents</a>"
   ]
  },
  {
   "cell_type": "code",
   "execution_count": null,
   "id": "e5d563aa-3217-4d3c-8098-5b1ee193771c",
   "metadata": {},
   "outputs": [],
   "source": []
  }
 ],
 "metadata": {
  "kernelspec": {
   "display_name": "Python 3 (ipykernel)",
   "language": "python",
   "name": "python3"
  },
  "language_info": {
   "codemirror_mode": {
    "name": "ipython",
    "version": 3
   },
   "file_extension": ".py",
   "mimetype": "text/x-python",
   "name": "python",
   "nbconvert_exporter": "python",
   "pygments_lexer": "ipython3",
   "version": "3.9.7"
  }
 },
 "nbformat": 4,
 "nbformat_minor": 5
}
