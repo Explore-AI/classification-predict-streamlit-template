{
 "cells": [
  {
   "cell_type": "markdown",
   "metadata": {
    "id": "Tc6wG-x8VxWI"
   },
   "source": [
    "<a id='Top'></a>\n",
    "# CLASSIFICATION CHALLENGE\n",
    "\n",
    "© Explore Data Science Academy\n",
    "\n",
    "---\n"
   ]
  },
  {
   "cell_type": "markdown",
   "metadata": {},
   "source": [
    "###   Predict Overview: Climate Change Belief Analysis 2022\n",
    "\n",
    "Many companies are built around lessening one’s environmental impact or carbon footprint. They offer products and services that are environmentally friendly and sustainable, in line with their values and ideals. They would like to determine how people perceive climate change and whether or not they believe it is a real threat. This would add to their market research efforts in gauging how their product/service may be received.\n",
    "\n",
    "With this context, EDSA is challenging you during the Classification Sprint with the task of creating a Machine Learning model that is able to classify whether or not a person believes in climate change, based on their novel tweet data.\n",
    "\n",
    "Providing an accurate and robust solution to this task gives companies access to a broad base of consumer sentiment, spanning multiple demographic and geographic categories - thus increasing their insights and informing future marketing strategies."
   ]
  },
  {
   "cell_type": "markdown",
   "metadata": {
    "id": "kYCbx3PSVxWK"
   },
   "source": [
    "\n",
    "<a id=\"cont\"></a>\n",
    "\n",
    "## Table of Contents\n",
    "\n",
    "<a href=#one>1. INTRODUCTION</a>\n",
    "* [Problen Statement](#problemstament)\n",
    "* [Project Objectives](#po)\n",
    "* [Definition of Data Features](#dodf)\n",
    "* [Starting a Comet experiment](#StartingaCometexperiment)\n",
    "\n",
    "<a href=#two>2. Import necessary libraries</a>\n",
    "\n",
    "<a href=#three>3. Loading Datasets</a>\n",
    "\n",
    "<a href=#four>4. Data Preprocessing</a>\n",
    "\n",
    "<a href=#five>5. Analysis of the data</a>\n",
    "\n",
    "<a href=#six>6. Classification Model</a>\n",
    "\n",
    "<a href=#seven>7. Feature Egineering</a>\n",
    "* [TF-IDF](#tfidf)\n",
    "* [WORD2VEC](word2vec)\n",
    "\n",
    "<a href=#seven>7. Pipelines</a>\n",
    "  * [Building Classification Pipelines](#classifiers)\n",
    "  * [Using Word2Vec](#pipe_word2vec)\n",
    "\n",
    "<a href=#seven>7. Modelling and Evaluation</a>\n",
    "  * [Modelling - Raw tweets](#raw_tweets)\n",
    "  * [Modelling - Cleaned tweets](#clean_tweets)\n",
    "  * [Model perfomance (raw tweets vs cleaned tweets)](#rvc)\n",
    "  * [Model perfomance (tfidf vs word2vec)](tfidfvsword2vec)\n",
    "\n",
    "  \n",
    "<a href=#Eight>8. Ensemble Method</a>\n",
    "\n",
    "<a href=#Nine>9. Selecting the best model</a>\n",
    "\n",
    "<a href=#Ten>10. Predictions</a>\n",
    "\n",
    "<a href=#Eleven>11. Submission</a>\n",
    "\n",
    "<a href=#Twelve>12. conclusion</a>\n",
    "\n",
    "<a href=#Thirteen>13. appendix</a>\n",
    "\n",
    "<a href=#Fourteen>14. references</a>\n",
    "\n",
    "\n",
    "\n",
    "    \n",
    "    \n"
   ]
  },
  {
   "cell_type": "markdown",
   "metadata": {
    "id": "JLmvjzUHVxWL"
   },
   "source": [
    " <a id=\"one\"></a>\n",
    "## 1. INTRODUCTION\n",
    "<a href=#cont>Back to Table of Contents</a>\n",
    "\n",
    "---\n",
    "    \n",
    "| ⚡ Description: INTRODUCTION ⚡ |\n",
    "| :--------------------------- |\n",
    "| In this section we would talk about the problem stament and object tives as well as the difenition of data features, and briefly discuss, the Climate Change Belief Analysis. |"
   ]
  },
  {
   "cell_type": "markdown",
   "metadata": {
    "id": "NKSm-P-cVxWL"
   },
   "source": [
    "Companies are constructed around lessening ones environment impact or carbon footprint. They offer products and services that are environmentally friendly and sustainable, in line with their values and ideals. They would like to determine how people perceive climate change and whether or not they believe it is a real threat. "
   ]
  },
  {
   "cell_type": "markdown",
   "metadata": {
    "id": "T0TMPN2QVxWM"
   },
   "source": [
    "### Problen Statement\n",
    "\n",
    "Create a Natural Language Processing model to classify whether or not a person believes in climate change, based on their novel tweet data. "
   ]
  },
  {
   "cell_type": "markdown",
   "metadata": {
    "id": "T0TMPN2QVxWM"
   },
   "source": [
    "### Project Objectives"
   ]
  },
  {
   "cell_type": "markdown",
   "metadata": {
    "id": "T0TMPN2QVxWM"
   },
   "source": [
    "### Definition of Data Features"
   ]
  },
  {
   "cell_type": "markdown",
   "metadata": {
    "id": "BXS6GOF4VxWO"
   },
   "source": [
    "### Starting a Comet experiment\n",
    "<img src=\"https://www.comet.ml/images/logo_comet_light.png\" width=\"350\" alt=\"Drawing\" style=\"width: 350px;\"/>\n",
    "\n",
    "We will be using Comet as a form of version control throughout the development of our model"
   ]
  },
  {
   "cell_type": "markdown",
   "metadata": {
    "id": "Iv699tZoVxWa"
   },
   "source": [
    "# Import necessary libraries"
   ]
  },
  {
   "cell_type": "markdown",
   "metadata": {
    "id": "Z3wBf9yqVxWf"
   },
   "source": [
    "<a id='Load'></a>\n",
    "# Load and view the data"
   ]
  },
  {
   "cell_type": "markdown",
   "metadata": {
    "id": "xaXQWG2xVxWl"
   },
   "source": [
    "# Data Preprocessing"
   ]
  },
  {
   "cell_type": "markdown",
   "metadata": {
    "id": "D0US091BsjPe"
   },
   "source": [
    "Identifying Missing Values"
   ]
  },
  {
   "cell_type": "markdown",
   "metadata": {
    "id": "6e-cdv2vxYDU"
   },
   "source": [
    "Removing Mentions"
   ]
  },
  {
   "cell_type": "markdown",
   "metadata": {
    "id": "6jELrgFWxiha"
   },
   "source": [
    "Expand Contractions\n"
   ]
  },
  {
   "cell_type": "markdown",
   "metadata": {
    "id": "SqX-qoppGinx"
   },
   "source": [
    "Removing URLs"
   ]
  },
  {
   "cell_type": "markdown",
   "metadata": {
    "id": "aStx7k71xteX"
   },
   "source": [
    "Removing Punctuations"
   ]
  },
  {
   "cell_type": "markdown",
   "metadata": {
    "id": "8aEWBGgcx6U2"
   },
   "source": [
    "Tokenization"
   ]
  },
  {
   "cell_type": "markdown",
   "metadata": {
    "id": "95GYlV-xx_Ld"
   },
   "source": [
    "Removing Retweets"
   ]
  },
  {
   "cell_type": "markdown",
   "metadata": {
    "id": "Iu74caNEyUdF"
   },
   "source": [
    "Conversion to Lower case"
   ]
  },
  {
   "cell_type": "markdown",
   "metadata": {
    "id": "1qKaj-1U-MeY"
   },
   "source": [
    "Removing Stopwords"
   ]
  },
  {
   "cell_type": "markdown",
   "metadata": {
    "id": "peHsnPqZ-Z-Z"
   },
   "source": [
    "Lemmatization"
   ]
  },
  {
   "cell_type": "markdown",
   "metadata": {
    "id": "7idoQ_Dw-oZy"
   },
   "source": [
    "Most Frequent Words"
   ]
  },
  {
   "cell_type": "markdown",
   "metadata": {
    "id": "eceDA71t-z6b"
   },
   "source": [
    "Separate Datframes of Tweets for each Sentiment"
   ]
  },
  {
   "cell_type": "markdown",
   "metadata": {
    "id": "-VqeCRDaVxXY"
   },
   "source": [
    "# Exploratory Data Analysis\n",
    "\n",
    "In this section we want to apply a variety of techniques to maximize specific insights into our dataset, reveal underlying structure, extract significant variables, detect outliers and anomalies, test assumptions and determine best parameters for estimations. In essence, we want to dig deeper into our dataset to more insights about its behaviour!"
   ]
  }
 ],
 "metadata": {
  "colab": {
   "collapsed_sections": [
    "-VqeCRDaVxXY",
    "x9HLGvDNVxYM",
    "3TPRVVKQVxYO",
    "7rdfD0TkVxYO",
    "qL8jpnPxVxYP",
    "UCplaYUjVxYQ",
    "5QJEmvWVVxYQ",
    "LvDcaHe-VxYU",
    "25NQkdQ6VxYX"
   ],
   "name": "Climate_change_updated_2_0_Copy1_TEST. version 2.ipynb",
   "provenance": [],
   "toc_visible": true
  },
  "kernelspec": {
   "display_name": "Python 3",
   "language": "python",
   "name": "python3"
  },
  "language_info": {
   "codemirror_mode": {
    "name": "ipython",
    "version": 3
   },
   "file_extension": ".py",
   "mimetype": "text/x-python",
   "name": "python",
   "nbconvert_exporter": "python",
   "pygments_lexer": "ipython3",
   "version": "3.7.6"
  }
 },
 "nbformat": 4,
 "nbformat_minor": 1
}
