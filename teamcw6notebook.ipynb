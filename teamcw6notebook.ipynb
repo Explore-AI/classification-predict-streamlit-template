{
 "cells": [
  {
   "cell_type": "markdown",
   "id": "b3180a40-e60d-4c03-8096-4ae224490fe7",
   "metadata": {},
   "source": [
    "<h1>TEAM CW6 Climate Change Experiment</h1>"
   ]
  },
  {
   "cell_type": "markdown",
   "id": "436eb0b9-d087-4040-ac07-347489d50302",
   "metadata": {},
   "source": [
    "<h2>Problem statement</h2>"
   ]
  },
  {
   "cell_type": "markdown",
   "id": "73fe8e73-18b1-4bc9-bfc9-f20d8c7b5fb8",
   "metadata": {},
   "source": [
    "<h5>\n",
    "Many companies are built around lessening one’s environmental impact or carbon footprint. They offer products and services that are environmentally friendly and sustainable, in line with their values and ideals.\n",
    "</h5>\n",
    "<h5>\n",
    "They would like to determine how people perceive climate change and whether or not they believe it is a real threat. This would add to their market research efforts in gauging how their product/service may be received.\n",
    " </h5>\n",
    " <h5>\n",
    "With this context, EDSA is challenging you during the Classification Sprint with the task of creating a Machine Learning model that is able to classify whether or not a person believes in climate change, based on their novel tweet data.\n",
    "   </h5>\n",
    "<h5>\n",
    "Providing an accurate and robust solution to this task gives companies access to a broad base of consumer sentiment, spanning multiple demographic and geographic categories - thus increasing their insights and informing future marketing strategies.\n",
    "</h5>"
   ]
  },
  {
   "cell_type": "markdown",
   "id": "e6c6359c-2b4c-4839-a94b-d53e6aedc470",
   "metadata": {},
   "source": [
    "<a id=\"cont\"></a>\n",
    "\n",
    "## Table of Contents\n",
    "\n",
    "<a href=#one>1.Introduction</a>\n",
    "\n",
    "<a href=#one>2. Importing Packages</a>\n",
    "\n",
    "<a href=#two>3. Loading Data</a>\n",
    "\n",
    "<a href=#three>4. Exploratory Data Analysis (EDA)</a>\n",
    "\n",
    "<a href=#four>5. Data cleaning and Feature Engineering</a>\n",
    "\n",
    "<a href=#five>6. Modeling</a>\n",
    "\n",
    "<a href=#six>7. Model Performance</a>\n",
    "\n",
    "<a href=#seven>8. Model Explanations</a>"
   ]
  },
  {
   "cell_type": "markdown",
   "id": "b5deae69-4c04-4165-b031-6e1c31825a99",
   "metadata": {},
   "source": [
    "<h3> 1.Introduction</h3>\n"
   ]
  },
  {
   "cell_type": "markdown",
   "id": "91225184-7cf7-4872-941c-27ffa7cae905",
   "metadata": {},
   "source": [
    "NLP is the study of how computers can interprete and parse human language.\n",
    "##\n",
    "##\n",
    "#\n",
    "#"
   ]
  },
  {
   "cell_type": "markdown",
   "id": "49fb83e0-e1a2-44c1-8f11-cbf91bae6f8d",
   "metadata": {},
   "source": [
    "<h4>2.Importing Packages</h4>"
   ]
  },
  {
   "cell_type": "code",
   "execution_count": 3,
   "id": "927601b6-acee-434a-9f55-45700b01ab92",
   "metadata": {},
   "outputs": [],
   "source": [
    "import nltk\n",
    "\n",
    "import numpy as np\n",
    "import pandas as pd\n",
    "\n",
    "import matplotlib.pyplot as plt\n",
    "%matplotlib inline\n",
    "import seaborn as sns\n",
    "import re\n",
    "\n",
    "# set plot style\n",
    "sns.set()"
   ]
  },
  {
   "cell_type": "markdown",
   "id": "4a9f188c-4c23-4b44-ba01-5ea673097098",
   "metadata": {},
   "source": [
    "<h4>3.Loading Data </h4>"
   ]
  },
  {
   "cell_type": "code",
   "execution_count": 4,
   "id": "16091cd5-5a2a-40b3-940f-67d8eb1a51c3",
   "metadata": {},
   "outputs": [
    {
     "data": {
      "text/html": [
       "<div>\n",
       "<style scoped>\n",
       "    .dataframe tbody tr th:only-of-type {\n",
       "        vertical-align: middle;\n",
       "    }\n",
       "\n",
       "    .dataframe tbody tr th {\n",
       "        vertical-align: top;\n",
       "    }\n",
       "\n",
       "    .dataframe thead th {\n",
       "        text-align: right;\n",
       "    }\n",
       "</style>\n",
       "<table border=\"1\" class=\"dataframe\">\n",
       "  <thead>\n",
       "    <tr style=\"text-align: right;\">\n",
       "      <th></th>\n",
       "      <th>sentiment</th>\n",
       "      <th>message</th>\n",
       "      <th>tweetid</th>\n",
       "    </tr>\n",
       "  </thead>\n",
       "  <tbody>\n",
       "    <tr>\n",
       "      <th>0</th>\n",
       "      <td>1</td>\n",
       "      <td>PolySciMajor EPA chief doesn't think carbon di...</td>\n",
       "      <td>625221</td>\n",
       "    </tr>\n",
       "    <tr>\n",
       "      <th>1</th>\n",
       "      <td>1</td>\n",
       "      <td>It's not like we lack evidence of anthropogeni...</td>\n",
       "      <td>126103</td>\n",
       "    </tr>\n",
       "    <tr>\n",
       "      <th>2</th>\n",
       "      <td>2</td>\n",
       "      <td>RT @RawStory: Researchers say we have three ye...</td>\n",
       "      <td>698562</td>\n",
       "    </tr>\n",
       "    <tr>\n",
       "      <th>3</th>\n",
       "      <td>1</td>\n",
       "      <td>#TodayinMaker# WIRED : 2016 was a pivotal year...</td>\n",
       "      <td>573736</td>\n",
       "    </tr>\n",
       "    <tr>\n",
       "      <th>4</th>\n",
       "      <td>1</td>\n",
       "      <td>RT @SoyNovioDeTodas: It's 2016, and a racist, ...</td>\n",
       "      <td>466954</td>\n",
       "    </tr>\n",
       "  </tbody>\n",
       "</table>\n",
       "</div>"
      ],
      "text/plain": [
       "   sentiment                                            message  tweetid\n",
       "0          1  PolySciMajor EPA chief doesn't think carbon di...   625221\n",
       "1          1  It's not like we lack evidence of anthropogeni...   126103\n",
       "2          2  RT @RawStory: Researchers say we have three ye...   698562\n",
       "3          1  #TodayinMaker# WIRED : 2016 was a pivotal year...   573736\n",
       "4          1  RT @SoyNovioDeTodas: It's 2016, and a racist, ...   466954"
      ]
     },
     "execution_count": 4,
     "metadata": {},
     "output_type": "execute_result"
    }
   ],
   "source": [
    "df_train = pd.read_csv('train.csv') # load the data\n",
    "df_train.head()"
   ]
  },
  {
   "cell_type": "code",
   "execution_count": 7,
   "id": "f9844442-b287-4c2d-85ff-498beccd13e8",
   "metadata": {},
   "outputs": [
    {
     "data": {
      "text/html": [
       "<div>\n",
       "<style scoped>\n",
       "    .dataframe tbody tr th:only-of-type {\n",
       "        vertical-align: middle;\n",
       "    }\n",
       "\n",
       "    .dataframe tbody tr th {\n",
       "        vertical-align: top;\n",
       "    }\n",
       "\n",
       "    .dataframe thead th {\n",
       "        text-align: right;\n",
       "    }\n",
       "</style>\n",
       "<table border=\"1\" class=\"dataframe\">\n",
       "  <thead>\n",
       "    <tr style=\"text-align: right;\">\n",
       "      <th></th>\n",
       "      <th>sentiment</th>\n",
       "      <th>message</th>\n",
       "      <th>tweetid</th>\n",
       "    </tr>\n",
       "  </thead>\n",
       "  <tbody>\n",
       "    <tr>\n",
       "      <th>15814</th>\n",
       "      <td>1</td>\n",
       "      <td>RT @ezlusztig: They took down the material on ...</td>\n",
       "      <td>22001</td>\n",
       "    </tr>\n",
       "    <tr>\n",
       "      <th>15815</th>\n",
       "      <td>2</td>\n",
       "      <td>RT @washingtonpost: How climate change could b...</td>\n",
       "      <td>17856</td>\n",
       "    </tr>\n",
       "    <tr>\n",
       "      <th>15816</th>\n",
       "      <td>0</td>\n",
       "      <td>notiven: RT: nytimesworld :What does Trump act...</td>\n",
       "      <td>384248</td>\n",
       "    </tr>\n",
       "    <tr>\n",
       "      <th>15817</th>\n",
       "      <td>-1</td>\n",
       "      <td>RT @sara8smiles: Hey liberals the climate chan...</td>\n",
       "      <td>819732</td>\n",
       "    </tr>\n",
       "    <tr>\n",
       "      <th>15818</th>\n",
       "      <td>0</td>\n",
       "      <td>RT @Chet_Cannon: .@kurteichenwald's 'climate c...</td>\n",
       "      <td>806319</td>\n",
       "    </tr>\n",
       "  </tbody>\n",
       "</table>\n",
       "</div>"
      ],
      "text/plain": [
       "       sentiment                                            message  tweetid\n",
       "15814          1  RT @ezlusztig: They took down the material on ...    22001\n",
       "15815          2  RT @washingtonpost: How climate change could b...    17856\n",
       "15816          0  notiven: RT: nytimesworld :What does Trump act...   384248\n",
       "15817         -1  RT @sara8smiles: Hey liberals the climate chan...   819732\n",
       "15818          0  RT @Chet_Cannon: .@kurteichenwald's 'climate c...   806319"
      ]
     },
     "execution_count": 7,
     "metadata": {},
     "output_type": "execute_result"
    }
   ],
   "source": [
    "df_train.tail()"
   ]
  },
  {
   "cell_type": "markdown",
   "id": "d4aa29d8-63b6-491b-a8ad-b2c94e13cfa9",
   "metadata": {},
   "source": [
    "<h4>4.Exploratory Data Analysis</h4>"
   ]
  },
  {
   "cell_type": "code",
   "execution_count": 5,
   "id": "e805134e",
   "metadata": {
    "ExecuteTime": {
     "end_time": "2021-06-28T08:52:37.824204Z",
     "start_time": "2021-06-28T08:52:37.811206Z"
    }
   },
   "outputs": [
    {
     "data": {
      "text/html": [
       "<div>\n",
       "<style scoped>\n",
       "    .dataframe tbody tr th:only-of-type {\n",
       "        vertical-align: middle;\n",
       "    }\n",
       "\n",
       "    .dataframe tbody tr th {\n",
       "        vertical-align: top;\n",
       "    }\n",
       "\n",
       "    .dataframe thead th {\n",
       "        text-align: right;\n",
       "    }\n",
       "</style>\n",
       "<table border=\"1\" class=\"dataframe\">\n",
       "  <thead>\n",
       "    <tr style=\"text-align: right;\">\n",
       "      <th></th>\n",
       "      <th>sentiment</th>\n",
       "      <th>tweetid</th>\n",
       "    </tr>\n",
       "  </thead>\n",
       "  <tbody>\n",
       "    <tr>\n",
       "      <th>count</th>\n",
       "      <td>15819.000000</td>\n",
       "      <td>15819.000000</td>\n",
       "    </tr>\n",
       "    <tr>\n",
       "      <th>mean</th>\n",
       "      <td>0.917504</td>\n",
       "      <td>501719.433656</td>\n",
       "    </tr>\n",
       "    <tr>\n",
       "      <th>std</th>\n",
       "      <td>0.836537</td>\n",
       "      <td>289045.983132</td>\n",
       "    </tr>\n",
       "    <tr>\n",
       "      <th>min</th>\n",
       "      <td>-1.000000</td>\n",
       "      <td>6.000000</td>\n",
       "    </tr>\n",
       "    <tr>\n",
       "      <th>25%</th>\n",
       "      <td>1.000000</td>\n",
       "      <td>253207.500000</td>\n",
       "    </tr>\n",
       "    <tr>\n",
       "      <th>50%</th>\n",
       "      <td>1.000000</td>\n",
       "      <td>502291.000000</td>\n",
       "    </tr>\n",
       "    <tr>\n",
       "      <th>75%</th>\n",
       "      <td>1.000000</td>\n",
       "      <td>753769.000000</td>\n",
       "    </tr>\n",
       "    <tr>\n",
       "      <th>max</th>\n",
       "      <td>2.000000</td>\n",
       "      <td>999888.000000</td>\n",
       "    </tr>\n",
       "  </tbody>\n",
       "</table>\n",
       "</div>"
      ],
      "text/plain": [
       "          sentiment        tweetid\n",
       "count  15819.000000   15819.000000\n",
       "mean       0.917504  501719.433656\n",
       "std        0.836537  289045.983132\n",
       "min       -1.000000       6.000000\n",
       "25%        1.000000  253207.500000\n",
       "50%        1.000000  502291.000000\n",
       "75%        1.000000  753769.000000\n",
       "max        2.000000  999888.000000"
      ]
     },
     "execution_count": 5,
     "metadata": {},
     "output_type": "execute_result"
    }
   ],
   "source": [
    "# look at data statistics\n",
    "df_train.describe()"
   ]
  },
  {
   "cell_type": "code",
   "execution_count": 6,
   "id": "ae3d9e43-ca66-4a99-af9a-85aadf6828f6",
   "metadata": {},
   "outputs": [
    {
     "data": {
      "text/plain": [
       "(15819, 3)"
      ]
     },
     "execution_count": 6,
     "metadata": {},
     "output_type": "execute_result"
    }
   ],
   "source": [
    "df_train.shape"
   ]
  },
  {
   "cell_type": "markdown",
   "id": "75961494-c9fb-48cf-82bb-2fb7f4660dc5",
   "metadata": {},
   "source": [
    "the given dataset consist of 15819 raws and 3 three columns which are the sentiment,tweetid and messages"
   ]
  },
  {
   "cell_type": "code",
   "execution_count": 7,
   "id": "483fa2c9-a767-4398-88b4-d62397f9bc26",
   "metadata": {},
   "outputs": [
    {
     "name": "stdout",
     "output_type": "stream",
     "text": [
      "<class 'pandas.core.frame.DataFrame'>\n",
      "RangeIndex: 15819 entries, 0 to 15818\n",
      "Data columns (total 3 columns):\n",
      " #   Column     Non-Null Count  Dtype \n",
      "---  ------     --------------  ----- \n",
      " 0   sentiment  15819 non-null  int64 \n",
      " 1   message    15819 non-null  object\n",
      " 2   tweetid    15819 non-null  int64 \n",
      "dtypes: int64(2), object(1)\n",
      "memory usage: 370.9+ KB\n"
     ]
    }
   ],
   "source": [
    "df_train.info()"
   ]
  },
  {
   "cell_type": "markdown",
   "id": "f4b957d1-c5bc-4998-b514-0e81e62e50fe",
   "metadata": {},
   "source": [
    "we have one categorical feature in the given dataset "
   ]
  },
  {
   "cell_type": "code",
   "execution_count": 8,
   "id": "30f9a007-f8fc-496d-83db-51bdee5d672d",
   "metadata": {},
   "outputs": [
    {
     "data": {
      "text/plain": [
       "sentiment    0\n",
       "message      0\n",
       "tweetid      0\n",
       "dtype: int64"
      ]
     },
     "execution_count": 8,
     "metadata": {},
     "output_type": "execute_result"
    }
   ],
   "source": [
    "#checking null values for the entire dataset\n",
    "df_train.isnull().sum()"
   ]
  },
  {
   "cell_type": "code",
   "execution_count": null,
   "id": "c0235f12-8e66-4ce8-9c1b-df1672affdea",
   "metadata": {},
   "outputs": [],
   "source": [
    "#checking nulls for each feature\n"
   ]
  },
  {
   "cell_type": "code",
   "execution_count": null,
   "id": "ad90c2d1-684e-4596-99a4-51110c088bf7",
   "metadata": {},
   "outputs": [
    {
     "data": {
      "text/plain": [
       "0"
      ]
     },
     "execution_count": 18,
     "metadata": {},
     "output_type": "execute_result"
    }
   ],
   "source": [
    "df_train['sentiment'].isnull().sum()"
   ]
  },
  {
   "cell_type": "code",
   "execution_count": null,
   "id": "e293ffed-a4d6-4546-a295-1dd5a84465c5",
   "metadata": {},
   "outputs": [
    {
     "data": {
      "text/plain": [
       "0"
      ]
     },
     "execution_count": 19,
     "metadata": {},
     "output_type": "execute_result"
    }
   ],
   "source": [
    "df_train['message'].isnull().sum()"
   ]
  },
  {
   "cell_type": "code",
   "execution_count": null,
   "id": "3e107a0f-fc27-451a-bdf0-2174a1739785",
   "metadata": {},
   "outputs": [
    {
     "data": {
      "text/plain": [
       "0"
      ]
     },
     "execution_count": 20,
     "metadata": {},
     "output_type": "execute_result"
    }
   ],
   "source": [
    "df_train['tweetid'].isnull().sum()"
   ]
  },
  {
   "cell_type": "markdown",
   "id": "5eeb7ae4-fb24-4e1f-bbce-24d12a84a430",
   "metadata": {},
   "source": [
    "there are no null values in our given dataset"
   ]
  },
  {
   "cell_type": "code",
   "execution_count": 36,
   "id": "d4ebb115-57ea-4cbf-b5dc-65bf1e611ecd",
   "metadata": {},
   "outputs": [
    {
     "data": {
      "text/plain": [
       "sentiment    0\n",
       "message      0\n",
       "tweetid      0\n",
       "dtype: int64"
      ]
     },
     "execution_count": 36,
     "metadata": {},
     "output_type": "execute_result"
    }
   ],
   "source": [
    "#checking duplicates for the entire dataset\n",
    "df_train.isnull().sum()\n"
   ]
  },
  {
   "cell_type": "code",
   "execution_count": null,
   "id": "952ebfe8-aaef-4b2c-ad6d-115a95b4a644",
   "metadata": {},
   "outputs": [],
   "source": [
    "#checking duplicates for each feature"
   ]
  },
  {
   "cell_type": "code",
   "execution_count": 22,
   "id": "b4cb2011-49e2-48ff-8155-1442cd83b653",
   "metadata": {},
   "outputs": [
    {
     "data": {
      "text/plain": [
       "15815"
      ]
     },
     "execution_count": 22,
     "metadata": {},
     "output_type": "execute_result"
    }
   ],
   "source": [
    "df_train['sentiment'].duplicated().sum()"
   ]
  },
  {
   "cell_type": "code",
   "execution_count": 23,
   "id": "431c56a8-9d0b-48f5-b70a-feb11974eccd",
   "metadata": {},
   "outputs": [
    {
     "data": {
      "text/plain": [
       "1590"
      ]
     },
     "execution_count": 23,
     "metadata": {},
     "output_type": "execute_result"
    }
   ],
   "source": [
    "df_train['message'].duplicated().sum()"
   ]
  },
  {
   "cell_type": "code",
   "execution_count": 24,
   "id": "2b5a4d30-9b60-43eb-9de4-20cddf91bf59",
   "metadata": {},
   "outputs": [
    {
     "data": {
      "text/plain": [
       "0"
      ]
     },
     "execution_count": 24,
     "metadata": {},
     "output_type": "execute_result"
    }
   ],
   "source": [
    "df_train['tweetid'].duplicated().sum()"
   ]
  },
  {
   "cell_type": "markdown",
   "id": "e9dd5374-8b18-4d50-bd32-a63bcb616e8d",
   "metadata": {},
   "source": [
    "from checking for duplicates, we observed that there are 15815 duplicates in the sentiment feature and \n",
    "that cannot be classified as a problem since our data is based on the the numbers that represent only \n",
    "four categories so  the repetition of the unique values cannot be regarded as redundancy\n",
    "\n",
    "And there are also similar messages coming from different people hence the count of 1590 duplicate messages with 0 duplicates in the tweetid "
   ]
  },
  {
   "cell_type": "code",
   "execution_count": 25,
   "id": "1cd94799-f442-4836-87dc-8ea9910e553d",
   "metadata": {},
   "outputs": [],
   "source": [
    "#checking for unique values in each feature\n"
   ]
  },
  {
   "cell_type": "code",
   "execution_count": 26,
   "id": "47f0b0f2-9940-4071-9e78-f8bc8b07f275",
   "metadata": {},
   "outputs": [
    {
     "data": {
      "text/plain": [
       "array([ 1,  2,  0, -1], dtype=int64)"
      ]
     },
     "execution_count": 26,
     "metadata": {},
     "output_type": "execute_result"
    }
   ],
   "source": [
    "df_train['sentiment'].unique()"
   ]
  },
  {
   "cell_type": "code",
   "execution_count": 32,
   "id": "edf1d434-946a-4588-b528-3c70e440a367",
   "metadata": {},
   "outputs": [
    {
     "data": {
      "text/plain": [
       "array([\"PolySciMajor EPA chief doesn't think carbon dioxide is main cause of global warming and.. wait, what!? https://t.co/yeLvcEFXkC via @mashable\",\n",
       "       \"It's not like we lack evidence of anthropogenic global warming\",\n",
       "       'RT @RawStory: Researchers say we have three years to act on climate change before it’s too late https://t.co/WdT0KdUr2f https://t.co/Z0ANPT…',\n",
       "       ...,\n",
       "       'notiven: RT: nytimesworld :What does Trump actually believe about climate change? Rick Perry joins other aides in … https://t.co/0Mp2',\n",
       "       'RT @sara8smiles: Hey liberals the climate change crap is a hoax that ties to #Agenda2030.\\nThe Climate is Being Changed byÃ¢â‚¬Â¦',\n",
       "       \"RT @Chet_Cannon: .@kurteichenwald's 'climate change equation' in 4 screenshots https://t.co/lp7UufcxDQ\"],\n",
       "      dtype=object)"
      ]
     },
     "execution_count": 32,
     "metadata": {},
     "output_type": "execute_result"
    }
   ],
   "source": [
    "df_train['message'].unique()"
   ]
  },
  {
   "cell_type": "code",
   "execution_count": 33,
   "id": "ba409b3c-f9d4-4220-a5f9-921c4e0e72cb",
   "metadata": {},
   "outputs": [
    {
     "data": {
      "text/plain": [
       "array([625221, 126103, 698562, ..., 384248, 819732, 806319], dtype=int64)"
      ]
     },
     "execution_count": 33,
     "metadata": {},
     "output_type": "execute_result"
    }
   ],
   "source": [
    "df_train['tweetid'].unique()"
   ]
  },
  {
   "cell_type": "markdown",
   "id": "832c13f4-0005-4640-ab59-68985a2447f5",
   "metadata": {},
   "source": [
    "  "
   ]
  },
  {
   "cell_type": "code",
   "execution_count": null,
   "id": "c5ac0f4b-9266-45d0-80a0-76f0ba5a644d",
   "metadata": {},
   "outputs": [],
   "source": [
    "\n",
    "\n",
    "\n"
   ]
  },
  {
   "cell_type": "markdown",
   "id": "c9f7a0ef-cf73-4626-8588-015f09c0d72e",
   "metadata": {},
   "source": [
    "Plots"
   ]
  },
  {
   "cell_type": "markdown",
   "id": "9ff97c01-3a12-427c-956a-3d997f009010",
   "metadata": {},
   "source": [
    "Class Description\n",
    "* 2 News: the tweet links to factual news about climate change\n",
    "* 1 Pro: the tweet supports the belief of man-made climate change\n",
    "* 0 Neutral: the tweet neither supports nor refutes the belief of man-made climate change\n",
    "* -1 Anti: the tweet does not believe in man-made climate change\n"
   ]
  },
  {
   "cell_type": "code",
   "execution_count": 47,
   "id": "9c83cbee-8699-4fa3-abb3-57f51ba39ccf",
   "metadata": {},
   "outputs": [
    {
     "name": "stdout",
     "output_type": "stream",
     "text": [
      "Percentage contribution:\n",
      "  1    53.922498\n",
      " 2    23.010304\n",
      " 0    14.874518\n",
      "-1     8.192680\n",
      "Name: sentiment, dtype: float64\n"
     ]
    },
    {
     "data": {
      "text/plain": [
       "None"
      ]
     },
     "metadata": {},
     "output_type": "display_data"
    }
   ],
   "source": [
    "#checking the percentage distribution of each category\n",
    "display(print(\"Percentage contribution:\\n\",df_train.sentiment.value_counts(normalize=True)*100))\n",
    "\n"
   ]
  },
  {
   "cell_type": "code",
   "execution_count": 64,
   "id": "92375f7c-54f6-49cc-8dd8-49ee86529749",
   "metadata": {},
   "outputs": [
    {
     "data": {
      "image/png": "[encoded data removed]",
      "text/plain": [
       "<Figure size 720x504 with 1 Axes>"
      ]
     },
     "metadata": {},
     "output_type": "display_data"
    }
   ],
   "source": [
    "#Creating count plot for the sentiments\n",
    "sns.set(rc={'figure.figsize':(10,7)})\n",
    "ax=sns.countplot(x=df_train['sentiment'], data=df_train)\n",
    "plt.title(\"count vs sentiments plot\")\n",
    "plt.show()"
   ]
  },
  {
   "cell_type": "markdown",
   "id": "755c2458-435e-4710-9299-43a4aa32db72",
   "metadata": {},
   "source": [
    "from the percentage contribution and the plot it can be abserved that Pro(the tweets that  supports the belief of man-made climate change) contribute more than 50% followed by The News with 23% of those that neither support or refute the belief of man made climate change.\n",
    "Also few people who does not believe in man made climate change.\n",
    "\n",
    "From all this we can infer that there is an imbalance in the classess that need to be dealt with before modelling"
   ]
  },
  {
   "cell_type": "markdown",
   "id": "b98ef7c2-bdd6-47dd-a0b7-2666991f79e6",
   "metadata": {},
   "source": [
    "<h4>5.Data cleaning and Feature Engineering</h4>"
   ]
  },
  {
   "cell_type": "code",
   "execution_count": null,
   "id": "bd074032-7d63-47ee-8419-6e9f1cb8bc35",
   "metadata": {},
   "outputs": [],
   "source": [
    "#first we convert text data to numeric "
   ]
  },
  {
   "cell_type": "code",
   "execution_count": null,
   "id": "cca12571-2881-40e6-9e5d-12f8eaa860e0",
   "metadata": {},
   "outputs": [],
   "source": []
  }
 ],
 "metadata": {
  "kernelspec": {
   "display_name": "Python 3 (ipykernel)",
   "language": "python",
   "name": "python3"
  },
  "language_info": {
   "codemirror_mode": {
    "name": "ipython",
    "version": 3
   },
   "file_extension": ".py",
   "mimetype": "text/x-python",
   "name": "python",
   "nbconvert_exporter": "python",
   "pygments_lexer": "ipython3",
   "version": "3.9.7"
  }
 },
 "nbformat": 4,
 "nbformat_minor": 5
}
