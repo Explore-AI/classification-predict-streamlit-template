{
 "cells": [
  {
   "attachments": {},
   "cell_type": "markdown",
   "id": "13038491",
   "metadata": {},
   "source": [
    "# CLIMATE CHANGE TWEET CLASSIFICATION"
   ]
  },
  {
   "attachments": {},
   "cell_type": "markdown",
   "id": "18507453",
   "metadata": {},
   "source": [
    "Lumina Datamatics"
   ]
  },
  {
   "attachments": {},
   "cell_type": "markdown",
   "id": "5fd77c07",
   "metadata": {},
   "source": [
    "Team Members\n"
   ]
  },
  {
   "attachments": {},
   "cell_type": "markdown",
   "id": "510f9ef0",
   "metadata": {},
   "source": [
    "\n",
    "Abidence\n",
    "\n",
    "Ayanda\n",
    "\n",
    "Emmanuel \n",
    "\n",
    "Mathapelo\n",
    "\n",
    "Mpho\n",
    "\n",
    "Nyiko\n",
    "\n",
    "Tshepo"
   ]
  },
  {
   "attachments": {},
   "cell_type": "markdown",
   "id": "317b3c74",
   "metadata": {},
   "source": [
    "Importing the data"
   ]
  }
 ],
 "metadata": {
  "kernelspec": {
   "display_name": "Python 3 (ipykernel)",
   "language": "python",
   "name": "python3"
  },
  "language_info": {
   "codemirror_mode": {
    "name": "ipython",
    "version": 3
   },
   "file_extension": ".py",
   "mimetype": "text/x-python",
   "name": "python",
   "nbconvert_exporter": "python",
   "pygments_lexer": "ipython3",
   "version": "3.11.4"
  }
 },
 "nbformat": 4,
 "nbformat_minor": 5
}
